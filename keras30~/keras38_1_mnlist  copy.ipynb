{
 "cells": [
  {
   "cell_type": "code",
   "execution_count": 2,
   "metadata": {},
   "outputs": [],
   "source": [
    "import numpy as np\n",
    "from tensorflow.keras.models import Sequential\n",
    "from tensorflow.keras.layers import Dense,Conv2D,Flatten,Dropout,MaxPooling2D\n",
    "from tensorflow.keras.datasets import mnist\n",
    "\n",
    "# 이미 훈련과 테스트가 분리된 데이터임\n",
    "(x_train,y_train),(x_test,y_test) = mnist.load_data()"
   ]
  },
  {
   "cell_type": "code",
   "execution_count": 3,
   "metadata": {},
   "outputs": [
    {
     "name": "stdout",
     "output_type": "stream",
     "text": [
      "train (60000, 28, 28) (60000,)\n",
      "test (10000, 28, 28) (10000,)\n"
     ]
    }
   ],
   "source": [
    "# 데이터의 크기 확인\n",
    "# 28X28X1 = 흑백데이터다~\n",
    "print(\"train\",x_train.shape,y_train.shape)\n",
    "print(\"test\",x_test.shape,y_test.shape)"
   ]
  },
  {
   "cell_type": "code",
   "execution_count": 4,
   "metadata": {},
   "outputs": [],
   "source": [
    "# 크기변경\n",
    "x_train = x_train.reshape(60000, 28, 28, 1)\n",
    "x_test = x_test.reshape(10000, 28, 28, 1)"
   ]
  },
  {
   "cell_type": "code",
   "execution_count": 5,
   "metadata": {},
   "outputs": [
    {
     "name": "stdout",
     "output_type": "stream",
     "text": [
      "[0 1 2 3 4 5 6 7 8 9]\n",
      "[5923 6742 5958 6131 5842 5421 5918 6265 5851 5949]\n"
     ]
    }
   ],
   "source": [
    "# y의 클래스 보기\n",
    "a,b = np.unique(y_train,return_counts=1)\n",
    "# print(np.unique(y_train,return_counts=1))\n",
    "print(a)\n",
    "print(b)"
   ]
  },
  {
   "cell_type": "code",
   "execution_count": 6,
   "metadata": {},
   "outputs": [
    {
     "data": {
      "text/plain": [
       "<matplotlib.image.AxesImage at 0x1863e6e88e0>"
      ]
     },
     "execution_count": 6,
     "metadata": {},
     "output_type": "execute_result"
    },
    {
     "data": {
      "image/png": "[encoded data removed]",
      "text/plain": [
       "<Figure size 640x480 with 1 Axes>"
      ]
     },
     "metadata": {},
     "output_type": "display_data"
    }
   ],
   "source": [
    "# 이미지 시각화\n",
    "import matplotlib.pyplot as plt\n",
    "plt.imshow(x_train[0],\"gray\")"
   ]
  },
  {
   "cell_type": "code",
   "execution_count": 7,
   "metadata": {},
   "outputs": [
    {
     "name": "stdout",
     "output_type": "stream",
     "text": [
      "Model: \"model\"\n",
      "_________________________________________________________________\n",
      " Layer (type)                Output Shape              Param #   \n",
      "=================================================================\n",
      " input_1 (InputLayer)        [(None, 28, 28, 1)]       0         \n",
      "                                                                 \n",
      " conv2d (Conv2D)             (None, 26, 26, 64)        640       \n",
      "                                                                 \n",
      " conv2d_1 (Conv2D)           (None, 24, 24, 64)        36928     \n",
      "                                                                 \n",
      " max_pooling2d (MaxPooling2D  (None, 12, 12, 64)       0         \n",
      " )                                                               \n",
      "                                                                 \n",
      " flatten (Flatten)           (None, 9216)              0         \n",
      "                                                                 \n",
      " dense (Dense)               (None, 16)                147472    \n",
      "                                                                 \n",
      " dense_1 (Dense)             (None, 10)                170       \n",
      "                                                                 \n",
      "=================================================================\n",
      "Total params: 185,210\n",
      "Trainable params: 185,210\n",
      "Non-trainable params: 0\n",
      "_________________________________________________________________\n"
     ]
    }
   ],
   "source": [
    "# 모델\n",
    "from tensorflow.keras.models import Model\n",
    "from tensorflow.keras.layers import Input\n",
    "rate = 0.2\n",
    "# model = Sequential([\n",
    "#     # 5X5 이미지 채널 1개 \n",
    "#     # 필터 = output 노드수 \n",
    "#     # 자르는 필터는 2X2 사이즈 \n",
    "#     Conv2D(filters=64,kernel_size=(3,3),input_shape=(28,28,1),activation=\"relu\"),\n",
    "#     Conv2D(filters=64,kernel_size=(3,3),activation=\"relu\"),   \n",
    "#     MaxPooling2D(2,2),\n",
    "\n",
    "#     Flatten(),\n",
    "#     Dense(16,activation=\"relu\"),\n",
    "#     Dense(10,activation=\"softmax\")\n",
    "# ])\n",
    "\n",
    "input1 = Input(shape=(28,28,1))\n",
    "dense1 = Conv2D(filters=64,kernel_size=(3,3),activation=\"relu\")(input1)\n",
    "dense2 = Conv2D(filters=64,kernel_size=(3,3),activation=\"relu\")(dense1)\n",
    "dense3 = MaxPooling2D(2,2)(dense2)\n",
    "dense4 = Flatten()(dense3)\n",
    "dense5 =  Dense(16,activation=\"relu\")(dense4)\n",
    "output1 = Dense(10,activation=\"softmax\")(dense5)\n",
    "\n",
    "model=Model(inputs=input1,outputs=output1)\n",
    "\n",
    "\n",
    "\n",
    "model.summary()"
   ]
  },
  {
   "cell_type": "code",
   "execution_count": 8,
   "metadata": {},
   "outputs": [],
   "source": [
    "model.compile(loss=\"sparse_categorical_crossentropy\",optimizer=\"adam\",metrics=[\"acc\"])"
   ]
  },
  {
   "cell_type": "code",
   "execution_count": 11,
   "metadata": {},
   "outputs": [
    {
     "name": "stdout",
     "output_type": "stream",
     "text": [
      "Epoch 1/8\n",
      "750/750 [==============================] - 4s 5ms/step - loss: 0.0336 - acc: 0.9893 - val_loss: 0.1079 - val_acc: 0.9774\n",
      "Epoch 2/8\n",
      "750/750 [==============================] - 4s 5ms/step - loss: 0.0306 - acc: 0.9904 - val_loss: 0.1504 - val_acc: 0.9697\n",
      "Epoch 3/8\n",
      "750/750 [==============================] - 4s 5ms/step - loss: 0.0276 - acc: 0.9917 - val_loss: 0.1132 - val_acc: 0.9760\n",
      "Epoch 4/8\n",
      "750/750 [==============================] - 4s 5ms/step - loss: 0.0275 - acc: 0.9916 - val_loss: 0.1383 - val_acc: 0.9745\n",
      "Epoch 5/8\n",
      "750/750 [==============================] - 4s 5ms/step - loss: 0.0223 - acc: 0.9927 - val_loss: 0.1346 - val_acc: 0.9772\n",
      "Epoch 6/8\n",
      "750/750 [==============================] - 4s 5ms/step - loss: 0.0192 - acc: 0.9937 - val_loss: 0.1314 - val_acc: 0.9793\n",
      "Epoch 7/8\n",
      "750/750 [==============================] - 4s 5ms/step - loss: 0.0173 - acc: 0.9943 - val_loss: 0.1471 - val_acc: 0.9771\n",
      "Epoch 8/8\n",
      "750/750 [==============================] - 4s 5ms/step - loss: 0.0209 - acc: 0.9940 - val_loss: 0.1465 - val_acc: 0.9750\n"
     ]
    }
   ],
   "source": [
    "from tensorflow.keras.callbacks import EarlyStopping,ModelCheckpoint\n",
    "\n",
    "# earlyStopping = EarlyStopping(monitor=\"val_loss\",\n",
    "#                               mode=\"min\",patience =10,\n",
    "#                               # True 면 좋았던 웨이트로 복원됨\n",
    "#                               # False 면 마지막 웨이트로 놔둠..\n",
    "#                               restore_best_weights=True,\n",
    "#                               verbose=1                              \n",
    "#                               )\n",
    "# 모델체크포인트는 가장 낮은 val_loss 가 갱신 될 떄 마다 저장합니다.\n",
    "\n",
    "# mcp = ModelCheckpoint(\n",
    "#     monitor=\"val_loss\",\n",
    "#     mode=\"auto\",\n",
    "#     save_best_only=True,\n",
    "#     filepath= \"mnlist.h5\",\n",
    "#     verbose=1 \n",
    "# )\n",
    "                    \n",
    "\n",
    "hist = model.fit(\n",
    "                x_train,\n",
    "                y_train,\n",
    "                epochs=8,\n",
    "                batch_size=64,\n",
    "                validation_split=0.2,\n",
    "                verbose=1,\n",
    "                # callbacks = [earlyStopping,mcp],      \n",
    "                )"
   ]
  },
  {
   "cell_type": "code",
   "execution_count": 10,
   "metadata": {},
   "outputs": [
    {
     "name": "stdout",
     "output_type": "stream",
     "text": [
      "313/313 [==============================] - 1s 3ms/step - loss: 0.1276 - acc: 0.9673\n",
      "loss :  0.12758882343769073\n",
      "acc :  0.9672999978065491\n"
     ]
    }
   ],
   "source": [
    "loss,acc = model.evaluate(x_test,y_test)\n",
    "print(\"loss : \",loss)\n",
    "print(\"acc : \",acc)\n"
   ]
  }
 ],
 "metadata": {
  "kernelspec": {
   "display_name": "tf274gpu",
   "language": "python",
   "name": "python3"
  },
  "language_info": {
   "codemirror_mode": {
    "name": "ipython",
    "version": 3
   },
   "file_extension": ".py",
   "mimetype": "text/x-python",
   "name": "python",
   "nbconvert_exporter": "python",
   "pygments_lexer": "ipython3",
   "version": "3.9.15 (main, Nov 24 2022, 14:39:17) [MSC v.1916 64 bit (AMD64)]"
  },
  "orig_nbformat": 4,
  "vscode": {
   "interpreter": {
    "hash": "10848e9bd3f5e7d93542d388001135334854454e7336dcf54c4ef52885ee0fb0"
   }
  }
 },
 "nbformat": 4,
 "nbformat_minor": 2
}
