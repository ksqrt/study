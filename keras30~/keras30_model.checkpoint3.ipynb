{
 "cells": [
  {
   "cell_type": "code",
   "execution_count": 55,
   "metadata": {},
   "outputs": [
    {
     "name": "stderr",
     "output_type": "stream",
     "text": [
      "c:\\Users\\bitcamp\\anaconda3\\envs\\tf274gpu\\lib\\site-packages\\sklearn\\utils\\deprecation.py:87: FutureWarning: Function load_boston is deprecated; `load_boston` is deprecated in 1.0 and will be removed in 1.2.\n",
      "\n",
      "    The Boston housing prices dataset has an ethical problem. You can refer to\n",
      "    the documentation of this function for further details.\n",
      "\n",
      "    The scikit-learn maintainers therefore strongly discourage the use of this\n",
      "    dataset unless the purpose of the code is to study and educate about\n",
      "    ethical issues in data science and machine learning.\n",
      "\n",
      "    In this special case, you can fetch the dataset from the original\n",
      "    source::\n",
      "\n",
      "        import pandas as pd\n",
      "        import numpy as np\n",
      "\n",
      "        data_url = \"http://lib.stat.cmu.edu/datasets/boston\"\n",
      "        raw_df = pd.read_csv(data_url, sep=\"\\s+\", skiprows=22, header=None)\n",
      "        data = np.hstack([raw_df.values[::2, :], raw_df.values[1::2, :2]])\n",
      "        target = raw_df.values[1::2, 2]\n",
      "\n",
      "    Alternative datasets include the California housing dataset (i.e.\n",
      "    :func:`~sklearn.datasets.fetch_california_housing`) and the Ames housing\n",
      "    dataset. You can load the datasets as follows::\n",
      "\n",
      "        from sklearn.datasets import fetch_california_housing\n",
      "        housing = fetch_california_housing()\n",
      "\n",
      "    for the California housing dataset and::\n",
      "\n",
      "        from sklearn.datasets import fetch_openml\n",
      "        housing = fetch_openml(name=\"house_prices\", as_frame=True)\n",
      "\n",
      "    for the Ames housing dataset.\n",
      "  warnings.warn(msg, category=FutureWarning)\n"
     ]
    }
   ],
   "source": [
    "from sklearn.datasets import load_boston\n",
    "import numpy as np\n",
    "import pandas as pd\n",
    "import tensorflow as tf\n",
    "from tensorflow.keras.models import Sequential,Model,load_model\n",
    "from tensorflow.keras.layers import Dense\n",
    "from sklearn.model_selection import train_test_split\n",
    "from sklearn.preprocessing import MinMaxScaler,StandardScaler\n",
    "import sklearn as sk\n",
    "dataset = load_boston()"
   ]
  },
  {
   "cell_type": "code",
   "execution_count": 56,
   "metadata": {},
   "outputs": [],
   "source": [
    "x = dataset.data\n",
    "y = dataset.target\n",
    "x= pd.DataFrame(x)\n",
    "# print(\"x 최솟값 : \",np.min(x))\n",
    "# print(\"x 최댓값 : \",np.max(x))"
   ]
  },
  {
   "cell_type": "code",
   "execution_count": 57,
   "metadata": {},
   "outputs": [
    {
     "name": "stdout",
     "output_type": "stream",
     "text": [
      "x 최솟값 :  -3.9071933049810337\n",
      "x 최댓값 :  9.933930601860268\n"
     ]
    }
   ],
   "source": [
    "# 스케일링 하기\n",
    "scaler = StandardScaler()\n",
    "# 가중치 생성후\n",
    "scaler.fit(x)\n",
    "# 변환\n",
    "x = scaler.transform(x)\n",
    "print(\"x 최솟값 : \",np.min(x))\n",
    "print(\"x 최댓값 : \",np.max(x))"
   ]
  },
  {
   "cell_type": "code",
   "execution_count": 58,
   "metadata": {},
   "outputs": [
    {
     "name": "stdout",
     "output_type": "stream",
     "text": [
      "354\n",
      "152\n"
     ]
    }
   ],
   "source": [
    "# 3. 모델구성\n",
    "# 실습 train 0.7 이상\n",
    "# 평가지표 R2 : 0.8 이상으로 뽑아내보기 / RMSE 사용\n",
    "\n",
    "x_train, x_test,y_train,y_test = train_test_split(x,y,\n",
    "    train_size=0.7,\n",
    "    shuffle = True,\n",
    "    random_state= 123\n",
    ")\n",
    "\n",
    "print(len(x_train))\n",
    "print(len(x_test))"
   ]
  },
  {
   "cell_type": "code",
   "execution_count": 59,
   "metadata": {},
   "outputs": [
    {
     "name": "stdout",
     "output_type": "stream",
     "text": [
      "(506, 13)\n",
      "(506,)\n"
     ]
    }
   ],
   "source": [
    "# 13개의 칼럼 을 가지고있는 데이터를 조회합니다\n",
    "print(x.shape) #(506,13)\n",
    "# print(x)\n",
    "print(y.shape) #(506,)\n",
    "# print(y)\n"
   ]
  },
  {
   "cell_type": "code",
   "execution_count": 60,
   "metadata": {},
   "outputs": [
    {
     "name": "stdout",
     "output_type": "stream",
     "text": [
      "['CRIM' 'ZN' 'INDUS' 'CHAS' 'NOX' 'RM' 'AGE' 'DIS' 'RAD' 'TAX' 'PTRATIO'\n",
      " 'B' 'LSTAT']\n",
      "13\n"
     ]
    }
   ],
   "source": [
    "# 사이킥 런의 칼럼 조회기능\n",
    "print(dataset.feature_names)\n",
    "print(len(dataset.feature_names))\n"
   ]
  },
  {
   "cell_type": "code",
   "execution_count": 61,
   "metadata": {},
   "outputs": [],
   "source": [
    "# 사이킥런의 데이터 요약\n",
    "# print(dataset.DESCR)"
   ]
  },
  {
   "cell_type": "code",
   "execution_count": 62,
   "metadata": {},
   "outputs": [
    {
     "name": "stdout",
     "output_type": "stream",
     "text": [
      "354\n",
      "152\n"
     ]
    }
   ],
   "source": [
    "# 3. 모델구성\n",
    "# 실습 train 0.7 이상\n",
    "# 평가지표 R2 : 0.8 이상으로 뽑아내보기 / RMSE 사용\n",
    "\n",
    "x_train, x_test,y_train,y_test = train_test_split(x,y,\n",
    "    train_size=0.7,\n",
    "    shuffle = True,\n",
    "    random_state= 123\n",
    ")\n",
    "\n",
    "scaler = MinMaxScaler()\n",
    "# 가중치 생성후\n",
    "scaler.fit(x_train)\n",
    "# x_train 의 가중치 변환\n",
    "x_train = scaler.transform(x_train)\n",
    "# x_test 는 변환만 !\n",
    "x_test = scaler.transform(x_test)\n",
    "\n",
    "print(len(x_train))\n",
    "print(len(x_test))"
   ]
  },
  {
   "cell_type": "code",
   "execution_count": 63,
   "metadata": {},
   "outputs": [
    {
     "name": "stdout",
     "output_type": "stream",
     "text": [
      "Model: \"sequential_3\"\n",
      "_________________________________________________________________\n",
      " Layer (type)                Output Shape              Param #   \n",
      "=================================================================\n",
      " dense_18 (Dense)            (None, 50)                700       \n",
      "                                                                 \n",
      " dense_19 (Dense)            (None, 50)                2550      \n",
      "                                                                 \n",
      " dense_20 (Dense)            (None, 50)                2550      \n",
      "                                                                 \n",
      " dense_21 (Dense)            (None, 50)                2550      \n",
      "                                                                 \n",
      " dense_22 (Dense)            (None, 50)                2550      \n",
      "                                                                 \n",
      " dense_23 (Dense)            (None, 1)                 51        \n",
      "                                                                 \n",
      "=================================================================\n",
      "Total params: 10,951\n",
      "Trainable params: 10,951\n",
      "Non-trainable params: 0\n",
      "_________________________________________________________________\n"
     ]
    }
   ],
   "source": [
    "from tensorflow.keras.models import Sequential,Model\n",
    "from tensorflow.keras.layers import Dense,Input\n",
    "# path = \"../_save/\"\n",
    "# model = load_model(path+\"MCP/keras30_ModelCheckPoint1.hdf5\")\n",
    "\n",
    "model = Sequential([\n",
    "    Dense(50,input_dim=13,activation=\"relu\"),\n",
    "    Dense(50,activation=\"relu\"),\n",
    "    Dense(50,activation=\"relu\"),\n",
    "    Dense(50,activation=\"relu\"),\n",
    "    Dense(50,activation=\"relu\"),\n",
    "    Dense(1)\n",
    "])\n",
    "\n",
    "\n",
    "# # 3. 모델구성 함수형\n",
    "# input1 = Input(shape=(13,))\n",
    "# dense1 = Dense(32,activation=\"relu\")(input1)\n",
    "# dense2 = Dense(64,activation=\"relu\")(dense1)\n",
    "# dense3 = Dense(128,activation=\"relu\")(dense2)\n",
    "# dense4 = Dense(64,activation=\"relu\")(dense3)\n",
    "# dense5 = Dense(32,activation=\"relu\")(dense4)\n",
    "# output1 = Dense(1,activation=\"relu\")(dense5)\n",
    "\n",
    "# model=Model(inputs=input1,outputs=output1)\n",
    "\n",
    "model.summary()"
   ]
  },
  {
   "cell_type": "code",
   "execution_count": 64,
   "metadata": {},
   "outputs": [
    {
     "name": "stdout",
     "output_type": "stream",
     "text": [
      "Epoch 1/100\n",
      "94/95 [============================>.] - ETA: 0s - loss: 250.0693\n",
      "Epoch 00001: val_loss improved from inf to 82.21288, saving model to ../_save/MCP\\keras30_ModelCheckPoint3.hdf5\n",
      "95/95 [==============================] - 1s 4ms/step - loss: 250.5846 - val_loss: 82.2129\n",
      "Epoch 2/100\n",
      "83/95 [=========================>....] - ETA: 0s - loss: 62.2654\n",
      "Epoch 00002: val_loss improved from 82.21288 to 33.83982, saving model to ../_save/MCP\\keras30_ModelCheckPoint3.hdf5\n",
      "95/95 [==============================] - 0s 4ms/step - loss: 61.1585 - val_loss: 33.8398\n",
      "Epoch 3/100\n",
      "94/95 [============================>.] - ETA: 0s - loss: 37.4990\n",
      "Epoch 00003: val_loss improved from 33.83982 to 26.25082, saving model to ../_save/MCP\\keras30_ModelCheckPoint3.hdf5\n",
      "95/95 [==============================] - 0s 4ms/step - loss: 37.4235 - val_loss: 26.2508\n",
      "Epoch 4/100\n",
      "79/95 [=======================>......] - ETA: 0s - loss: 26.6638\n",
      "Epoch 00004: val_loss improved from 26.25082 to 23.85772, saving model to ../_save/MCP\\keras30_ModelCheckPoint3.hdf5\n",
      "95/95 [==============================] - 0s 3ms/step - loss: 28.3749 - val_loss: 23.8577\n",
      "Epoch 5/100\n",
      "81/95 [========================>.....] - ETA: 0s - loss: 24.6240\n",
      "Epoch 00005: val_loss improved from 23.85772 to 19.56057, saving model to ../_save/MCP\\keras30_ModelCheckPoint3.hdf5\n",
      "95/95 [==============================] - 0s 3ms/step - loss: 22.9693 - val_loss: 19.5606\n",
      "Epoch 6/100\n",
      "86/95 [==========================>...] - ETA: 0s - loss: 19.6743\n",
      "Epoch 00006: val_loss did not improve from 19.56057\n",
      "95/95 [==============================] - 0s 3ms/step - loss: 19.3386 - val_loss: 19.6917\n",
      "Epoch 7/100\n",
      "84/95 [=========================>....] - ETA: 0s - loss: 21.1395\n",
      "Epoch 00007: val_loss did not improve from 19.56057\n",
      "95/95 [==============================] - 0s 4ms/step - loss: 20.1042 - val_loss: 22.6301\n",
      "Epoch 8/100\n",
      "78/95 [=======================>......] - ETA: 0s - loss: 19.6626\n",
      "Epoch 00008: val_loss improved from 19.56057 to 18.36746, saving model to ../_save/MCP\\keras30_ModelCheckPoint3.hdf5\n",
      "95/95 [==============================] - 0s 3ms/step - loss: 17.9215 - val_loss: 18.3675\n",
      "Epoch 9/100\n",
      "88/95 [==========================>...] - ETA: 0s - loss: 16.9901\n",
      "Epoch 00009: val_loss did not improve from 18.36746\n",
      "95/95 [==============================] - 0s 3ms/step - loss: 16.6051 - val_loss: 19.5475\n",
      "Epoch 10/100\n",
      "88/95 [==========================>...] - ETA: 0s - loss: 17.4979\n",
      "Epoch 00010: val_loss improved from 18.36746 to 16.28108, saving model to ../_save/MCP\\keras30_ModelCheckPoint3.hdf5\n",
      "95/95 [==============================] - 0s 3ms/step - loss: 17.1125 - val_loss: 16.2811\n",
      "Epoch 11/100\n",
      "80/95 [========================>.....] - ETA: 0s - loss: 15.8869\n",
      "Epoch 00011: val_loss did not improve from 16.28108\n",
      "95/95 [==============================] - 0s 3ms/step - loss: 15.7374 - val_loss: 19.8882\n",
      "Epoch 12/100\n",
      "82/95 [========================>.....] - ETA: 0s - loss: 13.6214\n",
      "Epoch 00012: val_loss did not improve from 16.28108\n",
      "95/95 [==============================] - 0s 3ms/step - loss: 15.1712 - val_loss: 18.4220\n",
      "Epoch 13/100\n",
      "76/95 [=======================>......] - ETA: 0s - loss: 15.4441\n",
      "Epoch 00013: val_loss improved from 16.28108 to 15.95533, saving model to ../_save/MCP\\keras30_ModelCheckPoint3.hdf5\n",
      "95/95 [==============================] - 0s 3ms/step - loss: 16.1230 - val_loss: 15.9553\n",
      "Epoch 14/100\n",
      "82/95 [========================>.....] - ETA: 0s - loss: 14.8179\n",
      "Epoch 00014: val_loss did not improve from 15.95533\n",
      "95/95 [==============================] - 0s 3ms/step - loss: 13.8971 - val_loss: 16.5942\n",
      "Epoch 15/100\n",
      "79/95 [=======================>......] - ETA: 0s - loss: 16.1527\n",
      "Epoch 00015: val_loss did not improve from 15.95533\n",
      "95/95 [==============================] - 0s 3ms/step - loss: 14.9652 - val_loss: 16.0483\n",
      "Epoch 16/100\n",
      "83/95 [=========================>....] - ETA: 0s - loss: 11.8494\n",
      "Epoch 00016: val_loss did not improve from 15.95533\n",
      "95/95 [==============================] - 0s 3ms/step - loss: 13.4204 - val_loss: 20.8791\n",
      "Epoch 17/100\n",
      "88/95 [==========================>...] - ETA: 0s - loss: 13.9767\n",
      "Epoch 00017: val_loss improved from 15.95533 to 14.03789, saving model to ../_save/MCP\\keras30_ModelCheckPoint3.hdf5\n",
      "95/95 [==============================] - 0s 3ms/step - loss: 13.5364 - val_loss: 14.0379\n",
      "Epoch 18/100\n",
      "80/95 [========================>.....] - ETA: 0s - loss: 10.2161\n",
      "Epoch 00018: val_loss did not improve from 14.03789\n",
      "95/95 [==============================] - 0s 3ms/step - loss: 12.1994 - val_loss: 20.9951\n",
      "Epoch 19/100\n",
      "82/95 [========================>.....] - ETA: 0s - loss: 13.2952\n",
      "Epoch 00019: val_loss improved from 14.03789 to 13.45820, saving model to ../_save/MCP\\keras30_ModelCheckPoint3.hdf5\n",
      "95/95 [==============================] - 0s 3ms/step - loss: 13.5559 - val_loss: 13.4582\n",
      "Epoch 20/100\n",
      "81/95 [========================>.....] - ETA: 0s - loss: 9.7818\n",
      "Epoch 00020: val_loss improved from 13.45820 to 13.24287, saving model to ../_save/MCP\\keras30_ModelCheckPoint3.hdf5\n",
      "95/95 [==============================] - 0s 3ms/step - loss: 11.9718 - val_loss: 13.2429\n",
      "Epoch 21/100\n",
      "83/95 [=========================>....] - ETA: 0s - loss: 11.4154\n",
      "Epoch 00021: val_loss did not improve from 13.24287\n",
      "95/95 [==============================] - 0s 3ms/step - loss: 11.9797 - val_loss: 15.2104\n",
      "Epoch 22/100\n",
      "86/95 [==========================>...] - ETA: 0s - loss: 14.4105\n",
      "Epoch 00022: val_loss did not improve from 13.24287\n",
      "95/95 [==============================] - 0s 3ms/step - loss: 13.6622 - val_loss: 13.6520\n",
      "Epoch 23/100\n",
      "73/95 [======================>.......] - ETA: 0s - loss: 12.7473\n",
      "Epoch 00023: val_loss improved from 13.24287 to 12.38740, saving model to ../_save/MCP\\keras30_ModelCheckPoint3.hdf5\n",
      "95/95 [==============================] - 0s 3ms/step - loss: 11.9556 - val_loss: 12.3874\n",
      "Epoch 24/100\n",
      "80/95 [========================>.....] - ETA: 0s - loss: 10.5829\n",
      "Epoch 00024: val_loss did not improve from 12.38740\n",
      "95/95 [==============================] - 0s 3ms/step - loss: 11.0490 - val_loss: 13.3610\n",
      "Epoch 25/100\n",
      "78/95 [=======================>......] - ETA: 0s - loss: 12.0187\n",
      "Epoch 00025: val_loss improved from 12.38740 to 11.68674, saving model to ../_save/MCP\\keras30_ModelCheckPoint3.hdf5\n",
      "95/95 [==============================] - 0s 4ms/step - loss: 11.7269 - val_loss: 11.6867\n",
      "Epoch 26/100\n",
      "93/95 [============================>.] - ETA: 0s - loss: 12.0475\n",
      "Epoch 00026: val_loss improved from 11.68674 to 11.46106, saving model to ../_save/MCP\\keras30_ModelCheckPoint3.hdf5\n",
      "95/95 [==============================] - 0s 4ms/step - loss: 11.9775 - val_loss: 11.4611\n",
      "Epoch 27/100\n",
      "90/95 [===========================>..] - ETA: 0s - loss: 14.1284\n",
      "Epoch 00027: val_loss did not improve from 11.46106\n",
      "95/95 [==============================] - 0s 3ms/step - loss: 13.8288 - val_loss: 12.8927\n",
      "Epoch 28/100\n",
      "76/95 [=======================>......] - ETA: 0s - loss: 10.0357\n",
      "Epoch 00028: val_loss did not improve from 11.46106\n",
      "95/95 [==============================] - 0s 3ms/step - loss: 10.1716 - val_loss: 13.3262\n",
      "Epoch 29/100\n",
      "83/95 [=========================>....] - ETA: 0s - loss: 11.9452\n",
      "Epoch 00029: val_loss did not improve from 11.46106\n",
      "95/95 [==============================] - 0s 3ms/step - loss: 12.1053 - val_loss: 14.2758\n",
      "Epoch 30/100\n",
      "86/95 [==========================>...] - ETA: 0s - loss: 11.0694\n",
      "Epoch 00030: val_loss did not improve from 11.46106\n",
      "95/95 [==============================] - 0s 3ms/step - loss: 10.6025 - val_loss: 11.8737\n",
      "Epoch 31/100\n",
      "82/95 [========================>.....] - ETA: 0s - loss: 8.6395\n",
      "Epoch 00031: val_loss improved from 11.46106 to 11.22025, saving model to ../_save/MCP\\keras30_ModelCheckPoint3.hdf5\n",
      "95/95 [==============================] - 0s 3ms/step - loss: 10.1911 - val_loss: 11.2203\n",
      "Epoch 32/100\n",
      "89/95 [===========================>..] - ETA: 0s - loss: 9.7745 \n",
      "Epoch 00032: val_loss did not improve from 11.22025\n",
      "95/95 [==============================] - 0s 3ms/step - loss: 9.7185 - val_loss: 11.5686\n",
      "Epoch 33/100\n",
      "74/95 [======================>.......] - ETA: 0s - loss: 10.5093\n",
      "Epoch 00033: val_loss did not improve from 11.22025\n",
      "95/95 [==============================] - 0s 3ms/step - loss: 11.8843 - val_loss: 16.4496\n",
      "Epoch 34/100\n",
      "94/95 [============================>.] - ETA: 0s - loss: 9.8239 \n",
      "Epoch 00034: val_loss improved from 11.22025 to 10.74623, saving model to ../_save/MCP\\keras30_ModelCheckPoint3.hdf5\n",
      "95/95 [==============================] - 0s 4ms/step - loss: 9.8020 - val_loss: 10.7462\n",
      "Epoch 35/100\n",
      "89/95 [===========================>..] - ETA: 0s - loss: 10.2011\n",
      "Epoch 00035: val_loss did not improve from 10.74623\n",
      "95/95 [==============================] - 0s 3ms/step - loss: 9.7449 - val_loss: 11.5795\n",
      "Epoch 36/100\n",
      "77/95 [=======================>......] - ETA: 0s - loss: 11.6781\n",
      "Epoch 00036: val_loss did not improve from 10.74623\n",
      "95/95 [==============================] - 0s 3ms/step - loss: 10.8795 - val_loss: 13.7692\n",
      "Epoch 37/100\n",
      "93/95 [============================>.] - ETA: 0s - loss: 9.1623\n",
      "Epoch 00037: val_loss did not improve from 10.74623\n",
      "95/95 [==============================] - 0s 3ms/step - loss: 9.1079 - val_loss: 10.9401\n",
      "Epoch 38/100\n",
      "78/95 [=======================>......] - ETA: 0s - loss: 8.5631\n",
      "Epoch 00038: val_loss did not improve from 10.74623\n",
      "95/95 [==============================] - 0s 3ms/step - loss: 9.8719 - val_loss: 16.5937\n",
      "Epoch 39/100\n",
      "84/95 [=========================>....] - ETA: 0s - loss: 10.6858\n",
      "Epoch 00039: val_loss did not improve from 10.74623\n",
      "95/95 [==============================] - 0s 3ms/step - loss: 10.5139 - val_loss: 11.9202\n",
      "Epoch 40/100\n",
      "88/95 [==========================>...] - ETA: 0s - loss: 9.0250\n",
      "Epoch 00040: val_loss did not improve from 10.74623\n",
      "95/95 [==============================] - 0s 3ms/step - loss: 9.2389 - val_loss: 24.6135\n",
      "Epoch 41/100\n",
      "89/95 [===========================>..] - ETA: 0s - loss: 12.3153\n",
      "Epoch 00041: val_loss did not improve from 10.74623\n",
      "95/95 [==============================] - 0s 3ms/step - loss: 11.9724 - val_loss: 12.7097\n",
      "Epoch 42/100\n",
      "86/95 [==========================>...] - ETA: 0s - loss: 9.7572 \n",
      "Epoch 00042: val_loss did not improve from 10.74623\n",
      "95/95 [==============================] - 0s 3ms/step - loss: 9.8711 - val_loss: 10.9749\n",
      "Epoch 43/100\n",
      "87/95 [==========================>...] - ETA: 0s - loss: 9.2398\n",
      "Epoch 00043: val_loss did not improve from 10.74623\n",
      "95/95 [==============================] - 0s 3ms/step - loss: 8.9170 - val_loss: 13.5469\n",
      "Epoch 44/100\n",
      "82/95 [========================>.....] - ETA: 0s - loss: 8.6504\n",
      "Epoch 00044: val_loss did not improve from 10.74623\n",
      "95/95 [==============================] - 0s 3ms/step - loss: 8.5849 - val_loss: 16.4402\n",
      "Epoch 00044: early stopping\n"
     ]
    }
   ],
   "source": [
    "from tensorflow.keras.callbacks import EarlyStopping,ModelCheckpoint\n",
    "\n",
    "path = \"../_save/\"\n",
    "\n",
    "earlyStopping = EarlyStopping(monitor=\"val_loss\",\n",
    "                              mode=\"min\",patience =10,\n",
    "                              # True 면 좋았던 웨이트로 복원됨\n",
    "                              # False 면 마지막 웨이트로 놔둠..\n",
    "                              restore_best_weights=True,\n",
    "                              verbose=1                              \n",
    "                              )\n",
    "# 모델체크포인트는 가장 낮은 val_loss 가 갱신 될 떄 마다 저장합니다.\n",
    "\n",
    "mcp = ModelCheckpoint(\n",
    "    monitor=\"val_loss\",\n",
    "    mode=\"auto\",\n",
    "    save_best_only=True,\n",
    "    filepath= path+\"MCP/keras30_ModelCheckPoint3.hdf5\",\n",
    "    verbose=1 \n",
    ")\n",
    "                    \n",
    "    \n",
    "model.compile(loss=\"mse\",optimizer=\"adam\")\n",
    "\n",
    "# model.fit 이 반환한 기록을 저장\n",
    "hist = model.fit(\n",
    "                x_train,\n",
    "                y_train,\n",
    "                epochs=100,\n",
    "                batch_size=3,\n",
    "                validation_split=0.2,\n",
    "                verbose=1,\n",
    "                callbacks = [earlyStopping,mcp],\n",
    "                \n",
    "                )\n",
    "\n",
    "model.save(path+\"MCP/keras30_ModelCheckPoint3.h5\")\n"
   ]
  },
  {
   "cell_type": "code",
   "execution_count": 65,
   "metadata": {},
   "outputs": [],
   "source": [
    "# 모델저장\n",
    "\n",
    "# path = \"../_save/\"\n",
    "\n",
    "# model.save_weights(path+\"save_weight2.h5\")"
   ]
  },
  {
   "cell_type": "code",
   "execution_count": 66,
   "metadata": {},
   "outputs": [],
   "source": [
    "# # 모델불러오기\n",
    "# from tensorflow.keras.models import load_model\n",
    "\n",
    "# path = \"../_save/\"\n",
    "\n",
    "# # 가중치 불러오기는 모델이 저장 되어 있어야 가능함\n",
    "# model.load_weights(path+\"save_weight2.h5\")"
   ]
  },
  {
   "cell_type": "code",
   "execution_count": 67,
   "metadata": {},
   "outputs": [
    {
     "name": "stdout",
     "output_type": "stream",
     "text": [
      "Model: \"sequential_3\"\n",
      "_________________________________________________________________\n",
      " Layer (type)                Output Shape              Param #   \n",
      "=================================================================\n",
      " dense_18 (Dense)            (None, 50)                700       \n",
      "                                                                 \n",
      " dense_19 (Dense)            (None, 50)                2550      \n",
      "                                                                 \n",
      " dense_20 (Dense)            (None, 50)                2550      \n",
      "                                                                 \n",
      " dense_21 (Dense)            (None, 50)                2550      \n",
      "                                                                 \n",
      " dense_22 (Dense)            (None, 50)                2550      \n",
      "                                                                 \n",
      " dense_23 (Dense)            (None, 1)                 51        \n",
      "                                                                 \n",
      "=================================================================\n",
      "Total params: 10,951\n",
      "Trainable params: 10,951\n",
      "Non-trainable params: 0\n",
      "_________________________________________________________________\n"
     ]
    }
   ],
   "source": [
    "model.summary()"
   ]
  },
  {
   "cell_type": "code",
   "execution_count": 68,
   "metadata": {},
   "outputs": [
    {
     "name": "stdout",
     "output_type": "stream",
     "text": [
      "5/5 [==============================] - 0s 2ms/step - loss: 22.9480\n",
      "그냥출력\n",
      "loss :  22.948007583618164\n",
      "RMSE :  4.7904078779028065\n",
      "R2   :  0.7160887117108751\n"
     ]
    }
   ],
   "source": [
    "# 성능평가\n",
    "from sklearn.metrics import mean_squared_error\n",
    "from sklearn.metrics import r2_score\n",
    "\n",
    "def RMSE(y_test,y_predict):\n",
    "    return np.sqrt(mean_squared_error(y_test,y_predict))\n",
    "# 평가 손실률 가져오기\n",
    "loss = model.evaluate(x_test,y_test)\n",
    "\n",
    "y_predict =model.predict(x_test)\n",
    "# print(\"=================\")\n",
    "# print(y_test)\n",
    "# print(y_predict)\n",
    "# print(\"=================\")\n",
    "print(\"그냥출력\")\n",
    "print(\"loss : \",loss)\n",
    "print(\"RMSE : \",RMSE(y_test,y_predict))\n",
    "print(\"R2   : \",r2_score(y_test,y_predict))"
   ]
  },
  {
   "cell_type": "code",
   "execution_count": 69,
   "metadata": {},
   "outputs": [
    {
     "name": "stdout",
     "output_type": "stream",
     "text": [
      "5/5 [==============================] - 0s 2ms/step - loss: 22.9480\n",
      "load_model 출력\n",
      "loss :  22.948007583618164\n",
      "RMSE :  4.7904078779028065\n",
      "R2   :  0.7160887117108751\n"
     ]
    }
   ],
   "source": [
    "# 불러온 모델 성능평가\n",
    "model2 = load_model(path+\"MCP/keras30_ModelCheckPoint3.h5\")\n",
    "\n",
    "from sklearn.metrics import mean_squared_error\n",
    "from sklearn.metrics import r2_score\n",
    "\n",
    "def RMSE(y_test,y_predict):\n",
    "    return np.sqrt(mean_squared_error(y_test,y_predict))\n",
    "# 평가 손실률 가져오기\n",
    "loss = model2.evaluate(x_test,y_test)\n",
    "\n",
    "y_predict =model2.predict(x_test)\n",
    "# print(\"=================\")\n",
    "# print(y_test)\n",
    "# print(y_predict)\n",
    "# print(\"=================\")\n",
    "print(\"load_model 출력\")\n",
    "print(\"loss : \",loss)\n",
    "print(\"RMSE : \",RMSE(y_test,y_predict))\n",
    "print(\"R2   : \",r2_score(y_test,y_predict))"
   ]
  }
 ],
 "metadata": {
  "kernelspec": {
   "display_name": "tf274gpu",
   "language": "python",
   "name": "python3"
  },
  "language_info": {
   "codemirror_mode": {
    "name": "ipython",
    "version": 3
   },
   "file_extension": ".py",
   "mimetype": "text/x-python",
   "name": "python",
   "nbconvert_exporter": "python",
   "pygments_lexer": "ipython3",
   "version": "3.9.15 (main, Nov 24 2022, 14:39:17) [MSC v.1916 64 bit (AMD64)]"
  },
  "orig_nbformat": 4,
  "vscode": {
   "interpreter": {
    "hash": "10848e9bd3f5e7d93542d388001135334854454e7336dcf54c4ef52885ee0fb0"
   }
  }
 },
 "nbformat": 4,
 "nbformat_minor": 2
}
