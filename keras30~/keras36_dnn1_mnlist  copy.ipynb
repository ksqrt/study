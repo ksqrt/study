{
 "cells": [
  {
   "cell_type": "code",
   "execution_count": 81,
   "metadata": {},
   "outputs": [],
   "source": [
    "import numpy as np\n",
    "from tensorflow.keras.models import Sequential\n",
    "from tensorflow.keras.layers import Dense,Conv2D,Flatten,Dropout,MaxPooling2D\n",
    "from tensorflow.keras.datasets import mnist\n",
    "\n",
    "# 이미 훈련과 테스트가 분리된 데이터임\n",
    "(x_train,y_train),(x_test,y_test) = mnist.load_data()"
   ]
  },
  {
   "cell_type": "code",
   "execution_count": 82,
   "metadata": {},
   "outputs": [
    {
     "name": "stdout",
     "output_type": "stream",
     "text": [
      "train (60000, 28, 28) (60000,)\n",
      "test (10000, 28, 28) (10000,)\n"
     ]
    }
   ],
   "source": [
    "# 데이터의 크기 확인\n",
    "# 28X28X1 = 흑백데이터다~\n",
    "print(\"train\",x_train.shape,y_train.shape)\n",
    "print(\"test\",x_test.shape,y_test.shape)"
   ]
  },
  {
   "cell_type": "code",
   "execution_count": 83,
   "metadata": {},
   "outputs": [],
   "source": [
    "\n",
    "x_train = x_train.reshape(60000, 28, 28, 1)\n",
    "x_test = x_test.reshape(10000, 28, 28, 1)\n",
    "\n",
    "# 크기변경\n",
    "# x_train = x_train.reshape(60000, 28 * 28)\n",
    "# x_test = x_test.reshape(10000, 28 * 28)"
   ]
  },
  {
   "cell_type": "code",
   "execution_count": 84,
   "metadata": {},
   "outputs": [
    {
     "name": "stdout",
     "output_type": "stream",
     "text": [
      "[0 1 2 3 4 5 6 7 8 9]\n",
      "[5923 6742 5958 6131 5842 5421 5918 6265 5851 5949]\n"
     ]
    }
   ],
   "source": [
    "# y의 클래스 보기\n",
    "a,b = np.unique(y_train,return_counts=1)\n",
    "# print(np.unique(y_train,return_counts=1))\n",
    "print(a)\n",
    "print(b)"
   ]
  },
  {
   "cell_type": "code",
   "execution_count": 85,
   "metadata": {},
   "outputs": [],
   "source": [
    "# 이미지 시각화\n",
    "import matplotlib.pyplot as plt\n",
    "# plt.imshow(x_train[0],\"gray\")"
   ]
  },
  {
   "cell_type": "code",
   "execution_count": 86,
   "metadata": {},
   "outputs": [
    {
     "name": "stdout",
     "output_type": "stream",
     "text": [
      "Model: \"sequential_9\"\n",
      "_________________________________________________________________\n",
      " Layer (type)                Output Shape              Param #   \n",
      "=================================================================\n",
      " dense_32 (Dense)            (None, 28, 64)            1856      \n",
      "                                                                 \n",
      " dense_33 (Dense)            (None, 28, 32)            2080      \n",
      "                                                                 \n",
      " dense_34 (Dense)            (None, 28, 16)            528       \n",
      "                                                                 \n",
      " flatten_3 (Flatten)         (None, 448)               0         \n",
      "                                                                 \n",
      " dense_35 (Dense)            (None, 10)                4490      \n",
      "                                                                 \n",
      "=================================================================\n",
      "Total params: 8,954\n",
      "Trainable params: 8,954\n",
      "Non-trainable params: 0\n",
      "_________________________________________________________________\n"
     ]
    }
   ],
   "source": [
    "# 모델\n",
    "rate = 0.2\n",
    "model = Sequential([\n",
    "    # 5X5 이미지 채널 1개 \n",
    "    # 필터 = output 노드수 \n",
    "    # 자르는 필터는 2X2 사이즈 \n",
    "   \n",
    "    Dense(64,input_shape=(28,28),activation=\"relu\"),\n",
    "    Dense(32,activation=\"relu\"),\n",
    "    Dense(16,activation=\"relu\"),\n",
    "    # flatten 으로 1차원변환\n",
    "    Flatten(),\n",
    "    Dense(10,activation=\"softmax\")\n",
    "])\n",
    "\n",
    "model.summary()"
   ]
  },
  {
   "cell_type": "code",
   "execution_count": 87,
   "metadata": {},
   "outputs": [],
   "source": [
    "model.compile(loss=\"sparse_categorical_crossentropy\",optimizer=\"adam\",metrics=[\"acc\"])"
   ]
  },
  {
   "cell_type": "code",
   "execution_count": 88,
   "metadata": {},
   "outputs": [
    {
     "name": "stdout",
     "output_type": "stream",
     "text": [
      "Epoch 1/8\n",
      "739/750 [============================>.] - ETA: 0s - loss: 1.9542 - acc: 0.7293\n",
      "Epoch 00001: val_loss improved from inf to 0.36650, saving model to mnlist.h5\n",
      "750/750 [==============================] - 3s 4ms/step - loss: 1.9311 - acc: 0.7316 - val_loss: 0.3665 - val_acc: 0.8919\n",
      "Epoch 2/8\n",
      "745/750 [============================>.] - ETA: 0s - loss: 0.3163 - acc: 0.9043\n",
      "Epoch 00002: val_loss improved from 0.36650 to 0.24893, saving model to mnlist.h5\n",
      "750/750 [==============================] - 3s 3ms/step - loss: 0.3156 - acc: 0.9046 - val_loss: 0.2489 - val_acc: 0.9273\n",
      "Epoch 3/8\n",
      "739/750 [============================>.] - ETA: 0s - loss: 0.2378 - acc: 0.9287\n",
      "Epoch 00003: val_loss improved from 0.24893 to 0.21963, saving model to mnlist.h5\n",
      "750/750 [==============================] - 3s 3ms/step - loss: 0.2374 - acc: 0.9287 - val_loss: 0.2196 - val_acc: 0.9343\n",
      "Epoch 4/8\n",
      "730/750 [============================>.] - ETA: 0s - loss: 0.2052 - acc: 0.9372\n",
      "Epoch 00004: val_loss improved from 0.21963 to 0.19494, saving model to mnlist.h5\n",
      "750/750 [==============================] - 2s 3ms/step - loss: 0.2041 - acc: 0.9377 - val_loss: 0.1949 - val_acc: 0.9437\n",
      "Epoch 5/8\n",
      "748/750 [============================>.] - ETA: 0s - loss: 0.1853 - acc: 0.9432\n",
      "Epoch 00005: val_loss improved from 0.19494 to 0.19241, saving model to mnlist.h5\n",
      "750/750 [==============================] - 2s 3ms/step - loss: 0.1856 - acc: 0.9432 - val_loss: 0.1924 - val_acc: 0.9469\n",
      "Epoch 6/8\n",
      "748/750 [============================>.] - ETA: 0s - loss: 0.1797 - acc: 0.9443\n",
      "Epoch 00006: val_loss improved from 0.19241 to 0.18739, saving model to mnlist.h5\n",
      "750/750 [==============================] - 3s 4ms/step - loss: 0.1796 - acc: 0.9444 - val_loss: 0.1874 - val_acc: 0.9447\n",
      "Epoch 7/8\n",
      "748/750 [============================>.] - ETA: 0s - loss: 0.1699 - acc: 0.9473\n",
      "Epoch 00007: val_loss improved from 0.18739 to 0.18523, saving model to mnlist.h5\n",
      "750/750 [==============================] - 3s 3ms/step - loss: 0.1703 - acc: 0.9472 - val_loss: 0.1852 - val_acc: 0.9458\n",
      "Epoch 8/8\n",
      "730/750 [============================>.] - ETA: 0s - loss: 0.1579 - acc: 0.9516\n",
      "Epoch 00008: val_loss improved from 0.18523 to 0.17192, saving model to mnlist.h5\n",
      "750/750 [==============================] - 2s 3ms/step - loss: 0.1589 - acc: 0.9515 - val_loss: 0.1719 - val_acc: 0.9490\n"
     ]
    }
   ],
   "source": [
    "from tensorflow.keras.callbacks import EarlyStopping,ModelCheckpoint\n",
    "\n",
    "earlyStopping = EarlyStopping(monitor=\"val_loss\",\n",
    "                              mode=\"min\",patience =10,\n",
    "                              # True 면 좋았던 웨이트로 복원됨\n",
    "                              # False 면 마지막 웨이트로 놔둠..\n",
    "                              restore_best_weights=True,\n",
    "                              verbose=1                              \n",
    "                              )\n",
    "# 모델체크포인트는 가장 낮은 val_loss 가 갱신 될 떄 마다 저장합니다.\n",
    "\n",
    "mcp = ModelCheckpoint(\n",
    "    monitor=\"val_loss\",\n",
    "    mode=\"auto\",\n",
    "    save_best_only=True,\n",
    "    filepath= \"mnlist.h5\",\n",
    "    verbose=1 \n",
    ")\n",
    "                    \n",
    "\n",
    "hist = model.fit(\n",
    "                x_train,\n",
    "                y_train,\n",
    "                epochs=8,\n",
    "                batch_size=64,\n",
    "                validation_split=0.2,\n",
    "                verbose=1,\n",
    "                callbacks = [earlyStopping,mcp],      \n",
    "                )"
   ]
  },
  {
   "cell_type": "code",
   "execution_count": 89,
   "metadata": {},
   "outputs": [
    {
     "data": {
      "image/png": "[encoded data removed]",
      "text/plain": [
       "<Figure size 640x480 with 1 Axes>"
      ]
     },
     "metadata": {},
     "output_type": "display_data"
    }
   ],
   "source": [
    "plt.plot(hist.history['acc'])\n",
    "plt.plot(hist.history['val_acc'])\n",
    "plt.title('Model Accuracy')\n",
    "plt.ylabel('Accuracy')\n",
    "plt.xlabel('Epoch')\n",
    "plt.legend(['acc', 'val_acc'], loc='upper left')\n",
    "plt.show()"
   ]
  },
  {
   "cell_type": "code",
   "execution_count": 90,
   "metadata": {},
   "outputs": [
    {
     "name": "stdout",
     "output_type": "stream",
     "text": [
      "313/313 [==============================] - 1s 3ms/step - loss: 0.1669 - acc: 0.9502\n",
      "loss :  0.16690880060195923\n",
      "acc :  0.9502000212669373\n"
     ]
    }
   ],
   "source": [
    "loss,acc = model.evaluate(x_test,y_test)\n",
    "print(\"loss : \",loss)\n",
    "print(\"acc : \",acc)\n"
   ]
  }
 ],
 "metadata": {
  "kernelspec": {
   "display_name": "tf274gpu",
   "language": "python",
   "name": "python3"
  },
  "language_info": {
   "codemirror_mode": {
    "name": "ipython",
    "version": 3
   },
   "file_extension": ".py",
   "mimetype": "text/x-python",
   "name": "python",
   "nbconvert_exporter": "python",
   "pygments_lexer": "ipython3",
   "version": "3.9.15"
  },
  "orig_nbformat": 4,
  "vscode": {
   "interpreter": {
    "hash": "10848e9bd3f5e7d93542d388001135334854454e7336dcf54c4ef52885ee0fb0"
   }
  }
 },
 "nbformat": 4,
 "nbformat_minor": 2
}
