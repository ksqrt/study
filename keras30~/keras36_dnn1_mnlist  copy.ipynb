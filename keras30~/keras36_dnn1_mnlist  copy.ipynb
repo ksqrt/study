{
 "cells": [
  {
   "cell_type": "code",
   "execution_count": 70,
   "metadata": {},
   "outputs": [],
   "source": [
    "import numpy as np\n",
    "from tensorflow.keras.models import Sequential\n",
    "from tensorflow.keras.layers import Dense,Conv2D,Flatten,Dropout,MaxPooling2D\n",
    "from tensorflow.keras.datasets import mnist\n",
    "\n",
    "# 이미 훈련과 테스트가 분리된 데이터임\n",
    "(x_train,y_train),(x_test,y_test) = mnist.load_data()"
   ]
  },
  {
   "cell_type": "code",
   "execution_count": 71,
   "metadata": {},
   "outputs": [
    {
     "name": "stdout",
     "output_type": "stream",
     "text": [
      "train (60000, 28, 28) (60000,)\n",
      "test (10000, 28, 28) (10000,)\n"
     ]
    }
   ],
   "source": [
    "# 데이터의 크기 확인\n",
    "# 28X28X1 = 흑백데이터다~\n",
    "print(\"train\",x_train.shape,y_train.shape)\n",
    "print(\"test\",x_test.shape,y_test.shape)"
   ]
  },
  {
   "cell_type": "code",
   "execution_count": 72,
   "metadata": {},
   "outputs": [],
   "source": [
    "\n",
    "x_train = x_train.reshape(60000, 28, 28, 1)\n",
    "x_test = x_test.reshape(10000, 28, 28, 1)\n",
    "\n",
    "# 크기변경\n",
    "# x_train = x_train.reshape(60000, 28 * 28)\n",
    "# x_test = x_test.reshape(10000, 28 * 28)"
   ]
  },
  {
   "cell_type": "code",
   "execution_count": 73,
   "metadata": {},
   "outputs": [
    {
     "name": "stdout",
     "output_type": "stream",
     "text": [
      "[0 1 2 3 4 5 6 7 8 9]\n",
      "[5923 6742 5958 6131 5842 5421 5918 6265 5851 5949]\n"
     ]
    }
   ],
   "source": [
    "# y의 클래스 보기\n",
    "a,b = np.unique(y_train,return_counts=1)\n",
    "# print(np.unique(y_train,return_counts=1))\n",
    "print(a)\n",
    "print(b)"
   ]
  },
  {
   "cell_type": "code",
   "execution_count": 74,
   "metadata": {},
   "outputs": [],
   "source": [
    "# 이미지 시각화\n",
    "import matplotlib.pyplot as plt\n",
    "# plt.imshow(x_train[0],\"gray\")"
   ]
  },
  {
   "cell_type": "code",
   "execution_count": 80,
   "metadata": {},
   "outputs": [
    {
     "name": "stdout",
     "output_type": "stream",
     "text": [
      "Model: \"sequential_8\"\n",
      "_________________________________________________________________\n",
      " Layer (type)                Output Shape              Param #   \n",
      "=================================================================\n",
      " dense_28 (Dense)            (None, 28, 64)            1856      \n",
      "                                                                 \n",
      " dense_29 (Dense)            (None, 28, 32)            2080      \n",
      "                                                                 \n",
      " dense_30 (Dense)            (None, 28, 16)            528       \n",
      "                                                                 \n",
      " flatten_2 (Flatten)         (None, 448)               0         \n",
      "                                                                 \n",
      " dense_31 (Dense)            (None, 10)                4490      \n",
      "                                                                 \n",
      "=================================================================\n",
      "Total params: 8,954\n",
      "Trainable params: 8,954\n",
      "Non-trainable params: 0\n",
      "_________________________________________________________________\n"
     ]
    }
   ],
   "source": [
    "# 모델\n",
    "rate = 0.2\n",
    "model = Sequential([\n",
    "    # 5X5 이미지 채널 1개 \n",
    "    # 필터 = output 노드수 \n",
    "    # 자르는 필터는 2X2 사이즈 \n",
    "   \n",
    "    Dense(64,input_shape=(28,28),activation=\"relu\"),\n",
    "    Dense(32,activation=\"relu\"),\n",
    "    Dense(16,activation=\"relu\"),\n",
    "    # flatten 으로 1차원변환\n",
    "    Flatten(),\n",
    "    Dense(10,activation=\"softmax\")\n",
    "])\n",
    "\n",
    "model.summary()"
   ]
  },
  {
   "cell_type": "code",
   "execution_count": 76,
   "metadata": {},
   "outputs": [],
   "source": [
    "model.compile(loss=\"sparse_categorical_crossentropy\",optimizer=\"adam\",metrics=[\"acc\"])"
   ]
  },
  {
   "cell_type": "code",
   "execution_count": 77,
   "metadata": {},
   "outputs": [
    {
     "name": "stdout",
     "output_type": "stream",
     "text": [
      "Epoch 1/8\n",
      "743/750 [============================>.] - ETA: 0s - loss: 2.0090 - acc: 0.3959\n",
      "Epoch 00001: val_loss improved from inf to 1.15749, saving model to mnlist.h5\n",
      "750/750 [==============================] - 3s 3ms/step - loss: 2.0018 - acc: 0.3975 - val_loss: 1.1575 - val_acc: 0.6043\n",
      "Epoch 2/8\n",
      "741/750 [============================>.] - ETA: 0s - loss: 0.8434 - acc: 0.7280\n",
      "Epoch 00002: val_loss improved from 1.15749 to 0.72134, saving model to mnlist.h5\n",
      "750/750 [==============================] - 2s 3ms/step - loss: 0.8426 - acc: 0.7287 - val_loss: 0.7213 - val_acc: 0.7743\n",
      "Epoch 3/8\n",
      "745/750 [============================>.] - ETA: 0s - loss: 0.5579 - acc: 0.8210\n",
      "Epoch 00003: val_loss improved from 0.72134 to 0.47556, saving model to mnlist.h5\n",
      "750/750 [==============================] - 2s 3ms/step - loss: 0.5575 - acc: 0.8209 - val_loss: 0.4756 - val_acc: 0.8433\n",
      "Epoch 4/8\n",
      "738/750 [============================>.] - ETA: 0s - loss: 0.4250 - acc: 0.8650\n",
      "Epoch 00004: val_loss improved from 0.47556 to 0.38284, saving model to mnlist.h5\n",
      "750/750 [==============================] - 2s 3ms/step - loss: 0.4249 - acc: 0.8654 - val_loss: 0.3828 - val_acc: 0.9077\n",
      "Epoch 5/8\n",
      "730/750 [============================>.] - ETA: 0s - loss: 0.3173 - acc: 0.9210\n",
      "Epoch 00005: val_loss improved from 0.38284 to 0.29116, saving model to mnlist.h5\n",
      "750/750 [==============================] - 2s 3ms/step - loss: 0.3166 - acc: 0.9212 - val_loss: 0.2912 - val_acc: 0.9322\n",
      "Epoch 6/8\n",
      "744/750 [============================>.] - ETA: 0s - loss: 0.2488 - acc: 0.9394\n",
      "Epoch 00006: val_loss improved from 0.29116 to 0.25053, saving model to mnlist.h5\n",
      "750/750 [==============================] - 2s 3ms/step - loss: 0.2483 - acc: 0.9395 - val_loss: 0.2505 - val_acc: 0.9427\n",
      "Epoch 7/8\n",
      "738/750 [============================>.] - ETA: 0s - loss: 0.1982 - acc: 0.9508\n",
      "Epoch 00007: val_loss improved from 0.25053 to 0.22587, saving model to mnlist.h5\n",
      "750/750 [==============================] - 2s 3ms/step - loss: 0.1982 - acc: 0.9508 - val_loss: 0.2259 - val_acc: 0.9499\n",
      "Epoch 8/8\n",
      "742/750 [============================>.] - ETA: 0s - loss: 0.1635 - acc: 0.9587\n",
      "Epoch 00008: val_loss improved from 0.22587 to 0.20308, saving model to mnlist.h5\n",
      "750/750 [==============================] - 2s 3ms/step - loss: 0.1638 - acc: 0.9588 - val_loss: 0.2031 - val_acc: 0.9525\n"
     ]
    }
   ],
   "source": [
    "from tensorflow.keras.callbacks import EarlyStopping,ModelCheckpoint\n",
    "\n",
    "earlyStopping = EarlyStopping(monitor=\"val_loss\",\n",
    "                              mode=\"min\",patience =10,\n",
    "                              # True 면 좋았던 웨이트로 복원됨\n",
    "                              # False 면 마지막 웨이트로 놔둠..\n",
    "                              restore_best_weights=True,\n",
    "                              verbose=1                              \n",
    "                              )\n",
    "# 모델체크포인트는 가장 낮은 val_loss 가 갱신 될 떄 마다 저장합니다.\n",
    "\n",
    "mcp = ModelCheckpoint(\n",
    "    monitor=\"val_loss\",\n",
    "    mode=\"auto\",\n",
    "    save_best_only=True,\n",
    "    filepath= \"mnlist.h5\",\n",
    "    verbose=1 \n",
    ")\n",
    "                    \n",
    "\n",
    "hist = model.fit(\n",
    "                x_train,\n",
    "                y_train,\n",
    "                epochs=8,\n",
    "                batch_size=64,\n",
    "                validation_split=0.2,\n",
    "                verbose=1,\n",
    "                callbacks = [earlyStopping,mcp],      \n",
    "                )"
   ]
  },
  {
   "cell_type": "code",
   "execution_count": 79,
   "metadata": {},
   "outputs": [
    {
     "data": {
      "image/png": "[encoded data removed]",
      "text/plain": [
       "<Figure size 640x480 with 1 Axes>"
      ]
     },
     "metadata": {},
     "output_type": "display_data"
    }
   ],
   "source": [
    "plt.plot(hist.history['acc'])\n",
    "plt.plot(hist.history['val_acc'])\n",
    "plt.title('Model Accuracy')\n",
    "plt.ylabel('Accuracy')\n",
    "plt.xlabel('Epoch')\n",
    "plt.legend(['acc', 'val_acc'], loc='upper left')\n",
    "plt.show()"
   ]
  },
  {
   "cell_type": "code",
   "execution_count": 78,
   "metadata": {},
   "outputs": [
    {
     "name": "stdout",
     "output_type": "stream",
     "text": [
      "313/313 [==============================] - 1s 2ms/step - loss: 0.1947 - acc: 0.9537\n",
      "loss :  0.1947300285100937\n",
      "acc :  0.9537000060081482\n"
     ]
    }
   ],
   "source": [
    "loss,acc = model.evaluate(x_test,y_test)\n",
    "print(\"loss : \",loss)\n",
    "print(\"acc : \",acc)\n"
   ]
  }
 ],
 "metadata": {
  "kernelspec": {
   "display_name": "tf274gpu",
   "language": "python",
   "name": "python3"
  },
  "language_info": {
   "codemirror_mode": {
    "name": "ipython",
    "version": 3
   },
   "file_extension": ".py",
   "mimetype": "text/x-python",
   "name": "python",
   "nbconvert_exporter": "python",
   "pygments_lexer": "ipython3",
   "version": "3.9.15"
  },
  "orig_nbformat": 4,
  "vscode": {
   "interpreter": {
    "hash": "10848e9bd3f5e7d93542d388001135334854454e7336dcf54c4ef52885ee0fb0"
   }
  }
 },
 "nbformat": 4,
 "nbformat_minor": 2
}
