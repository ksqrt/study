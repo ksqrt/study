{
 "cells": [
  {
   "cell_type": "code",
   "execution_count": 40,
   "metadata": {},
   "outputs": [],
   "source": [
    "import numpy as np\n",
    "from tensorflow.keras.models import Sequential\n",
    "from tensorflow.keras.layers import Dense,Conv2D,Flatten,Dropout, MaxPooling2D\n",
    "from tensorflow.keras.datasets import fashion_mnist\n",
    "\n",
    "# 이미 훈련과 테스트가 분리된 데이터임\n",
    "(x_train,y_train),(x_test,y_test) = fashion_mnist.load_data()"
   ]
  },
  {
   "cell_type": "code",
   "execution_count": 41,
   "metadata": {},
   "outputs": [
    {
     "name": "stdout",
     "output_type": "stream",
     "text": [
      "train (60000, 28, 28) (60000,)\n",
      "test (10000, 28, 28) (10000,)\n"
     ]
    }
   ],
   "source": [
    "# 데이터의 크기 확인\n",
    "# 28X28X1 = 흑백데이터다~\n",
    "print(\"train\",x_train.shape,y_train.shape)\n",
    "print(\"test\",x_test.shape,y_test.shape)"
   ]
  },
  {
   "cell_type": "code",
   "execution_count": 42,
   "metadata": {},
   "outputs": [],
   "source": [
    "# 크기변경\n",
    "x_train = x_train.reshape(60000, 28, 28, 1)\n",
    "x_test = x_test.reshape(10000, 28, 28, 1)"
   ]
  },
  {
   "cell_type": "code",
   "execution_count": 43,
   "metadata": {},
   "outputs": [
    {
     "name": "stdout",
     "output_type": "stream",
     "text": [
      "[0 1 2 3 4 5 6 7 8 9]\n",
      "[6000 6000 6000 6000 6000 6000 6000 6000 6000 6000]\n"
     ]
    }
   ],
   "source": [
    "# y의 클래스 보기\n",
    "a,b = np.unique(y_train,return_counts=1)\n",
    "# print(np.unique(y_train,return_counts=1))\n",
    "print(a)\n",
    "print(b)"
   ]
  },
  {
   "cell_type": "code",
   "execution_count": 44,
   "metadata": {},
   "outputs": [
    {
     "data": {
      "text/plain": [
       "<matplotlib.image.AxesImage at 0x2445804be20>"
      ]
     },
     "execution_count": 44,
     "metadata": {},
     "output_type": "execute_result"
    },
    {
     "data": {
      "image/png": "[encoded data removed]",
      "text/plain": [
       "<Figure size 640x480 with 1 Axes>"
      ]
     },
     "metadata": {},
     "output_type": "display_data"
    }
   ],
   "source": [
    "# 이미지 시각화\n",
    "import matplotlib.pyplot as plt\n",
    "plt.imshow(x_train[2],\"gray\")"
   ]
  },
  {
   "cell_type": "code",
   "execution_count": 48,
   "metadata": {},
   "outputs": [
    {
     "name": "stdout",
     "output_type": "stream",
     "text": [
      "Model: \"sequential_10\"\n",
      "_________________________________________________________________\n",
      " Layer (type)                Output Shape              Param #   \n",
      "=================================================================\n",
      " conv2d_47 (Conv2D)          (None, 26, 26, 64)        640       \n",
      "                                                                 \n",
      " conv2d_48 (Conv2D)          (None, 24, 24, 64)        36928     \n",
      "                                                                 \n",
      " max_pooling2d_28 (MaxPoolin  (None, 12, 12, 64)       0         \n",
      " g2D)                                                            \n",
      "                                                                 \n",
      " conv2d_49 (Conv2D)          (None, 10, 10, 128)       73856     \n",
      "                                                                 \n",
      " conv2d_50 (Conv2D)          (None, 8, 8, 128)         147584    \n",
      "                                                                 \n",
      " max_pooling2d_29 (MaxPoolin  (None, 4, 4, 128)        0         \n",
      " g2D)                                                            \n",
      "                                                                 \n",
      " flatten_10 (Flatten)        (None, 2048)              0         \n",
      "                                                                 \n",
      " dense_22 (Dense)            (None, 16)                32784     \n",
      "                                                                 \n",
      " dense_23 (Dense)            (None, 10)                170       \n",
      "                                                                 \n",
      "=================================================================\n",
      "Total params: 291,962\n",
      "Trainable params: 291,962\n",
      "Non-trainable params: 0\n",
      "_________________________________________________________________\n"
     ]
    }
   ],
   "source": [
    "# 모델\n",
    "rate = 0.2\n",
    "model = Sequential([\n",
    "    # 5X5 이미지 채널 1개 \n",
    "    # 필터 = output 노드수 \n",
    "    # 자르는 필터는 2X2 사이즈 \n",
    "    Conv2D(filters=64,kernel_size=(3,3),input_shape=(28,28,1),activation=\"relu\"),\n",
    "    Conv2D(filters=64,kernel_size=(3,3),activation=\"relu\"),   \n",
    "    MaxPooling2D(2,2),\n",
    "    Conv2D(filters=128,kernel_size=(3,3),activation=\"relu\"),\n",
    "    Conv2D(filters=128,kernel_size=(3,3),activation=\"relu\"),   \n",
    "    MaxPooling2D(2,2),\n",
    "    Conv2D(filters=256,kernel_size=(3,3),activation=\"relu\"),\n",
    "    Conv2D(filters=256,kernel_size=(3,3),activation=\"relu\"), \n",
    "    # Conv2D(filters=256,kernel_size=(3,3),activation=\"relu\"), \n",
    "    # MaxPooling2D(2,2),\n",
    "    # Conv2D(filters=512,kernel_size=(3,3),activation=\"relu\"),\n",
    "    # Conv2D(filters=512,kernel_size=(3,3),activation=\"relu\"), \n",
    "    # Conv2D(filters=512,kernel_size=(3,3),activation=\"relu\"), \n",
    "    # MaxPooling2D(2,2),\n",
    "    \n",
    "    \n",
    "\n",
    "     \n",
    "    # 완전통합층에서는 falt + Flatten(),\n",
    "    # Dense 의 인풋은 batch_size , input_dim\n",
    "    Flatten(),\n",
    "    Dense(16,activation=\"relu\"),\n",
    "    Dense(10,activation=\"softmax\")\n",
    "])\n",
    "\n",
    "model.summary()"
   ]
  },
  {
   "cell_type": "code",
   "execution_count": null,
   "metadata": {},
   "outputs": [],
   "source": [
    "model.compile(loss=\"sparse_categorical_crossentropy\",optimizer=\"adam\",metrics=[\"acc\"])"
   ]
  },
  {
   "cell_type": "code",
   "execution_count": null,
   "metadata": {},
   "outputs": [
    {
     "name": "stdout",
     "output_type": "stream",
     "text": [
      "Epoch 1/8\n",
      "750/750 [==============================] - ETA: 0s - loss: 1.6369 - acc: 0.4900\n",
      "Epoch 00001: val_loss improved from inf to 0.73288, saving model to mnlist.h5\n",
      "750/750 [==============================] - 5s 6ms/step - loss: 1.6369 - acc: 0.4900 - val_loss: 0.7329 - val_acc: 0.7042\n",
      "Epoch 2/8\n",
      "749/750 [============================>.] - ETA: 0s - loss: 0.7577 - acc: 0.7086\n",
      "Epoch 00002: val_loss improved from 0.73288 to 0.56737, saving model to mnlist.h5\n",
      "750/750 [==============================] - 4s 6ms/step - loss: 0.7574 - acc: 0.7087 - val_loss: 0.5674 - val_acc: 0.7918\n",
      "Epoch 3/8\n",
      "746/750 [============================>.] - ETA: 0s - loss: 0.6232 - acc: 0.7682\n",
      "Epoch 00003: val_loss improved from 0.56737 to 0.50918, saving model to mnlist.h5\n",
      "750/750 [==============================] - 4s 6ms/step - loss: 0.6231 - acc: 0.7682 - val_loss: 0.5092 - val_acc: 0.8160\n",
      "Epoch 4/8\n",
      "745/750 [============================>.] - ETA: 0s - loss: 0.5585 - acc: 0.7933\n",
      "Epoch 00004: val_loss improved from 0.50918 to 0.46402, saving model to mnlist.h5\n",
      "750/750 [==============================] - 4s 6ms/step - loss: 0.5593 - acc: 0.7930 - val_loss: 0.4640 - val_acc: 0.8303\n",
      "Epoch 5/8\n",
      "748/750 [============================>.] - ETA: 0s - loss: 0.5165 - acc: 0.8101\n",
      "Epoch 00005: val_loss improved from 0.46402 to 0.42341, saving model to mnlist.h5\n",
      "750/750 [==============================] - 5s 6ms/step - loss: 0.5166 - acc: 0.8101 - val_loss: 0.4234 - val_acc: 0.8460\n",
      "Epoch 6/8\n",
      "749/750 [============================>.] - ETA: 0s - loss: 0.4881 - acc: 0.8203\n",
      "Epoch 00006: val_loss improved from 0.42341 to 0.40848, saving model to mnlist.h5\n",
      "750/750 [==============================] - 4s 6ms/step - loss: 0.4882 - acc: 0.8203 - val_loss: 0.4085 - val_acc: 0.8526\n",
      "Epoch 7/8\n",
      "747/750 [============================>.] - ETA: 0s - loss: 0.4702 - acc: 0.8257\n",
      "Epoch 00007: val_loss improved from 0.40848 to 0.40106, saving model to mnlist.h5\n",
      "750/750 [==============================] - 5s 6ms/step - loss: 0.4699 - acc: 0.8258 - val_loss: 0.4011 - val_acc: 0.8557\n",
      "Epoch 8/8\n",
      "750/750 [==============================] - ETA: 0s - loss: 0.4541 - acc: 0.8325\n",
      "Epoch 00008: val_loss did not improve from 0.40106\n",
      "750/750 [==============================] - 4s 6ms/step - loss: 0.4541 - acc: 0.8325 - val_loss: 0.4072 - val_acc: 0.8543\n"
     ]
    }
   ],
   "source": [
    "from tensorflow.keras.callbacks import EarlyStopping,ModelCheckpoint\n",
    "\n",
    "earlyStopping = EarlyStopping(monitor=\"val_loss\",\n",
    "                              mode=\"min\",patience =10,\n",
    "                              # True 면 좋았던 웨이트로 복원됨\n",
    "                              # False 면 마지막 웨이트로 놔둠..\n",
    "                              restore_best_weights=True,\n",
    "                              verbose=1                              \n",
    "                              )\n",
    "# 모델체크포인트는 가장 낮은 val_loss 가 갱신 될 떄 마다 저장합니다.\n",
    "\n",
    "mcp = ModelCheckpoint(\n",
    "    monitor=\"val_loss\",\n",
    "    mode=\"auto\",\n",
    "    save_best_only=True,\n",
    "    filepath= \"mnlist.h5\",\n",
    "    verbose=1 \n",
    ")\n",
    "                    \n",
    "\n",
    "hist = model.fit(\n",
    "                x_train,\n",
    "                y_train,\n",
    "                epochs=8,\n",
    "                batch_size=64,\n",
    "                validation_split=0.2,\n",
    "                verbose=1,\n",
    "                callbacks = [earlyStopping,mcp],      \n",
    "                )"
   ]
  },
  {
   "cell_type": "code",
   "execution_count": null,
   "metadata": {},
   "outputs": [
    {
     "name": "stdout",
     "output_type": "stream",
     "text": [
      "313/313 [==============================] - 1s 3ms/step - loss: 0.4313 - acc: 0.8415\n",
      "loss :  0.43127182126045227\n",
      "acc :  0.8414999842643738\n"
     ]
    }
   ],
   "source": [
    "loss,acc = model.evaluate(x_test,y_test)\n",
    "print(\"loss : \",loss)\n",
    "print(\"acc : \",acc)\n"
   ]
  }
 ],
 "metadata": {
  "kernelspec": {
   "display_name": "tf274gpu",
   "language": "python",
   "name": "python3"
  },
  "language_info": {
   "codemirror_mode": {
    "name": "ipython",
    "version": 3
   },
   "file_extension": ".py",
   "mimetype": "text/x-python",
   "name": "python",
   "nbconvert_exporter": "python",
   "pygments_lexer": "ipython3",
   "version": "3.9.15"
  },
  "orig_nbformat": 4,
  "vscode": {
   "interpreter": {
    "hash": "10848e9bd3f5e7d93542d388001135334854454e7336dcf54c4ef52885ee0fb0"
   }
  }
 },
 "nbformat": 4,
 "nbformat_minor": 2
}
