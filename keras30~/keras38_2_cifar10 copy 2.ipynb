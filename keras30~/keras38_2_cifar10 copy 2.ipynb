{
 "cells": [
  {
   "cell_type": "code",
   "execution_count": null,
   "metadata": {},
   "outputs": [],
   "source": [
    "import numpy as np\n",
    "from tensorflow.keras.models import Sequential\n",
    "from tensorflow.keras.layers import Activation, Conv2D, MaxPooling2D, Flatten, Dense, Dropout, BatchNormalization, GlobalAveragePooling2D \n",
    "from tensorflow.keras.datasets import cifar10\n",
    "\n",
    "# 이미 훈련과 테스트가 분리된 데이터임\n",
    "(x_train,y_train),(x_test,y_test) = cifar10.load_data()"
   ]
  },
  {
   "cell_type": "code",
   "execution_count": null,
   "metadata": {},
   "outputs": [],
   "source": [
    "# 데이터의 크기 확인\n",
    "# 28X28X1 = 흑백데이터다~ \n",
    "print(\"train\",x_train.shape,y_train.shape) #(50000, 32, 32, 3) (50000, 1)\n",
    "print(\"test\",x_test.shape,y_test.shape) # (10000, 32, 32, 3) (10000, 1)\n",
    "\n"
   ]
  },
  {
   "cell_type": "code",
   "execution_count": null,
   "metadata": {},
   "outputs": [],
   "source": [
    "# y의 클래스 보기\n",
    "a,b = np.unique(y_train,return_counts=1)\n",
    "# print(np.unique(y_train,return_counts=1))\n",
    "print(a)\n",
    "print(b)"
   ]
  },
  {
   "cell_type": "code",
   "execution_count": null,
   "metadata": {},
   "outputs": [],
   "source": [
    "# 크기변경\n",
    "# x_train = x_train.reshape(50000, 32, 32, 3)\n",
    "# x_test = x_test.reshape(50000, 32, 32, 3)"
   ]
  },
  {
   "cell_type": "code",
   "execution_count": null,
   "metadata": {},
   "outputs": [],
   "source": [
    "# 이미지 시각화\n",
    "import matplotlib.pyplot as plt\n",
    "plt.imshow(x_train[1])"
   ]
  },
  {
   "cell_type": "code",
   "execution_count": null,
   "metadata": {},
   "outputs": [],
   "source": [
    "# 모델\n",
    "# 베이스모델불러오기\n",
    "from tensorflow.keras.applications import efficientnet\n",
    "def build_model(input_shape, n_classes):\n",
    "\n",
    "    base_model = efficientnet.EfficientNetB0(input_shape=input_shape,\n",
    "                                      weights=\"imagenet\",\n",
    "                                      include_top=False,\n",
    "                                      classes=10)\n",
    "\n",
    "    model = Sequential()\n",
    "    model.add(base_model)\n",
    "    model.add(GlobalAveragePooling2D())\n",
    "    model.add(Dropout(0.5))\n",
    "    model.add(Dense(n_classes, activation='softmax'))\n",
    "    model.compile(optimizer='adam', loss='categorical_crossentropy', metrics=['accuracy'])\n",
    "\n",
    "    return model\n",
    "\n",
    "model = build_model(input_shape=(32, 32, 3), n_classes=10)\n",
    "model.summary()"
   ]
  },
  {
   "cell_type": "code",
   "execution_count": null,
   "metadata": {},
   "outputs": [],
   "source": [
    "\n",
    "# model = Sequential([\n",
    "#     # 5X5 이미지 채널 1개 \n",
    "#     # 필터 = output 노드수 \n",
    "#     # 자르는 필터는 2X2 사이즈 \n",
    "#     Conv2D(filters=128,kernel_size=(2,2),input_shape=(32,32,3),activation=\"relu\"),\n",
    "\n",
    "#     Conv2D(filters=64,kernel_size=(2,2),padding=\"valid\",activation=\"relu\"),   \n",
    "     \n",
    "     \n",
    "#     # 완전통합층에서는 falt + Flatten(),\n",
    "#     # Dense 의 인풋은 batch_size , input_dim\n",
    "#     Flatten(),\n",
    "#     Dense(32,activation=\"relu\"),\n",
    "#     Dense(10,activation=\"softmax\")\n",
    "# ])\n",
    "\n",
    "# model.summary()"
   ]
  },
  {
   "cell_type": "code",
   "execution_count": null,
   "metadata": {},
   "outputs": [],
   "source": [
    "model.compile(loss=\"sparse_categorical_crossentropy\",optimizer=\"adam\",metrics=[\"acc\"])"
   ]
  },
  {
   "cell_type": "code",
   "execution_count": null,
   "metadata": {},
   "outputs": [],
   "source": [
    "from tensorflow.keras.callbacks import EarlyStopping,ModelCheckpoint\n",
    "\n",
    "earlyStopping = EarlyStopping(monitor=\"val_loss\",\n",
    "                              mode=\"min\",patience =10,\n",
    "                              # True 면 좋았던 웨이트로 복원됨\n",
    "                              # False 면 마지막 웨이트로 놔둠..\n",
    "                              restore_best_weights=True,\n",
    "                              verbose=1                              \n",
    "                              )\n",
    "# 모델체크포인트는 가장 낮은 val_loss 가 갱신 될 떄 마다 저장합니다.\n",
    "\n",
    "mcp = ModelCheckpoint(\n",
    "    monitor=\"val_loss\",\n",
    "    mode=\"auto\",\n",
    "    save_best_only=True,\n",
    "    filepath= \"cifar.h5\",\n",
    "    verbose=1 \n",
    ")\n",
    "\n",
    "\n",
    "hist = model.fit(\n",
    "                x_train,\n",
    "                y_train,\n",
    "                epochs=10,\n",
    "                batch_size=64,\n",
    "                validation_split=0.2,\n",
    "                verbose=1,\n",
    "                callbacks = [earlyStopping,mcp],      \n",
    "                )"
   ]
  },
  {
   "cell_type": "code",
   "execution_count": null,
   "metadata": {},
   "outputs": [],
   "source": [
    "loss,acc = model.evaluate(x_test,y_test)\n",
    "print(\"loss : \",loss)\n",
    "print(\"acc : \",acc)\n"
   ]
  },
  {
   "cell_type": "code",
   "execution_count": null,
   "metadata": {},
   "outputs": [],
   "source": [
    "plt.plot(hist.history['acc'])\n",
    "plt.plot(hist.history['val_acc'])\n",
    "plt.title('Model Accuracy')\n",
    "plt.ylabel('Accuracy')\n",
    "plt.xlabel('Epoch')\n",
    "plt.legend(['acc', 'val_acc'], loc='upper left')\n",
    "plt.show()"
   ]
  },
  {
   "cell_type": "code",
   "execution_count": null,
   "metadata": {},
   "outputs": [],
   "source": [
    "plt.plot(hist.history['loss'])\n",
    "plt.plot(hist.history['val_loss'])\n",
    "plt.title('model loss')\n",
    "plt.ylabel('loss')\n",
    "plt.xlabel('epoch')\n",
    "plt.legend(['loss', 'val_loss'], loc='upper left')\n",
    "plt.show()"
   ]
  }
 ],
 "metadata": {
  "kernelspec": {
   "display_name": "tf274gpu",
   "language": "python",
   "name": "python3"
  },
  "language_info": {
   "codemirror_mode": {
    "name": "ipython",
    "version": 3
   },
   "file_extension": ".py",
   "mimetype": "text/x-python",
   "name": "python",
   "nbconvert_exporter": "python",
   "pygments_lexer": "ipython3",
   "version": "3.9.15 (main, Nov 24 2022, 14:39:17) [MSC v.1916 64 bit (AMD64)]"
  },
  "orig_nbformat": 4,
  "vscode": {
   "interpreter": {
    "hash": "10848e9bd3f5e7d93542d388001135334854454e7336dcf54c4ef52885ee0fb0"
   }
  }
 },
 "nbformat": 4,
 "nbformat_minor": 2
}
