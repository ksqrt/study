{
 "cells": [
  {
   "cell_type": "code",
   "execution_count": 1,
   "metadata": {},
   "outputs": [
    {
     "name": "stderr",
     "output_type": "stream",
     "text": [
      "c:\\Users\\bitcamp\\anaconda3\\envs\\tf274gpu\\lib\\site-packages\\sklearn\\utils\\deprecation.py:87: FutureWarning: Function load_boston is deprecated; `load_boston` is deprecated in 1.0 and will be removed in 1.2.\n",
      "\n",
      "    The Boston housing prices dataset has an ethical problem. You can refer to\n",
      "    the documentation of this function for further details.\n",
      "\n",
      "    The scikit-learn maintainers therefore strongly discourage the use of this\n",
      "    dataset unless the purpose of the code is to study and educate about\n",
      "    ethical issues in data science and machine learning.\n",
      "\n",
      "    In this special case, you can fetch the dataset from the original\n",
      "    source::\n",
      "\n",
      "        import pandas as pd\n",
      "        import numpy as np\n",
      "\n",
      "        data_url = \"http://lib.stat.cmu.edu/datasets/boston\"\n",
      "        raw_df = pd.read_csv(data_url, sep=\"\\s+\", skiprows=22, header=None)\n",
      "        data = np.hstack([raw_df.values[::2, :], raw_df.values[1::2, :2]])\n",
      "        target = raw_df.values[1::2, 2]\n",
      "\n",
      "    Alternative datasets include the California housing dataset (i.e.\n",
      "    :func:`~sklearn.datasets.fetch_california_housing`) and the Ames housing\n",
      "    dataset. You can load the datasets as follows::\n",
      "\n",
      "        from sklearn.datasets import fetch_california_housing\n",
      "        housing = fetch_california_housing()\n",
      "\n",
      "    for the California housing dataset and::\n",
      "\n",
      "        from sklearn.datasets import fetch_openml\n",
      "        housing = fetch_openml(name=\"house_prices\", as_frame=True)\n",
      "\n",
      "    for the Ames housing dataset.\n",
      "  warnings.warn(msg, category=FutureWarning)\n"
     ]
    }
   ],
   "source": [
    "from sklearn.datasets import load_boston\n",
    "import numpy as np\n",
    "import pandas as pd\n",
    "import tensorflow as tf\n",
    "from tensorflow.keras.models import Sequential,Model,load_model\n",
    "from tensorflow.keras.layers import Dense\n",
    "from sklearn.model_selection import train_test_split\n",
    "from sklearn.preprocessing import MinMaxScaler,StandardScaler\n",
    "import sklearn as sk\n",
    "dataset = load_boston()"
   ]
  },
  {
   "cell_type": "code",
   "execution_count": 2,
   "metadata": {},
   "outputs": [],
   "source": [
    "x = dataset.data\n",
    "y = dataset.target\n",
    "x= pd.DataFrame(x)\n",
    "# print(\"x 최솟값 : \",np.min(x))\n",
    "# print(\"x 최댓값 : \",np.max(x))"
   ]
  },
  {
   "cell_type": "code",
   "execution_count": 3,
   "metadata": {},
   "outputs": [
    {
     "name": "stdout",
     "output_type": "stream",
     "text": [
      "x 최솟값 :  -3.9071933049810337\n",
      "x 최댓값 :  9.933930601860268\n"
     ]
    }
   ],
   "source": [
    "# 스케일링 하기\n",
    "scaler = StandardScaler()\n",
    "# 가중치 생성후\n",
    "scaler.fit(x)\n",
    "# 변환\n",
    "x = scaler.transform(x)\n",
    "print(\"x 최솟값 : \",np.min(x))\n",
    "print(\"x 최댓값 : \",np.max(x))"
   ]
  },
  {
   "cell_type": "code",
   "execution_count": 4,
   "metadata": {},
   "outputs": [
    {
     "name": "stdout",
     "output_type": "stream",
     "text": [
      "354\n",
      "152\n"
     ]
    }
   ],
   "source": [
    "# 3. 모델구성\n",
    "# 실습 train 0.7 이상\n",
    "# 평가지표 R2 : 0.8 이상으로 뽑아내보기 / RMSE 사용\n",
    "\n",
    "x_train, x_test,y_train,y_test = train_test_split(x,y,\n",
    "    train_size=0.7,\n",
    "    shuffle = True,\n",
    "    random_state= 123\n",
    ")\n",
    "\n",
    "print(len(x_train))\n",
    "print(len(x_test))"
   ]
  },
  {
   "cell_type": "code",
   "execution_count": 5,
   "metadata": {},
   "outputs": [
    {
     "name": "stdout",
     "output_type": "stream",
     "text": [
      "(506, 13)\n",
      "(506,)\n"
     ]
    }
   ],
   "source": [
    "# 13개의 칼럼 을 가지고있는 데이터를 조회합니다\n",
    "print(x.shape) #(506,13)\n",
    "# print(x)\n",
    "print(y.shape) #(506,)\n",
    "# print(y)\n"
   ]
  },
  {
   "cell_type": "code",
   "execution_count": 6,
   "metadata": {},
   "outputs": [
    {
     "name": "stdout",
     "output_type": "stream",
     "text": [
      "['CRIM' 'ZN' 'INDUS' 'CHAS' 'NOX' 'RM' 'AGE' 'DIS' 'RAD' 'TAX' 'PTRATIO'\n",
      " 'B' 'LSTAT']\n",
      "13\n"
     ]
    }
   ],
   "source": [
    "# 사이킥 런의 칼럼 조회기능\n",
    "print(dataset.feature_names)\n",
    "print(len(dataset.feature_names))\n"
   ]
  },
  {
   "cell_type": "code",
   "execution_count": 7,
   "metadata": {},
   "outputs": [],
   "source": [
    "# 사이킥런의 데이터 요약\n",
    "# print(dataset.DESCR)"
   ]
  },
  {
   "cell_type": "code",
   "execution_count": 8,
   "metadata": {},
   "outputs": [
    {
     "name": "stdout",
     "output_type": "stream",
     "text": [
      "354\n",
      "152\n"
     ]
    }
   ],
   "source": [
    "# 3. 모델구성\n",
    "# 실습 train 0.7 이상\n",
    "# 평가지표 R2 : 0.8 이상으로 뽑아내보기 / RMSE 사용\n",
    "\n",
    "x_train, x_test,y_train,y_test = train_test_split(x,y,\n",
    "    train_size=0.7,\n",
    "    shuffle = True,\n",
    "    random_state= 123\n",
    ")\n",
    "\n",
    "scaler = MinMaxScaler()\n",
    "# 가중치 생성후\n",
    "scaler.fit(x_train)\n",
    "# x_train 의 가중치 변환\n",
    "x_train = scaler.transform(x_train)\n",
    "# x_test 는 변환만 !\n",
    "x_test = scaler.transform(x_test)\n",
    "\n",
    "print(len(x_train))\n",
    "print(len(x_test))"
   ]
  },
  {
   "cell_type": "code",
   "execution_count": 16,
   "metadata": {},
   "outputs": [
    {
     "name": "stdout",
     "output_type": "stream",
     "text": [
      "Model: \"model\"\n",
      "_________________________________________________________________\n",
      " Layer (type)                Output Shape              Param #   \n",
      "=================================================================\n",
      " input_1 (InputLayer)        [(None, 13)]              0         \n",
      "                                                                 \n",
      " dense_6 (Dense)             (None, 32)                448       \n",
      "                                                                 \n",
      " dense_7 (Dense)             (None, 64)                2112      \n",
      "                                                                 \n",
      " dense_8 (Dense)             (None, 128)               8320      \n",
      "                                                                 \n",
      " dense_9 (Dense)             (None, 64)                8256      \n",
      "                                                                 \n",
      " dense_10 (Dense)            (None, 32)                2080      \n",
      "                                                                 \n",
      " dense_11 (Dense)            (None, 1)                 33        \n",
      "                                                                 \n",
      "=================================================================\n",
      "Total params: 21,249\n",
      "Trainable params: 21,249\n",
      "Non-trainable params: 0\n",
      "_________________________________________________________________\n"
     ]
    }
   ],
   "source": [
    "from tensorflow.keras.models import Sequential,Model\n",
    "from tensorflow.keras.layers import Dense,Input\n",
    "path = \"../_save/\"\n",
    "model = load_model(path+\"MCP/keras30_ModelCheckPoint1.hdf5\")\n",
    "\n",
    "# model = Sequential([\n",
    "#     Dense(50,input_dim=13,activation=\"relu\"),\n",
    "#     Dense(50,activation=\"relu\"),\n",
    "#     Dense(50,activation=\"relu\"),\n",
    "#     Dense(50,activation=\"relu\"),\n",
    "#     Dense(50,activation=\"relu\"),\n",
    "#     Dense(1)\n",
    "# ])\n",
    "\n",
    "\n",
    "# # 3. 모델구성 함수형\n",
    "# input1 = Input(shape=(13,))\n",
    "# dense1 = Dense(32,activation=\"relu\")(input1)\n",
    "# dense2 = Dense(64,activation=\"relu\")(dense1)\n",
    "# dense3 = Dense(128,activation=\"relu\")(dense2)\n",
    "# dense4 = Dense(64,activation=\"relu\")(dense3)\n",
    "# dense5 = Dense(32,activation=\"relu\")(dense4)\n",
    "# output1 = Dense(1,activation=\"relu\")(dense5)\n",
    "\n",
    "# model=Model(inputs=input1,outputs=output1)\n",
    "\n",
    "model.summary()"
   ]
  },
  {
   "cell_type": "code",
   "execution_count": 10,
   "metadata": {},
   "outputs": [
    {
     "name": "stdout",
     "output_type": "stream",
     "text": [
      "Epoch 1/100\n",
      "82/95 [========================>.....] - ETA: 0s - loss: 308.0954\n",
      "Epoch 00001: val_loss improved from inf to 71.37557, saving model to ../_save/MCP\\keras30_ModelCheckPoint1.hdf5\n",
      "95/95 [==============================] - 1s 4ms/step - loss: 280.2379 - val_loss: 71.3756\n",
      "Epoch 2/100\n",
      "75/95 [======================>.......] - ETA: 0s - loss: 66.5039\n",
      "Epoch 00002: val_loss improved from 71.37557 to 41.27500, saving model to ../_save/MCP\\keras30_ModelCheckPoint1.hdf5\n",
      "95/95 [==============================] - 0s 3ms/step - loss: 69.6357 - val_loss: 41.2750\n",
      "Epoch 3/100\n",
      "78/95 [=======================>......] - ETA: 0s - loss: 46.6788\n",
      "Epoch 00003: val_loss improved from 41.27500 to 27.91860, saving model to ../_save/MCP\\keras30_ModelCheckPoint1.hdf5\n",
      "95/95 [==============================] - 0s 3ms/step - loss: 43.0468 - val_loss: 27.9186\n",
      "Epoch 4/100\n",
      "95/95 [==============================] - ETA: 0s - loss: 29.4996\n",
      "Epoch 00004: val_loss improved from 27.91860 to 24.18937, saving model to ../_save/MCP\\keras30_ModelCheckPoint1.hdf5\n",
      "95/95 [==============================] - 0s 3ms/step - loss: 29.4996 - val_loss: 24.1894\n",
      "Epoch 5/100\n",
      "86/95 [==========================>...] - ETA: 0s - loss: 22.4771\n",
      "Epoch 00005: val_loss improved from 24.18937 to 23.08864, saving model to ../_save/MCP\\keras30_ModelCheckPoint1.hdf5\n",
      "95/95 [==============================] - 0s 3ms/step - loss: 23.1727 - val_loss: 23.0886\n",
      "Epoch 6/100\n",
      "89/95 [===========================>..] - ETA: 0s - loss: 21.5743\n",
      "Epoch 00006: val_loss improved from 23.08864 to 17.85264, saving model to ../_save/MCP\\keras30_ModelCheckPoint1.hdf5\n",
      "95/95 [==============================] - 0s 3ms/step - loss: 21.6288 - val_loss: 17.8526\n",
      "Epoch 7/100\n",
      "94/95 [============================>.] - ETA: 0s - loss: 19.4238\n",
      "Epoch 00007: val_loss improved from 17.85264 to 17.25959, saving model to ../_save/MCP\\keras30_ModelCheckPoint1.hdf5\n",
      "95/95 [==============================] - 0s 3ms/step - loss: 19.3780 - val_loss: 17.2596\n",
      "Epoch 8/100\n",
      "92/95 [============================>.] - ETA: 0s - loss: 17.5985\n",
      "Epoch 00008: val_loss improved from 17.25959 to 16.82784, saving model to ../_save/MCP\\keras30_ModelCheckPoint1.hdf5\n",
      "95/95 [==============================] - 0s 3ms/step - loss: 17.8235 - val_loss: 16.8278\n",
      "Epoch 9/100\n",
      "72/95 [=====================>........] - ETA: 0s - loss: 16.8656\n",
      "Epoch 00009: val_loss did not improve from 16.82784\n",
      "95/95 [==============================] - 0s 3ms/step - loss: 18.3692 - val_loss: 20.8129\n",
      "Epoch 10/100\n",
      "89/95 [===========================>..] - ETA: 0s - loss: 16.6721\n",
      "Epoch 00010: val_loss improved from 16.82784 to 15.37270, saving model to ../_save/MCP\\keras30_ModelCheckPoint1.hdf5\n",
      "95/95 [==============================] - 0s 3ms/step - loss: 16.0760 - val_loss: 15.3727\n",
      "Epoch 11/100\n",
      "88/95 [==========================>...] - ETA: 0s - loss: 13.9189\n",
      "Epoch 00011: val_loss did not improve from 15.37270\n",
      "95/95 [==============================] - 0s 3ms/step - loss: 15.6712 - val_loss: 15.7444\n",
      "Epoch 12/100\n",
      "73/95 [======================>.......] - ETA: 0s - loss: 17.5836\n",
      "Epoch 00012: val_loss did not improve from 15.37270\n",
      "95/95 [==============================] - 0s 3ms/step - loss: 17.3470 - val_loss: 23.3934\n",
      "Epoch 13/100\n",
      "84/95 [=========================>....] - ETA: 0s - loss: 15.1135\n",
      "Epoch 00013: val_loss improved from 15.37270 to 14.05778, saving model to ../_save/MCP\\keras30_ModelCheckPoint1.hdf5\n",
      "95/95 [==============================] - 0s 3ms/step - loss: 14.4522 - val_loss: 14.0578\n",
      "Epoch 14/100\n",
      "83/95 [=========================>....] - ETA: 0s - loss: 13.3590\n",
      "Epoch 00014: val_loss did not improve from 14.05778\n",
      "95/95 [==============================] - 0s 3ms/step - loss: 12.9688 - val_loss: 15.9725\n",
      "Epoch 15/100\n",
      "86/95 [==========================>...] - ETA: 0s - loss: 15.0876\n",
      "Epoch 00015: val_loss did not improve from 14.05778\n",
      "95/95 [==============================] - 0s 3ms/step - loss: 14.5203 - val_loss: 14.3647\n",
      "Epoch 16/100\n",
      "89/95 [===========================>..] - ETA: 0s - loss: 15.7889\n",
      "Epoch 00016: val_loss did not improve from 14.05778\n",
      "95/95 [==============================] - 0s 3ms/step - loss: 15.9374 - val_loss: 17.2308\n",
      "Epoch 17/100\n",
      "92/95 [============================>.] - ETA: 0s - loss: 13.3344\n",
      "Epoch 00017: val_loss did not improve from 14.05778\n",
      "95/95 [==============================] - 0s 3ms/step - loss: 13.2408 - val_loss: 15.3810\n",
      "Epoch 18/100\n",
      "84/95 [=========================>....] - ETA: 0s - loss: 14.7931\n",
      "Epoch 00018: val_loss improved from 14.05778 to 12.80928, saving model to ../_save/MCP\\keras30_ModelCheckPoint1.hdf5\n",
      "95/95 [==============================] - 0s 3ms/step - loss: 13.9743 - val_loss: 12.8093\n",
      "Epoch 19/100\n",
      "90/95 [===========================>..] - ETA: 0s - loss: 13.3965\n",
      "Epoch 00019: val_loss did not improve from 12.80928\n",
      "95/95 [==============================] - 0s 3ms/step - loss: 12.9516 - val_loss: 13.1369\n",
      "Epoch 20/100\n",
      "89/95 [===========================>..] - ETA: 0s - loss: 11.9086\n",
      "Epoch 00020: val_loss improved from 12.80928 to 12.74984, saving model to ../_save/MCP\\keras30_ModelCheckPoint1.hdf5\n",
      "95/95 [==============================] - 0s 3ms/step - loss: 11.7669 - val_loss: 12.7498\n",
      "Epoch 21/100\n",
      "87/95 [==========================>...] - ETA: 0s - loss: 10.7516\n",
      "Epoch 00021: val_loss did not improve from 12.74984\n",
      "95/95 [==============================] - 0s 3ms/step - loss: 10.9037 - val_loss: 13.0204\n",
      "Epoch 22/100\n",
      "84/95 [=========================>....] - ETA: 0s - loss: 12.1350\n",
      "Epoch 00022: val_loss did not improve from 12.74984\n",
      "95/95 [==============================] - 0s 3ms/step - loss: 12.1099 - val_loss: 17.2280\n",
      "Epoch 23/100\n",
      "83/95 [=========================>....] - ETA: 0s - loss: 11.1138\n",
      "Epoch 00023: val_loss did not improve from 12.74984\n",
      "95/95 [==============================] - 0s 3ms/step - loss: 10.6992 - val_loss: 13.7420\n",
      "Epoch 24/100\n",
      "86/95 [==========================>...] - ETA: 0s - loss: 12.3524\n",
      "Epoch 00024: val_loss improved from 12.74984 to 12.43306, saving model to ../_save/MCP\\keras30_ModelCheckPoint1.hdf5\n",
      "95/95 [==============================] - 0s 3ms/step - loss: 12.5890 - val_loss: 12.4331\n",
      "Epoch 25/100\n",
      "92/95 [============================>.] - ETA: 0s - loss: 11.8453\n",
      "Epoch 00025: val_loss did not improve from 12.43306\n",
      "95/95 [==============================] - 0s 3ms/step - loss: 11.7938 - val_loss: 15.4419\n",
      "Epoch 26/100\n",
      "86/95 [==========================>...] - ETA: 0s - loss: 10.7141\n",
      "Epoch 00026: val_loss did not improve from 12.43306\n",
      "95/95 [==============================] - 0s 3ms/step - loss: 10.5473 - val_loss: 12.7591\n",
      "Epoch 27/100\n",
      "86/95 [==========================>...] - ETA: 0s - loss: 11.7495\n",
      "Epoch 00027: val_loss improved from 12.43306 to 12.19955, saving model to ../_save/MCP\\keras30_ModelCheckPoint1.hdf5\n",
      "95/95 [==============================] - 0s 3ms/step - loss: 11.2693 - val_loss: 12.1995\n",
      "Epoch 28/100\n",
      "93/95 [============================>.] - ETA: 0s - loss: 10.0848\n",
      "Epoch 00028: val_loss did not improve from 12.19955\n",
      "95/95 [==============================] - 0s 3ms/step - loss: 9.9778 - val_loss: 17.2220\n",
      "Epoch 29/100\n",
      "88/95 [==========================>...] - ETA: 0s - loss: 11.7035\n",
      "Epoch 00029: val_loss did not improve from 12.19955\n",
      "95/95 [==============================] - 0s 3ms/step - loss: 11.4930 - val_loss: 13.8340\n",
      "Epoch 30/100\n",
      "73/95 [======================>.......] - ETA: 0s - loss: 10.9127\n",
      "Epoch 00030: val_loss did not improve from 12.19955\n",
      "95/95 [==============================] - 0s 3ms/step - loss: 10.5538 - val_loss: 15.5499\n",
      "Epoch 31/100\n",
      "90/95 [===========================>..] - ETA: 0s - loss: 12.8458\n",
      "Epoch 00031: val_loss did not improve from 12.19955\n",
      "95/95 [==============================] - 0s 3ms/step - loss: 12.7007 - val_loss: 15.0287\n",
      "Epoch 32/100\n",
      "93/95 [============================>.] - ETA: 0s - loss: 10.4017\n",
      "Epoch 00032: val_loss did not improve from 12.19955\n",
      "95/95 [==============================] - 0s 3ms/step - loss: 10.3822 - val_loss: 15.7097\n",
      "Epoch 33/100\n",
      "88/95 [==========================>...] - ETA: 0s - loss: 10.2140\n",
      "Epoch 00033: val_loss did not improve from 12.19955\n",
      "95/95 [==============================] - 0s 3ms/step - loss: 10.3223 - val_loss: 13.7491\n",
      "Epoch 34/100\n",
      "90/95 [===========================>..] - ETA: 0s - loss: 9.9139 \n",
      "Epoch 00034: val_loss did not improve from 12.19955\n",
      "95/95 [==============================] - 0s 3ms/step - loss: 9.7883 - val_loss: 16.7888\n",
      "Epoch 35/100\n",
      "91/95 [===========================>..] - ETA: 0s - loss: 8.8557\n",
      "Epoch 00035: val_loss did not improve from 12.19955\n",
      "95/95 [==============================] - 0s 3ms/step - loss: 8.7959 - val_loss: 17.7052\n",
      "Epoch 36/100\n",
      "81/95 [========================>.....] - ETA: 0s - loss: 10.4060\n",
      "Epoch 00036: val_loss improved from 12.19955 to 11.73700, saving model to ../_save/MCP\\keras30_ModelCheckPoint1.hdf5\n",
      "95/95 [==============================] - 0s 3ms/step - loss: 10.1854 - val_loss: 11.7370\n",
      "Epoch 37/100\n",
      "89/95 [===========================>..] - ETA: 0s - loss: 9.7925 \n",
      "Epoch 00037: val_loss did not improve from 11.73700\n",
      "95/95 [==============================] - 0s 3ms/step - loss: 9.9337 - val_loss: 12.1432\n",
      "Epoch 38/100\n",
      "87/95 [==========================>...] - ETA: 0s - loss: 10.1537\n",
      "Epoch 00038: val_loss did not improve from 11.73700\n",
      "95/95 [==============================] - 0s 3ms/step - loss: 9.9683 - val_loss: 12.3998\n",
      "Epoch 39/100\n",
      "86/95 [==========================>...] - ETA: 0s - loss: 10.7452\n",
      "Epoch 00039: val_loss did not improve from 11.73700\n",
      "95/95 [==============================] - 0s 3ms/step - loss: 10.3693 - val_loss: 11.9451\n",
      "Epoch 40/100\n",
      "95/95 [==============================] - ETA: 0s - loss: 8.1458\n",
      "Epoch 00040: val_loss did not improve from 11.73700\n",
      "95/95 [==============================] - 0s 3ms/step - loss: 8.1458 - val_loss: 13.4199\n",
      "Epoch 41/100\n",
      "73/95 [======================>.......] - ETA: 0s - loss: 7.1795\n",
      "Epoch 00041: val_loss did not improve from 11.73700\n",
      "95/95 [==============================] - 0s 3ms/step - loss: 7.4166 - val_loss: 16.6935\n",
      "Epoch 42/100\n",
      "87/95 [==========================>...] - ETA: 0s - loss: 8.8766\n",
      "Epoch 00042: val_loss did not improve from 11.73700\n",
      "95/95 [==============================] - 0s 3ms/step - loss: 8.8093 - val_loss: 12.1226\n",
      "Epoch 43/100\n",
      "90/95 [===========================>..] - ETA: 0s - loss: 8.1171\n",
      "Epoch 00043: val_loss did not improve from 11.73700\n",
      "95/95 [==============================] - 0s 3ms/step - loss: 8.0607 - val_loss: 17.0316\n",
      "Epoch 44/100\n",
      "80/95 [========================>.....] - ETA: 0s - loss: 7.8283\n",
      "Epoch 00044: val_loss improved from 11.73700 to 11.66675, saving model to ../_save/MCP\\keras30_ModelCheckPoint1.hdf5\n",
      "95/95 [==============================] - 0s 4ms/step - loss: 7.7013 - val_loss: 11.6668\n",
      "Epoch 45/100\n",
      "83/95 [=========================>....] - ETA: 0s - loss: 8.0199\n",
      "Epoch 00045: val_loss did not improve from 11.66675\n",
      "95/95 [==============================] - 0s 3ms/step - loss: 7.6970 - val_loss: 14.2661\n",
      "Epoch 46/100\n",
      "79/95 [=======================>......] - ETA: 0s - loss: 7.5694\n",
      "Epoch 00046: val_loss improved from 11.66675 to 11.52905, saving model to ../_save/MCP\\keras30_ModelCheckPoint1.hdf5\n",
      "95/95 [==============================] - 0s 3ms/step - loss: 8.1171 - val_loss: 11.5291\n",
      "Epoch 47/100\n",
      "83/95 [=========================>....] - ETA: 0s - loss: 7.7411\n",
      "Epoch 00047: val_loss did not improve from 11.52905\n",
      "95/95 [==============================] - 0s 3ms/step - loss: 8.2698 - val_loss: 14.0552\n",
      "Epoch 48/100\n",
      "87/95 [==========================>...] - ETA: 0s - loss: 10.5842\n",
      "Epoch 00048: val_loss did not improve from 11.52905\n",
      "95/95 [==============================] - 0s 3ms/step - loss: 10.2454 - val_loss: 13.1824\n",
      "Epoch 49/100\n",
      "89/95 [===========================>..] - ETA: 0s - loss: 7.5132\n",
      "Epoch 00049: val_loss did not improve from 11.52905\n",
      "95/95 [==============================] - 0s 3ms/step - loss: 7.8448 - val_loss: 14.5105\n",
      "Epoch 50/100\n",
      "94/95 [============================>.] - ETA: 0s - loss: 7.5345\n",
      "Epoch 00050: val_loss did not improve from 11.52905\n",
      "95/95 [==============================] - 0s 3ms/step - loss: 7.5083 - val_loss: 13.8203\n",
      "Epoch 51/100\n",
      "95/95 [==============================] - ETA: 0s - loss: 7.3674\n",
      "Epoch 00051: val_loss did not improve from 11.52905\n",
      "95/95 [==============================] - 0s 3ms/step - loss: 7.3674 - val_loss: 23.5745\n",
      "Epoch 52/100\n",
      "86/95 [==========================>...] - ETA: 0s - loss: 7.6836\n",
      "Epoch 00052: val_loss did not improve from 11.52905\n",
      "95/95 [==============================] - 0s 3ms/step - loss: 7.9335 - val_loss: 14.2815\n",
      "Epoch 53/100\n",
      "87/95 [==========================>...] - ETA: 0s - loss: 6.5297\n",
      "Epoch 00053: val_loss did not improve from 11.52905\n",
      "95/95 [==============================] - 0s 3ms/step - loss: 6.6465 - val_loss: 12.3782\n",
      "Epoch 54/100\n",
      "83/95 [=========================>....] - ETA: 0s - loss: 6.5959\n",
      "Epoch 00054: val_loss did not improve from 11.52905\n",
      "95/95 [==============================] - 0s 3ms/step - loss: 6.9910 - val_loss: 13.5100\n",
      "Epoch 55/100\n",
      "88/95 [==========================>...] - ETA: 0s - loss: 7.7860\n",
      "Epoch 00055: val_loss did not improve from 11.52905\n",
      "95/95 [==============================] - 0s 3ms/step - loss: 7.4920 - val_loss: 13.1618\n",
      "Epoch 56/100\n",
      "86/95 [==========================>...] - ETA: 0s - loss: 7.6099Restoring model weights from the end of the best epoch: 46.\n",
      "\n",
      "Epoch 00056: val_loss did not improve from 11.52905\n",
      "95/95 [==============================] - 0s 3ms/step - loss: 8.2994 - val_loss: 12.1072\n",
      "Epoch 00056: early stopping\n"
     ]
    }
   ],
   "source": [
    "# from tensorflow.keras.callbacks import EarlyStopping,ModelCheckpoint\n",
    "\n",
    "# path = \"../_save/\"\n",
    "\n",
    "# earlyStopping = EarlyStopping(monitor=\"val_loss\",\n",
    "#                               mode=\"min\",patience =10,\n",
    "#                               restore_best_weights=True,\n",
    "#                               verbose=1                              \n",
    "#                               )\n",
    "# # 모델체크포인트는 가장 낮은 val_loss 가 갱신 될 떄 마다 저장합니다.\n",
    "\n",
    "# mcp = ModelCheckpoint(\n",
    "#     monitor=\"val_loss\",\n",
    "#     mode=\"auto\",\n",
    "#     save_best_only=True,\n",
    "#     filepath= path+\"MCP/keras30_ModelCheckPoint1.hdf5\",\n",
    "#     verbose=1 \n",
    "# )\n",
    "                    \n",
    "    \n",
    "# model.compile(loss=\"mse\",optimizer=\"adam\")\n",
    "\n",
    "# # model.fit 이 반환한 기록을 저장\n",
    "# hist = model.fit(\n",
    "#                 x_train,\n",
    "#                 y_train,\n",
    "#                 epochs=100,\n",
    "#                 batch_size=3,\n",
    "#                 validation_split=0.2,\n",
    "#                 verbose=1,\n",
    "#                 callbacks = [earlyStopping,mcp],\n",
    "                \n",
    "#                 )\n"
   ]
  },
  {
   "cell_type": "code",
   "execution_count": 17,
   "metadata": {},
   "outputs": [
    {
     "data": {
      "image/png": "[encoded data removed]",
      "text/plain": [
       "<Figure size 640x480 with 1 Axes>"
      ]
     },
     "metadata": {},
     "output_type": "display_data"
    }
   ],
   "source": [
    "import matplotlib.pylab as plt\n",
    "\n",
    "plt.plot(hist.history['loss'])\n",
    "plt.plot(hist.history['val_loss'])\n",
    "plt.title('Model Accuracy')\n",
    "plt.ylabel('Accuracy')\n",
    "plt.xlabel('Epoch')\n",
    "plt.legend(['train', 'test'], loc='upper left')\n",
    "plt.show()"
   ]
  },
  {
   "cell_type": "code",
   "execution_count": 12,
   "metadata": {},
   "outputs": [],
   "source": [
    "# 모델저장\n",
    "\n",
    "path = \"../_save/\"\n",
    "\n",
    "# model.save_weights(path+\"save_weight2.h5\")"
   ]
  },
  {
   "cell_type": "code",
   "execution_count": 13,
   "metadata": {},
   "outputs": [
    {
     "ename": "ValueError",
     "evalue": "Cannot assign value to variable ' dense_6/kernel:0': Shape mismatch.The variable shape (13, 32), and the assigned value shape (13, 50) are incompatible.",
     "output_type": "error",
     "traceback": [
      "\u001b[1;31m---------------------------------------------------------------------------\u001b[0m",
      "\u001b[1;31mValueError\u001b[0m                                Traceback (most recent call last)",
      "\u001b[1;32m~\\AppData\\Local\\Temp\\ipykernel_9120\\179484252.py\u001b[0m in \u001b[0;36m<module>\u001b[1;34m\u001b[0m\n\u001b[0;32m      5\u001b[0m \u001b[1;33m\u001b[0m\u001b[0m\n\u001b[0;32m      6\u001b[0m \u001b[1;31m# 가중치 불러오기는 모델이 저장 되어 있어야 가능함\u001b[0m\u001b[1;33m\u001b[0m\u001b[1;33m\u001b[0m\u001b[0m\n\u001b[1;32m----> 7\u001b[1;33m \u001b[0mmodel\u001b[0m\u001b[1;33m.\u001b[0m\u001b[0mload_weights\u001b[0m\u001b[1;33m(\u001b[0m\u001b[0mpath\u001b[0m\u001b[1;33m+\u001b[0m\u001b[1;34m\"save_weight2.h5\"\u001b[0m\u001b[1;33m)\u001b[0m\u001b[1;33m\u001b[0m\u001b[1;33m\u001b[0m\u001b[0m\n\u001b[0m",
      "\u001b[1;32mc:\\Users\\bitcamp\\anaconda3\\envs\\tf274gpu\\lib\\site-packages\\keras\\utils\\traceback_utils.py\u001b[0m in \u001b[0;36merror_handler\u001b[1;34m(*args, **kwargs)\u001b[0m\n\u001b[0;32m     65\u001b[0m     \u001b[1;32mexcept\u001b[0m \u001b[0mException\u001b[0m \u001b[1;32mas\u001b[0m \u001b[0me\u001b[0m\u001b[1;33m:\u001b[0m  \u001b[1;31m# pylint: disable=broad-except\u001b[0m\u001b[1;33m\u001b[0m\u001b[1;33m\u001b[0m\u001b[0m\n\u001b[0;32m     66\u001b[0m       \u001b[0mfiltered_tb\u001b[0m \u001b[1;33m=\u001b[0m \u001b[0m_process_traceback_frames\u001b[0m\u001b[1;33m(\u001b[0m\u001b[0me\u001b[0m\u001b[1;33m.\u001b[0m\u001b[0m__traceback__\u001b[0m\u001b[1;33m)\u001b[0m\u001b[1;33m\u001b[0m\u001b[1;33m\u001b[0m\u001b[0m\n\u001b[1;32m---> 67\u001b[1;33m       \u001b[1;32mraise\u001b[0m \u001b[0me\u001b[0m\u001b[1;33m.\u001b[0m\u001b[0mwith_traceback\u001b[0m\u001b[1;33m(\u001b[0m\u001b[0mfiltered_tb\u001b[0m\u001b[1;33m)\u001b[0m \u001b[1;32mfrom\u001b[0m \u001b[1;32mNone\u001b[0m\u001b[1;33m\u001b[0m\u001b[1;33m\u001b[0m\u001b[0m\n\u001b[0m\u001b[0;32m     68\u001b[0m     \u001b[1;32mfinally\u001b[0m\u001b[1;33m:\u001b[0m\u001b[1;33m\u001b[0m\u001b[1;33m\u001b[0m\u001b[0m\n\u001b[0;32m     69\u001b[0m       \u001b[1;32mdel\u001b[0m \u001b[0mfiltered_tb\u001b[0m\u001b[1;33m\u001b[0m\u001b[1;33m\u001b[0m\u001b[0m\n",
      "\u001b[1;32mc:\\Users\\bitcamp\\anaconda3\\envs\\tf274gpu\\lib\\site-packages\\keras\\backend.py\u001b[0m in \u001b[0;36mbatch_set_value\u001b[1;34m(tuples)\u001b[0m\n\u001b[0;32m   3928\u001b[0m   \u001b[1;32mif\u001b[0m \u001b[0mtf\u001b[0m\u001b[1;33m.\u001b[0m\u001b[0mcompat\u001b[0m\u001b[1;33m.\u001b[0m\u001b[0mv1\u001b[0m\u001b[1;33m.\u001b[0m\u001b[0mexecuting_eagerly_outside_functions\u001b[0m\u001b[1;33m(\u001b[0m\u001b[1;33m)\u001b[0m\u001b[1;33m:\u001b[0m\u001b[1;33m\u001b[0m\u001b[1;33m\u001b[0m\u001b[0m\n\u001b[0;32m   3929\u001b[0m     \u001b[1;32mfor\u001b[0m \u001b[0mx\u001b[0m\u001b[1;33m,\u001b[0m \u001b[0mvalue\u001b[0m \u001b[1;32min\u001b[0m \u001b[0mtuples\u001b[0m\u001b[1;33m:\u001b[0m\u001b[1;33m\u001b[0m\u001b[1;33m\u001b[0m\u001b[0m\n\u001b[1;32m-> 3930\u001b[1;33m       \u001b[0mx\u001b[0m\u001b[1;33m.\u001b[0m\u001b[0massign\u001b[0m\u001b[1;33m(\u001b[0m\u001b[0mnp\u001b[0m\u001b[1;33m.\u001b[0m\u001b[0masarray\u001b[0m\u001b[1;33m(\u001b[0m\u001b[0mvalue\u001b[0m\u001b[1;33m,\u001b[0m \u001b[0mdtype\u001b[0m\u001b[1;33m=\u001b[0m\u001b[0mdtype_numpy\u001b[0m\u001b[1;33m(\u001b[0m\u001b[0mx\u001b[0m\u001b[1;33m)\u001b[0m\u001b[1;33m)\u001b[0m\u001b[1;33m)\u001b[0m\u001b[1;33m\u001b[0m\u001b[1;33m\u001b[0m\u001b[0m\n\u001b[0m\u001b[0;32m   3931\u001b[0m   \u001b[1;32melse\u001b[0m\u001b[1;33m:\u001b[0m\u001b[1;33m\u001b[0m\u001b[1;33m\u001b[0m\u001b[0m\n\u001b[0;32m   3932\u001b[0m     \u001b[1;32mwith\u001b[0m \u001b[0mget_graph\u001b[0m\u001b[1;33m(\u001b[0m\u001b[1;33m)\u001b[0m\u001b[1;33m.\u001b[0m\u001b[0mas_default\u001b[0m\u001b[1;33m(\u001b[0m\u001b[1;33m)\u001b[0m\u001b[1;33m:\u001b[0m\u001b[1;33m\u001b[0m\u001b[1;33m\u001b[0m\u001b[0m\n",
      "\u001b[1;31mValueError\u001b[0m: Cannot assign value to variable ' dense_6/kernel:0': Shape mismatch.The variable shape (13, 32), and the assigned value shape (13, 50) are incompatible."
     ]
    }
   ],
   "source": [
    "# # 모델불러오기\n",
    "# from tensorflow.keras.models import load_model\n",
    "\n",
    "# path = \"../_save/\"\n",
    "\n",
    "# # 가중치 불러오기는 모델이 저장 되어 있어야 가능함\n",
    "# model.load_weights(path+\"save_weight2.h5\")"
   ]
  },
  {
   "cell_type": "code",
   "execution_count": null,
   "metadata": {},
   "outputs": [
    {
     "name": "stdout",
     "output_type": "stream",
     "text": [
      "Model: \"model_4\"\n",
      "_________________________________________________________________\n",
      " Layer (type)                Output Shape              Param #   \n",
      "=================================================================\n",
      " input_5 (InputLayer)        [(None, 13)]              0         \n",
      "                                                                 \n",
      " dense_54 (Dense)            (None, 50)                700       \n",
      "                                                                 \n",
      " dense_55 (Dense)            (None, 50)                2550      \n",
      "                                                                 \n",
      " dense_56 (Dense)            (None, 50)                2550      \n",
      "                                                                 \n",
      " dense_57 (Dense)            (None, 50)                2550      \n",
      "                                                                 \n",
      " dense_58 (Dense)            (None, 50)                2550      \n",
      "                                                                 \n",
      " dense_59 (Dense)            (None, 1)                 51        \n",
      "                                                                 \n",
      "=================================================================\n",
      "Total params: 10,951\n",
      "Trainable params: 10,951\n",
      "Non-trainable params: 0\n",
      "_________________________________________________________________\n"
     ]
    }
   ],
   "source": [
    "model.summary()"
   ]
  },
  {
   "cell_type": "code",
   "execution_count": 20,
   "metadata": {},
   "outputs": [
    {
     "name": "stdout",
     "output_type": "stream",
     "text": [
      "5/5 [==============================] - 0s 2ms/step - loss: 21.2319\n",
      "loss :  21.231895446777344\n"
     ]
    }
   ],
   "source": [
    "# 평가 예측\n",
    "loss = model.evaluate(x_test,y_test)\n",
    "\n",
    "print(\"loss : \",loss)"
   ]
  }
 ],
 "metadata": {
  "kernelspec": {
   "display_name": "tf274gpu",
   "language": "python",
   "name": "python3"
  },
  "language_info": {
   "codemirror_mode": {
    "name": "ipython",
    "version": 3
   },
   "file_extension": ".py",
   "mimetype": "text/x-python",
   "name": "python",
   "nbconvert_exporter": "python",
   "pygments_lexer": "ipython3",
   "version": "3.9.15"
  },
  "orig_nbformat": 4,
  "vscode": {
   "interpreter": {
    "hash": "10848e9bd3f5e7d93542d388001135334854454e7336dcf54c4ef52885ee0fb0"
   }
  }
 },
 "nbformat": 4,
 "nbformat_minor": 2
}
