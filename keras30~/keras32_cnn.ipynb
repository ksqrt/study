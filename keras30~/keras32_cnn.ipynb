{
 "cells": [
  {
   "cell_type": "code",
   "execution_count": 7,
   "metadata": {},
   "outputs": [
    {
     "name": "stdout",
     "output_type": "stream",
     "text": [
      "Model: \"sequential_5\"\n",
      "_________________________________________________________________\n",
      " Layer (type)                Output Shape              Param #   \n",
      "=================================================================\n",
      " conv2d_15 (Conv2D)          (None, 9, 9, 10)          50        \n",
      "                                                                 \n",
      " conv2d_16 (Conv2D)          (None, 8, 8, 5)           205       \n",
      "                                                                 \n",
      " conv2d_17 (Conv2D)          (None, 7, 7, 7)           147       \n",
      "                                                                 \n",
      " conv2d_18 (Conv2D)          (None, 6, 6, 6)           174       \n",
      "                                                                 \n",
      " flatten_5 (Flatten)         (None, 216)               0         \n",
      "                                                                 \n",
      " dense_10 (Dense)            (None, 10)                2170      \n",
      "                                                                 \n",
      " dense_11 (Dense)            (None, 1)                 11        \n",
      "                                                                 \n",
      "=================================================================\n",
      "Total params: 2,757\n",
      "Trainable params: 2,757\n",
      "Non-trainable params: 0\n",
      "_________________________________________________________________\n"
     ]
    }
   ],
   "source": [
    "from tensorflow.keras.models import Sequential\n",
    "from tensorflow.keras.layers import Dense,Conv2D,Flatten\n",
    "\n",
    "model = Sequential([\n",
    "    # 5X5 이미지 채널 1개 \n",
    "    # 필터 = output 노드수 \n",
    "    # 자르는 필터는 2X2 사이즈\n",
    "    Conv2D(filters=10,kernel_size=(2,2),input_shape=(10,10,1)),\n",
    "    # batch_size, rows,colums,channels\n",
    "    Conv2D(5,(2,2)),\n",
    "    Conv2D(7,(2,2)),\n",
    "    # 2 만 써줘도 2,2로 인식 \n",
    "    Conv2D(6,kernel_size = 2),    \n",
    "    Flatten(),\n",
    "    Dense(units=10),\n",
    "    # Dense 의 인풋은 batch_size , input_dim\n",
    "    Dense(1,activation=\"relu\")\n",
    "])\n",
    "\n",
    "model.summary()\n"
   ]
  },
  {
   "cell_type": "code",
   "execution_count": null,
   "metadata": {},
   "outputs": [],
   "source": []
  }
 ],
 "metadata": {
  "kernelspec": {
   "display_name": "tf274gpu",
   "language": "python",
   "name": "python3"
  },
  "language_info": {
   "codemirror_mode": {
    "name": "ipython",
    "version": 3
   },
   "file_extension": ".py",
   "mimetype": "text/x-python",
   "name": "python",
   "nbconvert_exporter": "python",
   "pygments_lexer": "ipython3",
   "version": "3.9.15"
  },
  "orig_nbformat": 4,
  "vscode": {
   "interpreter": {
    "hash": "10848e9bd3f5e7d93542d388001135334854454e7336dcf54c4ef52885ee0fb0"
   }
  }
 },
 "nbformat": 4,
 "nbformat_minor": 2
}
