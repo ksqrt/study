{
 "cells": [
  {
   "cell_type": "code",
   "execution_count": 5,
   "metadata": {},
   "outputs": [],
   "source": [
    "# 파이썬 패키지 목록 확인하기\n",
    "!pip freeze > requirements.txt\n"
   ]
  },
  {
   "cell_type": "code",
   "execution_count": 16,
   "metadata": {},
   "outputs": [
    {
     "name": "stdout",
     "output_type": "stream",
     "text": [
      "2.10.1\n"
     ]
    },
    {
     "data": {
      "text/plain": [
       "[name: \"/device:CPU:0\"\n",
       " device_type: \"CPU\"\n",
       " memory_limit: 268435456\n",
       " locality {\n",
       " }\n",
       " incarnation: 7383912730419130035\n",
       " xla_global_id: -1]"
      ]
     },
     "execution_count": 16,
     "metadata": {},
     "output_type": "execute_result"
    }
   ],
   "source": [
    "import tensorflow as tf\n",
    "import numpy as np\n",
    "import os\n",
    "os.environ[\"CUDA_VISIBLE_DEVICES\"] = \"1\" \n",
    "print(tf.__version__)\n",
    "from tensorflow.python.client import device_lib\n",
    "device_lib.list_local_devices()"
   ]
  },
  {
   "cell_type": "code",
   "execution_count": 8,
   "metadata": {},
   "outputs": [
    {
     "name": "stdout",
     "output_type": "stream",
     "text": [
      "(2, 2)\n",
      "(1, 1, 3)\n",
      "(2, 3)\n",
      "(1, 2, 1)\n",
      "(2,)\n"
     ]
    },
    {
     "name": "stderr",
     "output_type": "stream",
     "text": [
      "C:\\Users\\bitcamp\\AppData\\Local\\Temp\\ipykernel_1496\\444391095.py:9: VisibleDeprecationWarning: Creating an ndarray from ragged nested sequences (which is a list-or-tuple of lists-or-tuples-or ndarrays with different lengths or shapes) is deprecated. If you meant to do this, you must specify 'dtype=object' when creating the ndarray.\n",
      "  a = np.array([[1,2,3],[4,5]])\n"
     ]
    }
   ],
   "source": [
    "a = np.array([[1,2],[3,4]])\n",
    "print(a.shape)\n",
    "a = np.array([[[1,2,3]]])\n",
    "print(a.shape)\n",
    "a = np.array([[1,2,3],[4,5,6]])\n",
    "print(a.shape)\n",
    "a = np.array([[[1],[2]]])\n",
    "print(a.shape)\n",
    "a = np.array([[1,2,3],[4,5]])\n",
    "print(a.shape)\n"
   ]
  },
  {
   "cell_type": "code",
   "execution_count": 10,
   "metadata": {},
   "outputs": [
    {
     "name": "stdout",
     "output_type": "stream",
     "text": [
      "[0.03437988 0.37132459 0.69619231 0.30584578 0.44848634 0.29587775\n",
      " 0.81044179 0.74577456 0.71335727 0.27760512]\n"
     ]
    }
   ],
   "source": [
    "arr = np.random.rand(10)\n",
    "\n",
    "print(arr)"
   ]
  },
  {
   "cell_type": "code",
   "execution_count": 24,
   "metadata": {},
   "outputs": [
    {
     "name": "stdout",
     "output_type": "stream",
     "text": [
      "1 번  [[2]\n",
      " [3]]\n",
      "2 번  [[2 3 1]\n",
      " [3 2 2]\n",
      " [2 1 1]]\n",
      "3 번  [[2 1]\n",
      " [3 1]\n",
      " [1 2]]\n",
      "4 번  [[2 1]\n",
      " [1 2]\n",
      " [2 1]]\n",
      "5 번  [[2 3 2]\n",
      " [2 1 2]]\n",
      "6 번  [[2]\n",
      " [3]\n",
      " [1]]\n",
      "7 번  [[2 2 1]\n",
      " [2 3 3]]\n",
      "8 번  [[1]\n",
      " [2]]\n",
      "9 번  [[2 3]\n",
      " [1 3]\n",
      " [1 1]]\n",
      "10 번  [[2 2 3]\n",
      " [2 2 2]]\n"
     ]
    }
   ],
   "source": [
    "import numpy as np\n",
    "# print(np.random.normal(0,1,(1,3)))\n",
    "\n",
    "# np.random.normal(0,1,(5,3,2))\n",
    "# np.random.normal(0,1,(5,2))\n",
    "# np.random.normal(0,1,(6,3,3))\n",
    "# np.random.normal(0,1,(2,10))\n",
    "# np.random.normal(0,1,(1,2,3,1))\n",
    "# np.random.normal(0,1,(2,1,1,1,3))\n",
    "# np.random.normal(0,1,(3,2))\n",
    "\n",
    "for i in range(10):\n",
    "    a= round(np.random.randint(1,4))\n",
    "    b= round(np.random.randint(1,4))\n",
    "\n",
    "    print(i+1 ,\"번 \",np.random.randint(1,4,(a,b)))\n"
   ]
  },
  {
   "cell_type": "code",
   "execution_count": null,
   "metadata": {},
   "outputs": [
    {
     "name": "stdout",
     "output_type": "stream",
     "text": [
      "(1, 1, 1, 1)\n"
     ]
    }
   ],
   "source": [
    "\n",
    "a = np.array([[[[1]]]])\n",
    "print(a.shape)"
   ]
  },
  {
   "cell_type": "code",
   "execution_count": null,
   "metadata": {},
   "outputs": [],
   "source": []
  }
 ],
 "metadata": {
  "kernelspec": {
   "display_name": "tf27",
   "language": "python",
   "name": "python3"
  },
  "language_info": {
   "codemirror_mode": {
    "name": "ipython",
    "version": 3
   },
   "file_extension": ".py",
   "mimetype": "text/x-python",
   "name": "python",
   "nbconvert_exporter": "python",
   "pygments_lexer": "ipython3",
   "version": "3.9.7"
  },
  "orig_nbformat": 4,
  "vscode": {
   "interpreter": {
    "hash": "b47fb4e6c68d4941015efb0bbf71549277582fe8531338196fc3c7fa71b6aab8"
   }
  }
 },
 "nbformat": 4,
 "nbformat_minor": 2
}
