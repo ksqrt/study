{
 "cells": [
  {
   "cell_type": "code",
   "execution_count": 108,
   "metadata": {},
   "outputs": [
    {
     "name": "stdout",
     "output_type": "stream",
     "text": [
      "Found 160 images belonging to 2 classes.\n",
      "Found 120 images belonging to 2 classes.\n"
     ]
    }
   ],
   "source": [
    "import numpy as np\n",
    "from tensorflow.keras.preprocessing.image import ImageDataGenerator\n",
    "\n",
    "train_datagen = ImageDataGenerator(\n",
    "    rescale = 1./255,\n",
    "    # 이미지 반전\n",
    "    horizontal_flip=True,\n",
    "    vertical_flip=True,\n",
    "    width_shift_range=0.1,\n",
    "    height_shift_range=0.1,\n",
    "    rotation_range=5,\n",
    "    zoom_range=1.2,\n",
    "    shear_range=0.7,\n",
    "    fill_mode=\"nearest\"\n",
    ")\n",
    "\n",
    "test_datagen = ImageDataGenerator(\n",
    "    rescale =1./255\n",
    ")\n",
    "\n",
    "xy_train = train_datagen.flow_from_directory(\n",
    "    \"./brain/train/\",\n",
    "    target_size = (100,100),\n",
    "    batch_size =10,\n",
    "    class_mode= \"binary\",\n",
    "    color_mode = \"grayscale\",\n",
    "    shuffle=True,\n",
    "    # Found 160 images belonging to 2 classes.\n",
    ")\n",
    "\n",
    "xy_test = train_datagen.flow_from_directory(\n",
    "    \"./brain/test/\",\n",
    "    target_size = (100,100),\n",
    "    batch_size =10,\n",
    "    class_mode= \"binary\",\n",
    "    color_mode = \"grayscale\",\n",
    "    shuffle=True,\n",
    "    # Found 160 images belonging to 2 classes.\n",
    ")"
   ]
  },
  {
   "cell_type": "code",
   "execution_count": 111,
   "metadata": {},
   "outputs": [
    {
     "name": "stdout",
     "output_type": "stream",
     "text": [
      "Model: \"sequential_7\"\n",
      "_________________________________________________________________\n",
      " Layer (type)                Output Shape              Param #   \n",
      "=================================================================\n",
      " conv2d_21 (Conv2D)          (None, 99, 99, 64)        320       \n",
      "                                                                 \n",
      " conv2d_22 (Conv2D)          (None, 97, 97, 64)        36928     \n",
      "                                                                 \n",
      " conv2d_23 (Conv2D)          (None, 95, 95, 32)        18464     \n",
      "                                                                 \n",
      " flatten_7 (Flatten)         (None, 288800)            0         \n",
      "                                                                 \n",
      " dense_14 (Dense)            (None, 16)                4620816   \n",
      "                                                                 \n",
      " dense_15 (Dense)            (None, 1)                 17        \n",
      "                                                                 \n",
      "=================================================================\n",
      "Total params: 4,676,545\n",
      "Trainable params: 4,676,545\n",
      "Non-trainable params: 0\n",
      "_________________________________________________________________\n"
     ]
    }
   ],
   "source": [
    "# 모델 정의\n",
    "from tensorflow.keras.models import Sequential\n",
    "from tensorflow.keras.layers import Dense,Conv2D,Flatten\n",
    "\n",
    "model = Sequential([\n",
    "    Conv2D(64,(2,2),input_shape=(100,100,1)),\n",
    "    Conv2D(64,(3,3),activation=\"relu\"),\n",
    "    Conv2D(32,(3,3),activation=\"relu\"),\n",
    "    Flatten(),\n",
    "    Dense(16,activation=\"relu\"),\n",
    "    Dense(1,activation=\"softmax\"),\n",
    "])\n",
    "\n",
    "model.summary()"
   ]
  },
  {
   "cell_type": "code",
   "execution_count": 112,
   "metadata": {},
   "outputs": [
    {
     "name": "stderr",
     "output_type": "stream",
     "text": [
      "C:\\Users\\bitcamp\\AppData\\Local\\Temp\\ipykernel_7584\\2838101546.py:4: UserWarning: `Model.fit_generator` is deprecated and will be removed in a future version. Please use `Model.fit`, which supports generators.\n",
      "  hist = model.fit_generator(xy_train,steps_per_epoch=16,epochs=10,\n"
     ]
    },
    {
     "name": "stdout",
     "output_type": "stream",
     "text": [
      "Epoch 1/10\n",
      "16/16 [==============================] - 1s 33ms/step - loss: 0.7108 - acc: 0.5000 - val_loss: 0.6984 - val_acc: 0.5000\n",
      "Epoch 2/10\n",
      "16/16 [==============================] - 0s 21ms/step - loss: 0.6918 - acc: 0.5000 - val_loss: 0.6928 - val_acc: 0.5750\n",
      "Epoch 3/10\n",
      "16/16 [==============================] - 0s 20ms/step - loss: 0.6934 - acc: 0.5000 - val_loss: 0.6930 - val_acc: 0.5250\n",
      "Epoch 4/10\n",
      "16/16 [==============================] - 0s 22ms/step - loss: 0.6923 - acc: 0.5000 - val_loss: 0.6878 - val_acc: 0.6000\n",
      "Epoch 5/10\n",
      "16/16 [==============================] - 0s 21ms/step - loss: 0.7082 - acc: 0.5000 - val_loss: 0.6890 - val_acc: 0.5250\n",
      "Epoch 6/10\n",
      "16/16 [==============================] - 0s 21ms/step - loss: 0.6929 - acc: 0.5000 - val_loss: 0.6941 - val_acc: 0.5750\n",
      "Epoch 7/10\n",
      "16/16 [==============================] - 0s 22ms/step - loss: 0.6933 - acc: 0.5000 - val_loss: 0.6936 - val_acc: 0.5250\n",
      "Epoch 8/10\n",
      "16/16 [==============================] - 0s 21ms/step - loss: 0.6934 - acc: 0.5000 - val_loss: 0.6948 - val_acc: 0.6250\n",
      "Epoch 9/10\n",
      "16/16 [==============================] - 0s 20ms/step - loss: 0.6909 - acc: 0.5000 - val_loss: 0.7018 - val_acc: 0.3750\n",
      "Epoch 10/10\n",
      "16/16 [==============================] - 0s 21ms/step - loss: 0.6959 - acc: 0.5000 - val_loss: 0.6896 - val_acc: 0.5000\n"
     ]
    }
   ],
   "source": [
    "# 모델 컴파일 훈련\n",
    "model.compile(loss=\"binary_crossentropy\",optimizer=\"adam\",metrics=[\"acc\"])\n",
    "\n",
    "hist = model.fit_generator(xy_train,steps_per_epoch=16,epochs=10,\n",
    "                           validation_data= xy_test,\n",
    "                           validation_steps=4,\n",
    "                           )\n"
   ]
  },
  {
   "cell_type": "code",
   "execution_count": 114,
   "metadata": {},
   "outputs": [
    {
     "name": "stdout",
     "output_type": "stream",
     "text": [
      "acc :  [0.5, 0.5, 0.5, 0.5, 0.5, 0.5, 0.5, 0.5, 0.5, 0.5]\n",
      "val_acc :  [0.5, 0.574999988079071, 0.5249999761581421, 0.6000000238418579, 0.5249999761581421, 0.574999988079071, 0.5249999761581421, 0.625, 0.375, 0.5]\n"
     ]
    }
   ],
   "source": [
    "accuracy = hist.history[\"acc\"]\n",
    "val_acc = hist.history[\"val_acc\"]\n",
    "\n",
    "print(\"acc : \",accuracy[-1])\n",
    "print(\"val_acc : \",val_acc)\n"
   ]
  },
  {
   "cell_type": "code",
   "execution_count": 119,
   "metadata": {},
   "outputs": [
    {
     "name": "stdout",
     "output_type": "stream",
     "text": [
      "loss :  0.6959208250045776\n",
      "val_loss :  0.6896477937698364\n"
     ]
    }
   ],
   "source": [
    "loss = hist.history[\"loss\"]\n",
    "val_loss = hist.history[\"val_loss\"]\n",
    "\n",
    "print(\"loss : \",loss[-1])\n",
    "print(\"val_loss : \",val_loss[-1])"
   ]
  }
 ],
 "metadata": {
  "kernelspec": {
   "display_name": "tf274gpu",
   "language": "python",
   "name": "python3"
  },
  "language_info": {
   "codemirror_mode": {
    "name": "ipython",
    "version": 3
   },
   "file_extension": ".py",
   "mimetype": "text/x-python",
   "name": "python",
   "nbconvert_exporter": "python",
   "pygments_lexer": "ipython3",
   "version": "3.9.15"
  },
  "orig_nbformat": 4,
  "vscode": {
   "interpreter": {
    "hash": "10848e9bd3f5e7d93542d388001135334854454e7336dcf54c4ef52885ee0fb0"
   }
  }
 },
 "nbformat": 4,
 "nbformat_minor": 2
}
