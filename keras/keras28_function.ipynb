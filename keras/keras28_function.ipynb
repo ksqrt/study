{
 "cells": [
  {
   "cell_type": "code",
   "execution_count": 16,
   "metadata": {},
   "outputs": [
    {
     "name": "stderr",
     "output_type": "stream",
     "text": [
      "c:\\Users\\bitcamp\\anaconda3\\envs\\tf274gpu\\lib\\site-packages\\sklearn\\utils\\deprecation.py:87: FutureWarning: Function load_boston is deprecated; `load_boston` is deprecated in 1.0 and will be removed in 1.2.\n",
      "\n",
      "    The Boston housing prices dataset has an ethical problem. You can refer to\n",
      "    the documentation of this function for further details.\n",
      "\n",
      "    The scikit-learn maintainers therefore strongly discourage the use of this\n",
      "    dataset unless the purpose of the code is to study and educate about\n",
      "    ethical issues in data science and machine learning.\n",
      "\n",
      "    In this special case, you can fetch the dataset from the original\n",
      "    source::\n",
      "\n",
      "        import pandas as pd\n",
      "        import numpy as np\n",
      "\n",
      "        data_url = \"http://lib.stat.cmu.edu/datasets/boston\"\n",
      "        raw_df = pd.read_csv(data_url, sep=\"\\s+\", skiprows=22, header=None)\n",
      "        data = np.hstack([raw_df.values[::2, :], raw_df.values[1::2, :2]])\n",
      "        target = raw_df.values[1::2, 2]\n",
      "\n",
      "    Alternative datasets include the California housing dataset (i.e.\n",
      "    :func:`~sklearn.datasets.fetch_california_housing`) and the Ames housing\n",
      "    dataset. You can load the datasets as follows::\n",
      "\n",
      "        from sklearn.datasets import fetch_california_housing\n",
      "        housing = fetch_california_housing()\n",
      "\n",
      "    for the California housing dataset and::\n",
      "\n",
      "        from sklearn.datasets import fetch_openml\n",
      "        housing = fetch_openml(name=\"house_prices\", as_frame=True)\n",
      "\n",
      "    for the Ames housing dataset.\n",
      "  warnings.warn(msg, category=FutureWarning)\n"
     ]
    }
   ],
   "source": [
    "from sklearn.datasets import load_boston\n",
    "import numpy as np\n",
    "import pandas as pd\n",
    "import tensorflow as tf\n",
    "from tensorflow.keras.models import Sequential,Model\n",
    "from tensorflow.keras.layers import Dense\n",
    "from sklearn.model_selection import train_test_split\n",
    "from sklearn.preprocessing import MinMaxScaler,StandardScaler\n",
    "import sklearn as sk\n",
    "dataset = load_boston()"
   ]
  },
  {
   "cell_type": "code",
   "execution_count": 17,
   "metadata": {},
   "outputs": [
    {
     "name": "stdout",
     "output_type": "stream",
     "text": [
      "x 최솟값 :  0       0.00632\n",
      "1       0.00000\n",
      "2       0.46000\n",
      "3       0.00000\n",
      "4       0.38500\n",
      "5       3.56100\n",
      "6       2.90000\n",
      "7       1.12960\n",
      "8       1.00000\n",
      "9     187.00000\n",
      "10     12.60000\n",
      "11      0.32000\n",
      "12      1.73000\n",
      "dtype: float64\n",
      "x 최댓값 :  0      88.9762\n",
      "1     100.0000\n",
      "2      27.7400\n",
      "3       1.0000\n",
      "4       0.8710\n",
      "5       8.7800\n",
      "6     100.0000\n",
      "7      12.1265\n",
      "8      24.0000\n",
      "9     711.0000\n",
      "10     22.0000\n",
      "11    396.9000\n",
      "12     37.9700\n",
      "dtype: float64\n"
     ]
    },
    {
     "name": "stderr",
     "output_type": "stream",
     "text": [
      "c:\\Users\\bitcamp\\anaconda3\\envs\\tf274gpu\\lib\\site-packages\\numpy\\core\\fromnumeric.py:84: FutureWarning: In a future version, DataFrame.min(axis=None) will return a scalar min over the entire DataFrame. To retain the old behavior, use 'frame.min(axis=0)' or just 'frame.min()'\n",
      "  return reduction(axis=axis, out=out, **passkwargs)\n",
      "c:\\Users\\bitcamp\\anaconda3\\envs\\tf274gpu\\lib\\site-packages\\numpy\\core\\fromnumeric.py:84: FutureWarning: In a future version, DataFrame.max(axis=None) will return a scalar max over the entire DataFrame. To retain the old behavior, use 'frame.max(axis=0)' or just 'frame.max()'\n",
      "  return reduction(axis=axis, out=out, **passkwargs)\n"
     ]
    }
   ],
   "source": [
    "x = dataset.data\n",
    "y = dataset.target\n",
    "x= pd.DataFrame(x)\n",
    "print(\"x 최솟값 : \",np.min(x))\n",
    "print(\"x 최댓값 : \",np.max(x))"
   ]
  },
  {
   "cell_type": "code",
   "execution_count": 18,
   "metadata": {},
   "outputs": [
    {
     "name": "stdout",
     "output_type": "stream",
     "text": [
      "x 최솟값 :  -3.9071933049810337\n",
      "x 최댓값 :  9.933930601860268\n"
     ]
    }
   ],
   "source": [
    "# 스케일링 하기\n",
    "scaler = StandardScaler()\n",
    "# 가중치 생성후\n",
    "scaler.fit(x)\n",
    "# 변환\n",
    "x = scaler.transform(x)\n",
    "print(\"x 최솟값 : \",np.min(x))\n",
    "print(\"x 최댓값 : \",np.max(x))"
   ]
  },
  {
   "cell_type": "code",
   "execution_count": 19,
   "metadata": {},
   "outputs": [
    {
     "name": "stdout",
     "output_type": "stream",
     "text": [
      "(506, 13)\n",
      "(506,)\n"
     ]
    }
   ],
   "source": [
    "# 13개의 칼럼 을 가지고있는 데이터를 조회합니다\n",
    "print(x.shape) #(506,13)\n",
    "# print(x)\n",
    "print(y.shape) #(506,)\n",
    "# print(y)\n"
   ]
  },
  {
   "cell_type": "code",
   "execution_count": 20,
   "metadata": {},
   "outputs": [
    {
     "name": "stdout",
     "output_type": "stream",
     "text": [
      "['CRIM' 'ZN' 'INDUS' 'CHAS' 'NOX' 'RM' 'AGE' 'DIS' 'RAD' 'TAX' 'PTRATIO'\n",
      " 'B' 'LSTAT']\n",
      "13\n"
     ]
    }
   ],
   "source": [
    "# 사이킥 런의 칼럼 조회기능\n",
    "print(dataset.feature_names)\n",
    "print(len(dataset.feature_names))\n"
   ]
  },
  {
   "cell_type": "code",
   "execution_count": 21,
   "metadata": {},
   "outputs": [],
   "source": [
    "# 사이킥런의 데이터 요약\n",
    "# print(dataset.DESCR)"
   ]
  },
  {
   "cell_type": "code",
   "execution_count": 22,
   "metadata": {},
   "outputs": [
    {
     "name": "stdout",
     "output_type": "stream",
     "text": [
      "354\n",
      "152\n"
     ]
    }
   ],
   "source": [
    "# 3. 모델구성\n",
    "# 실습 train 0.7 이상\n",
    "# 평가지표 R2 : 0.8 이상으로 뽑아내보기 / RMSE 사용\n",
    "\n",
    "x_train, x_test,y_train,y_test = train_test_split(x,y,\n",
    "    train_size=0.7,\n",
    "    shuffle = True,\n",
    "    random_state= 123\n",
    ")\n",
    "\n",
    "scaler = MinMaxScaler()\n",
    "# 가중치 생성후\n",
    "scaler.fit(x_train)\n",
    "# x_train 의 가중치 변환\n",
    "x_train = scaler.transform(x_train)\n",
    "# x_test 는 변환만 !\n",
    "x_test = scaler.transform(x_test)\n",
    "\n",
    "print(len(x_train))\n",
    "print(len(x_test))"
   ]
  },
  {
   "cell_type": "code",
   "execution_count": 23,
   "metadata": {},
   "outputs": [
    {
     "ename": "TypeError",
     "evalue": "('Keyword argument not understood:', 'input')",
     "output_type": "error",
     "traceback": [
      "\u001b[1;31m---------------------------------------------------------------------------\u001b[0m",
      "\u001b[1;31mTypeError\u001b[0m                                 Traceback (most recent call last)",
      "\u001b[1;32m~\\AppData\\Local\\Temp\\ipykernel_9204\\1370655532.py\u001b[0m in \u001b[0;36m<module>\u001b[1;34m\u001b[0m\n\u001b[0;32m     23\u001b[0m \u001b[0moutput1\u001b[0m \u001b[1;33m=\u001b[0m \u001b[0mDense\u001b[0m\u001b[1;33m(\u001b[0m\u001b[1;36m1\u001b[0m\u001b[1;33m,\u001b[0m\u001b[0mactivation\u001b[0m\u001b[1;33m=\u001b[0m\u001b[1;34m\"relu\"\u001b[0m\u001b[1;33m)\u001b[0m\u001b[1;33m(\u001b[0m\u001b[0mdense5\u001b[0m\u001b[1;33m)\u001b[0m\u001b[1;33m\u001b[0m\u001b[1;33m\u001b[0m\u001b[0m\n\u001b[0;32m     24\u001b[0m \u001b[1;33m\u001b[0m\u001b[0m\n\u001b[1;32m---> 25\u001b[1;33m \u001b[0mmodel\u001b[0m\u001b[1;33m=\u001b[0m\u001b[0mModel\u001b[0m\u001b[1;33m(\u001b[0m\u001b[0minput\u001b[0m\u001b[1;33m=\u001b[0m\u001b[0minput1\u001b[0m\u001b[1;33m,\u001b[0m\u001b[0moutput\u001b[0m\u001b[1;33m=\u001b[0m\u001b[0moutput1\u001b[0m\u001b[1;33m)\u001b[0m\u001b[1;33m\u001b[0m\u001b[1;33m\u001b[0m\u001b[0m\n\u001b[0m",
      "\u001b[1;32mc:\\Users\\bitcamp\\anaconda3\\envs\\tf274gpu\\lib\\site-packages\\tensorflow\\python\\training\\tracking\\base.py\u001b[0m in \u001b[0;36m_method_wrapper\u001b[1;34m(self, *args, **kwargs)\u001b[0m\n\u001b[0;32m    528\u001b[0m     \u001b[0mself\u001b[0m\u001b[1;33m.\u001b[0m\u001b[0m_self_setattr_tracking\u001b[0m \u001b[1;33m=\u001b[0m \u001b[1;32mFalse\u001b[0m  \u001b[1;31m# pylint: disable=protected-access\u001b[0m\u001b[1;33m\u001b[0m\u001b[1;33m\u001b[0m\u001b[0m\n\u001b[0;32m    529\u001b[0m     \u001b[1;32mtry\u001b[0m\u001b[1;33m:\u001b[0m\u001b[1;33m\u001b[0m\u001b[1;33m\u001b[0m\u001b[0m\n\u001b[1;32m--> 530\u001b[1;33m       \u001b[0mresult\u001b[0m \u001b[1;33m=\u001b[0m \u001b[0mmethod\u001b[0m\u001b[1;33m(\u001b[0m\u001b[0mself\u001b[0m\u001b[1;33m,\u001b[0m \u001b[1;33m*\u001b[0m\u001b[0margs\u001b[0m\u001b[1;33m,\u001b[0m \u001b[1;33m**\u001b[0m\u001b[0mkwargs\u001b[0m\u001b[1;33m)\u001b[0m\u001b[1;33m\u001b[0m\u001b[1;33m\u001b[0m\u001b[0m\n\u001b[0m\u001b[0;32m    531\u001b[0m     \u001b[1;32mfinally\u001b[0m\u001b[1;33m:\u001b[0m\u001b[1;33m\u001b[0m\u001b[1;33m\u001b[0m\u001b[0m\n\u001b[0;32m    532\u001b[0m       \u001b[0mself\u001b[0m\u001b[1;33m.\u001b[0m\u001b[0m_self_setattr_tracking\u001b[0m \u001b[1;33m=\u001b[0m \u001b[0mprevious_value\u001b[0m  \u001b[1;31m# pylint: disable=protected-access\u001b[0m\u001b[1;33m\u001b[0m\u001b[1;33m\u001b[0m\u001b[0m\n",
      "\u001b[1;32mc:\\Users\\bitcamp\\anaconda3\\envs\\tf274gpu\\lib\\site-packages\\keras\\utils\\traceback_utils.py\u001b[0m in \u001b[0;36merror_handler\u001b[1;34m(*args, **kwargs)\u001b[0m\n\u001b[0;32m     65\u001b[0m     \u001b[1;32mexcept\u001b[0m \u001b[0mException\u001b[0m \u001b[1;32mas\u001b[0m \u001b[0me\u001b[0m\u001b[1;33m:\u001b[0m  \u001b[1;31m# pylint: disable=broad-except\u001b[0m\u001b[1;33m\u001b[0m\u001b[1;33m\u001b[0m\u001b[0m\n\u001b[0;32m     66\u001b[0m       \u001b[0mfiltered_tb\u001b[0m \u001b[1;33m=\u001b[0m \u001b[0m_process_traceback_frames\u001b[0m\u001b[1;33m(\u001b[0m\u001b[0me\u001b[0m\u001b[1;33m.\u001b[0m\u001b[0m__traceback__\u001b[0m\u001b[1;33m)\u001b[0m\u001b[1;33m\u001b[0m\u001b[1;33m\u001b[0m\u001b[0m\n\u001b[1;32m---> 67\u001b[1;33m       \u001b[1;32mraise\u001b[0m \u001b[0me\u001b[0m\u001b[1;33m.\u001b[0m\u001b[0mwith_traceback\u001b[0m\u001b[1;33m(\u001b[0m\u001b[0mfiltered_tb\u001b[0m\u001b[1;33m)\u001b[0m \u001b[1;32mfrom\u001b[0m \u001b[1;32mNone\u001b[0m\u001b[1;33m\u001b[0m\u001b[1;33m\u001b[0m\u001b[0m\n\u001b[0m\u001b[0;32m     68\u001b[0m     \u001b[1;32mfinally\u001b[0m\u001b[1;33m:\u001b[0m\u001b[1;33m\u001b[0m\u001b[1;33m\u001b[0m\u001b[0m\n\u001b[0;32m     69\u001b[0m       \u001b[1;32mdel\u001b[0m \u001b[0mfiltered_tb\u001b[0m\u001b[1;33m\u001b[0m\u001b[1;33m\u001b[0m\u001b[0m\n",
      "\u001b[1;32mc:\\Users\\bitcamp\\anaconda3\\envs\\tf274gpu\\lib\\site-packages\\keras\\utils\\generic_utils.py\u001b[0m in \u001b[0;36mvalidate_kwargs\u001b[1;34m(kwargs, allowed_kwargs, error_message)\u001b[0m\n\u001b[0;32m   1168\u001b[0m   \u001b[1;32mfor\u001b[0m \u001b[0mkwarg\u001b[0m \u001b[1;32min\u001b[0m \u001b[0mkwargs\u001b[0m\u001b[1;33m:\u001b[0m\u001b[1;33m\u001b[0m\u001b[1;33m\u001b[0m\u001b[0m\n\u001b[0;32m   1169\u001b[0m     \u001b[1;32mif\u001b[0m \u001b[0mkwarg\u001b[0m \u001b[1;32mnot\u001b[0m \u001b[1;32min\u001b[0m \u001b[0mallowed_kwargs\u001b[0m\u001b[1;33m:\u001b[0m\u001b[1;33m\u001b[0m\u001b[1;33m\u001b[0m\u001b[0m\n\u001b[1;32m-> 1170\u001b[1;33m       \u001b[1;32mraise\u001b[0m \u001b[0mTypeError\u001b[0m\u001b[1;33m(\u001b[0m\u001b[0merror_message\u001b[0m\u001b[1;33m,\u001b[0m \u001b[0mkwarg\u001b[0m\u001b[1;33m)\u001b[0m\u001b[1;33m\u001b[0m\u001b[1;33m\u001b[0m\u001b[0m\n\u001b[0m\u001b[0;32m   1171\u001b[0m \u001b[1;33m\u001b[0m\u001b[0m\n\u001b[0;32m   1172\u001b[0m \u001b[1;33m\u001b[0m\u001b[0m\n",
      "\u001b[1;31mTypeError\u001b[0m: ('Keyword argument not understood:', 'input')"
     ]
    }
   ],
   "source": [
    "from tensorflow.keras.models import Sequential,Model\n",
    "from tensorflow.keras.layers import Dense,Input\n",
    "\n",
    "\n",
    "# 2. 모델구성 순차형\n",
    "model = Sequential([\n",
    "    Dense(50,input_dim=13,activation=\"relu\"),\n",
    "    Dense(50,activation=\"relu\"),\n",
    "    Dense(50,activation=\"relu\"),\n",
    "    Dense(50,activation=\"relu\"),\n",
    "    Dense(50,activation=\"relu\"),\n",
    "    Dense(1)\n",
    "])\n",
    "\n",
    "\n",
    "# 3. 모델구성 함수형\n",
    "input1 = Input(shape=(13,))\n",
    "dense1 = Dense(50,activation=\"relu\")(input1)\n",
    "dense2 = Dense(50,activation=\"relu\")(dense1)\n",
    "dense3 = Dense(50,activation=\"relu\")(dense2)\n",
    "dense4 = Dense(50,activation=\"relu\")(dense3)\n",
    "dense5 = Dense(50,activation=\"relu\")(dense4)\n",
    "output1 = Dense(1,activation=\"relu\")(dense5)\n",
    "\n",
    "model=Model(inputs=input1,outputs=output1)\n"
   ]
  },
  {
   "cell_type": "code",
   "execution_count": null,
   "metadata": {},
   "outputs": [
    {
     "name": "stdout",
     "output_type": "stream",
     "text": [
      "Epoch 1/100\n",
      "9/9 [==============================] - 2s 25ms/step - loss: 22.7844 - val_loss: 22.6499\n",
      "Epoch 2/100\n",
      "9/9 [==============================] - 0s 7ms/step - loss: 22.7622 - val_loss: 22.6262\n",
      "Epoch 3/100\n",
      "9/9 [==============================] - 0s 7ms/step - loss: 22.7372 - val_loss: 22.5989\n",
      "Epoch 4/100\n",
      "9/9 [==============================] - 0s 7ms/step - loss: 22.7076 - val_loss: 22.5649\n",
      "Epoch 5/100\n",
      "9/9 [==============================] - 0s 8ms/step - loss: 22.6679 - val_loss: 22.5128\n",
      "Epoch 6/100\n",
      "9/9 [==============================] - 0s 8ms/step - loss: 22.5979 - val_loss: 22.3998\n",
      "Epoch 7/100\n",
      "9/9 [==============================] - 0s 8ms/step - loss: 22.4206 - val_loss: 22.0688\n",
      "Epoch 8/100\n",
      "9/9 [==============================] - 0s 7ms/step - loss: 21.8534 - val_loss: 20.9601\n",
      "Epoch 9/100\n",
      "9/9 [==============================] - 0s 8ms/step - loss: 19.9551 - val_loss: 17.1572\n",
      "Epoch 10/100\n",
      "9/9 [==============================] - 0s 8ms/step - loss: 14.3448 - val_loss: 9.4257\n",
      "Epoch 11/100\n",
      "9/9 [==============================] - 0s 9ms/step - loss: 10.1787 - val_loss: 9.4949\n",
      "Epoch 12/100\n",
      "9/9 [==============================] - 0s 8ms/step - loss: 9.7823 - val_loss: 8.7905\n",
      "Epoch 13/100\n",
      "9/9 [==============================] - 0s 9ms/step - loss: 9.2728 - val_loss: 8.5442\n",
      "Epoch 14/100\n",
      "9/9 [==============================] - 0s 8ms/step - loss: 8.9282 - val_loss: 8.3092\n",
      "Epoch 15/100\n",
      "9/9 [==============================] - 0s 8ms/step - loss: 8.6234 - val_loss: 8.0594\n",
      "Epoch 16/100\n",
      "9/9 [==============================] - 0s 8ms/step - loss: 8.4027 - val_loss: 7.8479\n",
      "Epoch 17/100\n",
      "9/9 [==============================] - 0s 7ms/step - loss: 8.1269 - val_loss: 7.6386\n",
      "Epoch 18/100\n",
      "9/9 [==============================] - 0s 7ms/step - loss: 7.8475 - val_loss: 7.4007\n",
      "Epoch 19/100\n",
      "9/9 [==============================] - 0s 7ms/step - loss: 7.5736 - val_loss: 7.1805\n",
      "Epoch 20/100\n",
      "9/9 [==============================] - 0s 7ms/step - loss: 7.2559 - val_loss: 6.8998\n",
      "Epoch 21/100\n",
      "9/9 [==============================] - 0s 7ms/step - loss: 6.9268 - val_loss: 6.6124\n",
      "Epoch 22/100\n",
      "9/9 [==============================] - 0s 7ms/step - loss: 6.6588 - val_loss: 6.3330\n",
      "Epoch 23/100\n",
      "9/9 [==============================] - 0s 8ms/step - loss: 6.3716 - val_loss: 6.0573\n",
      "Epoch 24/100\n",
      "9/9 [==============================] - 0s 7ms/step - loss: 5.9322 - val_loss: 5.7723\n",
      "Epoch 25/100\n",
      "9/9 [==============================] - 0s 7ms/step - loss: 5.5794 - val_loss: 5.5137\n",
      "Epoch 26/100\n",
      "9/9 [==============================] - 0s 7ms/step - loss: 5.2790 - val_loss: 5.5682\n",
      "Epoch 27/100\n",
      "9/9 [==============================] - 0s 7ms/step - loss: 5.2014 - val_loss: 5.2300\n",
      "Epoch 28/100\n",
      "9/9 [==============================] - 0s 8ms/step - loss: 4.9084 - val_loss: 5.1883\n",
      "Epoch 29/100\n",
      "9/9 [==============================] - 0s 8ms/step - loss: 4.8526 - val_loss: 5.1137\n",
      "Epoch 30/100\n",
      "9/9 [==============================] - 0s 8ms/step - loss: 4.7585 - val_loss: 5.0650\n",
      "Epoch 31/100\n",
      "9/9 [==============================] - 0s 8ms/step - loss: 4.6855 - val_loss: 5.0886\n",
      "Epoch 32/100\n",
      "9/9 [==============================] - 0s 9ms/step - loss: 4.6682 - val_loss: 4.9831\n",
      "Epoch 33/100\n",
      "9/9 [==============================] - 0s 8ms/step - loss: 4.5617 - val_loss: 4.9071\n",
      "Epoch 34/100\n",
      "9/9 [==============================] - 0s 7ms/step - loss: 4.4723 - val_loss: 4.8245\n",
      "Epoch 35/100\n",
      "9/9 [==============================] - 0s 9ms/step - loss: 4.4955 - val_loss: 4.9985\n",
      "Epoch 36/100\n",
      "9/9 [==============================] - 0s 8ms/step - loss: 4.4665 - val_loss: 4.7314\n",
      "Epoch 37/100\n",
      "9/9 [==============================] - 0s 9ms/step - loss: 4.2858 - val_loss: 4.6879\n",
      "Epoch 38/100\n",
      "9/9 [==============================] - 0s 7ms/step - loss: 4.2255 - val_loss: 4.6234\n",
      "Epoch 39/100\n",
      "9/9 [==============================] - 0s 8ms/step - loss: 4.1420 - val_loss: 4.5929\n",
      "Epoch 40/100\n",
      "9/9 [==============================] - 0s 8ms/step - loss: 4.0711 - val_loss: 4.5679\n",
      "Epoch 41/100\n",
      "9/9 [==============================] - 0s 8ms/step - loss: 4.0497 - val_loss: 4.4919\n",
      "Epoch 42/100\n",
      "9/9 [==============================] - 0s 8ms/step - loss: 3.9648 - val_loss: 4.3466\n",
      "Epoch 43/100\n",
      "9/9 [==============================] - 0s 7ms/step - loss: 3.8607 - val_loss: 4.2865\n",
      "Epoch 44/100\n",
      "9/9 [==============================] - 0s 8ms/step - loss: 3.8982 - val_loss: 4.4850\n",
      "Epoch 45/100\n",
      "9/9 [==============================] - 0s 9ms/step - loss: 3.8172 - val_loss: 4.1617\n",
      "Epoch 46/100\n",
      "9/9 [==============================] - 0s 8ms/step - loss: 3.6930 - val_loss: 4.1164\n",
      "Epoch 47/100\n",
      "9/9 [==============================] - 0s 8ms/step - loss: 3.5900 - val_loss: 4.0043\n",
      "Epoch 48/100\n",
      "9/9 [==============================] - 0s 10ms/step - loss: 3.5441 - val_loss: 4.1005\n",
      "Epoch 49/100\n",
      "9/9 [==============================] - 0s 7ms/step - loss: 3.5691 - val_loss: 4.1928\n",
      "Epoch 50/100\n",
      "9/9 [==============================] - 0s 8ms/step - loss: 3.4653 - val_loss: 3.8827\n",
      "Epoch 51/100\n",
      "9/9 [==============================] - 0s 8ms/step - loss: 3.3479 - val_loss: 3.8055\n",
      "Epoch 52/100\n",
      "9/9 [==============================] - 0s 9ms/step - loss: 3.2864 - val_loss: 3.7655\n",
      "Epoch 53/100\n",
      "9/9 [==============================] - 0s 8ms/step - loss: 3.2382 - val_loss: 3.6175\n",
      "Epoch 54/100\n",
      "9/9 [==============================] - 0s 8ms/step - loss: 3.1073 - val_loss: 3.5732\n",
      "Epoch 55/100\n",
      "9/9 [==============================] - 0s 8ms/step - loss: 3.0981 - val_loss: 3.7240\n",
      "Epoch 56/100\n",
      "9/9 [==============================] - 0s 8ms/step - loss: 3.0161 - val_loss: 3.5520\n",
      "Epoch 57/100\n",
      "9/9 [==============================] - 0s 7ms/step - loss: 2.8853 - val_loss: 3.4417\n",
      "Epoch 58/100\n",
      "9/9 [==============================] - 0s 7ms/step - loss: 2.8711 - val_loss: 3.3960\n",
      "Epoch 59/100\n",
      "9/9 [==============================] - 0s 8ms/step - loss: 2.8263 - val_loss: 3.4669\n",
      "Epoch 60/100\n",
      "9/9 [==============================] - 0s 7ms/step - loss: 2.9076 - val_loss: 3.5666\n",
      "Epoch 61/100\n",
      "9/9 [==============================] - 0s 8ms/step - loss: 2.9345 - val_loss: 3.4071\n",
      "Epoch 62/100\n",
      "9/9 [==============================] - 0s 8ms/step - loss: 2.8927 - val_loss: 3.2780\n",
      "Epoch 63/100\n",
      "9/9 [==============================] - 0s 9ms/step - loss: 2.6583 - val_loss: 3.2242\n",
      "Epoch 64/100\n",
      "9/9 [==============================] - 0s 9ms/step - loss: 2.6218 - val_loss: 3.2050\n",
      "Epoch 65/100\n",
      "9/9 [==============================] - 0s 8ms/step - loss: 2.5823 - val_loss: 3.2564\n",
      "Epoch 66/100\n",
      "9/9 [==============================] - 0s 9ms/step - loss: 2.6014 - val_loss: 3.5322\n",
      "Epoch 67/100\n",
      "9/9 [==============================] - 0s 8ms/step - loss: 2.7024 - val_loss: 3.1564\n",
      "Epoch 68/100\n",
      "9/9 [==============================] - 0s 8ms/step - loss: 2.5224 - val_loss: 3.1725\n",
      "Epoch 69/100\n",
      "9/9 [==============================] - 0s 8ms/step - loss: 2.4782 - val_loss: 3.6652\n",
      "Epoch 70/100\n",
      "9/9 [==============================] - 0s 9ms/step - loss: 2.6190 - val_loss: 3.1473\n",
      "Epoch 71/100\n",
      "9/9 [==============================] - 0s 9ms/step - loss: 2.5137 - val_loss: 3.1215\n",
      "Epoch 72/100\n",
      "9/9 [==============================] - 0s 8ms/step - loss: 2.4898 - val_loss: 3.3950\n",
      "Epoch 73/100\n",
      "9/9 [==============================] - 0s 9ms/step - loss: 2.4713 - val_loss: 3.1126\n",
      "Epoch 74/100\n",
      "9/9 [==============================] - 0s 8ms/step - loss: 2.4412 - val_loss: 3.1185\n",
      "Epoch 75/100\n",
      "9/9 [==============================] - 0s 9ms/step - loss: 2.4153 - val_loss: 3.1205\n",
      "Epoch 76/100\n",
      "9/9 [==============================] - 0s 8ms/step - loss: 2.4251 - val_loss: 3.0993\n",
      "Epoch 77/100\n",
      "9/9 [==============================] - 0s 9ms/step - loss: 2.4634 - val_loss: 3.0911\n",
      "Epoch 78/100\n",
      "9/9 [==============================] - 0s 9ms/step - loss: 2.4048 - val_loss: 3.1554\n",
      "Epoch 79/100\n",
      "9/9 [==============================] - 0s 8ms/step - loss: 2.4019 - val_loss: 3.1213\n",
      "Epoch 80/100\n",
      "9/9 [==============================] - 0s 9ms/step - loss: 2.4080 - val_loss: 3.0728\n",
      "Epoch 81/100\n",
      "9/9 [==============================] - 0s 8ms/step - loss: 2.3705 - val_loss: 3.1178\n",
      "Epoch 82/100\n",
      "9/9 [==============================] - 0s 8ms/step - loss: 2.3508 - val_loss: 3.0983\n",
      "Epoch 83/100\n",
      "9/9 [==============================] - 0s 9ms/step - loss: 2.6346 - val_loss: 3.0604\n",
      "Epoch 84/100\n",
      "9/9 [==============================] - 0s 9ms/step - loss: 2.6319 - val_loss: 3.9106\n",
      "Epoch 85/100\n",
      "9/9 [==============================] - 0s 9ms/step - loss: 2.7286 - val_loss: 3.2421\n",
      "Epoch 86/100\n",
      "9/9 [==============================] - 0s 9ms/step - loss: 2.5242 - val_loss: 3.0115\n",
      "Epoch 87/100\n",
      "9/9 [==============================] - 0s 9ms/step - loss: 2.4287 - val_loss: 3.0105\n",
      "Epoch 88/100\n",
      "9/9 [==============================] - 0s 9ms/step - loss: 2.3732 - val_loss: 3.1384\n",
      "Epoch 89/100\n",
      "9/9 [==============================] - 0s 9ms/step - loss: 2.3417 - val_loss: 3.0884\n",
      "Epoch 90/100\n",
      "9/9 [==============================] - 0s 9ms/step - loss: 2.3274 - val_loss: 3.0054\n",
      "Epoch 91/100\n",
      "9/9 [==============================] - 0s 8ms/step - loss: 2.3404 - val_loss: 3.1009\n",
      "Epoch 92/100\n",
      "9/9 [==============================] - 0s 8ms/step - loss: 2.3041 - val_loss: 3.0520\n",
      "Epoch 93/100\n",
      "9/9 [==============================] - 0s 9ms/step - loss: 2.3104 - val_loss: 2.9670\n",
      "Epoch 94/100\n",
      "9/9 [==============================] - 0s 8ms/step - loss: 2.3109 - val_loss: 3.1575\n",
      "Epoch 95/100\n",
      "9/9 [==============================] - 0s 8ms/step - loss: 2.2892 - val_loss: 3.1121\n",
      "Epoch 96/100\n",
      "9/9 [==============================] - 0s 8ms/step - loss: 2.3714 - val_loss: 2.9917\n",
      "Epoch 97/100\n",
      "9/9 [==============================] - 0s 8ms/step - loss: 2.3545 - val_loss: 3.0207\n",
      "Epoch 98/100\n",
      "9/9 [==============================] - 0s 8ms/step - loss: 2.2820 - val_loss: 3.1315\n",
      "Epoch 99/100\n",
      "9/9 [==============================] - 0s 9ms/step - loss: 2.2841 - val_loss: 3.0710\n",
      "Epoch 100/100\n",
      "9/9 [==============================] - 0s 9ms/step - loss: 2.2849 - val_loss: 2.9738\n"
     ]
    },
    {
     "data": {
      "text/plain": [
       "<keras.callbacks.History at 0x1c6062af070>"
      ]
     },
     "execution_count": 10,
     "metadata": {},
     "output_type": "execute_result"
    }
   ],
   "source": [
    "\n",
    "hist = model.compile(loss=\"mae\",optimizer=\"adam\")\n",
    "\n",
    "model.fit(x_train, y_train, epochs=100, batch_size=32, validation_split=0.25)\n",
    "# loss = model.evaluate(x_test,y_test)\n",
    "# print(\"loss : \",loss)\n",
    "# y_predict =model.predict(x_test)\n",
    "# print(\"=================\")\n",
    "# print(y_test)\n",
    "# print(y_predict)\n",
    "# print(\"=================\")\n",
    "# r2 = r2_score(y_test,y_predict)\n"
   ]
  },
  {
   "cell_type": "code",
   "execution_count": null,
   "metadata": {},
   "outputs": [],
   "source": []
  }
 ],
 "metadata": {
  "kernelspec": {
   "display_name": "tf274gpu",
   "language": "python",
   "name": "python3"
  },
  "language_info": {
   "codemirror_mode": {
    "name": "ipython",
    "version": 3
   },
   "file_extension": ".py",
   "mimetype": "text/x-python",
   "name": "python",
   "nbconvert_exporter": "python",
   "pygments_lexer": "ipython3",
   "version": "3.9.15"
  },
  "orig_nbformat": 4,
  "vscode": {
   "interpreter": {
    "hash": "10848e9bd3f5e7d93542d388001135334854454e7336dcf54c4ef52885ee0fb0"
   }
  }
 },
 "nbformat": 4,
 "nbformat_minor": 2
}
