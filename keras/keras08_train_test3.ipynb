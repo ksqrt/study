{
 "cells": [
  {
   "cell_type": "code",
   "execution_count": 4,
   "metadata": {},
   "outputs": [],
   "source": [
    "import numpy as np\n",
    "from tensorflow.keras.models import Sequential\n",
    "from tensorflow.keras.layers import Dense\n",
    "\n",
    "from sklearn.model_selection import train_test_split\n"
   ]
  },
  {
   "cell_type": "code",
   "execution_count": 10,
   "metadata": {},
   "outputs": [
    {
     "name": "stdout",
     "output_type": "stream",
     "text": [
      "[ 4  6  7  1  5  9 10]\n",
      "[3 5 6 0 4 8 9]\n",
      "[2 3 8]\n",
      "[1 2 7]\n"
     ]
    }
   ],
   "source": [
    "# 2.데이터 정의\n",
    "\n",
    "\n",
    "x = np.array([1,2,3,4,5,6,7,8,9,10]) \n",
    "y= np.array(range(10))\n",
    "\n",
    "x_train, x_test, y_train, y_test = train_test_split(x, \n",
    "                                                    y, \n",
    "                                                    test_size = 0.3, \n",
    "                                                    shuffle = True, \n",
    "                                                    random_state = 21)\n",
    "\n",
    "print(x_train)\n",
    "print(y_train)\n",
    "\n",
    "print(x_test)\n",
    "print(y_test)"
   ]
  },
  {
   "cell_type": "code",
   "execution_count": 6,
   "metadata": {},
   "outputs": [
    {
     "name": "stdout",
     "output_type": "stream",
     "text": [
      "Model: \"sequential\"\n",
      "_________________________________________________________________\n",
      " Layer (type)                Output Shape              Param #   \n",
      "=================================================================\n",
      " dense (Dense)               (None, 5)                 10        \n",
      "                                                                 \n",
      " dense_1 (Dense)             (None, 5)                 30        \n",
      "                                                                 \n",
      " dense_2 (Dense)             (None, 4)                 24        \n",
      "                                                                 \n",
      " dense_3 (Dense)             (None, 4)                 20        \n",
      "                                                                 \n",
      " dense_4 (Dense)             (None, 1)                 5         \n",
      "                                                                 \n",
      "=================================================================\n",
      "Total params: 89\n",
      "Trainable params: 89\n",
      "Non-trainable params: 0\n",
      "_________________________________________________________________\n"
     ]
    }
   ],
   "source": [
    "\n",
    "# 2. 모델 구성\n",
    "from random import randrange\n",
    "number1 = randrange(1,10,1)\n",
    "number2 = randrange(1,10,1)\n",
    "number3= randrange(1,10,1)\n",
    "model = Sequential([\n",
    "    Dense(number1,input_dim = 1),\n",
    "    Dense(number1),\n",
    "    Dense(number2),\n",
    "    Dense(number3),\n",
    "    Dense(1)\n",
    "])\n",
    "\n",
    "model.summary()"
   ]
  },
  {
   "cell_type": "code",
   "execution_count": 7,
   "metadata": {},
   "outputs": [
    {
     "name": "stdout",
     "output_type": "stream",
     "text": [
      "Epoch 1/100\n",
      "100/100 [==============================] - 0s 625us/step - loss: 16.0296\n",
      "Epoch 2/100\n",
      "100/100 [==============================] - 0s 611us/step - loss: 0.4678\n",
      "Epoch 3/100\n",
      "100/100 [==============================] - 0s 568us/step - loss: 0.3970\n",
      "Epoch 4/100\n",
      "100/100 [==============================] - 0s 598us/step - loss: 0.3215\n",
      "Epoch 5/100\n",
      "100/100 [==============================] - 0s 551us/step - loss: 0.2571\n",
      "Epoch 6/100\n",
      "100/100 [==============================] - 0s 608us/step - loss: 0.1768\n",
      "Epoch 7/100\n",
      "100/100 [==============================] - 0s 585us/step - loss: 0.1353\n",
      "Epoch 8/100\n",
      "WARNING:tensorflow:Your input ran out of data; interrupting training. Make sure that your dataset or generator can generate at least `steps_per_epoch * epochs` batches (in this case, 10000 batches). You may need to use the repeat() function when building your dataset.\n",
      "100/100 [==============================] - 0s 241us/step - loss: 0.1353\n"
     ]
    },
    {
     "data": {
      "text/plain": [
       "<keras.callbacks.History at 0x1c30eee7520>"
      ]
     },
     "execution_count": 7,
     "metadata": {},
     "output_type": "execute_result"
    }
   ],
   "source": [
    "# 3. 컴파일과훈련\n",
    "model.compile(loss=\"mse\" , optimizer=\"adam\")\n",
    "model.fit(x_train,y_train,epochs=100,steps_per_epoch=100)"
   ]
  },
  {
   "cell_type": "code",
   "execution_count": 8,
   "metadata": {},
   "outputs": [
    {
     "name": "stdout",
     "output_type": "stream",
     "text": [
      "1/1 [==============================] - 0s 102ms/step - loss: 0.1715\n",
      "loss :  0.17153362929821014\n"
     ]
    }
   ],
   "source": [
    "loss = model.evaluate(x_test,y_test)\n",
    "print(\"loss : \",loss)"
   ]
  },
  {
   "cell_type": "code",
   "execution_count": 9,
   "metadata": {},
   "outputs": [
    {
     "data": {
      "text/plain": [
       "array([[9.611277]], dtype=float32)"
      ]
     },
     "execution_count": 9,
     "metadata": {},
     "output_type": "execute_result"
    }
   ],
   "source": [
    "model.predict([11])"
   ]
  }
 ],
 "metadata": {
  "kernelspec": {
   "display_name": "tf27",
   "language": "python",
   "name": "python3"
  },
  "language_info": {
   "codemirror_mode": {
    "name": "ipython",
    "version": 3
   },
   "file_extension": ".py",
   "mimetype": "text/x-python",
   "name": "python",
   "nbconvert_exporter": "python",
   "pygments_lexer": "ipython3",
   "version": "3.9.7"
  },
  "orig_nbformat": 4,
  "vscode": {
   "interpreter": {
    "hash": "b47fb4e6c68d4941015efb0bbf71549277582fe8531338196fc3c7fa71b6aab8"
   }
  }
 },
 "nbformat": 4,
 "nbformat_minor": 2
}
