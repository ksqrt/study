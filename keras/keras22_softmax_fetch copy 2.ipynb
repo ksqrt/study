{
 "cells": [
  {
   "cell_type": "code",
   "execution_count": 1,
   "metadata": {},
   "outputs": [],
   "source": [
    "from sklearn.datasets import fetch_covtype\n",
    "import numpy as np\n",
    "import pandas as pd\n",
    "import tensorflow as tf\n",
    "from tensorflow.keras.utils import to_categorical\n",
    "from tensorflow.keras.models import Sequential\n",
    "from tensorflow.keras.layers import Dense,Dropout\n",
    "from sklearn.model_selection import train_test_split\n",
    "from sklearn.metrics import mean_squared_error, r2_score\n",
    "# 1. 데이터 \n",
    "datasets = (fetch_covtype())\n",
    "\n",
    "x = pd.DataFrame(datasets[\"data\"])\n",
    "y = (datasets[\"target\"])\n",
    "\n",
    "\n"
   ]
  },
  {
   "cell_type": "code",
   "execution_count": 2,
   "metadata": {},
   "outputs": [],
   "source": [
    "\n",
    "# y를 ndarry 로 변환해줌\n",
    "# 또는 y = y.values 사용가능\n",
    "# y = y.to_numpy()\n"
   ]
  },
  {
   "cell_type": "code",
   "execution_count": 3,
   "metadata": {},
   "outputs": [
    {
     "name": "stdout",
     "output_type": "stream",
     "text": [
      "(581012,)\n",
      "(581012, 1)\n"
     ]
    }
   ],
   "source": [
    "from sklearn.preprocessing import OneHotEncoder\n",
    "# 원핫 인코더를 적용하기전 쉐이프 변환\n",
    "print(y.shape)\n",
    "y = y.reshape(581012, 1)\n",
    "print(y.shape)\n",
    "\n",
    "# 원핫 인코더 변환\n",
    "ohe = OneHotEncoder()\n",
    "ohe.fit(y)\n",
    "y = ohe.transform(y)\n",
    "\n",
    "# 넘파이 변환\n",
    "y= y.toarray()"
   ]
  },
  {
   "cell_type": "code",
   "execution_count": 4,
   "metadata": {},
   "outputs": [
    {
     "name": "stdout",
     "output_type": "stream",
     "text": [
      "(581012, 54) (581012, 7)\n",
      "[0. 1.]\n",
      "(array([0., 1.]), array([3486072,  581012], dtype=int64))\n"
     ]
    }
   ],
   "source": [
    "print(x.shape,y.shape) \n",
    "\n",
    "print(np.unique(y)) # [1 2 3 4 5 6 7]\n",
    "# 불균형확인\n",
    "# 참고로 이 y 값은 0 클래스가 없기 대문에 0 을 지워줘야합니다 ... ㅂㄷㅂㄷ\n",
    "\n",
    "print(np.unique(y,return_counts=True)) # [211840, 283301,  35754,   2747,   9493,  17367,  20510\n",
    "\n",
    "\n"
   ]
  },
  {
   "cell_type": "code",
   "execution_count": 5,
   "metadata": {},
   "outputs": [
    {
     "name": "stdout",
     "output_type": "stream",
     "text": [
      "[[1. 0. 0. 0. 0. 0. 0.]\n",
      " [1. 0. 0. 0. 0. 0. 0.]\n",
      " [0. 1. 0. 0. 0. 0. 0.]\n",
      " [1. 0. 0. 0. 0. 0. 0.]\n",
      " [0. 0. 1. 0. 0. 0. 0.]\n",
      " [1. 0. 0. 0. 0. 0. 0.]\n",
      " [1. 0. 0. 0. 0. 0. 0.]\n",
      " [0. 0. 1. 0. 0. 0. 0.]\n",
      " [0. 1. 0. 0. 0. 0. 0.]\n",
      " [0. 1. 0. 0. 0. 0. 0.]]\n",
      "y_train shape :  (464809, 7)\n",
      "y_test shape :  (116203, 7)\n"
     ]
    }
   ],
   "source": [
    "# print(x.info())\n",
    "# print(x.describe())\n",
    "# 데이터 분리\n",
    "x_train, x_test, y_train,y_test = train_test_split(\n",
    "                                                    x,\n",
    "                                                    y,\n",
    "                                                    train_size=0.8,\n",
    "                                                    shuffle = True,\n",
    "                                                    #  stratify 는 데이터 불균형을 해결해줌\n",
    "                                                    stratify=y,\n",
    "                                                    random_state=21\n",
    "                                                   )\n",
    "# print(x.columns)\n",
    "# y 를 원 핫 인코딩 변환\n",
    "\n",
    "print(y_train[:10])\n",
    "print(\"y_train shape : \",y_train.shape)\n",
    "print(\"y_test shape : \",y_test.shape)"
   ]
  },
  {
   "cell_type": "code",
   "execution_count": 6,
   "metadata": {},
   "outputs": [],
   "source": [
    "model = Sequential([\n",
    "    Dense(128,activation=\"relu\",input_shape=(54,)),\n",
    "    Dense(128,activation=\"relu\") ,\n",
    "    Dense(128,activation=\"relu\") ,\n",
    "    Dense(64,activation=\"relu\") ,\n",
    "    Dense(64,activation=\"relu\") ,\n",
    "    Dense(32,activation=\"relu\") ,\n",
    "    Dense(32,activation=\"relu\") ,\n",
    "    # 다중분류모델의 활성화 함수는 softmax 입니다\n",
    "    Dense(7,activation=\"softmax\")\n",
    "])"
   ]
  },
  {
   "cell_type": "code",
   "execution_count": 7,
   "metadata": {},
   "outputs": [
    {
     "name": "stdout",
     "output_type": "stream",
     "text": [
      "Epoch 1/10\n",
      "1453/1453 [==============================] - 10s 6ms/step - loss: 1.0270 - accuracy: 0.6075 - val_loss: 0.7145 - val_accuracy: 0.6871\n",
      "Epoch 2/10\n",
      "1453/1453 [==============================] - 8s 5ms/step - loss: 0.6663 - accuracy: 0.7128 - val_loss: 0.6561 - val_accuracy: 0.7082\n",
      "Epoch 3/10\n",
      "1453/1453 [==============================] - 6s 4ms/step - loss: 0.6111 - accuracy: 0.7361 - val_loss: 0.6989 - val_accuracy: 0.6924\n",
      "Epoch 4/10\n",
      "1453/1453 [==============================] - 6s 4ms/step - loss: 0.5796 - accuracy: 0.7498 - val_loss: 0.5691 - val_accuracy: 0.7534\n",
      "Epoch 5/10\n",
      "1453/1453 [==============================] - 6s 4ms/step - loss: 0.5461 - accuracy: 0.7653 - val_loss: 0.5207 - val_accuracy: 0.7790\n",
      "Epoch 6/10\n",
      "1453/1453 [==============================] - 6s 4ms/step - loss: 0.5211 - accuracy: 0.7757 - val_loss: 0.4833 - val_accuracy: 0.7933\n",
      "Epoch 7/10\n",
      "1453/1453 [==============================] - 6s 4ms/step - loss: 0.4933 - accuracy: 0.7876 - val_loss: 0.4677 - val_accuracy: 0.7982\n",
      "Epoch 8/10\n",
      "1453/1453 [==============================] - 6s 4ms/step - loss: 0.4703 - accuracy: 0.7978 - val_loss: 0.4899 - val_accuracy: 0.7898\n",
      "Epoch 9/10\n",
      "1453/1453 [==============================] - 6s 4ms/step - loss: 0.4481 - accuracy: 0.8080 - val_loss: 0.4387 - val_accuracy: 0.8084\n",
      "Epoch 10/10\n",
      "1453/1453 [==============================] - 7s 5ms/step - loss: 0.4307 - accuracy: 0.8156 - val_loss: 0.4315 - val_accuracy: 0.8115\n"
     ]
    }
   ],
   "source": [
    "# 이진분류는 마지막 활성함수는 sigmoid + loss 는 바이너리 크로스 엔트로피 \n",
    "from keras.callbacks import EarlyStopping\n",
    "\n",
    "early_stopping = EarlyStopping(\n",
    "monitor='val_loss',\n",
    "patience=10, \n",
    "verbose=1, \n",
    "mode='min')\n",
    "\n",
    "# 훈련값이 int 형이기 때문에 sparse 를 사용합니다.\n",
    "model.compile(loss=\"categorical_crossentropy\"\n",
    "              ,optimizer=\"adam\"\n",
    "              ,metrics=[\"accuracy\"]\n",
    "              )\n",
    "\n",
    "hist = model.fit(x_train, y_train, epochs=10, \n",
    "                 validation_split=0.2,batch_size=256,\n",
    "                 callbacks = [early_stopping])\n",
    "\n",
    "# metrics 에 accuracy 사용가능\n"
   ]
  },
  {
   "cell_type": "code",
   "execution_count": 8,
   "metadata": {},
   "outputs": [
    {
     "name": "stdout",
     "output_type": "stream",
     "text": [
      "3632/3632 [==============================] - 8s 2ms/step - loss: 0.4324 - accuracy: 0.8114\n",
      "loss: 0.4324304759502411 \n",
      "acc : 0.8114420175552368\n"
     ]
    }
   ],
   "source": [
    "loss,accuracy = model.evaluate(x_test,y_test)\n",
    "\n",
    "print(\"loss:\",loss,\"\\nacc :\" ,accuracy)\n"
   ]
  },
  {
   "cell_type": "code",
   "execution_count": 9,
   "metadata": {},
   "outputs": [
    {
     "name": "stdout",
     "output_type": "stream",
     "text": [
      "[[3.95993978e-01 6.03622377e-01 1.77406343e-06 ... 1.69859886e-05\n",
      "  2.36483470e-06 3.62557330e-04]\n",
      " [8.19762200e-02 9.17836726e-01 1.42189080e-07 ... 1.67475257e-04\n",
      "  1.19558985e-08 1.94928962e-05]\n",
      " [1.29197042e-10 2.49394542e-03 9.96885836e-01 ... 3.90453758e-09\n",
      "  4.85122669e-04 1.31177949e-04]\n",
      " ...\n",
      " [1.10050372e-04 7.36407638e-02 3.14888212e-07 ... 9.26248848e-01\n",
      "  6.45654596e-09 9.59842872e-10]\n",
      " [3.16856414e-01 6.82992935e-01 1.28140243e-09 ... 2.88575954e-08\n",
      "  2.62833338e-10 1.50558015e-04]\n",
      " [7.97117293e-01 2.02872649e-01 7.46851697e-07 ... 8.51367815e-07\n",
      "  1.19572420e-07 8.37767038e-06]]\n"
     ]
    }
   ],
   "source": [
    "from sklearn.metrics import accuracy_score\n",
    "\n",
    "y_predict = model.predict(x_test)\n",
    "print(y_predict)\n",
    "y_predict = np.argmax(y_predict,axis=1)\n"
   ]
  },
  {
   "cell_type": "code",
   "execution_count": 10,
   "metadata": {},
   "outputs": [
    {
     "name": "stdout",
     "output_type": "stream",
     "text": [
      "[1 1 2 ... 4 1 0]\n"
     ]
    }
   ],
   "source": [
    "print(y_predict)\n",
    "\n",
    "y_predict = tf.one_hot(y_predict,depth =7)\n"
   ]
  },
  {
   "cell_type": "code",
   "execution_count": 11,
   "metadata": {},
   "outputs": [
    {
     "name": "stdout",
     "output_type": "stream",
     "text": [
      "예측데이터 :  tf.Tensor(\n",
      "[[0. 1. 0. 0. 0. 0. 0.]\n",
      " [0. 1. 0. 0. 0. 0. 0.]\n",
      " [0. 0. 1. 0. 0. 0. 0.]\n",
      " [0. 1. 0. 0. 0. 0. 0.]\n",
      " [1. 0. 0. 0. 0. 0. 0.]\n",
      " [0. 1. 0. 0. 0. 0. 0.]\n",
      " [0. 1. 0. 0. 0. 0. 0.]\n",
      " [0. 1. 0. 0. 0. 0. 0.]\n",
      " [0. 1. 0. 0. 0. 0. 0.]\n",
      " [0. 0. 0. 0. 0. 1. 0.]\n",
      " [0. 0. 0. 0. 0. 0. 1.]\n",
      " [1. 0. 0. 0. 0. 0. 0.]\n",
      " [1. 0. 0. 0. 0. 0. 0.]\n",
      " [1. 0. 0. 0. 0. 0. 0.]\n",
      " [0. 0. 1. 0. 0. 0. 0.]\n",
      " [1. 0. 0. 0. 0. 0. 0.]\n",
      " [1. 0. 0. 0. 0. 0. 0.]\n",
      " [1. 0. 0. 0. 0. 0. 0.]\n",
      " [1. 0. 0. 0. 0. 0. 0.]\n",
      " [0. 1. 0. 0. 0. 0. 0.]], shape=(20, 7), dtype=float32)\n",
      "실제데이터 :  [[0. 1. 0. 0. 0. 0. 0.]\n",
      " [0. 1. 0. 0. 0. 0. 0.]\n",
      " [0. 0. 1. 0. 0. 0. 0.]\n",
      " [0. 1. 0. 0. 0. 0. 0.]\n",
      " [0. 1. 0. 0. 0. 0. 0.]\n",
      " [0. 1. 0. 0. 0. 0. 0.]\n",
      " [0. 1. 0. 0. 0. 0. 0.]\n",
      " [0. 1. 0. 0. 0. 0. 0.]\n",
      " [0. 1. 0. 0. 0. 0. 0.]\n",
      " [0. 0. 0. 0. 0. 1. 0.]\n",
      " [0. 1. 0. 0. 0. 0. 0.]\n",
      " [1. 0. 0. 0. 0. 0. 0.]\n",
      " [1. 0. 0. 0. 0. 0. 0.]\n",
      " [1. 0. 0. 0. 0. 0. 0.]\n",
      " [0. 0. 1. 0. 0. 0. 0.]\n",
      " [1. 0. 0. 0. 0. 0. 0.]\n",
      " [0. 1. 0. 0. 0. 0. 0.]\n",
      " [1. 0. 0. 0. 0. 0. 0.]\n",
      " [1. 0. 0. 0. 0. 0. 0.]\n",
      " [0. 1. 0. 0. 0. 0. 0.]]\n",
      "========================================\n",
      "0.8114420453860915\n"
     ]
    }
   ],
   "source": [
    "# 데이터 출력\n",
    "\n",
    "print(\"예측데이터 : \",y_predict[:20])\n",
    "print(\"실제데이터 : \",y_test[:20])\n",
    "\n",
    "print\n",
    "print(\"========================================\")\n",
    "acc = accuracy_score(y_test,y_predict)\n",
    "print(acc)\n"
   ]
  },
  {
   "cell_type": "code",
   "execution_count": 12,
   "metadata": {},
   "outputs": [],
   "source": [
    "model.save(\"./_data\\\\\"+\"fetch(val_acc=0.89).h5\")"
   ]
  }
 ],
 "metadata": {
  "kernelspec": {
   "display_name": "tf274gpu",
   "language": "python",
   "name": "python3"
  },
  "language_info": {
   "codemirror_mode": {
    "name": "ipython",
    "version": 3
   },
   "file_extension": ".py",
   "mimetype": "text/x-python",
   "name": "python",
   "nbconvert_exporter": "python",
   "pygments_lexer": "ipython3",
   "version": "3.9.15 (main, Nov 24 2022, 14:39:17) [MSC v.1916 64 bit (AMD64)]"
  },
  "orig_nbformat": 4,
  "vscode": {
   "interpreter": {
    "hash": "10848e9bd3f5e7d93542d388001135334854454e7336dcf54c4ef52885ee0fb0"
   }
  }
 },
 "nbformat": 4,
 "nbformat_minor": 2
}
