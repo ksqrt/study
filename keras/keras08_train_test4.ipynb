{
 "cells": [
  {
   "cell_type": "code",
   "execution_count": 38,
   "metadata": {},
   "outputs": [],
   "source": [
    "import numpy as np\n",
    "from tensorflow.keras.models import Sequential\n",
    "from tensorflow.keras.layers import Dense\n",
    "\n",
    "from sklearn.model_selection import train_test_split\n"
   ]
  },
  {
   "cell_type": "code",
   "execution_count": 39,
   "metadata": {},
   "outputs": [
    {
     "name": "stdout",
     "output_type": "stream",
     "text": [
      "x_train: \n",
      " [[  4  25 205]\n",
      " [  3  24 204]\n",
      " [  5  26 206]\n",
      " [  0  21 201]\n",
      " [  8  29 209]\n",
      " [  9  30 210]\n",
      " [  6  27 207]]\n",
      "x_test: \n",
      " [[  2  23 203]\n",
      " [  7  28 208]\n",
      " [  1  22 202]]\n",
      "y_train: \n",
      " [[ 5.   2. ]\n",
      " [ 4.   1. ]\n",
      " [ 6.   1.3]\n",
      " [ 1.   1. ]\n",
      " [ 9.   1.6]\n",
      " [10.   1.4]\n",
      " [ 7.   1.4]]\n",
      "y_test: \n",
      " [[3.  1. ]\n",
      " [8.  1.5]\n",
      " [2.  1. ]]\n"
     ]
    }
   ],
   "source": [
    "# 2.데이터 정의\n",
    "x= np.array([range(10),range(21,31),range(201,211)])\n",
    "y = np.array([[i for i in range(1,11,1)],\n",
    "             [1,1,1,1,2,1.3,1.4,1.5,1.6,1.4]])\n",
    "x = x.T\n",
    "y = y.T\n",
    "\n",
    "x_train, x_test, y_train, y_test = train_test_split(\n",
    "    x, \n",
    "    y, \n",
    "    test_size = 0.3, \n",
    "    shuffle = True, \n",
    "    # random_state = 123\n",
    "    )\n",
    "\n",
    "print(\"x_train: \\n\",x_train)\n",
    "print(\"x_test: \\n\",x_test)\n",
    "print(\"y_train: \\n\",y_train)\n",
    "print(\"y_test: \\n\",y_test)\n",
    "\n"
   ]
  },
  {
   "cell_type": "code",
   "execution_count": 40,
   "metadata": {},
   "outputs": [
    {
     "name": "stdout",
     "output_type": "stream",
     "text": [
      "Model: \"sequential_6\"\n",
      "_________________________________________________________________\n",
      " Layer (type)                Output Shape              Param #   \n",
      "=================================================================\n",
      " dense_31 (Dense)            (None, 9)                 36        \n",
      "                                                                 \n",
      " dense_32 (Dense)            (None, 9)                 90        \n",
      "                                                                 \n",
      " dense_33 (Dense)            (None, 2)                 20        \n",
      "                                                                 \n",
      " dense_34 (Dense)            (None, 6)                 18        \n",
      "                                                                 \n",
      " dense_35 (Dense)            (None, 2)                 14        \n",
      "                                                                 \n",
      "=================================================================\n",
      "Total params: 178\n",
      "Trainable params: 178\n",
      "Non-trainable params: 0\n",
      "_________________________________________________________________\n"
     ]
    }
   ],
   "source": [
    "\n",
    "# 2. 모델 구성\n",
    "from random import randrange\n",
    "number1 = randrange(1,10,1)\n",
    "number2 = randrange(1,10,1)\n",
    "number3= randrange(1,10,1)\n",
    "model = Sequential([\n",
    "    Dense(number1,input_dim = 3),\n",
    "    Dense(number1),\n",
    "    Dense(number2),\n",
    "    Dense(number3),\n",
    "    Dense(2)\n",
    "])\n",
    "\n",
    "model.summary()"
   ]
  },
  {
   "cell_type": "code",
   "execution_count": 41,
   "metadata": {},
   "outputs": [
    {
     "name": "stdout",
     "output_type": "stream",
     "text": [
      "Epoch 1/100\n",
      "100/100 [==============================] - 0s 651us/step - loss: 385.1900\n",
      "Epoch 2/100\n",
      "100/100 [==============================] - 0s 639us/step - loss: 12.0525\n",
      "Epoch 3/100\n",
      "100/100 [==============================] - 0s 625us/step - loss: 11.4726\n",
      "Epoch 4/100\n",
      "100/100 [==============================] - 0s 638us/step - loss: 10.5079\n",
      "Epoch 5/100\n",
      "100/100 [==============================] - 0s 606us/step - loss: 9.6324\n",
      "Epoch 6/100\n",
      "100/100 [==============================] - 0s 659us/step - loss: 9.0986\n",
      "Epoch 7/100\n",
      "100/100 [==============================] - 0s 634us/step - loss: 7.6128\n",
      "Epoch 8/100\n",
      "WARNING:tensorflow:Your input ran out of data; interrupting training. Make sure that your dataset or generator can generate at least `steps_per_epoch * epochs` batches (in this case, 10000 batches). You may need to use the repeat() function when building your dataset.\n",
      "100/100 [==============================] - 0s 169us/step - loss: 7.6128\n"
     ]
    },
    {
     "data": {
      "text/plain": [
       "<keras.callbacks.History at 0x2c323eda4f0>"
      ]
     },
     "execution_count": 41,
     "metadata": {},
     "output_type": "execute_result"
    }
   ],
   "source": [
    "# 3. 컴파일과훈련\n",
    "model.compile(loss=\"mse\" , optimizer=\"adam\")\n",
    "model.fit(x_train,y_train,epochs=100,steps_per_epoch=100)"
   ]
  },
  {
   "cell_type": "code",
   "execution_count": 42,
   "metadata": {},
   "outputs": [
    {
     "name": "stdout",
     "output_type": "stream",
     "text": [
      "WARNING:tensorflow:5 out of the last 5 calls to <function Model.make_test_function.<locals>.test_function at 0x000002C322DDF310> triggered tf.function retracing. Tracing is expensive and the excessive number of tracings could be due to (1) creating @tf.function repeatedly in a loop, (2) passing tensors with different shapes, (3) passing Python objects instead of tensors. For (1), please define your @tf.function outside of the loop. For (2), @tf.function has experimental_relax_shapes=True option that relaxes argument shapes that can avoid unnecessary retracing. For (3), please refer to https://www.tensorflow.org/guide/function#controlling_retracing and https://www.tensorflow.org/api_docs/python/tf/function for  more details.\n",
      "1/1 [==============================] - 0s 78ms/step - loss: 8.0725\n",
      "loss :  8.072535514831543\n"
     ]
    }
   ],
   "source": [
    "loss = model.evaluate(x_test,y_test)\n",
    "print(\"loss : \",loss)"
   ]
  },
  {
   "cell_type": "code",
   "execution_count": 43,
   "metadata": {},
   "outputs": [
    {
     "name": "stdout",
     "output_type": "stream",
     "text": [
      "WARNING:tensorflow:5 out of the last 5 calls to <function Model.make_predict_function.<locals>.predict_function at 0x000002C321BE0040> triggered tf.function retracing. Tracing is expensive and the excessive number of tracings could be due to (1) creating @tf.function repeatedly in a loop, (2) passing tensors with different shapes, (3) passing Python objects instead of tensors. For (1), please define your @tf.function outside of the loop. For (2), @tf.function has experimental_relax_shapes=True option that relaxes argument shapes that can avoid unnecessary retracing. For (3), please refer to https://www.tensorflow.org/guide/function#controlling_retracing and https://www.tensorflow.org/api_docs/python/tf/function for  more details.\n"
     ]
    },
    {
     "data": {
      "text/plain": [
       "array([[7.421847 , 1.4427552]], dtype=float32)"
      ]
     },
     "execution_count": 43,
     "metadata": {},
     "output_type": "execute_result"
    }
   ],
   "source": [
    "model.predict([[0,21,201]])"
   ]
  }
 ],
 "metadata": {
  "kernelspec": {
   "display_name": "tf27",
   "language": "python",
   "name": "python3"
  },
  "language_info": {
   "codemirror_mode": {
    "name": "ipython",
    "version": 3
   },
   "file_extension": ".py",
   "mimetype": "text/x-python",
   "name": "python",
   "nbconvert_exporter": "python",
   "pygments_lexer": "ipython3",
   "version": "3.9.7"
  },
  "orig_nbformat": 4,
  "vscode": {
   "interpreter": {
    "hash": "b47fb4e6c68d4941015efb0bbf71549277582fe8531338196fc3c7fa71b6aab8"
   }
  }
 },
 "nbformat": 4,
 "nbformat_minor": 2
}
