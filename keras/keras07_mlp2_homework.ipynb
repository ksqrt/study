{
 "cells": [
  {
   "cell_type": "code",
   "execution_count": 1,
   "metadata": {},
   "outputs": [],
   "source": [
    "import numpy as np\n",
    "import tensorflow as tf\n",
    "from tensorflow.keras.models import Sequential\n",
    "from tensorflow.keras.layers import Dense\n"
   ]
  },
  {
   "cell_type": "code",
   "execution_count": 2,
   "metadata": {},
   "outputs": [
    {
     "name": "stdout",
     "output_type": "stream",
     "text": [
      "[9, 8, 7, 6, 5, 4, 3, 2, 1, 0]\n"
     ]
    }
   ],
   "source": [
    "print([i for i in range(9,-1,-1)])"
   ]
  },
  {
   "cell_type": "code",
   "execution_count": 3,
   "metadata": {},
   "outputs": [
    {
     "name": "stdout",
     "output_type": "stream",
     "text": [
      "[[ 1.   1.   9. ]\n",
      " [ 2.   1.   8. ]\n",
      " [ 3.   1.   7. ]\n",
      " [ 4.   1.   6. ]\n",
      " [ 5.   2.   5. ]\n",
      " [ 6.   1.3  4. ]\n",
      " [ 7.   1.4  3. ]\n",
      " [ 8.   1.5  2. ]\n",
      " [ 9.   1.6  1. ]\n",
      " [10.   1.4  0. ]]\n"
     ]
    }
   ],
   "source": [
    "\n",
    "# 1.데이터 준비\n",
    "\n",
    "x = np.array([[i for i in range(1,11,1)],\n",
    "             [1,1,1,1,2,1.3,1.4,1.5,1.6,1.4],\n",
    "             [i for i in range(9,-1,-1)]])\n",
    "\n",
    "# (3,10)\n",
    "y = np.array([i for i in range(2,22,2)])\n",
    "# (10, ) 서로 행렬이 다르기때문에 전치행렬로변환 시켜줘야합니다.\n",
    "\n",
    "# 3행 10열인 행렬을 \n",
    "# 10행 3열로 변환\n",
    "x = x.T\n",
    "\n",
    "print(x)\n"
   ]
  },
  {
   "cell_type": "code",
   "execution_count": 4,
   "metadata": {},
   "outputs": [],
   "source": [
    "# 2. 모델 구성\n",
    "\n",
    "model = Sequential([\n",
    "    Dense(5,input_dim=3),\n",
    "    Dense(4),\n",
    "    Dense(3),\n",
    "    Dense(2),\n",
    "    Dense(1),\n",
    "])"
   ]
  },
  {
   "cell_type": "code",
   "execution_count": 5,
   "metadata": {},
   "outputs": [
    {
     "name": "stdout",
     "output_type": "stream",
     "text": [
      "Epoch 1/100\n",
      "100/100 [==============================] - 0s 682us/step - loss: 4.4489\n",
      "Epoch 2/100\n",
      "100/100 [==============================] - 0s 666us/step - loss: 1.7882\n",
      "Epoch 3/100\n",
      "100/100 [==============================] - 0s 630us/step - loss: 0.3181\n",
      "Epoch 4/100\n",
      "100/100 [==============================] - 0s 661us/step - loss: 0.2123\n",
      "Epoch 5/100\n",
      "100/100 [==============================] - 0s 690us/step - loss: 0.1973\n",
      "Epoch 6/100\n",
      "100/100 [==============================] - 0s 677us/step - loss: 0.1856\n",
      "Epoch 7/100\n",
      "100/100 [==============================] - 0s 658us/step - loss: 0.1633\n",
      "Epoch 8/100\n",
      "100/100 [==============================] - 0s 662us/step - loss: 0.1471\n",
      "Epoch 9/100\n",
      "100/100 [==============================] - 0s 680us/step - loss: 0.1786\n",
      "Epoch 10/100\n",
      "100/100 [==============================] - 0s 747us/step - loss: 0.1512\n",
      "Epoch 11/100\n",
      "WARNING:tensorflow:Your input ran out of data; interrupting training. Make sure that your dataset or generator can generate at least `steps_per_epoch * epochs` batches (in this case, 10000 batches). You may need to use the repeat() function when building your dataset.\n",
      "100/100 [==============================] - 1s 6ms/step - loss: 0.1512\n"
     ]
    },
    {
     "data": {
      "text/plain": [
       "<keras.callbacks.History at 0x18464563d90>"
      ]
     },
     "execution_count": 5,
     "metadata": {},
     "output_type": "execute_result"
    }
   ],
   "source": [
    "# 3. 모델 컴파일 + 훈련\n",
    "model.compile(loss=\"mae\",optimizer=\"adam\")\n",
    "model.fit(x,y,epochs=100,steps_per_epoch=100)"
   ]
  },
  {
   "cell_type": "code",
   "execution_count": 6,
   "metadata": {},
   "outputs": [
    {
     "name": "stdout",
     "output_type": "stream",
     "text": [
      "1/1 [==============================] - 0s 125ms/step - loss: 0.0920\n",
      "loss :  0.09204691648483276\n"
     ]
    }
   ],
   "source": [
    "# 4. 평가\n",
    "loss = model.evaluate(x,y)\n",
    "\n",
    "print(\"loss : \",loss)"
   ]
  },
  {
   "cell_type": "code",
   "execution_count": 8,
   "metadata": {},
   "outputs": [
    {
     "name": "stdout",
     "output_type": "stream",
     "text": [
      "[[20.105967]]\n"
     ]
    }
   ],
   "source": [
    "# 5. 예측\n",
    "print(model.predict([[10,1.4,0]]))"
   ]
  },
  {
   "cell_type": "code",
   "execution_count": null,
   "metadata": {},
   "outputs": [],
   "source": []
  }
 ],
 "metadata": {
  "kernelspec": {
   "display_name": "tf27",
   "language": "python",
   "name": "python3"
  },
  "language_info": {
   "codemirror_mode": {
    "name": "ipython",
    "version": 3
   },
   "file_extension": ".py",
   "mimetype": "text/x-python",
   "name": "python",
   "nbconvert_exporter": "python",
   "pygments_lexer": "ipython3",
   "version": "3.9.7"
  },
  "orig_nbformat": 4,
  "vscode": {
   "interpreter": {
    "hash": "b47fb4e6c68d4941015efb0bbf71549277582fe8531338196fc3c7fa71b6aab8"
   }
  }
 },
 "nbformat": 4,
 "nbformat_minor": 2
}
