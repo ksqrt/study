{
 "cells": [
  {
   "cell_type": "code",
   "execution_count": 1,
   "metadata": {},
   "outputs": [
    {
     "name": "stderr",
     "output_type": "stream",
     "text": [
      "c:\\Users\\bitcamp\\anaconda3\\envs\\tf274gpu\\lib\\site-packages\\sklearn\\utils\\deprecation.py:87: FutureWarning: Function load_boston is deprecated; `load_boston` is deprecated in 1.0 and will be removed in 1.2.\n",
      "\n",
      "    The Boston housing prices dataset has an ethical problem. You can refer to\n",
      "    the documentation of this function for further details.\n",
      "\n",
      "    The scikit-learn maintainers therefore strongly discourage the use of this\n",
      "    dataset unless the purpose of the code is to study and educate about\n",
      "    ethical issues in data science and machine learning.\n",
      "\n",
      "    In this special case, you can fetch the dataset from the original\n",
      "    source::\n",
      "\n",
      "        import pandas as pd\n",
      "        import numpy as np\n",
      "\n",
      "        data_url = \"http://lib.stat.cmu.edu/datasets/boston\"\n",
      "        raw_df = pd.read_csv(data_url, sep=\"\\s+\", skiprows=22, header=None)\n",
      "        data = np.hstack([raw_df.values[::2, :], raw_df.values[1::2, :2]])\n",
      "        target = raw_df.values[1::2, 2]\n",
      "\n",
      "    Alternative datasets include the California housing dataset (i.e.\n",
      "    :func:`~sklearn.datasets.fetch_california_housing`) and the Ames housing\n",
      "    dataset. You can load the datasets as follows::\n",
      "\n",
      "        from sklearn.datasets import fetch_california_housing\n",
      "        housing = fetch_california_housing()\n",
      "\n",
      "    for the California housing dataset and::\n",
      "\n",
      "        from sklearn.datasets import fetch_openml\n",
      "        housing = fetch_openml(name=\"house_prices\", as_frame=True)\n",
      "\n",
      "    for the Ames housing dataset.\n",
      "  warnings.warn(msg, category=FutureWarning)\n"
     ]
    }
   ],
   "source": [
    "from sklearn.datasets import load_boston\n",
    "import numpy as np\n",
    "import pandas as pd\n",
    "import tensorflow as tf\n",
    "from tensorflow.keras.models import Sequential,Model\n",
    "from tensorflow.keras.layers import Dense\n",
    "from sklearn.model_selection import train_test_split\n",
    "from sklearn.preprocessing import MinMaxScaler,StandardScaler\n",
    "import sklearn as sk\n",
    "dataset = load_boston()"
   ]
  },
  {
   "cell_type": "code",
   "execution_count": 3,
   "metadata": {},
   "outputs": [
    {
     "name": "stdout",
     "output_type": "stream",
     "text": [
      "x 최솟값 :  0       0.00632\n",
      "1       0.00000\n",
      "2       0.46000\n",
      "3       0.00000\n",
      "4       0.38500\n",
      "5       3.56100\n",
      "6       2.90000\n",
      "7       1.12960\n",
      "8       1.00000\n",
      "9     187.00000\n",
      "10     12.60000\n",
      "11      0.32000\n",
      "12      1.73000\n",
      "dtype: float64\n",
      "x 최댓값 :  0      88.9762\n",
      "1     100.0000\n",
      "2      27.7400\n",
      "3       1.0000\n",
      "4       0.8710\n",
      "5       8.7800\n",
      "6     100.0000\n",
      "7      12.1265\n",
      "8      24.0000\n",
      "9     711.0000\n",
      "10     22.0000\n",
      "11    396.9000\n",
      "12     37.9700\n",
      "dtype: float64\n"
     ]
    },
    {
     "name": "stderr",
     "output_type": "stream",
     "text": [
      "c:\\Users\\bitcamp\\anaconda3\\envs\\tf274gpu\\lib\\site-packages\\numpy\\core\\fromnumeric.py:84: FutureWarning: In a future version, DataFrame.min(axis=None) will return a scalar min over the entire DataFrame. To retain the old behavior, use 'frame.min(axis=0)' or just 'frame.min()'\n",
      "  return reduction(axis=axis, out=out, **passkwargs)\n",
      "c:\\Users\\bitcamp\\anaconda3\\envs\\tf274gpu\\lib\\site-packages\\numpy\\core\\fromnumeric.py:84: FutureWarning: In a future version, DataFrame.max(axis=None) will return a scalar max over the entire DataFrame. To retain the old behavior, use 'frame.max(axis=0)' or just 'frame.max()'\n",
      "  return reduction(axis=axis, out=out, **passkwargs)\n"
     ]
    }
   ],
   "source": [
    "x = dataset.data\n",
    "y = dataset.target\n",
    "x= pd.DataFrame(x)\n",
    "print(\"x 최솟값 : \",np.min(x))\n",
    "print(\"x 최댓값 : \",np.max(x))"
   ]
  },
  {
   "cell_type": "code",
   "execution_count": 4,
   "metadata": {},
   "outputs": [
    {
     "name": "stdout",
     "output_type": "stream",
     "text": [
      "x 최솟값 :  -3.9071933049810337\n",
      "x 최댓값 :  9.933930601860268\n"
     ]
    }
   ],
   "source": [
    "# 스케일링 하기\n",
    "scaler = StandardScaler()\n",
    "# 가중치 생성후\n",
    "scaler.fit(x)\n",
    "# 변환\n",
    "x = scaler.transform(x)\n",
    "print(\"x 최솟값 : \",np.min(x))\n",
    "print(\"x 최댓값 : \",np.max(x))"
   ]
  },
  {
   "cell_type": "code",
   "execution_count": 5,
   "metadata": {},
   "outputs": [
    {
     "name": "stdout",
     "output_type": "stream",
     "text": [
      "(506, 13)\n",
      "(506,)\n"
     ]
    }
   ],
   "source": [
    "# 13개의 칼럼 을 가지고있는 데이터를 조회합니다\n",
    "print(x.shape) #(506,13)\n",
    "# print(x)\n",
    "print(y.shape) #(506,)\n",
    "# print(y)\n"
   ]
  },
  {
   "cell_type": "code",
   "execution_count": 6,
   "metadata": {},
   "outputs": [
    {
     "name": "stdout",
     "output_type": "stream",
     "text": [
      "['CRIM' 'ZN' 'INDUS' 'CHAS' 'NOX' 'RM' 'AGE' 'DIS' 'RAD' 'TAX' 'PTRATIO'\n",
      " 'B' 'LSTAT']\n",
      "13\n"
     ]
    }
   ],
   "source": [
    "# 사이킥 런의 칼럼 조회기능\n",
    "print(dataset.feature_names)\n",
    "print(len(dataset.feature_names))\n"
   ]
  },
  {
   "cell_type": "code",
   "execution_count": 7,
   "metadata": {},
   "outputs": [],
   "source": [
    "# 사이킥런의 데이터 요약\n",
    "# print(dataset.DESCR)"
   ]
  },
  {
   "cell_type": "code",
   "execution_count": 8,
   "metadata": {},
   "outputs": [
    {
     "name": "stdout",
     "output_type": "stream",
     "text": [
      "354\n",
      "152\n"
     ]
    }
   ],
   "source": [
    "# 3. 모델구성\n",
    "# 실습 train 0.7 이상\n",
    "# 평가지표 R2 : 0.8 이상으로 뽑아내보기 / RMSE 사용\n",
    "\n",
    "x_train, x_test,y_train,y_test = train_test_split(x,y,\n",
    "    train_size=0.7,\n",
    "    shuffle = True,\n",
    "    random_state= 123\n",
    ")\n",
    "\n",
    "scaler = MinMaxScaler()\n",
    "# 가중치 생성후\n",
    "scaler.fit(x_train)\n",
    "# x_train 의 가중치 변환\n",
    "x_train = scaler.transform(x_train)\n",
    "# x_test 는 변환만 !\n",
    "x_test = scaler.transform(x_test)\n",
    "\n",
    "print(len(x_train))\n",
    "print(len(x_test))"
   ]
  },
  {
   "cell_type": "code",
   "execution_count": 9,
   "metadata": {},
   "outputs": [
    {
     "name": "stdout",
     "output_type": "stream",
     "text": [
      "Model: \"model\"\n",
      "_________________________________________________________________\n",
      " Layer (type)                Output Shape              Param #   \n",
      "=================================================================\n",
      " input_1 (InputLayer)        [(None, 13)]              0         \n",
      "                                                                 \n",
      " dense_6 (Dense)             (None, 50)                700       \n",
      "                                                                 \n",
      " dense_7 (Dense)             (None, 50)                2550      \n",
      "                                                                 \n",
      " dense_8 (Dense)             (None, 50)                2550      \n",
      "                                                                 \n",
      " dense_9 (Dense)             (None, 50)                2550      \n",
      "                                                                 \n",
      " dense_10 (Dense)            (None, 50)                2550      \n",
      "                                                                 \n",
      " dense_11 (Dense)            (None, 1)                 51        \n",
      "                                                                 \n",
      "=================================================================\n",
      "Total params: 10,951\n",
      "Trainable params: 10,951\n",
      "Non-trainable params: 0\n",
      "_________________________________________________________________\n"
     ]
    }
   ],
   "source": [
    "from tensorflow.keras.models import Sequential,Model\n",
    "from tensorflow.keras.layers import Dense,Input\n",
    "\n",
    "\n",
    "# 2. 모델구성 순차형\n",
    "model = Sequential([\n",
    "    Dense(50,input_dim=13,activation=\"relu\"),\n",
    "    Dense(50,activation=\"relu\"),\n",
    "    Dense(50,activation=\"relu\"),\n",
    "    Dense(50,activation=\"relu\"),\n",
    "    Dense(50,activation=\"relu\"),\n",
    "    Dense(1)\n",
    "])\n",
    "\n",
    "\n",
    "# 3. 모델구성 함수형\n",
    "input1 = Input(shape=(13,))\n",
    "dense1 = Dense(50,activation=\"relu\")(input1)\n",
    "dense2 = Dense(50,activation=\"relu\")(dense1)\n",
    "dense3 = Dense(50,activation=\"relu\")(dense2)\n",
    "dense4 = Dense(50,activation=\"relu\")(dense3)\n",
    "dense5 = Dense(50,activation=\"relu\")(dense4)\n",
    "output1 = Dense(1,activation=\"relu\")(dense5)\n",
    "\n",
    "model=Model(inputs=input1,outputs=output1)\n",
    "\n",
    "model.summary()"
   ]
  },
  {
   "cell_type": "code",
   "execution_count": 10,
   "metadata": {},
   "outputs": [
    {
     "name": "stdout",
     "output_type": "stream",
     "text": [
      "Epoch 1/100\n",
      "9/9 [==============================] - 1s 17ms/step - loss: 22.6233 - val_loss: 22.2611\n",
      "Epoch 2/100\n",
      "9/9 [==============================] - 0s 5ms/step - loss: 22.1025 - val_loss: 21.3815\n",
      "Epoch 3/100\n",
      "9/9 [==============================] - 0s 5ms/step - loss: 20.7620 - val_loss: 19.0604\n",
      "Epoch 4/100\n",
      "9/9 [==============================] - 0s 5ms/step - loss: 17.2986 - val_loss: 13.4564\n",
      "Epoch 5/100\n",
      "9/9 [==============================] - 0s 5ms/step - loss: 10.7021 - val_loss: 8.1297\n",
      "Epoch 6/100\n",
      "9/9 [==============================] - 0s 5ms/step - loss: 9.4270 - val_loss: 8.1580\n",
      "Epoch 7/100\n",
      "9/9 [==============================] - 0s 5ms/step - loss: 7.7684 - val_loss: 7.1361\n",
      "Epoch 8/100\n",
      "9/9 [==============================] - 0s 5ms/step - loss: 7.2073 - val_loss: 6.3614\n",
      "Epoch 9/100\n",
      "9/9 [==============================] - 0s 5ms/step - loss: 6.3096 - val_loss: 5.9471\n",
      "Epoch 10/100\n",
      "9/9 [==============================] - 0s 5ms/step - loss: 5.7492 - val_loss: 5.5787\n",
      "Epoch 11/100\n",
      "9/9 [==============================] - 0s 5ms/step - loss: 5.2963 - val_loss: 5.3595\n",
      "Epoch 12/100\n",
      "9/9 [==============================] - 0s 5ms/step - loss: 5.0558 - val_loss: 5.2567\n",
      "Epoch 13/100\n",
      "9/9 [==============================] - 0s 5ms/step - loss: 4.8756 - val_loss: 5.1735\n",
      "Epoch 14/100\n",
      "9/9 [==============================] - 0s 5ms/step - loss: 4.7084 - val_loss: 5.0721\n",
      "Epoch 15/100\n",
      "9/9 [==============================] - 0s 5ms/step - loss: 4.5772 - val_loss: 4.9905\n",
      "Epoch 16/100\n",
      "9/9 [==============================] - 0s 5ms/step - loss: 4.4747 - val_loss: 4.9115\n",
      "Epoch 17/100\n",
      "9/9 [==============================] - 0s 5ms/step - loss: 4.3441 - val_loss: 4.7406\n",
      "Epoch 18/100\n",
      "9/9 [==============================] - 0s 5ms/step - loss: 4.1799 - val_loss: 4.7509\n",
      "Epoch 19/100\n",
      "9/9 [==============================] - 0s 5ms/step - loss: 4.2226 - val_loss: 4.5065\n",
      "Epoch 20/100\n",
      "9/9 [==============================] - 0s 5ms/step - loss: 3.9081 - val_loss: 4.3886\n",
      "Epoch 21/100\n",
      "9/9 [==============================] - 0s 5ms/step - loss: 3.9048 - val_loss: 4.1754\n",
      "Epoch 22/100\n",
      "9/9 [==============================] - 0s 5ms/step - loss: 3.6209 - val_loss: 3.9656\n",
      "Epoch 23/100\n",
      "9/9 [==============================] - 0s 5ms/step - loss: 3.4768 - val_loss: 3.7872\n",
      "Epoch 24/100\n",
      "9/9 [==============================] - 0s 5ms/step - loss: 3.2931 - val_loss: 3.6601\n",
      "Epoch 25/100\n",
      "9/9 [==============================] - 0s 5ms/step - loss: 3.1937 - val_loss: 3.6102\n",
      "Epoch 26/100\n",
      "9/9 [==============================] - 0s 5ms/step - loss: 3.0873 - val_loss: 3.4733\n",
      "Epoch 27/100\n",
      "9/9 [==============================] - 0s 5ms/step - loss: 2.9088 - val_loss: 3.3998\n",
      "Epoch 28/100\n",
      "9/9 [==============================] - 0s 5ms/step - loss: 2.8395 - val_loss: 3.4058\n",
      "Epoch 29/100\n",
      "9/9 [==============================] - 0s 5ms/step - loss: 2.9078 - val_loss: 3.3926\n",
      "Epoch 30/100\n",
      "9/9 [==============================] - 0s 5ms/step - loss: 2.8204 - val_loss: 3.2696\n",
      "Epoch 31/100\n",
      "9/9 [==============================] - 0s 5ms/step - loss: 2.7378 - val_loss: 3.2410\n",
      "Epoch 32/100\n",
      "9/9 [==============================] - 0s 5ms/step - loss: 2.6869 - val_loss: 3.2684\n",
      "Epoch 33/100\n",
      "9/9 [==============================] - 0s 5ms/step - loss: 2.6521 - val_loss: 3.1389\n",
      "Epoch 34/100\n",
      "9/9 [==============================] - 0s 5ms/step - loss: 2.6261 - val_loss: 3.2086\n",
      "Epoch 35/100\n",
      "9/9 [==============================] - 0s 5ms/step - loss: 2.5695 - val_loss: 3.1697\n",
      "Epoch 36/100\n",
      "9/9 [==============================] - 0s 5ms/step - loss: 2.6185 - val_loss: 3.0805\n",
      "Epoch 37/100\n",
      "9/9 [==============================] - 0s 5ms/step - loss: 2.5506 - val_loss: 3.1449\n",
      "Epoch 38/100\n",
      "9/9 [==============================] - 0s 5ms/step - loss: 2.4936 - val_loss: 3.0553\n",
      "Epoch 39/100\n",
      "9/9 [==============================] - 0s 5ms/step - loss: 2.4931 - val_loss: 3.0052\n",
      "Epoch 40/100\n",
      "9/9 [==============================] - 0s 5ms/step - loss: 2.4695 - val_loss: 3.0061\n",
      "Epoch 41/100\n",
      "9/9 [==============================] - 0s 5ms/step - loss: 2.4283 - val_loss: 3.0649\n",
      "Epoch 42/100\n",
      "9/9 [==============================] - 0s 5ms/step - loss: 2.6954 - val_loss: 3.0174\n",
      "Epoch 43/100\n",
      "9/9 [==============================] - 0s 5ms/step - loss: 2.4618 - val_loss: 3.2124\n",
      "Epoch 44/100\n",
      "9/9 [==============================] - 0s 5ms/step - loss: 2.3337 - val_loss: 3.0459\n",
      "Epoch 45/100\n",
      "9/9 [==============================] - 0s 6ms/step - loss: 2.4792 - val_loss: 3.2302\n",
      "Epoch 46/100\n",
      "9/9 [==============================] - 0s 5ms/step - loss: 2.4057 - val_loss: 3.1242\n",
      "Epoch 47/100\n",
      "9/9 [==============================] - 0s 5ms/step - loss: 2.3986 - val_loss: 3.0193\n",
      "Epoch 48/100\n",
      "9/9 [==============================] - 0s 5ms/step - loss: 2.3479 - val_loss: 2.9567\n",
      "Epoch 49/100\n",
      "9/9 [==============================] - 0s 5ms/step - loss: 2.3715 - val_loss: 2.9721\n",
      "Epoch 50/100\n",
      "9/9 [==============================] - 0s 5ms/step - loss: 2.2474 - val_loss: 3.0193\n",
      "Epoch 51/100\n",
      "9/9 [==============================] - 0s 5ms/step - loss: 2.3320 - val_loss: 2.9705\n",
      "Epoch 52/100\n",
      "9/9 [==============================] - 0s 5ms/step - loss: 2.3151 - val_loss: 2.8753\n",
      "Epoch 53/100\n",
      "9/9 [==============================] - 0s 5ms/step - loss: 2.2853 - val_loss: 2.8401\n",
      "Epoch 54/100\n",
      "9/9 [==============================] - 0s 4ms/step - loss: 2.2210 - val_loss: 2.9994\n",
      "Epoch 55/100\n",
      "9/9 [==============================] - 0s 5ms/step - loss: 2.1418 - val_loss: 2.9114\n",
      "Epoch 56/100\n",
      "9/9 [==============================] - 0s 5ms/step - loss: 2.1222 - val_loss: 3.1160\n",
      "Epoch 57/100\n",
      "9/9 [==============================] - 0s 5ms/step - loss: 2.1267 - val_loss: 2.8714\n",
      "Epoch 58/100\n",
      "9/9 [==============================] - 0s 5ms/step - loss: 2.1803 - val_loss: 2.8896\n",
      "Epoch 59/100\n",
      "9/9 [==============================] - 0s 5ms/step - loss: 2.1672 - val_loss: 3.1443\n",
      "Epoch 60/100\n",
      "9/9 [==============================] - 0s 5ms/step - loss: 2.1024 - val_loss: 2.9346\n",
      "Epoch 61/100\n",
      "9/9 [==============================] - 0s 5ms/step - loss: 2.1817 - val_loss: 2.8566\n",
      "Epoch 62/100\n",
      "9/9 [==============================] - 0s 5ms/step - loss: 2.1117 - val_loss: 3.1036\n",
      "Epoch 63/100\n",
      "9/9 [==============================] - 0s 5ms/step - loss: 2.1336 - val_loss: 2.9377\n",
      "Epoch 64/100\n",
      "9/9 [==============================] - 0s 5ms/step - loss: 2.0617 - val_loss: 2.8279\n",
      "Epoch 65/100\n",
      "9/9 [==============================] - 0s 5ms/step - loss: 1.9805 - val_loss: 2.9006\n",
      "Epoch 66/100\n",
      "9/9 [==============================] - 0s 5ms/step - loss: 1.9850 - val_loss: 2.8659\n",
      "Epoch 67/100\n",
      "9/9 [==============================] - 0s 4ms/step - loss: 1.9810 - val_loss: 2.8414\n",
      "Epoch 68/100\n",
      "9/9 [==============================] - 0s 5ms/step - loss: 1.9738 - val_loss: 2.8735\n",
      "Epoch 69/100\n",
      "9/9 [==============================] - 0s 5ms/step - loss: 1.9667 - val_loss: 2.8909\n",
      "Epoch 70/100\n",
      "9/9 [==============================] - 0s 6ms/step - loss: 1.9428 - val_loss: 2.8381\n",
      "Epoch 71/100\n",
      "9/9 [==============================] - 0s 5ms/step - loss: 1.8962 - val_loss: 2.8117\n",
      "Epoch 72/100\n",
      "9/9 [==============================] - 0s 5ms/step - loss: 1.9024 - val_loss: 2.8090\n",
      "Epoch 73/100\n",
      "9/9 [==============================] - 0s 5ms/step - loss: 1.8897 - val_loss: 2.9016\n",
      "Epoch 74/100\n",
      "9/9 [==============================] - 0s 5ms/step - loss: 1.8952 - val_loss: 2.8615\n",
      "Epoch 75/100\n",
      "9/9 [==============================] - 0s 5ms/step - loss: 1.8546 - val_loss: 2.8062\n",
      "Epoch 76/100\n",
      "9/9 [==============================] - 0s 5ms/step - loss: 1.8549 - val_loss: 2.8332\n",
      "Epoch 77/100\n",
      "9/9 [==============================] - 0s 5ms/step - loss: 1.8854 - val_loss: 2.8025\n",
      "Epoch 78/100\n",
      "9/9 [==============================] - 0s 5ms/step - loss: 1.8917 - val_loss: 2.7594\n",
      "Epoch 79/100\n",
      "9/9 [==============================] - 0s 5ms/step - loss: 1.8634 - val_loss: 2.6365\n",
      "Epoch 80/100\n",
      "9/9 [==============================] - 0s 5ms/step - loss: 1.8615 - val_loss: 2.9724\n",
      "Epoch 81/100\n",
      "9/9 [==============================] - 0s 5ms/step - loss: 2.1761 - val_loss: 2.7457\n",
      "Epoch 82/100\n",
      "9/9 [==============================] - 0s 5ms/step - loss: 1.8844 - val_loss: 3.0821\n",
      "Epoch 83/100\n",
      "9/9 [==============================] - 0s 5ms/step - loss: 1.9584 - val_loss: 2.7050\n",
      "Epoch 84/100\n",
      "9/9 [==============================] - 0s 5ms/step - loss: 1.8994 - val_loss: 2.8112\n",
      "Epoch 85/100\n",
      "9/9 [==============================] - 0s 5ms/step - loss: 1.9949 - val_loss: 2.8732\n",
      "Epoch 86/100\n",
      "9/9 [==============================] - 0s 6ms/step - loss: 1.9902 - val_loss: 2.6492\n",
      "Epoch 87/100\n",
      "9/9 [==============================] - 0s 5ms/step - loss: 1.9412 - val_loss: 2.6761\n",
      "Epoch 88/100\n",
      "9/9 [==============================] - 0s 5ms/step - loss: 1.8463 - val_loss: 2.7929\n",
      "Epoch 89/100\n",
      "9/9 [==============================] - 0s 5ms/step - loss: 1.8386 - val_loss: 2.7704\n",
      "Epoch 90/100\n",
      "9/9 [==============================] - 0s 5ms/step - loss: 1.8156 - val_loss: 2.6597\n",
      "Epoch 91/100\n",
      "9/9 [==============================] - 0s 5ms/step - loss: 1.8047 - val_loss: 2.8169\n",
      "Epoch 92/100\n",
      "9/9 [==============================] - 0s 5ms/step - loss: 1.8907 - val_loss: 2.8015\n",
      "Epoch 93/100\n",
      "9/9 [==============================] - 0s 5ms/step - loss: 1.8912 - val_loss: 2.6706\n",
      "Epoch 94/100\n",
      "9/9 [==============================] - 0s 5ms/step - loss: 1.8203 - val_loss: 2.6647\n",
      "Epoch 95/100\n",
      "9/9 [==============================] - 0s 6ms/step - loss: 1.8268 - val_loss: 2.7286\n",
      "Epoch 96/100\n",
      "9/9 [==============================] - 0s 5ms/step - loss: 1.7641 - val_loss: 2.8491\n",
      "Epoch 97/100\n",
      "9/9 [==============================] - 0s 5ms/step - loss: 1.7730 - val_loss: 2.7673\n",
      "Epoch 98/100\n",
      "9/9 [==============================] - 0s 5ms/step - loss: 1.7186 - val_loss: 2.7714\n",
      "Epoch 99/100\n",
      "9/9 [==============================] - 0s 5ms/step - loss: 1.7331 - val_loss: 2.7441\n",
      "Epoch 100/100\n",
      "9/9 [==============================] - 0s 5ms/step - loss: 1.7722 - val_loss: 2.7122\n"
     ]
    },
    {
     "data": {
      "text/plain": [
       "<keras.callbacks.History at 0x2150d3ea940>"
      ]
     },
     "execution_count": 10,
     "metadata": {},
     "output_type": "execute_result"
    }
   ],
   "source": [
    "\n",
    "hist = model.compile(loss=\"mae\",optimizer=\"adam\")\n",
    "\n",
    "model.fit(x_train, y_train, epochs=100, batch_size=32, validation_split=0.25)\n",
    "# loss = model.evaluate(x_test,y_test)\n",
    "# print(\"loss : \",loss)\n",
    "# y_predict =model.predict(x_test)\n",
    "# print(\"=================\")\n",
    "# print(y_test)\n",
    "# print(y_predict)\n",
    "# print(\"=================\")\n",
    "# r2 = r2_score(y_test,y_predict)\n"
   ]
  },
  {
   "cell_type": "code",
   "execution_count": 15,
   "metadata": {},
   "outputs": [],
   "source": [
    "path = \"../_save/\"\n",
    "\n",
    "model.save(path+\"savemodel.h5\")"
   ]
  }
 ],
 "metadata": {
  "kernelspec": {
   "display_name": "tf274gpu",
   "language": "python",
   "name": "python3"
  },
  "language_info": {
   "codemirror_mode": {
    "name": "ipython",
    "version": 3
   },
   "file_extension": ".py",
   "mimetype": "text/x-python",
   "name": "python",
   "nbconvert_exporter": "python",
   "pygments_lexer": "ipython3",
   "version": "3.9.15 (main, Nov 24 2022, 14:39:17) [MSC v.1916 64 bit (AMD64)]"
  },
  "orig_nbformat": 4,
  "vscode": {
   "interpreter": {
    "hash": "10848e9bd3f5e7d93542d388001135334854454e7336dcf54c4ef52885ee0fb0"
   }
  }
 },
 "nbformat": 4,
 "nbformat_minor": 2
}
