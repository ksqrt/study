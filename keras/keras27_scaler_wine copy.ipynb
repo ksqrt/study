{
 "cells": [
  {
   "cell_type": "code",
   "execution_count": 65,
   "metadata": {},
   "outputs": [],
   "source": [
    "from sklearn.datasets import load_wine\n",
    "import numpy as np\n",
    "import pandas as pd\n",
    "import tensorflow as tf\n",
    "from tensorflow.keras.utils import to_categorical\n",
    "from tensorflow.keras.models import Sequential\n",
    "from tensorflow.keras.layers import Dense,Dropout\n",
    "from sklearn.model_selection import train_test_split\n",
    "from sklearn.metrics import mean_squared_error, r2_score\n",
    "\n",
    "datasets = (load_wine())\n",
    "\n",
    "x = pd.DataFrame(datasets[\"data\"])\n",
    "y = pd.DataFrame(datasets[\"target\"])\n"
   ]
  },
  {
   "cell_type": "code",
   "execution_count": 66,
   "metadata": {},
   "outputs": [
    {
     "name": "stdout",
     "output_type": "stream",
     "text": [
      "(178, 13) (178, 1)\n",
      "[0 1 2]\n",
      "(array([0, 1, 2]), array([59, 71, 48], dtype=int64))\n"
     ]
    }
   ],
   "source": [
    "\n",
    "print(x.shape,y.shape) # (178, 13) (178, 1)\n",
    "\n",
    "# y의 클래스 값 분류 + 불균형확인\n",
    "print(np.unique(y)) # [0 1 2]\n",
    "print(np.unique(y,return_counts=True)) # [0 1 2]\n"
   ]
  },
  {
   "cell_type": "code",
   "execution_count": 67,
   "metadata": {},
   "outputs": [
    {
     "name": "stdout",
     "output_type": "stream",
     "text": [
      "     0\n",
      "154  2\n",
      "57   0\n",
      "41   0\n",
      "2    0\n",
      "54   0\n",
      "x_train shape :  (142, 13)\n",
      "y_train shape :  (142, 1)\n",
      "to_cat_y_train shape :  (142, 3)\n"
     ]
    }
   ],
   "source": [
    "# print(x.info())\n",
    "# print(x.describe())\n",
    "# 데이터 분리\n",
    "from sklearn.preprocessing import MinMaxScaler\n",
    "\n",
    "x_train, x_test, y_train,y_test = train_test_split(x,y,\n",
    "                                                   train_size=0.8,\n",
    "                                                   shuffle = True,\n",
    "                                                #  stratify 는 데이터 불균형을 해결해줌\n",
    "                                                   stratify=y\n",
    "                                                #    random_state=21\n",
    "                                                   )\n",
    "# x_train 을 스케일링\n",
    "scaler = MinMaxScaler()\n",
    "scaler.fit(x_train)\n",
    "x_train_scaled = scaler.transform(x_train)\n",
    "# x_test 를 스케일링\n",
    "x_test = scaler.transform(x_test)\n",
    "\n",
    "\n",
    "print(y_train[:5])\n",
    "print(\"x_train shape : \",x_train.shape)\n",
    "print(\"y_train shape : \",y_train.shape)\n",
    "\n",
    "y_train = to_categorical(y_train)\n",
    "print(\"to_cat_y_train shape : \",y_train.shape)\n",
    "\n"
   ]
  },
  {
   "cell_type": "code",
   "execution_count": 68,
   "metadata": {},
   "outputs": [],
   "source": [
    "model = Sequential([\n",
    "    Dense(10,activation=\"relu\",input_shape=(13,)),\n",
    "    Dense(10,activation=\"relu\") ,\n",
    "    Dense(10,activation=\"relu\") ,\n",
    "    Dense(10,activation=\"relu\") ,\n",
    "    Dense(10,activation=\"relu\") ,\n",
    "    Dense(10,activation=\"relu\") ,\n",
    "    # 다중분류모델의 활성화 함수는 softmax 입니다\n",
    "    Dense(3,activation=\"softmax\")\n",
    "])"
   ]
  },
  {
   "cell_type": "code",
   "execution_count": 69,
   "metadata": {},
   "outputs": [
    {
     "name": "stdout",
     "output_type": "stream",
     "text": [
      "Epoch 1/100\n",
      "15/15 [==============================] - 1s 14ms/step - loss: 8.6994 - accuracy: 0.4248 - val_loss: 6.3312 - val_accuracy: 0.3103\n",
      "Epoch 2/100\n",
      "15/15 [==============================] - 0s 6ms/step - loss: 3.7560 - accuracy: 0.4248 - val_loss: 2.6926 - val_accuracy: 0.3103\n",
      "Epoch 3/100\n",
      "15/15 [==============================] - 0s 5ms/step - loss: 1.6663 - accuracy: 0.4248 - val_loss: 1.3991 - val_accuracy: 0.3103\n",
      "Epoch 4/100\n",
      "15/15 [==============================] - 0s 5ms/step - loss: 1.1458 - accuracy: 0.4248 - val_loss: 1.0627 - val_accuracy: 0.3793\n",
      "Epoch 5/100\n",
      "15/15 [==============================] - 0s 5ms/step - loss: 0.9887 - accuracy: 0.6283 - val_loss: 0.9670 - val_accuracy: 0.6552\n",
      "Epoch 6/100\n",
      "15/15 [==============================] - 0s 5ms/step - loss: 0.9315 - accuracy: 0.6283 - val_loss: 0.9177 - val_accuracy: 0.6552\n",
      "Epoch 7/100\n",
      "15/15 [==============================] - 0s 5ms/step - loss: 0.9449 - accuracy: 0.6549 - val_loss: 0.8992 - val_accuracy: 0.6207\n",
      "Epoch 8/100\n",
      "15/15 [==============================] - 0s 5ms/step - loss: 0.8619 - accuracy: 0.6372 - val_loss: 0.8174 - val_accuracy: 0.6552\n",
      "Epoch 9/100\n",
      "15/15 [==============================] - 0s 4ms/step - loss: 0.8023 - accuracy: 0.6637 - val_loss: 0.7942 - val_accuracy: 0.6552\n",
      "Epoch 10/100\n",
      "15/15 [==============================] - 0s 5ms/step - loss: 0.7713 - accuracy: 0.6726 - val_loss: 0.7258 - val_accuracy: 0.6552\n",
      "Epoch 11/100\n",
      "15/15 [==============================] - 0s 5ms/step - loss: 0.7333 - accuracy: 0.6637 - val_loss: 0.7144 - val_accuracy: 0.6552\n",
      "Epoch 12/100\n",
      "15/15 [==============================] - 0s 5ms/step - loss: 0.7026 - accuracy: 0.6460 - val_loss: 0.6473 - val_accuracy: 0.6207\n",
      "Epoch 13/100\n",
      "15/15 [==============================] - 0s 5ms/step - loss: 0.7270 - accuracy: 0.5841 - val_loss: 0.6955 - val_accuracy: 0.7241\n",
      "Epoch 14/100\n",
      "15/15 [==============================] - 0s 5ms/step - loss: 0.6884 - accuracy: 0.6195 - val_loss: 0.6193 - val_accuracy: 0.6897\n",
      "Epoch 15/100\n",
      "15/15 [==============================] - 0s 5ms/step - loss: 0.6536 - accuracy: 0.6460 - val_loss: 0.5840 - val_accuracy: 0.6552\n",
      "Epoch 16/100\n",
      "15/15 [==============================] - 0s 5ms/step - loss: 0.6640 - accuracy: 0.6549 - val_loss: 0.6309 - val_accuracy: 0.6897\n",
      "Epoch 17/100\n",
      "15/15 [==============================] - 0s 5ms/step - loss: 0.6814 - accuracy: 0.6372 - val_loss: 0.5604 - val_accuracy: 0.6552\n",
      "Epoch 18/100\n",
      "15/15 [==============================] - 0s 5ms/step - loss: 0.7188 - accuracy: 0.6018 - val_loss: 0.6790 - val_accuracy: 0.7241\n",
      "Epoch 19/100\n",
      "15/15 [==============================] - 0s 5ms/step - loss: 0.6470 - accuracy: 0.6814 - val_loss: 0.5898 - val_accuracy: 0.6897\n",
      "Epoch 20/100\n",
      "15/15 [==============================] - 0s 5ms/step - loss: 0.6528 - accuracy: 0.6283 - val_loss: 0.5518 - val_accuracy: 0.7241\n",
      "Epoch 21/100\n",
      "15/15 [==============================] - 0s 4ms/step - loss: 0.6310 - accuracy: 0.6549 - val_loss: 0.5584 - val_accuracy: 0.7586\n",
      "Epoch 22/100\n",
      "15/15 [==============================] - 0s 4ms/step - loss: 0.6446 - accuracy: 0.6549 - val_loss: 0.5461 - val_accuracy: 0.7241\n",
      "Epoch 23/100\n",
      "15/15 [==============================] - 0s 5ms/step - loss: 0.6125 - accuracy: 0.6814 - val_loss: 0.5410 - val_accuracy: 0.6897\n",
      "Epoch 24/100\n",
      "15/15 [==============================] - 0s 5ms/step - loss: 0.6110 - accuracy: 0.6814 - val_loss: 0.5403 - val_accuracy: 0.6897\n",
      "Epoch 25/100\n",
      "15/15 [==============================] - 0s 5ms/step - loss: 0.6139 - accuracy: 0.6549 - val_loss: 0.5644 - val_accuracy: 0.6552\n",
      "Epoch 26/100\n",
      "15/15 [==============================] - 0s 5ms/step - loss: 0.6410 - accuracy: 0.6460 - val_loss: 0.5825 - val_accuracy: 0.6552\n",
      "Epoch 27/100\n",
      "15/15 [==============================] - 0s 4ms/step - loss: 0.6470 - accuracy: 0.6283 - val_loss: 0.5852 - val_accuracy: 0.7241\n",
      "Epoch 28/100\n",
      "15/15 [==============================] - 0s 4ms/step - loss: 0.6701 - accuracy: 0.6106 - val_loss: 0.7170 - val_accuracy: 0.6552\n",
      "Epoch 29/100\n",
      "15/15 [==============================] - 0s 4ms/step - loss: 0.6633 - accuracy: 0.6018 - val_loss: 0.5997 - val_accuracy: 0.6897\n",
      "Epoch 30/100\n",
      "15/15 [==============================] - 0s 4ms/step - loss: 0.6123 - accuracy: 0.6549 - val_loss: 0.5363 - val_accuracy: 0.6897\n",
      "Epoch 31/100\n",
      "15/15 [==============================] - 0s 4ms/step - loss: 0.6250 - accuracy: 0.6637 - val_loss: 0.6800 - val_accuracy: 0.6897\n",
      "Epoch 32/100\n",
      "15/15 [==============================] - 0s 4ms/step - loss: 0.6603 - accuracy: 0.5929 - val_loss: 0.5478 - val_accuracy: 0.6897\n",
      "Epoch 00032: early stopping\n"
     ]
    }
   ],
   "source": [
    "# 이진분류는 마지막 활성함수는 sigmoid + loss 는 바이너리 크로스 엔트로피 \n",
    "from keras.callbacks import EarlyStopping\n",
    "\n",
    "early_stopping = EarlyStopping(\n",
    "monitor='val_loss',\n",
    "min_delta=0.01, patience=10, \n",
    "verbose=1, \n",
    "mode='min')\n",
    "\n",
    "# 훈련값이 int 형이기 때문에 sparse 를 사용합니다.\n",
    "model.compile(loss=\"categorical_crossentropy\"\n",
    "              ,optimizer=\"adam\"\n",
    "              ,metrics=[\"accuracy\"]\n",
    "              )\n",
    "\n",
    "hist = model.fit(x_train, y_train, epochs=100, batch_size=8, \n",
    "                 validation_split=0.2,\n",
    "                 callbacks = [early_stopping])\n",
    "\n",
    "# metrics 에 accuracy 사용가능\n"
   ]
  },
  {
   "cell_type": "code",
   "execution_count": 70,
   "metadata": {},
   "outputs": [
    {
     "name": "stdout",
     "output_type": "stream",
     "text": [
      "2/2 [==============================] - 0s 4ms/step - loss: 1.1054 - accuracy: 0.2778\n",
      "loss: 1.1054004430770874 \n",
      "acc : 0.2777777910232544\n"
     ]
    }
   ],
   "source": [
    "y_test = to_categorical(y_test)\n",
    "loss,accuracy = model.evaluate(x_test,y_test)\n",
    "\n",
    "print(\"loss:\",loss,\"\\nacc :\" ,accuracy)\n"
   ]
  },
  {
   "cell_type": "code",
   "execution_count": 71,
   "metadata": {},
   "outputs": [
    {
     "name": "stdout",
     "output_type": "stream",
     "text": [
      "[[0.3123032  0.34917244 0.33852437]\n",
      " [0.3112411  0.34604526 0.34271365]\n",
      " [0.30911326 0.34645534 0.3444314 ]\n",
      " [0.309876   0.34670246 0.34342155]\n",
      " [0.31193092 0.3472521  0.340817  ]]\n",
      "예측 :  [1 1 1 1 1 1 1 1 1 1 1 1 1 1 2]\n",
      "실제 :  [2 0 0 0 1 1 2 0 0 1 1 1 2 2 1]\n",
      "========================================\n",
      "acc :  0.2777777777777778\n"
     ]
    }
   ],
   "source": [
    "from sklearn.metrics import accuracy_score\n",
    "y_predict = model.predict(x_test)\n",
    "\n",
    "# predict 의 값은 총 3개가 나오는데 softmax 특성상 sum 의 값은 1이 됨\n",
    "print(y_predict[:5])\n",
    "\n",
    "# argmax 는 x 를 최대값으로 만들어주는 입력을 구하는함수\n",
    "y_predict = np.argmax(y_predict,axis=1)\n",
    "# y_predict = to_categorical(y_predict,3)\n",
    "print(\"예측 : \", y_predict[:15])\n",
    "# y_test 를 원핫 인코딩 해제 해야함\n",
    "y_test = np.argmax(y_test,axis=1)\n",
    "print(\"실제 : \", y_test[:15])\n",
    "\n",
    "print\n",
    "print(\"========================================\")\n",
    "acc = accuracy_score(y_test,y_predict)\n",
    "print(\"acc : \",acc)"
   ]
  }
 ],
 "metadata": {
  "kernelspec": {
   "display_name": "tf274gpu",
   "language": "python",
   "name": "python3"
  },
  "language_info": {
   "codemirror_mode": {
    "name": "ipython",
    "version": 3
   },
   "file_extension": ".py",
   "mimetype": "text/x-python",
   "name": "python",
   "nbconvert_exporter": "python",
   "pygments_lexer": "ipython3",
   "version": "3.9.15 (main, Nov 24 2022, 14:39:17) [MSC v.1916 64 bit (AMD64)]"
  },
  "orig_nbformat": 4,
  "vscode": {
   "interpreter": {
    "hash": "10848e9bd3f5e7d93542d388001135334854454e7336dcf54c4ef52885ee0fb0"
   }
  }
 },
 "nbformat": 4,
 "nbformat_minor": 2
}
