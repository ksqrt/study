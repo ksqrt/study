{
 "cells": [
  {
   "cell_type": "code",
   "execution_count": 64,
   "metadata": {},
   "outputs": [
    {
     "name": "stderr",
     "output_type": "stream",
     "text": [
      "c:\\Users\\bitcamp\\anaconda3\\envs\\tf274gpu\\lib\\site-packages\\sklearn\\utils\\deprecation.py:87: FutureWarning: Function load_boston is deprecated; `load_boston` is deprecated in 1.0 and will be removed in 1.2.\n",
      "\n",
      "    The Boston housing prices dataset has an ethical problem. You can refer to\n",
      "    the documentation of this function for further details.\n",
      "\n",
      "    The scikit-learn maintainers therefore strongly discourage the use of this\n",
      "    dataset unless the purpose of the code is to study and educate about\n",
      "    ethical issues in data science and machine learning.\n",
      "\n",
      "    In this special case, you can fetch the dataset from the original\n",
      "    source::\n",
      "\n",
      "        import pandas as pd\n",
      "        import numpy as np\n",
      "\n",
      "        data_url = \"http://lib.stat.cmu.edu/datasets/boston\"\n",
      "        raw_df = pd.read_csv(data_url, sep=\"\\s+\", skiprows=22, header=None)\n",
      "        data = np.hstack([raw_df.values[::2, :], raw_df.values[1::2, :2]])\n",
      "        target = raw_df.values[1::2, 2]\n",
      "\n",
      "    Alternative datasets include the California housing dataset (i.e.\n",
      "    :func:`~sklearn.datasets.fetch_california_housing`) and the Ames housing\n",
      "    dataset. You can load the datasets as follows::\n",
      "\n",
      "        from sklearn.datasets import fetch_california_housing\n",
      "        housing = fetch_california_housing()\n",
      "\n",
      "    for the California housing dataset and::\n",
      "\n",
      "        from sklearn.datasets import fetch_openml\n",
      "        housing = fetch_openml(name=\"house_prices\", as_frame=True)\n",
      "\n",
      "    for the Ames housing dataset.\n",
      "  warnings.warn(msg, category=FutureWarning)\n"
     ]
    }
   ],
   "source": [
    "from sklearn.datasets import load_boston\n",
    "import numpy as np\n",
    "import pandas as pd\n",
    "import tensorflow as tf\n",
    "from tensorflow.keras.models import Sequential,Model\n",
    "from tensorflow.keras.layers import Dense\n",
    "from sklearn.model_selection import train_test_split\n",
    "from sklearn.preprocessing import MinMaxScaler,StandardScaler\n",
    "import sklearn as sk\n",
    "dataset = load_boston()"
   ]
  },
  {
   "cell_type": "code",
   "execution_count": 65,
   "metadata": {},
   "outputs": [],
   "source": [
    "x = dataset.data\n",
    "y = dataset.target\n",
    "x= pd.DataFrame(x)\n",
    "# print(\"x 최솟값 : \",np.min(x))\n",
    "# print(\"x 최댓값 : \",np.max(x))"
   ]
  },
  {
   "cell_type": "code",
   "execution_count": 66,
   "metadata": {},
   "outputs": [
    {
     "name": "stdout",
     "output_type": "stream",
     "text": [
      "x 최솟값 :  -3.9071933049810337\n",
      "x 최댓값 :  9.933930601860268\n"
     ]
    }
   ],
   "source": [
    "# 스케일링 하기\n",
    "scaler = StandardScaler()\n",
    "# 가중치 생성후\n",
    "scaler.fit(x)\n",
    "# 변환\n",
    "x = scaler.transform(x)\n",
    "print(\"x 최솟값 : \",np.min(x))\n",
    "print(\"x 최댓값 : \",np.max(x))"
   ]
  },
  {
   "cell_type": "code",
   "execution_count": 67,
   "metadata": {},
   "outputs": [
    {
     "name": "stdout",
     "output_type": "stream",
     "text": [
      "354\n",
      "152\n"
     ]
    }
   ],
   "source": [
    "# 3. 모델구성\n",
    "# 실습 train 0.7 이상\n",
    "# 평가지표 R2 : 0.8 이상으로 뽑아내보기 / RMSE 사용\n",
    "\n",
    "x_train, x_test,y_train,y_test = train_test_split(x,y,\n",
    "    train_size=0.7,\n",
    "    shuffle = True,\n",
    "    random_state= 123\n",
    ")\n",
    "\n",
    "print(len(x_train))\n",
    "print(len(x_test))"
   ]
  },
  {
   "cell_type": "code",
   "execution_count": 68,
   "metadata": {},
   "outputs": [
    {
     "name": "stdout",
     "output_type": "stream",
     "text": [
      "(506, 13)\n",
      "(506,)\n"
     ]
    }
   ],
   "source": [
    "# 13개의 칼럼 을 가지고있는 데이터를 조회합니다\n",
    "print(x.shape) #(506,13)\n",
    "# print(x)\n",
    "print(y.shape) #(506,)\n",
    "# print(y)\n"
   ]
  },
  {
   "cell_type": "code",
   "execution_count": 69,
   "metadata": {},
   "outputs": [
    {
     "name": "stdout",
     "output_type": "stream",
     "text": [
      "['CRIM' 'ZN' 'INDUS' 'CHAS' 'NOX' 'RM' 'AGE' 'DIS' 'RAD' 'TAX' 'PTRATIO'\n",
      " 'B' 'LSTAT']\n",
      "13\n"
     ]
    }
   ],
   "source": [
    "# 사이킥 런의 칼럼 조회기능\n",
    "print(dataset.feature_names)\n",
    "print(len(dataset.feature_names))\n"
   ]
  },
  {
   "cell_type": "code",
   "execution_count": 70,
   "metadata": {},
   "outputs": [],
   "source": [
    "# 사이킥런의 데이터 요약\n",
    "# print(dataset.DESCR)"
   ]
  },
  {
   "cell_type": "code",
   "execution_count": 71,
   "metadata": {},
   "outputs": [
    {
     "name": "stdout",
     "output_type": "stream",
     "text": [
      "354\n",
      "152\n"
     ]
    }
   ],
   "source": [
    "# 3. 모델구성\n",
    "# 실습 train 0.7 이상\n",
    "# 평가지표 R2 : 0.8 이상으로 뽑아내보기 / RMSE 사용\n",
    "\n",
    "x_train, x_test,y_train,y_test = train_test_split(x,y,\n",
    "    train_size=0.7,\n",
    "    shuffle = True,\n",
    "    random_state= 123\n",
    ")\n",
    "\n",
    "scaler = MinMaxScaler()\n",
    "# 가중치 생성후\n",
    "scaler.fit(x_train)\n",
    "# x_train 의 가중치 변환\n",
    "x_train = scaler.transform(x_train)\n",
    "# x_test 는 변환만 !\n",
    "x_test = scaler.transform(x_test)\n",
    "\n",
    "print(len(x_train))\n",
    "print(len(x_test))"
   ]
  },
  {
   "cell_type": "code",
   "execution_count": 72,
   "metadata": {},
   "outputs": [
    {
     "name": "stdout",
     "output_type": "stream",
     "text": [
      "Model: \"model_4\"\n",
      "_________________________________________________________________\n",
      " Layer (type)                Output Shape              Param #   \n",
      "=================================================================\n",
      " input_5 (InputLayer)        [(None, 13)]              0         \n",
      "                                                                 \n",
      " dense_54 (Dense)            (None, 50)                700       \n",
      "                                                                 \n",
      " dense_55 (Dense)            (None, 50)                2550      \n",
      "                                                                 \n",
      " dense_56 (Dense)            (None, 50)                2550      \n",
      "                                                                 \n",
      " dense_57 (Dense)            (None, 50)                2550      \n",
      "                                                                 \n",
      " dense_58 (Dense)            (None, 50)                2550      \n",
      "                                                                 \n",
      " dense_59 (Dense)            (None, 1)                 51        \n",
      "                                                                 \n",
      "=================================================================\n",
      "Total params: 10,951\n",
      "Trainable params: 10,951\n",
      "Non-trainable params: 0\n",
      "_________________________________________________________________\n"
     ]
    }
   ],
   "source": [
    "from tensorflow.keras.models import Sequential,Model\n",
    "from tensorflow.keras.layers import Dense,Input\n",
    "\n",
    "\n",
    "# 2. 모델구성 순차형\n",
    "model = Sequential([\n",
    "    Dense(50,input_dim=13,activation=\"relu\"),\n",
    "    Dense(50,activation=\"relu\"),\n",
    "    Dense(50,activation=\"relu\"),\n",
    "    Dense(50,activation=\"relu\"),\n",
    "    Dense(50,activation=\"relu\"),\n",
    "    Dense(1)\n",
    "])\n",
    "\n",
    "\n",
    "# 3. 모델구성 함수형\n",
    "input1 = Input(shape=(13,))\n",
    "dense1 = Dense(32,activation=\"relu\")(input1)\n",
    "dense2 = Dense(64,activation=\"relu\")(dense1)\n",
    "dense3 = Dense(128,activation=\"relu\")(dense2)\n",
    "dense4 = Dense(64,activation=\"relu\")(dense3)\n",
    "dense5 = Dense(32,activation=\"relu\")(dense4)\n",
    "output1 = Dense(1,activation=\"relu\")(dense5)\n",
    "\n",
    "model=Model(inputs=input1,outputs=output1)\n",
    "\n",
    "model.summary()"
   ]
  },
  {
   "cell_type": "code",
   "execution_count": 73,
   "metadata": {},
   "outputs": [
    {
     "name": "stdout",
     "output_type": "stream",
     "text": [
      "Epoch 1/100\n",
      "92/95 [============================>.] - ETA: 0s - loss: 290.7571\n",
      "Epoch 00001: val_loss improved from inf to 65.25366, saving model to ../_save/MCP\\keras30_ModelCheckPoint1.hdf5\n",
      "95/95 [==============================] - 1s 6ms/step - loss: 284.3380 - val_loss: 65.2537\n",
      "Epoch 2/100\n",
      "81/95 [========================>.....] - ETA: 0s - loss: 69.0304\n",
      "Epoch 00002: val_loss improved from 65.25366 to 37.95823, saving model to ../_save/MCP\\keras30_ModelCheckPoint1.hdf5\n",
      "95/95 [==============================] - 0s 4ms/step - loss: 64.7314 - val_loss: 37.9582\n",
      "Epoch 3/100\n",
      "77/95 [=======================>......] - ETA: 0s - loss: 46.3811\n",
      "Epoch 00003: val_loss improved from 37.95823 to 29.37921, saving model to ../_save/MCP\\keras30_ModelCheckPoint1.hdf5\n",
      "95/95 [==============================] - 0s 4ms/step - loss: 48.1732 - val_loss: 29.3792\n",
      "Epoch 4/100\n",
      "95/95 [==============================] - ETA: 0s - loss: 32.9985\n",
      "Epoch 00004: val_loss improved from 29.37921 to 21.74593, saving model to ../_save/MCP\\keras30_ModelCheckPoint1.hdf5\n",
      "95/95 [==============================] - 0s 4ms/step - loss: 32.9985 - val_loss: 21.7459\n",
      "Epoch 5/100\n",
      "93/95 [============================>.] - ETA: 0s - loss: 24.3024\n",
      "Epoch 00005: val_loss improved from 21.74593 to 21.61348, saving model to ../_save/MCP\\keras30_ModelCheckPoint1.hdf5\n",
      "95/95 [==============================] - 0s 4ms/step - loss: 24.1026 - val_loss: 21.6135\n",
      "Epoch 6/100\n",
      "93/95 [============================>.] - ETA: 0s - loss: 22.1638\n",
      "Epoch 00006: val_loss improved from 21.61348 to 16.10020, saving model to ../_save/MCP\\keras30_ModelCheckPoint1.hdf5\n",
      "95/95 [==============================] - 0s 4ms/step - loss: 22.1650 - val_loss: 16.1002\n",
      "Epoch 7/100\n",
      "94/95 [============================>.] - ETA: 0s - loss: 20.6356\n",
      "Epoch 00007: val_loss improved from 16.10020 to 15.60369, saving model to ../_save/MCP\\keras30_ModelCheckPoint1.hdf5\n",
      "95/95 [==============================] - 0s 4ms/step - loss: 20.5642 - val_loss: 15.6037\n",
      "Epoch 8/100\n",
      "78/95 [=======================>......] - ETA: 0s - loss: 20.4998\n",
      "Epoch 00008: val_loss improved from 15.60369 to 14.28054, saving model to ../_save/MCP\\keras30_ModelCheckPoint1.hdf5\n",
      "95/95 [==============================] - 0s 4ms/step - loss: 18.7508 - val_loss: 14.2805\n",
      "Epoch 9/100\n",
      "81/95 [========================>.....] - ETA: 0s - loss: 16.9385\n",
      "Epoch 00009: val_loss did not improve from 14.28054\n",
      "95/95 [==============================] - 0s 3ms/step - loss: 19.1086 - val_loss: 14.6173\n",
      "Epoch 10/100\n",
      "76/95 [=======================>......] - ETA: 0s - loss: 19.0880\n",
      "Epoch 00010: val_loss did not improve from 14.28054\n",
      "95/95 [==============================] - 0s 3ms/step - loss: 19.4659 - val_loss: 22.9660\n",
      "Epoch 11/100\n",
      "83/95 [=========================>....] - ETA: 0s - loss: 17.4961\n",
      "Epoch 00011: val_loss improved from 14.28054 to 13.29741, saving model to ../_save/MCP\\keras30_ModelCheckPoint1.hdf5\n",
      "95/95 [==============================] - 0s 3ms/step - loss: 16.3038 - val_loss: 13.2974\n",
      "Epoch 12/100\n",
      "79/95 [=======================>......] - ETA: 0s - loss: 16.1603\n",
      "Epoch 00012: val_loss improved from 13.29741 to 12.88486, saving model to ../_save/MCP\\keras30_ModelCheckPoint1.hdf5\n",
      "95/95 [==============================] - 0s 4ms/step - loss: 14.7666 - val_loss: 12.8849\n",
      "Epoch 13/100\n",
      "79/95 [=======================>......] - ETA: 0s - loss: 16.4315\n",
      "Epoch 00013: val_loss did not improve from 12.88486\n",
      "95/95 [==============================] - 0s 3ms/step - loss: 15.6269 - val_loss: 12.9040\n",
      "Epoch 14/100\n",
      "85/95 [=========================>....] - ETA: 0s - loss: 14.5212\n",
      "Epoch 00014: val_loss did not improve from 12.88486\n",
      "95/95 [==============================] - 0s 3ms/step - loss: 14.0424 - val_loss: 13.0127\n",
      "Epoch 15/100\n",
      "82/95 [========================>.....] - ETA: 0s - loss: 12.4605\n",
      "Epoch 00015: val_loss did not improve from 12.88486\n",
      "95/95 [==============================] - 0s 3ms/step - loss: 13.1674 - val_loss: 15.8648\n",
      "Epoch 16/100\n",
      "81/95 [========================>.....] - ETA: 0s - loss: 14.8748\n",
      "Epoch 00016: val_loss improved from 12.88486 to 11.67203, saving model to ../_save/MCP\\keras30_ModelCheckPoint1.hdf5\n",
      "95/95 [==============================] - 0s 4ms/step - loss: 13.6421 - val_loss: 11.6720\n",
      "Epoch 17/100\n",
      "95/95 [==============================] - ETA: 0s - loss: 14.1876\n",
      "Epoch 00017: val_loss improved from 11.67203 to 11.63520, saving model to ../_save/MCP\\keras30_ModelCheckPoint1.hdf5\n",
      "95/95 [==============================] - 0s 4ms/step - loss: 14.1876 - val_loss: 11.6352\n",
      "Epoch 18/100\n",
      "81/95 [========================>.....] - ETA: 0s - loss: 11.8538\n",
      "Epoch 00018: val_loss did not improve from 11.63520\n",
      "95/95 [==============================] - 0s 3ms/step - loss: 12.7797 - val_loss: 13.3704\n",
      "Epoch 19/100\n",
      "79/95 [=======================>......] - ETA: 0s - loss: 16.6925\n",
      "Epoch 00019: val_loss did not improve from 11.63520\n",
      "95/95 [==============================] - 0s 3ms/step - loss: 15.0443 - val_loss: 14.6551\n",
      "Epoch 20/100\n",
      "82/95 [========================>.....] - ETA: 0s - loss: 11.3790\n",
      "Epoch 00020: val_loss did not improve from 11.63520\n",
      "95/95 [==============================] - 0s 3ms/step - loss: 12.6198 - val_loss: 12.0719\n",
      "Epoch 21/100\n",
      "77/95 [=======================>......] - ETA: 0s - loss: 14.1281\n",
      "Epoch 00021: val_loss improved from 11.63520 to 11.10598, saving model to ../_save/MCP\\keras30_ModelCheckPoint1.hdf5\n",
      "95/95 [==============================] - 0s 3ms/step - loss: 12.5986 - val_loss: 11.1060\n",
      "Epoch 22/100\n",
      "86/95 [==========================>...] - ETA: 0s - loss: 10.0259\n",
      "Epoch 00022: val_loss did not improve from 11.10598\n",
      "95/95 [==============================] - 0s 3ms/step - loss: 11.2688 - val_loss: 12.6227\n",
      "Epoch 23/100\n",
      "81/95 [========================>.....] - ETA: 0s - loss: 11.3283\n",
      "Epoch 00023: val_loss did not improve from 11.10598\n",
      "95/95 [==============================] - 0s 3ms/step - loss: 12.2574 - val_loss: 16.3385\n",
      "Epoch 24/100\n",
      "80/95 [========================>.....] - ETA: 0s - loss: 8.8450\n",
      "Epoch 00024: val_loss did not improve from 11.10598\n",
      "95/95 [==============================] - 0s 3ms/step - loss: 10.8952 - val_loss: 12.3131\n",
      "Epoch 25/100\n",
      "83/95 [=========================>....] - ETA: 0s - loss: 10.7143\n",
      "Epoch 00025: val_loss did not improve from 11.10598\n",
      "95/95 [==============================] - 0s 3ms/step - loss: 11.3255 - val_loss: 12.0648\n",
      "Epoch 26/100\n",
      "93/95 [============================>.] - ETA: 0s - loss: 11.4205\n",
      "Epoch 00026: val_loss improved from 11.10598 to 10.73162, saving model to ../_save/MCP\\keras30_ModelCheckPoint1.hdf5\n",
      "95/95 [==============================] - 0s 4ms/step - loss: 11.4109 - val_loss: 10.7316\n",
      "Epoch 27/100\n",
      "94/95 [============================>.] - ETA: 0s - loss: 10.4468\n",
      "Epoch 00027: val_loss did not improve from 10.73162\n",
      "95/95 [==============================] - 0s 3ms/step - loss: 10.4099 - val_loss: 15.7462\n",
      "Epoch 28/100\n",
      "79/95 [=======================>......] - ETA: 0s - loss: 12.2200\n",
      "Epoch 00028: val_loss did not improve from 10.73162\n",
      "95/95 [==============================] - 0s 3ms/step - loss: 12.5424 - val_loss: 13.4009\n",
      "Epoch 29/100\n",
      "78/95 [=======================>......] - ETA: 0s - loss: 8.8982\n",
      "Epoch 00029: val_loss did not improve from 10.73162\n",
      "95/95 [==============================] - 0s 3ms/step - loss: 10.6540 - val_loss: 18.5888\n",
      "Epoch 30/100\n",
      "78/95 [=======================>......] - ETA: 0s - loss: 10.7141\n",
      "Epoch 00030: val_loss did not improve from 10.73162\n",
      "95/95 [==============================] - 0s 3ms/step - loss: 12.2047 - val_loss: 11.9443\n",
      "Epoch 31/100\n",
      "82/95 [========================>.....] - ETA: 0s - loss: 11.6177\n",
      "Epoch 00031: val_loss improved from 10.73162 to 10.43354, saving model to ../_save/MCP\\keras30_ModelCheckPoint1.hdf5\n",
      "95/95 [==============================] - 0s 3ms/step - loss: 11.1069 - val_loss: 10.4335\n",
      "Epoch 32/100\n",
      "95/95 [==============================] - ETA: 0s - loss: 11.7414\n",
      "Epoch 00032: val_loss did not improve from 10.43354\n",
      "95/95 [==============================] - 0s 3ms/step - loss: 11.7414 - val_loss: 20.5908\n",
      "Epoch 33/100\n",
      "89/95 [===========================>..] - ETA: 0s - loss: 11.0124\n",
      "Epoch 00033: val_loss did not improve from 10.43354\n",
      "95/95 [==============================] - 0s 3ms/step - loss: 10.5935 - val_loss: 10.8500\n",
      "Epoch 34/100\n",
      "77/95 [=======================>......] - ETA: 0s - loss: 10.1862\n",
      "Epoch 00034: val_loss did not improve from 10.43354\n",
      "95/95 [==============================] - 0s 3ms/step - loss: 9.7899 - val_loss: 11.9598\n",
      "Epoch 35/100\n",
      "78/95 [=======================>......] - ETA: 0s - loss: 9.9036 \n",
      "Epoch 00035: val_loss did not improve from 10.43354\n",
      "95/95 [==============================] - 0s 3ms/step - loss: 9.1993 - val_loss: 10.4420\n",
      "Epoch 36/100\n",
      "79/95 [=======================>......] - ETA: 0s - loss: 11.3690\n",
      "Epoch 00036: val_loss did not improve from 10.43354\n",
      "95/95 [==============================] - 0s 3ms/step - loss: 10.6930 - val_loss: 11.9424\n",
      "Epoch 37/100\n",
      "83/95 [=========================>....] - ETA: 0s - loss: 9.9448 \n",
      "Epoch 00037: val_loss improved from 10.43354 to 10.28547, saving model to ../_save/MCP\\keras30_ModelCheckPoint1.hdf5\n",
      "95/95 [==============================] - 0s 3ms/step - loss: 9.8268 - val_loss: 10.2855\n",
      "Epoch 38/100\n",
      "81/95 [========================>.....] - ETA: 0s - loss: 9.3057\n",
      "Epoch 00038: val_loss did not improve from 10.28547\n",
      "95/95 [==============================] - 0s 3ms/step - loss: 8.8188 - val_loss: 10.3383\n",
      "Epoch 39/100\n",
      "83/95 [=========================>....] - ETA: 0s - loss: 9.9353\n",
      "Epoch 00039: val_loss did not improve from 10.28547\n",
      "95/95 [==============================] - 0s 3ms/step - loss: 9.2211 - val_loss: 10.8363\n",
      "Epoch 40/100\n",
      "79/95 [=======================>......] - ETA: 0s - loss: 9.0742\n",
      "Epoch 00040: val_loss did not improve from 10.28547\n",
      "95/95 [==============================] - 0s 3ms/step - loss: 9.1641 - val_loss: 16.5574\n",
      "Epoch 41/100\n",
      "84/95 [=========================>....] - ETA: 0s - loss: 11.3192\n",
      "Epoch 00041: val_loss did not improve from 10.28547\n",
      "95/95 [==============================] - 0s 3ms/step - loss: 11.0758 - val_loss: 11.0538\n",
      "Epoch 42/100\n",
      "79/95 [=======================>......] - ETA: 0s - loss: 10.9319\n",
      "Epoch 00042: val_loss did not improve from 10.28547\n",
      "95/95 [==============================] - 0s 3ms/step - loss: 10.3411 - val_loss: 11.5005\n",
      "Epoch 43/100\n",
      "82/95 [========================>.....] - ETA: 0s - loss: 8.9493\n",
      "Epoch 00043: val_loss did not improve from 10.28547\n",
      "95/95 [==============================] - 0s 3ms/step - loss: 9.2202 - val_loss: 12.1156\n",
      "Epoch 44/100\n",
      "83/95 [=========================>....] - ETA: 0s - loss: 8.9239\n",
      "Epoch 00044: val_loss did not improve from 10.28547\n",
      "95/95 [==============================] - 0s 3ms/step - loss: 8.8597 - val_loss: 11.6829\n",
      "Epoch 45/100\n",
      "79/95 [=======================>......] - ETA: 0s - loss: 10.3393\n",
      "Epoch 00045: val_loss did not improve from 10.28547\n",
      "95/95 [==============================] - 0s 3ms/step - loss: 10.4474 - val_loss: 11.9664\n",
      "Epoch 46/100\n",
      "95/95 [==============================] - ETA: 0s - loss: 8.1348\n",
      "Epoch 00046: val_loss did not improve from 10.28547\n",
      "95/95 [==============================] - 0s 3ms/step - loss: 8.1348 - val_loss: 12.0277\n",
      "Epoch 47/100\n",
      "79/95 [=======================>......] - ETA: 0s - loss: 9.4810Restoring model weights from the end of the best epoch: 37.\n",
      "\n",
      "Epoch 00047: val_loss did not improve from 10.28547\n",
      "95/95 [==============================] - 0s 3ms/step - loss: 9.6238 - val_loss: 10.6764\n",
      "Epoch 00047: early stopping\n"
     ]
    }
   ],
   "source": [
    "from tensorflow.keras.callbacks import EarlyStopping,ModelCheckpoint\n",
    "\n",
    "path = \"../_save/\"\n",
    "\n",
    "earlyStopping = EarlyStopping(monitor=\"val_loss\",\n",
    "                              mode=\"min\",patience =10,\n",
    "                              restore_best_weights=True,\n",
    "                              verbose=1                              \n",
    "                              )\n",
    "# 모델체크포인트는 가장 낮은 val_loss 가 갱신 될 떄 마다 저장합니다.\n",
    "\n",
    "mcp = ModelCheckpoint(\n",
    "    monitor=\"val_loss\",\n",
    "    mode=\"auto\",\n",
    "    save_best_only=True,\n",
    "    filepath= path+\"MCP/keras30_ModelCheckPoint1.hdf5\",\n",
    "    verbose=1 \n",
    ")\n",
    "                    \n",
    "    \n",
    "model.compile(loss=\"mse\",optimizer=\"adam\")\n",
    "\n",
    "# model.fit 이 반환한 기록을 저장\n",
    "hist = model.fit(\n",
    "                x_train,\n",
    "                y_train,\n",
    "                epochs=100,\n",
    "                batch_size=3,\n",
    "                validation_split=0.2,\n",
    "                verbose=1,\n",
    "                callbacks = [earlyStopping,mcp],\n",
    "                \n",
    "                )\n"
   ]
  },
  {
   "cell_type": "code",
   "execution_count": 74,
   "metadata": {},
   "outputs": [
    {
     "data": {
      "image/png": "[encoded data removed]",
      "text/plain": [
       "<Figure size 640x480 with 1 Axes>"
      ]
     },
     "metadata": {},
     "output_type": "display_data"
    }
   ],
   "source": [
    "import matplotlib.pylab as plt\n",
    "\n",
    "plt.plot(hist.history['loss'])\n",
    "plt.plot(hist.history['val_loss'])\n",
    "plt.title('Model Accuracy')\n",
    "plt.ylabel('Accuracy')\n",
    "plt.xlabel('Epoch')\n",
    "plt.legend(['train', 'test'], loc='upper left')\n",
    "plt.show()"
   ]
  },
  {
   "cell_type": "code",
   "execution_count": 75,
   "metadata": {},
   "outputs": [],
   "source": [
    "# 모델저장\n",
    "\n",
    "path = \"../_save/\"\n",
    "\n",
    "# model.save_weights(path+\"save_weight2.h5\")"
   ]
  },
  {
   "cell_type": "code",
   "execution_count": 76,
   "metadata": {},
   "outputs": [],
   "source": [
    "# 모델불러오기\n",
    "from tensorflow.keras.models import load_model\n",
    "\n",
    "path = \"../_save/\"\n",
    "\n",
    "# 가중치 불러오기는 모델이 저장 되어 있어야 가능함\n",
    "model.load_weights(path+\"save_weight2.h5\")"
   ]
  },
  {
   "cell_type": "code",
   "execution_count": 77,
   "metadata": {},
   "outputs": [
    {
     "name": "stdout",
     "output_type": "stream",
     "text": [
      "Model: \"model_4\"\n",
      "_________________________________________________________________\n",
      " Layer (type)                Output Shape              Param #   \n",
      "=================================================================\n",
      " input_5 (InputLayer)        [(None, 13)]              0         \n",
      "                                                                 \n",
      " dense_54 (Dense)            (None, 50)                700       \n",
      "                                                                 \n",
      " dense_55 (Dense)            (None, 50)                2550      \n",
      "                                                                 \n",
      " dense_56 (Dense)            (None, 50)                2550      \n",
      "                                                                 \n",
      " dense_57 (Dense)            (None, 50)                2550      \n",
      "                                                                 \n",
      " dense_58 (Dense)            (None, 50)                2550      \n",
      "                                                                 \n",
      " dense_59 (Dense)            (None, 1)                 51        \n",
      "                                                                 \n",
      "=================================================================\n",
      "Total params: 10,951\n",
      "Trainable params: 10,951\n",
      "Non-trainable params: 0\n",
      "_________________________________________________________________\n"
     ]
    }
   ],
   "source": [
    "model.summary()"
   ]
  },
  {
   "cell_type": "code",
   "execution_count": 80,
   "metadata": {},
   "outputs": [
    {
     "name": "stdout",
     "output_type": "stream",
     "text": [
      "5/5 [==============================] - 0s 1ms/step - loss: 52.1390\n",
      "loss :  52.1390266418457\n"
     ]
    }
   ],
   "source": [
    "# 평가 예측\n",
    "loss = model.evaluate(x_test,y_test)\n",
    "\n",
    "\n",
    "print(\"loss : \",loss)"
   ]
  }
 ],
 "metadata": {
  "kernelspec": {
   "display_name": "tf274gpu",
   "language": "python",
   "name": "python3"
  },
  "language_info": {
   "codemirror_mode": {
    "name": "ipython",
    "version": 3
   },
   "file_extension": ".py",
   "mimetype": "text/x-python",
   "name": "python",
   "nbconvert_exporter": "python",
   "pygments_lexer": "ipython3",
   "version": "3.9.15"
  },
  "orig_nbformat": 4,
  "vscode": {
   "interpreter": {
    "hash": "10848e9bd3f5e7d93542d388001135334854454e7336dcf54c4ef52885ee0fb0"
   }
  }
 },
 "nbformat": 4,
 "nbformat_minor": 2
}
