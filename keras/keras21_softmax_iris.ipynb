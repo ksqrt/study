{
 "cells": [
  {
   "cell_type": "code",
   "execution_count": 209,
   "metadata": {},
   "outputs": [],
   "source": [
    "from sklearn.datasets import load_iris\n",
    "import numpy as np\n",
    "import pandas as pd\n",
    "from tensorflow.keras.models import Sequential\n",
    "from tensorflow.keras.layers import Dense,Dropout\n",
    "from sklearn.model_selection import train_test_split\n",
    "from sklearn.metrics import mean_squared_error, r2_score\n",
    "# 1. 데이터 \n",
    "datasets = (load_iris())\n",
    "\n",
    "x = pd.DataFrame(datasets[\"data\"])\n",
    "y = pd.DataFrame(datasets[\"target\"])"
   ]
  },
  {
   "cell_type": "code",
   "execution_count": 210,
   "metadata": {},
   "outputs": [
    {
     "name": "stdout",
     "output_type": "stream",
     "text": [
      "       0    1    2    3\n",
      "0    5.1  3.5  1.4  0.2\n",
      "1    4.9  3.0  1.4  0.2\n",
      "2    4.7  3.2  1.3  0.2\n",
      "3    4.6  3.1  1.5  0.2\n",
      "4    5.0  3.6  1.4  0.2\n",
      "..   ...  ...  ...  ...\n",
      "145  6.7  3.0  5.2  2.3\n",
      "146  6.3  2.5  5.0  1.9\n",
      "147  6.5  3.0  5.2  2.0\n",
      "148  6.2  3.4  5.4  2.3\n",
      "149  5.9  3.0  5.1  1.8\n",
      "\n",
      "[150 rows x 4 columns]\n",
      "     0\n",
      "0    0\n",
      "1    0\n",
      "2    0\n",
      "3    0\n",
      "4    0\n",
      "..  ..\n",
      "145  2\n",
      "146  2\n",
      "147  2\n",
      "148  2\n",
      "149  2\n",
      "\n",
      "[150 rows x 1 columns]\n"
     ]
    }
   ],
   "source": [
    "# print(datasets.colums) \n",
    "print(x)    \n",
    "print(y)\n",
    "# print(x.describe)"
   ]
  },
  {
   "cell_type": "code",
   "execution_count": 211,
   "metadata": {},
   "outputs": [],
   "source": [
    "# print(x.info())\n",
    "# print(x.describe())\n",
    "# 데이터 분리\n",
    "x_train, x_test, y_train,y_test = train_test_split(x,y,\n",
    "                                                   train_size=0.8,\n",
    "                                                   shuffle = True,\n",
    "                                                #  stratify 는 데이터 불균형을 해결해줌\n",
    "                                                   stratify=y\n",
    "                                                #    random_state=21\n",
    "                                                   )\n",
    "\n",
    "\n",
    "# print(x.columns)\n",
    "\n",
    "# print(y_test)"
   ]
  },
  {
   "cell_type": "code",
   "execution_count": 212,
   "metadata": {},
   "outputs": [],
   "source": [
    "model = Sequential([\n",
    "    Dense(50,activation=\"relu\",input_shape=(4,)),\n",
    "    Dense(40,activation=\"relu\") ,\n",
    "    Dense(40,activation=\"relu\") ,\n",
    "    Dense(30,activation=\"relu\") ,\n",
    "    Dense(30,activation=\"relu\") ,\n",
    "    Dense(20,activation=\"relu\") ,\n",
    "    # 다중분류모델의 활성화 함수는 softmax 입니다\n",
    "    Dense(3,activation=\"softmax\")\n",
    "])"
   ]
  },
  {
   "cell_type": "code",
   "execution_count": 213,
   "metadata": {},
   "outputs": [
    {
     "name": "stdout",
     "output_type": "stream",
     "text": [
      "Epoch 1/100\n",
      "3/3 [==============================] - 0s 63ms/step - loss: 1.0955 - accuracy: 0.3438 - val_loss: 1.0844 - val_accuracy: 0.2917\n",
      "Epoch 2/100\n",
      "3/3 [==============================] - 0s 13ms/step - loss: 1.0697 - accuracy: 0.3646 - val_loss: 1.0722 - val_accuracy: 0.3333\n",
      "Epoch 3/100\n",
      "3/3 [==============================] - 0s 13ms/step - loss: 1.0551 - accuracy: 0.5208 - val_loss: 1.0581 - val_accuracy: 0.5833\n",
      "Epoch 4/100\n",
      "3/3 [==============================] - 0s 14ms/step - loss: 1.0371 - accuracy: 0.6667 - val_loss: 1.0412 - val_accuracy: 0.5833\n",
      "Epoch 5/100\n",
      "3/3 [==============================] - 0s 13ms/step - loss: 1.0155 - accuracy: 0.6771 - val_loss: 1.0183 - val_accuracy: 0.6250\n",
      "Epoch 6/100\n",
      "3/3 [==============================] - 0s 13ms/step - loss: 0.9866 - accuracy: 0.6667 - val_loss: 0.9877 - val_accuracy: 0.5417\n",
      "Epoch 7/100\n",
      "3/3 [==============================] - 0s 14ms/step - loss: 0.9471 - accuracy: 0.6458 - val_loss: 0.9507 - val_accuracy: 0.5417\n",
      "Epoch 8/100\n",
      "3/3 [==============================] - 0s 13ms/step - loss: 0.9020 - accuracy: 0.6562 - val_loss: 0.9106 - val_accuracy: 0.5833\n",
      "Epoch 9/100\n",
      "3/3 [==============================] - 0s 13ms/step - loss: 0.8525 - accuracy: 0.6771 - val_loss: 0.8669 - val_accuracy: 0.5833\n",
      "Epoch 10/100\n",
      "3/3 [==============================] - 0s 13ms/step - loss: 0.8010 - accuracy: 0.6771 - val_loss: 0.8215 - val_accuracy: 0.6250\n",
      "Epoch 11/100\n",
      "3/3 [==============================] - 0s 14ms/step - loss: 0.7486 - accuracy: 0.6771 - val_loss: 0.7791 - val_accuracy: 0.6250\n",
      "Epoch 12/100\n",
      "3/3 [==============================] - 0s 14ms/step - loss: 0.7023 - accuracy: 0.6875 - val_loss: 0.7377 - val_accuracy: 0.7083\n",
      "Epoch 13/100\n",
      "3/3 [==============================] - 0s 13ms/step - loss: 0.6557 - accuracy: 0.7812 - val_loss: 0.6962 - val_accuracy: 0.7917\n",
      "Epoch 14/100\n",
      "3/3 [==============================] - 0s 14ms/step - loss: 0.6069 - accuracy: 0.8854 - val_loss: 0.6463 - val_accuracy: 0.8750\n",
      "Epoch 15/100\n",
      "3/3 [==============================] - 0s 14ms/step - loss: 0.5590 - accuracy: 0.9167 - val_loss: 0.5981 - val_accuracy: 0.8750\n",
      "Epoch 16/100\n",
      "3/3 [==============================] - 0s 13ms/step - loss: 0.5075 - accuracy: 0.9583 - val_loss: 0.5493 - val_accuracy: 0.8750\n",
      "Epoch 17/100\n",
      "3/3 [==============================] - 0s 13ms/step - loss: 0.4537 - accuracy: 0.9479 - val_loss: 0.4966 - val_accuracy: 0.8750\n",
      "Epoch 18/100\n",
      "3/3 [==============================] - 0s 13ms/step - loss: 0.3945 - accuracy: 0.9583 - val_loss: 0.4290 - val_accuracy: 0.9167\n",
      "Epoch 19/100\n",
      "3/3 [==============================] - 0s 13ms/step - loss: 0.3326 - accuracy: 0.9792 - val_loss: 0.3712 - val_accuracy: 0.9167\n",
      "Epoch 20/100\n",
      "3/3 [==============================] - 0s 13ms/step - loss: 0.2772 - accuracy: 0.9792 - val_loss: 0.3134 - val_accuracy: 0.9167\n",
      "Epoch 21/100\n",
      "3/3 [==============================] - 0s 14ms/step - loss: 0.2314 - accuracy: 0.9792 - val_loss: 0.2653 - val_accuracy: 0.9583\n",
      "Epoch 22/100\n",
      "3/3 [==============================] - 0s 13ms/step - loss: 0.2041 - accuracy: 0.9479 - val_loss: 0.2307 - val_accuracy: 0.9583\n",
      "Epoch 23/100\n",
      "3/3 [==============================] - 0s 13ms/step - loss: 0.1520 - accuracy: 0.9896 - val_loss: 0.2313 - val_accuracy: 0.8750\n",
      "Epoch 24/100\n",
      "3/3 [==============================] - 0s 14ms/step - loss: 0.1505 - accuracy: 0.9688 - val_loss: 0.1835 - val_accuracy: 1.0000\n",
      "Epoch 25/100\n",
      "3/3 [==============================] - 0s 14ms/step - loss: 0.1236 - accuracy: 0.9896 - val_loss: 0.1778 - val_accuracy: 0.9167\n",
      "Epoch 26/100\n",
      "3/3 [==============================] - 0s 13ms/step - loss: 0.1198 - accuracy: 0.9688 - val_loss: 0.1663 - val_accuracy: 0.9167\n",
      "Epoch 27/100\n",
      "3/3 [==============================] - 0s 13ms/step - loss: 0.1061 - accuracy: 0.9792 - val_loss: 0.1471 - val_accuracy: 1.0000\n",
      "Epoch 28/100\n",
      "3/3 [==============================] - 0s 13ms/step - loss: 0.0982 - accuracy: 0.9792 - val_loss: 0.1389 - val_accuracy: 1.0000\n",
      "Epoch 29/100\n",
      "3/3 [==============================] - 0s 13ms/step - loss: 0.0920 - accuracy: 0.9896 - val_loss: 0.1326 - val_accuracy: 1.0000\n",
      "Epoch 30/100\n",
      "3/3 [==============================] - 0s 13ms/step - loss: 0.0901 - accuracy: 0.9896 - val_loss: 0.1316 - val_accuracy: 0.9583\n",
      "Epoch 31/100\n",
      "3/3 [==============================] - 0s 13ms/step - loss: 0.1058 - accuracy: 0.9479 - val_loss: 0.1259 - val_accuracy: 1.0000\n",
      "Epoch 32/100\n",
      "3/3 [==============================] - 0s 13ms/step - loss: 0.0810 - accuracy: 0.9792 - val_loss: 0.1343 - val_accuracy: 0.9167\n",
      "Epoch 33/100\n",
      "3/3 [==============================] - 0s 13ms/step - loss: 0.0845 - accuracy: 0.9792 - val_loss: 0.1164 - val_accuracy: 1.0000\n",
      "Epoch 34/100\n",
      "3/3 [==============================] - 0s 13ms/step - loss: 0.0793 - accuracy: 0.9896 - val_loss: 0.1191 - val_accuracy: 1.0000\n",
      "Epoch 35/100\n",
      "3/3 [==============================] - 0s 13ms/step - loss: 0.0850 - accuracy: 0.9792 - val_loss: 0.1128 - val_accuracy: 0.9583\n",
      "Epoch 36/100\n",
      "3/3 [==============================] - 0s 14ms/step - loss: 0.0861 - accuracy: 0.9792 - val_loss: 0.1075 - val_accuracy: 1.0000\n",
      "Epoch 37/100\n",
      "3/3 [==============================] - 0s 13ms/step - loss: 0.0964 - accuracy: 0.9583 - val_loss: 0.1324 - val_accuracy: 0.9167\n",
      "Epoch 38/100\n",
      "3/3 [==============================] - 0s 13ms/step - loss: 0.0768 - accuracy: 0.9688 - val_loss: 0.1255 - val_accuracy: 0.9167\n",
      "Epoch 00038: early stopping\n"
     ]
    }
   ],
   "source": [
    "# 이진분류는 마지막 활성함수는 sigmoid + loss 는 바이너리 크로스 엔트로피 \n",
    "\n",
    "from keras.callbacks import EarlyStopping\n",
    "\n",
    "early_stopping = EarlyStopping(\n",
    "monitor='val_loss',\n",
    "min_delta=0.01, patience=5, \n",
    "verbose=1, \n",
    "mode='min')\n",
    "\n",
    "# 훈련값이 int 형이기 때문에 sparse 를 사용합니다.\n",
    "model.compile(loss=\"sparse_categorical_crossentropy\"\n",
    "              ,optimizer=\"adam\"\n",
    "              ,metrics=[\"accuracy\"]\n",
    "              )\n",
    "\n",
    "hist = model.fit(x_train, y_train, epochs=100, batch_size=32, \n",
    "                 validation_split=0.2,\n",
    "                 callbacks = [early_stopping])\n",
    "\n",
    "# metrics 에 accuracy 사용가능\n"
   ]
  },
  {
   "cell_type": "code",
   "execution_count": 214,
   "metadata": {},
   "outputs": [
    {
     "name": "stdout",
     "output_type": "stream",
     "text": [
      "1/1 [==============================] - 0s 18ms/step - loss: 0.1034 - accuracy: 0.9667\n",
      "loss: 0.10336845368146896 \n",
      "acc : 0.9666666388511658\n"
     ]
    }
   ],
   "source": [
    "loss,accuracy = model.evaluate(x_test,y_test)\n",
    "\n",
    "print(\"loss:\",loss,\"\\nacc :\" ,accuracy)\n"
   ]
  },
  {
   "cell_type": "code",
   "execution_count": 215,
   "metadata": {},
   "outputs": [
    {
     "name": "stdout",
     "output_type": "stream",
     "text": [
      "[[1.7731037e-03 4.6307910e-02 9.5191896e-01]\n",
      " [1.2353468e-03 9.7605920e-01 2.2705484e-02]\n",
      " [3.1075401e-03 1.4896794e-01 8.4792453e-01]\n",
      " [1.8917341e-04 1.5831261e-03 9.9822766e-01]\n",
      " [9.9941349e-01 5.8613432e-04 3.6902728e-07]]\n",
      "[2 1 2 2 0]\n",
      "========================================\n",
      "0.9666666666666667\n"
     ]
    }
   ],
   "source": [
    "from sklearn.metrics import accuracy_score\n",
    "y_predict = model.predict(x_test)\n",
    "\n",
    "# predict 의 값은 소숫점값이라 정수형으로 바꿔줘야합니다.\n",
    "print(y_predict[:5])\n",
    "\n",
    "# argmax 는 x 를 최대값으로 만들어주는 입력을 구하는함수\n",
    "y_predict = np.argmax(y_predict,axis=1)\n",
    "\n",
    "print(y_predict[:5])\n",
    "\n",
    "\n",
    "print(\"========================================\")\n",
    "acc = accuracy_score(y_test,y_predict)\n",
    "print(acc)"
   ]
  }
 ],
 "metadata": {
  "kernelspec": {
   "display_name": "tf274gpu",
   "language": "python",
   "name": "python3"
  },
  "language_info": {
   "codemirror_mode": {
    "name": "ipython",
    "version": 3
   },
   "file_extension": ".py",
   "mimetype": "text/x-python",
   "name": "python",
   "nbconvert_exporter": "python",
   "pygments_lexer": "ipython3",
   "version": "3.9.15"
  },
  "orig_nbformat": 4,
  "vscode": {
   "interpreter": {
    "hash": "10848e9bd3f5e7d93542d388001135334854454e7336dcf54c4ef52885ee0fb0"
   }
  }
 },
 "nbformat": 4,
 "nbformat_minor": 2
}
