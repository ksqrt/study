{
 "cells": [
  {
   "cell_type": "code",
   "execution_count": 18,
   "metadata": {},
   "outputs": [],
   "source": [
    "from sklearn.datasets import load_iris\n",
    "import numpy as np\n",
    "import pandas as pd\n",
    "import tensorflow as tf\n",
    "from tensorflow.keras.models import Sequential\n",
    "from tensorflow.keras.layers import Dense,Dropout\n",
    "from sklearn.model_selection import train_test_split\n",
    "from sklearn.metrics import mean_squared_error, r2_score\n",
    "# 1. 데이터 \n",
    "datasets = (load_iris())\n",
    "\n",
    "x = pd.DataFrame(datasets[\"data\"])\n",
    "y = pd.DataFrame(datasets[\"target\"])\n"
   ]
  },
  {
   "cell_type": "code",
   "execution_count": 19,
   "metadata": {},
   "outputs": [
    {
     "name": "stdout",
     "output_type": "stream",
     "text": [
      "       0    1    2    3\n",
      "0    5.1  3.5  1.4  0.2\n",
      "1    4.9  3.0  1.4  0.2\n",
      "2    4.7  3.2  1.3  0.2\n",
      "3    4.6  3.1  1.5  0.2\n",
      "4    5.0  3.6  1.4  0.2\n",
      "..   ...  ...  ...  ...\n",
      "145  6.7  3.0  5.2  2.3\n",
      "146  6.3  2.5  5.0  1.9\n",
      "147  6.5  3.0  5.2  2.0\n",
      "148  6.2  3.4  5.4  2.3\n",
      "149  5.9  3.0  5.1  1.8\n",
      "\n",
      "[150 rows x 4 columns]\n",
      "     0\n",
      "0    0\n",
      "1    0\n",
      "2    0\n",
      "3    0\n",
      "4    0\n",
      "..  ..\n",
      "145  2\n",
      "146  2\n",
      "147  2\n",
      "148  2\n",
      "149  2\n",
      "\n",
      "[150 rows x 1 columns]\n"
     ]
    }
   ],
   "source": [
    "# print(datasets.colums) \n",
    "print(x)    \n",
    "print(y)\n",
    "# print(x.describe)"
   ]
  },
  {
   "cell_type": "code",
   "execution_count": 20,
   "metadata": {},
   "outputs": [
    {
     "data": {
      "text/plain": [
       "(120, 1)"
      ]
     },
     "execution_count": 20,
     "metadata": {},
     "output_type": "execute_result"
    }
   ],
   "source": [
    "# print(x.info())\n",
    "# print(x.describe())\n",
    "# 데이터 분리\n",
    "x_train, x_test, y_train,y_test = train_test_split(x,y,\n",
    "                                                   train_size=0.8,\n",
    "                                                   shuffle = True,\n",
    "                                                #  stratify 는 데이터 불균형을 해결해줌\n",
    "                                                   stratify=y\n",
    "                                                #    random_state=21\n",
    "                                                   )\n",
    "\n",
    "\n",
    "# print(x.columns)\n",
    "# y 의 첫번째 칼럼을 원핫 인코딩 변환\n",
    "y_train[0] = tf.one_hot(y_train[0],3)\n",
    "y_test[0] = tf.one_hot(y_test[0],3)\n",
    "\n",
    "y_train.shape\n"
   ]
  },
  {
   "cell_type": "code",
   "execution_count": 21,
   "metadata": {},
   "outputs": [],
   "source": [
    "model = Sequential([\n",
    "    Dense(50,activation=\"relu\",input_shape=(4,)),\n",
    "    Dense(40,activation=\"relu\") ,\n",
    "    Dense(40,activation=\"relu\") ,\n",
    "    Dense(30,activation=\"relu\") ,\n",
    "    Dense(30,activation=\"relu\") ,\n",
    "    Dense(20,activation=\"relu\") ,\n",
    "    # 다중분류모델의 활성화 함수는 softmax 입니다\n",
    "    Dense(3,activation=\"softmax\")\n",
    "])"
   ]
  },
  {
   "cell_type": "code",
   "execution_count": 22,
   "metadata": {},
   "outputs": [
    {
     "name": "stdout",
     "output_type": "stream",
     "text": [
      "Epoch 1/100\n",
      "3/3 [==============================] - 1s 119ms/step - loss: 1.1336 - accuracy: 0.1979 - val_loss: 1.0637 - val_accuracy: 0.4167\n",
      "Epoch 2/100\n",
      "3/3 [==============================] - 0s 12ms/step - loss: 1.0558 - accuracy: 0.7396 - val_loss: 1.0221 - val_accuracy: 0.7917\n",
      "Epoch 3/100\n",
      "3/3 [==============================] - 0s 13ms/step - loss: 1.0175 - accuracy: 0.7708 - val_loss: 0.9800 - val_accuracy: 0.6667\n",
      "Epoch 4/100\n",
      "3/3 [==============================] - 0s 13ms/step - loss: 0.9813 - accuracy: 0.6667 - val_loss: 0.9451 - val_accuracy: 0.6667\n",
      "Epoch 5/100\n",
      "3/3 [==============================] - 0s 14ms/step - loss: 0.9480 - accuracy: 0.6979 - val_loss: 0.9163 - val_accuracy: 0.8750\n",
      "Epoch 6/100\n",
      "3/3 [==============================] - 0s 13ms/step - loss: 0.9147 - accuracy: 0.8125 - val_loss: 0.8921 - val_accuracy: 0.5833\n",
      "Epoch 7/100\n",
      "3/3 [==============================] - 0s 13ms/step - loss: 0.8833 - accuracy: 0.6875 - val_loss: 0.8610 - val_accuracy: 0.5833\n",
      "Epoch 8/100\n",
      "3/3 [==============================] - 0s 13ms/step - loss: 0.8446 - accuracy: 0.7812 - val_loss: 0.8234 - val_accuracy: 0.8333\n",
      "Epoch 9/100\n",
      "3/3 [==============================] - 0s 13ms/step - loss: 0.8090 - accuracy: 0.9167 - val_loss: 0.7861 - val_accuracy: 0.8333\n",
      "Epoch 10/100\n",
      "3/3 [==============================] - 0s 13ms/step - loss: 0.7689 - accuracy: 0.8438 - val_loss: 0.7504 - val_accuracy: 0.7917\n",
      "Epoch 11/100\n",
      "3/3 [==============================] - 0s 13ms/step - loss: 0.7258 - accuracy: 0.8125 - val_loss: 0.7132 - val_accuracy: 0.7917\n",
      "Epoch 12/100\n",
      "3/3 [==============================] - 0s 13ms/step - loss: 0.6796 - accuracy: 0.8646 - val_loss: 0.6680 - val_accuracy: 0.8333\n",
      "Epoch 13/100\n",
      "3/3 [==============================] - 0s 13ms/step - loss: 0.6320 - accuracy: 0.8854 - val_loss: 0.6307 - val_accuracy: 0.7917\n",
      "Epoch 14/100\n",
      "3/3 [==============================] - 0s 13ms/step - loss: 0.5860 - accuracy: 0.8958 - val_loss: 0.5897 - val_accuracy: 0.8333\n",
      "Epoch 15/100\n",
      "3/3 [==============================] - 0s 13ms/step - loss: 0.5373 - accuracy: 0.8958 - val_loss: 0.5561 - val_accuracy: 0.7917\n",
      "Epoch 16/100\n",
      "3/3 [==============================] - 0s 13ms/step - loss: 0.4953 - accuracy: 0.8125 - val_loss: 0.5225 - val_accuracy: 0.7917\n",
      "Epoch 17/100\n",
      "3/3 [==============================] - 0s 13ms/step - loss: 0.4631 - accuracy: 0.9062 - val_loss: 0.4754 - val_accuracy: 0.9167\n",
      "Epoch 18/100\n",
      "3/3 [==============================] - 0s 13ms/step - loss: 0.4246 - accuracy: 0.9271 - val_loss: 0.4619 - val_accuracy: 0.8333\n",
      "Epoch 19/100\n",
      "3/3 [==============================] - 0s 14ms/step - loss: 0.3936 - accuracy: 0.9271 - val_loss: 0.4264 - val_accuracy: 0.8750\n",
      "Epoch 20/100\n",
      "3/3 [==============================] - 0s 13ms/step - loss: 0.3653 - accuracy: 0.9688 - val_loss: 0.4097 - val_accuracy: 0.8333\n",
      "Epoch 21/100\n",
      "3/3 [==============================] - 0s 13ms/step - loss: 0.3442 - accuracy: 0.9583 - val_loss: 0.3778 - val_accuracy: 0.9167\n",
      "Epoch 22/100\n",
      "3/3 [==============================] - 0s 13ms/step - loss: 0.3199 - accuracy: 0.9792 - val_loss: 0.3626 - val_accuracy: 0.8750\n",
      "Epoch 23/100\n",
      "3/3 [==============================] - 0s 14ms/step - loss: 0.2961 - accuracy: 0.9688 - val_loss: 0.3532 - val_accuracy: 0.8750\n",
      "Epoch 24/100\n",
      "3/3 [==============================] - 0s 13ms/step - loss: 0.2790 - accuracy: 0.9688 - val_loss: 0.3186 - val_accuracy: 0.9167\n",
      "Epoch 25/100\n",
      "3/3 [==============================] - 0s 13ms/step - loss: 0.2579 - accuracy: 0.9688 - val_loss: 0.2922 - val_accuracy: 0.9167\n",
      "Epoch 26/100\n",
      "3/3 [==============================] - 0s 13ms/step - loss: 0.2364 - accuracy: 0.9896 - val_loss: 0.2837 - val_accuracy: 0.9167\n",
      "Epoch 27/100\n",
      "3/3 [==============================] - 0s 13ms/step - loss: 0.2184 - accuracy: 0.9688 - val_loss: 0.2702 - val_accuracy: 0.8750\n",
      "Epoch 28/100\n",
      "3/3 [==============================] - 0s 13ms/step - loss: 0.2040 - accuracy: 0.9792 - val_loss: 0.2358 - val_accuracy: 0.9167\n",
      "Epoch 29/100\n",
      "3/3 [==============================] - 0s 13ms/step - loss: 0.1814 - accuracy: 0.9896 - val_loss: 0.2432 - val_accuracy: 0.8750\n",
      "Epoch 30/100\n",
      "3/3 [==============================] - 0s 13ms/step - loss: 0.1718 - accuracy: 0.9688 - val_loss: 0.2041 - val_accuracy: 0.9167\n",
      "Epoch 31/100\n",
      "3/3 [==============================] - 0s 13ms/step - loss: 0.1601 - accuracy: 0.9896 - val_loss: 0.1849 - val_accuracy: 0.9167\n",
      "Epoch 32/100\n",
      "3/3 [==============================] - 0s 14ms/step - loss: 0.1437 - accuracy: 0.9792 - val_loss: 0.2448 - val_accuracy: 0.8750\n",
      "Epoch 33/100\n",
      "3/3 [==============================] - 0s 14ms/step - loss: 0.1303 - accuracy: 0.9688 - val_loss: 0.1628 - val_accuracy: 0.9167\n",
      "Epoch 34/100\n",
      "3/3 [==============================] - 0s 14ms/step - loss: 0.1203 - accuracy: 0.9896 - val_loss: 0.1632 - val_accuracy: 0.9167\n",
      "Epoch 35/100\n",
      "3/3 [==============================] - 0s 13ms/step - loss: 0.1052 - accuracy: 0.9896 - val_loss: 0.1762 - val_accuracy: 0.9167\n",
      "Epoch 36/100\n",
      "3/3 [==============================] - 0s 13ms/step - loss: 0.1011 - accuracy: 0.9792 - val_loss: 0.1595 - val_accuracy: 0.9167\n",
      "Epoch 37/100\n",
      "3/3 [==============================] - 0s 13ms/step - loss: 0.0962 - accuracy: 0.9896 - val_loss: 0.1438 - val_accuracy: 0.9167\n",
      "Epoch 38/100\n",
      "3/3 [==============================] - 0s 13ms/step - loss: 0.0856 - accuracy: 0.9896 - val_loss: 0.1894 - val_accuracy: 0.9167\n",
      "Epoch 39/100\n",
      "3/3 [==============================] - 0s 13ms/step - loss: 0.0848 - accuracy: 0.9688 - val_loss: 0.1495 - val_accuracy: 0.9167\n",
      "Epoch 40/100\n",
      "3/3 [==============================] - 0s 13ms/step - loss: 0.0800 - accuracy: 0.9896 - val_loss: 0.1200 - val_accuracy: 0.9583\n",
      "Epoch 41/100\n",
      "3/3 [==============================] - 0s 13ms/step - loss: 0.0750 - accuracy: 0.9896 - val_loss: 0.1854 - val_accuracy: 0.9167\n",
      "Epoch 42/100\n",
      "3/3 [==============================] - 0s 12ms/step - loss: 0.0752 - accuracy: 0.9688 - val_loss: 0.1527 - val_accuracy: 0.9167\n",
      "Epoch 43/100\n",
      "3/3 [==============================] - 0s 13ms/step - loss: 0.0879 - accuracy: 0.9583 - val_loss: 0.1125 - val_accuracy: 0.9583\n",
      "Epoch 44/100\n",
      "3/3 [==============================] - 0s 13ms/step - loss: 0.0538 - accuracy: 1.0000 - val_loss: 0.2358 - val_accuracy: 0.8750\n",
      "Epoch 45/100\n",
      "3/3 [==============================] - 0s 13ms/step - loss: 0.0751 - accuracy: 0.9688 - val_loss: 0.1819 - val_accuracy: 0.9167\n",
      "Epoch 00045: early stopping\n"
     ]
    }
   ],
   "source": [
    "# 이진분류는 마지막 활성함수는 sigmoid + loss 는 바이너리 크로스 엔트로피 \n",
    "from keras.callbacks import EarlyStopping\n",
    "\n",
    "early_stopping = EarlyStopping(\n",
    "monitor='val_loss',\n",
    "min_delta=0.01, patience=5, \n",
    "verbose=1, \n",
    "mode='min')\n",
    "\n",
    "# 훈련값이 int 형이기 때문에 sparse 를 사용합니다.\n",
    "model.compile(loss=\"categorical_crossentropy\"\n",
    "              ,optimizer=\"adam\"\n",
    "              ,metrics=[\"accuracy\"]\n",
    "              )\n",
    "\n",
    "hist = model.fit(x_train, y_train, epochs=100, batch_size=32, \n",
    "                 validation_split=0.2,\n",
    "                 callbacks = [early_stopping])\n",
    "\n",
    "# metrics 에 accuracy 사용가능\n"
   ]
  },
  {
   "cell_type": "code",
   "execution_count": 23,
   "metadata": {},
   "outputs": [
    {
     "name": "stdout",
     "output_type": "stream",
     "text": [
      "1/1 [==============================] - 0s 18ms/step - loss: 0.1980 - accuracy: 0.9333\n",
      "loss: 0.19799955189228058 \n",
      "acc : 0.9333333373069763\n"
     ]
    }
   ],
   "source": [
    "loss,accuracy = model.evaluate(x_test,y_test)\n",
    "\n",
    "print(\"loss:\",loss,\"\\nacc :\" ,accuracy)\n"
   ]
  },
  {
   "cell_type": "code",
   "execution_count": 24,
   "metadata": {},
   "outputs": [
    {
     "name": "stdout",
     "output_type": "stream",
     "text": [
      "[[9.4865100e-05 6.9023441e-03 9.9300283e-01]\n",
      " [8.0395979e-04 9.2166322e-01 7.7532865e-02]\n",
      " [2.1605556e-05 2.0101790e-03 9.9796814e-01]\n",
      " [6.8326847e-04 1.9940288e-01 7.9991388e-01]\n",
      " [9.9879754e-01 1.1586258e-03 4.3868265e-05]]\n",
      "[2 1 2 2 0]\n",
      "tf.Tensor(\n",
      "[[0. 0. 1.]\n",
      " [0. 1. 0.]\n",
      " [0. 0. 1.]\n",
      " [0. 0. 1.]\n",
      " [1. 0. 0.]], shape=(5, 3), dtype=float32)\n",
      "========================================\n",
      "0.9333333333333333\n"
     ]
    }
   ],
   "source": [
    "from sklearn.metrics import accuracy_score\n",
    "y_predict = model.predict(x_test)\n",
    "\n",
    "# predict 의 값은 소숫점값이라 정수형으로 바꿔줘야합니다.\n",
    "print(y_predict[:5])\n",
    "\n",
    "# argmax 는 x 를 최대값으로 만들어주는 입력을 구하는함수\n",
    "y_predict = np.argmax(y_predict,axis=1)\n",
    "\n",
    "print(y_predict[:5])\n",
    "# 원핫 인코딩 변환\n",
    "y_predict = tf.one_hot(y_predict,3)\n",
    "\n",
    "print(y_predict[:5])\n",
    "\n",
    "print\n",
    "print(\"========================================\")\n",
    "acc = accuracy_score(y_test,y_predict)\n",
    "print(acc)"
   ]
  },
  {
   "cell_type": "code",
   "execution_count": null,
   "metadata": {},
   "outputs": [],
   "source": []
  }
 ],
 "metadata": {
  "kernelspec": {
   "display_name": "tf274gpu",
   "language": "python",
   "name": "python3"
  },
  "language_info": {
   "codemirror_mode": {
    "name": "ipython",
    "version": 3
   },
   "file_extension": ".py",
   "mimetype": "text/x-python",
   "name": "python",
   "nbconvert_exporter": "python",
   "pygments_lexer": "ipython3",
   "version": "3.9.15"
  },
  "orig_nbformat": 4,
  "vscode": {
   "interpreter": {
    "hash": "10848e9bd3f5e7d93542d388001135334854454e7336dcf54c4ef52885ee0fb0"
   }
  }
 },
 "nbformat": 4,
 "nbformat_minor": 2
}
