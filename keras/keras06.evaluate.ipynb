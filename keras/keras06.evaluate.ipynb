{
 "cells": [
  {
   "cell_type": "code",
   "execution_count": 14,
   "metadata": {},
   "outputs": [
    {
     "name": "stdout",
     "output_type": "stream",
     "text": [
      "2.7.4\n"
     ]
    }
   ],
   "source": [
    "# 필수 라이브러리 임포트하기(가독성이 좋음)\n",
    "import numpy as np \n",
    "import tensorflow as tf\n",
    "from tensorflow.keras.models import Sequential\n",
    "from tensorflow.keras.layers import Dense\n",
    "\n",
    "print(tf.__version__)"
   ]
  },
  {
   "cell_type": "code",
   "execution_count": 15,
   "metadata": {},
   "outputs": [],
   "source": [
    "# 1. 데이터 준비\n",
    "x = np.array([1,2,3,4,5,6]) \n",
    "y = np.array([1,2,3,5,4,6]) \n",
    "# shift + del = 라인 삭제"
   ]
  },
  {
   "cell_type": "code",
   "execution_count": 16,
   "metadata": {},
   "outputs": [],
   "source": [
    "# 2. 모델 구성\n",
    "model = Sequential(\n",
    "# 인풋 레이어 안에 노드의 계수 레이어의 개수 를 조절 할 수 있습니다.\n",
    "[   \n",
    "    Dense(3,input_dim=1),\n",
    "    Dense(1)\n",
    "]\n",
    ")"
   ]
  },
  {
   "cell_type": "code",
   "execution_count": 17,
   "metadata": {},
   "outputs": [
    {
     "name": "stdout",
     "output_type": "stream",
     "text": [
      "Epoch 1/10\n",
      "3/3 [==============================] - 0s 1ms/step - loss: 1.0060\n",
      "Epoch 2/10\n",
      "3/3 [==============================] - 0s 997us/step - loss: 0.9639\n",
      "Epoch 3/10\n",
      "3/3 [==============================] - 0s 498us/step - loss: 0.9169\n",
      "Epoch 4/10\n",
      "3/3 [==============================] - 0s 998us/step - loss: 0.8741\n",
      "Epoch 5/10\n",
      "3/3 [==============================] - 0s 997us/step - loss: 0.8393\n",
      "Epoch 6/10\n",
      "3/3 [==============================] - 0s 1ms/step - loss: 0.8263\n",
      "Epoch 7/10\n",
      "3/3 [==============================] - 0s 499us/step - loss: 0.7906\n",
      "Epoch 8/10\n",
      "3/3 [==============================] - 0s 998us/step - loss: 0.7767\n",
      "Epoch 9/10\n",
      "3/3 [==============================] - 0s 1ms/step - loss: 0.7474\n",
      "Epoch 10/10\n",
      "3/3 [==============================] - 0s 997us/step - loss: 0.7281\n"
     ]
    },
    {
     "data": {
      "text/plain": [
       "<keras.callbacks.History at 0x232ff63af70>"
      ]
     },
     "execution_count": 17,
     "metadata": {},
     "output_type": "execute_result"
    }
   ],
   "source": [
    "# 3. 모델 학습진행\n",
    "\n",
    "model.compile(loss=\"mae\",optimizer=\"adam\")\n",
    "# fit 에서 batch 사이즈를 조절해줍니다 \n",
    "model.fit(x,y, epochs=10,batch_size=2)"
   ]
  },
  {
   "cell_type": "code",
   "execution_count": 27,
   "metadata": {},
   "outputs": [
    {
     "name": "stdout",
     "output_type": "stream",
     "text": [
      "1/1 [==============================] - 0s 14ms/step - loss: 0.7182\n",
      "loss :  0.7181577682495117\n"
     ]
    }
   ],
   "source": [
    "# 1번 value 와 2번 value 를 성능 평가 데이터 로 사용해본다. \n",
    "# 이때 평가에 들어가는 x,y 는 훈련 데이터를 집어넣으면 절대 안됨\n",
    "loss = model.evaluate(x,y)\n",
    "print(\"loss : \",loss)"
   ]
  },
  {
   "cell_type": "code",
   "execution_count": 26,
   "metadata": {},
   "outputs": [
    {
     "name": "stdout",
     "output_type": "stream",
     "text": [
      "[[7.12724]]\n"
     ]
    }
   ],
   "source": [
    "# predict 는 성능평가 지표가 되지 못합니다.... 걍 테스트용\n",
    "print(model.predict([6]))"
   ]
  }
 ],
 "metadata": {
  "kernelspec": {
   "display_name": "base",
   "language": "python",
   "name": "python3"
  },
  "language_info": {
   "codemirror_mode": {
    "name": "ipython",
    "version": 3
   },
   "file_extension": ".py",
   "mimetype": "text/x-python",
   "name": "python",
   "nbconvert_exporter": "python",
   "pygments_lexer": "ipython3",
   "version": "3.9.13"
  },
  "orig_nbformat": 4,
  "vscode": {
   "interpreter": {
    "hash": "c27b548309c0af5fd17bab5f4bab13b25abfa263227990920153a4c368708557"
   }
  }
 },
 "nbformat": 4,
 "nbformat_minor": 2
}
