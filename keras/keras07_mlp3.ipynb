{
 "cells": [
  {
   "cell_type": "code",
   "execution_count": 264,
   "metadata": {},
   "outputs": [
    {
     "name": "stdout",
     "output_type": "stream",
     "text": [
      "(10, 3)\n",
      "[[ 21   0 201]\n",
      " [ 22   1 202]\n",
      " [ 23   2 203]\n",
      " [ 24   3 204]\n",
      " [ 25   4 205]\n",
      " [ 26   5 206]\n",
      " [ 27   6 207]\n",
      " [ 28   7 208]\n",
      " [ 29   8 209]\n",
      " [ 30   9 210]]\n",
      "(10, 2)\n",
      "[[ 1.   1. ]\n",
      " [ 2.   1. ]\n",
      " [ 3.   1. ]\n",
      " [ 4.   1. ]\n",
      " [ 5.   2. ]\n",
      " [ 6.   1.3]\n",
      " [ 7.   1.4]\n",
      " [ 8.   1.5]\n",
      " [ 9.   1.6]\n",
      " [10.   1.4]]\n"
     ]
    }
   ],
   "source": [
    "import numpy as np\n",
    "from tensorflow.keras.models import Sequential\n",
    "from tensorflow.keras.layers import Dense\n",
    "\n",
    "# 1.데이터\n",
    "x= np.array([range(21,31),range(10),range(201,211)])\n",
    "y = np.array([[i for i in range(1,11,1)],\n",
    "             [1,1,1,1,2,1.3,1.4,1.5,1.6,1.4]])\n",
    "x = x.T\n",
    "y = y.T\n",
    "\n",
    "print(x.shape)\n",
    "print(x)\n",
    "print(y.shape)\n",
    "print(y)"
   ]
  },
  {
   "cell_type": "code",
   "execution_count": 265,
   "metadata": {},
   "outputs": [
    {
     "name": "stdout",
     "output_type": "stream",
     "text": [
      "Model: \"sequential_62\"\n",
      "_________________________________________________________________\n",
      " Layer (type)                Output Shape              Param #   \n",
      "=================================================================\n",
      " dense_325 (Dense)           (None, 5)                 20        \n",
      "                                                                 \n",
      " dense_326 (Dense)           (None, 3)                 18        \n",
      "                                                                 \n",
      " dense_327 (Dense)           (None, 5)                 20        \n",
      "                                                                 \n",
      " dense_328 (Dense)           (None, 5)                 30        \n",
      "                                                                 \n",
      " dense_329 (Dense)           (None, 2)                 12        \n",
      "                                                                 \n",
      "=================================================================\n",
      "Total params: 100\n",
      "Trainable params: 100\n",
      "Non-trainable params: 0\n",
      "_________________________________________________________________\n"
     ]
    }
   ],
   "source": [
    "# 2. 모델구성하기\n",
    "\n",
    "from random import randrange\n",
    "number1 = randrange(1,10,1)\n",
    "number2 = randrange(1,10,1)\n",
    "number3= randrange(1,10,1)\n",
    "model = Sequential([\n",
    "    Dense(5,input_dim = 3),\n",
    "    Dense(number1),\n",
    "    Dense(number2),\n",
    "    Dense(number3),\n",
    "    Dense(2)\n",
    "])\n",
    "\n",
    "model.summary()"
   ]
  },
  {
   "cell_type": "code",
   "execution_count": 266,
   "metadata": {},
   "outputs": [
    {
     "name": "stdout",
     "output_type": "stream",
     "text": [
      "Epoch 1/100\n",
      "100/100 [==============================] - 0s 680us/step - loss: 23.5589\n",
      "Epoch 2/100\n",
      "100/100 [==============================] - 0s 663us/step - loss: 4.2314\n",
      "Epoch 3/100\n",
      "100/100 [==============================] - 0s 652us/step - loss: 3.4070\n",
      "Epoch 4/100\n",
      "100/100 [==============================] - 0s 696us/step - loss: 2.1385\n",
      "Epoch 5/100\n",
      "100/100 [==============================] - 0s 663us/step - loss: 1.3899\n",
      "Epoch 6/100\n",
      "100/100 [==============================] - 0s 666us/step - loss: 1.0534\n",
      "Epoch 7/100\n",
      "100/100 [==============================] - 0s 650us/step - loss: 0.5517\n",
      "Epoch 8/100\n",
      "100/100 [==============================] - 0s 621us/step - loss: 0.4342\n",
      "Epoch 9/100\n",
      "100/100 [==============================] - 0s 664us/step - loss: 0.2184\n",
      "Epoch 10/100\n",
      "100/100 [==============================] - 0s 660us/step - loss: 0.1060\n",
      "Epoch 11/100\n",
      "WARNING:tensorflow:Your input ran out of data; interrupting training. Make sure that your dataset or generator can generate at least `steps_per_epoch * epochs` batches (in this case, 10000 batches). You may need to use the repeat() function when building your dataset.\n",
      "100/100 [==============================] - 0s 160us/step - loss: 0.1060\n"
     ]
    },
    {
     "data": {
      "text/plain": [
       "<keras.callbacks.History at 0x21513c5c460>"
      ]
     },
     "execution_count": 266,
     "metadata": {},
     "output_type": "execute_result"
    }
   ],
   "source": [
    "# 3. 모델 컴파일 + 훈련\n",
    "model.compile(loss=\"mse\",optimizer =\"adam\")\n",
    "\n",
    "model.fit(x,y,epochs = 100, steps_per_epoch = 100)"
   ]
  },
  {
   "cell_type": "code",
   "execution_count": 270,
   "metadata": {},
   "outputs": [
    {
     "name": "stdout",
     "output_type": "stream",
     "text": [
      "1/1 [==============================] - 0s 13ms/step - loss: 0.0849\n",
      "[[9.442846  1.7981524]]\n"
     ]
    }
   ],
   "source": [
    "# 평가\n",
    "loss = model.evaluate(x,y)\n",
    "print(model.predict([[30,9,210]]))"
   ]
  },
  {
   "cell_type": "code",
   "execution_count": null,
   "metadata": {},
   "outputs": [],
   "source": []
  }
 ],
 "metadata": {
  "kernelspec": {
   "display_name": "tf27",
   "language": "python",
   "name": "python3"
  },
  "language_info": {
   "codemirror_mode": {
    "name": "ipython",
    "version": 3
   },
   "file_extension": ".py",
   "mimetype": "text/x-python",
   "name": "python",
   "nbconvert_exporter": "python",
   "pygments_lexer": "ipython3",
   "version": "3.9.7 (default, Sep 16 2021, 16:59:28) [MSC v.1916 64 bit (AMD64)]"
  },
  "orig_nbformat": 4,
  "vscode": {
   "interpreter": {
    "hash": "b47fb4e6c68d4941015efb0bbf71549277582fe8531338196fc3c7fa71b6aab8"
   }
  }
 },
 "nbformat": 4,
 "nbformat_minor": 2
}
