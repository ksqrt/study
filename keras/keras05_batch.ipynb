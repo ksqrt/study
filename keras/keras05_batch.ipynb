{
 "cells": [
  {
   "cell_type": "code",
   "execution_count": 11,
   "metadata": {},
   "outputs": [
    {
     "name": "stdout",
     "output_type": "stream",
     "text": [
      "2.7.4\n"
     ]
    }
   ],
   "source": [
    "# 필수 라이브러리 임포트하기(가독성이 좋음)\n",
    "import numpy as np \n",
    "import tensorflow as tf\n",
    "from tensorflow.keras.models import Sequential\n",
    "from tensorflow.keras.layers import Dense\n",
    "\n",
    "print(tf.__version__)"
   ]
  },
  {
   "cell_type": "code",
   "execution_count": 12,
   "metadata": {},
   "outputs": [],
   "source": [
    "# 1. 데이터 준비\n",
    "x = np.array([1,2,3,4,5,6]) \n",
    "y = np.array([1,2,3,5,4,6]) \n",
    "# shift + del = 라인 삭제"
   ]
  },
  {
   "cell_type": "code",
   "execution_count": 13,
   "metadata": {},
   "outputs": [],
   "source": [
    "model = Sequential(\n",
    "# 인풋 레이어 안에 노드의 계수 레이어의 개수 를 조절 할 수 있습니다.\n",
    "[   \n",
    "    Dense(3,input_dim=1),\n",
    "    Dense(1)\n",
    "]\n",
    ")\n",
    "\n"
   ]
  },
  {
   "cell_type": "code",
   "execution_count": 21,
   "metadata": {},
   "outputs": [
    {
     "name": "stdout",
     "output_type": "stream",
     "text": [
      "Epoch 1/10\n",
      "6/6 [==============================] - 0s 998us/step - loss: 2.7500\n",
      "Epoch 2/10\n",
      "6/6 [==============================] - 0s 798us/step - loss: 2.6769\n",
      "Epoch 3/10\n",
      "6/6 [==============================] - 0s 798us/step - loss: 2.6046\n",
      "Epoch 4/10\n",
      "6/6 [==============================] - 0s 798us/step - loss: 2.5326\n",
      "Epoch 5/10\n",
      "6/6 [==============================] - 0s 798us/step - loss: 2.4529\n",
      "Epoch 6/10\n",
      "6/6 [==============================] - 0s 598us/step - loss: 2.3853\n",
      "Epoch 7/10\n",
      "6/6 [==============================] - 0s 798us/step - loss: 2.3158\n",
      "Epoch 8/10\n",
      "6/6 [==============================] - 0s 798us/step - loss: 2.2442\n",
      "Epoch 9/10\n",
      "6/6 [==============================] - 0s 798us/step - loss: 2.1675\n",
      "Epoch 10/10\n",
      "6/6 [==============================] - 0s 798us/step - loss: 2.1044\n"
     ]
    },
    {
     "data": {
      "text/plain": [
       "<keras.callbacks.History at 0x1f7ea051670>"
      ]
     },
     "execution_count": 21,
     "metadata": {},
     "output_type": "execute_result"
    }
   ],
   "source": [
    "# 3. 모델 학습진행\n",
    "\n",
    "model.compile(loss=\"mae\",optimizer=\"adam\")\n",
    "# fit 에서 batch 사이즈를 조절해줍니다 \n",
    "model.fit(x,y, epochs=10,batch_size=6)"
   ]
  },
  {
   "cell_type": "code",
   "execution_count": 15,
   "metadata": {},
   "outputs": [
    {
     "name": "stdout",
     "output_type": "stream",
     "text": [
      "[[-1.5585212]]\n"
     ]
    }
   ],
   "source": [
    "print(model.predict([6]))"
   ]
  }
 ],
 "metadata": {
  "kernelspec": {
   "display_name": "base",
   "language": "python",
   "name": "python3"
  },
  "language_info": {
   "codemirror_mode": {
    "name": "ipython",
    "version": 3
   },
   "file_extension": ".py",
   "mimetype": "text/x-python",
   "name": "python",
   "nbconvert_exporter": "python",
   "pygments_lexer": "ipython3",
   "version": "3.9.13"
  },
  "orig_nbformat": 4,
  "vscode": {
   "interpreter": {
    "hash": "c27b548309c0af5fd17bab5f4bab13b25abfa263227990920153a4c368708557"
   }
  }
 },
 "nbformat": 4,
 "nbformat_minor": 2
}
