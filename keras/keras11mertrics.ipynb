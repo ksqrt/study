{
 "cells": [
  {
   "cell_type": "code",
   "execution_count": 1,
   "metadata": {},
   "outputs": [],
   "source": [
    "import numpy as np\n",
    "from tensorflow.keras.models import Sequential\n",
    "from tensorflow.keras.layers import Dense\n",
    "from sklearn.model_selection import train_test_split\n"
   ]
  },
  {
   "cell_type": "code",
   "execution_count": 2,
   "metadata": {},
   "outputs": [],
   "source": [
    "# 1 데이터 정리\n",
    "x = np.array(range(1,21))\n",
    "y = np.array([1,2,4,3,5,7,9,3,8,12,13,8,14,15,9,6,17,23,21,20])\n",
    "\n",
    "# 2.as_integer_ratio\n",
    "x_train, x_test,y_train,y_test = train_test_split(x,y,\n",
    "    train_size=0.7,\n",
    "    shuffle = True,\n",
    "    random_state= 123\n",
    ")\n",
    "\n"
   ]
  },
  {
   "cell_type": "code",
   "execution_count": 3,
   "metadata": {},
   "outputs": [
    {
     "name": "stdout",
     "output_type": "stream",
     "text": [
      "Model: \"sequential\"\n",
      "_________________________________________________________________\n",
      " Layer (type)                Output Shape              Param #   \n",
      "=================================================================\n",
      " dense (Dense)               (None, 4)                 8         \n",
      "                                                                 \n",
      " dense_1 (Dense)             (None, 4)                 20        \n",
      "                                                                 \n",
      " dense_2 (Dense)             (None, 3)                 15        \n",
      "                                                                 \n",
      " dense_3 (Dense)             (None, 7)                 28        \n",
      "                                                                 \n",
      " dense_4 (Dense)             (None, 1)                 8         \n",
      "                                                                 \n",
      "=================================================================\n",
      "Total params: 79\n",
      "Trainable params: 79\n",
      "Non-trainable params: 0\n",
      "_________________________________________________________________\n"
     ]
    }
   ],
   "source": [
    "\n",
    "# 2. 모델 구성\n",
    "from random import randrange\n",
    "number1 = randrange(1,10,1)\n",
    "number2 = randrange(1,10,1)\n",
    "number3= randrange(1,10,1)\n",
    "\n",
    "model = Sequential([\n",
    "    Dense(number1,input_dim = 1),\n",
    "    Dense(number1),\n",
    "    Dense(number2),\n",
    "    Dense(number3),\n",
    "    Dense(1)\n",
    "])\n",
    "\n",
    "model.summary()"
   ]
  },
  {
   "cell_type": "code",
   "execution_count": 9,
   "metadata": {},
   "outputs": [
    {
     "name": "stdout",
     "output_type": "stream",
     "text": [
      "Epoch 1/100\n",
      "10/10 [==============================] - 0s 883us/step - loss: 7.8123 - mae: 1.9930 - mse: 7.8123 - accuracy: 0.1000\n",
      "Epoch 2/100\n",
      "10/10 [==============================] - 0s 914us/step - loss: 7.4837 - mae: 1.8203 - mse: 7.4837 - accuracy: 0.0500\n",
      "Epoch 3/100\n",
      "10/10 [==============================] - 0s 776us/step - loss: 12.5823 - mae: 2.5417 - mse: 12.5823 - accuracy: 0.0500\n",
      "Epoch 4/100\n",
      "10/10 [==============================] - 0s 776us/step - loss: 10.9374 - mae: 2.1993 - mse: 10.9374 - accuracy: 0.1000\n",
      "Epoch 5/100\n",
      "10/10 [==============================] - 0s 998us/step - loss: 8.1399 - mae: 2.2187 - mse: 8.1399 - accuracy: 0.0500\n",
      "Epoch 6/100\n",
      "10/10 [==============================] - 0s 776us/step - loss: 7.2733 - mae: 1.9600 - mse: 7.2733 - accuracy: 0.0500\n",
      "Epoch 7/100\n",
      "10/10 [==============================] - 0s 776us/step - loss: 12.4811 - mae: 2.4869 - mse: 12.4811 - accuracy: 0.1000\n",
      "Epoch 8/100\n",
      "10/10 [==============================] - 0s 889us/step - loss: 7.4985 - mae: 1.9573 - mse: 7.4985 - accuracy: 0.0500\n",
      "Epoch 9/100\n",
      "10/10 [==============================] - 0s 778us/step - loss: 7.7974 - mae: 1.9448 - mse: 7.7974 - accuracy: 0.1000\n",
      "Epoch 10/100\n",
      "10/10 [==============================] - 0s 890us/step - loss: 15.7867 - mae: 2.7455 - mse: 15.7867 - accuracy: 0.0500\n",
      "Epoch 11/100\n",
      "10/10 [==============================] - 0s 886us/step - loss: 8.2898 - mae: 2.1928 - mse: 8.2898 - accuracy: 0.0500\n",
      "Epoch 12/100\n",
      "10/10 [==============================] - 0s 886us/step - loss: 11.3812 - mae: 2.3327 - mse: 11.3812 - accuracy: 0.1000\n",
      "Epoch 13/100\n",
      "10/10 [==============================] - 0s 889us/step - loss: 7.7997 - mae: 2.0163 - mse: 7.7997 - accuracy: 0.1000\n",
      "Epoch 14/100\n",
      "10/10 [==============================] - 0s 776us/step - loss: 7.6710 - mae: 2.0583 - mse: 7.6710 - accuracy: 0.0500\n",
      "Epoch 15/100\n",
      "10/10 [==============================] - 0s 966us/step - loss: 11.9518 - mae: 2.4122 - mse: 11.9518 - accuracy: 0.1000\n",
      "Epoch 16/100\n",
      "10/10 [==============================] - 0s 1ms/step - loss: 7.5594 - mae: 2.0068 - mse: 7.5594 - accuracy: 0.0500\n",
      "Epoch 17/100\n",
      "10/10 [==============================] - 0s 887us/step - loss: 7.3140 - mae: 1.9274 - mse: 7.3140 - accuracy: 0.0500\n",
      "Epoch 18/100\n",
      "10/10 [==============================] - 0s 776us/step - loss: 12.1040 - mae: 2.4068 - mse: 12.1040 - accuracy: 0.1000\n",
      "Epoch 19/100\n",
      "10/10 [==============================] - 0s 998us/step - loss: 7.9963 - mae: 2.0504 - mse: 7.9963 - accuracy: 0.1000\n",
      "Epoch 20/100\n",
      "10/10 [==============================] - 0s 779us/step - loss: 6.9832 - mae: 1.7910 - mse: 6.9832 - accuracy: 0.0500\n",
      "Epoch 21/100\n",
      "10/10 [==============================] - 0s 967us/step - loss: 12.5832 - mae: 2.4923 - mse: 12.5832 - accuracy: 0.0500\n",
      "Epoch 22/100\n",
      "10/10 [==============================] - 0s 1000us/step - loss: 8.4964 - mae: 2.2267 - mse: 8.4964 - accuracy: 0.0500\n",
      "Epoch 23/100\n",
      "10/10 [==============================] - 0s 830us/step - loss: 11.5113 - mae: 2.2262 - mse: 11.5113 - accuracy: 0.1000\n",
      "Epoch 24/100\n",
      "10/10 [==============================] - 0s 890us/step - loss: 8.2349 - mae: 2.1931 - mse: 8.2349 - accuracy: 0.0500\n",
      "Epoch 25/100\n",
      "10/10 [==============================] - 0s 994us/step - loss: 11.1481 - mae: 2.2126 - mse: 11.1481 - accuracy: 0.0500\n",
      "Epoch 26/100\n",
      "10/10 [==============================] - 0s 886us/step - loss: 7.7281 - mae: 2.0163 - mse: 7.7281 - accuracy: 0.1500\n",
      "Epoch 27/100\n",
      "10/10 [==============================] - 0s 998us/step - loss: 8.4863 - mae: 2.2730 - mse: 8.4863 - accuracy: 0.0500\n",
      "Epoch 28/100\n",
      "10/10 [==============================] - 0s 993us/step - loss: 11.3785 - mae: 2.2288 - mse: 11.3785 - accuracy: 0.0500\n",
      "Epoch 29/100\n",
      "10/10 [==============================] - 0s 816us/step - loss: 11.4870 - mae: 2.3183 - mse: 11.4870 - accuracy: 0.1000\n",
      "Epoch 30/100\n",
      "10/10 [==============================] - 0s 1ms/step - loss: 7.6471 - mae: 2.0156 - mse: 7.6471 - accuracy: 0.0500\n",
      "Epoch 31/100\n",
      "10/10 [==============================] - 0s 1ms/step - loss: 7.6187 - mae: 1.9355 - mse: 7.6187 - accuracy: 0.1000\n",
      "Epoch 32/100\n",
      "10/10 [==============================] - 0s 779us/step - loss: 8.4901 - mae: 2.2584 - mse: 8.4901 - accuracy: 0.0000e+00\n",
      "Epoch 33/100\n",
      "10/10 [==============================] - 0s 906us/step - loss: 11.2810 - mae: 2.1476 - mse: 11.2810 - accuracy: 0.1500\n",
      "Epoch 34/100\n",
      "10/10 [==============================] - 0s 887us/step - loss: 8.1316 - mae: 2.0790 - mse: 8.1316 - accuracy: 0.0500\n",
      "Epoch 35/100\n",
      "10/10 [==============================] - 0s 931us/step - loss: 11.6008 - mae: 2.3589 - mse: 11.6008 - accuracy: 0.0500\n",
      "Epoch 36/100\n",
      "10/10 [==============================] - 0s 998us/step - loss: 7.7551 - mae: 2.0387 - mse: 7.7551 - accuracy: 0.0500\n",
      "Epoch 37/100\n",
      "10/10 [==============================] - 0s 997us/step - loss: 11.5058 - mae: 2.4374 - mse: 11.5058 - accuracy: 0.0500\n",
      "Epoch 38/100\n",
      "10/10 [==============================] - 0s 889us/step - loss: 8.0011 - mae: 1.9905 - mse: 8.0011 - accuracy: 0.1500\n",
      "Epoch 39/100\n",
      "10/10 [==============================] - 0s 995us/step - loss: 7.9418 - mae: 2.1183 - mse: 7.9418 - accuracy: 0.0000e+00\n",
      "Epoch 40/100\n",
      "10/10 [==============================] - 0s 997us/step - loss: 12.1342 - mae: 2.3647 - mse: 12.1342 - accuracy: 0.1000\n",
      "Epoch 41/100\n",
      "10/10 [==============================] - 0s 815us/step - loss: 11.9447 - mae: 2.4560 - mse: 11.9447 - accuracy: 0.0500\n",
      "Epoch 42/100\n",
      "10/10 [==============================] - 0s 995us/step - loss: 6.9714 - mae: 1.8478 - mse: 6.9714 - accuracy: 0.1000\n",
      "Epoch 43/100\n",
      "10/10 [==============================] - 0s 882us/step - loss: 7.7358 - mae: 2.0264 - mse: 7.7358 - accuracy: 0.0500\n",
      "Epoch 44/100\n",
      "10/10 [==============================] - 0s 776us/step - loss: 12.1797 - mae: 2.4381 - mse: 12.1797 - accuracy: 0.1000\n",
      "Epoch 45/100\n",
      "10/10 [==============================] - 0s 998us/step - loss: 7.0880 - mae: 1.8395 - mse: 7.0880 - accuracy: 0.1000\n",
      "Epoch 46/100\n",
      "10/10 [==============================] - 0s 890us/step - loss: 8.0663 - mae: 2.0720 - mse: 8.0663 - accuracy: 0.0500\n",
      "Epoch 47/100\n",
      "10/10 [==============================] - 0s 776us/step - loss: 11.2632 - mae: 2.2432 - mse: 11.2632 - accuracy: 0.0500\n",
      "Epoch 48/100\n",
      "10/10 [==============================] - 0s 887us/step - loss: 11.9267 - mae: 2.5232 - mse: 11.9267 - accuracy: 0.0500\n",
      "Epoch 49/100\n",
      "10/10 [==============================] - 0s 858us/step - loss: 7.9860 - mae: 2.1358 - mse: 7.9860 - accuracy: 0.1000\n",
      "Epoch 50/100\n",
      "10/10 [==============================] - 0s 2ms/step - loss: 12.0710 - mae: 2.4859 - mse: 12.0710 - accuracy: 0.1000\n",
      "Epoch 51/100\n",
      "10/10 [==============================] - 0s 887us/step - loss: 7.0359 - mae: 1.8829 - mse: 7.0359 - accuracy: 0.0500\n",
      "Epoch 52/100\n",
      "10/10 [==============================] - 0s 1ms/step - loss: 8.3195 - mae: 2.1477 - mse: 8.3195 - accuracy: 0.1000\n",
      "Epoch 53/100\n",
      "10/10 [==============================] - 0s 776us/step - loss: 11.4137 - mae: 2.2448 - mse: 11.4137 - accuracy: 0.0500\n",
      "Epoch 54/100\n",
      "10/10 [==============================] - 0s 996us/step - loss: 8.0124 - mae: 2.1292 - mse: 8.0124 - accuracy: 0.0500\n",
      "Epoch 55/100\n",
      "10/10 [==============================] - 0s 1ms/step - loss: 7.7571 - mae: 1.9301 - mse: 7.7571 - accuracy: 0.1000\n",
      "Epoch 56/100\n",
      "10/10 [==============================] - 0s 995us/step - loss: 11.8071 - mae: 2.3577 - mse: 11.8071 - accuracy: 0.0500\n",
      "Epoch 57/100\n",
      "10/10 [==============================] - 0s 773us/step - loss: 11.9059 - mae: 2.4576 - mse: 11.9059 - accuracy: 0.0500\n",
      "Epoch 58/100\n",
      "10/10 [==============================] - 0s 1ms/step - loss: 7.9319 - mae: 2.1241 - mse: 7.9319 - accuracy: 0.1000\n",
      "Epoch 59/100\n",
      "10/10 [==============================] - 0s 884us/step - loss: 7.3955 - mae: 1.9237 - mse: 7.3955 - accuracy: 0.1000\n",
      "Epoch 60/100\n",
      "10/10 [==============================] - 0s 776us/step - loss: 6.8863 - mae: 1.7339 - mse: 6.8863 - accuracy: 0.0500\n",
      "Epoch 61/100\n",
      "10/10 [==============================] - 0s 1ms/step - loss: 12.7148 - mae: 2.5206 - mse: 12.7148 - accuracy: 0.0500\n",
      "Epoch 62/100\n",
      "10/10 [==============================] - 0s 776us/step - loss: 12.5671 - mae: 2.5511 - mse: 12.5671 - accuracy: 0.0500\n",
      "Epoch 63/100\n",
      "10/10 [==============================] - 0s 958us/step - loss: 7.3068 - mae: 1.9122 - mse: 7.3068 - accuracy: 0.1000\n",
      "Epoch 64/100\n",
      "10/10 [==============================] - 0s 995us/step - loss: 7.7925 - mae: 2.0500 - mse: 7.7925 - accuracy: 0.0500\n",
      "Epoch 65/100\n",
      "10/10 [==============================] - 0s 776us/step - loss: 11.9154 - mae: 2.4758 - mse: 11.9154 - accuracy: 0.1000\n",
      "Epoch 66/100\n",
      "10/10 [==============================] - 0s 886us/step - loss: 11.2712 - mae: 2.2651 - mse: 11.2712 - accuracy: 0.0500\n",
      "Epoch 67/100\n",
      "10/10 [==============================] - 0s 994us/step - loss: 8.1241 - mae: 2.1265 - mse: 8.1241 - accuracy: 0.0500\n",
      "Epoch 68/100\n",
      "10/10 [==============================] - 0s 775us/step - loss: 8.1823 - mae: 2.1012 - mse: 8.1823 - accuracy: 0.1000\n",
      "Epoch 69/100\n",
      "10/10 [==============================] - 0s 999us/step - loss: 11.1455 - mae: 2.1583 - mse: 11.1455 - accuracy: 0.1000\n",
      "Epoch 70/100\n",
      "10/10 [==============================] - 0s 776us/step - loss: 8.0101 - mae: 2.1103 - mse: 8.0101 - accuracy: 0.0500\n",
      "Epoch 71/100\n",
      "WARNING:tensorflow:Your input ran out of data; interrupting training. Make sure that your dataset or generator can generate at least `steps_per_epoch * epochs` batches (in this case, 1000 batches). You may need to use the repeat() function when building your dataset.\n",
      "10/10 [==============================] - 0s 2ms/step - loss: 8.0101 - mae: 2.1103 - mse: 8.0101 - accuracy: 0.0500\n"
     ]
    },
    {
     "data": {
      "text/plain": [
       "<keras.callbacks.History at 0x23a8a3b5760>"
      ]
     },
     "execution_count": 9,
     "metadata": {},
     "output_type": "execute_result"
    }
   ],
   "source": [
    "# 3. 컴파일과훈련\n",
    "# 메트릭스 안에는 loss 함수를 넣어서 참고할 수 있습니다. 훈련에는 영향을 미치지 않습니다.\n",
    "model.compile(loss=\"mse\" , optimizer=\"adam\",metrics=[\"mae\",\"mse\",\"acc\"])\n",
    "model.fit(x_train,y_train,epochs=100,steps_per_epoch=10)"
   ]
  },
  {
   "cell_type": "code",
   "execution_count": 5,
   "metadata": {},
   "outputs": [
    {
     "name": "stdout",
     "output_type": "stream",
     "text": [
      "1/1 [==============================] - 0s 113ms/step - loss: 14.8944\n",
      "loss :  14.89438533782959\n"
     ]
    },
    {
     "data": {
      "image/png": "[encoded data removed]",
      "text/plain": [
       "<Figure size 640x480 with 1 Axes>"
      ]
     },
     "metadata": {},
     "output_type": "display_data"
    }
   ],
   "source": [
    "loss = model.evaluate(x_test,y_test)\n",
    "print(\"loss : \",loss)\n",
    "\n",
    "\n",
    "import matplotlib.pyplot as plt\n",
    "\n",
    "# 기존 점 뿌리기\n",
    "plt.scatter(x,y,color= \"black\")\n",
    "# 예측함수 그려서 \n",
    "y_predict= model.predict(x)\n",
    "plt.plot(x,y_predict,color = \"red\")\n",
    "# plt.show() 보여주기\n",
    "plt.show()"
   ]
  },
  {
   "cell_type": "code",
   "execution_count": 6,
   "metadata": {},
   "outputs": [
    {
     "data": {
      "text/plain": [
       "array([[1.5524449]], dtype=float32)"
      ]
     },
     "execution_count": 6,
     "metadata": {},
     "output_type": "execute_result"
    }
   ],
   "source": [
    "model.predict([1])"
   ]
  }
 ],
 "metadata": {
  "kernelspec": {
   "display_name": "tf27",
   "language": "python",
   "name": "python3"
  },
  "language_info": {
   "codemirror_mode": {
    "name": "ipython",
    "version": 3
   },
   "file_extension": ".py",
   "mimetype": "text/x-python",
   "name": "python",
   "nbconvert_exporter": "python",
   "pygments_lexer": "ipython3",
   "version": "3.9.7"
  },
  "orig_nbformat": 4,
  "vscode": {
   "interpreter": {
    "hash": "b47fb4e6c68d4941015efb0bbf71549277582fe8531338196fc3c7fa71b6aab8"
   }
  }
 },
 "nbformat": 4,
 "nbformat_minor": 2
}
