{
 "cells": [
  {
   "cell_type": "code",
   "execution_count": null,
   "metadata": {},
   "outputs": [],
   "source": []
  },
  {
   "cell_type": "code",
   "execution_count": 32,
   "metadata": {},
   "outputs": [
    {
     "name": "stdout",
     "output_type": "stream",
     "text": [
      "2.7.4\n"
     ]
    }
   ],
   "source": [
    "# 필수 라이브러리 임포트하기(가독성이 좋음)\n",
    "import numpy as np \n",
    "import tensorflow as tf\n",
    "from tensorflow.keras.models import Sequential\n",
    "from tensorflow.keras.layers import Dense\n",
    "\n",
    "print(tf.__version__)"
   ]
  },
  {
   "cell_type": "code",
   "execution_count": 33,
   "metadata": {},
   "outputs": [],
   "source": [
    "# 1. 데이터 준비\n",
    "x = np.array([1,2,3,4,5]) \n",
    "y = np.array([1,2,3,4,5]) \n",
    "# shift + del = 라인 삭제"
   ]
  },
  {
   "cell_type": "code",
   "execution_count": 34,
   "metadata": {},
   "outputs": [],
   "source": [
    "model = Sequential(\n",
    "# 인풋 레이어 안에 노드의 계수 레이어의 개수 를 조절 할 수 있습니다.\n",
    "[   \n",
    "    Dense(3,input_dim=1),\n",
    "    Dense(4),\n",
    "    Dense(5),\n",
    "    Dense(6),\n",
    "    Dense(5),\n",
    "    Dense(4),\n",
    "    Dense(3),\n",
    "    Dense(2),\n",
    "    Dense(1)\n",
    "]\n",
    ")\n",
    "\n"
   ]
  },
  {
   "cell_type": "code",
   "execution_count": 35,
   "metadata": {},
   "outputs": [
    {
     "name": "stdout",
     "output_type": "stream",
     "text": [
      "Epoch 1/100\n",
      "100/100 [==============================] - 0s 711us/step - loss: 3.0352\n",
      "Epoch 2/100\n",
      "100/100 [==============================] - 0s 718us/step - loss: 0.3867\n",
      "Epoch 3/100\n",
      "100/100 [==============================] - 0s 690us/step - loss: 0.1534\n",
      "Epoch 4/100\n",
      "100/100 [==============================] - 0s 724us/step - loss: 0.0542\n",
      "Epoch 5/100\n",
      "100/100 [==============================] - 0s 709us/step - loss: 0.0385\n",
      "Epoch 6/100\n",
      "WARNING:tensorflow:Your input ran out of data; interrupting training. Make sure that your dataset or generator can generate at least `steps_per_epoch * epochs` batches (in this case, 10000 batches). You may need to use the repeat() function when building your dataset.\n",
      "100/100 [==============================] - 0s 160us/step - loss: 0.0385\n"
     ]
    },
    {
     "data": {
      "text/plain": [
       "<keras.callbacks.History at 0x1fd988df370>"
      ]
     },
     "execution_count": 35,
     "metadata": {},
     "output_type": "execute_result"
    }
   ],
   "source": [
    "model.compile(loss=\"mae\",optimizer=\"adam\")\n",
    "# 3. 모델 학습진행\n",
    "model.fit(x,y, epochs=100,steps_per_epoch=100)"
   ]
  },
  {
   "cell_type": "code",
   "execution_count": 37,
   "metadata": {},
   "outputs": [
    {
     "name": "stdout",
     "output_type": "stream",
     "text": [
      "[[6.076714]]\n"
     ]
    }
   ],
   "source": [
    "print(model.predict([6]))"
   ]
  },
  {
   "cell_type": "code",
   "execution_count": 2,
   "metadata": {},
   "outputs": [
    {
     "name": "stdout",
     "output_type": "stream",
     "text": [
      "Requirement already satisfied: nbconvert in c:\\users\\bitcamp\\anaconda3\\envs\\tf27\\lib\\site-packages (6.5.4)\n",
      "Requirement already satisfied: bleach in c:\\users\\bitcamp\\anaconda3\\envs\\tf27\\lib\\site-packages (from nbconvert) (4.1.0)\n",
      "Requirement already satisfied: lxml in c:\\users\\bitcamp\\anaconda3\\envs\\tf27\\lib\\site-packages (from nbconvert) (4.9.1)\n",
      "Requirement already satisfied: pygments>=2.4.1 in c:\\users\\bitcamp\\anaconda3\\envs\\tf27\\lib\\site-packages (from nbconvert) (2.11.2)\n",
      "Requirement already satisfied: jupyter-core>=4.7 in c:\\users\\bitcamp\\anaconda3\\envs\\tf27\\lib\\site-packages (from nbconvert) (5.1.1)\n",
      "Requirement already satisfied: entrypoints>=0.2.2 in c:\\users\\bitcamp\\anaconda3\\envs\\tf27\\lib\\site-packages (from nbconvert) (0.4)\n",
      "Requirement already satisfied: defusedxml in c:\\users\\bitcamp\\anaconda3\\envs\\tf27\\lib\\site-packages (from nbconvert) (0.7.1)\n",
      "Requirement already satisfied: jinja2>=3.0 in c:\\users\\bitcamp\\anaconda3\\envs\\tf27\\lib\\site-packages (from nbconvert) (3.1.2)\n",
      "Requirement already satisfied: MarkupSafe>=2.0 in c:\\users\\bitcamp\\anaconda3\\envs\\tf27\\lib\\site-packages (from nbconvert) (2.1.1)\n",
      "Requirement already satisfied: nbclient>=0.5.0 in c:\\users\\bitcamp\\anaconda3\\envs\\tf27\\lib\\site-packages (from nbconvert) (0.5.13)\n",
      "Requirement already satisfied: mistune<2,>=0.8.1 in c:\\users\\bitcamp\\anaconda3\\envs\\tf27\\lib\\site-packages (from nbconvert) (0.8.4)\n",
      "Requirement already satisfied: packaging in c:\\users\\bitcamp\\anaconda3\\envs\\tf27\\lib\\site-packages (from nbconvert) (22.0)\n",
      "Requirement already satisfied: beautifulsoup4 in c:\\users\\bitcamp\\anaconda3\\envs\\tf27\\lib\\site-packages (from nbconvert) (4.11.1)\n",
      "Requirement already satisfied: nbformat>=5.1 in c:\\users\\bitcamp\\anaconda3\\envs\\tf27\\lib\\site-packages (from nbconvert) (5.7.0)\n",
      "Requirement already satisfied: tinycss2 in c:\\users\\bitcamp\\anaconda3\\envs\\tf27\\lib\\site-packages (from nbconvert) (1.2.1)\n",
      "Requirement already satisfied: jupyterlab-pygments in c:\\users\\bitcamp\\anaconda3\\envs\\tf27\\lib\\site-packages (from nbconvert) (0.1.2)\n",
      "Requirement already satisfied: traitlets>=5.0 in c:\\users\\bitcamp\\anaconda3\\envs\\tf27\\lib\\site-packages (from nbconvert) (5.7.1)\n",
      "Requirement already satisfied: pandocfilters>=1.4.1 in c:\\users\\bitcamp\\anaconda3\\envs\\tf27\\lib\\site-packages (from nbconvert) (1.5.0)\n",
      "Requirement already satisfied: pywin32>=1.0 in c:\\users\\bitcamp\\anaconda3\\envs\\tf27\\lib\\site-packages (from jupyter-core>=4.7->nbconvert) (305.1)\n",
      "Requirement already satisfied: platformdirs>=2.5 in c:\\users\\bitcamp\\anaconda3\\envs\\tf27\\lib\\site-packages (from jupyter-core>=4.7->nbconvert) (2.5.2)\n",
      "Requirement already satisfied: nest-asyncio in c:\\users\\bitcamp\\anaconda3\\envs\\tf27\\lib\\site-packages (from nbclient>=0.5.0->nbconvert) (1.5.6)\n",
      "Requirement already satisfied: jupyter-client>=6.1.5 in c:\\users\\bitcamp\\anaconda3\\envs\\tf27\\lib\\site-packages (from nbclient>=0.5.0->nbconvert) (7.4.8)\n",
      "Requirement already satisfied: jsonschema>=2.6 in c:\\users\\bitcamp\\anaconda3\\envs\\tf27\\lib\\site-packages (from nbformat>=5.1->nbconvert) (4.16.0)\n",
      "Requirement already satisfied: fastjsonschema in c:\\users\\bitcamp\\anaconda3\\envs\\tf27\\lib\\site-packages (from nbformat>=5.1->nbconvert) (2.16.2)\n",
      "Requirement already satisfied: soupsieve>1.2 in c:\\users\\bitcamp\\anaconda3\\envs\\tf27\\lib\\site-packages (from beautifulsoup4->nbconvert) (2.3.2.post1)\n",
      "Requirement already satisfied: six>=1.9.0 in c:\\users\\bitcamp\\anaconda3\\envs\\tf27\\lib\\site-packages (from bleach->nbconvert) (1.16.0)\n",
      "Requirement already satisfied: webencodings in c:\\users\\bitcamp\\anaconda3\\envs\\tf27\\lib\\site-packages (from bleach->nbconvert) (0.5.1)\n",
      "Requirement already satisfied: attrs>=17.4.0 in c:\\users\\bitcamp\\anaconda3\\envs\\tf27\\lib\\site-packages (from jsonschema>=2.6->nbformat>=5.1->nbconvert) (22.1.0)\n",
      "Requirement already satisfied: pyrsistent!=0.17.0,!=0.17.1,!=0.17.2,>=0.14.0 in c:\\users\\bitcamp\\anaconda3\\envs\\tf27\\lib\\site-packages (from jsonschema>=2.6->nbformat>=5.1->nbconvert) (0.18.0)\n",
      "Requirement already satisfied: python-dateutil>=2.8.2 in c:\\users\\bitcamp\\anaconda3\\envs\\tf27\\lib\\site-packages (from jupyter-client>=6.1.5->nbclient>=0.5.0->nbconvert) (2.8.2)\n",
      "Requirement already satisfied: tornado>=6.2 in c:\\users\\bitcamp\\anaconda3\\envs\\tf27\\lib\\site-packages (from jupyter-client>=6.1.5->nbclient>=0.5.0->nbconvert) (6.2)\n",
      "Requirement already satisfied: pyzmq>=23.0 in c:\\users\\bitcamp\\anaconda3\\envs\\tf27\\lib\\site-packages (from jupyter-client>=6.1.5->nbclient>=0.5.0->nbconvert) (23.2.0)\n"
     ]
    }
   ],
   "source": [
    "!pip install nbconvert"
   ]
  },
  {
   "cell_type": "code",
   "execution_count": 4,
   "metadata": {},
   "outputs": [
    {
     "name": "stderr",
     "output_type": "stream",
     "text": [
      "[NbConvertApp] Converting notebook keras04_deep.ipynb to script\n",
      "[NbConvertApp] Writing 716 bytes to keras04_deep.py\n"
     ]
    }
   ],
   "source": [
    "!jupyter nbconvert --to script keras04_deep.ipynb\n"
   ]
  }
 ],
 "metadata": {
  "kernelspec": {
   "display_name": "tf27",
   "language": "python",
   "name": "python3"
  },
  "language_info": {
   "codemirror_mode": {
    "name": "ipython",
    "version": 3
   },
   "file_extension": ".py",
   "mimetype": "text/x-python",
   "name": "python",
   "nbconvert_exporter": "python",
   "pygments_lexer": "ipython3",
   "version": "3.9.7 (default, Sep 16 2021, 16:59:28) [MSC v.1916 64 bit (AMD64)]"
  },
  "orig_nbformat": 4,
  "vscode": {
   "interpreter": {
    "hash": "b47fb4e6c68d4941015efb0bbf71549277582fe8531338196fc3c7fa71b6aab8"
   }
  }
 },
 "nbformat": 4,
 "nbformat_minor": 2
}
