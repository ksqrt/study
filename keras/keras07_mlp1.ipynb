{
 "cells": [
  {
   "cell_type": "code",
   "execution_count": 65,
   "metadata": {},
   "outputs": [],
   "source": [
    "import numpy as np\n",
    "import tensorflow as tf\n",
    "from tensorflow.keras.models import Sequential\n",
    "from tensorflow.keras.layers import Dense\n",
    "\n"
   ]
  },
  {
   "cell_type": "code",
   "execution_count": 66,
   "metadata": {},
   "outputs": [
    {
     "name": "stdout",
     "output_type": "stream",
     "text": [
      "(2, 10)\n",
      "[[ 1.   2.   3.   4.   5.   6.   7.   8.   9.  10. ]\n",
      " [ 1.   1.   1.   1.   2.   1.3  1.4  1.5  1.6  1.4]]\n",
      "(10, 2)\n",
      "[[ 1.   1. ]\n",
      " [ 2.   1. ]\n",
      " [ 3.   1. ]\n",
      " [ 4.   1. ]\n",
      " [ 5.   2. ]\n",
      " [ 6.   1.3]\n",
      " [ 7.   1.4]\n",
      " [ 8.   1.5]\n",
      " [ 9.   1.6]\n",
      " [10.   1.4]]\n",
      "(10,)\n",
      "[ 2  4  6  8 10 12 14 16 18 20]\n"
     ]
    }
   ],
   "source": [
    "# 1. 데이터 준비\n",
    "\n",
    "x = np.array([[i for i in range(1,11,1)],\n",
    "             [1,1,1,1,2,1.3,1.4,1.5,1.6,1.4]])\n",
    "y = np.array([i for i in range(2,22,2)])\n",
    "\n",
    "# 넘파이 행렬의 매트릭스 구조 나옴\n",
    "\n",
    "print(x.shape)\n",
    "print(x)\n",
    "# 전치행렬만들기!\n",
    "x = x.T \n",
    "print(x.shape)\n",
    "print(x)\n",
    "print(y.shape)\n",
    "print(y)"
   ]
  },
  {
   "cell_type": "code",
   "execution_count": 67,
   "metadata": {},
   "outputs": [],
   "source": [
    "# 2. 모델구성\n",
    "\n",
    "model = Sequential(\n",
    "    [\n",
    "        # input dim 은 열의 개수\n",
    "        # 행 무시 열 우선 \n",
    "        # 열 = 피쳐 , 특성 ,칼럼 \n",
    "        Dense(5,input_dim=2),\n",
    "        Dense(4),\n",
    "        Dense(3),\n",
    "        Dense(2),\n",
    "        Dense(1),\n",
    "     ]\n",
    ")\n",
    "\n"
   ]
  },
  {
   "cell_type": "code",
   "execution_count": 68,
   "metadata": {},
   "outputs": [
    {
     "name": "stdout",
     "output_type": "stream",
     "text": [
      "Epoch 1/100\n",
      "100/100 [==============================] - 0s 605us/step - loss: 10.8247\n",
      "Epoch 2/100\n",
      "100/100 [==============================] - 0s 577us/step - loss: 1.3429\n",
      "Epoch 3/100\n",
      "WARNING:tensorflow:Your input ran out of data; interrupting training. Make sure that your dataset or generator can generate at least `steps_per_epoch * epochs` batches (in this case, 10000 batches). You may need to use the repeat() function when building your dataset.\n",
      "100/100 [==============================] - 0s 180us/step - loss: 1.3429\n"
     ]
    },
    {
     "data": {
      "text/plain": [
       "<keras.callbacks.History at 0x1ae907ecfd0>"
      ]
     },
     "execution_count": 68,
     "metadata": {},
     "output_type": "execute_result"
    }
   ],
   "source": [
    "# 3. 컴파일 훈련\n",
    "model.compile(loss=\"mae\",optimizer=\"adam\")\n",
    "model.fit(x,y,epochs =100,steps_per_epoch=100 ,batch_size=5)"
   ]
  },
  {
   "cell_type": "code",
   "execution_count": 69,
   "metadata": {},
   "outputs": [
    {
     "name": "stdout",
     "output_type": "stream",
     "text": [
      "1/1 [==============================] - 0s 61ms/step - loss: 0.8659\n"
     ]
    }
   ],
   "source": [
    "# 평가\n",
    "loss = model.evaluate(x,y)\n"
   ]
  },
  {
   "cell_type": "code",
   "execution_count": 71,
   "metadata": {},
   "outputs": [
    {
     "name": "stdout",
     "output_type": "stream",
     "text": [
      "10,1.4 의 예측값 :  [[18.893631]]\n"
     ]
    }
   ],
   "source": [
    "result = model.predict([[10,1.4]])\n",
    "print(\"10,1.4 의 예측값 : \",(result))"
   ]
  }
 ],
 "metadata": {
  "kernelspec": {
   "display_name": "tf27",
   "language": "python",
   "name": "python3"
  },
  "language_info": {
   "codemirror_mode": {
    "name": "ipython",
    "version": 3
   },
   "file_extension": ".py",
   "mimetype": "text/x-python",
   "name": "python",
   "nbconvert_exporter": "python",
   "pygments_lexer": "ipython3",
   "version": "3.9.7 (default, Sep 16 2021, 16:59:28) [MSC v.1916 64 bit (AMD64)]"
  },
  "orig_nbformat": 4,
  "vscode": {
   "interpreter": {
    "hash": "b47fb4e6c68d4941015efb0bbf71549277582fe8531338196fc3c7fa71b6aab8"
   }
  }
 },
 "nbformat": 4,
 "nbformat_minor": 2
}
