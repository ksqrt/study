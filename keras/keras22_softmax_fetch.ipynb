{
 "cells": [
  {
   "cell_type": "code",
   "execution_count": 145,
   "metadata": {},
   "outputs": [],
   "source": [
    "from sklearn.datasets import fetch_covtype\n",
    "import numpy as np\n",
    "import pandas as pd\n",
    "import tensorflow as tf\n",
    "from tensorflow.keras.utils import to_categorical\n",
    "from tensorflow.keras.models import Sequential\n",
    "from tensorflow.keras.layers import Dense,Dropout\n",
    "from sklearn.model_selection import train_test_split\n",
    "from sklearn.metrics import mean_squared_error, r2_score\n",
    "# 1. 데이터 \n",
    "datasets = (fetch_covtype())\n",
    "\n",
    "x = pd.DataFrame(datasets[\"data\"])\n",
    "y = pd.DataFrame(datasets[\"target\"])\n"
   ]
  },
  {
   "cell_type": "code",
   "execution_count": 146,
   "metadata": {},
   "outputs": [
    {
     "name": "stdout",
     "output_type": "stream",
     "text": [
      "(581012, 54) (581012, 1)\n",
      "[1 2 3 4 5 6 7]\n",
      "(array([1, 2, 3, 4, 5, 6, 7]), array([211840, 283301,  35754,   2747,   9493,  17367,  20510],\n",
      "      dtype=int64))\n"
     ]
    }
   ],
   "source": [
    "print(x.shape,y.shape) \n",
    "\n",
    "print(np.unique(y)) # [0 1 2 3 4 5 6 7 8 9]\n",
    "# 불균형확인\n",
    "print(np.unique(y,return_counts=True)) # [0 1 2]\n",
    "\n"
   ]
  },
  {
   "cell_type": "code",
   "execution_count": 147,
   "metadata": {},
   "outputs": [
    {
     "name": "stdout",
     "output_type": "stream",
     "text": [
      "tf.Tensor(\n",
      "[[0. 0. 1. 0. 0. 0. 0.]\n",
      " [0. 1. 0. 0. 0. 0. 0.]\n",
      " [0. 1. 0. 0. 0. 0. 0.]\n",
      " [0. 0. 1. 0. 0. 0. 0.]\n",
      " [0. 1. 0. 0. 0. 0. 0.]\n",
      " [0. 0. 1. 0. 0. 0. 0.]\n",
      " [0. 0. 1. 0. 0. 0. 0.]\n",
      " [0. 0. 1. 0. 0. 0. 0.]\n",
      " [0. 1. 0. 0. 0. 0. 0.]\n",
      " [0. 1. 0. 0. 0. 0. 0.]], shape=(10, 7), dtype=float32)\n",
      "shape :  (464809, 54)\n",
      "shape :  (464809, 7)\n"
     ]
    }
   ],
   "source": [
    "# print(x.info())\n",
    "# print(x.describe())\n",
    "# 데이터 분리\n",
    "x_train, x_test, y_train,y_test = train_test_split(\n",
    "                                                    x,\n",
    "                                                    y,\n",
    "                                                    train_size=0.8,\n",
    "                                                    shuffle = True,\n",
    "                                                    #  stratify 는 데이터 불균형을 해결해줌\n",
    "                                                    stratify=y,\n",
    "                                                    random_state=21\n",
    "                                                   )\n",
    "# print(x.columns)\n",
    "# y 의 첫번째 칼럼을 원핫 인코딩 변환\n",
    "y_train = tf.one_hot(y_train[0],depth =7)\n",
    "y_test = tf.one_hot(y_test[0],depth= 7)\n",
    "\n",
    "\n",
    "print(y_train[:10])\n",
    "print(\"shape : \",x_train.shape)\n",
    "print(\"shape : \",y_train.shape)"
   ]
  },
  {
   "cell_type": "code",
   "execution_count": 148,
   "metadata": {},
   "outputs": [],
   "source": [
    "model = Sequential([\n",
    "    Dense(10,activation=\"relu\",input_shape=(54,)),\n",
    "    Dense(10,activation=\"relu\") ,\n",
    "    Dense(10,activation=\"relu\") ,\n",
    "    Dense(10,activation=\"relu\") ,\n",
    "    Dense(10,activation=\"relu\") ,\n",
    "    Dense(10,activation=\"relu\") ,\n",
    "    # 다중분류모델의 활성화 함수는 softmax 입니다\n",
    "    Dense(7,activation=\"softmax\")\n",
    "])"
   ]
  },
  {
   "cell_type": "code",
   "execution_count": 149,
   "metadata": {},
   "outputs": [
    {
     "name": "stdout",
     "output_type": "stream",
     "text": [
      "Epoch 1/10\n",
      "100/100 [==============================] - 5s 51ms/step - loss: 35.2963 - accuracy: 0.3035 - val_loss: 2.7309 - val_accuracy: 0.4106\n",
      "Epoch 2/10\n",
      "100/100 [==============================] - 5s 52ms/step - loss: 1.8522 - accuracy: 0.4274 - val_loss: 1.3296 - val_accuracy: 0.4592\n",
      "Epoch 3/10\n",
      "100/100 [==============================] - 5s 51ms/step - loss: 1.1594 - accuracy: 0.4684 - val_loss: 1.0624 - val_accuracy: 0.4778\n",
      "Epoch 4/10\n",
      "100/100 [==============================] - 5s 52ms/step - loss: 1.0559 - accuracy: 0.4622 - val_loss: 1.0337 - val_accuracy: 0.4547\n",
      "Epoch 5/10\n",
      "100/100 [==============================] - 5s 53ms/step - loss: 1.0122 - accuracy: 0.4816 - val_loss: 0.9995 - val_accuracy: 0.4917\n",
      "Epoch 6/10\n",
      "100/100 [==============================] - 5s 55ms/step - loss: 0.9897 - accuracy: 0.4893 - val_loss: 0.9856 - val_accuracy: 0.4877\n",
      "Epoch 7/10\n",
      "100/100 [==============================] - 5s 55ms/step - loss: 0.9801 - accuracy: 0.4893 - val_loss: 0.9781 - val_accuracy: 0.4880\n",
      "Epoch 8/10\n",
      "100/100 [==============================] - 5s 53ms/step - loss: 0.9764 - accuracy: 0.4895 - val_loss: 0.9731 - val_accuracy: 0.4888\n",
      "Epoch 9/10\n",
      "100/100 [==============================] - 5s 55ms/step - loss: 0.9665 - accuracy: 0.4928 - val_loss: 0.9622 - val_accuracy: 0.4941\n",
      "Epoch 10/10\n",
      "100/100 [==============================] - 5s 54ms/step - loss: 0.9559 - accuracy: 0.4969 - val_loss: 0.9537 - val_accuracy: 0.4965\n"
     ]
    }
   ],
   "source": [
    "# 이진분류는 마지막 활성함수는 sigmoid + loss 는 바이너리 크로스 엔트로피 \n",
    "from keras.callbacks import EarlyStopping\n",
    "\n",
    "early_stopping = EarlyStopping(\n",
    "monitor='val_loss',\n",
    "patience=5, \n",
    "verbose=1, \n",
    "mode='min')\n",
    "\n",
    "# 훈련값이 int 형이기 때문에 sparse 를 사용합니다.\n",
    "model.compile(loss=\"categorical_crossentropy\"\n",
    "              ,optimizer=\"adam\"\n",
    "              ,metrics=[\"accuracy\"]\n",
    "              )\n",
    "\n",
    "hist = model.fit(x_train, y_train, epochs=10, steps_per_epoch=100, \n",
    "                 validation_split=0.2,\n",
    "                 callbacks = [early_stopping])\n",
    "\n",
    "# metrics 에 accuracy 사용가능\n"
   ]
  },
  {
   "cell_type": "code",
   "execution_count": 150,
   "metadata": {},
   "outputs": [
    {
     "name": "stdout",
     "output_type": "stream",
     "text": [
      "3632/3632 [==============================] - 8s 2ms/step - loss: 0.9510 - accuracy: 0.4978\n",
      "loss: 0.9510359168052673 \n",
      "acc : 0.49780985713005066\n"
     ]
    }
   ],
   "source": [
    "loss,accuracy = model.evaluate(x_test,y_test)\n",
    "\n",
    "print(\"loss:\",loss,\"\\nacc :\" ,accuracy)\n"
   ]
  },
  {
   "cell_type": "code",
   "execution_count": 151,
   "metadata": {},
   "outputs": [
    {
     "name": "stdout",
     "output_type": "stream",
     "text": [
      "[[8.4956009e-05 4.1742250e-01 4.6086648e-01 7.3817238e-02 8.5857613e-03\n",
      "  1.3186605e-02 2.6036400e-02]\n",
      " [7.0084876e-05 4.2078477e-01 4.6429074e-01 6.9990925e-02 7.8643477e-03\n",
      "  1.2407038e-02 2.4592085e-02]\n",
      " [4.4785684e-05 4.2805049e-01 4.7130290e-01 6.2019665e-02 6.4045708e-03\n",
      "  1.0687955e-02 2.1489646e-02]\n",
      " [4.0822888e-06 4.5592448e-01 4.9472198e-01 3.2464188e-02 2.1014467e-03\n",
      "  4.5842924e-03 1.0199519e-02]\n",
      " [2.2161343e-13 4.0137538e-01 5.8253008e-01 1.3788485e-03 2.2942149e-03\n",
      "  5.9945253e-03 6.4268946e-03]]\n",
      "[2 2 2 2 2]\n",
      "[1 2 1 1 2]\n",
      "========================================\n",
      "0.49780986721513215\n"
     ]
    }
   ],
   "source": [
    "from sklearn.metrics import accuracy_score\n",
    "y_predict = model.predict(x_test)\n",
    "\n",
    "# predict 의 값은 총 3개가 나오는데 softmax 특성상 sum 의 값은 1이 됨\n",
    "print(y_predict[:5])\n",
    "\n",
    "# argmax 는 x 를 최대값으로 만들어주는 입력을 구하는함수\n",
    "y_predict = np.argmax(y_predict,axis=1)\n",
    "# y_predict = to_categorical(y_predict,3)\n",
    "print(y_predict[:5])\n",
    "# y_test 를 원핫 인코딩 해제 해야함\n",
    "y_test = np.argmax(y_test,axis=1)\n",
    "print(y_test[:5])\n",
    "\n",
    "print\n",
    "print(\"========================================\")\n",
    "acc = accuracy_score(y_test,y_predict)\n",
    "print(acc)"
   ]
  }
 ],
 "metadata": {
  "kernelspec": {
   "display_name": "tf274gpu",
   "language": "python",
   "name": "python3"
  },
  "language_info": {
   "codemirror_mode": {
    "name": "ipython",
    "version": 3
   },
   "file_extension": ".py",
   "mimetype": "text/x-python",
   "name": "python",
   "nbconvert_exporter": "python",
   "pygments_lexer": "ipython3",
   "version": "3.9.15"
  },
  "orig_nbformat": 4,
  "vscode": {
   "interpreter": {
    "hash": "10848e9bd3f5e7d93542d388001135334854454e7336dcf54c4ef52885ee0fb0"
   }
  }
 },
 "nbformat": 4,
 "nbformat_minor": 2
}
