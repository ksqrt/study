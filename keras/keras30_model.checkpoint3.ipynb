{
 "cells": [
  {
   "cell_type": "code",
   "execution_count": 14,
   "metadata": {},
   "outputs": [
    {
     "name": "stderr",
     "output_type": "stream",
     "text": [
      "c:\\Users\\bitcamp\\anaconda3\\envs\\tf274gpu\\lib\\site-packages\\sklearn\\utils\\deprecation.py:87: FutureWarning: Function load_boston is deprecated; `load_boston` is deprecated in 1.0 and will be removed in 1.2.\n",
      "\n",
      "    The Boston housing prices dataset has an ethical problem. You can refer to\n",
      "    the documentation of this function for further details.\n",
      "\n",
      "    The scikit-learn maintainers therefore strongly discourage the use of this\n",
      "    dataset unless the purpose of the code is to study and educate about\n",
      "    ethical issues in data science and machine learning.\n",
      "\n",
      "    In this special case, you can fetch the dataset from the original\n",
      "    source::\n",
      "\n",
      "        import pandas as pd\n",
      "        import numpy as np\n",
      "\n",
      "        data_url = \"http://lib.stat.cmu.edu/datasets/boston\"\n",
      "        raw_df = pd.read_csv(data_url, sep=\"\\s+\", skiprows=22, header=None)\n",
      "        data = np.hstack([raw_df.values[::2, :], raw_df.values[1::2, :2]])\n",
      "        target = raw_df.values[1::2, 2]\n",
      "\n",
      "    Alternative datasets include the California housing dataset (i.e.\n",
      "    :func:`~sklearn.datasets.fetch_california_housing`) and the Ames housing\n",
      "    dataset. You can load the datasets as follows::\n",
      "\n",
      "        from sklearn.datasets import fetch_california_housing\n",
      "        housing = fetch_california_housing()\n",
      "\n",
      "    for the California housing dataset and::\n",
      "\n",
      "        from sklearn.datasets import fetch_openml\n",
      "        housing = fetch_openml(name=\"house_prices\", as_frame=True)\n",
      "\n",
      "    for the Ames housing dataset.\n",
      "  warnings.warn(msg, category=FutureWarning)\n"
     ]
    }
   ],
   "source": [
    "from sklearn.datasets import load_boston\n",
    "import numpy as np\n",
    "import pandas as pd\n",
    "import tensorflow as tf\n",
    "from tensorflow.keras.models import Sequential,Model,load_model\n",
    "from tensorflow.keras.layers import Dense\n",
    "from sklearn.model_selection import train_test_split\n",
    "from sklearn.preprocessing import MinMaxScaler,StandardScaler\n",
    "import sklearn as sk\n",
    "dataset = load_boston()"
   ]
  },
  {
   "cell_type": "code",
   "execution_count": 15,
   "metadata": {},
   "outputs": [],
   "source": [
    "x = dataset.data\n",
    "y = dataset.target\n",
    "x= pd.DataFrame(x)\n",
    "# print(\"x 최솟값 : \",np.min(x))\n",
    "# print(\"x 최댓값 : \",np.max(x))"
   ]
  },
  {
   "cell_type": "code",
   "execution_count": 16,
   "metadata": {},
   "outputs": [
    {
     "name": "stdout",
     "output_type": "stream",
     "text": [
      "x 최솟값 :  -3.9071933049810337\n",
      "x 최댓값 :  9.933930601860268\n"
     ]
    }
   ],
   "source": [
    "# 스케일링 하기\n",
    "scaler = StandardScaler()\n",
    "# 가중치 생성후\n",
    "scaler.fit(x)\n",
    "# 변환\n",
    "x = scaler.transform(x)\n",
    "print(\"x 최솟값 : \",np.min(x))\n",
    "print(\"x 최댓값 : \",np.max(x))"
   ]
  },
  {
   "cell_type": "code",
   "execution_count": 17,
   "metadata": {},
   "outputs": [
    {
     "name": "stdout",
     "output_type": "stream",
     "text": [
      "354\n",
      "152\n"
     ]
    }
   ],
   "source": [
    "# 3. 모델구성\n",
    "# 실습 train 0.7 이상\n",
    "# 평가지표 R2 : 0.8 이상으로 뽑아내보기 / RMSE 사용\n",
    "\n",
    "x_train, x_test,y_train,y_test = train_test_split(x,y,\n",
    "    train_size=0.7,\n",
    "    shuffle = True,\n",
    "    random_state= 123\n",
    ")\n",
    "\n",
    "print(len(x_train))\n",
    "print(len(x_test))"
   ]
  },
  {
   "cell_type": "code",
   "execution_count": 18,
   "metadata": {},
   "outputs": [
    {
     "name": "stdout",
     "output_type": "stream",
     "text": [
      "(506, 13)\n",
      "(506,)\n"
     ]
    }
   ],
   "source": [
    "# 13개의 칼럼 을 가지고있는 데이터를 조회합니다\n",
    "print(x.shape) #(506,13)\n",
    "# print(x)\n",
    "print(y.shape) #(506,)\n",
    "# print(y)\n"
   ]
  },
  {
   "cell_type": "code",
   "execution_count": 19,
   "metadata": {},
   "outputs": [
    {
     "name": "stdout",
     "output_type": "stream",
     "text": [
      "['CRIM' 'ZN' 'INDUS' 'CHAS' 'NOX' 'RM' 'AGE' 'DIS' 'RAD' 'TAX' 'PTRATIO'\n",
      " 'B' 'LSTAT']\n",
      "13\n"
     ]
    }
   ],
   "source": [
    "# 사이킥 런의 칼럼 조회기능\n",
    "print(dataset.feature_names)\n",
    "print(len(dataset.feature_names))\n"
   ]
  },
  {
   "cell_type": "code",
   "execution_count": 20,
   "metadata": {},
   "outputs": [],
   "source": [
    "# 사이킥런의 데이터 요약\n",
    "# print(dataset.DESCR)"
   ]
  },
  {
   "cell_type": "code",
   "execution_count": 21,
   "metadata": {},
   "outputs": [
    {
     "name": "stdout",
     "output_type": "stream",
     "text": [
      "354\n",
      "152\n"
     ]
    }
   ],
   "source": [
    "# 3. 모델구성\n",
    "# 실습 train 0.7 이상\n",
    "# 평가지표 R2 : 0.8 이상으로 뽑아내보기 / RMSE 사용\n",
    "\n",
    "x_train, x_test,y_train,y_test = train_test_split(x,y,\n",
    "    train_size=0.7,\n",
    "    shuffle = True,\n",
    "    random_state= 123\n",
    ")\n",
    "\n",
    "scaler = MinMaxScaler()\n",
    "# 가중치 생성후\n",
    "scaler.fit(x_train)\n",
    "# x_train 의 가중치 변환\n",
    "x_train = scaler.transform(x_train)\n",
    "# x_test 는 변환만 !\n",
    "x_test = scaler.transform(x_test)\n",
    "\n",
    "print(len(x_train))\n",
    "print(len(x_test))"
   ]
  },
  {
   "cell_type": "code",
   "execution_count": 22,
   "metadata": {},
   "outputs": [
    {
     "name": "stdout",
     "output_type": "stream",
     "text": [
      "Model: \"sequential_1\"\n",
      "_________________________________________________________________\n",
      " Layer (type)                Output Shape              Param #   \n",
      "=================================================================\n",
      " dense_6 (Dense)             (None, 50)                700       \n",
      "                                                                 \n",
      " dense_7 (Dense)             (None, 50)                2550      \n",
      "                                                                 \n",
      " dense_8 (Dense)             (None, 50)                2550      \n",
      "                                                                 \n",
      " dense_9 (Dense)             (None, 50)                2550      \n",
      "                                                                 \n",
      " dense_10 (Dense)            (None, 50)                2550      \n",
      "                                                                 \n",
      " dense_11 (Dense)            (None, 1)                 51        \n",
      "                                                                 \n",
      "=================================================================\n",
      "Total params: 10,951\n",
      "Trainable params: 10,951\n",
      "Non-trainable params: 0\n",
      "_________________________________________________________________\n"
     ]
    }
   ],
   "source": [
    "from tensorflow.keras.models import Sequential,Model\n",
    "from tensorflow.keras.layers import Dense,Input\n",
    "# path = \"../_save/\"\n",
    "# model = load_model(path+\"MCP/keras30_ModelCheckPoint1.hdf5\")\n",
    "\n",
    "model = Sequential([\n",
    "    Dense(50,input_dim=13,activation=\"relu\"),\n",
    "    Dense(50,activation=\"relu\"),\n",
    "    Dense(50,activation=\"relu\"),\n",
    "    Dense(50,activation=\"relu\"),\n",
    "    Dense(50,activation=\"relu\"),\n",
    "    Dense(1)\n",
    "])\n",
    "\n",
    "\n",
    "# # 3. 모델구성 함수형\n",
    "# input1 = Input(shape=(13,))\n",
    "# dense1 = Dense(32,activation=\"relu\")(input1)\n",
    "# dense2 = Dense(64,activation=\"relu\")(dense1)\n",
    "# dense3 = Dense(128,activation=\"relu\")(dense2)\n",
    "# dense4 = Dense(64,activation=\"relu\")(dense3)\n",
    "# dense5 = Dense(32,activation=\"relu\")(dense4)\n",
    "# output1 = Dense(1,activation=\"relu\")(dense5)\n",
    "\n",
    "# model=Model(inputs=input1,outputs=output1)\n",
    "\n",
    "model.summary()"
   ]
  },
  {
   "cell_type": "code",
   "execution_count": 23,
   "metadata": {},
   "outputs": [
    {
     "name": "stdout",
     "output_type": "stream",
     "text": [
      "Epoch 1/100\n",
      "77/95 [=======================>......] - ETA: 0s - loss: 355.2424\n",
      "Epoch 00001: val_loss improved from inf to 79.32898, saving model to ../_save/MCP\\keras30_ModelCheckPoint3.hdf5\n",
      "95/95 [==============================] - 1s 5ms/step - loss: 316.0803 - val_loss: 79.3290\n",
      "Epoch 2/100\n",
      "81/95 [========================>.....] - ETA: 0s - loss: 89.3041\n",
      "Epoch 00002: val_loss improved from 79.32898 to 56.19388, saving model to ../_save/MCP\\keras30_ModelCheckPoint3.hdf5\n",
      "95/95 [==============================] - 0s 3ms/step - loss: 83.3055 - val_loss: 56.1939\n",
      "Epoch 3/100\n",
      "83/95 [=========================>....] - ETA: 0s - loss: 48.9258\n",
      "Epoch 00003: val_loss improved from 56.19388 to 33.44456, saving model to ../_save/MCP\\keras30_ModelCheckPoint3.hdf5\n",
      "95/95 [==============================] - 0s 4ms/step - loss: 48.8020 - val_loss: 33.4446\n",
      "Epoch 4/100\n",
      "79/95 [=======================>......] - ETA: 0s - loss: 36.6245\n",
      "Epoch 00004: val_loss improved from 33.44456 to 26.56445, saving model to ../_save/MCP\\keras30_ModelCheckPoint3.hdf5\n",
      "95/95 [==============================] - 0s 3ms/step - loss: 35.6514 - val_loss: 26.5644\n",
      "Epoch 5/100\n",
      "78/95 [=======================>......] - ETA: 0s - loss: 29.3250\n",
      "Epoch 00005: val_loss improved from 26.56445 to 23.92772, saving model to ../_save/MCP\\keras30_ModelCheckPoint3.hdf5\n",
      "95/95 [==============================] - 0s 3ms/step - loss: 27.4697 - val_loss: 23.9277\n",
      "Epoch 6/100\n",
      "85/95 [=========================>....] - ETA: 0s - loss: 21.6650\n",
      "Epoch 00006: val_loss improved from 23.92772 to 21.27673, saving model to ../_save/MCP\\keras30_ModelCheckPoint3.hdf5\n",
      "95/95 [==============================] - 0s 3ms/step - loss: 20.8825 - val_loss: 21.2767\n",
      "Epoch 7/100\n",
      "89/95 [===========================>..] - ETA: 0s - loss: 19.6210\n",
      "Epoch 00007: val_loss did not improve from 21.27673\n",
      "95/95 [==============================] - 0s 3ms/step - loss: 19.8079 - val_loss: 22.2644\n",
      "Epoch 8/100\n",
      "80/95 [========================>.....] - ETA: 0s - loss: 15.0703\n",
      "Epoch 00008: val_loss improved from 21.27673 to 20.51289, saving model to ../_save/MCP\\keras30_ModelCheckPoint3.hdf5\n",
      "95/95 [==============================] - 0s 3ms/step - loss: 17.0959 - val_loss: 20.5129\n",
      "Epoch 9/100\n",
      "82/95 [========================>.....] - ETA: 0s - loss: 19.0477\n",
      "Epoch 00009: val_loss improved from 20.51289 to 16.29338, saving model to ../_save/MCP\\keras30_ModelCheckPoint3.hdf5\n",
      "95/95 [==============================] - 0s 3ms/step - loss: 18.0141 - val_loss: 16.2934\n",
      "Epoch 10/100\n",
      "85/95 [=========================>....] - ETA: 0s - loss: 19.9463\n",
      "Epoch 00010: val_loss did not improve from 16.29338\n",
      "95/95 [==============================] - 0s 3ms/step - loss: 18.5024 - val_loss: 18.9474\n",
      "Epoch 11/100\n",
      "86/95 [==========================>...] - ETA: 0s - loss: 16.8894\n",
      "Epoch 00011: val_loss improved from 16.29338 to 14.83564, saving model to ../_save/MCP\\keras30_ModelCheckPoint3.hdf5\n",
      "95/95 [==============================] - 0s 3ms/step - loss: 16.5203 - val_loss: 14.8356\n",
      "Epoch 12/100\n",
      "86/95 [==========================>...] - ETA: 0s - loss: 16.4448\n",
      "Epoch 00012: val_loss did not improve from 14.83564\n",
      "95/95 [==============================] - 0s 3ms/step - loss: 15.8079 - val_loss: 15.5629\n",
      "Epoch 13/100\n",
      "83/95 [=========================>....] - ETA: 0s - loss: 15.5497\n",
      "Epoch 00013: val_loss did not improve from 14.83564\n",
      "95/95 [==============================] - 0s 3ms/step - loss: 14.9947 - val_loss: 15.4199\n",
      "Epoch 14/100\n",
      "81/95 [========================>.....] - ETA: 0s - loss: 15.8653\n",
      "Epoch 00014: val_loss improved from 14.83564 to 13.46831, saving model to ../_save/MCP\\keras30_ModelCheckPoint3.hdf5\n",
      "95/95 [==============================] - 0s 3ms/step - loss: 15.2333 - val_loss: 13.4683\n",
      "Epoch 15/100\n",
      "79/95 [=======================>......] - ETA: 0s - loss: 15.0487\n",
      "Epoch 00015: val_loss improved from 13.46831 to 12.51160, saving model to ../_save/MCP\\keras30_ModelCheckPoint3.hdf5\n",
      "95/95 [==============================] - 0s 3ms/step - loss: 14.5732 - val_loss: 12.5116\n",
      "Epoch 16/100\n",
      "84/95 [=========================>....] - ETA: 0s - loss: 13.8410\n",
      "Epoch 00016: val_loss did not improve from 12.51160\n",
      "95/95 [==============================] - 0s 3ms/step - loss: 13.9250 - val_loss: 15.3786\n",
      "Epoch 17/100\n",
      "82/95 [========================>.....] - ETA: 0s - loss: 12.1582\n",
      "Epoch 00017: val_loss did not improve from 12.51160\n",
      "95/95 [==============================] - 0s 3ms/step - loss: 13.9503 - val_loss: 13.3078\n",
      "Epoch 18/100\n",
      "83/95 [=========================>....] - ETA: 0s - loss: 15.6398\n",
      "Epoch 00018: val_loss did not improve from 12.51160\n",
      "95/95 [==============================] - 0s 3ms/step - loss: 15.0332 - val_loss: 23.5013\n",
      "Epoch 19/100\n",
      "81/95 [========================>.....] - ETA: 0s - loss: 13.6158\n",
      "Epoch 00019: val_loss did not improve from 12.51160\n",
      "95/95 [==============================] - 0s 3ms/step - loss: 13.3015 - val_loss: 13.2830\n",
      "Epoch 20/100\n",
      "85/95 [=========================>....] - ETA: 0s - loss: 11.6337\n",
      "Epoch 00020: val_loss did not improve from 12.51160\n",
      "95/95 [==============================] - 0s 3ms/step - loss: 12.8608 - val_loss: 16.9943\n",
      "Epoch 21/100\n",
      "85/95 [=========================>....] - ETA: 0s - loss: 15.4793\n",
      "Epoch 00021: val_loss improved from 12.51160 to 11.39227, saving model to ../_save/MCP\\keras30_ModelCheckPoint3.hdf5\n",
      "95/95 [==============================] - 0s 4ms/step - loss: 14.4681 - val_loss: 11.3923\n",
      "Epoch 22/100\n",
      "90/95 [===========================>..] - ETA: 0s - loss: 12.9916\n",
      "Epoch 00022: val_loss did not improve from 11.39227\n",
      "95/95 [==============================] - 0s 3ms/step - loss: 12.5364 - val_loss: 12.2466\n",
      "Epoch 23/100\n",
      "86/95 [==========================>...] - ETA: 0s - loss: 9.8930 \n",
      "Epoch 00023: val_loss did not improve from 11.39227\n",
      "95/95 [==============================] - 0s 3ms/step - loss: 11.7742 - val_loss: 11.9279\n",
      "Epoch 24/100\n",
      "90/95 [===========================>..] - ETA: 0s - loss: 12.4016\n",
      "Epoch 00024: val_loss did not improve from 11.39227\n",
      "95/95 [==============================] - 0s 3ms/step - loss: 12.2521 - val_loss: 11.5139\n",
      "Epoch 25/100\n",
      "79/95 [=======================>......] - ETA: 0s - loss: 9.0300 \n",
      "Epoch 00025: val_loss did not improve from 11.39227\n",
      "95/95 [==============================] - 0s 3ms/step - loss: 11.1192 - val_loss: 11.6304\n",
      "Epoch 26/100\n",
      "80/95 [========================>.....] - ETA: 0s - loss: 11.4099\n",
      "Epoch 00026: val_loss did not improve from 11.39227\n",
      "95/95 [==============================] - 0s 3ms/step - loss: 11.5520 - val_loss: 12.1204\n",
      "Epoch 27/100\n",
      "79/95 [=======================>......] - ETA: 0s - loss: 11.8296\n",
      "Epoch 00027: val_loss did not improve from 11.39227\n",
      "95/95 [==============================] - 0s 3ms/step - loss: 11.5482 - val_loss: 12.4951\n",
      "Epoch 28/100\n",
      "84/95 [=========================>....] - ETA: 0s - loss: 11.4941\n",
      "Epoch 00028: val_loss did not improve from 11.39227\n",
      "95/95 [==============================] - 0s 3ms/step - loss: 10.5155 - val_loss: 11.8843\n",
      "Epoch 29/100\n",
      "94/95 [============================>.] - ETA: 0s - loss: 11.2144\n",
      "Epoch 00029: val_loss did not improve from 11.39227\n",
      "95/95 [==============================] - 0s 3ms/step - loss: 11.1791 - val_loss: 11.6207\n",
      "Epoch 30/100\n",
      "81/95 [========================>.....] - ETA: 0s - loss: 10.4197\n",
      "Epoch 00030: val_loss did not improve from 11.39227\n",
      "95/95 [==============================] - 0s 3ms/step - loss: 10.9242 - val_loss: 11.6334\n",
      "Epoch 31/100\n",
      "81/95 [========================>.....] - ETA: 0s - loss: 11.0515Restoring model weights from the end of the best epoch: 21.\n",
      "\n",
      "Epoch 00031: val_loss did not improve from 11.39227\n",
      "95/95 [==============================] - 0s 3ms/step - loss: 10.8011 - val_loss: 12.6091\n",
      "Epoch 00031: early stopping\n"
     ]
    }
   ],
   "source": [
    "from tensorflow.keras.callbacks import EarlyStopping,ModelCheckpoint\n",
    "\n",
    "path = \"../_save/\"\n",
    "\n",
    "earlyStopping = EarlyStopping(monitor=\"val_loss\",\n",
    "                              mode=\"min\",patience =10,\n",
    "                              restore_best_weights=True,\n",
    "                              verbose=1                              \n",
    "                              )\n",
    "# 모델체크포인트는 가장 낮은 val_loss 가 갱신 될 떄 마다 저장합니다.\n",
    "\n",
    "mcp = ModelCheckpoint(\n",
    "    monitor=\"val_loss\",\n",
    "    mode=\"auto\",\n",
    "    save_best_only=True,\n",
    "    filepath= path+\"MCP/keras30_ModelCheckPoint3.hdf5\",\n",
    "    verbose=1 \n",
    ")\n",
    "                    \n",
    "    \n",
    "model.compile(loss=\"mse\",optimizer=\"adam\")\n",
    "\n",
    "# model.fit 이 반환한 기록을 저장\n",
    "hist = model.fit(\n",
    "                x_train,\n",
    "                y_train,\n",
    "                epochs=100,\n",
    "                batch_size=3,\n",
    "                validation_split=0.2,\n",
    "                verbose=1,\n",
    "                callbacks = [earlyStopping,mcp],\n",
    "                \n",
    "                )\n",
    "\n",
    "model.save(path+\"MCP/keras30_ModelCheckPoint3.h5\")\n"
   ]
  },
  {
   "cell_type": "code",
   "execution_count": 24,
   "metadata": {},
   "outputs": [],
   "source": [
    "# 모델저장\n",
    "\n",
    "# path = \"../_save/\"\n",
    "\n",
    "# model.save_weights(path+\"save_weight2.h5\")"
   ]
  },
  {
   "cell_type": "code",
   "execution_count": 25,
   "metadata": {},
   "outputs": [],
   "source": [
    "# # 모델불러오기\n",
    "# from tensorflow.keras.models import load_model\n",
    "\n",
    "# path = \"../_save/\"\n",
    "\n",
    "# # 가중치 불러오기는 모델이 저장 되어 있어야 가능함\n",
    "# model.load_weights(path+\"save_weight2.h5\")"
   ]
  },
  {
   "cell_type": "code",
   "execution_count": 26,
   "metadata": {},
   "outputs": [
    {
     "name": "stdout",
     "output_type": "stream",
     "text": [
      "Model: \"sequential_1\"\n",
      "_________________________________________________________________\n",
      " Layer (type)                Output Shape              Param #   \n",
      "=================================================================\n",
      " dense_6 (Dense)             (None, 50)                700       \n",
      "                                                                 \n",
      " dense_7 (Dense)             (None, 50)                2550      \n",
      "                                                                 \n",
      " dense_8 (Dense)             (None, 50)                2550      \n",
      "                                                                 \n",
      " dense_9 (Dense)             (None, 50)                2550      \n",
      "                                                                 \n",
      " dense_10 (Dense)            (None, 50)                2550      \n",
      "                                                                 \n",
      " dense_11 (Dense)            (None, 1)                 51        \n",
      "                                                                 \n",
      "=================================================================\n",
      "Total params: 10,951\n",
      "Trainable params: 10,951\n",
      "Non-trainable params: 0\n",
      "_________________________________________________________________\n"
     ]
    }
   ],
   "source": [
    "model.summary()"
   ]
  },
  {
   "cell_type": "code",
   "execution_count": 32,
   "metadata": {},
   "outputs": [
    {
     "name": "stdout",
     "output_type": "stream",
     "text": [
      "5/5 [==============================] - 0s 2ms/step - loss: 20.0339\n",
      "그냥출력\n",
      "loss :  20.033893585205078\n",
      "RMSE :  4.475923611466322\n",
      "R2   :  0.7521419625138414\n"
     ]
    }
   ],
   "source": [
    "\n",
    "# \n",
    "# 성능평가\n",
    "from sklearn.metrics import mean_squared_error\n",
    "from sklearn.metrics import r2_score\n",
    "\n",
    "def RMSE(y_test,y_predict):\n",
    "    return np.sqrt(mean_squared_error(y_test,y_predict))\n",
    "# 평가 손실률 가져오기\n",
    "loss = model.evaluate(x_test,y_test)\n",
    "\n",
    "y_predict =model.predict(x_test)\n",
    "# print(\"=================\")\n",
    "# print(y_test)\n",
    "# print(y_predict)\n",
    "# print(\"=================\")\n",
    "print(\"그냥출력\")\n",
    "print(\"loss : \",loss)\n",
    "print(\"RMSE : \",RMSE(y_test,y_predict))\n",
    "print(\"R2   : \",r2_score(y_test,y_predict))"
   ]
  },
  {
   "cell_type": "code",
   "execution_count": 36,
   "metadata": {},
   "outputs": [
    {
     "name": "stdout",
     "output_type": "stream",
     "text": [
      "5/5 [==============================] - 0s 3ms/step - loss: 20.0339\n",
      "load_model 출력\n",
      "loss :  20.033893585205078\n",
      "RMSE :  4.475923611466322\n",
      "R2   :  0.7521419625138414\n"
     ]
    }
   ],
   "source": [
    "# 불러온 모델 성능평가\n",
    "model2 = load_model(path+\"MCP/keras30_ModelCheckPoint3.h5\")\n",
    "\n",
    "from sklearn.metrics import mean_squared_error\n",
    "from sklearn.metrics import r2_score\n",
    "\n",
    "def RMSE(y_test,y_predict):\n",
    "    return np.sqrt(mean_squared_error(y_test,y_predict))\n",
    "# 평가 손실률 가져오기\n",
    "loss = model2.evaluate(x_test,y_test)\n",
    "\n",
    "y_predict =model2.predict(x_test)\n",
    "# print(\"=================\")\n",
    "# print(y_test)\n",
    "# print(y_predict)\n",
    "# print(\"=================\")\n",
    "print(\"load_model 출력\")\n",
    "print(\"loss : \",loss)\n",
    "print(\"RMSE : \",RMSE(y_test,y_predict))\n",
    "print(\"R2   : \",r2_score(y_test,y_predict))"
   ]
  }
 ],
 "metadata": {
  "kernelspec": {
   "display_name": "tf274gpu",
   "language": "python",
   "name": "python3"
  },
  "language_info": {
   "codemirror_mode": {
    "name": "ipython",
    "version": 3
   },
   "file_extension": ".py",
   "mimetype": "text/x-python",
   "name": "python",
   "nbconvert_exporter": "python",
   "pygments_lexer": "ipython3",
   "version": "3.9.15"
  },
  "orig_nbformat": 4,
  "vscode": {
   "interpreter": {
    "hash": "10848e9bd3f5e7d93542d388001135334854454e7336dcf54c4ef52885ee0fb0"
   }
  }
 },
 "nbformat": 4,
 "nbformat_minor": 2
}
