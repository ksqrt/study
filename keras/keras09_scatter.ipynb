{
 "cells": [
  {
   "cell_type": "code",
   "execution_count": 36,
   "metadata": {},
   "outputs": [],
   "source": [
    "import numpy as np\n",
    "from tensorflow.keras.models import Sequential\n",
    "from tensorflow.keras.layers import Dense\n",
    "from sklearn.model_selection import train_test_split\n"
   ]
  },
  {
   "cell_type": "code",
   "execution_count": 37,
   "metadata": {},
   "outputs": [],
   "source": [
    "# 1 데이터 정리\n",
    "x = np.array(range(1,21))\n",
    "y = np.array([1,2,4,3,5,7,9,3,8,12,13,8,14,15,9,6,17,23,21,20])\n",
    "\n",
    "# 2.as_integer_ratio\n",
    "x_train, x_test,y_train,y_test = train_test_split(x,y,\n",
    "    train_size=0.7,\n",
    "    shuffle = True,\n",
    "    random_state= 123\n",
    ")\n",
    "\n"
   ]
  },
  {
   "cell_type": "code",
   "execution_count": 38,
   "metadata": {},
   "outputs": [
    {
     "name": "stdout",
     "output_type": "stream",
     "text": [
      "Model: \"sequential_5\"\n",
      "_________________________________________________________________\n",
      " Layer (type)                Output Shape              Param #   \n",
      "=================================================================\n",
      " dense_25 (Dense)            (None, 5)                 10        \n",
      "                                                                 \n",
      " dense_26 (Dense)            (None, 5)                 30        \n",
      "                                                                 \n",
      " dense_27 (Dense)            (None, 6)                 36        \n",
      "                                                                 \n",
      " dense_28 (Dense)            (None, 6)                 42        \n",
      "                                                                 \n",
      " dense_29 (Dense)            (None, 1)                 7         \n",
      "                                                                 \n",
      "=================================================================\n",
      "Total params: 125\n",
      "Trainable params: 125\n",
      "Non-trainable params: 0\n",
      "_________________________________________________________________\n"
     ]
    }
   ],
   "source": [
    "\n",
    "# 2. 모델 구성\n",
    "from random import randrange\n",
    "number1 = randrange(1,10,1)\n",
    "number2 = randrange(1,10,1)\n",
    "number3= randrange(1,10,1)\n",
    "\n",
    "model = Sequential([\n",
    "    Dense(number1,input_dim = 1),\n",
    "    Dense(number1),\n",
    "    Dense(number2),\n",
    "    Dense(number3),\n",
    "    Dense(1)\n",
    "])\n",
    "\n",
    "model.summary()"
   ]
  },
  {
   "cell_type": "code",
   "execution_count": 40,
   "metadata": {},
   "outputs": [
    {
     "name": "stdout",
     "output_type": "stream",
     "text": [
      "Epoch 1/100\n",
      "100/100 [==============================] - 0s 569us/step - loss: 36.1525\n",
      "Epoch 2/100\n",
      "100/100 [==============================] - 0s 591us/step - loss: 9.5649\n",
      "Epoch 3/100\n",
      "100/100 [==============================] - 0s 517us/step - loss: 9.5815\n",
      "Epoch 4/100\n",
      "100/100 [==============================] - 0s 532us/step - loss: 10.3840\n",
      "Epoch 5/100\n",
      "100/100 [==============================] - 0s 586us/step - loss: 9.6502\n",
      "Epoch 6/100\n",
      "100/100 [==============================] - 0s 557us/step - loss: 9.6137\n",
      "Epoch 7/100\n",
      "100/100 [==============================] - 0s 560us/step - loss: 9.6198\n",
      "Epoch 8/100\n",
      "100/100 [==============================] - 0s 560us/step - loss: 10.4228\n",
      "Epoch 9/100\n",
      "100/100 [==============================] - 0s 571us/step - loss: 8.8134\n",
      "Epoch 10/100\n",
      "100/100 [==============================] - 0s 575us/step - loss: 10.7893\n",
      "Epoch 11/100\n",
      "100/100 [==============================] - 0s 537us/step - loss: 9.6708\n",
      "Epoch 12/100\n",
      "100/100 [==============================] - 0s 579us/step - loss: 9.7395\n",
      "Epoch 13/100\n",
      "100/100 [==============================] - 0s 554us/step - loss: 9.5899\n",
      "Epoch 14/100\n",
      "100/100 [==============================] - 0s 553us/step - loss: 9.8488\n",
      "Epoch 15/100\n",
      "WARNING:tensorflow:Your input ran out of data; interrupting training. Make sure that your dataset or generator can generate at least `steps_per_epoch * epochs` batches (in this case, 10000 batches). You may need to use the repeat() function when building your dataset.\n",
      "100/100 [==============================] - 0s 150us/step - loss: 9.8488\n"
     ]
    },
    {
     "data": {
      "text/plain": [
       "<keras.callbacks.History at 0x21fbd5e3b20>"
      ]
     },
     "execution_count": 40,
     "metadata": {},
     "output_type": "execute_result"
    }
   ],
   "source": [
    "# 3. 컴파일과훈련\n",
    "model.compile(loss=\"mse\" , optimizer=\"adam\")\n",
    "model.fit(x_train,y_train,epochs=100,steps_per_epoch=100)"
   ]
  },
  {
   "cell_type": "code",
   "execution_count": 44,
   "metadata": {},
   "outputs": [
    {
     "name": "stdout",
     "output_type": "stream",
     "text": [
      "1/1 [==============================] - 0s 14ms/step - loss: 14.8161\n",
      "loss :  14.81609058380127\n"
     ]
    },
    {
     "data": {
      "image/png": "[encoded data removed]",
      "text/plain": [
       "<Figure size 640x480 with 1 Axes>"
      ]
     },
     "metadata": {},
     "output_type": "display_data"
    }
   ],
   "source": [
    "loss = model.evaluate(x_test,y_test)\n",
    "print(\"loss : \",loss)\n",
    "\n",
    "\n",
    "import matplotlib.pyplot as plt\n",
    "\n",
    "# 기존 점 뿌리기\n",
    "plt.scatter(x,y,color= \"black\")\n",
    "# 예측함수 그려서 \n",
    "y_predict= model.predict(x)\n",
    "plt.plot(x,y_predict,color = \"red\")\n",
    "# plt.show() 보여주기\n",
    "plt.show()"
   ]
  },
  {
   "cell_type": "code",
   "execution_count": 42,
   "metadata": {},
   "outputs": [
    {
     "data": {
      "text/plain": [
       "array([[1.4858189]], dtype=float32)"
      ]
     },
     "execution_count": 42,
     "metadata": {},
     "output_type": "execute_result"
    }
   ],
   "source": [
    "model.predict([1])"
   ]
  }
 ],
 "metadata": {
  "kernelspec": {
   "display_name": "tf27",
   "language": "python",
   "name": "python3"
  },
  "language_info": {
   "codemirror_mode": {
    "name": "ipython",
    "version": 3
   },
   "file_extension": ".py",
   "mimetype": "text/x-python",
   "name": "python",
   "nbconvert_exporter": "python",
   "pygments_lexer": "ipython3",
   "version": "3.9.7"
  },
  "orig_nbformat": 4,
  "vscode": {
   "interpreter": {
    "hash": "b47fb4e6c68d4941015efb0bbf71549277582fe8531338196fc3c7fa71b6aab8"
   }
  }
 },
 "nbformat": 4,
 "nbformat_minor": 2
}
