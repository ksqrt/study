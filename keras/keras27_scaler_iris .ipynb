{
 "cells": [
  {
   "cell_type": "code",
   "execution_count": 72,
   "metadata": {},
   "outputs": [],
   "source": [
    "from sklearn.datasets import load_iris\n",
    "import numpy as np\n",
    "import pandas as pd\n",
    "import tensorflow as tf\n",
    "from tensorflow.keras.utils import to_categorical\n",
    "from tensorflow.keras.models import Sequential\n",
    "from tensorflow.keras.layers import Dense,Dropout\n",
    "from sklearn.model_selection import train_test_split\n",
    "from sklearn.metrics import mean_squared_error, r2_score\n",
    "# 1. 데이터 \n",
    "datasets = (load_iris())\n",
    "\n",
    "x = pd.DataFrame(datasets[\"data\"])\n",
    "y = pd.DataFrame(datasets[\"target\"])\n"
   ]
  },
  {
   "cell_type": "code",
   "execution_count": 73,
   "metadata": {},
   "outputs": [
    {
     "name": "stdout",
     "output_type": "stream",
     "text": [
      "(150, 4) (150, 1)\n",
      "     0\n",
      "0    0\n",
      "1    0\n",
      "2    0\n",
      "3    0\n",
      "4    0\n",
      "..  ..\n",
      "145  2\n",
      "146  2\n",
      "147  2\n",
      "148  2\n",
      "149  2\n",
      "\n",
      "[150 rows x 1 columns]\n"
     ]
    }
   ],
   "source": [
    "# print(datasets.colums) \n",
    "print(x.shape,y.shape)    \n",
    "print(y)\n",
    "# 분류모델이기 때문에 y를 원핫 인코딩변환 해주어야합니다.\n",
    "y = to_categorical(y)\n",
    "# print(x.describe)"
   ]
  },
  {
   "cell_type": "code",
   "execution_count": 74,
   "metadata": {},
   "outputs": [
    {
     "name": "stdout",
     "output_type": "stream",
     "text": [
      "[[1. 0. 0.]\n",
      " [0. 1. 0.]\n",
      " [1. 0. 0.]\n",
      " [1. 0. 0.]\n",
      " [0. 0. 1.]]\n",
      "shape :  (120, 3)\n"
     ]
    }
   ],
   "source": [
    "\n",
    "from sklearn.preprocessing import MinMaxScaler,StandardScaler\n",
    "\n",
    "x_train, x_test, y_train,y_test = train_test_split(x,y,\n",
    "                                                   train_size=0.8,\n",
    "                                                   shuffle = True,\n",
    "                                                #  stratify 는 데이터 불균형을 해결해줌\n",
    "                                                   stratify=y\n",
    "                                                #    random_state=21\n",
    "                                                   )\n",
    "\n",
    "\n",
    "scaler = MinMaxScaler()\n",
    "scaler.fit(x_train)\n",
    "x_train_scaled = scaler.transform(x_train)\n",
    "# x_test 를 스케일링\n",
    "x_test = scaler.transform(x_test)\n",
    "\n",
    "print(y_train[:5])\n",
    "print(\"shape : \",y_train.shape)"
   ]
  },
  {
   "cell_type": "code",
   "execution_count": 75,
   "metadata": {},
   "outputs": [],
   "source": [
    "model = Sequential([\n",
    "    Dense(32,activation=\"relu\",input_shape=(4,)),\n",
    "    Dense(64,activation=\"relu\") ,\n",
    "    Dense(128,activation=\"relu\") ,\n",
    "    Dense(64,activation=\"relu\") ,\n",
    "    Dense(32,activation=\"relu\") ,\n",
    "    Dense(16,activation=\"relu\") ,\n",
    "    # 다중분류모델의 활성화 함수는 softmax 입니다\n",
    "    Dense(3,activation=\"softmax\")\n",
    "])"
   ]
  },
  {
   "cell_type": "code",
   "execution_count": 76,
   "metadata": {},
   "outputs": [
    {
     "name": "stdout",
     "output_type": "stream",
     "text": [
      "Epoch 1/100\n",
      "3/3 [==============================] - 0s 66ms/step - loss: 1.1159 - accuracy: 0.3021 - val_loss: 1.0166 - val_accuracy: 0.4583\n",
      "Epoch 2/100\n",
      "3/3 [==============================] - 0s 14ms/step - loss: 1.0306 - accuracy: 0.3021 - val_loss: 0.9880 - val_accuracy: 0.5833\n",
      "Epoch 3/100\n",
      "3/3 [==============================] - 0s 13ms/step - loss: 0.9809 - accuracy: 0.5417 - val_loss: 0.9513 - val_accuracy: 0.4167\n",
      "Epoch 4/100\n",
      "3/3 [==============================] - 0s 14ms/step - loss: 0.9333 - accuracy: 0.6458 - val_loss: 0.8933 - val_accuracy: 0.9583\n",
      "Epoch 5/100\n",
      "3/3 [==============================] - 0s 13ms/step - loss: 0.8835 - accuracy: 0.8438 - val_loss: 0.8661 - val_accuracy: 0.5417\n",
      "Epoch 6/100\n",
      "3/3 [==============================] - 0s 14ms/step - loss: 0.8351 - accuracy: 0.6875 - val_loss: 0.8364 - val_accuracy: 0.5417\n",
      "Epoch 7/100\n",
      "3/3 [==============================] - 0s 14ms/step - loss: 0.7889 - accuracy: 0.7292 - val_loss: 0.7660 - val_accuracy: 0.8333\n",
      "Epoch 8/100\n",
      "3/3 [==============================] - 0s 13ms/step - loss: 0.7471 - accuracy: 0.9375 - val_loss: 0.7239 - val_accuracy: 0.9583\n",
      "Epoch 9/100\n",
      "3/3 [==============================] - 0s 13ms/step - loss: 0.7049 - accuracy: 0.9688 - val_loss: 0.6766 - val_accuracy: 1.0000\n",
      "Epoch 10/100\n",
      "3/3 [==============================] - 0s 14ms/step - loss: 0.6588 - accuracy: 0.9688 - val_loss: 0.6202 - val_accuracy: 0.9583\n",
      "Epoch 11/100\n",
      "3/3 [==============================] - 0s 14ms/step - loss: 0.6074 - accuracy: 0.9479 - val_loss: 0.5637 - val_accuracy: 0.9583\n",
      "Epoch 12/100\n",
      "3/3 [==============================] - 0s 13ms/step - loss: 0.5526 - accuracy: 0.9688 - val_loss: 0.5297 - val_accuracy: 0.9167\n",
      "Epoch 13/100\n",
      "3/3 [==============================] - 0s 13ms/step - loss: 0.4967 - accuracy: 0.9479 - val_loss: 0.4545 - val_accuracy: 1.0000\n",
      "Epoch 14/100\n",
      "3/3 [==============================] - 0s 13ms/step - loss: 0.4286 - accuracy: 0.9688 - val_loss: 0.4409 - val_accuracy: 0.9167\n",
      "Epoch 15/100\n",
      "3/3 [==============================] - 0s 13ms/step - loss: 0.3777 - accuracy: 0.9479 - val_loss: 0.3765 - val_accuracy: 0.9167\n",
      "Epoch 16/100\n",
      "3/3 [==============================] - 0s 13ms/step - loss: 0.3278 - accuracy: 0.9792 - val_loss: 0.3026 - val_accuracy: 1.0000\n",
      "Epoch 17/100\n",
      "3/3 [==============================] - 0s 15ms/step - loss: 0.2881 - accuracy: 0.9792 - val_loss: 0.3013 - val_accuracy: 0.9167\n",
      "Epoch 18/100\n",
      "3/3 [==============================] - 0s 15ms/step - loss: 0.2544 - accuracy: 0.9583 - val_loss: 0.2391 - val_accuracy: 1.0000\n",
      "Epoch 19/100\n",
      "3/3 [==============================] - 0s 14ms/step - loss: 0.2216 - accuracy: 0.9792 - val_loss: 0.2238 - val_accuracy: 1.0000\n",
      "Epoch 20/100\n",
      "3/3 [==============================] - 0s 9ms/step - loss: 0.1936 - accuracy: 0.9792 - val_loss: 0.2095 - val_accuracy: 0.9583\n",
      "Epoch 21/100\n",
      "3/3 [==============================] - 0s 15ms/step - loss: 0.1751 - accuracy: 0.9479 - val_loss: 0.1861 - val_accuracy: 1.0000\n",
      "Epoch 22/100\n",
      "3/3 [==============================] - 0s 14ms/step - loss: 0.1465 - accuracy: 0.9688 - val_loss: 0.1738 - val_accuracy: 0.9583\n",
      "Epoch 23/100\n",
      "3/3 [==============================] - 0s 14ms/step - loss: 0.1348 - accuracy: 0.9688 - val_loss: 0.1380 - val_accuracy: 1.0000\n",
      "Epoch 24/100\n",
      "3/3 [==============================] - 0s 14ms/step - loss: 0.1350 - accuracy: 0.9688 - val_loss: 0.1547 - val_accuracy: 0.9167\n",
      "Epoch 25/100\n",
      "3/3 [==============================] - 0s 14ms/step - loss: 0.1323 - accuracy: 0.9583 - val_loss: 0.1293 - val_accuracy: 0.9583\n",
      "Epoch 26/100\n",
      "3/3 [==============================] - 0s 14ms/step - loss: 0.1091 - accuracy: 0.9792 - val_loss: 0.0947 - val_accuracy: 1.0000\n",
      "Epoch 27/100\n",
      "3/3 [==============================] - 0s 14ms/step - loss: 0.0928 - accuracy: 0.9792 - val_loss: 0.1611 - val_accuracy: 0.9167\n",
      "Epoch 28/100\n",
      "3/3 [==============================] - 0s 13ms/step - loss: 0.0985 - accuracy: 0.9479 - val_loss: 0.1149 - val_accuracy: 0.9583\n",
      "Epoch 29/100\n",
      "3/3 [==============================] - 0s 13ms/step - loss: 0.0886 - accuracy: 0.9583 - val_loss: 0.1099 - val_accuracy: 0.9583\n",
      "Epoch 30/100\n",
      "3/3 [==============================] - 0s 14ms/step - loss: 0.0896 - accuracy: 0.9792 - val_loss: 0.0795 - val_accuracy: 1.0000\n",
      "Epoch 31/100\n",
      "3/3 [==============================] - 0s 14ms/step - loss: 0.0791 - accuracy: 0.9688 - val_loss: 0.1480 - val_accuracy: 0.9167\n",
      "Epoch 32/100\n",
      "3/3 [==============================] - 0s 13ms/step - loss: 0.0805 - accuracy: 0.9583 - val_loss: 0.0820 - val_accuracy: 1.0000\n",
      "Epoch 33/100\n",
      "3/3 [==============================] - 0s 13ms/step - loss: 0.0874 - accuracy: 0.9792 - val_loss: 0.0902 - val_accuracy: 1.0000\n",
      "Epoch 34/100\n",
      "3/3 [==============================] - 0s 12ms/step - loss: 0.1024 - accuracy: 0.9583 - val_loss: 0.0888 - val_accuracy: 1.0000\n",
      "Epoch 35/100\n",
      "3/3 [==============================] - 0s 19ms/step - loss: 0.1135 - accuracy: 0.9479 - val_loss: 0.0528 - val_accuracy: 1.0000\n",
      "Epoch 36/100\n",
      "3/3 [==============================] - 0s 15ms/step - loss: 0.0711 - accuracy: 0.9792 - val_loss: 0.2504 - val_accuracy: 0.8750\n",
      "Epoch 37/100\n",
      "3/3 [==============================] - 0s 14ms/step - loss: 0.1244 - accuracy: 0.9375 - val_loss: 0.0516 - val_accuracy: 1.0000\n",
      "Epoch 38/100\n",
      "3/3 [==============================] - 0s 14ms/step - loss: 0.0757 - accuracy: 0.9792 - val_loss: 0.0953 - val_accuracy: 0.9583\n",
      "Epoch 39/100\n",
      "3/3 [==============================] - 0s 14ms/step - loss: 0.0786 - accuracy: 0.9583 - val_loss: 0.0847 - val_accuracy: 1.0000\n",
      "Epoch 40/100\n",
      "3/3 [==============================] - 0s 14ms/step - loss: 0.0763 - accuracy: 0.9792 - val_loss: 0.0467 - val_accuracy: 1.0000\n",
      "Epoch 00040: early stopping\n"
     ]
    }
   ],
   "source": [
    "# 이진분류는 마지막 활성함수는 sigmoid + loss 는 바이너리 크로스 엔트로피 \n",
    "from keras.callbacks import EarlyStopping\n",
    "\n",
    "early_stopping = EarlyStopping(\n",
    "monitor='val_loss',\n",
    "min_delta=0.01, patience=5, \n",
    "verbose=1, \n",
    "mode='min')\n",
    "\n",
    "# 훈련값이 int 형이기 때문에 sparse 를 사용합니다.\n",
    "model.compile(loss=\"categorical_crossentropy\"\n",
    "              ,optimizer=\"adam\"\n",
    "              ,metrics=[\"accuracy\"]\n",
    "              )\n",
    "\n",
    "hist = model.fit(x_train, y_train, epochs=100, batch_size=32, \n",
    "                 validation_split=0.2,\n",
    "                 callbacks = [early_stopping])\n",
    "\n",
    "# metrics 에 accuracy 사용가능\n"
   ]
  },
  {
   "cell_type": "code",
   "execution_count": 77,
   "metadata": {},
   "outputs": [
    {
     "name": "stdout",
     "output_type": "stream",
     "text": [
      "1/1 [==============================] - 0s 105ms/step - loss: 0.5749 - accuracy: 0.8333\n",
      "loss: 0.5749152302742004 \n",
      "acc : 0.8333333134651184\n"
     ]
    }
   ],
   "source": [
    "loss,accuracy = model.evaluate(x_test,y_test)\n",
    "\n",
    "print(\"loss:\",loss,\"\\nacc :\" ,accuracy)\n"
   ]
  },
  {
   "cell_type": "code",
   "execution_count": 78,
   "metadata": {},
   "outputs": [
    {
     "name": "stdout",
     "output_type": "stream",
     "text": [
      "[[0.13439892 0.28396147 0.5816396 ]\n",
      " [0.7201937  0.17402053 0.10578574]\n",
      " [0.69567347 0.18856126 0.11576525]\n",
      " [0.09959769 0.26624107 0.63416123]\n",
      " [0.64080876 0.2161147  0.1430765 ]]\n",
      "[2 0 0 2 0 2 0 2 0 2 0 1 2 2 1]\n",
      "[1 0 0 2 0 2 0 1 0 2 0 1 2 1 1]\n",
      "========================================\n",
      "0.8333333333333334\n"
     ]
    }
   ],
   "source": [
    "from sklearn.metrics import accuracy_score\n",
    "y_predict = model.predict(x_test)\n",
    "\n",
    "# predict 의 값은 총 3개가 나오는데 softmax 특성상 sum 의 값은 1이 됨\n",
    "print(y_predict[:5])\n",
    "\n",
    "# argmax 는 x 를 최대값으로 만들어주는 입력을 구하는함수\n",
    "y_predict = np.argmax(y_predict,axis=1)\n",
    "# y_predict = to_categorical(y_predict,3)\n",
    "print(y_predict[:15])\n",
    "# y_test 를 원핫 인코딩 해제 해야함\n",
    "y_test = np.argmax(y_test,axis=1)\n",
    "print(y_test[:15])\n",
    "\n",
    "print\n",
    "print(\"========================================\")\n",
    "acc = accuracy_score(y_test,y_predict)\n",
    "print(acc)"
   ]
  }
 ],
 "metadata": {
  "kernelspec": {
   "display_name": "tf274gpu",
   "language": "python",
   "name": "python3"
  },
  "language_info": {
   "codemirror_mode": {
    "name": "ipython",
    "version": 3
   },
   "file_extension": ".py",
   "mimetype": "text/x-python",
   "name": "python",
   "nbconvert_exporter": "python",
   "pygments_lexer": "ipython3",
   "version": "3.9.15"
  },
  "orig_nbformat": 4,
  "vscode": {
   "interpreter": {
    "hash": "10848e9bd3f5e7d93542d388001135334854454e7336dcf54c4ef52885ee0fb0"
   }
  }
 },
 "nbformat": 4,
 "nbformat_minor": 2
}
