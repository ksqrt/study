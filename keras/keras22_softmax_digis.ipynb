{
 "cells": [
  {
   "cell_type": "code",
   "execution_count": 1,
   "metadata": {},
   "outputs": [
    {
     "ename": "IndentationError",
     "evalue": "unexpected indent (2628236405.py, line 13)",
     "output_type": "error",
     "traceback": [
      "\u001b[1;36m  File \u001b[1;32m\"C:\\Users\\bitcamp\\AppData\\Local\\Temp\\ipykernel_7044\\2628236405.py\"\u001b[1;36m, line \u001b[1;32m13\u001b[0m\n\u001b[1;33m    = pd.DataFrame(datasets[\"data\"])\u001b[0m\n\u001b[1;37m    ^\u001b[0m\n\u001b[1;31mIndentationError\u001b[0m\u001b[1;31m:\u001b[0m unexpected indent\n"
     ]
    }
   ],
   "source": [
    "from sklearn.datasets import load_digits\n",
    "import numpy as np\n",
    "import pandas as pd\n",
    "import tensorflow as tf\n",
    "from tensorflow.keras.utils import to_categorical\n",
    "from tensorflow.keras.models import Sequential\n",
    "from tensorflow.keras.layers import Dense,Dropout\n",
    "from sklearn.model_selection import train_test_split\n",
    "from sklearn.metrics import mean_squared_error, r2_score\n",
    "# 1. 데이터 \n",
    "datasets = (load_digits())\n",
    "\n",
    "x = pd.DataFrame(datasets[\"data\"])\n",
    "y = pd.DataFrame(datasets[\"target\"])"
   ]
  },
  {
   "cell_type": "code",
   "execution_count": null,
   "metadata": {},
   "outputs": [
    {
     "name": "stdout",
     "output_type": "stream",
     "text": [
      "(1797, 64) (1797, 1)\n",
      "[0 1 2 3 4 5 6 7 8 9]\n",
      "(array([0, 1, 2, 3, 4, 5, 6, 7, 8, 9]), array([178, 182, 177, 183, 181, 182, 181, 179, 174, 180], dtype=int64))\n"
     ]
    }
   ],
   "source": [
    "print(x.shape,y.shape) # (1797, 64) (1797, 1)\n",
    "# 64개의 컬럼 = 8x8 짜리 이미지임\n",
    "\n",
    "# y의 클래스 값 분류 + 불균형확인\n",
    "print(np.unique(y)) # [0 1 2 3 4 5 6 7 8 9]\n",
    "# 불균형확인\n",
    "print(np.unique(y,return_counts=True)) # [0 1 2]\n",
    "\n",
    "\n",
    "y = to_categorical(y)"
   ]
  },
  {
   "cell_type": "code",
   "execution_count": null,
   "metadata": {},
   "outputs": [
    {
     "data": {
      "text/plain": [
       "<Figure size 640x480 with 0 Axes>"
      ]
     },
     "metadata": {},
     "output_type": "display_data"
    },
    {
     "data": {
      "image/png": "[encoded data removed]",
      "text/plain": [
       "<Figure size 480x480 with 1 Axes>"
      ]
     },
     "metadata": {},
     "output_type": "display_data"
    }
   ],
   "source": [
    "import matplotlib.pyplot as plt\n",
    "plt.gray()\n",
    "plt.matshow(datasets.images[9])\n",
    "plt.show()"
   ]
  },
  {
   "cell_type": "code",
   "execution_count": null,
   "metadata": {},
   "outputs": [
    {
     "name": "stdout",
     "output_type": "stream",
     "text": [
      "[[0. 0. 0. 0. 0. 0. 1. 0. 0. 0.]\n",
      " [0. 0. 0. 1. 0. 0. 0. 0. 0. 0.]\n",
      " [0. 0. 0. 0. 0. 0. 0. 0. 0. 1.]\n",
      " [0. 0. 0. 0. 0. 0. 0. 0. 1. 0.]\n",
      " [0. 0. 0. 0. 0. 1. 0. 0. 0. 0.]]\n",
      "shape :  (1437, 64)\n",
      "shape :  (1437, 10)\n"
     ]
    }
   ],
   "source": [
    "# print(x.info())\n",
    "# print(x.describe())\n",
    "# 데이터 분리\n",
    "x_train, x_test, y_train,y_test = train_test_split(x,y,\n",
    "                                                   train_size=0.8,\n",
    "                                                   shuffle = True,\n",
    "                                                   #  stratify 는 데이터 불균형을 해결해줌\n",
    "                                                   stratify=y\n",
    "                                                   #  random_state=21\n",
    "                                                   )\n",
    "# print(x.columns)\n",
    "# y 의 첫번째 칼럼을 원핫 인코딩 변환\n",
    "# y_train[0] = tf.one_hot(y_train[0],3)\n",
    "# y_test[0] = tf.one_hot(y_test[0],3)\n",
    "print(y_train[:5])\n",
    "print(\"shape : \",x_train.shape)\n",
    "print(\"shape : \",y_train.shape)"
   ]
  },
  {
   "cell_type": "code",
   "execution_count": null,
   "metadata": {},
   "outputs": [],
   "source": [
    "model = Sequential([\n",
    "    Dense(60,activation=\"relu\",input_shape=(64,)),\n",
    "    Dense(40,activation=\"relu\") ,\n",
    "    Dense(40,activation=\"relu\") ,\n",
    "    Dense(30,activation=\"relu\") ,\n",
    "    Dense(30,activation=\"relu\") ,\n",
    "    Dense(20,activation=\"relu\") ,\n",
    "    # 다중분류모델의 활성화 함수는 softmax 입니다\n",
    "    Dense(10,activation=\"softmax\")\n",
    "])"
   ]
  },
  {
   "cell_type": "code",
   "execution_count": null,
   "metadata": {},
   "outputs": [
    {
     "name": "stdout",
     "output_type": "stream",
     "text": [
      "Epoch 1/100\n",
      "36/36 [==============================] - 1s 9ms/step - loss: 2.1098 - accuracy: 0.2332 - val_loss: 1.5977 - val_accuracy: 0.5347\n",
      "Epoch 2/100\n",
      "36/36 [==============================] - 0s 5ms/step - loss: 1.2079 - accuracy: 0.6223 - val_loss: 0.7669 - val_accuracy: 0.7708\n",
      "Epoch 3/100\n",
      "36/36 [==============================] - 0s 4ms/step - loss: 0.6269 - accuracy: 0.8172 - val_loss: 0.4313 - val_accuracy: 0.8924\n",
      "Epoch 4/100\n",
      "36/36 [==============================] - 0s 4ms/step - loss: 0.3532 - accuracy: 0.8956 - val_loss: 0.2967 - val_accuracy: 0.9062\n",
      "Epoch 5/100\n",
      "36/36 [==============================] - 0s 4ms/step - loss: 0.2434 - accuracy: 0.9130 - val_loss: 0.2304 - val_accuracy: 0.9201\n",
      "Epoch 6/100\n",
      "36/36 [==============================] - 0s 4ms/step - loss: 0.1471 - accuracy: 0.9565 - val_loss: 0.1823 - val_accuracy: 0.9340\n",
      "Epoch 7/100\n",
      "36/36 [==============================] - 0s 4ms/step - loss: 0.1103 - accuracy: 0.9721 - val_loss: 0.2062 - val_accuracy: 0.9410\n",
      "Epoch 8/100\n",
      "36/36 [==============================] - 0s 4ms/step - loss: 0.1041 - accuracy: 0.9652 - val_loss: 0.2126 - val_accuracy: 0.9271\n",
      "Epoch 9/100\n",
      "36/36 [==============================] - 0s 5ms/step - loss: 0.0733 - accuracy: 0.9809 - val_loss: 0.1572 - val_accuracy: 0.9549\n",
      "Epoch 10/100\n",
      "36/36 [==============================] - 0s 4ms/step - loss: 0.0457 - accuracy: 0.9896 - val_loss: 0.1527 - val_accuracy: 0.9340\n",
      "Epoch 11/100\n",
      "36/36 [==============================] - 0s 4ms/step - loss: 0.0377 - accuracy: 0.9878 - val_loss: 0.1430 - val_accuracy: 0.9479\n",
      "Epoch 12/100\n",
      "36/36 [==============================] - 0s 4ms/step - loss: 0.0251 - accuracy: 0.9965 - val_loss: 0.1556 - val_accuracy: 0.9444\n",
      "Epoch 13/100\n",
      "36/36 [==============================] - 0s 4ms/step - loss: 0.0245 - accuracy: 0.9983 - val_loss: 0.1573 - val_accuracy: 0.9479\n",
      "Epoch 14/100\n",
      "36/36 [==============================] - 0s 4ms/step - loss: 0.0171 - accuracy: 0.9965 - val_loss: 0.1313 - val_accuracy: 0.9653\n",
      "Epoch 15/100\n",
      "36/36 [==============================] - 0s 5ms/step - loss: 0.0133 - accuracy: 0.9983 - val_loss: 0.1477 - val_accuracy: 0.9410\n",
      "Epoch 16/100\n",
      "36/36 [==============================] - 0s 4ms/step - loss: 0.0134 - accuracy: 0.9983 - val_loss: 0.1573 - val_accuracy: 0.9444\n",
      "Epoch 17/100\n",
      "36/36 [==============================] - 0s 4ms/step - loss: 0.0068 - accuracy: 1.0000 - val_loss: 0.1299 - val_accuracy: 0.9653\n",
      "Epoch 18/100\n",
      "36/36 [==============================] - 0s 4ms/step - loss: 0.0056 - accuracy: 1.0000 - val_loss: 0.1407 - val_accuracy: 0.9583\n",
      "Epoch 19/100\n",
      "36/36 [==============================] - 0s 4ms/step - loss: 0.0043 - accuracy: 1.0000 - val_loss: 0.1356 - val_accuracy: 0.9583\n",
      "Epoch 00019: early stopping\n"
     ]
    }
   ],
   "source": [
    "# 이진분류는 마지막 활성함수는 sigmoid + loss 는 바이너리 크로스 엔트로피 \n",
    "from keras.callbacks import EarlyStopping\n",
    "\n",
    "early_stopping = EarlyStopping(\n",
    "monitor='val_loss',\n",
    "min_delta=0.01, patience=5, \n",
    "verbose=1, \n",
    "mode='min')\n",
    "\n",
    "# 훈련값이 int 형이기 때문에 sparse 를 사용합니다.\n",
    "model.compile(loss=\"categorical_crossentropy\"\n",
    "              ,optimizer=\"adam\"\n",
    "              ,metrics=[\"accuracy\"]\n",
    "              )\n",
    "\n",
    "hist = model.fit(x_train, y_train, epochs=100, batch_size=32, \n",
    "                 validation_split=0.2,\n",
    "                 callbacks = [early_stopping])\n",
    "\n",
    "# metrics 에 accuracy 사용가능\n"
   ]
  },
  {
   "cell_type": "code",
   "execution_count": null,
   "metadata": {},
   "outputs": [
    {
     "name": "stdout",
     "output_type": "stream",
     "text": [
      "12/12 [==============================] - 0s 2ms/step - loss: 0.1257 - accuracy: 0.9694\n",
      "loss: 0.12566447257995605 \n",
      "acc : 0.9694444537162781\n"
     ]
    }
   ],
   "source": [
    "loss,accuracy = model.evaluate(x_test,y_test)\n",
    "\n",
    "print(\"loss:\",loss,\"\\nacc :\" ,accuracy)\n"
   ]
  },
  {
   "cell_type": "code",
   "execution_count": null,
   "metadata": {},
   "outputs": [
    {
     "name": "stdout",
     "output_type": "stream",
     "text": [
      "[[4.93061272e-08 3.03483766e-11 3.01326976e-12 3.82628095e-05\n",
      "  7.63478951e-08 9.58649798e-06 6.53688909e-11 9.99947309e-01\n",
      "  7.72002835e-08 4.69179849e-06]\n",
      " [9.99999762e-01 1.60442853e-13 1.65799957e-14 2.86571819e-13\n",
      "  1.46068447e-13 6.75484178e-14 1.91406646e-09 8.99938684e-08\n",
      "  1.27746381e-11 9.41344851e-08]\n",
      " [7.80818787e-09 2.89343029e-11 1.79618109e-11 3.03238921e-04\n",
      "  2.04877046e-10 2.58181387e-07 1.45795964e-09 1.83840657e-05\n",
      "  5.96054576e-07 9.99677539e-01]\n",
      " [3.49503557e-06 1.06556705e-04 3.42057511e-08 2.88512902e-09\n",
      "  9.99668241e-01 3.69014538e-06 1.47784976e-05 1.34317952e-05\n",
      "  1.48890453e-04 4.07707448e-05]\n",
      " [5.42282180e-07 1.30580695e-04 1.33388101e-08 1.05286736e-05\n",
      "  1.90104056e-05 8.04634970e-10 2.03906366e-05 4.20788780e-07\n",
      "  9.99753416e-01 6.50884540e-05]]\n",
      "[7 0 9 4 8]\n"
     ]
    },
    {
     "ename": "AxisError",
     "evalue": "axis 1 is out of bounds for array of dimension 1",
     "output_type": "error",
     "traceback": [
      "\u001b[1;31m---------------------------------------------------------------------------\u001b[0m",
      "\u001b[1;31mAxisError\u001b[0m                                 Traceback (most recent call last)",
      "\u001b[1;32m~\\AppData\\Local\\Temp\\ipykernel_16872\\3337553320.py\u001b[0m in \u001b[0;36m<module>\u001b[1;34m\u001b[0m\n\u001b[0;32m     10\u001b[0m \u001b[0mprint\u001b[0m\u001b[1;33m(\u001b[0m\u001b[0my_predict\u001b[0m\u001b[1;33m[\u001b[0m\u001b[1;33m:\u001b[0m\u001b[1;36m5\u001b[0m\u001b[1;33m]\u001b[0m\u001b[1;33m)\u001b[0m\u001b[1;33m\u001b[0m\u001b[1;33m\u001b[0m\u001b[0m\n\u001b[0;32m     11\u001b[0m \u001b[1;31m# y_test 를 원핫 인코딩 해제 해야함\u001b[0m\u001b[1;33m\u001b[0m\u001b[1;33m\u001b[0m\u001b[0m\n\u001b[1;32m---> 12\u001b[1;33m \u001b[0my_test\u001b[0m \u001b[1;33m=\u001b[0m \u001b[0mnp\u001b[0m\u001b[1;33m.\u001b[0m\u001b[0margmax\u001b[0m\u001b[1;33m(\u001b[0m\u001b[0my_test\u001b[0m\u001b[1;33m,\u001b[0m\u001b[0maxis\u001b[0m\u001b[1;33m=\u001b[0m\u001b[1;36m1\u001b[0m\u001b[1;33m)\u001b[0m\u001b[1;33m\u001b[0m\u001b[1;33m\u001b[0m\u001b[0m\n\u001b[0m\u001b[0;32m     13\u001b[0m \u001b[1;33m\u001b[0m\u001b[0m\n\u001b[0;32m     14\u001b[0m \u001b[0mprint\u001b[0m\u001b[1;33m\u001b[0m\u001b[1;33m\u001b[0m\u001b[0m\n",
      "\u001b[1;32m<__array_function__ internals>\u001b[0m in \u001b[0;36margmax\u001b[1;34m(*args, **kwargs)\u001b[0m\n",
      "\u001b[1;32mc:\\Users\\bitcamp\\anaconda3\\envs\\tf274gpu\\lib\\site-packages\\numpy\\core\\fromnumeric.py\u001b[0m in \u001b[0;36margmax\u001b[1;34m(a, axis, out)\u001b[0m\n\u001b[0;32m   1193\u001b[0m \u001b[1;33m\u001b[0m\u001b[0m\n\u001b[0;32m   1194\u001b[0m     \"\"\"\n\u001b[1;32m-> 1195\u001b[1;33m     \u001b[1;32mreturn\u001b[0m \u001b[0m_wrapfunc\u001b[0m\u001b[1;33m(\u001b[0m\u001b[0ma\u001b[0m\u001b[1;33m,\u001b[0m \u001b[1;34m'argmax'\u001b[0m\u001b[1;33m,\u001b[0m \u001b[0maxis\u001b[0m\u001b[1;33m=\u001b[0m\u001b[0maxis\u001b[0m\u001b[1;33m,\u001b[0m \u001b[0mout\u001b[0m\u001b[1;33m=\u001b[0m\u001b[0mout\u001b[0m\u001b[1;33m)\u001b[0m\u001b[1;33m\u001b[0m\u001b[1;33m\u001b[0m\u001b[0m\n\u001b[0m\u001b[0;32m   1196\u001b[0m \u001b[1;33m\u001b[0m\u001b[0m\n\u001b[0;32m   1197\u001b[0m \u001b[1;33m\u001b[0m\u001b[0m\n",
      "\u001b[1;32mc:\\Users\\bitcamp\\anaconda3\\envs\\tf274gpu\\lib\\site-packages\\numpy\\core\\fromnumeric.py\u001b[0m in \u001b[0;36m_wrapfunc\u001b[1;34m(obj, method, *args, **kwds)\u001b[0m\n\u001b[0;32m     55\u001b[0m \u001b[1;33m\u001b[0m\u001b[0m\n\u001b[0;32m     56\u001b[0m     \u001b[1;32mtry\u001b[0m\u001b[1;33m:\u001b[0m\u001b[1;33m\u001b[0m\u001b[1;33m\u001b[0m\u001b[0m\n\u001b[1;32m---> 57\u001b[1;33m         \u001b[1;32mreturn\u001b[0m \u001b[0mbound\u001b[0m\u001b[1;33m(\u001b[0m\u001b[1;33m*\u001b[0m\u001b[0margs\u001b[0m\u001b[1;33m,\u001b[0m \u001b[1;33m**\u001b[0m\u001b[0mkwds\u001b[0m\u001b[1;33m)\u001b[0m\u001b[1;33m\u001b[0m\u001b[1;33m\u001b[0m\u001b[0m\n\u001b[0m\u001b[0;32m     58\u001b[0m     \u001b[1;32mexcept\u001b[0m \u001b[0mTypeError\u001b[0m\u001b[1;33m:\u001b[0m\u001b[1;33m\u001b[0m\u001b[1;33m\u001b[0m\u001b[0m\n\u001b[0;32m     59\u001b[0m         \u001b[1;31m# A TypeError occurs if the object does have such a method in its\u001b[0m\u001b[1;33m\u001b[0m\u001b[1;33m\u001b[0m\u001b[0m\n",
      "\u001b[1;31mAxisError\u001b[0m: axis 1 is out of bounds for array of dimension 1"
     ]
    }
   ],
   "source": [
    "from sklearn.metrics import accuracy_score\n",
    "y_predict = model.predict(x_test)\n",
    "\n",
    "# predict 의 값은 총 3개가 나오는데 softmax 특성상 sum 의 값은 1이 됨\n",
    "print(y_predict[:5])\n",
    "\n",
    "# argmax 는 x 를 최대값으로 만들어주는 입력을 구하는함수\n",
    "y_predict = np.argmax(y_predict,axis=1)\n",
    "# y_predict = to_categorical(y_predict,3)\n",
    "print(y_predict[:5])\n",
    "# y_test 를 원핫 인코딩 해제 해야함\n",
    "y_test = np.argmax(y_test,axis=1)\n",
    "print(y_test[:5])\n",
    "\n",
    "print\n",
    "print(\"========================================\")\n",
    "acc = accuracy_score(y_test,y_predict)\n",
    "print(acc)"
   ]
  },
  {
   "cell_type": "code",
   "execution_count": null,
   "metadata": {},
   "outputs": [
    {
     "data": {
      "text/plain": [
       "<Figure size 640x480 with 0 Axes>"
      ]
     },
     "metadata": {},
     "output_type": "display_data"
    },
    {
     "data": {
      "image/png": "[encoded data removed]",
      "text/plain": [
       "<Figure size 480x480 with 1 Axes>"
      ]
     },
     "metadata": {},
     "output_type": "display_data"
    }
   ],
   "source": [
    "import matplotlib.pyplot as plt\n",
    "plt.gray()\n",
    "plt.matshow(datasets.images[9])\n",
    "plt.show()\n"
   ]
  },
  {
   "cell_type": "code",
   "execution_count": null,
   "metadata": {},
   "outputs": [
    {
     "data": {
      "text/plain": [
       "0.30000000000000004"
      ]
     },
     "execution_count": 55,
     "metadata": {},
     "output_type": "execute_result"
    }
   ],
   "source": [
    "a=0.1\n",
    "b=0.2\n",
    "\n",
    "a+b"
   ]
  }
 ],
 "metadata": {
  "kernelspec": {
   "display_name": "tf274gpu",
   "language": "python",
   "name": "python3"
  },
  "language_info": {
   "codemirror_mode": {
    "name": "ipython",
    "version": 3
   },
   "file_extension": ".py",
   "mimetype": "text/x-python",
   "name": "python",
   "nbconvert_exporter": "python",
   "pygments_lexer": "ipython3",
   "version": "3.9.15"
  },
  "orig_nbformat": 4,
  "vscode": {
   "interpreter": {
    "hash": "10848e9bd3f5e7d93542d388001135334854454e7336dcf54c4ef52885ee0fb0"
   }
  }
 },
 "nbformat": 4,
 "nbformat_minor": 2
}
