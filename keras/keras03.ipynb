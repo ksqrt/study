{
 "cells": [
  {
   "cell_type": "code",
   "execution_count": 171,
   "metadata": {},
   "outputs": [
    {
     "name": "stdout",
     "output_type": "stream",
     "text": [
      "2.7.4\n"
     ]
    }
   ],
   "source": [
    "# 0. 텐서플로우 넘파이 임포트\n",
    "import numpy as np \n",
    "import tensorflow as tf\n",
    "\n",
    "print(tf.__version__)"
   ]
  },
  {
   "cell_type": "code",
   "execution_count": 172,
   "metadata": {},
   "outputs": [
    {
     "name": "stdout",
     "output_type": "stream",
     "text": [
      "[1 2 3 4 5]\n",
      "[1 2 3 5 4]\n"
     ]
    }
   ],
   "source": [
    "# 1. 데이터 준비 \n",
    "x = np.array([1,2,3,4,5])\n",
    "y = np.array([1,2,3,5,4])\n",
    "print(x)\n",
    "print(y)"
   ]
  },
  {
   "cell_type": "code",
   "execution_count": 173,
   "metadata": {},
   "outputs": [],
   "source": [
    "# 2. 모델구성\n",
    "from tensorflow.keras.models import Sequential\n",
    "from tensorflow.keras.layers import Dense\n",
    "# 모델은 순차적이며 input 노드 1개 output 노드 1개 로 구성\n",
    "# 손실함수 mae, 옵티마이저는 아담이 국룰\n",
    "model = Sequential()\n",
    "model.add(Dense(1,input_dim=1))\n",
    "model.compile(loss=\"mae\",optimizer=\"adam\")"
   ]
  },
  {
   "cell_type": "code",
   "execution_count": 174,
   "metadata": {},
   "outputs": [
    {
     "name": "stdout",
     "output_type": "stream",
     "text": [
      "Epoch 1/100\n",
      "100/100 [==============================] - 0s 584us/step - loss: 0.4201\n",
      "Epoch 2/100\n",
      "100/100 [==============================] - 0s 494us/step - loss: 0.4052\n",
      "Epoch 3/100\n",
      "100/100 [==============================] - 0s 483us/step - loss: 0.4014\n",
      "Epoch 4/100\n",
      "100/100 [==============================] - 0s 504us/step - loss: 0.4007\n",
      "Epoch 5/100\n",
      "100/100 [==============================] - 0s 504us/step - loss: 0.4007\n",
      "Epoch 6/100\n",
      "WARNING:tensorflow:Your input ran out of data; interrupting training. Make sure that your dataset or generator can generate at least `steps_per_epoch * epochs` batches (in this case, 10000 batches). You may need to use the repeat() function when building your dataset.\n",
      "100/100 [==============================] - 0s 160us/step - loss: 0.4007\n"
     ]
    },
    {
     "data": {
      "text/plain": [
       "<keras.callbacks.History at 0x1d0df9612b0>"
      ]
     },
     "execution_count": 174,
     "metadata": {},
     "output_type": "execute_result"
    }
   ],
   "source": [
    "# 3. 모델 학습진행\n",
    "model.fit(x,y, epochs=100,steps_per_epoch=100)\n"
   ]
  },
  {
   "cell_type": "code",
   "execution_count": 175,
   "metadata": {},
   "outputs": [
    {
     "name": "stdout",
     "output_type": "stream",
     "text": [
      "6의 예측값 : [[5.9937496]]\n"
     ]
    }
   ],
   "source": [
    "result = model.predict([6])\n",
    "print(\"6의 예측값 :\", result)"
   ]
  }
 ],
 "metadata": {
  "kernelspec": {
   "display_name": "tf27",
   "language": "python",
   "name": "python3"
  },
  "language_info": {
   "codemirror_mode": {
    "name": "ipython",
    "version": 3
   },
   "file_extension": ".py",
   "mimetype": "text/x-python",
   "name": "python",
   "nbconvert_exporter": "python",
   "pygments_lexer": "ipython3",
   "version": "3.9.7 (default, Sep 16 2021, 16:59:28) [MSC v.1916 64 bit (AMD64)]"
  },
  "orig_nbformat": 4,
  "vscode": {
   "interpreter": {
    "hash": "b47fb4e6c68d4941015efb0bbf71549277582fe8531338196fc3c7fa71b6aab8"
   }
  }
 },
 "nbformat": 4,
 "nbformat_minor": 2
}
