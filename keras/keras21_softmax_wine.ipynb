{
 "cells": [
  {
   "cell_type": "code",
   "execution_count": 111,
   "metadata": {},
   "outputs": [],
   "source": [
    "from sklearn.datasets import load_wine\n",
    "import numpy as np\n",
    "import pandas as pd\n",
    "import tensorflow as tf\n",
    "from tensorflow.keras.utils import to_categorical\n",
    "from tensorflow.keras.models import Sequential\n",
    "from tensorflow.keras.layers import Dense,Dropout\n",
    "from sklearn.model_selection import train_test_split\n",
    "from sklearn.metrics import mean_squared_error, r2_score\n",
    "# 1. 데이터 \n",
    "datasets = (load_wine())\n",
    "\n",
    "x = pd.DataFrame(datasets[\"data\"])\n",
    "y = pd.DataFrame(datasets[\"target\"])"
   ]
  },
  {
   "cell_type": "code",
   "execution_count": 112,
   "metadata": {},
   "outputs": [
    {
     "name": "stdout",
     "output_type": "stream",
     "text": [
      "(178, 13) (178, 1)\n",
      "   0\n",
      "0  0\n",
      "1  0\n",
      "2  0\n",
      "3  0\n",
      "4  0\n",
      "[0 1 2]\n",
      "(array([0, 1, 2]), array([59, 71, 48], dtype=int64))\n"
     ]
    }
   ],
   "source": [
    "print(x.shape,y.shape) # (178, 13) (178, 1)\n",
    "print(y[:5])\n",
    "\n",
    "# y의 클래스 값 분류 + 불균형확인\n",
    "print(np.unique(y)) # [0 1 2]\n",
    "print(np.unique(y,return_counts=True)) # [0 1 2]\n",
    "\n",
    "y = to_categorical(y)"
   ]
  },
  {
   "cell_type": "code",
   "execution_count": 113,
   "metadata": {},
   "outputs": [
    {
     "name": "stdout",
     "output_type": "stream",
     "text": [
      "[[0. 1. 0.]\n",
      " [0. 0. 1.]\n",
      " [0. 0. 1.]\n",
      " [1. 0. 0.]\n",
      " [0. 1. 0.]]\n",
      "shape :  (142, 3)\n"
     ]
    }
   ],
   "source": [
    "# print(x.info())\n",
    "# print(x.describe())\n",
    "# 데이터 분리\n",
    "x_train, x_test, y_train,y_test = train_test_split(x,y,\n",
    "                                                   train_size=0.8,\n",
    "                                                   shuffle = True,\n",
    "                                                #  stratify 는 데이터 불균형을 해결해줌\n",
    "                                                   stratify=y\n",
    "                                                #    random_state=21\n",
    "                                                   )\n",
    "# print(x.columns)\n",
    "# y 의 첫번째 칼럼을 원핫 인코딩 변환\n",
    "# y_train[0] = tf.one_hot(y_train[0],3)\n",
    "# y_test[0] = tf.one_hot(y_test[0],3)\n",
    "print(y_train[:5])\n",
    "print(\"shape : \",y_train.shape)"
   ]
  },
  {
   "cell_type": "code",
   "execution_count": 114,
   "metadata": {},
   "outputs": [],
   "source": [
    "model = Sequential([\n",
    "    Dense(50,activation=\"relu\",input_shape=(13,)),\n",
    "    Dense(40,activation=\"relu\") ,\n",
    "    Dense(40,activation=\"relu\") ,\n",
    "    Dense(30,activation=\"relu\") ,\n",
    "    Dense(30,activation=\"relu\") ,\n",
    "    Dense(20,activation=\"relu\") ,\n",
    "    # 다중분류모델의 활성화 함수는 softmax 입니다\n",
    "    Dense(3,activation=\"softmax\")\n",
    "])"
   ]
  },
  {
   "cell_type": "code",
   "execution_count": 115,
   "metadata": {},
   "outputs": [
    {
     "name": "stdout",
     "output_type": "stream",
     "text": [
      "Epoch 1/100\n",
      "4/4 [==============================] - 0s 48ms/step - loss: 9.6447 - accuracy: 0.2389 - val_loss: 6.5938 - val_accuracy: 0.3103\n",
      "Epoch 2/100\n",
      "4/4 [==============================] - 0s 11ms/step - loss: 5.1753 - accuracy: 0.3363 - val_loss: 3.3800 - val_accuracy: 0.3103\n",
      "Epoch 3/100\n",
      "4/4 [==============================] - 0s 11ms/step - loss: 2.0674 - accuracy: 0.3717 - val_loss: 1.4900 - val_accuracy: 0.4138\n",
      "Epoch 4/100\n",
      "4/4 [==============================] - 0s 11ms/step - loss: 1.6170 - accuracy: 0.3805 - val_loss: 2.1585 - val_accuracy: 0.2759\n",
      "Epoch 5/100\n",
      "4/4 [==============================] - 0s 11ms/step - loss: 1.4071 - accuracy: 0.5310 - val_loss: 2.1210 - val_accuracy: 0.3103\n",
      "Epoch 6/100\n",
      "4/4 [==============================] - 0s 10ms/step - loss: 1.2986 - accuracy: 0.3717 - val_loss: 0.9481 - val_accuracy: 0.4483\n",
      "Epoch 7/100\n",
      "4/4 [==============================] - 0s 10ms/step - loss: 1.2251 - accuracy: 0.2832 - val_loss: 1.0465 - val_accuracy: 0.5172\n",
      "Epoch 8/100\n",
      "4/4 [==============================] - 0s 10ms/step - loss: 0.9747 - accuracy: 0.4159 - val_loss: 1.3664 - val_accuracy: 0.3448\n",
      "Epoch 9/100\n",
      "4/4 [==============================] - 0s 11ms/step - loss: 1.0895 - accuracy: 0.4956 - val_loss: 1.2177 - val_accuracy: 0.4483\n",
      "Epoch 10/100\n",
      "4/4 [==============================] - 0s 11ms/step - loss: 0.9358 - accuracy: 0.6106 - val_loss: 0.9690 - val_accuracy: 0.3793\n",
      "Epoch 11/100\n",
      "4/4 [==============================] - 0s 10ms/step - loss: 0.8439 - accuracy: 0.4867 - val_loss: 0.8635 - val_accuracy: 0.4828\n",
      "Epoch 12/100\n",
      "4/4 [==============================] - 0s 10ms/step - loss: 0.8473 - accuracy: 0.4779 - val_loss: 0.9118 - val_accuracy: 0.4483\n",
      "Epoch 13/100\n",
      "4/4 [==============================] - 0s 11ms/step - loss: 0.7712 - accuracy: 0.6726 - val_loss: 0.9900 - val_accuracy: 0.4138\n",
      "Epoch 14/100\n",
      "4/4 [==============================] - 0s 10ms/step - loss: 0.7848 - accuracy: 0.6726 - val_loss: 0.8584 - val_accuracy: 0.4828\n",
      "Epoch 15/100\n",
      "4/4 [==============================] - 0s 10ms/step - loss: 0.7822 - accuracy: 0.6195 - val_loss: 0.8200 - val_accuracy: 0.5172\n",
      "Epoch 16/100\n",
      "4/4 [==============================] - 0s 11ms/step - loss: 0.7757 - accuracy: 0.4513 - val_loss: 0.8654 - val_accuracy: 0.3793\n",
      "Epoch 17/100\n",
      "4/4 [==============================] - 0s 11ms/step - loss: 0.7633 - accuracy: 0.6726 - val_loss: 0.9407 - val_accuracy: 0.5172\n",
      "Epoch 18/100\n",
      "4/4 [==============================] - 0s 11ms/step - loss: 0.7606 - accuracy: 0.6549 - val_loss: 0.9343 - val_accuracy: 0.5172\n",
      "Epoch 19/100\n",
      "4/4 [==============================] - 0s 11ms/step - loss: 0.7459 - accuracy: 0.6726 - val_loss: 0.8213 - val_accuracy: 0.5172\n",
      "Epoch 20/100\n",
      "4/4 [==============================] - 0s 11ms/step - loss: 0.7355 - accuracy: 0.6814 - val_loss: 0.8345 - val_accuracy: 0.4828\n",
      "Epoch 00020: early stopping\n"
     ]
    }
   ],
   "source": [
    "# 이진분류는 마지막 활성함수는 sigmoid + loss 는 바이너리 크로스 엔트로피 \n",
    "from keras.callbacks import EarlyStopping\n",
    "\n",
    "early_stopping = EarlyStopping(\n",
    "monitor='val_loss',\n",
    "min_delta=0.01, patience=5, \n",
    "verbose=1, \n",
    "mode='min')\n",
    "\n",
    "# 훈련값이 int 형이기 때문에 sparse 를 사용합니다.\n",
    "model.compile(loss=\"categorical_crossentropy\"\n",
    "              ,optimizer=\"adam\"\n",
    "              ,metrics=[\"accuracy\"]\n",
    "              )\n",
    "\n",
    "hist = model.fit(x_train, y_train, epochs=100, batch_size=32, \n",
    "                 validation_split=0.2,\n",
    "                 callbacks = [early_stopping])\n",
    "\n",
    "# metrics 에 accuracy 사용가능\n"
   ]
  },
  {
   "cell_type": "code",
   "execution_count": 116,
   "metadata": {},
   "outputs": [
    {
     "name": "stdout",
     "output_type": "stream",
     "text": [
      "2/2 [==============================] - 0s 4ms/step - loss: 0.6196 - accuracy: 0.7222\n",
      "loss: 0.6195555329322815 \n",
      "acc : 0.7222222089767456\n"
     ]
    }
   ],
   "source": [
    "loss,accuracy = model.evaluate(x_test,y_test)\n",
    "\n",
    "print(\"loss:\",loss,\"\\nacc :\" ,accuracy)\n"
   ]
  },
  {
   "cell_type": "code",
   "execution_count": 117,
   "metadata": {},
   "outputs": [
    {
     "name": "stdout",
     "output_type": "stream",
     "text": [
      "[[3.7233719e-01 3.8855308e-01 2.3910968e-01]\n",
      " [1.0860028e-01 5.0814509e-01 3.8325465e-01]\n",
      " [9.9711156e-01 2.0479271e-03 8.4052258e-04]\n",
      " [6.7412198e-02 5.5603230e-01 3.7655556e-01]\n",
      " [1.2014381e-01 4.9699479e-01 3.8286141e-01]]\n",
      "[1 1 0 1 1]\n",
      "[1 1 0 1 1]\n",
      "========================================\n",
      "0.7222222222222222\n"
     ]
    }
   ],
   "source": [
    "from sklearn.metrics import accuracy_score\n",
    "y_predict = model.predict(x_test)\n",
    "\n",
    "# predict 의 값은 총 3개가 나오는데 softmax 특성상 sum 의 값은 1이 됨\n",
    "print(y_predict[:5])\n",
    "\n",
    "# argmax 는 x 를 최대값으로 만들어주는 입력을 구하는함수\n",
    "y_predict = np.argmax(y_predict,axis=1)\n",
    "# y_predict = to_categorical(y_predict,3)\n",
    "print(y_predict[:5])\n",
    "# y_test 를 원핫 인코딩 해제 해야함\n",
    "y_test = np.argmax(y_test,axis=1)\n",
    "print(y_test[:5])\n",
    "\n",
    "print\n",
    "print(\"========================================\")\n",
    "acc = accuracy_score(y_test,y_predict)\n",
    "print(acc)"
   ]
  },
  {
   "cell_type": "code",
   "execution_count": null,
   "metadata": {},
   "outputs": [],
   "source": []
  }
 ],
 "metadata": {
  "kernelspec": {
   "display_name": "tf274gpu",
   "language": "python",
   "name": "python3"
  },
  "language_info": {
   "codemirror_mode": {
    "name": "ipython",
    "version": 3
   },
   "file_extension": ".py",
   "mimetype": "text/x-python",
   "name": "python",
   "nbconvert_exporter": "python",
   "pygments_lexer": "ipython3",
   "version": "3.9.15"
  },
  "orig_nbformat": 4,
  "vscode": {
   "interpreter": {
    "hash": "10848e9bd3f5e7d93542d388001135334854454e7336dcf54c4ef52885ee0fb0"
   }
  }
 },
 "nbformat": 4,
 "nbformat_minor": 2
}
