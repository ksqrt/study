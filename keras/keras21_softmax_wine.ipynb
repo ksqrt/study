{
 "cells": [
  {
   "cell_type": "code",
   "execution_count": 23,
   "metadata": {},
   "outputs": [],
   "source": [
    "from sklearn.datasets import load_wine\n",
    "import numpy as np\n",
    "import pandas as pd\n",
    "import tensorflow as tf\n",
    "from tensorflow.keras.utils import to_categorical\n",
    "from tensorflow.keras.models import Sequential\n",
    "from tensorflow.keras.layers import Dense,Dropout\n",
    "from sklearn.model_selection import train_test_split\n",
    "from sklearn.metrics import mean_squared_error, r2_score\n",
    "# 1. 데이터 \n",
    "datasets = (load_wine())\n",
    "\n",
    "x = pd.DataFrame(datasets[\"data\"])\n",
    "y = pd.DataFrame(datasets[\"target\"])"
   ]
  },
  {
   "cell_type": "code",
   "execution_count": 25,
   "metadata": {},
   "outputs": [
    {
     "name": "stdout",
     "output_type": "stream",
     "text": [
      "(178, 13) (178, 1)\n",
      "   0\n",
      "0  0\n",
      "1  0\n",
      "2  0\n",
      "3  0\n",
      "4  0\n",
      "[0 1 2]\n",
      "(array([0, 1, 2]), array([59, 71, 48], dtype=int64))\n"
     ]
    }
   ],
   "source": [
    "print(x.shape,y.shape) # (178, 13) (178, 1)\n",
    "print(y[:5])\n",
    "\n",
    "# y의 클래스 값 분류 + 불균형확인\n",
    "print(np.unique(y)) # [0 1 2]\n",
    "print(np.unique(y,return_counts=True)) # [0 1 2]\n",
    "\n",
    "y = to_categorical(y)"
   ]
  },
  {
   "cell_type": "code",
   "execution_count": 26,
   "metadata": {},
   "outputs": [
    {
     "name": "stdout",
     "output_type": "stream",
     "text": [
      "[[1. 0. 0.]\n",
      " [0. 0. 1.]\n",
      " [0. 1. 0.]\n",
      " [0. 1. 0.]\n",
      " [0. 1. 0.]]\n",
      "shape :  (142, 3)\n"
     ]
    }
   ],
   "source": [
    "# print(x.info())\n",
    "# print(x.describe())\n",
    "# 데이터 분리\n",
    "x_train, x_test, y_train,y_test = train_test_split(x,y,\n",
    "                                                   train_size=0.8,\n",
    "                                                   shuffle = True,\n",
    "                                                #  stratify 는 데이터 불균형을 해결해줌\n",
    "                                                   stratify=y\n",
    "                                                #    random_state=21\n",
    "                                                   )\n",
    "# print(x.columns)\n",
    "# y 의 첫번째 칼럼을 원핫 인코딩 변환\n",
    "# y_train[0] = tf.one_hot(y_train[0],3)\n",
    "# y_test[0] = tf.one_hot(y_test[0],3)\n",
    "print(y_train[:5])\n",
    "print(\"shape : \",y_train.shape)"
   ]
  },
  {
   "cell_type": "code",
   "execution_count": 80,
   "metadata": {},
   "outputs": [],
   "source": [
    "model = Sequential([\n",
    "    Dense(50,activation=\"relu\",input_shape=(13,)),\n",
    "    Dense(40,activation=\"relu\") ,\n",
    "    Dense(40,activation=\"relu\") ,\n",
    "    Dense(30,activation=\"relu\") ,\n",
    "    Dense(30,activation=\"relu\") ,\n",
    "    Dense(20,activation=\"relu\") ,\n",
    "    # 다중분류모델의 활성화 함수는 softmax 입니다\n",
    "    Dense(3,activation=\"softmax\")\n",
    "])"
   ]
  },
  {
   "cell_type": "code",
   "execution_count": 81,
   "metadata": {},
   "outputs": [
    {
     "name": "stdout",
     "output_type": "stream",
     "text": [
      "Epoch 1/100\n",
      "3/3 [==============================] - 0s 69ms/step - loss: 1.1164 - accuracy: 0.3438 - val_loss: 1.1085 - val_accuracy: 0.2917\n",
      "Epoch 2/100\n",
      "3/3 [==============================] - 0s 14ms/step - loss: 1.0821 - accuracy: 0.5208 - val_loss: 1.0764 - val_accuracy: 0.6250\n",
      "Epoch 3/100\n",
      "3/3 [==============================] - 0s 14ms/step - loss: 1.0573 - accuracy: 0.6146 - val_loss: 1.0543 - val_accuracy: 0.6250\n",
      "Epoch 4/100\n",
      "3/3 [==============================] - 0s 13ms/step - loss: 1.0336 - accuracy: 0.6042 - val_loss: 1.0299 - val_accuracy: 0.6250\n",
      "Epoch 5/100\n",
      "3/3 [==============================] - 0s 14ms/step - loss: 1.0095 - accuracy: 0.6562 - val_loss: 0.9967 - val_accuracy: 0.6250\n",
      "Epoch 6/100\n",
      "3/3 [==============================] - 0s 14ms/step - loss: 0.9651 - accuracy: 0.6771 - val_loss: 0.9510 - val_accuracy: 0.6250\n",
      "Epoch 7/100\n",
      "3/3 [==============================] - 0s 14ms/step - loss: 0.9074 - accuracy: 0.6771 - val_loss: 0.8926 - val_accuracy: 0.6250\n",
      "Epoch 8/100\n",
      "3/3 [==============================] - 0s 14ms/step - loss: 0.8499 - accuracy: 0.6771 - val_loss: 0.8365 - val_accuracy: 0.6250\n",
      "Epoch 9/100\n",
      "3/3 [==============================] - 0s 14ms/step - loss: 0.7886 - accuracy: 0.6771 - val_loss: 0.7769 - val_accuracy: 0.6667\n",
      "Epoch 10/100\n",
      "3/3 [==============================] - 0s 14ms/step - loss: 0.7294 - accuracy: 0.6875 - val_loss: 0.7186 - val_accuracy: 0.6667\n",
      "Epoch 11/100\n",
      "3/3 [==============================] - 0s 13ms/step - loss: 0.6654 - accuracy: 0.6979 - val_loss: 0.6606 - val_accuracy: 0.6667\n",
      "Epoch 12/100\n",
      "3/3 [==============================] - 0s 14ms/step - loss: 0.6025 - accuracy: 0.7083 - val_loss: 0.6004 - val_accuracy: 0.7083\n",
      "Epoch 13/100\n",
      "3/3 [==============================] - 0s 13ms/step - loss: 0.5437 - accuracy: 0.7708 - val_loss: 0.5379 - val_accuracy: 0.7917\n",
      "Epoch 14/100\n",
      "3/3 [==============================] - 0s 15ms/step - loss: 0.4858 - accuracy: 0.8438 - val_loss: 0.4861 - val_accuracy: 0.7917\n",
      "Epoch 15/100\n",
      "3/3 [==============================] - 0s 13ms/step - loss: 0.4469 - accuracy: 0.7917 - val_loss: 0.4449 - val_accuracy: 0.9167\n",
      "Epoch 16/100\n",
      "3/3 [==============================] - 0s 13ms/step - loss: 0.3973 - accuracy: 0.9167 - val_loss: 0.4106 - val_accuracy: 0.9583\n",
      "Epoch 17/100\n",
      "3/3 [==============================] - 0s 13ms/step - loss: 0.3651 - accuracy: 0.9688 - val_loss: 0.3622 - val_accuracy: 0.9583\n",
      "Epoch 18/100\n",
      "3/3 [==============================] - 0s 13ms/step - loss: 0.3348 - accuracy: 0.9583 - val_loss: 0.3278 - val_accuracy: 0.9583\n",
      "Epoch 19/100\n",
      "3/3 [==============================] - 0s 13ms/step - loss: 0.3030 - accuracy: 0.9583 - val_loss: 0.2962 - val_accuracy: 0.9583\n",
      "Epoch 20/100\n",
      "3/3 [==============================] - 0s 13ms/step - loss: 0.2777 - accuracy: 0.9479 - val_loss: 0.2700 - val_accuracy: 1.0000\n",
      "Epoch 21/100\n",
      "3/3 [==============================] - 0s 14ms/step - loss: 0.2554 - accuracy: 0.9688 - val_loss: 0.2438 - val_accuracy: 1.0000\n",
      "Epoch 22/100\n",
      "3/3 [==============================] - 0s 13ms/step - loss: 0.2340 - accuracy: 0.9688 - val_loss: 0.2189 - val_accuracy: 0.9583\n",
      "Epoch 23/100\n",
      "3/3 [==============================] - 0s 13ms/step - loss: 0.2289 - accuracy: 0.9479 - val_loss: 0.1981 - val_accuracy: 1.0000\n",
      "Epoch 24/100\n",
      "3/3 [==============================] - 0s 13ms/step - loss: 0.2102 - accuracy: 0.9479 - val_loss: 0.1828 - val_accuracy: 0.9583\n",
      "Epoch 25/100\n",
      "3/3 [==============================] - 0s 13ms/step - loss: 0.1989 - accuracy: 0.9479 - val_loss: 0.1806 - val_accuracy: 0.9583\n",
      "Epoch 26/100\n",
      "3/3 [==============================] - 0s 13ms/step - loss: 0.1720 - accuracy: 0.9688 - val_loss: 0.1625 - val_accuracy: 0.9583\n",
      "Epoch 27/100\n",
      "3/3 [==============================] - 0s 13ms/step - loss: 0.1641 - accuracy: 0.9479 - val_loss: 0.1427 - val_accuracy: 1.0000\n",
      "Epoch 28/100\n",
      "3/3 [==============================] - 0s 13ms/step - loss: 0.1659 - accuracy: 0.9375 - val_loss: 0.1256 - val_accuracy: 1.0000\n",
      "Epoch 29/100\n",
      "3/3 [==============================] - 0s 13ms/step - loss: 0.1630 - accuracy: 0.9479 - val_loss: 0.1194 - val_accuracy: 0.9583\n",
      "Epoch 30/100\n",
      "3/3 [==============================] - 0s 13ms/step - loss: 0.1552 - accuracy: 0.9375 - val_loss: 0.1351 - val_accuracy: 0.9583\n",
      "Epoch 31/100\n",
      "3/3 [==============================] - 0s 13ms/step - loss: 0.1363 - accuracy: 0.9479 - val_loss: 0.1215 - val_accuracy: 0.9583\n",
      "Epoch 32/100\n",
      "3/3 [==============================] - 0s 13ms/step - loss: 0.1382 - accuracy: 0.9583 - val_loss: 0.0976 - val_accuracy: 1.0000\n",
      "Epoch 33/100\n",
      "3/3 [==============================] - 0s 13ms/step - loss: 0.1217 - accuracy: 0.9792 - val_loss: 0.0896 - val_accuracy: 1.0000\n",
      "Epoch 34/100\n",
      "3/3 [==============================] - 0s 12ms/step - loss: 0.1173 - accuracy: 0.9688 - val_loss: 0.0837 - val_accuracy: 1.0000\n",
      "Epoch 35/100\n",
      "3/3 [==============================] - 0s 12ms/step - loss: 0.1148 - accuracy: 0.9688 - val_loss: 0.0786 - val_accuracy: 1.0000\n",
      "Epoch 36/100\n",
      "3/3 [==============================] - 0s 13ms/step - loss: 0.1161 - accuracy: 0.9688 - val_loss: 0.0761 - val_accuracy: 1.0000\n",
      "Epoch 37/100\n",
      "3/3 [==============================] - 0s 13ms/step - loss: 0.1056 - accuracy: 0.9688 - val_loss: 0.0735 - val_accuracy: 1.0000\n",
      "Epoch 38/100\n",
      "3/3 [==============================] - 0s 13ms/step - loss: 0.1088 - accuracy: 0.9688 - val_loss: 0.0703 - val_accuracy: 1.0000\n",
      "Epoch 39/100\n",
      "3/3 [==============================] - 0s 13ms/step - loss: 0.1031 - accuracy: 0.9792 - val_loss: 0.0751 - val_accuracy: 1.0000\n",
      "Epoch 40/100\n",
      "3/3 [==============================] - 0s 13ms/step - loss: 0.1015 - accuracy: 0.9583 - val_loss: 0.0644 - val_accuracy: 1.0000\n",
      "Epoch 41/100\n",
      "3/3 [==============================] - 0s 13ms/step - loss: 0.1073 - accuracy: 0.9688 - val_loss: 0.0620 - val_accuracy: 1.0000\n",
      "Epoch 42/100\n",
      "3/3 [==============================] - 0s 13ms/step - loss: 0.1001 - accuracy: 0.9792 - val_loss: 0.0592 - val_accuracy: 1.0000\n",
      "Epoch 43/100\n",
      "3/3 [==============================] - 0s 13ms/step - loss: 0.1026 - accuracy: 0.9583 - val_loss: 0.0575 - val_accuracy: 1.0000\n",
      "Epoch 44/100\n",
      "3/3 [==============================] - 0s 13ms/step - loss: 0.1070 - accuracy: 0.9688 - val_loss: 0.0573 - val_accuracy: 1.0000\n",
      "Epoch 45/100\n",
      "3/3 [==============================] - 0s 13ms/step - loss: 0.1015 - accuracy: 0.9479 - val_loss: 0.0686 - val_accuracy: 1.0000\n",
      "Epoch 46/100\n",
      "3/3 [==============================] - 0s 13ms/step - loss: 0.1061 - accuracy: 0.9792 - val_loss: 0.0537 - val_accuracy: 1.0000\n",
      "Epoch 00046: early stopping\n"
     ]
    }
   ],
   "source": [
    "# 이진분류는 마지막 활성함수는 sigmoid + loss 는 바이너리 크로스 엔트로피 \n",
    "from keras.callbacks import EarlyStopping\n",
    "\n",
    "early_stopping = EarlyStopping(\n",
    "monitor='val_loss',\n",
    "min_delta=0.01, patience=5, \n",
    "verbose=1, \n",
    "mode='min')\n",
    "\n",
    "# 훈련값이 int 형이기 때문에 sparse 를 사용합니다.\n",
    "model.compile(loss=\"categorical_crossentropy\"\n",
    "              ,optimizer=\"adam\"\n",
    "              ,metrics=[\"accuracy\"]\n",
    "              )\n",
    "\n",
    "hist = model.fit(x_train, y_train, epochs=100, batch_size=32, \n",
    "                 validation_split=0.2,\n",
    "                 callbacks = [early_stopping])\n",
    "\n",
    "# metrics 에 accuracy 사용가능\n"
   ]
  },
  {
   "cell_type": "code",
   "execution_count": 82,
   "metadata": {},
   "outputs": [
    {
     "name": "stdout",
     "output_type": "stream",
     "text": [
      "1/1 [==============================] - 0s 17ms/step - loss: 0.0903 - accuracy: 0.9667\n",
      "loss: 0.09032515436410904 \n",
      "acc : 0.9666666388511658\n"
     ]
    }
   ],
   "source": [
    "loss,accuracy = model.evaluate(x_test,y_test)\n",
    "\n",
    "print(\"loss:\",loss,\"\\nacc :\" ,accuracy)\n"
   ]
  },
  {
   "cell_type": "code",
   "execution_count": 83,
   "metadata": {},
   "outputs": [
    {
     "name": "stdout",
     "output_type": "stream",
     "text": [
      "[[9.9883050e-01 1.1695052e-03 1.9535790e-08]\n",
      " [9.9652570e-01 3.4741717e-03 1.3695870e-07]\n",
      " [5.7510961e-06 1.1239207e-02 9.8875511e-01]\n",
      " [9.9739194e-01 2.6079724e-03 9.2927820e-08]\n",
      " [4.6181932e-04 7.7859813e-01 2.2094001e-01]]\n",
      "[0 0 2 0 1]\n",
      "[0 0 2 0 1]\n",
      "========================================\n",
      "0.9666666666666667\n"
     ]
    }
   ],
   "source": [
    "from sklearn.metrics import accuracy_score\n",
    "y_predict = model.predict(x_test)\n",
    "\n",
    "# predict 의 값은 총 3개가 나오는데 softmax 특성상 sum 의 값은 1이 됨\n",
    "print(y_predict[:5])\n",
    "\n",
    "# argmax 는 x 를 최대값으로 만들어주는 입력을 구하는함수\n",
    "y_predict = np.argmax(y_predict,axis=1)\n",
    "# y_predict = to_categorical(y_predict,3)\n",
    "print(y_predict[:5])\n",
    "# y_test 를 원핫 인코딩 해제 해야함\n",
    "y_test = np.argmax(y_test,axis=1)\n",
    "print(y_test[:5])\n",
    "\n",
    "print\n",
    "print(\"========================================\")\n",
    "acc = accuracy_score(y_test,y_predict)\n",
    "print(acc)"
   ]
  },
  {
   "cell_type": "code",
   "execution_count": null,
   "metadata": {},
   "outputs": [],
   "source": []
  }
 ],
 "metadata": {
  "kernelspec": {
   "display_name": "tf274gpu",
   "language": "python",
   "name": "python3"
  },
  "language_info": {
   "codemirror_mode": {
    "name": "ipython",
    "version": 3
   },
   "file_extension": ".py",
   "mimetype": "text/x-python",
   "name": "python",
   "nbconvert_exporter": "python",
   "pygments_lexer": "ipython3",
   "version": "3.9.15"
  },
  "orig_nbformat": 4,
  "vscode": {
   "interpreter": {
    "hash": "10848e9bd3f5e7d93542d388001135334854454e7336dcf54c4ef52885ee0fb0"
   }
  }
 },
 "nbformat": 4,
 "nbformat_minor": 2
}
