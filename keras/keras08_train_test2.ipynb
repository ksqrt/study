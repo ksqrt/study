{
 "cells": [
  {
   "cell_type": "code",
   "execution_count": 26,
   "metadata": {},
   "outputs": [],
   "source": [
    "import numpy as np\n",
    "from tensorflow.keras.models import Sequential\n",
    "from tensorflow.keras.layers import Dense\n",
    "\n"
   ]
  },
  {
   "cell_type": "code",
   "execution_count": 27,
   "metadata": {},
   "outputs": [
    {
     "name": "stdout",
     "output_type": "stream",
     "text": [
      "[1 2 3 4 5 6 7]\n",
      "[0 1 2 3 4 5 6]\n",
      "[ 8  9 10]\n",
      "[7 8 9]\n"
     ]
    }
   ],
   "source": [
    "# 2.데이터 정의\n",
    "\n",
    "\n",
    "x = np.array([1,2,3,4,5,6,7,8,9,10]) \n",
    "y= np.array(range(10))\n",
    "\n",
    "# 파이썬 슬라이씽 \n",
    "x_train = x[:7]\n",
    "y_train = y[:7]\n",
    "# y_train = y [:-3]\n",
    "\n",
    "x_test = x[7:]\n",
    "y_test = y[-3:]\n",
    "\n",
    "\n",
    "print(x_train)\n",
    "print(y_train)\n",
    "\n",
    "print(x_test)\n",
    "print(y_test)\n",
    "\n",
    "\n",
    "# x_train = x_train.T \n",
    "# y_train = y_train.T \n",
    "\n",
    "# # 칼럼을 하날만\n"
   ]
  },
  {
   "cell_type": "code",
   "execution_count": 28,
   "metadata": {},
   "outputs": [
    {
     "name": "stdout",
     "output_type": "stream",
     "text": [
      "Model: \"sequential_3\"\n",
      "_________________________________________________________________\n",
      " Layer (type)                Output Shape              Param #   \n",
      "=================================================================\n",
      " dense_15 (Dense)            (None, 9)                 18        \n",
      "                                                                 \n",
      " dense_16 (Dense)            (None, 9)                 90        \n",
      "                                                                 \n",
      " dense_17 (Dense)            (None, 4)                 40        \n",
      "                                                                 \n",
      " dense_18 (Dense)            (None, 9)                 45        \n",
      "                                                                 \n",
      " dense_19 (Dense)            (None, 1)                 10        \n",
      "                                                                 \n",
      "=================================================================\n",
      "Total params: 203\n",
      "Trainable params: 203\n",
      "Non-trainable params: 0\n",
      "_________________________________________________________________\n"
     ]
    }
   ],
   "source": [
    "\n",
    "# 2. 모델 구성\n",
    "from random import randrange\n",
    "number1 = randrange(1,10,1)\n",
    "number2 = randrange(1,10,1)\n",
    "number3= randrange(1,10,1)\n",
    "model = Sequential([\n",
    "    Dense(number1,input_dim = 1),\n",
    "    Dense(number1),\n",
    "    Dense(number2),\n",
    "    Dense(number3),\n",
    "    Dense(1)\n",
    "])\n",
    "\n",
    "model.summary()"
   ]
  },
  {
   "cell_type": "code",
   "execution_count": 29,
   "metadata": {},
   "outputs": [
    {
     "name": "stdout",
     "output_type": "stream",
     "text": [
      "Epoch 1/100\n",
      "100/100 [==============================] - 0s 656us/step - loss: -32.3781 - accuracy: 0.2800\n",
      "Epoch 2/100\n",
      "100/100 [==============================] - 0s 693us/step - loss: -32.4032 - accuracy: 0.2900\n",
      "Epoch 3/100\n",
      "100/100 [==============================] - 0s 706us/step - loss: -33.1840 - accuracy: 0.2900\n",
      "Epoch 4/100\n",
      "100/100 [==============================] - 0s 720us/step - loss: -32.2964 - accuracy: 0.2800\n",
      "Epoch 5/100\n",
      "100/100 [==============================] - 0s 657us/step - loss: -32.6235 - accuracy: 0.2900\n",
      "Epoch 6/100\n",
      "100/100 [==============================] - 0s 720us/step - loss: -32.7853 - accuracy: 0.2800\n",
      "Epoch 7/100\n",
      "100/100 [==============================] - 0s 699us/step - loss: -32.7859 - accuracy: 0.2900\n",
      "Epoch 8/100\n",
      "WARNING:tensorflow:Your input ran out of data; interrupting training. Make sure that your dataset or generator can generate at least `steps_per_epoch * epochs` batches (in this case, 10000 batches). You may need to use the repeat() function when building your dataset.\n",
      "100/100 [==============================] - 0s 139us/step - loss: -32.7859 - accuracy: 0.2900\n"
     ]
    },
    {
     "data": {
      "text/plain": [
       "<keras.callbacks.History at 0x20d2a7bef70>"
      ]
     },
     "execution_count": 29,
     "metadata": {},
     "output_type": "execute_result"
    }
   ],
   "source": [
    "# 3. 컴파일과훈련\n",
    "model.compile(loss=\"mse\" , optimizer=\"adam\")\n",
    "model.fit(x_train,y_train,epochs=100,steps_per_epoch=100)"
   ]
  },
  {
   "cell_type": "code",
   "execution_count": 30,
   "metadata": {},
   "outputs": [
    {
     "name": "stdout",
     "output_type": "stream",
     "text": [
      "1/1 [==============================] - 0s 91ms/step - loss: -106.7447 - accuracy: 0.0000e+00\n",
      "loss :  [-106.74466705322266, 0.0]\n"
     ]
    }
   ],
   "source": [
    "loss = model.evaluate(x_test,y_test)\n",
    "print(\"loss : \",loss)"
   ]
  },
  {
   "cell_type": "code",
   "execution_count": 31,
   "metadata": {},
   "outputs": [
    {
     "data": {
      "text/plain": [
       "array([[11.766961]], dtype=float32)"
      ]
     },
     "execution_count": 31,
     "metadata": {},
     "output_type": "execute_result"
    }
   ],
   "source": [
    "model.predict([11])"
   ]
  }
 ],
 "metadata": {
  "kernelspec": {
   "display_name": "tf27",
   "language": "python",
   "name": "python3"
  },
  "language_info": {
   "codemirror_mode": {
    "name": "ipython",
    "version": 3
   },
   "file_extension": ".py",
   "mimetype": "text/x-python",
   "name": "python",
   "nbconvert_exporter": "python",
   "pygments_lexer": "ipython3",
   "version": "3.9.7"
  },
  "orig_nbformat": 4,
  "vscode": {
   "interpreter": {
    "hash": "b47fb4e6c68d4941015efb0bbf71549277582fe8531338196fc3c7fa71b6aab8"
   }
  }
 },
 "nbformat": 4,
 "nbformat_minor": 2
}
