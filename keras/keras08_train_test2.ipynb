{
 "cells": [
  {
   "cell_type": "code",
   "execution_count": 9,
   "metadata": {},
   "outputs": [],
   "source": [
    "import numpy as np\n",
    "from tensorflow.keras.models import Sequential\n",
    "from tensorflow.keras.layers import Dense\n",
    "\n"
   ]
  },
  {
   "cell_type": "code",
   "execution_count": 19,
   "metadata": {},
   "outputs": [
    {
     "name": "stdout",
     "output_type": "stream",
     "text": [
      "[1 2 3 4 5 6 7]\n",
      "[0 1 2 3 4 5 6]\n",
      "[ 8  9 10]\n",
      "[7 8 9]\n"
     ]
    }
   ],
   "source": [
    "# 2.데이터 정의\n",
    "\n",
    "\n",
    "x = np.array([1,2,3,4,5,6,7,8,9,10]) \n",
    "y= np.array(range(10))\n",
    "\n",
    "# 파이썬 슬라이씽 \n",
    "x_train = x[:7]\n",
    "y_train = y[:7]\n",
    "# y_train = y [:-3]\n",
    "\n",
    "x_test = x[7:]\n",
    "y_test = y[-3:]\n",
    "\n",
    "\n",
    "print(x_train)\n",
    "print(y_train)\n",
    "\n",
    "print(x_test)\n",
    "print(y_test)\n",
    "\n",
    "\n",
    "# x_train = x_train.T \n",
    "# y_train = y_train.T \n",
    "\n",
    "# # 칼럼을 하날만\n"
   ]
  },
  {
   "cell_type": "code",
   "execution_count": 11,
   "metadata": {},
   "outputs": [
    {
     "name": "stdout",
     "output_type": "stream",
     "text": [
      "Model: \"sequential_1\"\n",
      "_________________________________________________________________\n",
      " Layer (type)                Output Shape              Param #   \n",
      "=================================================================\n",
      " dense_5 (Dense)             (None, 7)                 14        \n",
      "                                                                 \n",
      " dense_6 (Dense)             (None, 7)                 56        \n",
      "                                                                 \n",
      " dense_7 (Dense)             (None, 6)                 48        \n",
      "                                                                 \n",
      " dense_8 (Dense)             (None, 7)                 49        \n",
      "                                                                 \n",
      " dense_9 (Dense)             (None, 1)                 8         \n",
      "                                                                 \n",
      "=================================================================\n",
      "Total params: 175\n",
      "Trainable params: 175\n",
      "Non-trainable params: 0\n",
      "_________________________________________________________________\n"
     ]
    }
   ],
   "source": [
    "\n",
    "# 2. 모델 구성\n",
    "from random import randrange\n",
    "number1 = randrange(1,10,1)\n",
    "number2 = randrange(1,10,1)\n",
    "number3= randrange(1,10,1)\n",
    "model = Sequential([\n",
    "    Dense(number1,input_dim = 1),\n",
    "    Dense(number1),\n",
    "    Dense(number2),\n",
    "    Dense(number3),\n",
    "    Dense(1)\n",
    "])\n",
    "\n",
    "model.summary()"
   ]
  },
  {
   "cell_type": "code",
   "execution_count": 12,
   "metadata": {},
   "outputs": [
    {
     "name": "stdout",
     "output_type": "stream",
     "text": [
      "Epoch 1/100\n",
      "100/100 [==============================] - 0s 631us/step - loss: 3.3075\n",
      "Epoch 2/100\n",
      "100/100 [==============================] - 0s 641us/step - loss: 0.4769\n",
      "Epoch 3/100\n",
      "100/100 [==============================] - 0s 680us/step - loss: 0.2542\n",
      "Epoch 4/100\n",
      "100/100 [==============================] - 0s 704us/step - loss: 0.1014\n",
      "Epoch 5/100\n",
      "100/100 [==============================] - 0s 620us/step - loss: 0.0251\n",
      "Epoch 6/100\n",
      "100/100 [==============================] - 0s 636us/step - loss: 0.0036\n",
      "Epoch 7/100\n",
      "100/100 [==============================] - 0s 737us/step - loss: 2.8645e-04\n",
      "Epoch 8/100\n",
      "WARNING:tensorflow:Your input ran out of data; interrupting training. Make sure that your dataset or generator can generate at least `steps_per_epoch * epochs` batches (in this case, 10000 batches). You may need to use the repeat() function when building your dataset.\n",
      "100/100 [==============================] - 0s 209us/step - loss: 2.8645e-04\n"
     ]
    },
    {
     "data": {
      "text/plain": [
       "<keras.callbacks.History at 0x20d282e4f10>"
      ]
     },
     "execution_count": 12,
     "metadata": {},
     "output_type": "execute_result"
    }
   ],
   "source": [
    "# 3. 컴파일과훈련\n",
    "model.compile(loss='binary_crossentropy', optimizer='adam', metrics=['accuracy'])\n",
    "\n",
    "model.fit(x_train,y_train,epochs=100,steps_per_epoch=100)"
   ]
  },
  {
   "cell_type": "code",
   "execution_count": 13,
   "metadata": {},
   "outputs": [
    {
     "name": "stdout",
     "output_type": "stream",
     "text": [
      "1/1 [==============================] - 0s 103ms/step - loss: 1.8511e-04\n",
      "loss :  0.00018511316739022732\n"
     ]
    }
   ],
   "source": [
    "loss = model.evaluate(x_test,y_test)\n",
    "print(\"loss : \",loss)"
   ]
  },
  {
   "cell_type": "code",
   "execution_count": 14,
   "metadata": {},
   "outputs": [
    {
     "data": {
      "text/plain": [
       "array([[9.980359]], dtype=float32)"
      ]
     },
     "execution_count": 14,
     "metadata": {},
     "output_type": "execute_result"
    }
   ],
   "source": [
    "model.predict([11])"
   ]
  }
 ],
 "metadata": {
  "kernelspec": {
   "display_name": "tf27",
   "language": "python",
   "name": "python3"
  },
  "language_info": {
   "codemirror_mode": {
    "name": "ipython",
    "version": 3
   },
   "file_extension": ".py",
   "mimetype": "text/x-python",
   "name": "python",
   "nbconvert_exporter": "python",
   "pygments_lexer": "ipython3",
   "version": "3.9.7"
  },
  "orig_nbformat": 4,
  "vscode": {
   "interpreter": {
    "hash": "b47fb4e6c68d4941015efb0bbf71549277582fe8531338196fc3c7fa71b6aab8"
   }
  }
 },
 "nbformat": 4,
 "nbformat_minor": 2
}
