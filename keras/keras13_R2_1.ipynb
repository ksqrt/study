{
 "cells": [
  {
   "cell_type": "code",
   "execution_count": 29,
   "metadata": {},
   "outputs": [],
   "source": [
    "import numpy as np\n",
    "from tensorflow.keras.models import Sequential\n",
    "from tensorflow.keras.layers import Dense\n",
    "from sklearn.model_selection import train_test_split\n"
   ]
  },
  {
   "cell_type": "code",
   "execution_count": 40,
   "metadata": {},
   "outputs": [
    {
     "name": "stdout",
     "output_type": "stream",
     "text": [
      "[20 13  1 16 17 10 12 11  4  2  7 19  3 14]\n",
      "[20 14  1  6 17 12  8 13  3  2  9 21  4 15]\n",
      "[15  6  5 18  9  8]\n",
      "[ 9  7  5 23  8  3]\n"
     ]
    }
   ],
   "source": [
    "# 1 데이터 정리\n",
    "x = np.array(range(1,21))\n",
    "y = np.array([1,2,4,3,5,7,9,3,8,12,13,8,14,15,9,6,17,23,21,20])\n",
    "\n",
    "# 2.as_integer_ratio\n",
    "x_train, x_test,y_train,y_test = train_test_split(x,y,\n",
    "    train_size=0.7,\n",
    "    shuffle = True,\n",
    "    random_state= 123\n",
    ")\n",
    "\n",
    "print(x_train)\n",
    "print(y_train)\n",
    "print(x_test)\n",
    "print(y_test)"
   ]
  },
  {
   "cell_type": "code",
   "execution_count": 31,
   "metadata": {},
   "outputs": [
    {
     "name": "stdout",
     "output_type": "stream",
     "text": [
      "Model: \"sequential_4\"\n",
      "_________________________________________________________________\n",
      " Layer (type)                Output Shape              Param #   \n",
      "=================================================================\n",
      " dense_20 (Dense)            (None, 2)                 4         \n",
      "                                                                 \n",
      " dense_21 (Dense)            (None, 2)                 6         \n",
      "                                                                 \n",
      " dense_22 (Dense)            (None, 1)                 3         \n",
      "                                                                 \n",
      " dense_23 (Dense)            (None, 4)                 8         \n",
      "                                                                 \n",
      " dense_24 (Dense)            (None, 1)                 5         \n",
      "                                                                 \n",
      "=================================================================\n",
      "Total params: 26\n",
      "Trainable params: 26\n",
      "Non-trainable params: 0\n",
      "_________________________________________________________________\n"
     ]
    }
   ],
   "source": [
    "\n",
    "# 2. 모델 구성\n",
    "from random import randrange\n",
    "number1 = randrange(1,10,1)\n",
    "number2 = randrange(1,10,1)\n",
    "number3= randrange(1,10,1)\n",
    "\n",
    "model = Sequential([\n",
    "    Dense(number1,input_dim = 1),\n",
    "    Dense(number1),\n",
    "    Dense(number2),\n",
    "    Dense(number3),\n",
    "    Dense(1)\n",
    "])\n",
    "\n",
    "model.summary()"
   ]
  },
  {
   "cell_type": "code",
   "execution_count": 32,
   "metadata": {},
   "outputs": [],
   "source": [
    "# RMSE 정의\n"
   ]
  },
  {
   "cell_type": "code",
   "execution_count": 33,
   "metadata": {},
   "outputs": [
    {
     "name": "stdout",
     "output_type": "stream",
     "text": [
      "Epoch 1/100\n",
      "10/10 [==============================] - 0s 790us/step - loss: 10.9242 - mae: 10.9242\n",
      "Epoch 2/100\n",
      "10/10 [==============================] - 0s 777us/step - loss: 11.7324 - mae: 11.7324\n",
      "Epoch 3/100\n",
      "10/10 [==============================] - 0s 775us/step - loss: 10.8905 - mae: 10.8905\n",
      "Epoch 4/100\n",
      "10/10 [==============================] - 0s 886us/step - loss: 9.6027 - mae: 9.6027\n",
      "Epoch 5/100\n",
      "10/10 [==============================] - 0s 776us/step - loss: 10.0603 - mae: 10.0603\n",
      "Epoch 6/100\n",
      "10/10 [==============================] - 0s 887us/step - loss: 11.3354 - mae: 11.3354\n",
      "Epoch 7/100\n",
      "10/10 [==============================] - 0s 886us/step - loss: 9.4028 - mae: 9.4028\n",
      "Epoch 8/100\n",
      "10/10 [==============================] - 0s 662us/step - loss: 10.3325 - mae: 10.3325\n",
      "Epoch 9/100\n",
      "10/10 [==============================] - 0s 886us/step - loss: 9.0257 - mae: 9.0257\n",
      "Epoch 10/100\n",
      "10/10 [==============================] - 0s 772us/step - loss: 8.6596 - mae: 8.6596\n",
      "Epoch 11/100\n",
      "10/10 [==============================] - 0s 889us/step - loss: 8.3134 - mae: 8.3134\n",
      "Epoch 12/100\n",
      "10/10 [==============================] - 0s 776us/step - loss: 8.1340 - mae: 8.1340\n",
      "Epoch 13/100\n",
      "10/10 [==============================] - 0s 775us/step - loss: 7.4591 - mae: 7.4591\n",
      "Epoch 14/100\n",
      "10/10 [==============================] - 0s 776us/step - loss: 4.9369 - mae: 4.9369\n",
      "Epoch 15/100\n",
      "10/10 [==============================] - 0s 773us/step - loss: 4.9283 - mae: 4.9283\n",
      "Epoch 16/100\n",
      "10/10 [==============================] - 0s 999us/step - loss: 3.5021 - mae: 3.5021\n",
      "Epoch 17/100\n",
      "10/10 [==============================] - 0s 776us/step - loss: 3.0191 - mae: 3.0191\n",
      "Epoch 18/100\n",
      "10/10 [==============================] - 0s 997us/step - loss: 2.3260 - mae: 2.3260\n",
      "Epoch 19/100\n",
      "10/10 [==============================] - 0s 773us/step - loss: 1.7773 - mae: 1.7773\n",
      "Epoch 20/100\n",
      "10/10 [==============================] - 0s 664us/step - loss: 1.8783 - mae: 1.8783\n",
      "Epoch 21/100\n",
      "10/10 [==============================] - 0s 884us/step - loss: 2.0857 - mae: 2.0857\n",
      "Epoch 22/100\n",
      "10/10 [==============================] - 0s 776us/step - loss: 2.0976 - mae: 2.0976\n",
      "Epoch 23/100\n",
      "10/10 [==============================] - 0s 883us/step - loss: 1.6249 - mae: 1.6249\n",
      "Epoch 24/100\n",
      "10/10 [==============================] - 0s 665us/step - loss: 2.2692 - mae: 2.2692\n",
      "Epoch 25/100\n",
      "10/10 [==============================] - 0s 887us/step - loss: 1.5648 - mae: 1.5648\n",
      "Epoch 26/100\n",
      "10/10 [==============================] - 0s 662us/step - loss: 1.8235 - mae: 1.8235\n",
      "Epoch 27/100\n",
      "10/10 [==============================] - 0s 778us/step - loss: 2.0006 - mae: 2.0006\n",
      "Epoch 28/100\n",
      "10/10 [==============================] - 0s 774us/step - loss: 1.8356 - mae: 1.8356\n",
      "Epoch 29/100\n",
      "10/10 [==============================] - 0s 776us/step - loss: 2.1045 - mae: 2.1045\n",
      "Epoch 30/100\n",
      "10/10 [==============================] - 0s 888us/step - loss: 1.7915 - mae: 1.7915\n",
      "Epoch 31/100\n",
      "10/10 [==============================] - 0s 778us/step - loss: 1.5553 - mae: 1.5553\n",
      "Epoch 32/100\n",
      "10/10 [==============================] - 0s 776us/step - loss: 2.2732 - mae: 2.2732\n",
      "Epoch 33/100\n",
      "10/10 [==============================] - 0s 668us/step - loss: 1.5284 - mae: 1.5284\n",
      "Epoch 34/100\n",
      "10/10 [==============================] - 0s 887us/step - loss: 2.3670 - mae: 2.3670\n",
      "Epoch 35/100\n",
      "10/10 [==============================] - 0s 773us/step - loss: 1.4964 - mae: 1.4964\n",
      "Epoch 36/100\n",
      "10/10 [==============================] - 0s 886us/step - loss: 1.6293 - mae: 1.6293\n",
      "Epoch 37/100\n",
      "10/10 [==============================] - 0s 772us/step - loss: 1.6978 - mae: 1.6978\n",
      "Epoch 38/100\n",
      "10/10 [==============================] - 0s 887us/step - loss: 2.5790 - mae: 2.5790\n",
      "Epoch 39/100\n",
      "10/10 [==============================] - 0s 665us/step - loss: 1.7819 - mae: 1.7819\n",
      "Epoch 40/100\n",
      "10/10 [==============================] - 0s 756us/step - loss: 1.6036 - mae: 1.6036\n",
      "Epoch 41/100\n",
      "10/10 [==============================] - 0s 838us/step - loss: 2.0571 - mae: 2.0571\n",
      "Epoch 42/100\n",
      "10/10 [==============================] - 0s 771us/step - loss: 1.7617 - mae: 1.7617\n",
      "Epoch 43/100\n",
      "10/10 [==============================] - 0s 998us/step - loss: 1.4695 - mae: 1.4695\n",
      "Epoch 44/100\n",
      "10/10 [==============================] - 0s 776us/step - loss: 2.3968 - mae: 2.3968\n",
      "Epoch 45/100\n",
      "10/10 [==============================] - 0s 1ms/step - loss: 2.0462 - mae: 2.0462\n",
      "Epoch 46/100\n",
      "10/10 [==============================] - 0s 2ms/step - loss: 1.5724 - mae: 1.5724\n",
      "Epoch 47/100\n",
      "10/10 [==============================] - 0s 779us/step - loss: 1.7417 - mae: 1.7417\n",
      "Epoch 48/100\n",
      "10/10 [==============================] - 0s 665us/step - loss: 1.6122 - mae: 1.6122\n",
      "Epoch 49/100\n",
      "10/10 [==============================] - 0s 776us/step - loss: 2.2636 - mae: 2.2636\n",
      "Epoch 50/100\n",
      "10/10 [==============================] - 0s 773us/step - loss: 1.7413 - mae: 1.7413\n",
      "Epoch 51/100\n",
      "10/10 [==============================] - 0s 888us/step - loss: 2.1131 - mae: 2.1131\n",
      "Epoch 52/100\n",
      "10/10 [==============================] - 0s 886us/step - loss: 1.8103 - mae: 1.8103\n",
      "Epoch 53/100\n",
      "10/10 [==============================] - 0s 776us/step - loss: 1.5563 - mae: 1.5563\n",
      "Epoch 54/100\n",
      "10/10 [==============================] - 0s 997us/step - loss: 2.0705 - mae: 2.0705\n",
      "Epoch 55/100\n",
      "10/10 [==============================] - 0s 665us/step - loss: 1.7747 - mae: 1.7747\n",
      "Epoch 56/100\n",
      "10/10 [==============================] - 0s 776us/step - loss: 2.0583 - mae: 2.0583\n",
      "Epoch 57/100\n",
      "10/10 [==============================] - 0s 665us/step - loss: 1.5833 - mae: 1.5833\n",
      "Epoch 58/100\n",
      "10/10 [==============================] - 0s 776us/step - loss: 2.2521 - mae: 2.2521\n",
      "Epoch 59/100\n",
      "10/10 [==============================] - 0s 665us/step - loss: 1.7862 - mae: 1.7862\n",
      "Epoch 60/100\n",
      "10/10 [==============================] - 0s 779us/step - loss: 1.3464 - mae: 1.3464\n",
      "Epoch 61/100\n",
      "10/10 [==============================] - 0s 663us/step - loss: 2.3113 - mae: 2.3113\n",
      "Epoch 62/100\n",
      "10/10 [==============================] - 0s 776us/step - loss: 2.0597 - mae: 2.0597\n",
      "Epoch 63/100\n",
      "10/10 [==============================] - 0s 662us/step - loss: 1.7578 - mae: 1.7578\n",
      "Epoch 64/100\n",
      "10/10 [==============================] - 0s 662us/step - loss: 1.6023 - mae: 1.6023\n",
      "Epoch 65/100\n",
      "10/10 [==============================] - 0s 887us/step - loss: 2.2201 - mae: 2.2201\n",
      "Epoch 66/100\n",
      "10/10 [==============================] - 0s 665us/step - loss: 1.6315 - mae: 1.6315\n",
      "Epoch 67/100\n",
      "10/10 [==============================] - 0s 776us/step - loss: 1.9972 - mae: 1.9972\n",
      "Epoch 68/100\n",
      "10/10 [==============================] - 0s 775us/step - loss: 2.3112 - mae: 2.3112\n",
      "Epoch 69/100\n",
      "10/10 [==============================] - 0s 887us/step - loss: 1.7855 - mae: 1.7855\n",
      "Epoch 70/100\n",
      "10/10 [==============================] - 0s 668us/step - loss: 1.6235 - mae: 1.6235\n",
      "Epoch 71/100\n",
      "WARNING:tensorflow:Your input ran out of data; interrupting training. Make sure that your dataset or generator can generate at least `steps_per_epoch * epochs` batches (in this case, 1000 batches). You may need to use the repeat() function when building your dataset.\n",
      "10/10 [==============================] - 0s 2ms/step - loss: 1.6235 - mae: 1.6235\n"
     ]
    },
    {
     "data": {
      "text/plain": [
       "<keras.callbacks.History at 0x22328acc7f0>"
      ]
     },
     "execution_count": 33,
     "metadata": {},
     "output_type": "execute_result"
    }
   ],
   "source": [
    "# 3. 컴파일과훈련\n",
    "# 메트릭스 안에는 loss 함수를 넣어서 참고할 수 있습니다. 훈련에는 영향을 미치지 않습니다.\n",
    "model.compile(loss=\"mae\" , optimizer=\"adam\",metrics=[\"mae\"])\n",
    "model.fit(x_train,y_train,epochs=100,steps_per_epoch=10)"
   ]
  },
  {
   "cell_type": "code",
   "execution_count": 36,
   "metadata": {},
   "outputs": [
    {
     "name": "stdout",
     "output_type": "stream",
     "text": [
      "1/1 [==============================] - 0s 14ms/step - loss: 3.2209 - mae: 3.2209\n",
      "loss :  [3.2208850383758545, 3.2208850383758545]\n",
      "=================\n",
      "[ 9  7  5 23  8  3]\n",
      "[[15.53619  ]\n",
      " [ 6.670094 ]\n",
      " [ 5.6849723]\n",
      " [18.491556 ]\n",
      " [ 9.625459 ]\n",
      " [ 8.640338 ]]\n",
      "=================\n",
      "R2 :  0.6120709330473926\n"
     ]
    }
   ],
   "source": [
    "loss = model.evaluate(x_test,y_test)\n",
    "print(\"loss : \",loss)\n",
    "\n",
    "from sklearn.metrics import r2_score\n",
    "\n",
    "y_predict =model.predict(x_test)\n",
    "print(\"=================\")\n",
    "print(y_test)\n",
    "print(y_predict)\n",
    "print(\"=================\")\n",
    "\n",
    "\n",
    "r2 = r2_score(y_test,y_predict)\n",
    "\n",
    "print(\"R2 : \",r2)"
   ]
  },
  {
   "cell_type": "code",
   "execution_count": 35,
   "metadata": {},
   "outputs": [
    {
     "data": {
      "text/plain": [
       "array([[1.7444878]], dtype=float32)"
      ]
     },
     "execution_count": 35,
     "metadata": {},
     "output_type": "execute_result"
    }
   ],
   "source": [
    "model.predict([1])"
   ]
  }
 ],
 "metadata": {
  "kernelspec": {
   "display_name": "tf27",
   "language": "python",
   "name": "python3"
  },
  "language_info": {
   "codemirror_mode": {
    "name": "ipython",
    "version": 3
   },
   "file_extension": ".py",
   "mimetype": "text/x-python",
   "name": "python",
   "nbconvert_exporter": "python",
   "pygments_lexer": "ipython3",
   "version": "3.9.7 (default, Sep 16 2021, 16:59:28) [MSC v.1916 64 bit (AMD64)]"
  },
  "orig_nbformat": 4,
  "vscode": {
   "interpreter": {
    "hash": "b47fb4e6c68d4941015efb0bbf71549277582fe8531338196fc3c7fa71b6aab8"
   }
  }
 },
 "nbformat": 4,
 "nbformat_minor": 2
}
