{
 "cells": [
  {
   "cell_type": "code",
   "execution_count": 2,
   "metadata": {},
   "outputs": [],
   "source": [
    "# 라이브러리 불러오기\n",
    "\n",
    "import numpy as np\n",
    "import pandas as pd\n",
    "from tensorflow.keras.models import Sequential\n",
    "from tensorflow.keras.layers import Dense\n",
    "from sklearn.model_selection import train_test_split\n",
    "from sklearn.metrics import mean_squared_error, r2_score"
   ]
  },
  {
   "cell_type": "code",
   "execution_count": 3,
   "metadata": {},
   "outputs": [],
   "source": [
    "# 1. 데이터 불러오기\n",
    "# 절대경로\n",
    "path = \"C:\\study\\_bike\\\\\"\n",
    "# 상대경로\n",
    "# path = \".\\_bike\\\\\"\n",
    "\n",
    "# index_col = 0 은 0번째 있는 id 를 index로 구분해줌 \n",
    "train_csv = pd.read_csv(path+ \"train.csv\",index_col=0)\n",
    "test_csv = pd.read_csv(path+\"test.csv\",index_col=0)\n",
    "submission = pd.read_csv(path + \"sampleSubmission.csv\",index_col=0)"
   ]
  },
  {
   "cell_type": "code",
   "execution_count": 4,
   "metadata": {},
   "outputs": [
    {
     "name": "stdout",
     "output_type": "stream",
     "text": [
      "Index(['season', 'holiday', 'workingday', 'weather', 'temp', 'atemp',\n",
      "       'humidity', 'windspeed', 'casual', 'registered', 'count'],\n",
      "      dtype='object')\n",
      "(10886, 11)\n",
      "Index(['season', 'holiday', 'workingday', 'weather', 'temp', 'atemp',\n",
      "       'humidity', 'windspeed'],\n",
      "      dtype='object')\n"
     ]
    }
   ],
   "source": [
    "# 해야할것 1. train 의 casual, registered 칼럼 삭제\n",
    "#  2. y 칼럼인 count 분리\n",
    "print(train_csv.columns)\n",
    "print(train_csv.shape)\n",
    "print(test_csv.columns)"
   ]
  },
  {
   "cell_type": "code",
   "execution_count": 5,
   "metadata": {},
   "outputs": [
    {
     "name": "stdout",
     "output_type": "stream",
     "text": [
      "<class 'pandas.core.frame.DataFrame'>\n",
      "Index: 10886 entries, 2011-01-01 00:00:00 to 2012-12-19 23:00:00\n",
      "Data columns (total 11 columns):\n",
      " #   Column      Non-Null Count  Dtype  \n",
      "---  ------      --------------  -----  \n",
      " 0   season      10886 non-null  int64  \n",
      " 1   holiday     10886 non-null  int64  \n",
      " 2   workingday  10886 non-null  int64  \n",
      " 3   weather     10886 non-null  int64  \n",
      " 4   temp        10886 non-null  float64\n",
      " 5   atemp       10886 non-null  float64\n",
      " 6   humidity    10886 non-null  int64  \n",
      " 7   windspeed   10886 non-null  float64\n",
      " 8   casual      10886 non-null  int64  \n",
      " 9   registered  10886 non-null  int64  \n",
      " 10  count       10886 non-null  int64  \n",
      "dtypes: float64(3), int64(8)\n",
      "memory usage: 1020.6+ KB\n",
      "None\n",
      "(10886, 9)\n",
      "Index(['season', 'holiday', 'workingday', 'weather', 'temp', 'atemp',\n",
      "       'humidity', 'windspeed', 'count'],\n",
      "      dtype='object')\n"
     ]
    }
   ],
   "source": [
    "# 결측치 이상치를 확인해보기위한 카운트 조회\n",
    "print(train_csv.info())\n",
    "\n",
    "# 데이터셋을 결측치가 없는 데이터셋으로 초기화 \n",
    "# 결측치 열 제거 \n",
    "train_csv = train_csv.dropna(axis=0)\n",
    "# \n",
    "train_csv = train_csv.drop([\"casual\"],axis=1)\n",
    "train_csv = train_csv.drop([\"registered\"],axis=1)\n",
    "# 결측치확인\n",
    "train_csv.isnull().any()\n",
    "print(train_csv.shape)\n",
    "print(train_csv.columns)\n"
   ]
  },
  {
   "cell_type": "code",
   "execution_count": 6,
   "metadata": {},
   "outputs": [
    {
     "name": "stdout",
     "output_type": "stream",
     "text": [
      "                     season  holiday  workingday  weather  temp   atemp  \\\n",
      "datetime                                                                  \n",
      "2011-01-01 00:00:00       1        0           0        1  9.84  14.395   \n",
      "2011-01-01 01:00:00       1        0           0        1  9.02  13.635   \n",
      "2011-01-01 02:00:00       1        0           0        1  9.02  13.635   \n",
      "2011-01-01 03:00:00       1        0           0        1  9.84  14.395   \n",
      "2011-01-01 04:00:00       1        0           0        1  9.84  14.395   \n",
      "\n",
      "                     humidity  windspeed  \n",
      "datetime                                  \n",
      "2011-01-01 00:00:00        81        0.0  \n",
      "2011-01-01 01:00:00        80        0.0  \n",
      "2011-01-01 02:00:00        80        0.0  \n",
      "2011-01-01 03:00:00        75        0.0  \n",
      "2011-01-01 04:00:00        75        0.0  \n",
      "(10886, 8)\n"
     ]
    }
   ],
   "source": [
    "# 데이터 정리하기 x \n",
    "x = train_csv.drop([\"count\"],axis=1)\n",
    "\n",
    "#  x는 이제 count 칼럼이 사라졌습니다!\n",
    "print(x.head())\n",
    "print(x.shape)"
   ]
  },
  {
   "cell_type": "code",
   "execution_count": 7,
   "metadata": {},
   "outputs": [
    {
     "name": "stdout",
     "output_type": "stream",
     "text": [
      "datetime\n",
      "2011-01-01 00:00:00    16\n",
      "2011-01-01 01:00:00    40\n",
      "2011-01-01 02:00:00    32\n",
      "2011-01-01 03:00:00    13\n",
      "2011-01-01 04:00:00     1\n",
      "Name: count, dtype: int64\n",
      "(10886,)\n"
     ]
    }
   ],
   "source": [
    "# 데이터 정리하기 y\n",
    "# count 칼럼만 가지고옵니다 이떄 train_csv 은 변형하지 않는게 포인트\n",
    "y = train_csv[\"count\"]\n",
    "print(y.head())\n",
    "\n",
    "print(y.shape)"
   ]
  },
  {
   "cell_type": "code",
   "execution_count": 8,
   "metadata": {},
   "outputs": [
    {
     "name": "stdout",
     "output_type": "stream",
     "text": [
      "7620\n",
      "3266\n"
     ]
    }
   ],
   "source": [
    "# 데이터를 분할하기\n",
    "\n",
    "x_train, x_test, y_train,y_test = train_test_split(x,y,\n",
    "                                                   train_size=0.7,\n",
    "                                                   shuffle = True,\n",
    "                                                   random_state=21\n",
    "                                                   )\n",
    "\n",
    "print(len(x_train))\n",
    "print(len(x_test))"
   ]
  },
  {
   "cell_type": "code",
   "execution_count": 9,
   "metadata": {},
   "outputs": [
    {
     "name": "stdout",
     "output_type": "stream",
     "text": [
      "Model: \"sequential\"\n",
      "_________________________________________________________________\n",
      " Layer (type)                Output Shape              Param #   \n",
      "=================================================================\n",
      " dense (Dense)               (None, 10)                90        \n",
      "                                                                 \n",
      " dense_1 (Dense)             (None, 10)                110       \n",
      "                                                                 \n",
      " dense_2 (Dense)             (None, 10)                110       \n",
      "                                                                 \n",
      " dense_3 (Dense)             (None, 10)                110       \n",
      "                                                                 \n",
      " dense_4 (Dense)             (None, 10)                110       \n",
      "                                                                 \n",
      " dense_5 (Dense)             (None, 10)                110       \n",
      "                                                                 \n",
      " dense_6 (Dense)             (None, 10)                110       \n",
      "                                                                 \n",
      " dense_7 (Dense)             (None, 10)                110       \n",
      "                                                                 \n",
      " dense_8 (Dense)             (None, 10)                110       \n",
      "                                                                 \n",
      " dense_9 (Dense)             (None, 1)                 11        \n",
      "                                                                 \n",
      "=================================================================\n",
      "Total params: 981\n",
      "Trainable params: 981\n",
      "Non-trainable params: 0\n",
      "_________________________________________________________________\n"
     ]
    }
   ],
   "source": [
    "# 2. 모델구성\n",
    "\n",
    "model = Sequential([\n",
    "    \n",
    "    Dense(10,input_dim = 8 ,activation=\"relu\"),\n",
    "    Dense(10,activation=\"relu\"),\n",
    "    Dense(10,activation=\"relu\"),\n",
    "    Dense(10,activation=\"relu\"),\n",
    "    Dense(10,activation=\"relu\"),\n",
    "    Dense(10,activation=\"relu\"),\n",
    "    Dense(10,activation=\"relu\"),\n",
    "    Dense(10,activation=\"relu\"),\n",
    "    Dense(10,activation=\"relu\"),\n",
    "    # 마지막 레이어는 통상 relu 넣지 않습니다. 히든레이어에 많이쓰임\n",
    "    Dense(1),\n",
    "])\n",
    "model.summary()"
   ]
  },
  {
   "cell_type": "code",
   "execution_count": 10,
   "metadata": {},
   "outputs": [
    {
     "name": "stdout",
     "output_type": "stream",
     "text": [
      "Epoch 1/100\n",
      "191/191 [==============================] - 2s 4ms/step - loss: 51103.3633 - val_loss: 35158.1406\n",
      "Epoch 2/100\n",
      "191/191 [==============================] - 1s 4ms/step - loss: 31136.2305 - val_loss: 27608.4980\n",
      "Epoch 3/100\n",
      "191/191 [==============================] - 1s 4ms/step - loss: 26080.3027 - val_loss: 25701.5059\n",
      "Epoch 4/100\n",
      "191/191 [==============================] - 1s 4ms/step - loss: 25200.4902 - val_loss: 25673.2363\n",
      "Epoch 5/100\n",
      "191/191 [==============================] - 1s 4ms/step - loss: 25089.2773 - val_loss: 25436.6211\n",
      "Epoch 6/100\n",
      "191/191 [==============================] - 1s 4ms/step - loss: 24996.4297 - val_loss: 25425.9824\n",
      "Epoch 7/100\n",
      "191/191 [==============================] - 1s 4ms/step - loss: 24859.4746 - val_loss: 25620.3516\n",
      "Epoch 8/100\n",
      "191/191 [==============================] - 1s 4ms/step - loss: 24844.2012 - val_loss: 25264.7637\n",
      "Epoch 9/100\n",
      "191/191 [==============================] - 1s 4ms/step - loss: 24787.5137 - val_loss: 25222.5879\n",
      "Epoch 10/100\n",
      "191/191 [==============================] - 1s 4ms/step - loss: 24661.9375 - val_loss: 25085.5938\n",
      "Epoch 11/100\n",
      "191/191 [==============================] - 1s 4ms/step - loss: 24611.5645 - val_loss: 25146.1387\n",
      "Epoch 12/100\n",
      "191/191 [==============================] - 1s 4ms/step - loss: 24589.5195 - val_loss: 24943.6191\n",
      "Epoch 13/100\n",
      "191/191 [==============================] - 1s 4ms/step - loss: 24435.3418 - val_loss: 24907.0254\n",
      "Epoch 14/100\n",
      "191/191 [==============================] - 1s 4ms/step - loss: 24407.3516 - val_loss: 24874.1211\n",
      "Epoch 15/100\n",
      "191/191 [==============================] - 1s 4ms/step - loss: 24342.1074 - val_loss: 24869.5039\n",
      "Epoch 16/100\n",
      "191/191 [==============================] - 1s 4ms/step - loss: 24372.3457 - val_loss: 24712.5938\n",
      "Epoch 17/100\n",
      "191/191 [==============================] - 1s 4ms/step - loss: 24225.6270 - val_loss: 24691.6641\n",
      "Epoch 18/100\n",
      "191/191 [==============================] - 1s 4ms/step - loss: 24254.4590 - val_loss: 24635.8379\n",
      "Epoch 19/100\n",
      "191/191 [==============================] - 1s 4ms/step - loss: 24212.2051 - val_loss: 24604.2812\n",
      "Epoch 20/100\n",
      "191/191 [==============================] - 1s 4ms/step - loss: 24168.6016 - val_loss: 24597.9395\n",
      "Epoch 21/100\n",
      "191/191 [==============================] - 1s 4ms/step - loss: 24088.4492 - val_loss: 24619.8105\n",
      "Epoch 22/100\n",
      "191/191 [==============================] - 1s 3ms/step - loss: 24036.3965 - val_loss: 24524.9707\n",
      "Epoch 23/100\n",
      "191/191 [==============================] - 1s 4ms/step - loss: 23949.4355 - val_loss: 24949.4941\n",
      "Epoch 24/100\n",
      "191/191 [==============================] - 1s 4ms/step - loss: 23971.7246 - val_loss: 24464.3887\n",
      "Epoch 25/100\n",
      "191/191 [==============================] - 1s 4ms/step - loss: 23935.8027 - val_loss: 24461.4727\n",
      "Epoch 26/100\n",
      "191/191 [==============================] - 1s 4ms/step - loss: 23900.2344 - val_loss: 24540.0430\n",
      "Epoch 27/100\n",
      "191/191 [==============================] - 1s 4ms/step - loss: 23915.8145 - val_loss: 24740.1660\n",
      "Epoch 28/100\n",
      "191/191 [==============================] - 1s 4ms/step - loss: 23881.8926 - val_loss: 24493.1270\n",
      "Epoch 29/100\n",
      "191/191 [==============================] - 1s 4ms/step - loss: 23937.8008 - val_loss: 24492.3984\n",
      "Epoch 30/100\n",
      "191/191 [==============================] - 1s 4ms/step - loss: 23853.8652 - val_loss: 24577.8145\n",
      "Epoch 31/100\n",
      "191/191 [==============================] - 1s 4ms/step - loss: 23934.0586 - val_loss: 24414.5273\n",
      "Epoch 32/100\n",
      "191/191 [==============================] - 1s 5ms/step - loss: 23831.8398 - val_loss: 24381.2441\n",
      "Epoch 33/100\n",
      "191/191 [==============================] - 1s 4ms/step - loss: 23770.2129 - val_loss: 24512.8164\n",
      "Epoch 34/100\n",
      "191/191 [==============================] - 1s 4ms/step - loss: 23793.2578 - val_loss: 24368.6387\n",
      "Epoch 35/100\n",
      "191/191 [==============================] - 1s 4ms/step - loss: 23748.6699 - val_loss: 24411.9863\n",
      "Epoch 36/100\n",
      "191/191 [==============================] - 1s 4ms/step - loss: 23698.4902 - val_loss: 24338.0918\n",
      "Epoch 37/100\n",
      "191/191 [==============================] - 1s 4ms/step - loss: 23845.5703 - val_loss: 25053.1895\n",
      "Epoch 38/100\n",
      "191/191 [==============================] - 1s 4ms/step - loss: 23814.5039 - val_loss: 24314.5781\n",
      "Epoch 39/100\n",
      "191/191 [==============================] - 1s 4ms/step - loss: 23738.5898 - val_loss: 24297.2461\n",
      "Epoch 40/100\n",
      "191/191 [==============================] - 1s 4ms/step - loss: 23737.8867 - val_loss: 24364.1816\n",
      "Epoch 41/100\n",
      "191/191 [==============================] - 1s 4ms/step - loss: 23678.7227 - val_loss: 24619.4219\n",
      "Epoch 42/100\n",
      "191/191 [==============================] - 1s 4ms/step - loss: 23683.5059 - val_loss: 24328.9258\n",
      "Epoch 43/100\n",
      "191/191 [==============================] - 1s 4ms/step - loss: 23741.2695 - val_loss: 24383.0293\n",
      "Epoch 44/100\n",
      "191/191 [==============================] - 1s 4ms/step - loss: 23668.0742 - val_loss: 24310.0762\n",
      "Epoch 45/100\n",
      "191/191 [==============================] - 1s 4ms/step - loss: 23676.4102 - val_loss: 24314.2754\n",
      "Epoch 46/100\n",
      "191/191 [==============================] - 1s 4ms/step - loss: 23674.3359 - val_loss: 24317.3184\n",
      "Epoch 47/100\n",
      "191/191 [==============================] - 1s 4ms/step - loss: 23656.4453 - val_loss: 24280.7656\n",
      "Epoch 48/100\n",
      "191/191 [==============================] - 1s 4ms/step - loss: 23590.4727 - val_loss: 24312.6562\n",
      "Epoch 49/100\n",
      "191/191 [==============================] - 1s 4ms/step - loss: 23622.7930 - val_loss: 24441.3418\n",
      "Epoch 50/100\n",
      "191/191 [==============================] - 1s 4ms/step - loss: 23655.9238 - val_loss: 24335.4141\n",
      "Epoch 51/100\n",
      "191/191 [==============================] - 1s 4ms/step - loss: 23615.2227 - val_loss: 24369.9375\n",
      "Epoch 52/100\n",
      "191/191 [==============================] - 1s 4ms/step - loss: 23724.7988 - val_loss: 24882.8496\n",
      "Epoch 53/100\n",
      "191/191 [==============================] - 1s 4ms/step - loss: 23624.1074 - val_loss: 24409.5938\n",
      "Epoch 54/100\n",
      "191/191 [==============================] - 1s 4ms/step - loss: 23652.0547 - val_loss: 24297.6777\n",
      "Epoch 55/100\n",
      "191/191 [==============================] - 1s 4ms/step - loss: 23593.1602 - val_loss: 24297.1914\n",
      "Epoch 56/100\n",
      "191/191 [==============================] - 1s 4ms/step - loss: 23622.5195 - val_loss: 24297.4883\n",
      "Epoch 57/100\n",
      "191/191 [==============================] - 1s 4ms/step - loss: 23513.6855 - val_loss: 24334.7109\n",
      "Epoch 58/100\n",
      "191/191 [==============================] - 1s 4ms/step - loss: 23538.5215 - val_loss: 24258.0996\n",
      "Epoch 59/100\n",
      "191/191 [==============================] - 1s 4ms/step - loss: 23567.5586 - val_loss: 24363.9980\n",
      "Epoch 60/100\n",
      "191/191 [==============================] - 1s 4ms/step - loss: 23578.2891 - val_loss: 24430.7422\n",
      "Epoch 61/100\n",
      "191/191 [==============================] - 1s 4ms/step - loss: 23536.5469 - val_loss: 24267.8379\n",
      "Epoch 62/100\n",
      "191/191 [==============================] - 1s 4ms/step - loss: 23615.1543 - val_loss: 24283.7793\n",
      "Epoch 63/100\n",
      "191/191 [==============================] - 1s 4ms/step - loss: 23502.9258 - val_loss: 24178.6094\n",
      "Epoch 64/100\n",
      "191/191 [==============================] - 1s 4ms/step - loss: 23554.9746 - val_loss: 24358.7480\n",
      "Epoch 65/100\n",
      "191/191 [==============================] - 1s 4ms/step - loss: 23505.5176 - val_loss: 24167.1914\n",
      "Epoch 66/100\n",
      "191/191 [==============================] - 1s 4ms/step - loss: 23489.4258 - val_loss: 24263.5195\n",
      "Epoch 67/100\n",
      "191/191 [==============================] - 1s 4ms/step - loss: 23504.5469 - val_loss: 24265.3379\n",
      "Epoch 68/100\n",
      "191/191 [==============================] - 1s 4ms/step - loss: 23492.5117 - val_loss: 24483.0469\n",
      "Epoch 69/100\n",
      "191/191 [==============================] - 1s 4ms/step - loss: 23554.1660 - val_loss: 24380.9258\n",
      "Epoch 70/100\n",
      "191/191 [==============================] - 1s 4ms/step - loss: 23503.7715 - val_loss: 24271.1582\n",
      "Epoch 71/100\n",
      "191/191 [==============================] - 1s 4ms/step - loss: 23498.6895 - val_loss: 24282.2363\n",
      "Epoch 72/100\n",
      "191/191 [==============================] - 1s 4ms/step - loss: 23533.9004 - val_loss: 24210.4707\n",
      "Epoch 73/100\n",
      "191/191 [==============================] - 1s 4ms/step - loss: 23468.2500 - val_loss: 24485.0547\n",
      "Epoch 74/100\n",
      "191/191 [==============================] - 1s 4ms/step - loss: 23480.8184 - val_loss: 24251.8262\n",
      "Epoch 75/100\n",
      "191/191 [==============================] - 1s 4ms/step - loss: 23508.5469 - val_loss: 24405.9844\n",
      "Epoch 76/100\n",
      "191/191 [==============================] - 1s 4ms/step - loss: 23578.7246 - val_loss: 24179.6973\n",
      "Epoch 77/100\n",
      "191/191 [==============================] - 1s 4ms/step - loss: 23570.1270 - val_loss: 24235.0254\n",
      "Epoch 78/100\n",
      "191/191 [==============================] - 1s 4ms/step - loss: 23526.2676 - val_loss: 24372.4492\n",
      "Epoch 79/100\n",
      "191/191 [==============================] - 1s 4ms/step - loss: 23474.3691 - val_loss: 24220.6895\n",
      "Epoch 80/100\n",
      "191/191 [==============================] - 1s 4ms/step - loss: 23441.5566 - val_loss: 24244.1387\n",
      "Epoch 81/100\n",
      "191/191 [==============================] - 1s 4ms/step - loss: 23434.0898 - val_loss: 24156.6406\n",
      "Epoch 82/100\n",
      "191/191 [==============================] - 1s 4ms/step - loss: 23472.0449 - val_loss: 24238.8398\n",
      "Epoch 83/100\n",
      "191/191 [==============================] - 1s 4ms/step - loss: 23485.1992 - val_loss: 24178.2676\n",
      "Epoch 84/100\n",
      "191/191 [==============================] - 1s 4ms/step - loss: 23453.5469 - val_loss: 24136.8867\n",
      "Epoch 85/100\n",
      "191/191 [==============================] - 1s 4ms/step - loss: 23487.1582 - val_loss: 24321.2520\n",
      "Epoch 86/100\n",
      "191/191 [==============================] - 1s 4ms/step - loss: 23513.1445 - val_loss: 24158.9492\n",
      "Epoch 87/100\n",
      "191/191 [==============================] - 1s 4ms/step - loss: 23493.1836 - val_loss: 24205.3066\n",
      "Epoch 88/100\n",
      "191/191 [==============================] - 1s 4ms/step - loss: 23519.3535 - val_loss: 24210.5430\n",
      "Epoch 89/100\n",
      "191/191 [==============================] - 1s 4ms/step - loss: 23571.8730 - val_loss: 24291.4414\n",
      "Epoch 90/100\n",
      "191/191 [==============================] - 1s 4ms/step - loss: 23515.3340 - val_loss: 24158.8945\n",
      "Epoch 91/100\n",
      "191/191 [==============================] - 1s 4ms/step - loss: 23449.0820 - val_loss: 24189.0859\n",
      "Epoch 92/100\n",
      "191/191 [==============================] - 1s 4ms/step - loss: 23474.2227 - val_loss: 24235.6016\n",
      "Epoch 93/100\n",
      "191/191 [==============================] - 1s 4ms/step - loss: 23436.9453 - val_loss: 24129.5488\n",
      "Epoch 94/100\n",
      "191/191 [==============================] - 1s 4ms/step - loss: 23481.5430 - val_loss: 24213.1934\n",
      "Epoch 95/100\n",
      "191/191 [==============================] - 1s 4ms/step - loss: 23394.8926 - val_loss: 24383.2598\n",
      "Epoch 96/100\n",
      "191/191 [==============================] - 1s 4ms/step - loss: 23470.8691 - val_loss: 24150.8066\n",
      "Epoch 97/100\n",
      "191/191 [==============================] - 1s 4ms/step - loss: 23469.0137 - val_loss: 24238.4570\n",
      "Epoch 98/100\n",
      "191/191 [==============================] - 1s 4ms/step - loss: 23493.7051 - val_loss: 24122.0391\n",
      "Epoch 99/100\n",
      "191/191 [==============================] - 1s 4ms/step - loss: 23495.5723 - val_loss: 24227.3145\n",
      "Epoch 100/100\n",
      "191/191 [==============================] - 1s 4ms/step - loss: 23430.4941 - val_loss: 24174.3945\n"
     ]
    }
   ],
   "source": [
    "# 3.컴파일 + 훈련\n",
    "model.compile(loss=\"mse\",optimizer=\"adam\")\n",
    "hist = model.fit(x_train, y_train, epochs=100, validation_split=0.2)\n"
   ]
  },
  {
   "cell_type": "code",
   "execution_count": 11,
   "metadata": {},
   "outputs": [
    {
     "name": "stdout",
     "output_type": "stream",
     "text": [
      "103/103 [==============================] - 0s 2ms/step - loss: 22792.3848\n",
      "loss :  22792.384765625\n",
      "RMSE :  150.971460862444\n",
      "R2 :  0.2849033064744044\n"
     ]
    }
   ],
   "source": [
    "# 성능평가\n",
    "from sklearn.metrics import mean_squared_error\n",
    "from sklearn.metrics import r2_score\n",
    "\n",
    "def RMSE(y_test,y_predict):\n",
    "    return np.sqrt(mean_squared_error(y_test,y_predict))\n",
    "# 평가 손실률 가져오기\n",
    "loss = model.evaluate(x_test,y_test)\n",
    "print(\"loss : \",loss)\n",
    "\n",
    "y_predict =model.predict(x_test)\n",
    "# print(\"=================\")\n",
    "# print(y_test)\n",
    "# print(y_predict)\n",
    "# print(\"=================\")\n",
    "\n",
    "print(\"RMSE : \",RMSE(y_test,y_predict))\n",
    "print(\"R2 : \",r2_score(y_test,y_predict))"
   ]
  },
  {
   "cell_type": "code",
   "execution_count": 12,
   "metadata": {},
   "outputs": [],
   "source": [
    "# 15. 저장\n",
    "import pandas as pd\n",
    "# 15-1.제출용를 predcit 로 뽑아냄\n",
    "y_submit = model.predict(test_csv)\n",
    "# 15-2 제출용의 카운트 칼럼에 y_submit 삽입\n",
    "submission[\"count\"] = y_submit\n",
    "# 15-3 경로와 파일명 지정\n",
    "submission.to_csv(path + \"submission_0106.csv\")"
   ]
  },
  {
   "cell_type": "code",
   "execution_count": 13,
   "metadata": {},
   "outputs": [
    {
     "data": {
      "image/png": "[encoded data removed]",
      "text/plain": [
       "<Figure size 900x600 with 1 Axes>"
      ]
     },
     "metadata": {},
     "output_type": "display_data"
    }
   ],
   "source": [
    "# 시각화\n",
    "import matplotlib.pyplot as plt\n",
    "\n",
    "# 필롯의 사이즈\n",
    "plt.figure(figsize =(9,6))\n",
    "\n",
    "plt.plot(hist.history[\"loss\"],c =\"red\",label=\"loss\")\n",
    "plt.plot(hist.history[\"val_loss\"],c=\"green\",label=\"val_loss\")\n",
    "plt.grid() # 격자 표시\n",
    "plt.xlabel(\"epochs\") # x 라벨 표시 \n",
    "plt.ylabel(\"loss\") # y 라벨 표시\n",
    "plt.title(\"boston loss\") # 그래프의 타이틀 표시\n",
    "plt.legend(loc = \"upper right\") # 그래프의 범주 표시\n",
    "plt.show() # 그래프를 보여줘"
   ]
  }
 ],
 "metadata": {
  "kernelspec": {
   "display_name": "tf274gpu",
   "language": "python",
   "name": "python3"
  },
  "language_info": {
   "codemirror_mode": {
    "name": "ipython",
    "version": 3
   },
   "file_extension": ".py",
   "mimetype": "text/x-python",
   "name": "python",
   "nbconvert_exporter": "python",
   "pygments_lexer": "ipython3",
   "version": "3.9.15"
  },
  "orig_nbformat": 4,
  "vscode": {
   "interpreter": {
    "hash": "10848e9bd3f5e7d93542d388001135334854454e7336dcf54c4ef52885ee0fb0"
   }
  }
 },
 "nbformat": 4,
 "nbformat_minor": 2
}
