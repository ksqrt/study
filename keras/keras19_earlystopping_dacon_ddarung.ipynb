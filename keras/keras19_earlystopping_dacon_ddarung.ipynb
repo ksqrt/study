{
 "cells": [
  {
   "cell_type": "code",
   "execution_count": 239,
   "metadata": {},
   "outputs": [],
   "source": [
    "# 라이브러리 불러오기\n",
    "\n",
    "import numpy as np\n",
    "import pandas as pd\n",
    "from tensorflow.keras.models import Sequential\n",
    "from tensorflow.keras.layers import Dense,Dropout\n",
    "from sklearn.model_selection import train_test_split\n",
    "from sklearn.metrics import mean_squared_error, r2_score"
   ]
  },
  {
   "cell_type": "code",
   "execution_count": 240,
   "metadata": {},
   "outputs": [],
   "source": [
    "# 1. 데이터 불러오기\n",
    "# 절대경로\n",
    "path = \"C:\\study\\_data\\ddarung\\\\\"\n",
    "# 상대경로\n",
    "# path = \"_data\\ddarung\"\n",
    "\n",
    "# index_col = 0 은 0번째 있는 id 를 index로 구분해줌 \n",
    "train_csv = pd.read_csv(path+ \"train.csv\",index_col=0)\n",
    "test_csv = pd.read_csv(path+\"test.csv\",index_col=0)\n",
    "submission = pd.read_csv(path + \"submission.csv\",index_col=0)"
   ]
  },
  {
   "cell_type": "code",
   "execution_count": 241,
   "metadata": {},
   "outputs": [
    {
     "name": "stdout",
     "output_type": "stream",
     "text": [
      "Index(['hour', 'hour_bef_temperature', 'hour_bef_precipitation',\n",
      "       'hour_bef_windspeed', 'hour_bef_humidity', 'hour_bef_visibility',\n",
      "       'hour_bef_ozone', 'hour_bef_pm10', 'hour_bef_pm2.5', 'count'],\n",
      "      dtype='object')\n"
     ]
    }
   ],
   "source": [
    "# 칼럼명 출력\n",
    "print(train_csv.columns)"
   ]
  },
  {
   "cell_type": "code",
   "execution_count": 242,
   "metadata": {},
   "outputs": [
    {
     "name": "stdout",
     "output_type": "stream",
     "text": [
      "<class 'pandas.core.frame.DataFrame'>\n",
      "Int64Index: 1459 entries, 3 to 2179\n",
      "Data columns (total 10 columns):\n",
      " #   Column                  Non-Null Count  Dtype  \n",
      "---  ------                  --------------  -----  \n",
      " 0   hour                    1459 non-null   int64  \n",
      " 1   hour_bef_temperature    1457 non-null   float64\n",
      " 2   hour_bef_precipitation  1457 non-null   float64\n",
      " 3   hour_bef_windspeed      1450 non-null   float64\n",
      " 4   hour_bef_humidity       1457 non-null   float64\n",
      " 5   hour_bef_visibility     1457 non-null   float64\n",
      " 6   hour_bef_ozone          1383 non-null   float64\n",
      " 7   hour_bef_pm10           1369 non-null   float64\n",
      " 8   hour_bef_pm2.5          1342 non-null   float64\n",
      " 9   count                   1459 non-null   float64\n",
      "dtypes: float64(9), int64(1)\n",
      "memory usage: 125.4 KB\n",
      "None\n"
     ]
    },
    {
     "data": {
      "text/plain": [
       "hour                      False\n",
       "hour_bef_temperature      False\n",
       "hour_bef_precipitation    False\n",
       "hour_bef_windspeed        False\n",
       "hour_bef_humidity         False\n",
       "hour_bef_visibility       False\n",
       "hour_bef_ozone            False\n",
       "hour_bef_pm10             False\n",
       "hour_bef_pm2.5            False\n",
       "count                     False\n",
       "dtype: bool"
      ]
     },
     "execution_count": 242,
     "metadata": {},
     "output_type": "execute_result"
    }
   ],
   "source": [
    "\n",
    "# 결측치 이상치를 확인해보기위한 카운트 조회\n",
    "print(train_csv.info())\n",
    "\n",
    "# 데이터셋을 결측치가 없는 데이터셋으로 초기화 \n",
    "# 결측치 열 제거 \n",
    "# 1. 결측치 처리 1. 제거 \n",
    "train_csv = train_csv.dropna(axis=0)\n",
    "\n",
    "# 결측치 가 있는 열 확인\n",
    "train_csv.isnull().any()\n",
    "\n",
    "# print(train_csv.shape)"
   ]
  },
  {
   "cell_type": "code",
   "execution_count": 243,
   "metadata": {},
   "outputs": [
    {
     "name": "stdout",
     "output_type": "stream",
     "text": [
      "              hour  hour_bef_temperature  hour_bef_precipitation  \\\n",
      "count  1328.000000           1328.000000             1328.000000   \n",
      "mean     11.905120             16.866039                0.030120   \n",
      "std       6.746907              5.196544                0.170983   \n",
      "min       0.000000              3.100000                0.000000   \n",
      "25%       6.000000             13.000000                0.000000   \n",
      "50%      12.000000             16.800000                0.000000   \n",
      "75%      18.000000             20.200000                0.000000   \n",
      "max      23.000000             30.000000                1.000000   \n",
      "\n",
      "       hour_bef_windspeed  hour_bef_humidity  hour_bef_visibility  \\\n",
      "count         1328.000000        1328.000000          1328.000000   \n",
      "mean             2.489834          51.740964          1413.655120   \n",
      "std              1.382797          20.167066           577.258705   \n",
      "min              0.000000           7.000000            78.000000   \n",
      "25%              1.400000          36.000000           899.000000   \n",
      "50%              2.400000          50.000000          1581.500000   \n",
      "75%              3.400000          68.000000          1993.250000   \n",
      "max              8.000000          99.000000          2000.000000   \n",
      "\n",
      "       hour_bef_ozone  hour_bef_pm10  hour_bef_pm2.5        count  \n",
      "count     1328.000000    1328.000000     1328.000000  1328.000000  \n",
      "mean         0.039091      57.481175       30.382530   110.804970  \n",
      "std          0.019430      31.221062       14.740807    82.900629  \n",
      "min          0.003000       9.000000        8.000000     1.000000  \n",
      "25%          0.026000      36.000000       20.000000    37.000000  \n",
      "50%          0.038500      52.000000       26.000000   100.500000  \n",
      "75%          0.052000      70.000000       37.000000   153.000000  \n",
      "max          0.125000     269.000000       90.000000   431.000000  \n"
     ]
    }
   ],
   "source": [
    "# 데이터셋의 다양한 값들을 볼수는 describe\n",
    "print(train_csv.describe())"
   ]
  },
  {
   "cell_type": "code",
   "execution_count": 244,
   "metadata": {},
   "outputs": [
    {
     "name": "stdout",
     "output_type": "stream",
     "text": [
      "    hour  hour_bef_temperature  hour_bef_precipitation  hour_bef_windspeed  \\\n",
      "id                                                                           \n",
      "3     20                  16.3                     1.0                 1.5   \n",
      "6     13                  20.1                     0.0                 1.4   \n",
      "7      6                  13.9                     0.0                 0.7   \n",
      "8     23                   8.1                     0.0                 2.7   \n",
      "9     18                  29.5                     0.0                 4.8   \n",
      "\n",
      "    hour_bef_humidity  hour_bef_visibility  hour_bef_ozone  hour_bef_pm10  \\\n",
      "id                                                                          \n",
      "3                89.0                576.0           0.027           76.0   \n",
      "6                48.0                916.0           0.042           73.0   \n",
      "7                79.0               1382.0           0.033           32.0   \n",
      "8                54.0                946.0           0.040           75.0   \n",
      "9                 7.0               2000.0           0.057           27.0   \n",
      "\n",
      "    hour_bef_pm2.5  \n",
      "id                  \n",
      "3             33.0  \n",
      "6             40.0  \n",
      "7             19.0  \n",
      "8             64.0  \n",
      "9             11.0  \n",
      "(1328, 9)\n"
     ]
    }
   ],
   "source": [
    "# 데이터 정리하기 x \n",
    "x = train_csv.drop([\"count\"],axis=1)\n",
    "\n",
    "#  x는 이제 count 칼럼이 사라졌습니다!\n",
    "print(x.head())\n",
    "print(x.shape)"
   ]
  },
  {
   "cell_type": "code",
   "execution_count": 245,
   "metadata": {},
   "outputs": [
    {
     "name": "stdout",
     "output_type": "stream",
     "text": [
      "id\n",
      "3     49.0\n",
      "6    159.0\n",
      "7     26.0\n",
      "8     57.0\n",
      "9    431.0\n",
      "Name: count, dtype: float64\n",
      "(1328,)\n"
     ]
    }
   ],
   "source": [
    "# 데이터 정리하기 y\n",
    "# count 칼럼만 가지고옵니다 이떄 train_csv 은 변형하지 않는게 포인트\n",
    "y = train_csv[\"count\"]\n",
    "print(y.head())\n",
    "\n",
    "print(y.shape)"
   ]
  },
  {
   "cell_type": "code",
   "execution_count": 246,
   "metadata": {},
   "outputs": [
    {
     "name": "stdout",
     "output_type": "stream",
     "text": [
      "929\n",
      "399\n"
     ]
    }
   ],
   "source": [
    "# 데이터를 분할하기\n",
    "x_train, x_test, y_train,y_test = train_test_split(x,y,\n",
    "                                                   train_size=0.7,\n",
    "                                                   shuffle = True,\n",
    "                                                   random_state=21\n",
    "                                                   )\n",
    "\n",
    "print(len(x_train))\n",
    "print(len(x_test))"
   ]
  },
  {
   "cell_type": "code",
   "execution_count": 247,
   "metadata": {},
   "outputs": [
    {
     "name": "stdout",
     "output_type": "stream",
     "text": [
      "Model: \"sequential_19\"\n",
      "_________________________________________________________________\n",
      " Layer (type)                Output Shape              Param #   \n",
      "=================================================================\n",
      " dense_251 (Dense)           (None, 10)                100       \n",
      "                                                                 \n",
      " dense_252 (Dense)           (None, 60)                660       \n",
      "                                                                 \n",
      " dense_253 (Dense)           (None, 60)                3660      \n",
      "                                                                 \n",
      " dense_254 (Dense)           (None, 60)                3660      \n",
      "                                                                 \n",
      " dense_255 (Dense)           (None, 60)                3660      \n",
      "                                                                 \n",
      " dense_256 (Dense)           (None, 60)                3660      \n",
      "                                                                 \n",
      " dense_257 (Dense)           (None, 60)                3660      \n",
      "                                                                 \n",
      " dense_258 (Dense)           (None, 1)                 61        \n",
      "                                                                 \n",
      "=================================================================\n",
      "Total params: 19,121\n",
      "Trainable params: 19,121\n",
      "Non-trainable params: 0\n",
      "_________________________________________________________________\n"
     ]
    }
   ],
   "source": [
    "# 2. 모델구성\n",
    "\n",
    "\n",
    "model = Sequential([\n",
    "    Dense(10,input_dim = 9,activation=\"relu\"),\n",
    "    Dense(100,activation=\"relu\"),\n",
    "    Dense(1)\n",
    "])\n",
    "model.summary()"
   ]
  },
  {
   "cell_type": "code",
   "execution_count": 248,
   "metadata": {},
   "outputs": [
    {
     "name": "stdout",
     "output_type": "stream",
     "text": [
      "Epoch 1/300\n"
     ]
    },
    {
     "name": "stderr",
     "output_type": "stream",
     "text": [
      "c:\\Users\\bitcamp\\anaconda3\\envs\\tf274gpu\\lib\\site-packages\\keras\\engine\\data_adapter.py:1510: FutureWarning: The behavior of `series[i:j]` with an integer-dtype index is deprecated. In a future version, this will be treated as *label-based* indexing, consistent with e.g. `series[i]` lookups. To retain the old behavior, use `series.iloc[i:j]`. To get the future behavior, use `series.loc[i:j]`.\n",
      "  return t[start:end]\n"
     ]
    },
    {
     "name": "stdout",
     "output_type": "stream",
     "text": [
      "22/22 [==============================] - 1s 10ms/step - loss: 8535.3574 - val_loss: 7377.6890\n",
      "Epoch 2/300\n",
      "22/22 [==============================] - 0s 6ms/step - loss: 6916.7729 - val_loss: 6881.3813\n",
      "Epoch 3/300\n",
      "22/22 [==============================] - 0s 5ms/step - loss: 6938.0044 - val_loss: 6804.9678\n",
      "Epoch 4/300\n",
      "22/22 [==============================] - 0s 5ms/step - loss: 6922.3047 - val_loss: 6788.1851\n",
      "Epoch 5/300\n",
      "22/22 [==============================] - 0s 5ms/step - loss: 6818.7104 - val_loss: 6810.0176\n",
      "Epoch 6/300\n",
      "22/22 [==============================] - 0s 5ms/step - loss: 6810.0503 - val_loss: 6842.7700\n",
      "Epoch 7/300\n",
      "22/22 [==============================] - 0s 5ms/step - loss: 6772.5767 - val_loss: 6647.6562\n",
      "Epoch 8/300\n",
      "22/22 [==============================] - 0s 4ms/step - loss: 6886.4541 - val_loss: 6847.7749\n",
      "Epoch 9/300\n",
      "22/22 [==============================] - 0s 4ms/step - loss: 6776.4805 - val_loss: 6670.4204\n",
      "Epoch 10/300\n",
      "22/22 [==============================] - 0s 4ms/step - loss: 6633.6782 - val_loss: 6277.5542\n",
      "Epoch 11/300\n",
      "22/22 [==============================] - 0s 4ms/step - loss: 6539.4502 - val_loss: 6541.8306\n",
      "Epoch 12/300\n",
      "22/22 [==============================] - 0s 4ms/step - loss: 6533.6758 - val_loss: 6207.1396\n",
      "Epoch 13/300\n",
      "22/22 [==============================] - 0s 4ms/step - loss: 6493.5532 - val_loss: 6520.7422\n",
      "Epoch 14/300\n",
      "22/22 [==============================] - 0s 5ms/step - loss: 6652.5381 - val_loss: 6181.1216\n",
      "Epoch 15/300\n",
      "22/22 [==============================] - 0s 4ms/step - loss: 6451.8418 - val_loss: 5889.9136\n",
      "Epoch 16/300\n",
      "22/22 [==============================] - 0s 4ms/step - loss: 6407.3389 - val_loss: 6314.7383\n",
      "Epoch 17/300\n",
      "22/22 [==============================] - 0s 4ms/step - loss: 6393.1528 - val_loss: 6288.7173\n",
      "Epoch 18/300\n",
      "22/22 [==============================] - 0s 4ms/step - loss: 6624.0947 - val_loss: 5844.7974\n",
      "Epoch 19/300\n",
      "22/22 [==============================] - 0s 4ms/step - loss: 6202.1841 - val_loss: 5734.5098\n",
      "Epoch 20/300\n",
      "22/22 [==============================] - 0s 4ms/step - loss: 6143.6025 - val_loss: 5613.1138\n",
      "Epoch 21/300\n",
      "22/22 [==============================] - 0s 4ms/step - loss: 6015.9097 - val_loss: 5427.9692\n",
      "Epoch 22/300\n",
      "22/22 [==============================] - 0s 4ms/step - loss: 6092.9097 - val_loss: 5692.7549\n",
      "Epoch 23/300\n",
      "22/22 [==============================] - 0s 4ms/step - loss: 6111.2573 - val_loss: 5185.2681\n",
      "Epoch 24/300\n",
      "22/22 [==============================] - 0s 4ms/step - loss: 5692.3745 - val_loss: 5425.6357\n",
      "Epoch 25/300\n",
      "22/22 [==============================] - 0s 5ms/step - loss: 5776.4678 - val_loss: 4905.2197\n",
      "Epoch 26/300\n",
      "22/22 [==============================] - 0s 5ms/step - loss: 5510.0186 - val_loss: 4572.6523\n",
      "Epoch 27/300\n",
      "22/22 [==============================] - 0s 5ms/step - loss: 5116.1704 - val_loss: 4046.1646\n",
      "Epoch 28/300\n",
      "22/22 [==============================] - 0s 4ms/step - loss: 4492.6650 - val_loss: 3756.7937\n",
      "Epoch 29/300\n",
      "22/22 [==============================] - 0s 4ms/step - loss: 4651.9658 - val_loss: 4243.9517\n",
      "Epoch 30/300\n",
      "22/22 [==============================] - 0s 4ms/step - loss: 4911.1094 - val_loss: 3778.6152\n",
      "Epoch 31/300\n",
      "22/22 [==============================] - 0s 5ms/step - loss: 4606.1699 - val_loss: 3318.8896\n",
      "Epoch 32/300\n",
      "22/22 [==============================] - 0s 4ms/step - loss: 4072.8721 - val_loss: 3281.3662\n",
      "Epoch 33/300\n",
      "22/22 [==============================] - 0s 5ms/step - loss: 3665.1763 - val_loss: 2918.7900\n",
      "Epoch 34/300\n",
      "22/22 [==============================] - 0s 4ms/step - loss: 3787.1130 - val_loss: 3537.8904\n",
      "Epoch 35/300\n",
      "22/22 [==============================] - 0s 4ms/step - loss: 4473.4912 - val_loss: 5206.4565\n",
      "Epoch 36/300\n",
      "22/22 [==============================] - 0s 4ms/step - loss: 4019.7185 - val_loss: 3157.3176\n",
      "Epoch 37/300\n",
      "22/22 [==============================] - 0s 5ms/step - loss: 3445.0437 - val_loss: 2699.1460\n",
      "Epoch 38/300\n",
      "22/22 [==============================] - 0s 4ms/step - loss: 3324.1921 - val_loss: 2904.2717\n",
      "Epoch 39/300\n",
      "22/22 [==============================] - 0s 4ms/step - loss: 3365.6875 - val_loss: 3294.1445\n",
      "Epoch 40/300\n",
      "22/22 [==============================] - 0s 4ms/step - loss: 3379.8528 - val_loss: 2601.8066\n",
      "Epoch 41/300\n",
      "22/22 [==============================] - 0s 4ms/step - loss: 3346.3452 - val_loss: 2995.7334\n",
      "Epoch 42/300\n",
      "22/22 [==============================] - 0s 4ms/step - loss: 3186.9016 - val_loss: 2672.1409\n",
      "Epoch 43/300\n",
      "22/22 [==============================] - 0s 4ms/step - loss: 3546.8506 - val_loss: 3256.7947\n",
      "Epoch 44/300\n",
      "22/22 [==============================] - 0s 5ms/step - loss: 3458.9253 - val_loss: 2755.9910\n",
      "Epoch 45/300\n",
      "22/22 [==============================] - 0s 5ms/step - loss: 3553.1560 - val_loss: 3438.5977\n",
      "Epoch 46/300\n",
      "22/22 [==============================] - 0s 5ms/step - loss: 3159.8958 - val_loss: 2574.0657\n",
      "Epoch 47/300\n",
      "22/22 [==============================] - 0s 5ms/step - loss: 3094.2585 - val_loss: 3680.6963\n",
      "Epoch 48/300\n",
      "22/22 [==============================] - 0s 4ms/step - loss: 3199.7249 - val_loss: 2741.0671\n",
      "Epoch 49/300\n",
      "22/22 [==============================] - 0s 4ms/step - loss: 3315.7917 - val_loss: 2656.4871\n",
      "Epoch 50/300\n",
      "22/22 [==============================] - 0s 4ms/step - loss: 3053.2544 - val_loss: 2609.4121\n",
      "Epoch 51/300\n",
      "22/22 [==============================] - 0s 4ms/step - loss: 3089.1763 - val_loss: 2728.0386\n",
      "Epoch 52/300\n",
      "22/22 [==============================] - 0s 4ms/step - loss: 3095.3735 - val_loss: 2708.7349\n",
      "Epoch 53/300\n",
      "22/22 [==============================] - 0s 5ms/step - loss: 3157.3538 - val_loss: 2565.0620\n",
      "Epoch 54/300\n",
      "22/22 [==============================] - 0s 4ms/step - loss: 2953.6033 - val_loss: 2570.0933\n",
      "Epoch 55/300\n",
      "22/22 [==============================] - 0s 4ms/step - loss: 3084.8528 - val_loss: 2648.7092\n",
      "Epoch 56/300\n",
      "22/22 [==============================] - 0s 4ms/step - loss: 3173.1526 - val_loss: 2800.1362\n",
      "Epoch 57/300\n",
      "22/22 [==============================] - 0s 4ms/step - loss: 3161.4878 - val_loss: 2576.5466\n",
      "Epoch 58/300\n",
      "22/22 [==============================] - 0s 4ms/step - loss: 3149.6768 - val_loss: 2597.8223\n",
      "Epoch 59/300\n",
      "22/22 [==============================] - 0s 4ms/step - loss: 2907.0874 - val_loss: 2730.0276\n",
      "Epoch 60/300\n",
      "22/22 [==============================] - 0s 4ms/step - loss: 2983.4575 - val_loss: 3108.2727\n",
      "Epoch 61/300\n",
      "22/22 [==============================] - 0s 5ms/step - loss: 2964.5693 - val_loss: 2507.7905\n",
      "Epoch 62/300\n",
      "22/22 [==============================] - 0s 4ms/step - loss: 3184.8250 - val_loss: 3171.2253\n",
      "Epoch 63/300\n",
      "22/22 [==============================] - 0s 5ms/step - loss: 3045.3699 - val_loss: 2523.2991\n",
      "Epoch 64/300\n",
      "22/22 [==============================] - 0s 4ms/step - loss: 2903.7891 - val_loss: 2591.9722\n",
      "Epoch 65/300\n",
      "22/22 [==============================] - 0s 4ms/step - loss: 2858.5256 - val_loss: 2721.3101\n",
      "Epoch 66/300\n",
      "22/22 [==============================] - 0s 4ms/step - loss: 2866.4263 - val_loss: 2483.0723\n",
      "Epoch 67/300\n",
      "22/22 [==============================] - 0s 4ms/step - loss: 2826.8176 - val_loss: 2562.0957\n",
      "Epoch 68/300\n",
      "22/22 [==============================] - 0s 4ms/step - loss: 2808.2852 - val_loss: 2492.7734\n",
      "Epoch 69/300\n",
      "22/22 [==============================] - 0s 5ms/step - loss: 2988.9856 - val_loss: 2706.0732\n",
      "Epoch 70/300\n",
      "22/22 [==============================] - 0s 5ms/step - loss: 3009.6958 - val_loss: 2593.8374\n",
      "Epoch 71/300\n",
      "22/22 [==============================] - 0s 4ms/step - loss: 2947.3645 - val_loss: 2497.3887\n",
      "Epoch 72/300\n",
      "22/22 [==============================] - 0s 4ms/step - loss: 2973.1846 - val_loss: 2670.9841\n",
      "Epoch 73/300\n",
      "22/22 [==============================] - 0s 5ms/step - loss: 2917.5486 - val_loss: 2570.5903\n",
      "Epoch 74/300\n",
      "22/22 [==============================] - 0s 6ms/step - loss: 2965.1274 - val_loss: 3173.6013\n",
      "Epoch 75/300\n",
      "22/22 [==============================] - 0s 4ms/step - loss: 2916.4910 - val_loss: 3192.0547\n",
      "Epoch 76/300\n",
      "18/22 [=======================>......] - ETA: 0s - loss: 3012.9487Restoring model weights from the end of the best epoch: 66.\n",
      "22/22 [==============================] - 0s 5ms/step - loss: 2965.8142 - val_loss: 2597.5730\n",
      "Epoch 00076: early stopping\n",
      "걸린시간 :  7.965986251831055\n"
     ]
    }
   ],
   "source": [
    "# 3.컴파일 + 훈련\n",
    "# gpu 걸린시간 :  12.08470892906189\n",
    "# cpu 걸린시간 :  16.177061557769775\n",
    "import time\n",
    "from tensorflow.keras.callbacks import EarlyStopping\n",
    "# 모니터 : val_loss 를 관찰\n",
    "# mode : 값이 커질때 멈춤 , 값이 작아져야함\n",
    "# patience : 개선이 안된다고 바로 종료시키지 않고 에폭을 기다림\n",
    "# \n",
    "earlyStopping = EarlyStopping(monitor=\"val_loss\",\n",
    "                              mode=\"min\",patience =10,\n",
    "                              restore_best_weights=True,\n",
    "                              verbose=1\n",
    "                              )\n",
    "\n",
    "model.compile(loss=\"mse\",optimizer=\"adam\")\n",
    "start = time.time()\n",
    "hist = model.fit(x_train, y_train, epochs=300, batch_size=32, validation_split=0.25,\n",
    "                 callbacks = [earlyStopping])\n",
    "end = time.time()\n",
    "\n",
    "print(\"걸린시간 : \",end-start)"
   ]
  },
  {
   "cell_type": "code",
   "execution_count": 249,
   "metadata": {},
   "outputs": [
    {
     "name": "stdout",
     "output_type": "stream",
     "text": [
      "13/13 [==============================] - 0s 19ms/step - loss: 2912.3342\n",
      "loss :  2912.334228515625\n",
      "RMSE :  53.966043655268585\n",
      "R2 :  0.5552712543094916\n"
     ]
    }
   ],
   "source": [
    "# 4. 성능평가\n",
    "\n",
    "from sklearn.metrics import mean_squared_error\n",
    "from sklearn.metrics import r2_score\n",
    "\n",
    "def RMSE(y_test,y_predict):\n",
    "    return np.sqrt(mean_squared_error(y_test,y_predict))\n",
    "\n",
    "loss = model.evaluate(x_test,y_test)\n",
    "print(\"loss : \",loss)\n",
    "\n",
    "y_predict =model.predict(x_test)\n",
    "# print(\"=================\")\n",
    "# print(y_test)\n",
    "# print(y_predict)\n",
    "# print(\"=================\")\n",
    "\n",
    "print(\"RMSE : \",RMSE(y_test,y_predict))\n",
    "print(\"R2 : \",r2_score(y_test,y_predict))"
   ]
  },
  {
   "cell_type": "code",
   "execution_count": 250,
   "metadata": {},
   "outputs": [],
   "source": [
    "# 5. 저장\n",
    "# 제출용 but NaN 이 포함되어있다 ...\n",
    "import pandas as pd\n",
    "# 15-1.제출용를 predcit 로 뽑아냄\n",
    "y_submit = model.predict(test_csv)\n",
    "# 15-2.제촐용을 데이터프레임형으로 변환\n",
    "y_submit = pd.DataFrame(y_submit)\n",
    "# 15-2 제출용의 카운트 칼럼에 y_submit 삽입\n",
    "submission[\"count\"] = y_submit\n",
    "# 15-3 경로와 파일명 지정\n",
    "submission.to_csv(path + \"submission_0101502151.csv\")"
   ]
  },
  {
   "cell_type": "code",
   "execution_count": 251,
   "metadata": {},
   "outputs": [
    {
     "data": {
      "image/png": "[encoded data removed]",
      "text/plain": [
       "<Figure size 900x600 with 1 Axes>"
      ]
     },
     "metadata": {},
     "output_type": "display_data"
    }
   ],
   "source": [
    "# 시각화\n",
    "import matplotlib.pyplot as plt\n",
    "\n",
    "# 필롯의 사이즈\n",
    "plt.figure(figsize =(9,6))\n",
    "plt.plot(hist.history[\"loss\"],c =\"red\",label=\"loss\")\n",
    "plt.plot(hist.history[\"val_loss\"],c=\"green\",label=\"val_loss\")\n",
    "plt.grid() # 격자 표시\n",
    "plt.xlabel(\"epochs\") # x 라벨 표시 \n",
    "plt.ylabel(\"loss\") # y 라벨 표시\n",
    "plt.title(\"ddarung loss\") # 그래프의 타이틀 표시\n",
    "plt.legend(loc = \"upper right\") # 그래프의 범주 표시\n",
    "plt.show() # 그래프를 보여줘"
   ]
  }
 ],
 "metadata": {
  "kernelspec": {
   "display_name": "tf274gpu",
   "language": "python",
   "name": "python3"
  },
  "language_info": {
   "codemirror_mode": {
    "name": "ipython",
    "version": 3
   },
   "file_extension": ".py",
   "mimetype": "text/x-python",
   "name": "python",
   "nbconvert_exporter": "python",
   "pygments_lexer": "ipython3",
   "version": "3.9.15"
  },
  "orig_nbformat": 4,
  "vscode": {
   "interpreter": {
    "hash": "10848e9bd3f5e7d93542d388001135334854454e7336dcf54c4ef52885ee0fb0"
   }
  }
 },
 "nbformat": 4,
 "nbformat_minor": 2
}
