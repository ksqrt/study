{
 "cells": [
  {
   "cell_type": "code",
   "execution_count": 265,
   "metadata": {},
   "outputs": [],
   "source": [
    "# 라이브러리 불러오기\n",
    "\n",
    "import numpy as np\n",
    "import pandas as pd\n",
    "from tensorflow.keras.models import Sequential\n",
    "from tensorflow.keras.layers import Dense,Dropout\n",
    "from sklearn.model_selection import train_test_split\n",
    "from sklearn.metrics import mean_squared_error, r2_score"
   ]
  },
  {
   "cell_type": "code",
   "execution_count": 266,
   "metadata": {},
   "outputs": [],
   "source": [
    "# 1. 데이터 불러오기\n",
    "# 절대경로\n",
    "path = \"C:\\study\\_data\\ddarung\\\\\"\n",
    "# 상대경로\n",
    "# path = \"_data\\ddarung\"\n",
    "\n",
    "# index_col = 0 은 0번째 있는 id 를 index로 구분해줌 \n",
    "train_csv = pd.read_csv(path+ \"train.csv\",index_col=0)\n",
    "test_csv = pd.read_csv(path+\"test.csv\",index_col=0)\n",
    "submission = pd.read_csv(path + \"submission.csv\",index_col=0)"
   ]
  },
  {
   "cell_type": "code",
   "execution_count": 267,
   "metadata": {},
   "outputs": [
    {
     "name": "stdout",
     "output_type": "stream",
     "text": [
      "Index(['hour', 'hour_bef_temperature', 'hour_bef_precipitation',\n",
      "       'hour_bef_windspeed', 'hour_bef_humidity', 'hour_bef_visibility',\n",
      "       'hour_bef_ozone', 'hour_bef_pm10', 'hour_bef_pm2.5', 'count'],\n",
      "      dtype='object')\n"
     ]
    }
   ],
   "source": [
    "# 칼럼명 출력\n",
    "print(train_csv.columns)"
   ]
  },
  {
   "cell_type": "code",
   "execution_count": 268,
   "metadata": {},
   "outputs": [
    {
     "name": "stdout",
     "output_type": "stream",
     "text": [
      "<class 'pandas.core.frame.DataFrame'>\n",
      "Int64Index: 1459 entries, 3 to 2179\n",
      "Data columns (total 10 columns):\n",
      " #   Column                  Non-Null Count  Dtype  \n",
      "---  ------                  --------------  -----  \n",
      " 0   hour                    1459 non-null   int64  \n",
      " 1   hour_bef_temperature    1457 non-null   float64\n",
      " 2   hour_bef_precipitation  1457 non-null   float64\n",
      " 3   hour_bef_windspeed      1450 non-null   float64\n",
      " 4   hour_bef_humidity       1457 non-null   float64\n",
      " 5   hour_bef_visibility     1457 non-null   float64\n",
      " 6   hour_bef_ozone          1383 non-null   float64\n",
      " 7   hour_bef_pm10           1369 non-null   float64\n",
      " 8   hour_bef_pm2.5          1342 non-null   float64\n",
      " 9   count                   1459 non-null   float64\n",
      "dtypes: float64(9), int64(1)\n",
      "memory usage: 125.4 KB\n",
      "None\n"
     ]
    },
    {
     "data": {
      "text/plain": [
       "hour                      False\n",
       "hour_bef_temperature      False\n",
       "hour_bef_precipitation    False\n",
       "hour_bef_windspeed        False\n",
       "hour_bef_humidity         False\n",
       "hour_bef_visibility       False\n",
       "hour_bef_ozone            False\n",
       "hour_bef_pm10             False\n",
       "hour_bef_pm2.5            False\n",
       "count                     False\n",
       "dtype: bool"
      ]
     },
     "execution_count": 268,
     "metadata": {},
     "output_type": "execute_result"
    }
   ],
   "source": [
    "\n",
    "# 결측치 이상치를 확인해보기위한 카운트 조회\n",
    "print(train_csv.info())\n",
    "\n",
    "# 데이터셋을 결측치가 없는 데이터셋으로 초기화 \n",
    "# 결측치 열 제거 \n",
    "# 1. 결측치 처리 1. 제거 \n",
    "train_csv = train_csv.dropna(axis=0)\n",
    "\n",
    "# 결측치 가 있는 열 확인\n",
    "train_csv.isnull().any()\n",
    "\n",
    "# print(train_csv.shape)"
   ]
  },
  {
   "cell_type": "code",
   "execution_count": 269,
   "metadata": {},
   "outputs": [
    {
     "name": "stdout",
     "output_type": "stream",
     "text": [
      "              hour  hour_bef_temperature  hour_bef_precipitation  \\\n",
      "count  1328.000000           1328.000000             1328.000000   \n",
      "mean     11.905120             16.866039                0.030120   \n",
      "std       6.746907              5.196544                0.170983   \n",
      "min       0.000000              3.100000                0.000000   \n",
      "25%       6.000000             13.000000                0.000000   \n",
      "50%      12.000000             16.800000                0.000000   \n",
      "75%      18.000000             20.200000                0.000000   \n",
      "max      23.000000             30.000000                1.000000   \n",
      "\n",
      "       hour_bef_windspeed  hour_bef_humidity  hour_bef_visibility  \\\n",
      "count         1328.000000        1328.000000          1328.000000   \n",
      "mean             2.489834          51.740964          1413.655120   \n",
      "std              1.382797          20.167066           577.258705   \n",
      "min              0.000000           7.000000            78.000000   \n",
      "25%              1.400000          36.000000           899.000000   \n",
      "50%              2.400000          50.000000          1581.500000   \n",
      "75%              3.400000          68.000000          1993.250000   \n",
      "max              8.000000          99.000000          2000.000000   \n",
      "\n",
      "       hour_bef_ozone  hour_bef_pm10  hour_bef_pm2.5        count  \n",
      "count     1328.000000    1328.000000     1328.000000  1328.000000  \n",
      "mean         0.039091      57.481175       30.382530   110.804970  \n",
      "std          0.019430      31.221062       14.740807    82.900629  \n",
      "min          0.003000       9.000000        8.000000     1.000000  \n",
      "25%          0.026000      36.000000       20.000000    37.000000  \n",
      "50%          0.038500      52.000000       26.000000   100.500000  \n",
      "75%          0.052000      70.000000       37.000000   153.000000  \n",
      "max          0.125000     269.000000       90.000000   431.000000  \n"
     ]
    }
   ],
   "source": [
    "# 데이터셋의 다양한 값들을 볼수는 describe\n",
    "print(train_csv.describe())"
   ]
  },
  {
   "cell_type": "code",
   "execution_count": 270,
   "metadata": {},
   "outputs": [
    {
     "name": "stdout",
     "output_type": "stream",
     "text": [
      "    hour  hour_bef_temperature  hour_bef_precipitation  hour_bef_windspeed  \\\n",
      "id                                                                           \n",
      "3     20                  16.3                     1.0                 1.5   \n",
      "6     13                  20.1                     0.0                 1.4   \n",
      "7      6                  13.9                     0.0                 0.7   \n",
      "8     23                   8.1                     0.0                 2.7   \n",
      "9     18                  29.5                     0.0                 4.8   \n",
      "\n",
      "    hour_bef_humidity  hour_bef_visibility  hour_bef_ozone  hour_bef_pm10  \\\n",
      "id                                                                          \n",
      "3                89.0                576.0           0.027           76.0   \n",
      "6                48.0                916.0           0.042           73.0   \n",
      "7                79.0               1382.0           0.033           32.0   \n",
      "8                54.0                946.0           0.040           75.0   \n",
      "9                 7.0               2000.0           0.057           27.0   \n",
      "\n",
      "    hour_bef_pm2.5  \n",
      "id                  \n",
      "3             33.0  \n",
      "6             40.0  \n",
      "7             19.0  \n",
      "8             64.0  \n",
      "9             11.0  \n",
      "(1328, 9)\n"
     ]
    }
   ],
   "source": [
    "# 데이터 정리하기 x \n",
    "x = train_csv.drop([\"count\"],axis=1)\n",
    "\n",
    "#  x는 이제 count 칼럼이 사라졌습니다!\n",
    "print(x.head())\n",
    "print(x.shape)"
   ]
  },
  {
   "cell_type": "code",
   "execution_count": 271,
   "metadata": {},
   "outputs": [
    {
     "name": "stdout",
     "output_type": "stream",
     "text": [
      "id\n",
      "3     49.0\n",
      "6    159.0\n",
      "7     26.0\n",
      "8     57.0\n",
      "9    431.0\n",
      "Name: count, dtype: float64\n",
      "(1328,)\n"
     ]
    }
   ],
   "source": [
    "# 데이터 정리하기 y\n",
    "# count 칼럼만 가지고옵니다 이떄 train_csv 은 변형하지 않는게 포인트\n",
    "y = train_csv[\"count\"]\n",
    "print(y.head())\n",
    "\n",
    "print(y.shape)"
   ]
  },
  {
   "cell_type": "code",
   "execution_count": 272,
   "metadata": {},
   "outputs": [
    {
     "name": "stdout",
     "output_type": "stream",
     "text": [
      "929\n",
      "399\n"
     ]
    }
   ],
   "source": [
    "# 데이터를 분할하기\n",
    "x_train, x_test, y_train,y_test = train_test_split(x,y,\n",
    "                                                   train_size=0.7,\n",
    "                                                   shuffle = True,\n",
    "                                                   random_state=21\n",
    "                                                   )\n",
    "\n",
    "print(len(x_train))\n",
    "print(len(x_test))"
   ]
  },
  {
   "cell_type": "code",
   "execution_count": 273,
   "metadata": {},
   "outputs": [
    {
     "name": "stdout",
     "output_type": "stream",
     "text": [
      "Model: \"sequential_21\"\n",
      "_________________________________________________________________\n",
      " Layer (type)                Output Shape              Param #   \n",
      "=================================================================\n",
      " dense_262 (Dense)           (None, 10)                100       \n",
      "                                                                 \n",
      " dense_263 (Dense)           (None, 100)               1100      \n",
      "                                                                 \n",
      " dense_264 (Dense)           (None, 1)                 101       \n",
      "                                                                 \n",
      "=================================================================\n",
      "Total params: 1,301\n",
      "Trainable params: 1,301\n",
      "Non-trainable params: 0\n",
      "_________________________________________________________________\n"
     ]
    }
   ],
   "source": [
    "# 2. 모델구성\n",
    "\n",
    "\n",
    "model = Sequential([\n",
    "    Dense(10,input_dim = 9,activation=\"relu\"),\n",
    "    Dense(100,activation=\"relu\"),\n",
    "    Dense(1)\n",
    "])\n",
    "model.summary()"
   ]
  },
  {
   "cell_type": "code",
   "execution_count": 274,
   "metadata": {},
   "outputs": [
    {
     "name": "stdout",
     "output_type": "stream",
     "text": [
      "Epoch 1/300\n"
     ]
    },
    {
     "name": "stderr",
     "output_type": "stream",
     "text": [
      "c:\\Users\\bitcamp\\anaconda3\\envs\\tf274gpu\\lib\\site-packages\\keras\\engine\\data_adapter.py:1510: FutureWarning: The behavior of `series[i:j]` with an integer-dtype index is deprecated. In a future version, this will be treated as *label-based* indexing, consistent with e.g. `series[i]` lookups. To retain the old behavior, use `series.iloc[i:j]`. To get the future behavior, use `series.loc[i:j]`.\n",
      "  return t[start:end]\n"
     ]
    },
    {
     "name": "stdout",
     "output_type": "stream",
     "text": [
      "22/22 [==============================] - 0s 7ms/step - loss: 15905.9482 - val_loss: 8337.9277\n",
      "Epoch 2/300\n",
      "22/22 [==============================] - 0s 4ms/step - loss: 7224.7456 - val_loss: 6862.7651\n",
      "Epoch 3/300\n",
      "22/22 [==============================] - 0s 4ms/step - loss: 6603.4614 - val_loss: 6598.5449\n",
      "Epoch 4/300\n",
      "22/22 [==============================] - 0s 3ms/step - loss: 6625.1108 - val_loss: 6600.6733\n",
      "Epoch 5/300\n",
      "22/22 [==============================] - 0s 4ms/step - loss: 6591.2832 - val_loss: 6716.2651\n",
      "Epoch 6/300\n",
      "22/22 [==============================] - 0s 4ms/step - loss: 6547.3706 - val_loss: 6729.4707\n",
      "Epoch 7/300\n",
      "22/22 [==============================] - 0s 4ms/step - loss: 6659.9238 - val_loss: 6400.2534\n",
      "Epoch 8/300\n",
      "22/22 [==============================] - 0s 5ms/step - loss: 6495.3037 - val_loss: 6353.0181\n",
      "Epoch 9/300\n",
      "22/22 [==============================] - 0s 4ms/step - loss: 6461.7046 - val_loss: 6302.7266\n",
      "Epoch 10/300\n",
      "22/22 [==============================] - 0s 3ms/step - loss: 6416.3369 - val_loss: 6282.0088\n",
      "Epoch 11/300\n",
      "22/22 [==============================] - 0s 3ms/step - loss: 6393.9585 - val_loss: 6294.0444\n",
      "Epoch 12/300\n",
      "22/22 [==============================] - 0s 4ms/step - loss: 6386.6694 - val_loss: 6185.7959\n",
      "Epoch 13/300\n",
      "22/22 [==============================] - 0s 3ms/step - loss: 6387.3730 - val_loss: 6129.4170\n",
      "Epoch 14/300\n",
      "22/22 [==============================] - 0s 3ms/step - loss: 6276.9258 - val_loss: 6384.0806\n",
      "Epoch 15/300\n",
      "22/22 [==============================] - 0s 3ms/step - loss: 6493.8662 - val_loss: 6248.8906\n",
      "Epoch 16/300\n",
      "22/22 [==============================] - 0s 3ms/step - loss: 6193.4775 - val_loss: 5874.1489\n",
      "Epoch 17/300\n",
      "22/22 [==============================] - 0s 3ms/step - loss: 6077.1006 - val_loss: 5749.8091\n",
      "Epoch 18/300\n",
      "22/22 [==============================] - 0s 3ms/step - loss: 6049.0103 - val_loss: 5723.9688\n",
      "Epoch 19/300\n",
      "22/22 [==============================] - 0s 3ms/step - loss: 5861.4502 - val_loss: 5527.0605\n",
      "Epoch 20/300\n",
      "22/22 [==============================] - 0s 3ms/step - loss: 5794.2798 - val_loss: 5353.0366\n",
      "Epoch 21/300\n",
      "22/22 [==============================] - 0s 3ms/step - loss: 5585.7441 - val_loss: 5219.3521\n",
      "Epoch 22/300\n",
      "22/22 [==============================] - 0s 3ms/step - loss: 5466.0176 - val_loss: 5122.4409\n",
      "Epoch 23/300\n",
      "22/22 [==============================] - 0s 3ms/step - loss: 5530.2695 - val_loss: 5234.9043\n",
      "Epoch 24/300\n",
      "22/22 [==============================] - 0s 3ms/step - loss: 5282.5537 - val_loss: 4805.8271\n",
      "Epoch 25/300\n",
      "22/22 [==============================] - 0s 3ms/step - loss: 5087.9561 - val_loss: 4756.7524\n",
      "Epoch 26/300\n",
      "22/22 [==============================] - 0s 3ms/step - loss: 4934.5264 - val_loss: 4601.7090\n",
      "Epoch 27/300\n",
      "22/22 [==============================] - 0s 3ms/step - loss: 4848.3848 - val_loss: 4383.9443\n",
      "Epoch 28/300\n",
      "22/22 [==============================] - 0s 3ms/step - loss: 4624.0537 - val_loss: 4186.7764\n",
      "Epoch 29/300\n",
      "22/22 [==============================] - 0s 3ms/step - loss: 4475.7983 - val_loss: 4041.1965\n",
      "Epoch 30/300\n",
      "22/22 [==============================] - 0s 3ms/step - loss: 4420.8203 - val_loss: 3928.6958\n",
      "Epoch 31/300\n",
      "22/22 [==============================] - 0s 4ms/step - loss: 4332.0957 - val_loss: 3844.1257\n",
      "Epoch 32/300\n",
      "22/22 [==============================] - 0s 4ms/step - loss: 4121.3247 - val_loss: 3768.2192\n",
      "Epoch 33/300\n",
      "22/22 [==============================] - 0s 3ms/step - loss: 4155.3828 - val_loss: 3804.3313\n",
      "Epoch 34/300\n",
      "22/22 [==============================] - 0s 3ms/step - loss: 4162.2549 - val_loss: 3545.6794\n",
      "Epoch 35/300\n",
      "22/22 [==============================] - 0s 3ms/step - loss: 4030.5945 - val_loss: 3577.0264\n",
      "Epoch 36/300\n",
      "22/22 [==============================] - 0s 3ms/step - loss: 3785.6553 - val_loss: 4014.7246\n",
      "Epoch 37/300\n",
      "22/22 [==============================] - 0s 3ms/step - loss: 3843.8218 - val_loss: 3675.9719\n",
      "Epoch 38/300\n",
      "22/22 [==============================] - 0s 3ms/step - loss: 3930.1187 - val_loss: 3346.3684\n",
      "Epoch 39/300\n",
      "22/22 [==============================] - 0s 3ms/step - loss: 3733.8513 - val_loss: 3402.7935\n",
      "Epoch 40/300\n",
      "22/22 [==============================] - 0s 3ms/step - loss: 3591.4993 - val_loss: 3264.1123\n",
      "Epoch 41/300\n",
      "22/22 [==============================] - 0s 3ms/step - loss: 3460.8079 - val_loss: 3126.1597\n",
      "Epoch 42/300\n",
      "22/22 [==============================] - 0s 3ms/step - loss: 3450.1682 - val_loss: 3319.8054\n",
      "Epoch 43/300\n",
      "22/22 [==============================] - 0s 3ms/step - loss: 3624.2087 - val_loss: 3453.0396\n",
      "Epoch 44/300\n",
      "22/22 [==============================] - 0s 3ms/step - loss: 3391.2349 - val_loss: 2995.9980\n",
      "Epoch 45/300\n",
      "22/22 [==============================] - 0s 3ms/step - loss: 3394.1165 - val_loss: 2956.0908\n",
      "Epoch 46/300\n",
      "22/22 [==============================] - 0s 3ms/step - loss: 3321.2007 - val_loss: 2945.6353\n",
      "Epoch 47/300\n",
      "22/22 [==============================] - 0s 3ms/step - loss: 3293.9194 - val_loss: 3056.8477\n",
      "Epoch 48/300\n",
      "22/22 [==============================] - 0s 3ms/step - loss: 3258.5527 - val_loss: 2906.2173\n",
      "Epoch 49/300\n",
      "22/22 [==============================] - 0s 3ms/step - loss: 3262.1409 - val_loss: 2886.4458\n",
      "Epoch 50/300\n",
      "22/22 [==============================] - 0s 3ms/step - loss: 3209.1577 - val_loss: 2986.2717\n",
      "Epoch 51/300\n",
      "22/22 [==============================] - 0s 3ms/step - loss: 3312.4819 - val_loss: 3044.3696\n",
      "Epoch 52/300\n",
      "22/22 [==============================] - 0s 3ms/step - loss: 3261.6631 - val_loss: 2871.3801\n",
      "Epoch 53/300\n",
      "22/22 [==============================] - 0s 3ms/step - loss: 3200.0867 - val_loss: 2834.8503\n",
      "Epoch 54/300\n",
      "22/22 [==============================] - 0s 3ms/step - loss: 3189.6145 - val_loss: 2825.8306\n",
      "Epoch 55/300\n",
      "22/22 [==============================] - 0s 3ms/step - loss: 3160.0808 - val_loss: 2953.4558\n",
      "Epoch 56/300\n",
      "22/22 [==============================] - 0s 3ms/step - loss: 3202.7920 - val_loss: 2795.6646\n",
      "Epoch 57/300\n",
      "22/22 [==============================] - 0s 3ms/step - loss: 3097.5647 - val_loss: 2789.4155\n",
      "Epoch 58/300\n",
      "22/22 [==============================] - 0s 3ms/step - loss: 3117.5798 - val_loss: 3265.3433\n",
      "Epoch 59/300\n",
      "22/22 [==============================] - 0s 3ms/step - loss: 3050.6394 - val_loss: 2779.8728\n",
      "Epoch 60/300\n",
      "22/22 [==============================] - 0s 3ms/step - loss: 3178.0969 - val_loss: 2780.8013\n",
      "Epoch 61/300\n",
      "22/22 [==============================] - 0s 3ms/step - loss: 3308.1091 - val_loss: 2960.2012\n",
      "Epoch 62/300\n",
      "22/22 [==============================] - 0s 3ms/step - loss: 3123.7734 - val_loss: 2795.8848\n",
      "Epoch 63/300\n",
      "22/22 [==============================] - 0s 3ms/step - loss: 3245.0500 - val_loss: 2757.6934\n",
      "Epoch 64/300\n",
      "22/22 [==============================] - 0s 3ms/step - loss: 3110.5002 - val_loss: 2757.0181\n",
      "Epoch 65/300\n",
      "22/22 [==============================] - 0s 3ms/step - loss: 3052.8596 - val_loss: 2776.8647\n",
      "Epoch 66/300\n",
      "22/22 [==============================] - 0s 3ms/step - loss: 3116.9072 - val_loss: 2952.5039\n",
      "Epoch 67/300\n",
      "22/22 [==============================] - 0s 3ms/step - loss: 3191.4353 - val_loss: 2996.6533\n",
      "Epoch 68/300\n",
      "22/22 [==============================] - 0s 3ms/step - loss: 3096.5303 - val_loss: 2872.9170\n",
      "Epoch 69/300\n",
      "22/22 [==============================] - 0s 3ms/step - loss: 3090.1707 - val_loss: 3255.8074\n",
      "Epoch 70/300\n",
      "22/22 [==============================] - 0s 3ms/step - loss: 3127.6016 - val_loss: 2847.3762\n",
      "Epoch 71/300\n",
      "22/22 [==============================] - 0s 3ms/step - loss: 3154.0977 - val_loss: 3086.1377\n",
      "Epoch 72/300\n",
      "22/22 [==============================] - 0s 3ms/step - loss: 3325.6289 - val_loss: 2700.4102\n",
      "Epoch 73/300\n",
      "22/22 [==============================] - 0s 3ms/step - loss: 3134.1248 - val_loss: 2897.8521\n",
      "Epoch 74/300\n",
      "22/22 [==============================] - 0s 3ms/step - loss: 3027.5940 - val_loss: 2854.1350\n",
      "Epoch 75/300\n",
      "22/22 [==============================] - 0s 3ms/step - loss: 2996.2715 - val_loss: 2804.4170\n",
      "Epoch 76/300\n",
      "22/22 [==============================] - 0s 3ms/step - loss: 3045.0002 - val_loss: 2712.5681\n",
      "Epoch 77/300\n",
      "22/22 [==============================] - 0s 3ms/step - loss: 3058.9263 - val_loss: 2752.3740\n",
      "Epoch 78/300\n",
      "22/22 [==============================] - 0s 3ms/step - loss: 3101.0107 - val_loss: 2793.8987\n",
      "Epoch 79/300\n",
      "22/22 [==============================] - 0s 3ms/step - loss: 3037.0679 - val_loss: 2720.6201\n",
      "Epoch 80/300\n",
      "22/22 [==============================] - 0s 3ms/step - loss: 2982.1877 - val_loss: 2708.6946\n",
      "Epoch 81/300\n",
      "22/22 [==============================] - 0s 3ms/step - loss: 2992.4048 - val_loss: 2913.2488\n",
      "Epoch 82/300\n",
      " 1/22 [>.............................] - ETA: 0s - loss: 2893.1296Restoring model weights from the end of the best epoch: 72.\n",
      "22/22 [==============================] - 0s 3ms/step - loss: 3184.7112 - val_loss: 2843.4424\n",
      "Epoch 00082: early stopping\n",
      "걸린시간 :  6.2157604694366455\n"
     ]
    }
   ],
   "source": [
    "# 3.컴파일 + 훈련\n",
    "# gpu 걸린시간 :  12.08470892906189\n",
    "# cpu 걸린시간 :  16.177061557769775\n",
    "import time\n",
    "from tensorflow.keras.callbacks import EarlyStopping\n",
    "# 모니터 : val_loss 를 관찰\n",
    "# mode : 값이 커질때 멈춤 , 값이 작아져야함\n",
    "# patience : 개선이 안된다고 바로 종료시키지 않고 에폭을 기다림\n",
    "# \n",
    "earlyStopping = EarlyStopping(monitor=\"val_loss\",\n",
    "                              mode=\"min\",patience =10,\n",
    "                              restore_best_weights=True,\n",
    "                              verbose=1\n",
    "                              )\n",
    "\n",
    "model.compile(loss=\"mse\",optimizer=\"adam\")\n",
    "start = time.time()\n",
    "hist = model.fit(x_train, y_train, epochs=300, batch_size=32, validation_split=0.25,\n",
    "                 callbacks = [earlyStopping])\n",
    "end = time.time()\n",
    "\n",
    "print(\"걸린시간 : \",end-start)"
   ]
  },
  {
   "cell_type": "code",
   "execution_count": 275,
   "metadata": {},
   "outputs": [
    {
     "name": "stdout",
     "output_type": "stream",
     "text": [
      "13/13 [==============================] - 0s 1ms/step - loss: 3157.1902\n",
      "loss :  3157.190185546875\n",
      "RMSE :  56.18887977623163\n",
      "R2 :  0.5178803990337073\n"
     ]
    }
   ],
   "source": [
    "# 4. 성능평가\n",
    "\n",
    "from sklearn.metrics import mean_squared_error\n",
    "from sklearn.metrics import r2_score\n",
    "\n",
    "def RMSE(y_test,y_predict):\n",
    "    return np.sqrt(mean_squared_error(y_test,y_predict))\n",
    "\n",
    "loss = model.evaluate(x_test,y_test)\n",
    "print(\"loss : \",loss)\n",
    "\n",
    "y_predict =model.predict(x_test)\n",
    "# print(\"=================\")\n",
    "# print(y_test)\n",
    "# print(y_predict)\n",
    "# print(\"=================\")\n",
    "\n",
    "print(\"RMSE : \",RMSE(y_test,y_predict))\n",
    "print(\"R2 : \",r2_score(y_test,y_predict))"
   ]
  },
  {
   "cell_type": "code",
   "execution_count": 276,
   "metadata": {},
   "outputs": [],
   "source": [
    "# 5. 저장\n",
    "# 제출용 but NaN 이 포함되어있다 ...\n",
    "import pandas as pd\n",
    "# 15-1.제출용를 predcit 로 뽑아냄\n",
    "y_submit = model.predict(test_csv)\n",
    "# 15-2.제촐용을 데이터프레임형으로 변환\n",
    "y_submit = pd.DataFrame(y_submit)\n",
    "# 15-2 제출용의 카운트 칼럼에 y_submit 삽입\n",
    "submission[\"count\"] = y_submit\n",
    "# 15-3 경로와 파일명 지정\n",
    "submission.to_csv(path + \"submission_0101502151.csv\")"
   ]
  },
  {
   "cell_type": "code",
   "execution_count": 277,
   "metadata": {},
   "outputs": [
    {
     "data": {
      "image/png": "[encoded data removed]",
      "text/plain": [
       "<Figure size 900x600 with 1 Axes>"
      ]
     },
     "metadata": {},
     "output_type": "display_data"
    }
   ],
   "source": [
    "# 시각화\n",
    "import matplotlib.pyplot as plt\n",
    "\n",
    "# 필롯의 사이즈\n",
    "plt.figure(figsize =(9,6))\n",
    "plt.plot(hist.history[\"loss\"],c =\"red\",label=\"loss\")\n",
    "plt.plot(hist.history[\"val_loss\"],c=\"green\",label=\"val_loss\")\n",
    "plt.grid() # 격자 표시\n",
    "plt.xlabel(\"epochs\") # x 라벨 표시 \n",
    "plt.ylabel(\"loss\") # y 라벨 표시\n",
    "plt.title(\"ddarung loss\") # 그래프의 타이틀 표시\n",
    "plt.legend(loc = \"upper right\") # 그래프의 범주 표시\n",
    "plt.show() # 그래프를 보여줘"
   ]
  }
 ],
 "metadata": {
  "kernelspec": {
   "display_name": "tf274gpu",
   "language": "python",
   "name": "python3"
  },
  "language_info": {
   "codemirror_mode": {
    "name": "ipython",
    "version": 3
   },
   "file_extension": ".py",
   "mimetype": "text/x-python",
   "name": "python",
   "nbconvert_exporter": "python",
   "pygments_lexer": "ipython3",
   "version": "3.9.15"
  },
  "orig_nbformat": 4,
  "vscode": {
   "interpreter": {
    "hash": "10848e9bd3f5e7d93542d388001135334854454e7336dcf54c4ef52885ee0fb0"
   }
  }
 },
 "nbformat": 4,
 "nbformat_minor": 2
}
