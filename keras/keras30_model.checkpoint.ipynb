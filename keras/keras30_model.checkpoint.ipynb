{
 "cells": [
  {
   "cell_type": "code",
   "execution_count": 1,
   "metadata": {},
   "outputs": [
    {
     "name": "stderr",
     "output_type": "stream",
     "text": [
      "c:\\Users\\bitcamp\\anaconda3\\envs\\tf274gpu\\lib\\site-packages\\sklearn\\utils\\deprecation.py:87: FutureWarning: Function load_boston is deprecated; `load_boston` is deprecated in 1.0 and will be removed in 1.2.\n",
      "\n",
      "    The Boston housing prices dataset has an ethical problem. You can refer to\n",
      "    the documentation of this function for further details.\n",
      "\n",
      "    The scikit-learn maintainers therefore strongly discourage the use of this\n",
      "    dataset unless the purpose of the code is to study and educate about\n",
      "    ethical issues in data science and machine learning.\n",
      "\n",
      "    In this special case, you can fetch the dataset from the original\n",
      "    source::\n",
      "\n",
      "        import pandas as pd\n",
      "        import numpy as np\n",
      "\n",
      "        data_url = \"http://lib.stat.cmu.edu/datasets/boston\"\n",
      "        raw_df = pd.read_csv(data_url, sep=\"\\s+\", skiprows=22, header=None)\n",
      "        data = np.hstack([raw_df.values[::2, :], raw_df.values[1::2, :2]])\n",
      "        target = raw_df.values[1::2, 2]\n",
      "\n",
      "    Alternative datasets include the California housing dataset (i.e.\n",
      "    :func:`~sklearn.datasets.fetch_california_housing`) and the Ames housing\n",
      "    dataset. You can load the datasets as follows::\n",
      "\n",
      "        from sklearn.datasets import fetch_california_housing\n",
      "        housing = fetch_california_housing()\n",
      "\n",
      "    for the California housing dataset and::\n",
      "\n",
      "        from sklearn.datasets import fetch_openml\n",
      "        housing = fetch_openml(name=\"house_prices\", as_frame=True)\n",
      "\n",
      "    for the Ames housing dataset.\n",
      "  warnings.warn(msg, category=FutureWarning)\n"
     ]
    }
   ],
   "source": [
    "from sklearn.datasets import load_boston\n",
    "import numpy as np\n",
    "import pandas as pd\n",
    "import tensorflow as tf\n",
    "from tensorflow.keras.models import Sequential,Model\n",
    "from tensorflow.keras.layers import Dense\n",
    "from sklearn.model_selection import train_test_split\n",
    "from sklearn.preprocessing import MinMaxScaler,StandardScaler\n",
    "import sklearn as sk\n",
    "dataset = load_boston()"
   ]
  },
  {
   "cell_type": "code",
   "execution_count": 2,
   "metadata": {},
   "outputs": [],
   "source": [
    "x = dataset.data\n",
    "y = dataset.target\n",
    "x= pd.DataFrame(x)\n",
    "# print(\"x 최솟값 : \",np.min(x))\n",
    "# print(\"x 최댓값 : \",np.max(x))"
   ]
  },
  {
   "cell_type": "code",
   "execution_count": 3,
   "metadata": {},
   "outputs": [
    {
     "name": "stdout",
     "output_type": "stream",
     "text": [
      "x 최솟값 :  -3.9071933049810337\n",
      "x 최댓값 :  9.933930601860268\n"
     ]
    }
   ],
   "source": [
    "# 스케일링 하기\n",
    "scaler = StandardScaler()\n",
    "# 가중치 생성후\n",
    "scaler.fit(x)\n",
    "# 변환\n",
    "x = scaler.transform(x)\n",
    "print(\"x 최솟값 : \",np.min(x))\n",
    "print(\"x 최댓값 : \",np.max(x))"
   ]
  },
  {
   "cell_type": "code",
   "execution_count": 4,
   "metadata": {},
   "outputs": [
    {
     "name": "stdout",
     "output_type": "stream",
     "text": [
      "(506, 13)\n",
      "(506,)\n"
     ]
    }
   ],
   "source": [
    "# 13개의 칼럼 을 가지고있는 데이터를 조회합니다\n",
    "print(x.shape) #(506,13)\n",
    "# print(x)\n",
    "print(y.shape) #(506,)\n",
    "# print(y)\n"
   ]
  },
  {
   "cell_type": "code",
   "execution_count": 5,
   "metadata": {},
   "outputs": [
    {
     "name": "stdout",
     "output_type": "stream",
     "text": [
      "['CRIM' 'ZN' 'INDUS' 'CHAS' 'NOX' 'RM' 'AGE' 'DIS' 'RAD' 'TAX' 'PTRATIO'\n",
      " 'B' 'LSTAT']\n",
      "13\n"
     ]
    }
   ],
   "source": [
    "# 사이킥 런의 칼럼 조회기능\n",
    "print(dataset.feature_names)\n",
    "print(len(dataset.feature_names))\n"
   ]
  },
  {
   "cell_type": "code",
   "execution_count": 6,
   "metadata": {},
   "outputs": [],
   "source": [
    "# 사이킥런의 데이터 요약\n",
    "# print(dataset.DESCR)"
   ]
  },
  {
   "cell_type": "code",
   "execution_count": 7,
   "metadata": {},
   "outputs": [
    {
     "name": "stdout",
     "output_type": "stream",
     "text": [
      "354\n",
      "152\n"
     ]
    }
   ],
   "source": [
    "# 3. 모델구성\n",
    "# 실습 train 0.7 이상\n",
    "# 평가지표 R2 : 0.8 이상으로 뽑아내보기 / RMSE 사용\n",
    "\n",
    "x_train, x_test,y_train,y_test = train_test_split(x,y,\n",
    "    train_size=0.7,\n",
    "    shuffle = True,\n",
    "    random_state= 123\n",
    ")\n",
    "\n",
    "scaler = MinMaxScaler()\n",
    "# 가중치 생성후\n",
    "scaler.fit(x_train)\n",
    "# x_train 의 가중치 변환\n",
    "x_train = scaler.transform(x_train)\n",
    "# x_test 는 변환만 !\n",
    "x_test = scaler.transform(x_test)\n",
    "\n",
    "print(len(x_train))\n",
    "print(len(x_test))"
   ]
  },
  {
   "cell_type": "code",
   "execution_count": 8,
   "metadata": {},
   "outputs": [
    {
     "name": "stdout",
     "output_type": "stream",
     "text": [
      "Model: \"model\"\n",
      "_________________________________________________________________\n",
      " Layer (type)                Output Shape              Param #   \n",
      "=================================================================\n",
      " input_1 (InputLayer)        [(None, 13)]              0         \n",
      "                                                                 \n",
      " dense_6 (Dense)             (None, 50)                700       \n",
      "                                                                 \n",
      " dense_7 (Dense)             (None, 50)                2550      \n",
      "                                                                 \n",
      " dense_8 (Dense)             (None, 50)                2550      \n",
      "                                                                 \n",
      " dense_9 (Dense)             (None, 50)                2550      \n",
      "                                                                 \n",
      " dense_10 (Dense)            (None, 50)                2550      \n",
      "                                                                 \n",
      " dense_11 (Dense)            (None, 1)                 51        \n",
      "                                                                 \n",
      "=================================================================\n",
      "Total params: 10,951\n",
      "Trainable params: 10,951\n",
      "Non-trainable params: 0\n",
      "_________________________________________________________________\n"
     ]
    }
   ],
   "source": [
    "from tensorflow.keras.models import Sequential,Model\n",
    "from tensorflow.keras.layers import Dense,Input\n",
    "\n",
    "\n",
    "# 2. 모델구성 순차형\n",
    "model = Sequential([\n",
    "    Dense(50,input_dim=13,activation=\"relu\"),\n",
    "    Dense(50,activation=\"relu\"),\n",
    "    Dense(50,activation=\"relu\"),\n",
    "    Dense(50,activation=\"relu\"),\n",
    "    Dense(50,activation=\"relu\"),\n",
    "    Dense(1)\n",
    "])\n",
    "\n",
    "\n",
    "# 3. 모델구성 함수형\n",
    "input1 = Input(shape=(13,))\n",
    "dense1 = Dense(50,activation=\"relu\")(input1)\n",
    "dense2 = Dense(50,activation=\"relu\")(dense1)\n",
    "dense3 = Dense(50,activation=\"relu\")(dense2)\n",
    "dense4 = Dense(50,activation=\"relu\")(dense3)\n",
    "dense5 = Dense(50,activation=\"relu\")(dense4)\n",
    "output1 = Dense(1,activation=\"relu\")(dense5)\n",
    "\n",
    "model=Model(inputs=input1,outputs=output1)\n",
    "\n",
    "model.summary()"
   ]
  },
  {
   "cell_type": "code",
   "execution_count": 9,
   "metadata": {},
   "outputs": [
    {
     "name": "stdout",
     "output_type": "stream",
     "text": [
      "Epoch 1/100\n",
      "9/9 [==============================] - 1s 19ms/step - loss: 22.5287 - val_loss: 22.0092\n",
      "Epoch 2/100\n",
      "9/9 [==============================] - 0s 6ms/step - loss: 21.7088 - val_loss: 20.6733\n",
      "Epoch 3/100\n",
      "9/9 [==============================] - 0s 5ms/step - loss: 19.7377 - val_loss: 17.2230\n",
      "Epoch 4/100\n",
      "9/9 [==============================] - 0s 5ms/step - loss: 15.1574 - val_loss: 10.6987\n",
      "Epoch 5/100\n",
      "9/9 [==============================] - 0s 5ms/step - loss: 10.2693 - val_loss: 10.1307\n",
      "Epoch 6/100\n",
      "9/9 [==============================] - 0s 4ms/step - loss: 9.8819 - val_loss: 8.2945\n",
      "Epoch 7/100\n",
      "9/9 [==============================] - 0s 5ms/step - loss: 8.4890 - val_loss: 7.5162\n",
      "Epoch 8/100\n",
      "9/9 [==============================] - 0s 5ms/step - loss: 7.4935 - val_loss: 6.7103\n",
      "Epoch 9/100\n",
      "9/9 [==============================] - 0s 5ms/step - loss: 6.6512 - val_loss: 6.0557\n",
      "Epoch 10/100\n",
      "9/9 [==============================] - 0s 5ms/step - loss: 5.8370 - val_loss: 5.5029\n",
      "Epoch 11/100\n",
      "9/9 [==============================] - 0s 5ms/step - loss: 5.2272 - val_loss: 5.2011\n",
      "Epoch 12/100\n",
      "9/9 [==============================] - 0s 5ms/step - loss: 4.8208 - val_loss: 5.0027\n",
      "Epoch 13/100\n",
      "9/9 [==============================] - 0s 5ms/step - loss: 4.6402 - val_loss: 4.8007\n",
      "Epoch 14/100\n",
      "9/9 [==============================] - 0s 5ms/step - loss: 4.5340 - val_loss: 4.7288\n",
      "Epoch 15/100\n",
      "9/9 [==============================] - 0s 5ms/step - loss: 4.2912 - val_loss: 4.5198\n",
      "Epoch 16/100\n",
      "9/9 [==============================] - 0s 5ms/step - loss: 4.1157 - val_loss: 4.3977\n",
      "Epoch 17/100\n",
      "9/9 [==============================] - 0s 5ms/step - loss: 4.0655 - val_loss: 4.3523\n",
      "Epoch 18/100\n",
      "9/9 [==============================] - 0s 5ms/step - loss: 3.7776 - val_loss: 4.1105\n",
      "Epoch 19/100\n",
      "9/9 [==============================] - 0s 5ms/step - loss: 3.6573 - val_loss: 3.9429\n",
      "Epoch 20/100\n",
      "9/9 [==============================] - 0s 5ms/step - loss: 3.3938 - val_loss: 3.9270\n",
      "Epoch 21/100\n",
      "9/9 [==============================] - 0s 5ms/step - loss: 3.4018 - val_loss: 3.6979\n",
      "Epoch 22/100\n",
      "9/9 [==============================] - 0s 5ms/step - loss: 3.1155 - val_loss: 3.4821\n",
      "Epoch 23/100\n",
      "9/9 [==============================] - 0s 5ms/step - loss: 2.8981 - val_loss: 3.3669\n",
      "Epoch 24/100\n",
      "9/9 [==============================] - 0s 5ms/step - loss: 2.8122 - val_loss: 3.1589\n",
      "Epoch 25/100\n",
      "9/9 [==============================] - 0s 5ms/step - loss: 2.7528 - val_loss: 3.0787\n",
      "Epoch 26/100\n",
      "9/9 [==============================] - 0s 5ms/step - loss: 2.8114 - val_loss: 2.9820\n",
      "Epoch 27/100\n",
      "9/9 [==============================] - 0s 5ms/step - loss: 2.8141 - val_loss: 3.6954\n",
      "Epoch 28/100\n",
      "9/9 [==============================] - 0s 5ms/step - loss: 2.6666 - val_loss: 3.0127\n",
      "Epoch 29/100\n",
      "9/9 [==============================] - 0s 5ms/step - loss: 2.5889 - val_loss: 2.9165\n",
      "Epoch 30/100\n",
      "9/9 [==============================] - 0s 5ms/step - loss: 2.5306 - val_loss: 2.9423\n",
      "Epoch 31/100\n",
      "9/9 [==============================] - 0s 5ms/step - loss: 2.5877 - val_loss: 3.1473\n",
      "Epoch 32/100\n",
      "9/9 [==============================] - 0s 6ms/step - loss: 2.5053 - val_loss: 2.8608\n",
      "Epoch 33/100\n",
      "9/9 [==============================] - 0s 5ms/step - loss: 2.4579 - val_loss: 2.8870\n",
      "Epoch 34/100\n",
      "9/9 [==============================] - 0s 5ms/step - loss: 2.4992 - val_loss: 3.0073\n",
      "Epoch 35/100\n",
      "9/9 [==============================] - 0s 5ms/step - loss: 2.6699 - val_loss: 3.1016\n",
      "Epoch 36/100\n",
      "9/9 [==============================] - 0s 5ms/step - loss: 2.4489 - val_loss: 2.9397\n",
      "Epoch 37/100\n",
      "9/9 [==============================] - 0s 5ms/step - loss: 2.4001 - val_loss: 2.8791\n",
      "Epoch 38/100\n",
      "9/9 [==============================] - 0s 5ms/step - loss: 2.3925 - val_loss: 3.1676\n",
      "Epoch 39/100\n",
      "9/9 [==============================] - 0s 6ms/step - loss: 2.4611 - val_loss: 2.8277\n",
      "Epoch 40/100\n",
      "9/9 [==============================] - 0s 6ms/step - loss: 2.3716 - val_loss: 2.8474\n",
      "Epoch 41/100\n",
      "9/9 [==============================] - 0s 5ms/step - loss: 2.4115 - val_loss: 3.1089\n",
      "Epoch 42/100\n",
      "9/9 [==============================] - 0s 5ms/step - loss: 2.4003 - val_loss: 3.2011\n",
      "Epoch 43/100\n",
      "9/9 [==============================] - 0s 5ms/step - loss: 2.5956 - val_loss: 2.8497\n",
      "Epoch 44/100\n",
      "9/9 [==============================] - 0s 5ms/step - loss: 2.4792 - val_loss: 2.8983\n",
      "Epoch 45/100\n",
      "9/9 [==============================] - 0s 5ms/step - loss: 2.4279 - val_loss: 2.8907\n",
      "Epoch 46/100\n",
      "9/9 [==============================] - 0s 5ms/step - loss: 2.3639 - val_loss: 3.0829\n",
      "Epoch 47/100\n",
      "9/9 [==============================] - 0s 5ms/step - loss: 2.4534 - val_loss: 3.0926\n",
      "Epoch 48/100\n",
      "9/9 [==============================] - 0s 5ms/step - loss: 2.2676 - val_loss: 2.8257\n",
      "Epoch 49/100\n",
      "9/9 [==============================] - 0s 5ms/step - loss: 2.2800 - val_loss: 2.8040\n",
      "Epoch 50/100\n",
      "9/9 [==============================] - 0s 5ms/step - loss: 2.2289 - val_loss: 2.7674\n",
      "Epoch 51/100\n",
      "9/9 [==============================] - 0s 5ms/step - loss: 2.2244 - val_loss: 2.8605\n",
      "Epoch 52/100\n",
      "9/9 [==============================] - 0s 5ms/step - loss: 2.2067 - val_loss: 2.7858\n",
      "Epoch 53/100\n",
      "9/9 [==============================] - 0s 5ms/step - loss: 2.1553 - val_loss: 2.8643\n",
      "Epoch 54/100\n",
      "9/9 [==============================] - 0s 5ms/step - loss: 2.2453 - val_loss: 2.9867\n",
      "Epoch 55/100\n",
      "9/9 [==============================] - 0s 5ms/step - loss: 2.1962 - val_loss: 3.0759\n",
      "Epoch 56/100\n",
      "9/9 [==============================] - 0s 5ms/step - loss: 2.1696 - val_loss: 2.7606\n",
      "Epoch 57/100\n",
      "9/9 [==============================] - 0s 5ms/step - loss: 2.1626 - val_loss: 2.7663\n",
      "Epoch 58/100\n",
      "9/9 [==============================] - 0s 5ms/step - loss: 2.1916 - val_loss: 2.8388\n",
      "Epoch 59/100\n",
      "9/9 [==============================] - 0s 5ms/step - loss: 2.1867 - val_loss: 3.1395\n",
      "Epoch 60/100\n",
      "9/9 [==============================] - 0s 4ms/step - loss: 2.1176 - val_loss: 2.7607\n",
      "Epoch 61/100\n",
      "9/9 [==============================] - 0s 5ms/step - loss: 2.0854 - val_loss: 2.7597\n",
      "Epoch 62/100\n",
      "9/9 [==============================] - 0s 6ms/step - loss: 2.1169 - val_loss: 2.9338\n",
      "Epoch 63/100\n",
      "9/9 [==============================] - 0s 5ms/step - loss: 2.0582 - val_loss: 3.0982\n",
      "Epoch 64/100\n",
      "9/9 [==============================] - 0s 5ms/step - loss: 2.1966 - val_loss: 2.7247\n",
      "Epoch 65/100\n",
      "9/9 [==============================] - 0s 6ms/step - loss: 2.2546 - val_loss: 2.7587\n",
      "Epoch 66/100\n",
      "9/9 [==============================] - 0s 5ms/step - loss: 2.1642 - val_loss: 2.7780\n",
      "Epoch 67/100\n",
      "9/9 [==============================] - 0s 5ms/step - loss: 1.9869 - val_loss: 2.8709\n",
      "Epoch 68/100\n",
      "9/9 [==============================] - 0s 5ms/step - loss: 1.9946 - val_loss: 2.7436\n",
      "Epoch 69/100\n",
      "9/9 [==============================] - 0s 5ms/step - loss: 2.0026 - val_loss: 2.7518\n",
      "Epoch 70/100\n",
      "9/9 [==============================] - 0s 5ms/step - loss: 1.9807 - val_loss: 2.9660\n",
      "Epoch 71/100\n",
      "9/9 [==============================] - 0s 6ms/step - loss: 2.0109 - val_loss: 3.0595\n",
      "Epoch 72/100\n",
      "9/9 [==============================] - 0s 5ms/step - loss: 2.1261 - val_loss: 2.9036\n",
      "Epoch 73/100\n",
      "9/9 [==============================] - 0s 5ms/step - loss: 2.1509 - val_loss: 2.6519\n",
      "Epoch 74/100\n",
      "9/9 [==============================] - 0s 5ms/step - loss: 2.1519 - val_loss: 2.6826\n",
      "Epoch 75/100\n",
      "9/9 [==============================] - 0s 5ms/step - loss: 2.2466 - val_loss: 2.7270\n",
      "Epoch 76/100\n",
      "9/9 [==============================] - 0s 5ms/step - loss: 2.1200 - val_loss: 2.7473\n",
      "Epoch 77/100\n",
      "9/9 [==============================] - 0s 6ms/step - loss: 2.0232 - val_loss: 2.9073\n",
      "Epoch 78/100\n",
      "9/9 [==============================] - 0s 5ms/step - loss: 2.0119 - val_loss: 3.0174\n",
      "Epoch 79/100\n",
      "9/9 [==============================] - 0s 5ms/step - loss: 2.0110 - val_loss: 2.8134\n",
      "Epoch 80/100\n",
      "9/9 [==============================] - 0s 5ms/step - loss: 2.0069 - val_loss: 2.6918\n",
      "Epoch 81/100\n",
      "9/9 [==============================] - 0s 5ms/step - loss: 1.9046 - val_loss: 2.6928\n",
      "Epoch 82/100\n",
      "9/9 [==============================] - 0s 5ms/step - loss: 2.0220 - val_loss: 2.7338\n",
      "Epoch 83/100\n",
      "9/9 [==============================] - 0s 5ms/step - loss: 1.9068 - val_loss: 2.9201\n",
      "Epoch 84/100\n",
      "9/9 [==============================] - 0s 5ms/step - loss: 2.0447 - val_loss: 2.7423\n",
      "Epoch 85/100\n",
      "9/9 [==============================] - 0s 5ms/step - loss: 1.8958 - val_loss: 2.8740\n",
      "Epoch 86/100\n",
      "9/9 [==============================] - 0s 5ms/step - loss: 1.9577 - val_loss: 2.7520\n",
      "Epoch 87/100\n",
      "9/9 [==============================] - 0s 5ms/step - loss: 1.9311 - val_loss: 2.6458\n",
      "Epoch 88/100\n",
      "9/9 [==============================] - 0s 5ms/step - loss: 1.9371 - val_loss: 2.7050\n",
      "Epoch 89/100\n",
      "9/9 [==============================] - 0s 5ms/step - loss: 1.8947 - val_loss: 2.6558\n",
      "Epoch 90/100\n",
      "9/9 [==============================] - 0s 5ms/step - loss: 1.9861 - val_loss: 2.8947\n",
      "Epoch 91/100\n",
      "9/9 [==============================] - 0s 5ms/step - loss: 1.9842 - val_loss: 3.2806\n",
      "Epoch 92/100\n",
      "9/9 [==============================] - 0s 5ms/step - loss: 2.2216 - val_loss: 2.6876\n",
      "Epoch 93/100\n",
      "9/9 [==============================] - 0s 4ms/step - loss: 1.9400 - val_loss: 2.5999\n",
      "Epoch 94/100\n",
      "9/9 [==============================] - 0s 5ms/step - loss: 1.9357 - val_loss: 2.7319\n",
      "Epoch 95/100\n",
      "9/9 [==============================] - 0s 5ms/step - loss: 1.8271 - val_loss: 2.7652\n",
      "Epoch 96/100\n",
      "9/9 [==============================] - 0s 5ms/step - loss: 1.8213 - val_loss: 2.6486\n",
      "Epoch 97/100\n",
      "9/9 [==============================] - 0s 5ms/step - loss: 1.9289 - val_loss: 2.6783\n",
      "Epoch 98/100\n",
      "9/9 [==============================] - 0s 6ms/step - loss: 1.9095 - val_loss: 2.9040\n",
      "Epoch 99/100\n",
      "9/9 [==============================] - 0s 7ms/step - loss: 1.9334 - val_loss: 2.9046\n",
      "Epoch 100/100\n",
      "9/9 [==============================] - 0s 5ms/step - loss: 1.9076 - val_loss: 2.9316\n"
     ]
    },
    {
     "data": {
      "text/plain": [
       "<keras.callbacks.History at 0x21b0a71f910>"
      ]
     },
     "execution_count": 9,
     "metadata": {},
     "output_type": "execute_result"
    }
   ],
   "source": [
    "\n",
    "hist = model.compile(loss=\"mae\",optimizer=\"adam\")\n",
    "\n",
    "model.fit(x_train, y_train, epochs=10, batch_size=32, validation_split=0.25)\n"
   ]
  },
  {
   "cell_type": "code",
   "execution_count": 11,
   "metadata": {},
   "outputs": [],
   "source": [
    "# 모델저장\n",
    "\n",
    "path = \"../_save/\"\n",
    "\n",
    "model.save(path+\"savemodel.h5\")"
   ]
  },
  {
   "cell_type": "code",
   "execution_count": 12,
   "metadata": {},
   "outputs": [
    {
     "name": "stdout",
     "output_type": "stream",
     "text": [
      "Model: \"model\"\n",
      "_________________________________________________________________\n",
      " Layer (type)                Output Shape              Param #   \n",
      "=================================================================\n",
      " input_1 (InputLayer)        [(None, 13)]              0         \n",
      "                                                                 \n",
      " dense_6 (Dense)             (None, 50)                700       \n",
      "                                                                 \n",
      " dense_7 (Dense)             (None, 50)                2550      \n",
      "                                                                 \n",
      " dense_8 (Dense)             (None, 50)                2550      \n",
      "                                                                 \n",
      " dense_9 (Dense)             (None, 50)                2550      \n",
      "                                                                 \n",
      " dense_10 (Dense)            (None, 50)                2550      \n",
      "                                                                 \n",
      " dense_11 (Dense)            (None, 1)                 51        \n",
      "                                                                 \n",
      "=================================================================\n",
      "Total params: 10,951\n",
      "Trainable params: 10,951\n",
      "Non-trainable params: 0\n",
      "_________________________________________________________________\n"
     ]
    }
   ],
   "source": [
    "# 모델불러오기\n",
    "from tensorflow.keras.models import load_model\n",
    "\n",
    "path = \"../_save/\"\n",
    "\n",
    "# model.save(path+\"savemodel.h5\")\n",
    "load_model = load_model(path+\"savemodel.h5\")\n",
    "\n",
    "load_model.summary()"
   ]
  }
 ],
 "metadata": {
  "kernelspec": {
   "display_name": "tf274gpu",
   "language": "python",
   "name": "python3"
  },
  "language_info": {
   "codemirror_mode": {
    "name": "ipython",
    "version": 3
   },
   "file_extension": ".py",
   "mimetype": "text/x-python",
   "name": "python",
   "nbconvert_exporter": "python",
   "pygments_lexer": "ipython3",
   "version": "3.9.15"
  },
  "orig_nbformat": 4,
  "vscode": {
   "interpreter": {
    "hash": "10848e9bd3f5e7d93542d388001135334854454e7336dcf54c4ef52885ee0fb0"
   }
  }
 },
 "nbformat": 4,
 "nbformat_minor": 2
}
