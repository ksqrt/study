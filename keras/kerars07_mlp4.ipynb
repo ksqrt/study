{
 "cells": [
  {
   "cell_type": "code",
   "execution_count": 47,
   "metadata": {},
   "outputs": [
    {
     "name": "stdout",
     "output_type": "stream",
     "text": [
      "(10, 1)\n",
      "[[0]\n",
      " [1]\n",
      " [2]\n",
      " [3]\n",
      " [4]\n",
      " [5]\n",
      " [6]\n",
      " [7]\n",
      " [8]\n",
      " [9]]\n",
      "(10, 3)\n",
      "[[ 1.   1.   9. ]\n",
      " [ 2.   1.   8. ]\n",
      " [ 3.   1.   7. ]\n",
      " [ 4.   1.   6. ]\n",
      " [ 5.   2.   5. ]\n",
      " [ 6.   1.3  4. ]\n",
      " [ 7.   1.4  3. ]\n",
      " [ 8.   1.5  2. ]\n",
      " [ 9.   1.6  1. ]\n",
      " [10.   1.4  0. ]]\n"
     ]
    }
   ],
   "source": [
    "import numpy as np\n",
    "from tensorflow.keras.models import Sequential\n",
    "from tensorflow.keras.layers import Dense\n",
    "\n",
    "# 1.데이터\n",
    "x= np.array([range(10)])\n",
    "y = np.array([\n",
    "    [1,2,3,4,5,6,7,8,9,10],\n",
    "    [1,1,1,1,2,1.3,1.4,1.5,1.6,1.4],\n",
    "    [9,8,7,6,5,4,3,2,1,0]\n",
    "    ])\n",
    "x = x.T\n",
    "y = y.T\n",
    "\n",
    "print(x.shape)\n",
    "print(x)\n",
    "print(y.shape)\n",
    "print(y)"
   ]
  },
  {
   "cell_type": "code",
   "execution_count": 48,
   "metadata": {},
   "outputs": [
    {
     "name": "stdout",
     "output_type": "stream",
     "text": [
      "Model: \"sequential_11\"\n",
      "_________________________________________________________________\n",
      " Layer (type)                Output Shape              Param #   \n",
      "=================================================================\n",
      " dense_55 (Dense)            (None, 3)                 6         \n",
      "                                                                 \n",
      " dense_56 (Dense)            (None, 3)                 12        \n",
      "                                                                 \n",
      " dense_57 (Dense)            (None, 5)                 20        \n",
      "                                                                 \n",
      " dense_58 (Dense)            (None, 7)                 42        \n",
      "                                                                 \n",
      " dense_59 (Dense)            (None, 3)                 24        \n",
      "                                                                 \n",
      "=================================================================\n",
      "Total params: 104\n",
      "Trainable params: 104\n",
      "Non-trainable params: 0\n",
      "_________________________________________________________________\n"
     ]
    }
   ],
   "source": [
    "# 2. 모델구성하기\n",
    "\n",
    "from random import randrange\n",
    "number1 = randrange(1,10,1)\n",
    "number2 = randrange(1,10,1)\n",
    "number3= randrange(1,10,1)\n",
    "model = Sequential([\n",
    "    Dense(number1,input_dim = 1),\n",
    "    Dense(number1),\n",
    "    Dense(number2),\n",
    "    Dense(number3),\n",
    "    Dense(3)\n",
    "])\n",
    "\n",
    "model.summary()"
   ]
  },
  {
   "cell_type": "code",
   "execution_count": 49,
   "metadata": {},
   "outputs": [
    {
     "name": "stdout",
     "output_type": "stream",
     "text": [
      "Epoch 1/100\n",
      "100/100 [==============================] - 0s 643us/step - loss: 19.4272\n",
      "Epoch 2/100\n",
      "100/100 [==============================] - 0s 633us/step - loss: 7.4191\n",
      "Epoch 3/100\n",
      "100/100 [==============================] - 0s 639us/step - loss: 6.2586\n",
      "Epoch 4/100\n",
      "100/100 [==============================] - 0s 629us/step - loss: 5.6636\n",
      "Epoch 5/100\n",
      "100/100 [==============================] - 0s 646us/step - loss: 4.9374\n",
      "Epoch 6/100\n",
      "100/100 [==============================] - 0s 664us/step - loss: 4.0204\n",
      "Epoch 7/100\n",
      "100/100 [==============================] - 0s 701us/step - loss: 2.9345\n",
      "Epoch 8/100\n",
      "100/100 [==============================] - 0s 643us/step - loss: 1.7560\n",
      "Epoch 9/100\n",
      "100/100 [==============================] - 0s 795us/step - loss: 0.7752\n",
      "Epoch 10/100\n",
      "100/100 [==============================] - 0s 579us/step - loss: 0.2311\n",
      "Epoch 11/100\n",
      "WARNING:tensorflow:Your input ran out of data; interrupting training. Make sure that your dataset or generator can generate at least `steps_per_epoch * epochs` batches (in this case, 10000 batches). You may need to use the repeat() function when building your dataset.\n",
      "100/100 [==============================] - 0s 150us/step - loss: 0.2311\n"
     ]
    },
    {
     "data": {
      "text/plain": [
       "<keras.callbacks.History at 0x26cf184a730>"
      ]
     },
     "execution_count": 49,
     "metadata": {},
     "output_type": "execute_result"
    }
   ],
   "source": [
    "# 3. 모델 컴파일 + 훈련\n",
    "model.compile(loss=\"mse\",optimizer =\"adam\")\n",
    "\n",
    "model.fit(x,y,epochs = 100, steps_per_epoch = 100)"
   ]
  },
  {
   "cell_type": "code",
   "execution_count": 50,
   "metadata": {},
   "outputs": [
    {
     "name": "stdout",
     "output_type": "stream",
     "text": [
      "1/1 [==============================] - 0s 85ms/step - loss: 0.0981\n",
      "[[2.2444978 1.263365  7.309404 ]]\n"
     ]
    }
   ],
   "source": [
    "# 평가\n",
    "loss = model.evaluate(x,y)\n",
    "print(model.predict([[1]]))"
   ]
  }
 ],
 "metadata": {
  "kernelspec": {
   "display_name": "tf27",
   "language": "python",
   "name": "python3"
  },
  "language_info": {
   "codemirror_mode": {
    "name": "ipython",
    "version": 3
   },
   "file_extension": ".py",
   "mimetype": "text/x-python",
   "name": "python",
   "nbconvert_exporter": "python",
   "pygments_lexer": "ipython3",
   "version": "3.9.7"
  },
  "orig_nbformat": 4,
  "vscode": {
   "interpreter": {
    "hash": "b47fb4e6c68d4941015efb0bbf71549277582fe8531338196fc3c7fa71b6aab8"
   }
  }
 },
 "nbformat": 4,
 "nbformat_minor": 2
}
