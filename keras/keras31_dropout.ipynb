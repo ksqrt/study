{
 "cells": [
  {
   "cell_type": "code",
   "execution_count": 55,
   "metadata": {},
   "outputs": [
    {
     "name": "stderr",
     "output_type": "stream",
     "text": [
      "c:\\Users\\bitcamp\\anaconda3\\envs\\tf274gpu\\lib\\site-packages\\sklearn\\utils\\deprecation.py:87: FutureWarning: Function load_boston is deprecated; `load_boston` is deprecated in 1.0 and will be removed in 1.2.\n",
      "\n",
      "    The Boston housing prices dataset has an ethical problem. You can refer to\n",
      "    the documentation of this function for further details.\n",
      "\n",
      "    The scikit-learn maintainers therefore strongly discourage the use of this\n",
      "    dataset unless the purpose of the code is to study and educate about\n",
      "    ethical issues in data science and machine learning.\n",
      "\n",
      "    In this special case, you can fetch the dataset from the original\n",
      "    source::\n",
      "\n",
      "        import pandas as pd\n",
      "        import numpy as np\n",
      "\n",
      "        data_url = \"http://lib.stat.cmu.edu/datasets/boston\"\n",
      "        raw_df = pd.read_csv(data_url, sep=\"\\s+\", skiprows=22, header=None)\n",
      "        data = np.hstack([raw_df.values[::2, :], raw_df.values[1::2, :2]])\n",
      "        target = raw_df.values[1::2, 2]\n",
      "\n",
      "    Alternative datasets include the California housing dataset (i.e.\n",
      "    :func:`~sklearn.datasets.fetch_california_housing`) and the Ames housing\n",
      "    dataset. You can load the datasets as follows::\n",
      "\n",
      "        from sklearn.datasets import fetch_california_housing\n",
      "        housing = fetch_california_housing()\n",
      "\n",
      "    for the California housing dataset and::\n",
      "\n",
      "        from sklearn.datasets import fetch_openml\n",
      "        housing = fetch_openml(name=\"house_prices\", as_frame=True)\n",
      "\n",
      "    for the Ames housing dataset.\n",
      "  warnings.warn(msg, category=FutureWarning)\n"
     ]
    }
   ],
   "source": [
    "from sklearn.datasets import load_boston\n",
    "import numpy as np\n",
    "import pandas as pd\n",
    "import tensorflow as tf\n",
    "from tensorflow.keras.models import Sequential,Model,load_model\n",
    "from tensorflow.keras.layers import Dense\n",
    "from sklearn.model_selection import train_test_split\n",
    "from sklearn.preprocessing import MinMaxScaler,StandardScaler\n",
    "import sklearn as sk\n",
    "dataset = load_boston()"
   ]
  },
  {
   "cell_type": "code",
   "execution_count": 56,
   "metadata": {},
   "outputs": [],
   "source": [
    "x = dataset.data\n",
    "y = dataset.target\n",
    "x= pd.DataFrame(x)\n",
    "# print(\"x 최솟값 : \",np.min(x))\n",
    "# print(\"x 최댓값 : \",np.max(x))"
   ]
  },
  {
   "cell_type": "code",
   "execution_count": 57,
   "metadata": {},
   "outputs": [
    {
     "name": "stdout",
     "output_type": "stream",
     "text": [
      "x 최솟값 :  -3.9071933049810337\n",
      "x 최댓값 :  9.933930601860268\n"
     ]
    }
   ],
   "source": [
    "# 스케일링 하기\n",
    "scaler = StandardScaler()\n",
    "# 가중치 생성후\n",
    "scaler.fit(x)\n",
    "# 변환\n",
    "x = scaler.transform(x)\n",
    "print(\"x 최솟값 : \",np.min(x))\n",
    "print(\"x 최댓값 : \",np.max(x))"
   ]
  },
  {
   "cell_type": "code",
   "execution_count": 58,
   "metadata": {},
   "outputs": [
    {
     "name": "stdout",
     "output_type": "stream",
     "text": [
      "354\n",
      "152\n"
     ]
    }
   ],
   "source": [
    "# 3. 모델구성\n",
    "# 실습 train 0.7 이상\n",
    "# 평가지표 R2 : 0.8 이상으로 뽑아내보기 / RMSE 사용\n",
    "\n",
    "x_train, x_test,y_train,y_test = train_test_split(x,y,\n",
    "    train_size=0.7,\n",
    "    shuffle = True,\n",
    "    random_state= 123\n",
    ")\n",
    "\n",
    "print(len(x_train))\n",
    "print(len(x_test))"
   ]
  },
  {
   "cell_type": "code",
   "execution_count": 59,
   "metadata": {},
   "outputs": [
    {
     "name": "stdout",
     "output_type": "stream",
     "text": [
      "(506, 13)\n",
      "(506,)\n"
     ]
    }
   ],
   "source": [
    "# 13개의 칼럼 을 가지고있는 데이터를 조회합니다\n",
    "print(x.shape) #(506,13)\n",
    "# print(x)\n",
    "print(y.shape) #(506,)\n",
    "# print(y)\n"
   ]
  },
  {
   "cell_type": "code",
   "execution_count": 60,
   "metadata": {},
   "outputs": [
    {
     "name": "stdout",
     "output_type": "stream",
     "text": [
      "['CRIM' 'ZN' 'INDUS' 'CHAS' 'NOX' 'RM' 'AGE' 'DIS' 'RAD' 'TAX' 'PTRATIO'\n",
      " 'B' 'LSTAT']\n",
      "13\n"
     ]
    }
   ],
   "source": [
    "# 사이킥 런의 칼럼 조회기능\n",
    "print(dataset.feature_names)\n",
    "print(len(dataset.feature_names))\n"
   ]
  },
  {
   "cell_type": "code",
   "execution_count": 61,
   "metadata": {},
   "outputs": [],
   "source": [
    "# 사이킥런의 데이터 요약\n",
    "# print(dataset.DESCR)"
   ]
  },
  {
   "cell_type": "code",
   "execution_count": 62,
   "metadata": {},
   "outputs": [
    {
     "name": "stdout",
     "output_type": "stream",
     "text": [
      "354\n",
      "152\n"
     ]
    }
   ],
   "source": [
    "# 3. 모델구성\n",
    "# 실습 train 0.7 이상\n",
    "# 평가지표 R2 : 0.8 이상으로 뽑아내보기 / RMSE 사용\n",
    "\n",
    "x_train, x_test,y_train,y_test = train_test_split(x,y,\n",
    "    train_size=0.7,\n",
    "    shuffle = True,\n",
    "    random_state= 123\n",
    ")\n",
    "\n",
    "scaler = MinMaxScaler()\n",
    "# 가중치 생성후\n",
    "scaler.fit(x_train)\n",
    "# x_train 의 가중치 변환\n",
    "x_train = scaler.transform(x_train)\n",
    "# x_test 는 변환만 !\n",
    "x_test = scaler.transform(x_test)\n",
    "\n",
    "print(len(x_train))\n",
    "print(len(x_test))"
   ]
  },
  {
   "cell_type": "code",
   "execution_count": 63,
   "metadata": {},
   "outputs": [
    {
     "name": "stdout",
     "output_type": "stream",
     "text": [
      "Model: \"model_1\"\n",
      "_________________________________________________________________\n",
      " Layer (type)                Output Shape              Param #   \n",
      "=================================================================\n",
      " input_2 (InputLayer)        [(None, 13)]              0         \n",
      "                                                                 \n",
      " dense_35 (Dense)            (None, 32)                448       \n",
      "                                                                 \n",
      " dropout_4 (Dropout)         (None, 32)                0         \n",
      "                                                                 \n",
      " dense_36 (Dense)            (None, 128)               4224      \n",
      "                                                                 \n",
      " dense_37 (Dense)            (None, 64)                8256      \n",
      "                                                                 \n",
      " dense_38 (Dense)            (None, 32)                2080      \n",
      "                                                                 \n",
      " dense_39 (Dense)            (None, 1)                 33        \n",
      "                                                                 \n",
      "=================================================================\n",
      "Total params: 15,041\n",
      "Trainable params: 15,041\n",
      "Non-trainable params: 0\n",
      "_________________________________________________________________\n"
     ]
    }
   ],
   "source": [
    "from tensorflow.keras.models import Sequential,Model\n",
    "from tensorflow.keras.layers import Dense,Input,Dropout\n",
    "# path = \"../_save/\"\n",
    "# model = load_model(path+\"MCP/keras30_ModelCheckPoint1.hdf5\")\n",
    "\n",
    "# model = Sequential([\n",
    "#     Dense(50,input_dim=13,activation=\"relu\"),\n",
    "#     Dropout(0.5),\n",
    "#     Dense(50,activation=\"relu\"),\n",
    "#     Dense(50,activation=\"relu\"),\n",
    "#     Dense(50,activation=\"relu\"),\n",
    "#     Dense(50,activation=\"relu\"),\n",
    "#     Dense(1)\n",
    "# ])\n",
    "\n",
    "\n",
    "# 3. 모델구성 함수형\n",
    "input1 = Input(shape=(13,))\n",
    "dense1 = Dense(32,activation=\"relu\")(input1)\n",
    "drop1 = Dropout(0.5)(dense1)\n",
    "dense3 = Dense(128,activation=\"relu\")(drop1)\n",
    "dense4 = Dense(64,activation=\"relu\")(dense3)\n",
    "dense5 = Dense(32,activation=\"relu\")(dense4)\n",
    "output1 = Dense(1,activation=\"relu\")(dense5)\n",
    "model=Model(inputs=input1,outputs=output1)\n",
    "\n",
    "model.summary()"
   ]
  },
  {
   "cell_type": "code",
   "execution_count": 64,
   "metadata": {},
   "outputs": [
    {
     "name": "stdout",
     "output_type": "stream",
     "text": [
      "<class 'str'>\n",
      "23년 01월 12일 16시 01분\n"
     ]
    }
   ],
   "source": [
    "# 모델저장\n",
    "\n",
    "import datetime\n",
    "date = datetime.datetime.now()\n",
    "\n",
    "# string for time 문자열로 바꿔\n",
    "date =date.strftime(\"%y년 %m월 %d일 %H시 %m분\")\n",
    "print(type(date))\n",
    "print(date)\n",
    "\n",
    "path = \"../_save/\"\n",
    "filepath = \"../_save/MCP/\"\n",
    "\n",
    "# 에폭과 val_loss 소수4째자리까지\n",
    "filename = '{epoch:04d}-{val_loss:.4f}.hdf5'        \n",
    "\n",
    "# filename=\"{epoch:.04d}-{val_loss:4f}.hdf5\""
   ]
  },
  {
   "cell_type": "code",
   "execution_count": 65,
   "metadata": {},
   "outputs": [
    {
     "name": "stdout",
     "output_type": "stream",
     "text": [
      "Epoch 1/100\n",
      "88/95 [==========================>...] - ETA: 0s - loss: 344.2213\n",
      "Epoch 00001: val_loss improved from inf to 96.79230, saving model to ../_save/MCP\\k31_23년 01월 12일 16시 01분0001-96.7923.hdf5\n",
      "95/95 [==============================] - 1s 5ms/step - loss: 330.3735 - val_loss: 96.7923\n",
      "Epoch 2/100\n",
      "84/95 [=========================>....] - ETA: 0s - loss: 97.0330 \n",
      "Epoch 00002: val_loss improved from 96.79230 to 64.80330, saving model to ../_save/MCP\\k31_23년 01월 12일 16시 01분0002-64.8033.hdf5\n",
      "95/95 [==============================] - 0s 4ms/step - loss: 94.7201 - val_loss: 64.8033\n",
      "Epoch 3/100\n",
      "87/95 [==========================>...] - ETA: 0s - loss: 79.4648\n",
      "Epoch 00003: val_loss improved from 64.80330 to 49.07772, saving model to ../_save/MCP\\k31_23년 01월 12일 16시 01분0003-49.0777.hdf5\n",
      "95/95 [==============================] - 0s 3ms/step - loss: 78.8031 - val_loss: 49.0777\n",
      "Epoch 4/100\n",
      "84/95 [=========================>....] - ETA: 0s - loss: 85.2253\n",
      "Epoch 00004: val_loss improved from 49.07772 to 41.89025, saving model to ../_save/MCP\\k31_23년 01월 12일 16시 01분0004-41.8902.hdf5\n",
      "95/95 [==============================] - 0s 3ms/step - loss: 79.4297 - val_loss: 41.8902\n",
      "Epoch 5/100\n",
      "89/95 [===========================>..] - ETA: 0s - loss: 58.6104\n",
      "Epoch 00005: val_loss did not improve from 41.89025\n",
      "95/95 [==============================] - 0s 3ms/step - loss: 56.7872 - val_loss: 49.8220\n",
      "Epoch 6/100\n",
      "82/95 [========================>.....] - ETA: 0s - loss: 48.6335\n",
      "Epoch 00006: val_loss did not improve from 41.89025\n",
      "95/95 [==============================] - 0s 3ms/step - loss: 47.1612 - val_loss: 42.8840\n",
      "Epoch 7/100\n",
      "85/95 [=========================>....] - ETA: 0s - loss: 48.9282\n",
      "Epoch 00007: val_loss improved from 41.89025 to 36.86992, saving model to ../_save/MCP\\k31_23년 01월 12일 16시 01분0007-36.8699.hdf5\n",
      "95/95 [==============================] - 0s 3ms/step - loss: 48.4888 - val_loss: 36.8699\n",
      "Epoch 8/100\n",
      "95/95 [==============================] - ETA: 0s - loss: 47.2572\n",
      "Epoch 00008: val_loss improved from 36.86992 to 21.93989, saving model to ../_save/MCP\\k31_23년 01월 12일 16시 01분0008-21.9399.hdf5\n",
      "95/95 [==============================] - 0s 3ms/step - loss: 47.2572 - val_loss: 21.9399\n",
      "Epoch 9/100\n",
      "91/95 [===========================>..] - ETA: 0s - loss: 45.7640\n",
      "Epoch 00009: val_loss did not improve from 21.93989\n",
      "95/95 [==============================] - 0s 3ms/step - loss: 45.3410 - val_loss: 32.5128\n",
      "Epoch 10/100\n",
      "90/95 [===========================>..] - ETA: 0s - loss: 44.9724\n",
      "Epoch 00010: val_loss did not improve from 21.93989\n",
      "95/95 [==============================] - 0s 3ms/step - loss: 44.1437 - val_loss: 27.8492\n",
      "Epoch 11/100\n",
      "72/95 [=====================>........] - ETA: 0s - loss: 43.8023\n",
      "Epoch 00011: val_loss did not improve from 21.93989\n",
      "95/95 [==============================] - 0s 3ms/step - loss: 38.2758 - val_loss: 46.9956\n",
      "Epoch 12/100\n",
      "86/95 [==========================>...] - ETA: 0s - loss: 33.9640\n",
      "Epoch 00012: val_loss did not improve from 21.93989\n",
      "95/95 [==============================] - 0s 3ms/step - loss: 33.9142 - val_loss: 23.0977\n",
      "Epoch 13/100\n",
      "80/95 [========================>.....] - ETA: 0s - loss: 32.3530\n",
      "Epoch 00013: val_loss did not improve from 21.93989\n",
      "95/95 [==============================] - 0s 3ms/step - loss: 32.1855 - val_loss: 22.9654\n",
      "Epoch 14/100\n",
      "81/95 [========================>.....] - ETA: 0s - loss: 40.7913\n",
      "Epoch 00014: val_loss did not improve from 21.93989\n",
      "95/95 [==============================] - 0s 3ms/step - loss: 38.2645 - val_loss: 25.5735\n",
      "Epoch 15/100\n",
      "79/95 [=======================>......] - ETA: 0s - loss: 35.6563\n",
      "Epoch 00015: val_loss did not improve from 21.93989\n",
      "95/95 [==============================] - 0s 3ms/step - loss: 33.5538 - val_loss: 33.8255\n",
      "Epoch 16/100\n",
      "95/95 [==============================] - ETA: 0s - loss: 30.4673\n",
      "Epoch 00016: val_loss did not improve from 21.93989\n",
      "95/95 [==============================] - 0s 3ms/step - loss: 30.4673 - val_loss: 28.0212\n",
      "Epoch 17/100\n",
      "81/95 [========================>.....] - ETA: 0s - loss: 33.1287\n",
      "Epoch 00017: val_loss did not improve from 21.93989\n",
      "95/95 [==============================] - 0s 3ms/step - loss: 31.7541 - val_loss: 24.4881\n",
      "Epoch 18/100\n",
      "86/95 [==========================>...] - ETA: 0s - loss: 31.6798Restoring model weights from the end of the best epoch: 8.\n",
      "\n",
      "Epoch 00018: val_loss did not improve from 21.93989\n",
      "95/95 [==============================] - 0s 3ms/step - loss: 30.9570 - val_loss: 28.9720\n",
      "Epoch 00018: early stopping\n"
     ]
    }
   ],
   "source": [
    "from tensorflow.keras.callbacks import EarlyStopping,ModelCheckpoint\n",
    "\n",
    "\n",
    "earlyStopping = EarlyStopping(monitor=\"val_loss\",\n",
    "                              mode=\"min\",patience =10,\n",
    "                              # True 면 좋았던 웨이트로 복원됨\n",
    "                              # False 면 마지막 웨이트로 놔둠..\n",
    "                              restore_best_weights=True,\n",
    "                              verbose=1                              \n",
    "                              )\n",
    "# 모델체크포인트는 가장 낮은 val_loss 가 갱신 될 떄 마다 저장합니다.\n",
    "\n",
    "mcp = ModelCheckpoint(\n",
    "    monitor=\"val_loss\",\n",
    "    mode=\"auto\",\n",
    "    save_best_only=True,\n",
    "    filepath= (filepath+'k31_'+date+filename),\n",
    "    verbose=1 \n",
    ")\n",
    "                    \n",
    "    \n",
    "model.compile(loss=\"mse\",optimizer=\"adam\")\n",
    "\n",
    "# model.fit 이 반환한 기록을 저장\n",
    "hist = model.fit(\n",
    "                x_train,\n",
    "                y_train,\n",
    "                epochs=100,\n",
    "                batch_size=3,\n",
    "                validation_split=0.2,\n",
    "                verbose=1,\n",
    "                callbacks = [earlyStopping,mcp],\n",
    "                \n",
    "                )\n",
    "\n",
    "\n"
   ]
  },
  {
   "cell_type": "code",
   "execution_count": 66,
   "metadata": {},
   "outputs": [
    {
     "name": "stdout",
     "output_type": "stream",
     "text": [
      "5/5 [==============================] - 0s 2ms/step - loss: 32.1923\n",
      "그냥출력\n",
      "loss :  32.192317962646484\n",
      "RMSE :  5.67382763720448\n",
      "R2   :  0.6017186674755686\n"
     ]
    }
   ],
   "source": [
    "# 성능평가\n",
    "from sklearn.metrics import mean_squared_error\n",
    "from sklearn.metrics import r2_score\n",
    "\n",
    "def RMSE(y_test,y_predict):\n",
    "    return np.sqrt(mean_squared_error(y_test,y_predict))\n",
    "# 평가 손실률 가져오기\n",
    "loss = model.evaluate(x_test,y_test)\n",
    "\n",
    "y_predict =model.predict(x_test)\n",
    "# print(\"=================\")\n",
    "# print(y_test)\n",
    "# print(y_predict)\n",
    "# print(\"=================\")\n",
    "print(\"그냥출력\")\n",
    "print(\"loss : \",loss)\n",
    "print(\"RMSE : \",RMSE(y_test,y_predict))\n",
    "print(\"R2   : \",r2_score(y_test,y_predict))"
   ]
  },
  {
   "cell_type": "code",
   "execution_count": 67,
   "metadata": {},
   "outputs": [],
   "source": [
    "# # 모델불러오기\n",
    "# from tensorflow.keras.models import load_model\n",
    "\n",
    "# path = \"../_save/\"\n",
    "\n",
    "# # 가중치 불러오기는 모델이 저장 되어 있어야 가능함\n",
    "# model.load_weights(path+\"save_weight2.h5\")"
   ]
  },
  {
   "cell_type": "code",
   "execution_count": 68,
   "metadata": {},
   "outputs": [
    {
     "name": "stdout",
     "output_type": "stream",
     "text": [
      "Model: \"model_1\"\n",
      "_________________________________________________________________\n",
      " Layer (type)                Output Shape              Param #   \n",
      "=================================================================\n",
      " input_2 (InputLayer)        [(None, 13)]              0         \n",
      "                                                                 \n",
      " dense_35 (Dense)            (None, 32)                448       \n",
      "                                                                 \n",
      " dropout_4 (Dropout)         (None, 32)                0         \n",
      "                                                                 \n",
      " dense_36 (Dense)            (None, 128)               4224      \n",
      "                                                                 \n",
      " dense_37 (Dense)            (None, 64)                8256      \n",
      "                                                                 \n",
      " dense_38 (Dense)            (None, 32)                2080      \n",
      "                                                                 \n",
      " dense_39 (Dense)            (None, 1)                 33        \n",
      "                                                                 \n",
      "=================================================================\n",
      "Total params: 15,041\n",
      "Trainable params: 15,041\n",
      "Non-trainable params: 0\n",
      "_________________________________________________________________\n"
     ]
    }
   ],
   "source": [
    "model.summary()"
   ]
  },
  {
   "cell_type": "code",
   "execution_count": 69,
   "metadata": {},
   "outputs": [
    {
     "name": "stdout",
     "output_type": "stream",
     "text": [
      "5/5 [==============================] - 0s 1ms/step - loss: 16.9394\n",
      "load_model 출력\n",
      "loss :  16.939428329467773\n",
      "RMSE :  4.115753662782388\n",
      "R2   :  0.7904264734919755\n"
     ]
    }
   ],
   "source": [
    "# 불러온 모델 성능평가\n",
    "model2 = load_model(path+\"MCP/keras30_ModelCheckPoint3.h5\")\n",
    "\n",
    "from sklearn.metrics import mean_squared_error\n",
    "from sklearn.metrics import r2_score\n",
    "\n",
    "def RMSE(y_test,y_predict):\n",
    "    return np.sqrt(mean_squared_error(y_test,y_predict))\n",
    "# 평가 손실률 가져오기\n",
    "loss = model2.evaluate(x_test,y_test)\n",
    "\n",
    "y_predict =model2.predict(x_test)\n",
    "# print(\"=================\")\n",
    "# print(y_test)\n",
    "# print(y_predict)\n",
    "# print(\"=================\")\n",
    "print(\"load_model 출력\")\n",
    "print(\"loss : \",loss)\n",
    "print(\"RMSE : \",RMSE(y_test,y_predict))\n",
    "print(\"R2   : \",r2_score(y_test,y_predict))"
   ]
  }
 ],
 "metadata": {
  "kernelspec": {
   "display_name": "tf274gpu",
   "language": "python",
   "name": "python3"
  },
  "language_info": {
   "codemirror_mode": {
    "name": "ipython",
    "version": 3
   },
   "file_extension": ".py",
   "mimetype": "text/x-python",
   "name": "python",
   "nbconvert_exporter": "python",
   "pygments_lexer": "ipython3",
   "version": "3.9.15"
  },
  "orig_nbformat": 4,
  "vscode": {
   "interpreter": {
    "hash": "10848e9bd3f5e7d93542d388001135334854454e7336dcf54c4ef52885ee0fb0"
   }
  }
 },
 "nbformat": 4,
 "nbformat_minor": 2
}
