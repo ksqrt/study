{
 "cells": [
  {
   "cell_type": "code",
   "execution_count": 69,
   "metadata": {},
   "outputs": [],
   "source": [
    "from sklearn.datasets import load_boston\n",
    "import pandas as pd\n",
    "from tensorflow.keras.models import Sequential\n",
    "from tensorflow.keras.layers import Dense\n",
    "from sklearn.model_selection import train_test_split\n",
    "from sklearn.metrics import mean_squared_error, r2_score"
   ]
  },
  {
   "cell_type": "code",
   "execution_count": 70,
   "metadata": {},
   "outputs": [
    {
     "name": "stdout",
     "output_type": "stream",
     "text": [
      "(506, 13)\n",
      "(506,)\n"
     ]
    },
    {
     "name": "stderr",
     "output_type": "stream",
     "text": [
      "c:\\Users\\bitcamp\\anaconda3\\envs\\tf274gpu\\lib\\site-packages\\sklearn\\utils\\deprecation.py:87: FutureWarning: Function load_boston is deprecated; `load_boston` is deprecated in 1.0 and will be removed in 1.2.\n",
      "\n",
      "    The Boston housing prices dataset has an ethical problem. You can refer to\n",
      "    the documentation of this function for further details.\n",
      "\n",
      "    The scikit-learn maintainers therefore strongly discourage the use of this\n",
      "    dataset unless the purpose of the code is to study and educate about\n",
      "    ethical issues in data science and machine learning.\n",
      "\n",
      "    In this special case, you can fetch the dataset from the original\n",
      "    source::\n",
      "\n",
      "        import pandas as pd\n",
      "        import numpy as np\n",
      "\n",
      "        data_url = \"http://lib.stat.cmu.edu/datasets/boston\"\n",
      "        raw_df = pd.read_csv(data_url, sep=\"\\s+\", skiprows=22, header=None)\n",
      "        data = np.hstack([raw_df.values[::2, :], raw_df.values[1::2, :2]])\n",
      "        target = raw_df.values[1::2, 2]\n",
      "\n",
      "    Alternative datasets include the California housing dataset (i.e.\n",
      "    :func:`~sklearn.datasets.fetch_california_housing`) and the Ames housing\n",
      "    dataset. You can load the datasets as follows::\n",
      "\n",
      "        from sklearn.datasets import fetch_california_housing\n",
      "        housing = fetch_california_housing()\n",
      "\n",
      "    for the California housing dataset and::\n",
      "\n",
      "        from sklearn.datasets import fetch_openml\n",
      "        housing = fetch_openml(name=\"house_prices\", as_frame=True)\n",
      "\n",
      "    for the Ames housing dataset.\n",
      "  warnings.warn(msg, category=FutureWarning)\n"
     ]
    }
   ],
   "source": [
    "# 1. 데이터 \n",
    "datasets = load_boston()\n",
    "\n",
    "x = datasets.data\n",
    "y = datasets.target\n",
    "\n",
    "print(x.shape)\n",
    "print(y.shape)"
   ]
  },
  {
   "cell_type": "code",
   "execution_count": 71,
   "metadata": {},
   "outputs": [],
   "source": [
    "# 2. train ,test 분리\n",
    "\n",
    "x_train, x_test, y_train,y_test = train_test_split(x,y,test_size=0.2,random_state=1)\n"
   ]
  },
  {
   "cell_type": "code",
   "execution_count": 72,
   "metadata": {},
   "outputs": [
    {
     "name": "stdout",
     "output_type": "stream",
     "text": [
      "Model: \"sequential_3\"\n",
      "_________________________________________________________________\n",
      " Layer (type)                Output Shape              Param #   \n",
      "=================================================================\n",
      " dense_24 (Dense)            (None, 10)                140       \n",
      "                                                                 \n",
      " dense_25 (Dense)            (None, 10)                110       \n",
      "                                                                 \n",
      " dense_26 (Dense)            (None, 10)                110       \n",
      "                                                                 \n",
      " dense_27 (Dense)            (None, 10)                110       \n",
      "                                                                 \n",
      " dense_28 (Dense)            (None, 10)                110       \n",
      "                                                                 \n",
      " dense_29 (Dense)            (None, 10)                110       \n",
      "                                                                 \n",
      " dense_30 (Dense)            (None, 10)                110       \n",
      "                                                                 \n",
      " dense_31 (Dense)            (None, 1)                 11        \n",
      "                                                                 \n",
      "=================================================================\n",
      "Total params: 811\n",
      "Trainable params: 811\n",
      "Non-trainable params: 0\n",
      "_________________________________________________________________\n"
     ]
    }
   ],
   "source": [
    "# 3. 모델구성\n",
    "\n",
    "model = Sequential(\n",
    "    [\n",
    "    # input_dim 은 행과 열만 앞으로 다차원이 나오면 input_shape 로 합니다\n",
    "    # ex (100,10,5 ) 의 input_shape = (10,5)\n",
    "    Dense(10,input_shape=(13,),activation=\"relu\"),\n",
    "    Dense(10 ,activation=\"relu\"),\n",
    "    Dense(10 ,activation=\"relu\"),\n",
    "    Dense(10 ,activation=\"relu\"),\n",
    "    Dense(10 ,activation=\"relu\"),\n",
    "    Dense(10 ,activation=\"relu\"),\n",
    "    Dense(10 ,activation=\"relu\"),\n",
    "    Dense(1)\n",
    "    ]\n",
    ")\n",
    "model.summary()"
   ]
  },
  {
   "cell_type": "code",
   "execution_count": 73,
   "metadata": {},
   "outputs": [
    {
     "name": "stdout",
     "output_type": "stream",
     "text": [
      "Epoch 1/30\n",
      "108/108 [==============================] - 1s 5ms/step - loss: 120.6542 - accuracy: 0.0000e+00 - val_loss: 74.0361 - val_accuracy: 0.0000e+00\n",
      "Epoch 2/30\n",
      "108/108 [==============================] - 0s 4ms/step - loss: 62.8040 - accuracy: 0.0000e+00 - val_loss: 72.8691 - val_accuracy: 0.0000e+00\n",
      "Epoch 3/30\n",
      "108/108 [==============================] - 0s 3ms/step - loss: 58.7847 - accuracy: 0.0000e+00 - val_loss: 67.3871 - val_accuracy: 0.0000e+00\n",
      "Epoch 4/30\n",
      "108/108 [==============================] - 0s 3ms/step - loss: 59.0947 - accuracy: 0.0000e+00 - val_loss: 62.4601 - val_accuracy: 0.0000e+00\n",
      "Epoch 5/30\n",
      "108/108 [==============================] - 0s 3ms/step - loss: 57.5652 - accuracy: 0.0000e+00 - val_loss: 60.0131 - val_accuracy: 0.0000e+00\n",
      "Epoch 6/30\n",
      "108/108 [==============================] - 0s 3ms/step - loss: 56.4427 - accuracy: 0.0000e+00 - val_loss: 59.1056 - val_accuracy: 0.0000e+00\n",
      "Epoch 7/30\n",
      "108/108 [==============================] - 0s 3ms/step - loss: 52.8174 - accuracy: 0.0000e+00 - val_loss: 58.8394 - val_accuracy: 0.0000e+00\n",
      "Epoch 8/30\n",
      "108/108 [==============================] - 0s 3ms/step - loss: 52.4563 - accuracy: 0.0000e+00 - val_loss: 55.3945 - val_accuracy: 0.0000e+00\n",
      "Epoch 9/30\n",
      "108/108 [==============================] - 0s 3ms/step - loss: 50.7297 - accuracy: 0.0000e+00 - val_loss: 54.1919 - val_accuracy: 0.0000e+00\n",
      "Epoch 10/30\n",
      "108/108 [==============================] - 0s 3ms/step - loss: 53.1292 - accuracy: 0.0000e+00 - val_loss: 55.8239 - val_accuracy: 0.0000e+00\n",
      "Epoch 11/30\n",
      "108/108 [==============================] - 0s 3ms/step - loss: 51.7332 - accuracy: 0.0000e+00 - val_loss: 60.6503 - val_accuracy: 0.0000e+00\n",
      "Epoch 12/30\n",
      "108/108 [==============================] - 0s 3ms/step - loss: 50.8502 - accuracy: 0.0000e+00 - val_loss: 51.6215 - val_accuracy: 0.0000e+00\n",
      "Epoch 13/30\n",
      "108/108 [==============================] - 0s 3ms/step - loss: 48.7392 - accuracy: 0.0000e+00 - val_loss: 50.5141 - val_accuracy: 0.0000e+00\n",
      "Epoch 14/30\n",
      "108/108 [==============================] - 0s 3ms/step - loss: 50.9250 - accuracy: 0.0000e+00 - val_loss: 50.2838 - val_accuracy: 0.0000e+00\n",
      "Epoch 15/30\n",
      "108/108 [==============================] - 0s 3ms/step - loss: 47.0010 - accuracy: 0.0000e+00 - val_loss: 52.3198 - val_accuracy: 0.0000e+00\n",
      "Epoch 16/30\n",
      "108/108 [==============================] - 0s 3ms/step - loss: 44.9767 - accuracy: 0.0000e+00 - val_loss: 56.9492 - val_accuracy: 0.0000e+00\n",
      "Epoch 17/30\n",
      "108/108 [==============================] - 0s 3ms/step - loss: 44.5896 - accuracy: 0.0000e+00 - val_loss: 51.3755 - val_accuracy: 0.0000e+00\n",
      "Epoch 18/30\n",
      "108/108 [==============================] - 0s 3ms/step - loss: 41.9702 - accuracy: 0.0000e+00 - val_loss: 47.7382 - val_accuracy: 0.0000e+00\n",
      "Epoch 19/30\n",
      "108/108 [==============================] - 0s 3ms/step - loss: 42.6681 - accuracy: 0.0000e+00 - val_loss: 42.9279 - val_accuracy: 0.0000e+00\n",
      "Epoch 20/30\n",
      "108/108 [==============================] - 0s 3ms/step - loss: 42.3396 - accuracy: 0.0000e+00 - val_loss: 41.3906 - val_accuracy: 0.0000e+00\n",
      "Epoch 21/30\n",
      "108/108 [==============================] - 0s 3ms/step - loss: 39.0558 - accuracy: 0.0000e+00 - val_loss: 44.7171 - val_accuracy: 0.0000e+00\n",
      "Epoch 22/30\n",
      "108/108 [==============================] - 0s 3ms/step - loss: 38.3986 - accuracy: 0.0000e+00 - val_loss: 40.9089 - val_accuracy: 0.0000e+00\n",
      "Epoch 23/30\n",
      "108/108 [==============================] - 0s 3ms/step - loss: 37.0501 - accuracy: 0.0000e+00 - val_loss: 37.4163 - val_accuracy: 0.0000e+00\n",
      "Epoch 24/30\n",
      "108/108 [==============================] - 0s 3ms/step - loss: 35.6858 - accuracy: 0.0000e+00 - val_loss: 39.2000 - val_accuracy: 0.0000e+00\n",
      "Epoch 25/30\n",
      "108/108 [==============================] - 0s 3ms/step - loss: 38.8566 - accuracy: 0.0000e+00 - val_loss: 41.3272 - val_accuracy: 0.0000e+00\n",
      "Epoch 26/30\n",
      "108/108 [==============================] - 0s 3ms/step - loss: 32.7749 - accuracy: 0.0000e+00 - val_loss: 42.3944 - val_accuracy: 0.0000e+00\n",
      "Epoch 27/30\n",
      "108/108 [==============================] - 0s 3ms/step - loss: 36.6007 - accuracy: 0.0000e+00 - val_loss: 33.3301 - val_accuracy: 0.0000e+00\n",
      "Epoch 28/30\n",
      "108/108 [==============================] - 0s 3ms/step - loss: 33.5489 - accuracy: 0.0000e+00 - val_loss: 39.0107 - val_accuracy: 0.0000e+00\n",
      "Epoch 29/30\n",
      "108/108 [==============================] - 0s 3ms/step - loss: 34.1530 - accuracy: 0.0000e+00 - val_loss: 32.0941 - val_accuracy: 0.0000e+00\n",
      "Epoch 30/30\n",
      "108/108 [==============================] - 0s 3ms/step - loss: 29.9550 - accuracy: 0.0000e+00 - val_loss: 30.5797 - val_accuracy: 0.0000e+00\n"
     ]
    }
   ],
   "source": [
    "# 3.모델 컴파일\n",
    "model.compile(loss=\"mse\",optimizer=\"adam\",metrics=['accuracy'])\n",
    "\n",
    "# model.fit 이 반환한 기록을 저장\n",
    "hist = model.fit(x_train,y_train,epochs=30,batch_size=3,validation_split=0.2,verbose=1)\n"
   ]
  },
  {
   "cell_type": "code",
   "execution_count": 74,
   "metadata": {},
   "outputs": [
    {
     "name": "stdout",
     "output_type": "stream",
     "text": [
      "4/4 [==============================] - 0s 2ms/step - loss: 36.1080 - accuracy: 0.0000e+00\n",
      "loss :  [36.108009338378906, 0.0]\n"
     ]
    }
   ],
   "source": [
    "# 평가 예측\n",
    "loss = model.evaluate(x_test,y_test)\n",
    "\n",
    "print(\"loss : \",loss)"
   ]
  },
  {
   "cell_type": "code",
   "execution_count": 75,
   "metadata": {},
   "outputs": [
    {
     "name": "stdout",
     "output_type": "stream",
     "text": [
      "[120.65422821044922, 62.803955078125, 58.784732818603516, 59.094749450683594, 57.56522750854492, 56.44268035888672, 52.817405700683594, 52.456268310546875, 50.7297477722168, 53.129154205322266, 51.7331657409668, 50.85015869140625, 48.73923110961914, 50.92499542236328, 47.001007080078125, 44.97673034667969, 44.589637756347656, 41.97016906738281, 42.668128967285156, 42.33958053588867, 39.055816650390625, 38.39864730834961, 37.05009078979492, 35.68579864501953, 38.85664367675781, 32.77485656738281, 36.60067367553711, 33.54887390136719, 34.15296173095703, 29.95503807067871]\n",
      "=============================================================\n",
      "[74.03610229492188, 72.86912536621094, 67.38713073730469, 62.4600830078125, 60.01314926147461, 59.10557174682617, 58.83936309814453, 55.39449691772461, 54.19186019897461, 55.823909759521484, 60.65027618408203, 51.62154769897461, 50.51410675048828, 50.283756256103516, 52.3198356628418, 56.94916915893555, 51.375518798828125, 47.73817443847656, 42.92787551879883, 41.39061737060547, 44.71712112426758, 40.90888977050781, 37.41633987426758, 39.19996643066406, 41.327186584472656, 42.394386291503906, 33.330074310302734, 39.010738372802734, 32.09410858154297, 30.579666137695312]\n"
     ]
    }
   ],
   "source": [
    "# hist.history 는 딕셔너리형으로 구성\n",
    "\n",
    "print(hist.history['loss'])\n",
    "print(\"=============================================================\")\n",
    "print(hist.history['val_loss'])\n"
   ]
  },
  {
   "cell_type": "code",
   "execution_count": 83,
   "metadata": {},
   "outputs": [
    {
     "data": {
      "image/png": "[encoded data removed]",
      "text/plain": [
       "<Figure size 900x600 with 1 Axes>"
      ]
     },
     "metadata": {},
     "output_type": "display_data"
    }
   ],
   "source": [
    "# 시각화\n",
    "import matplotlib.pyplot as plt\n",
    "\n",
    "# 필롯의 사이즈\n",
    "plt.figure(figsize =(9,6))\n",
    "\n",
    "plt.plot(hist.history[\"loss\"],c =\"red\",label=\"loss\",marker=\".\")\n",
    "plt.plot(hist.history[\"val_loss\"],c=\"green\",label=\"val_loss\",marker=\".\")\n",
    "plt.grid() # 격자 표시\n",
    "plt.xlabel(\"epochs\") # x 라벨 표시 \n",
    "plt.ylabel(\"loss\") # y 라벨 표시\n",
    "plt.title(\"boston loss\") # 그래프의 타이틀 표시\n",
    "plt.legend(loc = \"upper right\") # 그래프의 범주 표시\n",
    "plt.show() # 그래프를 보여줘"
   ]
  }
 ],
 "metadata": {
  "kernelspec": {
   "display_name": "tf274gpu",
   "language": "python",
   "name": "python3"
  },
  "language_info": {
   "codemirror_mode": {
    "name": "ipython",
    "version": 3
   },
   "file_extension": ".py",
   "mimetype": "text/x-python",
   "name": "python",
   "nbconvert_exporter": "python",
   "pygments_lexer": "ipython3",
   "version": "3.9.15"
  },
  "orig_nbformat": 4,
  "vscode": {
   "interpreter": {
    "hash": "10848e9bd3f5e7d93542d388001135334854454e7336dcf54c4ef52885ee0fb0"
   }
  }
 },
 "nbformat": 4,
 "nbformat_minor": 2
}
