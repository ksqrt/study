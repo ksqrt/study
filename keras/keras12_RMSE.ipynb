{
 "cells": [
  {
   "cell_type": "code",
   "execution_count": 28,
   "metadata": {},
   "outputs": [],
   "source": [
    "import numpy as np\n",
    "from tensorflow.keras.models import Sequential\n",
    "from tensorflow.keras.layers import Dense\n",
    "from sklearn.model_selection import train_test_split\n"
   ]
  },
  {
   "cell_type": "code",
   "execution_count": 29,
   "metadata": {},
   "outputs": [],
   "source": [
    "# 1 데이터 정리\n",
    "x = np.array(range(1,21))\n",
    "y = np.array([1,2,4,3,5,7,9,3,8,12,13,8,14,15,9,6,17,23,21,20])\n",
    "\n",
    "# 2.as_integer_ratio\n",
    "x_train, x_test,y_train,y_test = train_test_split(x,y,\n",
    "    train_size=0.7,\n",
    "    shuffle = True,\n",
    "    random_state= 123\n",
    ")\n",
    "\n"
   ]
  },
  {
   "cell_type": "code",
   "execution_count": 30,
   "metadata": {},
   "outputs": [
    {
     "name": "stdout",
     "output_type": "stream",
     "text": [
      "Model: \"sequential_4\"\n",
      "_________________________________________________________________\n",
      " Layer (type)                Output Shape              Param #   \n",
      "=================================================================\n",
      " dense_20 (Dense)            (None, 5)                 10        \n",
      "                                                                 \n",
      " dense_21 (Dense)            (None, 5)                 30        \n",
      "                                                                 \n",
      " dense_22 (Dense)            (None, 5)                 30        \n",
      "                                                                 \n",
      " dense_23 (Dense)            (None, 2)                 12        \n",
      "                                                                 \n",
      " dense_24 (Dense)            (None, 1)                 3         \n",
      "                                                                 \n",
      "=================================================================\n",
      "Total params: 85\n",
      "Trainable params: 85\n",
      "Non-trainable params: 0\n",
      "_________________________________________________________________\n"
     ]
    }
   ],
   "source": [
    "\n",
    "# 2. 모델 구성\n",
    "from random import randrange\n",
    "number1 = randrange(1,10,1)\n",
    "number2 = randrange(1,10,1)\n",
    "number3= randrange(1,10,1)\n",
    "\n",
    "model = Sequential([\n",
    "    Dense(number1,input_dim = 1),\n",
    "    Dense(number1),\n",
    "    Dense(number2),\n",
    "    Dense(number3),\n",
    "    Dense(1)\n",
    "])\n",
    "\n",
    "model.summary()"
   ]
  },
  {
   "cell_type": "code",
   "execution_count": 31,
   "metadata": {},
   "outputs": [],
   "source": [
    "# RMSE 정의\n"
   ]
  },
  {
   "cell_type": "code",
   "execution_count": 32,
   "metadata": {},
   "outputs": [
    {
     "name": "stdout",
     "output_type": "stream",
     "text": [
      "Epoch 1/100\n",
      "10/10 [==============================] - 0s 709us/step - loss: 269.0363 - mae: 14.2225\n",
      "Epoch 2/100\n",
      "10/10 [==============================] - 0s 753us/step - loss: 263.6498 - mae: 13.8698\n",
      "Epoch 3/100\n",
      "10/10 [==============================] - 0s 662us/step - loss: 207.2022 - mae: 12.3972\n",
      "Epoch 4/100\n",
      "10/10 [==============================] - 0s 779us/step - loss: 170.2095 - mae: 10.6775\n",
      "Epoch 5/100\n",
      "10/10 [==============================] - 0s 664us/step - loss: 184.1037 - mae: 11.6732\n",
      "Epoch 6/100\n",
      "10/10 [==============================] - 0s 665us/step - loss: 160.5873 - mae: 10.9727\n",
      "Epoch 7/100\n",
      "10/10 [==============================] - 0s 551us/step - loss: 118.6285 - mae: 9.0231\n",
      "Epoch 8/100\n",
      "10/10 [==============================] - 0s 665us/step - loss: 100.9627 - mae: 8.6596\n",
      "Epoch 9/100\n",
      "10/10 [==============================] - 0s 550us/step - loss: 83.0997 - mae: 7.2276\n",
      "Epoch 10/100\n",
      "10/10 [==============================] - 0s 665us/step - loss: 62.9549 - mae: 6.5372\n",
      "Epoch 11/100\n",
      "10/10 [==============================] - 0s 665us/step - loss: 41.7051 - mae: 5.1904\n",
      "Epoch 12/100\n",
      "10/10 [==============================] - 0s 679us/step - loss: 28.0404 - mae: 4.2567\n",
      "Epoch 13/100\n",
      "10/10 [==============================] - 0s 649us/step - loss: 19.9286 - mae: 3.7846\n",
      "Epoch 14/100\n",
      "10/10 [==============================] - 0s 613us/step - loss: 13.6585 - mae: 2.9445\n",
      "Epoch 15/100\n",
      "10/10 [==============================] - 0s 668us/step - loss: 8.7173 - mae: 2.4737\n",
      "Epoch 16/100\n",
      "10/10 [==============================] - 0s 557us/step - loss: 11.7718 - mae: 2.4865\n",
      "Epoch 17/100\n",
      "10/10 [==============================] - 0s 738us/step - loss: 7.2527 - mae: 1.8989\n",
      "Epoch 18/100\n",
      "10/10 [==============================] - 0s 554us/step - loss: 12.4373 - mae: 2.4197\n",
      "Epoch 19/100\n",
      "10/10 [==============================] - 0s 662us/step - loss: 7.6660 - mae: 1.9786\n",
      "Epoch 20/100\n",
      "10/10 [==============================] - 0s 665us/step - loss: 7.2523 - mae: 1.8912\n",
      "Epoch 21/100\n",
      "10/10 [==============================] - 0s 604us/step - loss: 12.0219 - mae: 2.3931\n",
      "Epoch 22/100\n",
      "10/10 [==============================] - 0s 662us/step - loss: 7.4655 - mae: 1.9457\n",
      "Epoch 23/100\n",
      "10/10 [==============================] - 0s 668us/step - loss: 11.5144 - mae: 2.3037\n",
      "Epoch 24/100\n",
      "10/10 [==============================] - 0s 776us/step - loss: 7.8789 - mae: 2.0681\n",
      "Epoch 25/100\n",
      "10/10 [==============================] - 0s 848us/step - loss: 11.4953 - mae: 2.3036\n",
      "Epoch 26/100\n",
      "10/10 [==============================] - 0s 776us/step - loss: 8.6478 - mae: 2.2558\n",
      "Epoch 27/100\n",
      "10/10 [==============================] - 0s 886us/step - loss: 7.8968 - mae: 2.0954\n",
      "Epoch 28/100\n",
      "10/10 [==============================] - 0s 779us/step - loss: 11.2880 - mae: 2.2703\n",
      "Epoch 29/100\n",
      "10/10 [==============================] - 0s 817us/step - loss: 7.1988 - mae: 1.8896\n",
      "Epoch 30/100\n",
      "10/10 [==============================] - 0s 759us/step - loss: 12.5939 - mae: 2.5557\n",
      "Epoch 31/100\n",
      "10/10 [==============================] - 0s 760us/step - loss: 7.9611 - mae: 2.0622\n",
      "Epoch 32/100\n",
      "10/10 [==============================] - 0s 694us/step - loss: 6.9551 - mae: 1.8346\n",
      "Epoch 33/100\n",
      "10/10 [==============================] - 0s 657us/step - loss: 11.6408 - mae: 2.3536\n",
      "Epoch 34/100\n",
      "10/10 [==============================] - 0s 639us/step - loss: 7.3015 - mae: 1.9425\n",
      "Epoch 35/100\n",
      "10/10 [==============================] - 0s 654us/step - loss: 12.3678 - mae: 2.4892\n",
      "Epoch 36/100\n",
      "10/10 [==============================] - 0s 598us/step - loss: 7.6023 - mae: 2.0287\n",
      "Epoch 37/100\n",
      "10/10 [==============================] - 0s 750us/step - loss: 7.7077 - mae: 1.9311\n",
      "Epoch 38/100\n",
      "10/10 [==============================] - 0s 724us/step - loss: 15.4262 - mae: 2.6630\n",
      "Epoch 39/100\n",
      "10/10 [==============================] - 0s 664us/step - loss: 8.5956 - mae: 2.2981\n",
      "Epoch 40/100\n",
      "10/10 [==============================] - 0s 665us/step - loss: 7.1620 - mae: 1.8433\n",
      "Epoch 41/100\n",
      "10/10 [==============================] - 0s 668us/step - loss: 7.3587 - mae: 1.9148\n",
      "Epoch 42/100\n",
      "10/10 [==============================] - 0s 665us/step - loss: 12.4101 - mae: 2.4869\n",
      "Epoch 43/100\n",
      "10/10 [==============================] - 0s 665us/step - loss: 12.5016 - mae: 2.6003\n",
      "Epoch 44/100\n",
      "10/10 [==============================] - 0s 668us/step - loss: 7.1074 - mae: 1.8793\n",
      "Epoch 45/100\n",
      "10/10 [==============================] - 0s 776us/step - loss: 7.9182 - mae: 2.0654\n",
      "Epoch 46/100\n",
      "10/10 [==============================] - 0s 668us/step - loss: 7.5746 - mae: 2.0036\n",
      "Epoch 47/100\n",
      "10/10 [==============================] - 0s 670us/step - loss: 11.3923 - mae: 2.2954\n",
      "Epoch 48/100\n",
      "10/10 [==============================] - 0s 668us/step - loss: 12.3516 - mae: 2.5424\n",
      "Epoch 49/100\n",
      "10/10 [==============================] - 0s 708us/step - loss: 7.3870 - mae: 1.9247\n",
      "Epoch 50/100\n",
      "10/10 [==============================] - 0s 654us/step - loss: 7.8946 - mae: 2.0178\n",
      "Epoch 51/100\n",
      "10/10 [==============================] - 0s 665us/step - loss: 11.2495 - mae: 2.2167\n",
      "Epoch 52/100\n",
      "10/10 [==============================] - 0s 665us/step - loss: 12.4250 - mae: 2.6153\n",
      "Epoch 53/100\n",
      "10/10 [==============================] - 0s 665us/step - loss: 3.7352 - mae: 1.7067\n",
      "Epoch 54/100\n",
      "10/10 [==============================] - 0s 558us/step - loss: 11.1441 - mae: 2.1120\n",
      "Epoch 55/100\n",
      "10/10 [==============================] - 0s 661us/step - loss: 7.9993 - mae: 2.0264\n",
      "Epoch 56/100\n",
      "10/10 [==============================] - 0s 665us/step - loss: 11.8443 - mae: 2.4328\n",
      "Epoch 57/100\n",
      "10/10 [==============================] - 0s 665us/step - loss: 11.3292 - mae: 2.3589\n",
      "Epoch 58/100\n",
      "10/10 [==============================] - 0s 665us/step - loss: 8.3780 - mae: 2.1384\n",
      "Epoch 59/100\n",
      "10/10 [==============================] - 0s 665us/step - loss: 7.4176 - mae: 1.9696\n",
      "Epoch 60/100\n",
      "10/10 [==============================] - 0s 669us/step - loss: 7.1381 - mae: 1.8037\n",
      "Epoch 61/100\n",
      "10/10 [==============================] - 0s 662us/step - loss: 12.2861 - mae: 2.3961\n",
      "Epoch 62/100\n",
      "10/10 [==============================] - 0s 668us/step - loss: 8.4678 - mae: 2.1942\n",
      "Epoch 63/100\n",
      "10/10 [==============================] - 0s 668us/step - loss: 11.3604 - mae: 2.3577\n",
      "Epoch 64/100\n",
      "10/10 [==============================] - 0s 776us/step - loss: 7.1809 - mae: 1.9028\n",
      "Epoch 65/100\n",
      "10/10 [==============================] - 0s 668us/step - loss: 12.3965 - mae: 2.5097\n",
      "Epoch 66/100\n",
      "10/10 [==============================] - 0s 665us/step - loss: 7.6169 - mae: 2.0028\n",
      "Epoch 67/100\n",
      "10/10 [==============================] - 0s 659us/step - loss: 11.5295 - mae: 2.3684\n",
      "Epoch 68/100\n",
      "10/10 [==============================] - 0s 665us/step - loss: 8.2333 - mae: 2.1481\n",
      "Epoch 69/100\n",
      "10/10 [==============================] - 0s 603us/step - loss: 11.3578 - mae: 2.2063\n",
      "Epoch 70/100\n",
      "10/10 [==============================] - 0s 776us/step - loss: 7.9390 - mae: 2.1385\n",
      "Epoch 71/100\n",
      "WARNING:tensorflow:Your input ran out of data; interrupting training. Make sure that your dataset or generator can generate at least `steps_per_epoch * epochs` batches (in this case, 1000 batches). You may need to use the repeat() function when building your dataset.\n",
      "10/10 [==============================] - 0s 1ms/step - loss: 7.9390 - mae: 2.1385\n"
     ]
    },
    {
     "data": {
      "text/plain": [
       "<keras.callbacks.History at 0x21260c855b0>"
      ]
     },
     "execution_count": 32,
     "metadata": {},
     "output_type": "execute_result"
    }
   ],
   "source": [
    "# 3. 컴파일과훈련\n",
    "# 메트릭스 안에는 loss 함수를 넣어서 참고할 수 있습니다. 훈련에는 영향을 미치지 않습니다.\n",
    "model.compile(loss=\"mse\" , optimizer=\"adam\",metrics=[\"mae\"])\n",
    "model.fit(x_train,y_train,epochs=100,steps_per_epoch=10)"
   ]
  },
  {
   "cell_type": "code",
   "execution_count": 43,
   "metadata": {},
   "outputs": [
    {
     "name": "stdout",
     "output_type": "stream",
     "text": [
      "1/1 [==============================] - 0s 13ms/step - loss: 14.8578 - mae: 2.9988\n",
      "loss :  [14.857799530029297, 2.9988105297088623]\n",
      "=================\n",
      "[ 9  7  5 23  8  3]\n",
      "=================\n",
      "[[14.191565 ]\n",
      " [ 6.0437784]\n",
      " [ 5.1384687]\n",
      " [16.907495 ]\n",
      " [ 8.7597065]\n",
      " [ 7.854396 ]]\n",
      "RMSE :  3.8545816930861347\n"
     ]
    }
   ],
   "source": [
    "loss = model.evaluate(x_test,y_test)\n",
    "print(\"loss : \",loss)\n",
    "\n",
    "from sklearn.metrics import mean_squared_error\n",
    "\n",
    "y_predict =model.predict(x_test)\n",
    "print(\"=================\")\n",
    "print(y_test)\n",
    "print(\"=================\")\n",
    "print(y_predict)\n",
    "\n",
    "def RMSE(y_test,y_predict):\n",
    "    return np.sqrt(mean_squared_error(y_test,y_predict))\n",
    "\n",
    "print(\"RMSE : \",RMSE(y_test,y_predict))"
   ]
  },
  {
   "cell_type": "code",
   "execution_count": 36,
   "metadata": {},
   "outputs": [
    {
     "data": {
      "text/plain": [
       "array([[1.5172297]], dtype=float32)"
      ]
     },
     "execution_count": 36,
     "metadata": {},
     "output_type": "execute_result"
    }
   ],
   "source": [
    "model.predict([1])"
   ]
  }
 ],
 "metadata": {
  "kernelspec": {
   "display_name": "tf27",
   "language": "python",
   "name": "python3"
  },
  "language_info": {
   "codemirror_mode": {
    "name": "ipython",
    "version": 3
   },
   "file_extension": ".py",
   "mimetype": "text/x-python",
   "name": "python",
   "nbconvert_exporter": "python",
   "pygments_lexer": "ipython3",
   "version": "3.9.7 (default, Sep 16 2021, 16:59:28) [MSC v.1916 64 bit (AMD64)]"
  },
  "orig_nbformat": 4,
  "vscode": {
   "interpreter": {
    "hash": "b47fb4e6c68d4941015efb0bbf71549277582fe8531338196fc3c7fa71b6aab8"
   }
  }
 },
 "nbformat": 4,
 "nbformat_minor": 2
}
