{
 "cells": [
  {
   "cell_type": "code",
   "execution_count": 1,
   "metadata": {},
   "outputs": [],
   "source": [
    "from sklearn.datasets import load_breast_cancer\n",
    "import numpy as np\n",
    "import pandas as pd\n",
    "from tensorflow.keras.models import Sequential\n",
    "from tensorflow.keras.layers import Dense,Dropout\n",
    "from sklearn.model_selection import train_test_split\n",
    "from sklearn.metrics import mean_squared_error, r2_score\n",
    "# 1. 데이터 \n",
    "datasets = load_breast_cancer()\n",
    "x = pd.DataFrame(datasets[\"data\"])\n",
    "y = pd.DataFrame(datasets[\"target\"])"
   ]
  },
  {
   "cell_type": "code",
   "execution_count": 2,
   "metadata": {},
   "outputs": [],
   "source": [
    "# print(x.info())\n",
    "# print(x.describe())\n",
    "# 데이터 분리\n",
    "x_train, x_test, y_train,y_test = train_test_split(x,y,\n",
    "                                                   train_size=0.7,\n",
    "                                                   shuffle = True,\n",
    "                                                   random_state=21\n",
    "                                                   )\n",
    "\n",
    "\n",
    "# print(x.columns)"
   ]
  },
  {
   "cell_type": "code",
   "execution_count": 3,
   "metadata": {},
   "outputs": [],
   "source": [
    "model = Sequential([\n",
    "    Dense(50,activation=\"linear\",input_shape=(30,)),\n",
    "    Dense(40,activation=\"relu\") ,\n",
    "    Dense(40,activation=\"relu\") ,\n",
    "    Dense(30,activation=\"relu\") ,\n",
    "    Dense(30,activation=\"relu\") ,\n",
    "    Dense(20,activation=\"relu\") ,\n",
    "    Dense(1,activation=\"sigmoid\")\n",
    "])"
   ]
  },
  {
   "cell_type": "code",
   "execution_count": 4,
   "metadata": {},
   "outputs": [
    {
     "name": "stdout",
     "output_type": "stream",
     "text": [
      "Epoch 1/100\n",
      "10/10 [==============================] - 1s 20ms/step - loss: 1.1623 - accuracy: 0.6730 - val_loss: 0.3839 - val_accuracy: 0.9000\n",
      "Epoch 2/100\n",
      "10/10 [==============================] - 0s 6ms/step - loss: 0.4125 - accuracy: 0.8491 - val_loss: 0.1857 - val_accuracy: 0.9250\n",
      "Epoch 3/100\n",
      "10/10 [==============================] - 0s 6ms/step - loss: 0.3076 - accuracy: 0.8774 - val_loss: 0.1338 - val_accuracy: 0.9875\n",
      "Epoch 4/100\n",
      "10/10 [==============================] - 0s 6ms/step - loss: 0.3483 - accuracy: 0.8711 - val_loss: 0.1862 - val_accuracy: 0.8875\n",
      "Epoch 5/100\n",
      "10/10 [==============================] - 0s 6ms/step - loss: 0.3368 - accuracy: 0.8742 - val_loss: 0.0949 - val_accuracy: 1.0000\n",
      "Epoch 6/100\n",
      "10/10 [==============================] - 0s 6ms/step - loss: 0.2672 - accuracy: 0.8931 - val_loss: 0.0896 - val_accuracy: 0.9750\n",
      "Epoch 7/100\n",
      "10/10 [==============================] - 0s 6ms/step - loss: 0.2526 - accuracy: 0.9057 - val_loss: 0.0837 - val_accuracy: 0.9750\n",
      "Epoch 8/100\n",
      "10/10 [==============================] - 0s 6ms/step - loss: 0.2572 - accuracy: 0.8836 - val_loss: 0.0771 - val_accuracy: 0.9750\n",
      "Epoch 9/100\n",
      "10/10 [==============================] - 0s 6ms/step - loss: 0.2313 - accuracy: 0.8994 - val_loss: 0.1953 - val_accuracy: 0.9625\n",
      "Epoch 10/100\n",
      "10/10 [==============================] - 0s 6ms/step - loss: 0.2517 - accuracy: 0.8931 - val_loss: 0.1062 - val_accuracy: 1.0000\n",
      "Epoch 00010: early stopping\n"
     ]
    }
   ],
   "source": [
    "# 이진분류는 마지막 활성함수는 sigmoid + loss 는 바이너리 크로스 엔트로피 \n",
    "\n",
    "from keras.callbacks import EarlyStopping\n",
    "\n",
    "early_stopping = EarlyStopping(\n",
    "monitor='val_loss',\n",
    "min_delta=0.01, patience=5, \n",
    "verbose=1, \n",
    "mode='min')\n",
    "\n",
    "model.compile(loss=\"binary_crossentropy\"\n",
    "              ,optimizer=\"adam\"\n",
    "              ,metrics=[\"accuracy\"]\n",
    "              )\n",
    "\n",
    "hist = model.fit(x_train, y_train, epochs=100, batch_size=32, \n",
    "                 validation_split=0.2,\n",
    "                 callbacks = [early_stopping])\n",
    "\n",
    "# metrics 에 accuracy 사용가능\n"
   ]
  },
  {
   "cell_type": "code",
   "execution_count": 5,
   "metadata": {},
   "outputs": [
    {
     "name": "stdout",
     "output_type": "stream",
     "text": [
      "6/6 [==============================] - 0s 2ms/step - loss: 0.3241 - accuracy: 0.8830\n",
      "loss: 0.3241494297981262 \n",
      "acc : 0.8830409646034241\n"
     ]
    }
   ],
   "source": [
    "loss,accuracy = model.evaluate(x_test,y_test)\n",
    "\n",
    "print(\"loss:\",loss,\"\\nacc :\" ,accuracy)\n"
   ]
  },
  {
   "cell_type": "code",
   "execution_count": 6,
   "metadata": {},
   "outputs": [
    {
     "name": "stdout",
     "output_type": "stream",
     "text": [
      "[[9.7488457e-01]\n",
      " [8.7196994e-01]\n",
      " [7.0902728e-02]\n",
      " [5.3999879e-06]\n",
      " [1.9077351e-10]]\n",
      "     0\n",
      "550  1\n",
      "147  1\n",
      "4    0\n",
      "77   0\n",
      "339  0\n",
      "[1 1 0 0 0]\n",
      "========================================\n",
      "0.8830409356725146\n"
     ]
    }
   ],
   "source": [
    "from sklearn.metrics import accuracy_score\n",
    "y_predict = model.predict(x_test)\n",
    "\n",
    "# predict 의 값은 소숫점값이라 정수형으로 바꿔줘야합니다.\n",
    "print(y_predict[:5])\n",
    "print(y_test.head())\n",
    "\n",
    "# 1 과 1로 이진변환해주는 코드\n",
    "y_predict =y_predict.flatten()\n",
    "# y_predict 가 0.5 보다 크면 1 아니면 0 반환\n",
    "y_predict = np.where(y_predict > 0.5, 1 , 0)\n",
    "print(y_predict[:5])\n",
    "\n",
    "print(\"========================================\")\n",
    "acc = accuracy_score(y_test,y_predict)\n",
    "print(acc)"
   ]
  }
 ],
 "metadata": {
  "kernelspec": {
   "display_name": "tf274gpu",
   "language": "python",
   "name": "python3"
  },
  "language_info": {
   "codemirror_mode": {
    "name": "ipython",
    "version": 3
   },
   "file_extension": ".py",
   "mimetype": "text/x-python",
   "name": "python",
   "nbconvert_exporter": "python",
   "pygments_lexer": "ipython3",
   "version": "3.9.15"
  },
  "orig_nbformat": 4,
  "vscode": {
   "interpreter": {
    "hash": "10848e9bd3f5e7d93542d388001135334854454e7336dcf54c4ef52885ee0fb0"
   }
  }
 },
 "nbformat": 4,
 "nbformat_minor": 2
}
