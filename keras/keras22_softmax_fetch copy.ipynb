{
 "cells": [
  {
   "cell_type": "code",
   "execution_count": 133,
   "metadata": {},
   "outputs": [],
   "source": [
    "from sklearn.datasets import fetch_covtype\n",
    "import numpy as np\n",
    "import pandas as pd\n",
    "import tensorflow as tf\n",
    "from tensorflow.keras.utils import to_categorical\n",
    "from tensorflow.keras.models import Sequential\n",
    "from tensorflow.keras.layers import Dense,Dropout\n",
    "from sklearn.model_selection import train_test_split\n",
    "from sklearn.metrics import mean_squared_error, r2_score\n",
    "# 1. 데이터 \n",
    "datasets = (fetch_covtype())\n",
    "\n",
    "x = pd.DataFrame(datasets[\"data\"])\n",
    "y = pd.DataFrame(datasets[\"target\"])\n"
   ]
  },
  {
   "cell_type": "code",
   "execution_count": 134,
   "metadata": {},
   "outputs": [
    {
     "name": "stdout",
     "output_type": "stream",
     "text": [
      "(581012, 54) (581012, 1)\n",
      "[1 2 3 4 5 6 7]\n",
      "(array([1, 2, 3, 4, 5, 6, 7]), array([211840, 283301,  35754,   2747,   9493,  17367,  20510],\n",
      "      dtype=int64))\n"
     ]
    }
   ],
   "source": [
    "print(x.shape,y.shape) \n",
    "\n",
    "print(np.unique(y)) # [0 1 2 3 4 5 6 7 8 9]\n",
    "# 불균형확인\n",
    "print(np.unique(y,return_counts=True)) # [0 1 2]\n",
    "\n"
   ]
  },
  {
   "cell_type": "code",
   "execution_count": 135,
   "metadata": {},
   "outputs": [
    {
     "name": "stdout",
     "output_type": "stream",
     "text": [
      "     1    2    3    4    5    6    7\n",
      "0  0.0  1.0  0.0  0.0  0.0  0.0  0.0\n",
      "1  1.0  0.0  0.0  0.0  0.0  0.0  0.0\n",
      "2  1.0  0.0  0.0  0.0  0.0  0.0  0.0\n",
      "3  0.0  1.0  0.0  0.0  0.0  0.0  0.0\n",
      "4  1.0  0.0  0.0  0.0  0.0  0.0  0.0\n",
      "5  0.0  1.0  0.0  0.0  0.0  0.0  0.0\n",
      "6  0.0  1.0  0.0  0.0  0.0  0.0  0.0\n",
      "7  0.0  1.0  0.0  0.0  0.0  0.0  0.0\n",
      "8  1.0  0.0  0.0  0.0  0.0  0.0  0.0\n",
      "9  1.0  0.0  0.0  0.0  0.0  0.0  0.0\n",
      "y_train shape :  (464809, 7)\n",
      "y_test shape :  (116203, 7)\n"
     ]
    }
   ],
   "source": [
    "# print(x.info())\n",
    "# print(x.describe())\n",
    "# 데이터 분리\n",
    "x_train, x_test, y_train,y_test = train_test_split(\n",
    "                                                    x,\n",
    "                                                    y,\n",
    "                                                    train_size=0.8,\n",
    "                                                    shuffle = True,\n",
    "                                                    #  stratify 는 데이터 불균형을 해결해줌\n",
    "                                                    stratify=y,\n",
    "                                                    random_state=21\n",
    "                                                   )\n",
    "# print(x.columns)\n",
    "# y 를 원 핫 인코딩 변환\n",
    "y_train = tf.one_hot(y_train[0],depth =8)\n",
    "# y 의 0 번 칼럼을 드랍\n",
    "y_train = pd.DataFrame(y_train).drop(columns=[0])\n",
    "\n",
    "y_test = tf.one_hot(y_test[0],depth= 8)\n",
    "y_test = pd.DataFrame(y_test).drop(columns=[0])\n",
    "\n",
    "\n",
    "print(y_train[:10])\n",
    "print(\"y_train shape : \",y_train.shape)\n",
    "print(\"y_test shape : \",y_test.shape)"
   ]
  },
  {
   "cell_type": "code",
   "execution_count": 136,
   "metadata": {},
   "outputs": [],
   "source": [
    "model = Sequential([\n",
    "    Dense(128,activation=\"relu\",input_shape=(54,)),\n",
    "    Dense(128,activation=\"relu\") ,\n",
    "    Dense(128,activation=\"relu\") ,\n",
    "    Dense(64,activation=\"relu\") ,\n",
    "    Dense(64,activation=\"relu\") ,\n",
    "    Dense(32,activation=\"relu\") ,\n",
    "    Dense(32,activation=\"relu\") ,\n",
    "    # 다중분류모델의 활성화 함수는 softmax 입니다\n",
    "    Dense(7,activation=\"softmax\")\n",
    "])"
   ]
  },
  {
   "cell_type": "code",
   "execution_count": 137,
   "metadata": {},
   "outputs": [
    {
     "name": "stdout",
     "output_type": "stream",
     "text": [
      "1453/1453 [==============================] - 6s 4ms/step - loss: 1.0777 - accuracy: 0.6121 - val_loss: 0.7242 - val_accuracy: 0.6872\n"
     ]
    }
   ],
   "source": [
    "# 이진분류는 마지막 활성함수는 sigmoid + loss 는 바이너리 크로스 엔트로피 \n",
    "from keras.callbacks import EarlyStopping\n",
    "\n",
    "early_stopping = EarlyStopping(\n",
    "monitor='val_loss',\n",
    "patience=10, \n",
    "verbose=1, \n",
    "mode='min')\n",
    "\n",
    "# 훈련값이 int 형이기 때문에 sparse 를 사용합니다.\n",
    "model.compile(loss=\"categorical_crossentropy\"\n",
    "              ,optimizer=\"adam\"\n",
    "              ,metrics=[\"accuracy\"]\n",
    "              )\n",
    "\n",
    "hist = model.fit(x_train, y_train, epochs=10, \n",
    "                 validation_split=0.2,batch_size=256,\n",
    "                 callbacks = [early_stopping])\n",
    "\n",
    "# metrics 에 accuracy 사용가능\n"
   ]
  },
  {
   "cell_type": "code",
   "execution_count": 138,
   "metadata": {},
   "outputs": [
    {
     "name": "stdout",
     "output_type": "stream",
     "text": [
      "3632/3632 [==============================] - 7s 2ms/step - loss: 0.7239 - accuracy: 0.6854\n",
      "loss: 0.7238940000534058 \n",
      "acc : 0.6853523850440979\n"
     ]
    }
   ],
   "source": [
    "loss,accuracy = model.evaluate(x_test,y_test)\n",
    "\n",
    "print(\"loss:\",loss,\"\\nacc :\" ,accuracy)\n"
   ]
  },
  {
   "cell_type": "code",
   "execution_count": 139,
   "metadata": {},
   "outputs": [
    {
     "name": "stdout",
     "output_type": "stream",
     "text": [
      "[[8.0507183e-01 1.9293350e-01 5.7548364e-06 ... 5.0379842e-04\n",
      "  1.4214102e-05 1.4708845e-03]\n",
      " [2.0194152e-01 7.6928645e-01 5.0954348e-03 ... 1.8013373e-02\n",
      "  2.5316530e-03 3.1247435e-03]\n",
      " [2.1026553e-01 7.4448562e-01 1.3017231e-03 ... 3.0274384e-02\n",
      "  1.3509805e-02 1.6201372e-04]\n",
      " ...\n",
      " [9.2255250e-02 8.6108822e-01 2.9099307e-03 ... 2.5130814e-02\n",
      "  1.8378297e-02 2.3421628e-04]\n",
      " [1.3445111e-01 7.8506619e-01 4.6543046e-03 ... 6.7688033e-02\n",
      "  7.9768309e-03 1.6194244e-04]\n",
      " [6.9962479e-02 8.9452869e-01 1.5909223e-02 ... 1.0438898e-02\n",
      "  7.4643753e-03 1.6785437e-03]]\n"
     ]
    }
   ],
   "source": [
    "from sklearn.metrics import accuracy_score\n",
    "\n",
    "y_predict = model.predict(x_test)\n",
    "print(y_predict)\n",
    "y_predict = np.argmax(y_predict,axis=1)\n"
   ]
  },
  {
   "cell_type": "code",
   "execution_count": 140,
   "metadata": {},
   "outputs": [
    {
     "name": "stdout",
     "output_type": "stream",
     "text": [
      "[0 1 1 ... 1 1 1]\n"
     ]
    }
   ],
   "source": [
    "print(y_predict)\n",
    "\n",
    "y_predict = tf.one_hot(y_predict,depth =7)\n"
   ]
  },
  {
   "cell_type": "code",
   "execution_count": 141,
   "metadata": {},
   "outputs": [
    {
     "name": "stdout",
     "output_type": "stream",
     "text": [
      "예측데이터 :  tf.Tensor(\n",
      "[[1. 0. 0. 0. 0. 0. 0.]\n",
      " [0. 1. 0. 0. 0. 0. 0.]\n",
      " [0. 1. 0. 0. 0. 0. 0.]\n",
      " [1. 0. 0. 0. 0. 0. 0.]\n",
      " [0. 1. 0. 0. 0. 0. 0.]\n",
      " [1. 0. 0. 0. 0. 0. 0.]\n",
      " [0. 1. 0. 0. 0. 0. 0.]\n",
      " [0. 1. 0. 0. 0. 0. 0.]\n",
      " [0. 1. 0. 0. 0. 0. 0.]\n",
      " [1. 0. 0. 0. 0. 0. 0.]\n",
      " [0. 1. 0. 0. 0. 0. 0.]\n",
      " [0. 1. 0. 0. 0. 0. 0.]\n",
      " [0. 0. 1. 0. 0. 0. 0.]\n",
      " [0. 1. 0. 0. 0. 0. 0.]\n",
      " [0. 1. 0. 0. 0. 0. 0.]\n",
      " [0. 1. 0. 0. 0. 0. 0.]\n",
      " [1. 0. 0. 0. 0. 0. 0.]\n",
      " [0. 1. 0. 0. 0. 0. 0.]\n",
      " [0. 1. 0. 0. 0. 0. 0.]\n",
      " [0. 1. 0. 0. 0. 0. 0.]], shape=(20, 7), dtype=float32)\n",
      "실제데이터 :        1    2    3    4    5    6    7\n",
      "0   1.0  0.0  0.0  0.0  0.0  0.0  0.0\n",
      "1   0.0  1.0  0.0  0.0  0.0  0.0  0.0\n",
      "2   1.0  0.0  0.0  0.0  0.0  0.0  0.0\n",
      "3   1.0  0.0  0.0  0.0  0.0  0.0  0.0\n",
      "4   0.0  1.0  0.0  0.0  0.0  0.0  0.0\n",
      "5   1.0  0.0  0.0  0.0  0.0  0.0  0.0\n",
      "6   1.0  0.0  0.0  0.0  0.0  0.0  0.0\n",
      "7   1.0  0.0  0.0  0.0  0.0  0.0  0.0\n",
      "8   0.0  1.0  0.0  0.0  0.0  0.0  0.0\n",
      "9   1.0  0.0  0.0  0.0  0.0  0.0  0.0\n",
      "10  0.0  1.0  0.0  0.0  0.0  0.0  0.0\n",
      "11  0.0  1.0  0.0  0.0  0.0  0.0  0.0\n",
      "12  0.0  0.0  1.0  0.0  0.0  0.0  0.0\n",
      "13  0.0  1.0  0.0  0.0  0.0  0.0  0.0\n",
      "14  0.0  1.0  0.0  0.0  0.0  0.0  0.0\n",
      "15  0.0  1.0  0.0  0.0  0.0  0.0  0.0\n",
      "16  0.0  1.0  0.0  0.0  0.0  0.0  0.0\n",
      "17  0.0  1.0  0.0  0.0  0.0  0.0  0.0\n",
      "18  0.0  1.0  0.0  0.0  0.0  0.0  0.0\n",
      "19  1.0  0.0  0.0  0.0  0.0  0.0  0.0\n",
      "========================================\n",
      "0.6853523575122845\n"
     ]
    }
   ],
   "source": [
    "# 데이터 출력\n",
    "\n",
    "print(\"예측데이터 : \",y_predict[:20])\n",
    "print(\"실제데이터 : \",y_test[:20])\n",
    "\n",
    "print\n",
    "print(\"========================================\")\n",
    "acc = accuracy_score(y_test,y_predict)\n",
    "print(acc)\n"
   ]
  }
 ],
 "metadata": {
  "kernelspec": {
   "display_name": "tf274gpu",
   "language": "python",
   "name": "python3"
  },
  "language_info": {
   "codemirror_mode": {
    "name": "ipython",
    "version": 3
   },
   "file_extension": ".py",
   "mimetype": "text/x-python",
   "name": "python",
   "nbconvert_exporter": "python",
   "pygments_lexer": "ipython3",
   "version": "3.9.15"
  },
  "orig_nbformat": 4,
  "vscode": {
   "interpreter": {
    "hash": "10848e9bd3f5e7d93542d388001135334854454e7336dcf54c4ef52885ee0fb0"
   }
  }
 },
 "nbformat": 4,
 "nbformat_minor": 2
}
