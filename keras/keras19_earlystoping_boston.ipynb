{
  "cells": [
    {
      "cell_type": "code",
      "execution_count": 18,
      "metadata": {},
      "outputs": [],
      "source": [
        "from sklearn.datasets import load_boston\n",
        "import pandas as pd\n",
        "from tensorflow.keras.models import Sequential\n",
        "from tensorflow.keras.layers import Dense\n",
        "from sklearn.model_selection import train_test_split\n",
        "from sklearn.metrics import mean_squared_error, r2_score"
      ]
    },
    {
      "cell_type": "code",
      "execution_count": 19,
      "metadata": {},
      "outputs": [
        {
          "name": "stdout",
          "output_type": "stream",
          "text": [
            "(506, 13)\n",
            "(506,)\n"
          ]
        },
        {
          "name": "stderr",
          "output_type": "stream",
          "text": [
            "c:\\Users\\bitcamp\\anaconda3\\envs\\tf274gpu\\lib\\site-packages\\sklearn\\utils\\deprecation.py:87: FutureWarning: Function load_boston is deprecated; `load_boston` is deprecated in 1.0 and will be removed in 1.2.\n",
            "\n",
            "    The Boston housing prices dataset has an ethical problem. You can refer to\n",
            "    the documentation of this function for further details.\n",
            "\n",
            "    The scikit-learn maintainers therefore strongly discourage the use of this\n",
            "    dataset unless the purpose of the code is to study and educate about\n",
            "    ethical issues in data science and machine learning.\n",
            "\n",
            "    In this special case, you can fetch the dataset from the original\n",
            "    source::\n",
            "\n",
            "        import pandas as pd\n",
            "        import numpy as np\n",
            "\n",
            "        data_url = \"http://lib.stat.cmu.edu/datasets/boston\"\n",
            "        raw_df = pd.read_csv(data_url, sep=\"\\s+\", skiprows=22, header=None)\n",
            "        data = np.hstack([raw_df.values[::2, :], raw_df.values[1::2, :2]])\n",
            "        target = raw_df.values[1::2, 2]\n",
            "\n",
            "    Alternative datasets include the California housing dataset (i.e.\n",
            "    :func:`~sklearn.datasets.fetch_california_housing`) and the Ames housing\n",
            "    dataset. You can load the datasets as follows::\n",
            "\n",
            "        from sklearn.datasets import fetch_california_housing\n",
            "        housing = fetch_california_housing()\n",
            "\n",
            "    for the California housing dataset and::\n",
            "\n",
            "        from sklearn.datasets import fetch_openml\n",
            "        housing = fetch_openml(name=\"house_prices\", as_frame=True)\n",
            "\n",
            "    for the Ames housing dataset.\n",
            "  warnings.warn(msg, category=FutureWarning)\n"
          ]
        }
      ],
      "source": [
        "# 1. 데이터 \n",
        "datasets = load_boston()\n",
        "\n",
        "x = datasets.data\n",
        "y = datasets.target\n",
        "\n",
        "print(x.shape)\n",
        "print(y.shape)"
      ]
    },
    {
      "cell_type": "code",
      "execution_count": 20,
      "metadata": {},
      "outputs": [],
      "source": [
        "# 2. train ,test 분리\n",
        "\n",
        "x_train, x_test, y_train,y_test = train_test_split(x,y,test_size=0.2,random_state=1)\n"
      ]
    },
    {
      "cell_type": "code",
      "execution_count": 21,
      "metadata": {},
      "outputs": [
        {
          "name": "stdout",
          "output_type": "stream",
          "text": [
            "Model: \"sequential_1\"\n",
            "_________________________________________________________________\n",
            " Layer (type)                Output Shape              Param #   \n",
            "=================================================================\n",
            " dense_8 (Dense)             (None, 10)                140       \n",
            "                                                                 \n",
            " dense_9 (Dense)             (None, 10)                110       \n",
            "                                                                 \n",
            " dense_10 (Dense)            (None, 10)                110       \n",
            "                                                                 \n",
            " dense_11 (Dense)            (None, 10)                110       \n",
            "                                                                 \n",
            " dense_12 (Dense)            (None, 10)                110       \n",
            "                                                                 \n",
            " dense_13 (Dense)            (None, 10)                110       \n",
            "                                                                 \n",
            " dense_14 (Dense)            (None, 10)                110       \n",
            "                                                                 \n",
            " dense_15 (Dense)            (None, 1)                 11        \n",
            "                                                                 \n",
            "=================================================================\n",
            "Total params: 811\n",
            "Trainable params: 811\n",
            "Non-trainable params: 0\n",
            "_________________________________________________________________\n"
          ]
        }
      ],
      "source": [
        "# 3. 모델구성\n",
        "\n",
        "model = Sequential(\n",
        "    [\n",
        "    # input_dim 은 행과 열만 앞으로 다차원이 나오면 input_shape 로 합니다\n",
        "    # ex (100,10,5 ) 의 input_shape = (10,5)\n",
        "    Dense(10,input_shape=(13,),activation=\"relu\"),\n",
        "    Dense(10 ,activation=\"relu\"),\n",
        "    Dense(10 ,activation=\"relu\"),\n",
        "    Dense(10 ,activation=\"relu\"),\n",
        "    Dense(10 ,activation=\"relu\"),\n",
        "    Dense(10 ,activation=\"relu\"),\n",
        "    Dense(10 ,activation=\"relu\"),\n",
        "    Dense(1)\n",
        "    ]\n",
        ")\n",
        "model.summary()"
      ]
    },
    {
      "cell_type": "code",
      "execution_count": 29,
      "metadata": {},
      "outputs": [
        {
          "name": "stdout",
          "output_type": "stream",
          "text": [
            "Epoch 1/10\n",
            "108/108 [==============================] - 1s 4ms/step - loss: 24.8687 - accuracy: 0.0000e+00 - val_loss: 46.6244 - val_accuracy: 0.0000e+00\n",
            "Epoch 2/10\n",
            "108/108 [==============================] - 0s 3ms/step - loss: 28.4297 - accuracy: 0.0000e+00 - val_loss: 51.2699 - val_accuracy: 0.0000e+00\n",
            "Epoch 3/10\n",
            "108/108 [==============================] - 0s 3ms/step - loss: 28.1674 - accuracy: 0.0000e+00 - val_loss: 28.5241 - val_accuracy: 0.0000e+00\n",
            "Epoch 4/10\n",
            "108/108 [==============================] - 0s 3ms/step - loss: 25.0951 - accuracy: 0.0000e+00 - val_loss: 28.0955 - val_accuracy: 0.0000e+00\n",
            "Epoch 5/10\n",
            "108/108 [==============================] - 0s 3ms/step - loss: 24.8668 - accuracy: 0.0000e+00 - val_loss: 30.3102 - val_accuracy: 0.0000e+00\n",
            "Epoch 6/10\n",
            "108/108 [==============================] - 0s 3ms/step - loss: 26.6539 - accuracy: 0.0000e+00 - val_loss: 23.9816 - val_accuracy: 0.0000e+00\n",
            "Epoch 7/10\n",
            "108/108 [==============================] - 0s 3ms/step - loss: 24.1919 - accuracy: 0.0000e+00 - val_loss: 26.0118 - val_accuracy: 0.0000e+00\n",
            "Epoch 8/10\n",
            "108/108 [==============================] - 0s 3ms/step - loss: 23.6988 - accuracy: 0.0000e+00 - val_loss: 24.6577 - val_accuracy: 0.0000e+00\n",
            "Epoch 9/10\n",
            "108/108 [==============================] - 0s 3ms/step - loss: 24.1609 - accuracy: 0.0000e+00 - val_loss: 24.2938 - val_accuracy: 0.0000e+00\n",
            "Epoch 10/10\n",
            "108/108 [==============================] - 0s 3ms/step - loss: 25.6280 - accuracy: 0.0000e+00 - val_loss: 31.3811 - val_accuracy: 0.0000e+00\n"
          ]
        }
      ],
      "source": [
        "# 3.모델 컴파일\n",
        "model.compile(loss=\"mse\",optimizer=\"adam\",metrics=['accuracy'])\n",
        "\n",
        "# model.fit 이 반환한 기록을 저장\n",
        "hist = model.fit(x_train,y_train,epochs=10,batch_size=3,validation_split=0.2,verbose=1)\n"
      ]
    },
    {
      "cell_type": "code",
      "execution_count": 23,
      "metadata": {},
      "outputs": [
        {
          "name": "stdout",
          "output_type": "stream",
          "text": [
            "4/4 [==============================] - 0s 2ms/step - loss: 26.0004 - accuracy: 0.0000e+00\n",
            "loss :  [26.00041389465332, 0.0]\n"
          ]
        }
      ],
      "source": [
        "# 평가 예측\n",
        "loss = model.evaluate(x_test,y_test)\n",
        "\n",
        "print(\"loss : \",loss)"
      ]
    },
    {
      "cell_type": "code",
      "execution_count": 33,
      "metadata": {},
      "outputs": [
        {
          "name": "stdout",
          "output_type": "stream",
          "text": [
            "[24.868677139282227, 28.429691314697266, 28.167394638061523, 25.095075607299805, 24.866785049438477, 26.653919219970703, 24.191911697387695, 23.69878578186035, 24.160856246948242, 25.628028869628906]\n",
            "=====================\n",
            "[46.62440490722656, 51.269927978515625, 28.524124145507812, 28.095510482788086, 30.310224533081055, 23.981584548950195, 26.011754989624023, 24.657718658447266, 24.293846130371094, 31.3811092376709]\n"
          ]
        }
      ],
      "source": [
        "# hist.history 는 딕셔너리형으로 구성\n",
        "\n",
        "print(hist.history['loss'])\n",
        "print(\"=============================================================\")\n",
        "print(hist.history['val_loss'])\n"
      ]
    }
  ],
  "metadata": {
    "kernelspec": {
      "display_name": "tf274gpu",
      "language": "python",
      "name": "python3"
    },
    "language_info": {
      "codemirror_mode": {
        "name": "ipython",
        "version": 3
      },
      "file_extension": ".py",
      "mimetype": "text/x-python",
      "name": "python",
      "nbconvert_exporter": "python",
      "pygments_lexer": "ipython3",
      "version": "3.9.15 (main, Nov 24 2022, 14:39:17) [MSC v.1916 64 bit (AMD64)]"
    },
    "orig_nbformat": 4,
    "vscode": {
      "interpreter": {
        "hash": "10848e9bd3f5e7d93542d388001135334854454e7336dcf54c4ef52885ee0fb0"
      }
    }
  },
  "nbformat": 4,
  "nbformat_minor": 2
}
