{
  "cells": [
    {
      "cell_type": "code",
      "execution_count": 24,
      "metadata": {},
      "outputs": [],
      "source": [
        "from sklearn.datasets import load_boston\n",
        "import pandas as pd\n",
        "from tensorflow.keras.models import Sequential\n",
        "from tensorflow.keras.layers import Dense\n",
        "from sklearn.model_selection import train_test_split\n",
        "from sklearn.metrics import mean_squared_error, r2_score"
      ]
    },
    {
      "cell_type": "code",
      "execution_count": 25,
      "metadata": {},
      "outputs": [
        {
          "name": "stdout",
          "output_type": "stream",
          "text": [
            "(506, 13)\n",
            "(506,)\n"
          ]
        }
      ],
      "source": [
        "# 1. 데이터 \n",
        "datasets = load_boston()\n",
        "\n",
        "x = datasets.data\n",
        "y = datasets.target\n",
        "\n",
        "print(x.shape)\n",
        "print(y.shape)"
      ]
    },
    {
      "cell_type": "code",
      "execution_count": 26,
      "metadata": {},
      "outputs": [],
      "source": [
        "# 2. train ,test 분리\n",
        "\n",
        "x_train, x_test, y_train,y_test = train_test_split(x,y,test_size=0.2,random_state=1)\n"
      ]
    },
    {
      "cell_type": "code",
      "execution_count": 27,
      "metadata": {},
      "outputs": [
        {
          "name": "stdout",
          "output_type": "stream",
          "text": [
            "Model: \"sequential_3\"\n",
            "_________________________________________________________________\n",
            " Layer (type)                Output Shape              Param #   \n",
            "=================================================================\n",
            " dense_24 (Dense)            (None, 10)                140       \n",
            "                                                                 \n",
            " dense_25 (Dense)            (None, 10)                110       \n",
            "                                                                 \n",
            " dense_26 (Dense)            (None, 10)                110       \n",
            "                                                                 \n",
            " dense_27 (Dense)            (None, 10)                110       \n",
            "                                                                 \n",
            " dense_28 (Dense)            (None, 10)                110       \n",
            "                                                                 \n",
            " dense_29 (Dense)            (None, 10)                110       \n",
            "                                                                 \n",
            " dense_30 (Dense)            (None, 10)                110       \n",
            "                                                                 \n",
            " dense_31 (Dense)            (None, 1)                 11        \n",
            "                                                                 \n",
            "=================================================================\n",
            "Total params: 811\n",
            "Trainable params: 811\n",
            "Non-trainable params: 0\n",
            "_________________________________________________________________\n"
          ]
        }
      ],
      "source": [
        "# 3. 모델구성\n",
        "\n",
        "model = Sequential(\n",
        "    [\n",
        "    # input_dim 은 행과 열만 앞으로 다차원이 나오면 input_shape 로 합니다\n",
        "    # ex (100,10,5 ) 의 input_shape = (10,5)\n",
        "    Dense(10,input_shape=(13,),activation=\"relu\"),\n",
        "    Dense(10 ,activation=\"relu\"),\n",
        "    Dense(10 ,activation=\"relu\"),\n",
        "    Dense(10 ,activation=\"relu\"),\n",
        "    Dense(10 ,activation=\"relu\"),\n",
        "    Dense(10 ,activation=\"relu\"),\n",
        "    Dense(10 ,activation=\"relu\"),\n",
        "    Dense(1)\n",
        "    ]\n",
        ")\n",
        "model.summary()"
      ]
    },
    {
      "cell_type": "code",
      "execution_count": 28,
      "metadata": {},
      "outputs": [
        {
          "name": "stdout",
          "output_type": "stream",
          "text": [
            "Epoch 1/10\n",
            "108/108 [==============================] - 1s 5ms/step - loss: 301.6542 - accuracy: 0.0000e+00 - val_loss: 124.8593 - val_accuracy: 0.0000e+00\n",
            "Epoch 2/10\n",
            "108/108 [==============================] - 0s 4ms/step - loss: 101.0294 - accuracy: 0.0000e+00 - val_loss: 115.9679 - val_accuracy: 0.0000e+00\n",
            "Epoch 3/10\n",
            "108/108 [==============================] - 0s 4ms/step - loss: 72.5731 - accuracy: 0.0000e+00 - val_loss: 69.2636 - val_accuracy: 0.0000e+00\n",
            "Epoch 4/10\n",
            "108/108 [==============================] - 0s 4ms/step - loss: 62.9510 - accuracy: 0.0000e+00 - val_loss: 64.4913 - val_accuracy: 0.0000e+00\n",
            "Epoch 5/10\n",
            "108/108 [==============================] - 0s 4ms/step - loss: 63.0042 - accuracy: 0.0000e+00 - val_loss: 61.1372 - val_accuracy: 0.0000e+00\n",
            "Epoch 6/10\n",
            "108/108 [==============================] - 0s 4ms/step - loss: 58.9487 - accuracy: 0.0000e+00 - val_loss: 64.0112 - val_accuracy: 0.0000e+00\n",
            "Epoch 7/10\n",
            "108/108 [==============================] - 0s 3ms/step - loss: 57.6568 - accuracy: 0.0000e+00 - val_loss: 62.7031 - val_accuracy: 0.0000e+00\n",
            "Epoch 8/10\n",
            "108/108 [==============================] - 0s 3ms/step - loss: 56.0006 - accuracy: 0.0000e+00 - val_loss: 57.6020 - val_accuracy: 0.0000e+00\n",
            "Epoch 9/10\n",
            "108/108 [==============================] - 0s 4ms/step - loss: 56.0450 - accuracy: 0.0000e+00 - val_loss: 58.9118 - val_accuracy: 0.0000e+00\n",
            "Epoch 10/10\n",
            "108/108 [==============================] - 0s 4ms/step - loss: 55.0458 - accuracy: 0.0000e+00 - val_loss: 54.8206 - val_accuracy: 0.0000e+00\n"
          ]
        }
      ],
      "source": [
        "# 3.모델 컴파일\n",
        "from tensorflow.keras.callbacks import EarlyStopping\n",
        "# 모니터 : val_loss 를 관찰\n",
        "# mode : 값이 커질때 멈춤 , 값이 작아져야함\n",
        "# patience : 개선이 안된다고 바로 종료시키지 않고 에폭을 기다림\n",
        "# \n",
        "earlyStopping = EarlyStopping(monitor=\"val_loss\",\n",
        "                              mode=\"min\",patience =10,\n",
        "                              restore_best_weights=True,\n",
        "                              verbose=1\n",
        "                              \n",
        "                              )\n",
        "\n",
        "model.compile(loss=\"mse\",optimizer=\"adam\",metrics=['accuracy'])\n",
        "\n",
        "# model.fit 이 반환한 기록을 저장\n",
        "hist = model.fit(\n",
        "                x_train,\n",
        "                y_train,\n",
        "                epochs=10,\n",
        "                batch_size=3,\n",
        "                validation_split=0.2,\n",
        "                verbose=1,\n",
        "                callbacks = [earlyStopping]\n",
        "                )\n"
      ]
    },
    {
      "cell_type": "code",
      "execution_count": 29,
      "metadata": {},
      "outputs": [
        {
          "name": "stdout",
          "output_type": "stream",
          "text": [
            "4/4 [==============================] - 0s 2ms/step - loss: 70.6777 - accuracy: 0.0000e+00\n",
            "loss :  [70.67774200439453, 0.0]\n"
          ]
        }
      ],
      "source": [
        "# 평가 예측\n",
        "loss = model.evaluate(x_test,y_test)\n",
        "\n",
        "print(\"loss : \",loss)"
      ]
    },
    {
      "cell_type": "code",
      "execution_count": 30,
      "metadata": {},
      "outputs": [
        {
          "name": "stdout",
          "output_type": "stream",
          "text": [
            "[301.65423583984375, 101.0293960571289, 72.5730972290039, 62.95097351074219, 63.00423812866211, 58.948692321777344, 57.65681076049805, 56.00062942504883, 56.045013427734375, 55.045841217041016]\n",
            "=============================================================\n",
            "[124.8592529296875, 115.96785736083984, 69.26363372802734, 64.49125671386719, 61.1372184753418, 64.01116943359375, 62.70305252075195, 57.602020263671875, 58.91183090209961, 54.820613861083984]\n"
          ]
        }
      ],
      "source": [
        "# hist.history 는 딕셔너리형으로 구성\n",
        "\n",
        "print(hist.history['loss'])\n",
        "print(\"=============================================================\")\n",
        "print(hist.history['val_loss'])\n"
      ]
    },
    {
      "cell_type": "code",
      "execution_count": 31,
      "metadata": {},
      "outputs": [
        {
          "data": {
            "image/png": "[encoded data removed]",
            "text/plain": [
              "<Figure size 900x600 with 1 Axes>"
            ]
          },
          "metadata": {},
          "output_type": "display_data"
        }
      ],
      "source": [
        "# 시각화\n",
        "import matplotlib.pyplot as plt\n",
        "\n",
        "# 필롯의 사이즈\n",
        "plt.figure(figsize =(9,6))\n",
        "\n",
        "plt.plot(hist.history[\"loss\"],c =\"red\",label=\"loss\")\n",
        "plt.plot(hist.history[\"val_loss\"],c=\"green\",label=\"val_loss\")\n",
        "plt.grid() # 격자 표시\n",
        "plt.xlabel(\"epochs\") # x 라벨 표시 \n",
        "plt.ylabel(\"loss\") # y 라벨 표시\n",
        "plt.title(\"boston loss\") # 그래프의 타이틀 표시\n",
        "plt.legend(loc = \"upper right\") # 그래프의 범주 표시\n",
        "plt.show() # 그래프를 보여줘"
      ]
    }
  ],
  "metadata": {
    "kernelspec": {
      "display_name": "tf274gpu",
      "language": "python",
      "name": "python3"
    },
    "language_info": {
      "codemirror_mode": {
        "name": "ipython",
        "version": 3
      },
      "file_extension": ".py",
      "mimetype": "text/x-python",
      "name": "python",
      "nbconvert_exporter": "python",
      "pygments_lexer": "ipython3",
      "version": "3.9.15"
    },
    "orig_nbformat": 4,
    "vscode": {
      "interpreter": {
        "hash": "10848e9bd3f5e7d93542d388001135334854454e7336dcf54c4ef52885ee0fb0"
      }
    }
  },
  "nbformat": 4,
  "nbformat_minor": 2
}
