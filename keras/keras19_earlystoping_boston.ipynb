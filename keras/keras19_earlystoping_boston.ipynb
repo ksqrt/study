{
  "cells": [
    {
      "cell_type": "code",
      "execution_count": 1,
      "metadata": {},
      "outputs": [],
      "source": [
        "from sklearn.datasets import load_boston\n",
        "import pandas as pd\n",
        "from tensorflow.keras.models import Sequential\n",
        "from tensorflow.keras.layers import Dense\n",
        "from sklearn.model_selection import train_test_split\n",
        "from sklearn.metrics import mean_squared_error, r2_score"
      ]
    },
    {
      "cell_type": "code",
      "execution_count": 2,
      "metadata": {},
      "outputs": [
        {
          "name": "stdout",
          "output_type": "stream",
          "text": [
            "(506, 13)\n",
            "(506,)\n"
          ]
        },
        {
          "name": "stderr",
          "output_type": "stream",
          "text": [
            "c:\\Users\\bitcamp\\anaconda3\\envs\\tf274gpu\\lib\\site-packages\\sklearn\\utils\\deprecation.py:87: FutureWarning: Function load_boston is deprecated; `load_boston` is deprecated in 1.0 and will be removed in 1.2.\n",
            "\n",
            "    The Boston housing prices dataset has an ethical problem. You can refer to\n",
            "    the documentation of this function for further details.\n",
            "\n",
            "    The scikit-learn maintainers therefore strongly discourage the use of this\n",
            "    dataset unless the purpose of the code is to study and educate about\n",
            "    ethical issues in data science and machine learning.\n",
            "\n",
            "    In this special case, you can fetch the dataset from the original\n",
            "    source::\n",
            "\n",
            "        import pandas as pd\n",
            "        import numpy as np\n",
            "\n",
            "        data_url = \"http://lib.stat.cmu.edu/datasets/boston\"\n",
            "        raw_df = pd.read_csv(data_url, sep=\"\\s+\", skiprows=22, header=None)\n",
            "        data = np.hstack([raw_df.values[::2, :], raw_df.values[1::2, :2]])\n",
            "        target = raw_df.values[1::2, 2]\n",
            "\n",
            "    Alternative datasets include the California housing dataset (i.e.\n",
            "    :func:`~sklearn.datasets.fetch_california_housing`) and the Ames housing\n",
            "    dataset. You can load the datasets as follows::\n",
            "\n",
            "        from sklearn.datasets import fetch_california_housing\n",
            "        housing = fetch_california_housing()\n",
            "\n",
            "    for the California housing dataset and::\n",
            "\n",
            "        from sklearn.datasets import fetch_openml\n",
            "        housing = fetch_openml(name=\"house_prices\", as_frame=True)\n",
            "\n",
            "    for the Ames housing dataset.\n",
            "  warnings.warn(msg, category=FutureWarning)\n"
          ]
        }
      ],
      "source": [
        "# 1. 데이터 \n",
        "datasets = load_boston()\n",
        "\n",
        "x = datasets.data\n",
        "y = datasets.target\n",
        "\n",
        "print(x.shape)\n",
        "print(y.shape)"
      ]
    },
    {
      "cell_type": "code",
      "execution_count": 3,
      "metadata": {},
      "outputs": [],
      "source": [
        "# 2. train ,test 분리\n",
        "\n",
        "x_train, x_test, y_train,y_test = train_test_split(x,y,test_size=0.2,random_state=1)\n"
      ]
    },
    {
      "cell_type": "code",
      "execution_count": 4,
      "metadata": {},
      "outputs": [
        {
          "name": "stdout",
          "output_type": "stream",
          "text": [
            "Model: \"sequential\"\n",
            "_________________________________________________________________\n",
            " Layer (type)                Output Shape              Param #   \n",
            "=================================================================\n",
            " dense (Dense)               (None, 10)                140       \n",
            "                                                                 \n",
            " dense_1 (Dense)             (None, 10)                110       \n",
            "                                                                 \n",
            " dense_2 (Dense)             (None, 10)                110       \n",
            "                                                                 \n",
            " dense_3 (Dense)             (None, 10)                110       \n",
            "                                                                 \n",
            " dense_4 (Dense)             (None, 10)                110       \n",
            "                                                                 \n",
            " dense_5 (Dense)             (None, 10)                110       \n",
            "                                                                 \n",
            " dense_6 (Dense)             (None, 10)                110       \n",
            "                                                                 \n",
            " dense_7 (Dense)             (None, 1)                 11        \n",
            "                                                                 \n",
            "=================================================================\n",
            "Total params: 811\n",
            "Trainable params: 811\n",
            "Non-trainable params: 0\n",
            "_________________________________________________________________\n"
          ]
        }
      ],
      "source": [
        "# 3. 모델구성\n",
        "\n",
        "model = Sequential(\n",
        "    [\n",
        "    # input_dim 은 행과 열만 앞으로 다차원이 나오면 input_shape 로 합니다\n",
        "    # ex (100,10,5 ) 의 input_shape = (10,5)\n",
        "    Dense(10,input_shape=(13,),activation=\"relu\"),\n",
        "    Dense(10 ,activation=\"relu\"),\n",
        "    Dense(10 ,activation=\"relu\"),\n",
        "    Dense(10 ,activation=\"relu\"),\n",
        "    Dense(10 ,activation=\"relu\"),\n",
        "    Dense(10 ,activation=\"relu\"),\n",
        "    Dense(10 ,activation=\"relu\"),\n",
        "    Dense(1)\n",
        "    ]\n",
        ")\n",
        "model.summary()"
      ]
    },
    {
      "cell_type": "code",
      "execution_count": 5,
      "metadata": {},
      "outputs": [
        {
          "name": "stdout",
          "output_type": "stream",
          "text": [
            "Epoch 1/100\n",
            "108/108 [==============================] - 2s 6ms/step - loss: 150.0299 - val_loss: 176.5638\n",
            "Epoch 2/100\n",
            "108/108 [==============================] - 1s 5ms/step - loss: 68.9892 - val_loss: 86.3327\n",
            "Epoch 3/100\n",
            "108/108 [==============================] - 0s 5ms/step - loss: 62.6257 - val_loss: 68.6566\n",
            "Epoch 4/100\n",
            "108/108 [==============================] - 0s 4ms/step - loss: 57.9621 - val_loss: 71.8831\n",
            "Epoch 5/100\n",
            "108/108 [==============================] - 0s 4ms/step - loss: 59.3780 - val_loss: 68.6462\n",
            "Epoch 6/100\n",
            "108/108 [==============================] - 0s 4ms/step - loss: 55.5229 - val_loss: 66.6442\n",
            "Epoch 7/100\n",
            "108/108 [==============================] - 0s 5ms/step - loss: 55.2058 - val_loss: 63.3845\n",
            "Epoch 8/100\n",
            "108/108 [==============================] - 0s 5ms/step - loss: 56.1343 - val_loss: 60.1632\n",
            "Epoch 9/100\n",
            "108/108 [==============================] - 0s 5ms/step - loss: 54.9725 - val_loss: 67.1281\n",
            "Epoch 10/100\n",
            "108/108 [==============================] - 0s 4ms/step - loss: 52.2304 - val_loss: 61.6178\n",
            "Epoch 11/100\n",
            "108/108 [==============================] - 0s 4ms/step - loss: 50.0012 - val_loss: 54.4810\n",
            "Epoch 12/100\n",
            "108/108 [==============================] - 0s 4ms/step - loss: 50.8802 - val_loss: 54.5824\n",
            "Epoch 13/100\n",
            "108/108 [==============================] - 0s 4ms/step - loss: 48.9687 - val_loss: 64.4354\n",
            "Epoch 14/100\n",
            "108/108 [==============================] - 0s 4ms/step - loss: 49.0516 - val_loss: 53.9053\n",
            "Epoch 15/100\n",
            "108/108 [==============================] - 0s 4ms/step - loss: 46.8312 - val_loss: 50.3561\n",
            "Epoch 16/100\n",
            "108/108 [==============================] - 0s 4ms/step - loss: 46.7459 - val_loss: 47.6419\n",
            "Epoch 17/100\n",
            "108/108 [==============================] - 0s 4ms/step - loss: 47.1934 - val_loss: 51.2050\n",
            "Epoch 18/100\n",
            "108/108 [==============================] - 0s 4ms/step - loss: 44.3529 - val_loss: 46.2178\n",
            "Epoch 19/100\n",
            "108/108 [==============================] - 0s 4ms/step - loss: 43.2370 - val_loss: 44.7515\n",
            "Epoch 20/100\n",
            "108/108 [==============================] - 0s 4ms/step - loss: 43.1841 - val_loss: 43.2760\n",
            "Epoch 21/100\n",
            "108/108 [==============================] - 0s 4ms/step - loss: 44.6497 - val_loss: 56.9629\n",
            "Epoch 22/100\n",
            "108/108 [==============================] - 0s 4ms/step - loss: 39.6131 - val_loss: 47.2482\n",
            "Epoch 23/100\n",
            "108/108 [==============================] - 0s 4ms/step - loss: 41.1052 - val_loss: 40.1890\n",
            "Epoch 24/100\n",
            "108/108 [==============================] - 0s 4ms/step - loss: 40.5193 - val_loss: 38.8218\n",
            "Epoch 25/100\n",
            "108/108 [==============================] - 0s 4ms/step - loss: 36.0218 - val_loss: 39.9630\n",
            "Epoch 26/100\n",
            "108/108 [==============================] - 0s 4ms/step - loss: 36.4974 - val_loss: 39.8975\n",
            "Epoch 27/100\n",
            "108/108 [==============================] - 0s 4ms/step - loss: 36.8807 - val_loss: 36.7615\n",
            "Epoch 28/100\n",
            "108/108 [==============================] - 0s 4ms/step - loss: 36.0991 - val_loss: 42.5045\n",
            "Epoch 29/100\n",
            "108/108 [==============================] - 0s 5ms/step - loss: 36.5788 - val_loss: 34.5042\n",
            "Epoch 30/100\n",
            "108/108 [==============================] - 0s 4ms/step - loss: 33.9878 - val_loss: 37.9253\n",
            "Epoch 31/100\n",
            "108/108 [==============================] - 0s 4ms/step - loss: 36.4501 - val_loss: 34.8347\n",
            "Epoch 32/100\n",
            "108/108 [==============================] - 0s 4ms/step - loss: 32.8176 - val_loss: 32.3371\n",
            "Epoch 33/100\n",
            "108/108 [==============================] - 0s 4ms/step - loss: 34.2484 - val_loss: 32.5555\n",
            "Epoch 34/100\n",
            "108/108 [==============================] - 0s 4ms/step - loss: 32.0149 - val_loss: 47.1360\n",
            "Epoch 35/100\n",
            "108/108 [==============================] - 0s 4ms/step - loss: 35.3813 - val_loss: 33.7224\n",
            "Epoch 36/100\n",
            "108/108 [==============================] - 0s 4ms/step - loss: 31.4644 - val_loss: 31.6977\n",
            "Epoch 37/100\n",
            "108/108 [==============================] - 0s 4ms/step - loss: 30.7116 - val_loss: 30.4484\n",
            "Epoch 38/100\n",
            "108/108 [==============================] - 0s 4ms/step - loss: 28.3161 - val_loss: 32.5051\n",
            "Epoch 39/100\n",
            "108/108 [==============================] - 0s 4ms/step - loss: 30.1989 - val_loss: 30.5477\n",
            "Epoch 40/100\n",
            "108/108 [==============================] - 0s 4ms/step - loss: 27.9090 - val_loss: 30.6659\n",
            "Epoch 41/100\n",
            "108/108 [==============================] - 0s 4ms/step - loss: 28.0090 - val_loss: 30.3315\n",
            "Epoch 42/100\n",
            "108/108 [==============================] - 0s 4ms/step - loss: 28.7085 - val_loss: 30.3958\n",
            "Epoch 43/100\n",
            "108/108 [==============================] - 0s 4ms/step - loss: 27.7198 - val_loss: 29.5349\n",
            "Epoch 44/100\n",
            "108/108 [==============================] - 0s 4ms/step - loss: 28.6560 - val_loss: 29.0014\n",
            "Epoch 45/100\n",
            "108/108 [==============================] - 0s 4ms/step - loss: 28.8070 - val_loss: 28.0031\n",
            "Epoch 46/100\n",
            "108/108 [==============================] - 0s 4ms/step - loss: 27.0969 - val_loss: 28.1418\n",
            "Epoch 47/100\n",
            "108/108 [==============================] - 0s 4ms/step - loss: 27.9128 - val_loss: 27.0574\n",
            "Epoch 48/100\n",
            "108/108 [==============================] - 0s 4ms/step - loss: 25.5533 - val_loss: 26.2740\n",
            "Epoch 49/100\n",
            "108/108 [==============================] - 0s 4ms/step - loss: 24.4041 - val_loss: 26.9871\n",
            "Epoch 50/100\n",
            "108/108 [==============================] - 0s 4ms/step - loss: 26.5891 - val_loss: 26.2475\n",
            "Epoch 51/100\n",
            "108/108 [==============================] - 0s 4ms/step - loss: 24.0178 - val_loss: 26.3579\n",
            "Epoch 52/100\n",
            "108/108 [==============================] - 0s 4ms/step - loss: 25.1787 - val_loss: 29.7086\n",
            "Epoch 53/100\n",
            "108/108 [==============================] - 0s 4ms/step - loss: 25.7356 - val_loss: 31.6297\n",
            "Epoch 54/100\n",
            "108/108 [==============================] - 0s 4ms/step - loss: 25.3487 - val_loss: 24.4039\n",
            "Epoch 55/100\n",
            "108/108 [==============================] - 0s 4ms/step - loss: 23.6539 - val_loss: 24.5453\n",
            "Epoch 56/100\n",
            "108/108 [==============================] - 0s 4ms/step - loss: 23.5091 - val_loss: 23.9264\n",
            "Epoch 57/100\n",
            "108/108 [==============================] - 0s 4ms/step - loss: 23.2175 - val_loss: 24.5901\n",
            "Epoch 58/100\n",
            "108/108 [==============================] - 0s 4ms/step - loss: 23.2884 - val_loss: 28.0188\n",
            "Epoch 59/100\n",
            "108/108 [==============================] - 0s 4ms/step - loss: 27.4027 - val_loss: 23.7438\n",
            "Epoch 60/100\n",
            "108/108 [==============================] - 0s 4ms/step - loss: 23.3361 - val_loss: 24.4111\n",
            "Epoch 61/100\n",
            "108/108 [==============================] - 0s 4ms/step - loss: 25.7548 - val_loss: 25.8949\n",
            "Epoch 62/100\n",
            "108/108 [==============================] - 0s 4ms/step - loss: 23.4991 - val_loss: 24.6610\n",
            "Epoch 63/100\n",
            "108/108 [==============================] - 0s 4ms/step - loss: 23.5738 - val_loss: 25.2827\n",
            "Epoch 64/100\n",
            "108/108 [==============================] - 0s 4ms/step - loss: 24.9291 - val_loss: 37.6297\n",
            "Epoch 65/100\n",
            "108/108 [==============================] - 0s 4ms/step - loss: 23.8590 - val_loss: 39.0163\n",
            "Epoch 66/100\n",
            "108/108 [==============================] - 0s 4ms/step - loss: 24.2190 - val_loss: 23.5024\n",
            "Epoch 67/100\n",
            "108/108 [==============================] - 0s 4ms/step - loss: 24.9737 - val_loss: 22.3511\n",
            "Epoch 68/100\n",
            "108/108 [==============================] - 0s 4ms/step - loss: 24.3541 - val_loss: 28.8500\n",
            "Epoch 69/100\n",
            "108/108 [==============================] - 0s 4ms/step - loss: 23.9090 - val_loss: 32.2675\n",
            "Epoch 70/100\n",
            "108/108 [==============================] - 0s 4ms/step - loss: 21.7856 - val_loss: 23.8996\n",
            "Epoch 71/100\n",
            "108/108 [==============================] - 0s 4ms/step - loss: 22.5530 - val_loss: 26.5422\n",
            "Epoch 72/100\n",
            "108/108 [==============================] - 0s 4ms/step - loss: 21.6243 - val_loss: 25.1985\n",
            "Epoch 73/100\n",
            "108/108 [==============================] - 0s 4ms/step - loss: 22.6368 - val_loss: 22.5705\n",
            "Epoch 74/100\n",
            "108/108 [==============================] - 0s 4ms/step - loss: 20.6220 - val_loss: 27.6660\n",
            "Epoch 75/100\n",
            "108/108 [==============================] - 0s 3ms/step - loss: 22.8270 - val_loss: 28.2161\n",
            "Epoch 76/100\n",
            "108/108 [==============================] - 0s 4ms/step - loss: 22.2878 - val_loss: 32.1181\n",
            "Epoch 77/100\n",
            " 97/108 [=========================>....] - ETA: 0s - loss: 22.2752Restoring model weights from the end of the best epoch: 67.\n",
            "108/108 [==============================] - 0s 4ms/step - loss: 22.1890 - val_loss: 25.2801\n",
            "Epoch 00077: early stopping\n"
          ]
        }
      ],
      "source": [
        "# 3.모델 컴파일\n",
        "from tensorflow.keras.callbacks import EarlyStopping\n",
        "# 모니터 : val_loss 를 관찰\n",
        "# mode : 값이 커질때 멈춤 , 값이 작아져야함\n",
        "# patience : 개선이 안된다고 바로 종료시키지 않고 에폭을 기다림\n",
        "# \n",
        "earlyStopping = EarlyStopping(monitor=\"val_loss\",\n",
        "                              mode=\"min\",patience =10,\n",
        "                              restore_best_weights=True,\n",
        "                              verbose=1\n",
        "                              \n",
        "                              )\n",
        "\n",
        "model.compile(loss=\"mse\",optimizer=\"adam\")\n",
        "\n",
        "# model.fit 이 반환한 기록을 저장\n",
        "hist = model.fit(\n",
        "                x_train,\n",
        "                y_train,\n",
        "                epochs=100,\n",
        "                batch_size=3,\n",
        "                validation_split=0.2,\n",
        "                verbose=1,\n",
        "                callbacks = [earlyStopping]\n",
        "                )\n"
      ]
    },
    {
      "cell_type": "code",
      "execution_count": 6,
      "metadata": {},
      "outputs": [
        {
          "name": "stdout",
          "output_type": "stream",
          "text": [
            "4/4 [==============================] - 0s 2ms/step - loss: 23.3575\n",
            "loss :  23.357513427734375\n"
          ]
        }
      ],
      "source": [
        "# 평가 예측\n",
        "loss = model.evaluate(x_test,y_test)\n",
        "\n",
        "print(\"loss : \",loss)"
      ]
    },
    {
      "cell_type": "code",
      "execution_count": 7,
      "metadata": {},
      "outputs": [
        {
          "name": "stdout",
          "output_type": "stream",
          "text": [
            "[150.02987670898438, 68.98918151855469, 62.62565994262695, 57.96211242675781, 59.377986907958984, 55.52289962768555, 55.20580291748047, 56.13426971435547, 54.9725227355957, 52.230438232421875, 50.00118637084961, 50.88015365600586, 48.96873474121094, 49.05157470703125, 46.8311653137207, 46.74591064453125, 47.193355560302734, 44.352882385253906, 43.23701858520508, 43.184051513671875, 44.649742126464844, 39.61309814453125, 41.10519790649414, 40.51932144165039, 36.02177429199219, 36.49741744995117, 36.880706787109375, 36.09913635253906, 36.578758239746094, 33.98777770996094, 36.45014572143555, 32.817626953125, 34.248355865478516, 32.0149040222168, 35.38134765625, 31.46441650390625, 30.71158218383789, 28.316085815429688, 30.198930740356445, 27.909040451049805, 28.008996963500977, 28.708492279052734, 27.719810485839844, 28.655969619750977, 28.806976318359375, 27.096942901611328, 27.91282081604004, 25.553266525268555, 24.404090881347656, 26.58911895751953, 24.0178165435791, 25.17873764038086, 25.735639572143555, 25.348716735839844, 23.653928756713867, 23.50913429260254, 23.217456817626953, 23.28841781616211, 27.40273094177246, 23.336082458496094, 25.754804611206055, 23.49909782409668, 23.573755264282227, 24.929121017456055, 23.858976364135742, 24.219038009643555, 24.973726272583008, 24.354122161865234, 23.90900993347168, 21.78555679321289, 22.55297088623047, 21.62430763244629, 22.636812210083008, 20.62199592590332, 22.82701301574707, 22.287811279296875, 22.18901824951172]\n",
            "=============================================================\n",
            "[176.56381225585938, 86.33269500732422, 68.65662384033203, 71.88311004638672, 68.64617156982422, 66.64420318603516, 63.38449478149414, 60.163211822509766, 67.12806701660156, 61.617828369140625, 54.48099899291992, 54.58241271972656, 64.4354248046875, 53.905250549316406, 50.3560905456543, 47.64194869995117, 51.2049560546875, 46.21781539916992, 44.75149917602539, 43.27602767944336, 56.96285629272461, 47.2481575012207, 40.18904113769531, 38.82179641723633, 39.96304702758789, 39.89748001098633, 36.761470794677734, 42.5045051574707, 34.504173278808594, 37.92533493041992, 34.83470916748047, 32.337093353271484, 32.5555419921875, 47.1359748840332, 33.72242736816406, 31.69768524169922, 30.448413848876953, 32.505088806152344, 30.54768943786621, 30.665876388549805, 30.331464767456055, 30.395824432373047, 29.534875869750977, 29.001422882080078, 28.003080368041992, 28.141830444335938, 27.057369232177734, 26.273977279663086, 26.987051010131836, 26.247512817382812, 26.35788345336914, 29.708574295043945, 31.62968635559082, 24.403892517089844, 24.545276641845703, 23.926362991333008, 24.590063095092773, 28.018835067749023, 23.7437801361084, 24.411130905151367, 25.894935607910156, 24.660980224609375, 25.282670974731445, 37.629703521728516, 39.01628494262695, 23.50238800048828, 22.35106658935547, 28.84996795654297, 32.26750564575195, 23.899568557739258, 26.542240142822266, 25.198503494262695, 22.570480346679688, 27.666019439697266, 28.216106414794922, 32.11808776855469, 25.28012466430664]\n"
          ]
        }
      ],
      "source": [
        "# hist.history 는 딕셔너리형으로 구성\n",
        "\n",
        "print(hist.history['loss'])\n",
        "print(\"=============================================================\")\n",
        "print(hist.history['val_loss'])\n"
      ]
    },
    {
      "cell_type": "code",
      "execution_count": 8,
      "metadata": {},
      "outputs": [
        {
          "name": "stdout",
          "output_type": "stream",
          "text": [
            "버전 3.6.2\n",
            "설치위치 c:\\Users\\bitcamp\\anaconda3\\envs\\tf274gpu\\lib\\site-packages\\matplotlib\\__init__.py\n",
            "설정위치 c:\\Users\\bitcamp\\anaconda3\\envs\\tf274gpu\\lib\\site-packages\\matplotlib\\mpl-data\\matplotlibrc\n"
          ]
        }
      ],
      "source": [
        "import matplotlib as mpl\n",
        "import matplotlib.pyplot as plt\n",
        "import matplotlib.font_manager as fm\n",
        "\n",
        "print(\"버전\",mpl.__version__)\n",
        "print(\"설치위치\",mpl.__file__)\n",
        "print(\"설정위치\",mpl.matplotlib_fname())"
      ]
    },
    {
      "cell_type": "code",
      "execution_count": null,
      "metadata": {},
      "outputs": [],
      "source": []
    },
    {
      "cell_type": "code",
      "execution_count": 11,
      "metadata": {},
      "outputs": [
        {
          "data": {
            "image/png": "[encoded data removed]",
            "text/plain": [
              "<Figure size 900x600 with 1 Axes>"
            ]
          },
          "metadata": {},
          "output_type": "display_data"
        }
      ],
      "source": [
        "# 시각화\n",
        "import matplotlib.pyplot as plt\n",
        "\n",
        "# 필롯의 사이즈\n",
        "plt.figure(figsize =(9,6))\n",
        "\n",
        "plt.plot(hist.history[\"loss\"],c =\"red\",label=\"loss\")\n",
        "plt.plot(hist.history[\"val_loss\"],c=\"green\",label=\"val_loss\")\n",
        "plt.grid() # 격자 표시\n",
        "plt.xlabel(\"epochs,에포크\") # x 라벨 표시 \n",
        "\n",
        "plt.ylabel(\"loss\") # y 라벨 표시\n",
        "plt.title(\"보스턴손실함수\") # 그래프의 타이틀 표시\n",
        "plt.legend(loc = \"upper right\") # 그래프의 범주 표시\n",
        "plt.show() # 그래프를 보여줘"
      ]
    }
  ],
  "metadata": {
    "kernelspec": {
      "display_name": "tf274gpu",
      "language": "python",
      "name": "python3"
    },
    "language_info": {
      "codemirror_mode": {
        "name": "ipython",
        "version": 3
      },
      "file_extension": ".py",
      "mimetype": "text/x-python",
      "name": "python",
      "nbconvert_exporter": "python",
      "pygments_lexer": "ipython3",
      "version": "3.9.15"
    },
    "orig_nbformat": 4,
    "vscode": {
      "interpreter": {
        "hash": "10848e9bd3f5e7d93542d388001135334854454e7336dcf54c4ef52885ee0fb0"
      }
    }
  },
  "nbformat": 4,
  "nbformat_minor": 2
}
