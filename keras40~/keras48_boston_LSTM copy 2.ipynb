{
 "cells": [
  {
   "cell_type": "code",
   "execution_count": 13,
   "metadata": {},
   "outputs": [],
   "source": [
    "import numpy as np\n",
    "import pandas as pd\n",
    "from sklearn.datasets import load_boston\n",
    "from tensorflow.keras.models import Sequential\n",
    "from tensorflow.keras.layers import Dense,SimpleRNN,LSTM,GRU,Dropout\n",
    "# 1. 데이터 \n",
    "dataset = load_boston()\n",
    "x = dataset.data\n",
    "y = dataset.target\n"
   ]
  },
  {
   "cell_type": "code",
   "execution_count": 14,
   "metadata": {},
   "outputs": [
    {
     "name": "stdout",
     "output_type": "stream",
     "text": [
      "(502, 5, 13) (502, 5)\n"
     ]
    }
   ],
   "source": [
    "\n",
    "def split_x(dataset,timesteps) : \n",
    "    tmp = []\n",
    "    for i in range(len(dataset)-timesteps + 1):\n",
    "        subset = dataset[i : (i+ timesteps)]\n",
    "        tmp.append(subset)\n",
    "    return np.array(tmp)\n",
    "\n",
    "x=  split_x(x,5)\n",
    "y= split_x(y,5)\n",
    "\n",
    "print(x.shape,y.shape)"
   ]
  },
  {
   "cell_type": "code",
   "execution_count": 15,
   "metadata": {},
   "outputs": [
    {
     "name": "stdout",
     "output_type": "stream",
     "text": [
      "(351, 5, 13) (351, 5)\n"
     ]
    }
   ],
   "source": [
    "from sklearn.model_selection import train_test_split\n",
    "x_train, x_test, y_train,y_test = train_test_split(\n",
    "    x,y, shuffle = True,\n",
    "    train_size=0.7,\n",
    "    \n",
    ")\n",
    "print(x_train.shape,y_train.shape)\n"
   ]
  },
  {
   "cell_type": "code",
   "execution_count": 16,
   "metadata": {},
   "outputs": [
    {
     "name": "stdout",
     "output_type": "stream",
     "text": [
      "Model: \"sequential_1\"\n",
      "_________________________________________________________________\n",
      " Layer (type)                Output Shape              Param #   \n",
      "=================================================================\n",
      " lstm_1 (LSTM)               (None, 64)                19968     \n",
      "                                                                 \n",
      " dropout_1 (Dropout)         (None, 64)                0         \n",
      "                                                                 \n",
      " dense_2 (Dense)             (None, 16)                1040      \n",
      "                                                                 \n",
      " dense_3 (Dense)             (None, 1)                 17        \n",
      "                                                                 \n",
      "=================================================================\n",
      "Total params: 21,025\n",
      "Trainable params: 21,025\n",
      "Non-trainable params: 0\n",
      "_________________________________________________________________\n"
     ]
    }
   ],
   "source": [
    "# RNN 모델구성\n",
    "model = Sequential([\n",
    "    # input_shape 는 행 무시 \n",
    "    # LSTM 은 3차원을 -> 2차원으로 변환함 flatten 필요없다\n",
    "    # 따라서 LSTM 을 두번쓰면 오류발생\n",
    "    LSTM(64,input_shape=(5,13)),\n",
    "    Dropout(0.2),\n",
    "    Dense(16,activation=\"relu\"),\n",
    "    Dense(1)\n",
    "])\n",
    "# 파라미터의 값 :\n",
    "# RNN x 4 (출력 , 입력 ,삭제게이트)\n",
    "# ( unit 개수 ) * (unit 개수 + feature 개수)*4\n",
    "# 기본 rnn ㅇㅇ이처럼 파라미터의 값이 매우 많아서 연산량이 매우 많다\n",
    "model.summary()"
   ]
  },
  {
   "cell_type": "code",
   "execution_count": 17,
   "metadata": {},
   "outputs": [
    {
     "name": "stdout",
     "output_type": "stream",
     "text": [
      "Epoch 1/10\n",
      "3/3 [==============================] - 4s 8ms/step - loss: 22.1144\n",
      "Epoch 2/10\n",
      "3/3 [==============================] - 0s 7ms/step - loss: 21.7147\n",
      "Epoch 3/10\n",
      "3/3 [==============================] - 0s 8ms/step - loss: 21.3292\n",
      "Epoch 4/10\n",
      "3/3 [==============================] - 0s 7ms/step - loss: 20.9647\n",
      "Epoch 5/10\n",
      "3/3 [==============================] - 0s 6ms/step - loss: 20.5577\n",
      "Epoch 6/10\n",
      "3/3 [==============================] - 0s 7ms/step - loss: 20.2322\n",
      "Epoch 7/10\n",
      "3/3 [==============================] - 0s 6ms/step - loss: 19.8293\n",
      "Epoch 8/10\n",
      "3/3 [==============================] - 0s 7ms/step - loss: 19.2937\n",
      "Epoch 9/10\n",
      "3/3 [==============================] - 0s 6ms/step - loss: 18.8854\n",
      "Epoch 10/10\n",
      "3/3 [==============================] - 0s 5ms/step - loss: 18.2285\n"
     ]
    },
    {
     "data": {
      "text/plain": [
       "<keras.callbacks.History at 0x1cc4c691310>"
      ]
     },
     "execution_count": 17,
     "metadata": {},
     "output_type": "execute_result"
    }
   ],
   "source": [
    "# 컴파일 훈련\n",
    "model.compile(loss=\"mae\",optimizer=\"adam\")\n",
    "model.fit(x_train,y_train,epochs=10,batch_size=128)"
   ]
  },
  {
   "cell_type": "code",
   "execution_count": 18,
   "metadata": {},
   "outputs": [
    {
     "name": "stdout",
     "output_type": "stream",
     "text": [
      "5/5 [==============================] - 0s 3ms/step - loss: 16.7392\n",
      "16.739248275756836\n"
     ]
    }
   ],
   "source": [
    "loss = model.evaluate(x_test,y_test)\n",
    "print(loss)"
   ]
  }
 ],
 "metadata": {
  "kernelspec": {
   "display_name": "tf274gpu",
   "language": "python",
   "name": "python3"
  },
  "language_info": {
   "codemirror_mode": {
    "name": "ipython",
    "version": 3
   },
   "file_extension": ".py",
   "mimetype": "text/x-python",
   "name": "python",
   "nbconvert_exporter": "python",
   "pygments_lexer": "ipython3",
   "version": "3.9.15"
  },
  "orig_nbformat": 4,
  "vscode": {
   "interpreter": {
    "hash": "10848e9bd3f5e7d93542d388001135334854454e7336dcf54c4ef52885ee0fb0"
   }
  }
 },
 "nbformat": 4,
 "nbformat_minor": 2
}
