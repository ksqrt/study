{
 "cells": [
  {
   "cell_type": "code",
   "execution_count": 127,
   "metadata": {},
   "outputs": [],
   "source": [
    "import numpy as np\n",
    "from tensorflow.keras.models import Sequential\n",
    "from tensorflow.keras.layers import Dense,SimpleRNN,LSTM,GRU,Dropout\n",
    "\n",
    "a = np.array(range(1,101))\n",
    "x_predict = np.array(range(96,106))\n",
    "\n"
   ]
  },
  {
   "cell_type": "code",
   "execution_count": 128,
   "metadata": {},
   "outputs": [
    {
     "name": "stdout",
     "output_type": "stream",
     "text": [
      "(96, 5)\n",
      "[[ 1  2  3  4]\n",
      " [ 2  3  4  5]\n",
      " [ 3  4  5  6]\n",
      " [ 4  5  6  7]\n",
      " [ 5  6  7  8]\n",
      " [ 6  7  8  9]\n",
      " [ 7  8  9 10]\n",
      " [ 8  9 10 11]\n",
      " [ 9 10 11 12]\n",
      " [10 11 12 13]\n",
      " [11 12 13 14]\n",
      " [12 13 14 15]\n",
      " [13 14 15 16]\n",
      " [14 15 16 17]\n",
      " [15 16 17 18]\n",
      " [16 17 18 19]\n",
      " [17 18 19 20]\n",
      " [18 19 20 21]\n",
      " [19 20 21 22]\n",
      " [20 21 22 23]\n",
      " [21 22 23 24]\n",
      " [22 23 24 25]\n",
      " [23 24 25 26]\n",
      " [24 25 26 27]\n",
      " [25 26 27 28]\n",
      " [26 27 28 29]\n",
      " [27 28 29 30]\n",
      " [28 29 30 31]\n",
      " [29 30 31 32]\n",
      " [30 31 32 33]\n",
      " [31 32 33 34]\n",
      " [32 33 34 35]\n",
      " [33 34 35 36]\n",
      " [34 35 36 37]\n",
      " [35 36 37 38]\n",
      " [36 37 38 39]\n",
      " [37 38 39 40]\n",
      " [38 39 40 41]\n",
      " [39 40 41 42]\n",
      " [40 41 42 43]\n",
      " [41 42 43 44]\n",
      " [42 43 44 45]\n",
      " [43 44 45 46]\n",
      " [44 45 46 47]\n",
      " [45 46 47 48]\n",
      " [46 47 48 49]\n",
      " [47 48 49 50]\n",
      " [48 49 50 51]\n",
      " [49 50 51 52]\n",
      " [50 51 52 53]\n",
      " [51 52 53 54]\n",
      " [52 53 54 55]\n",
      " [53 54 55 56]\n",
      " [54 55 56 57]\n",
      " [55 56 57 58]\n",
      " [56 57 58 59]\n",
      " [57 58 59 60]\n",
      " [58 59 60 61]\n",
      " [59 60 61 62]\n",
      " [60 61 62 63]\n",
      " [61 62 63 64]\n",
      " [62 63 64 65]\n",
      " [63 64 65 66]\n",
      " [64 65 66 67]\n",
      " [65 66 67 68]\n",
      " [66 67 68 69]\n",
      " [67 68 69 70]\n",
      " [68 69 70 71]\n",
      " [69 70 71 72]\n",
      " [70 71 72 73]\n",
      " [71 72 73 74]\n",
      " [72 73 74 75]\n",
      " [73 74 75 76]\n",
      " [74 75 76 77]\n",
      " [75 76 77 78]\n",
      " [76 77 78 79]\n",
      " [77 78 79 80]\n",
      " [78 79 80 81]\n",
      " [79 80 81 82]\n",
      " [80 81 82 83]\n",
      " [81 82 83 84]\n",
      " [82 83 84 85]\n",
      " [83 84 85 86]\n",
      " [84 85 86 87]\n",
      " [85 86 87 88]\n",
      " [86 87 88 89]\n",
      " [87 88 89 90]\n",
      " [88 89 90 91]\n",
      " [89 90 91 92]\n",
      " [90 91 92 93]\n",
      " [91 92 93 94]\n",
      " [92 93 94 95]\n",
      " [93 94 95 96]\n",
      " [94 95 96 97]\n",
      " [95 96 97 98]\n",
      " [96 97 98 99]] \n",
      " [  5   6   7   8   9  10  11  12  13  14  15  16  17  18  19  20  21  22\n",
      "  23  24  25  26  27  28  29  30  31  32  33  34  35  36  37  38  39  40\n",
      "  41  42  43  44  45  46  47  48  49  50  51  52  53  54  55  56  57  58\n",
      "  59  60  61  62  63  64  65  66  67  68  69  70  71  72  73  74  75  76\n",
      "  77  78  79  80  81  82  83  84  85  86  87  88  89  90  91  92  93  94\n",
      "  95  96  97  98  99 100]\n"
     ]
    }
   ],
   "source": [
    "def split_x(dataset,timesteps) : \n",
    "    tmp = []\n",
    "    for i in range(len(dataset)-timesteps + 1):\n",
    "        subset = dataset[i : (i+ timesteps)]\n",
    "        tmp.append(subset)\n",
    "    return np.array(tmp)\n",
    "\n",
    "bbb = split_x(a,5)\n",
    "\n",
    "print(bbb.shape)\n",
    "\n",
    "x = bbb[:,:-1]\n",
    "y = bbb[:,-1]\n",
    "\n",
    "print(x,\"\\n\",y)"
   ]
  },
  {
   "cell_type": "code",
   "execution_count": 129,
   "metadata": {},
   "outputs": [
    {
     "name": "stdout",
     "output_type": "stream",
     "text": [
      "(96, 4) (96,)\n"
     ]
    }
   ],
   "source": [
    "print(x.shape,y.shape)"
   ]
  },
  {
   "cell_type": "code",
   "execution_count": 130,
   "metadata": {},
   "outputs": [
    {
     "data": {
      "text/plain": [
       "(96, 4, 1)"
      ]
     },
     "execution_count": 130,
     "metadata": {},
     "output_type": "execute_result"
    }
   ],
   "source": [
    "# 모델을 리쉐이프해서 7개 데이터 를 (3,1) 로 만들자\n",
    "x = x.reshape(len(x),4,1)\n",
    "x.shape"
   ]
  },
  {
   "cell_type": "code",
   "execution_count": 131,
   "metadata": {},
   "outputs": [
    {
     "name": "stdout",
     "output_type": "stream",
     "text": [
      "(96, 4, 1) (96,)\n"
     ]
    }
   ],
   "source": [
    "print(x.shape,y.shape)"
   ]
  },
  {
   "cell_type": "code",
   "execution_count": 132,
   "metadata": {},
   "outputs": [],
   "source": [
    "from sklearn.model_selection import train_test_split\n",
    "x_train, x_test, y_train,y_test = train_test_split(\n",
    "    x,y, shuffle = True,\n",
    "    train_size=0.7,\n",
    "\n",
    "    \n",
    ")"
   ]
  },
  {
   "cell_type": "code",
   "execution_count": 139,
   "metadata": {},
   "outputs": [
    {
     "ename": "SyntaxError",
     "evalue": "closing parenthesis ')' does not match opening parenthesis '[' on line 2 (3378068264.py, line 6)",
     "output_type": "error",
     "traceback": [
      "\u001b[1;36m  File \u001b[1;32m\"C:\\Users\\bitcamp\\AppData\\Local\\Temp\\ipykernel_10028\\3378068264.py\"\u001b[1;36m, line \u001b[1;32m6\u001b[0m\n\u001b[1;33m    GRU(64,input_shape=(4,1),return_sequences=True)),\u001b[0m\n\u001b[1;37m                                                   ^\u001b[0m\n\u001b[1;31mSyntaxError\u001b[0m\u001b[1;31m:\u001b[0m closing parenthesis ')' does not match opening parenthesis '[' on line 2\n"
     ]
    }
   ],
   "source": [
    "# RNN 모델구성\n",
    "model = Sequential([\n",
    "    # input_shape 는 행 무시 \n",
    "    # LSTM 은 3차원을 -> 2차원으로 변환함 flatten 필요없다\n",
    "    # 따라서 LSTM 을 두번쓰면 오류발생\n",
    "    GRU(64,input_shape=(4,1),return_sequences=True),\n",
    "    GRU(32,input_shape=(4,1)),\n",
    "    Dropout(0.2),\n",
    "    Dense(16,activation=\"relu\"),\n",
    "    Dense(1)\n",
    "])\n",
    "# 파라미터의 값 :\n",
    "# RNN x 4 (출력 , 입력 ,삭제게이트)\n",
    "# ( unit 개수 ) * (unit 개수 + feature 개수)*4\n",
    "# 기본 rnn ㅇㅇ이처럼 파라미터의 값이 매우 많아서 연산량이 매우 많다\n",
    "model.summary()"
   ]
  },
  {
   "cell_type": "code",
   "execution_count": 134,
   "metadata": {},
   "outputs": [
    {
     "name": "stdout",
     "output_type": "stream",
     "text": [
      "Epoch 1/100\n",
      "67/67 [==============================] - 1s 4ms/step - loss: 52.5023\n",
      "Epoch 2/100\n",
      "67/67 [==============================] - 0s 4ms/step - loss: 45.7054\n",
      "Epoch 3/100\n",
      "67/67 [==============================] - 0s 3ms/step - loss: 36.4354\n",
      "Epoch 4/100\n",
      "67/67 [==============================] - 0s 3ms/step - loss: 26.5986\n",
      "Epoch 5/100\n",
      "67/67 [==============================] - 0s 3ms/step - loss: 18.8141\n",
      "Epoch 6/100\n",
      "67/67 [==============================] - 0s 3ms/step - loss: 13.2567\n",
      "Epoch 7/100\n",
      "67/67 [==============================] - 0s 3ms/step - loss: 9.5633\n",
      "Epoch 8/100\n",
      "67/67 [==============================] - 0s 4ms/step - loss: 7.5636\n",
      "Epoch 9/100\n",
      "67/67 [==============================] - 0s 3ms/step - loss: 6.8214\n",
      "Epoch 10/100\n",
      "67/67 [==============================] - 0s 3ms/step - loss: 6.7098\n",
      "Epoch 11/100\n",
      "67/67 [==============================] - 0s 4ms/step - loss: 6.5417\n",
      "Epoch 12/100\n",
      "67/67 [==============================] - 0s 3ms/step - loss: 6.2878\n",
      "Epoch 13/100\n",
      "67/67 [==============================] - 0s 3ms/step - loss: 5.1674\n",
      "Epoch 14/100\n",
      "67/67 [==============================] - 0s 3ms/step - loss: 5.3169\n",
      "Epoch 15/100\n",
      "67/67 [==============================] - 0s 3ms/step - loss: 6.2286\n",
      "Epoch 16/100\n",
      "67/67 [==============================] - 0s 3ms/step - loss: 6.1266\n",
      "Epoch 17/100\n",
      "67/67 [==============================] - 0s 3ms/step - loss: 5.2461\n",
      "Epoch 18/100\n",
      "67/67 [==============================] - 0s 3ms/step - loss: 5.3741\n",
      "Epoch 19/100\n",
      "67/67 [==============================] - 0s 3ms/step - loss: 6.2395\n",
      "Epoch 20/100\n",
      "67/67 [==============================] - 0s 3ms/step - loss: 4.7613\n",
      "Epoch 21/100\n",
      "67/67 [==============================] - 0s 3ms/step - loss: 5.2480\n",
      "Epoch 22/100\n",
      "67/67 [==============================] - 0s 3ms/step - loss: 5.7620\n",
      "Epoch 23/100\n",
      "67/67 [==============================] - 0s 3ms/step - loss: 4.7318\n",
      "Epoch 24/100\n",
      "67/67 [==============================] - 0s 4ms/step - loss: 4.6439\n",
      "Epoch 25/100\n",
      "67/67 [==============================] - 0s 4ms/step - loss: 4.7874\n",
      "Epoch 26/100\n",
      "67/67 [==============================] - 0s 4ms/step - loss: 4.2572\n",
      "Epoch 27/100\n",
      "67/67 [==============================] - 0s 3ms/step - loss: 4.2876\n",
      "Epoch 28/100\n",
      "67/67 [==============================] - 0s 3ms/step - loss: 6.1482\n",
      "Epoch 29/100\n",
      "67/67 [==============================] - 0s 3ms/step - loss: 4.7816\n",
      "Epoch 30/100\n",
      "67/67 [==============================] - 0s 3ms/step - loss: 5.1418\n",
      "Epoch 31/100\n",
      "67/67 [==============================] - 0s 4ms/step - loss: 5.5198\n",
      "Epoch 32/100\n",
      "67/67 [==============================] - 0s 3ms/step - loss: 5.1501\n",
      "Epoch 33/100\n",
      "67/67 [==============================] - 0s 3ms/step - loss: 4.4041\n",
      "Epoch 34/100\n",
      "67/67 [==============================] - 0s 3ms/step - loss: 4.8428\n",
      "Epoch 35/100\n",
      "67/67 [==============================] - 0s 3ms/step - loss: 4.7835\n",
      "Epoch 36/100\n",
      "67/67 [==============================] - 0s 3ms/step - loss: 5.5689\n",
      "Epoch 37/100\n",
      "67/67 [==============================] - 0s 3ms/step - loss: 5.0600\n",
      "Epoch 38/100\n",
      "67/67 [==============================] - 0s 3ms/step - loss: 4.9197\n",
      "Epoch 39/100\n",
      "67/67 [==============================] - 0s 3ms/step - loss: 4.3081\n",
      "Epoch 40/100\n",
      "67/67 [==============================] - 0s 3ms/step - loss: 6.1001\n",
      "Epoch 41/100\n",
      "67/67 [==============================] - 0s 3ms/step - loss: 4.7080\n",
      "Epoch 42/100\n",
      "67/67 [==============================] - 0s 3ms/step - loss: 5.2198\n",
      "Epoch 43/100\n",
      "67/67 [==============================] - 0s 3ms/step - loss: 4.9719\n",
      "Epoch 44/100\n",
      "67/67 [==============================] - 0s 3ms/step - loss: 5.1305\n",
      "Epoch 45/100\n",
      "67/67 [==============================] - 0s 3ms/step - loss: 5.5046\n",
      "Epoch 46/100\n",
      "67/67 [==============================] - 0s 3ms/step - loss: 4.7286\n",
      "Epoch 47/100\n",
      "67/67 [==============================] - 0s 3ms/step - loss: 4.7301\n",
      "Epoch 48/100\n",
      "67/67 [==============================] - 0s 3ms/step - loss: 4.2962\n",
      "Epoch 49/100\n",
      "67/67 [==============================] - 0s 4ms/step - loss: 4.4616\n",
      "Epoch 50/100\n",
      "67/67 [==============================] - 0s 3ms/step - loss: 3.9516\n",
      "Epoch 51/100\n",
      "67/67 [==============================] - 0s 3ms/step - loss: 5.0428\n",
      "Epoch 52/100\n",
      "67/67 [==============================] - 0s 3ms/step - loss: 5.1474\n",
      "Epoch 53/100\n",
      "67/67 [==============================] - 0s 3ms/step - loss: 5.8727\n",
      "Epoch 54/100\n",
      "67/67 [==============================] - 0s 3ms/step - loss: 4.6638\n",
      "Epoch 55/100\n",
      "67/67 [==============================] - 0s 3ms/step - loss: 5.1508\n",
      "Epoch 56/100\n",
      "67/67 [==============================] - 0s 3ms/step - loss: 4.1176\n",
      "Epoch 57/100\n",
      "67/67 [==============================] - 0s 3ms/step - loss: 5.0381\n",
      "Epoch 58/100\n",
      "67/67 [==============================] - 0s 3ms/step - loss: 4.4728\n",
      "Epoch 59/100\n",
      "67/67 [==============================] - 0s 3ms/step - loss: 4.2255\n",
      "Epoch 60/100\n",
      "67/67 [==============================] - 0s 3ms/step - loss: 4.9688\n",
      "Epoch 61/100\n",
      "67/67 [==============================] - 0s 3ms/step - loss: 3.8187\n",
      "Epoch 62/100\n",
      "67/67 [==============================] - 0s 3ms/step - loss: 5.2860\n",
      "Epoch 63/100\n",
      "67/67 [==============================] - 0s 3ms/step - loss: 4.6645\n",
      "Epoch 64/100\n",
      "67/67 [==============================] - 0s 3ms/step - loss: 5.0984\n",
      "Epoch 65/100\n",
      "67/67 [==============================] - 0s 3ms/step - loss: 4.2487\n",
      "Epoch 66/100\n",
      "67/67 [==============================] - 0s 3ms/step - loss: 4.8905\n",
      "Epoch 67/100\n",
      "67/67 [==============================] - 0s 3ms/step - loss: 3.8796\n",
      "Epoch 68/100\n",
      "67/67 [==============================] - 0s 3ms/step - loss: 3.9650\n",
      "Epoch 69/100\n",
      "67/67 [==============================] - 0s 3ms/step - loss: 4.2709\n",
      "Epoch 70/100\n",
      "67/67 [==============================] - 0s 3ms/step - loss: 4.6954\n",
      "Epoch 71/100\n",
      "67/67 [==============================] - 0s 3ms/step - loss: 4.4372\n",
      "Epoch 72/100\n",
      "67/67 [==============================] - 0s 4ms/step - loss: 4.7765\n",
      "Epoch 73/100\n",
      "67/67 [==============================] - 0s 3ms/step - loss: 4.5472\n",
      "Epoch 74/100\n",
      "67/67 [==============================] - 0s 3ms/step - loss: 4.0885\n",
      "Epoch 75/100\n",
      "67/67 [==============================] - 0s 3ms/step - loss: 5.0797\n",
      "Epoch 76/100\n",
      "67/67 [==============================] - 0s 3ms/step - loss: 4.8694\n",
      "Epoch 77/100\n",
      "67/67 [==============================] - 0s 3ms/step - loss: 4.1497\n",
      "Epoch 78/100\n",
      "67/67 [==============================] - 0s 3ms/step - loss: 3.3485\n",
      "Epoch 79/100\n",
      "67/67 [==============================] - 0s 3ms/step - loss: 3.9298\n",
      "Epoch 80/100\n",
      "67/67 [==============================] - 0s 3ms/step - loss: 5.0898\n",
      "Epoch 81/100\n",
      "67/67 [==============================] - 0s 3ms/step - loss: 5.3047\n",
      "Epoch 82/100\n",
      "67/67 [==============================] - 0s 3ms/step - loss: 4.3192\n",
      "Epoch 83/100\n",
      "67/67 [==============================] - 0s 3ms/step - loss: 4.3270\n",
      "Epoch 84/100\n",
      "67/67 [==============================] - 0s 3ms/step - loss: 5.3207\n",
      "Epoch 85/100\n",
      "67/67 [==============================] - 0s 3ms/step - loss: 4.6433\n",
      "Epoch 86/100\n",
      "67/67 [==============================] - 0s 3ms/step - loss: 4.4062\n",
      "Epoch 87/100\n",
      "67/67 [==============================] - 0s 3ms/step - loss: 4.1632\n",
      "Epoch 88/100\n",
      "67/67 [==============================] - 0s 3ms/step - loss: 3.9721\n",
      "Epoch 89/100\n",
      "67/67 [==============================] - 0s 3ms/step - loss: 3.7657\n",
      "Epoch 90/100\n",
      "67/67 [==============================] - 0s 3ms/step - loss: 3.6962\n",
      "Epoch 91/100\n",
      "67/67 [==============================] - 0s 3ms/step - loss: 5.0522\n",
      "Epoch 92/100\n",
      "67/67 [==============================] - 0s 3ms/step - loss: 4.0028\n",
      "Epoch 93/100\n",
      "67/67 [==============================] - 0s 3ms/step - loss: 4.4270\n",
      "Epoch 94/100\n",
      "67/67 [==============================] - 0s 3ms/step - loss: 4.2625\n",
      "Epoch 95/100\n",
      "67/67 [==============================] - 0s 3ms/step - loss: 3.9374\n",
      "Epoch 96/100\n",
      "67/67 [==============================] - 0s 3ms/step - loss: 4.3975\n",
      "Epoch 97/100\n",
      "67/67 [==============================] - 0s 3ms/step - loss: 4.8618\n",
      "Epoch 98/100\n",
      "67/67 [==============================] - 0s 3ms/step - loss: 4.3591\n",
      "Epoch 99/100\n",
      "67/67 [==============================] - 0s 4ms/step - loss: 4.2234\n",
      "Epoch 100/100\n",
      "67/67 [==============================] - 0s 4ms/step - loss: 4.3760\n"
     ]
    },
    {
     "data": {
      "text/plain": [
       "<keras.callbacks.History at 0x27ba2f88790>"
      ]
     },
     "execution_count": 134,
     "metadata": {},
     "output_type": "execute_result"
    }
   ],
   "source": [
    "# 컴파일 훈련\n",
    "model.compile(loss=\"mae\",optimizer=\"adam\")\n",
    "model.fit(x_train,y_train,epochs=100,batch_size=1)"
   ]
  },
  {
   "cell_type": "code",
   "execution_count": 135,
   "metadata": {},
   "outputs": [
    {
     "name": "stdout",
     "output_type": "stream",
     "text": [
      "3/3 [==============================] - 0s 2ms/step - loss: 2.2313\n",
      "2.231255531311035\n"
     ]
    }
   ],
   "source": [
    "loss = model.evaluate(x,y)\n",
    "\n",
    "print(loss)"
   ]
  },
  {
   "cell_type": "code",
   "execution_count": 136,
   "metadata": {},
   "outputs": [
    {
     "name": "stdout",
     "output_type": "stream",
     "text": [
      "결과 \n",
      " [[92.54526 ]\n",
      " [93.03537 ]\n",
      " [93.491516]\n",
      " [93.91461 ]\n",
      " [94.30571 ]\n",
      " [94.666016]\n",
      " [94.996826]]\n"
     ]
    }
   ],
   "source": [
    "x_predict = np.array(range(96,106))\n",
    "x_predict = split_x(x_predict,4)\n",
    "# x_predict.shape\n",
    "x_predict = x_predict.reshape(7,4,1)\n",
    "x_predict.shape\n",
    "# (7,4) - > (7,4,1)\n",
    "result = model.predict(x_predict)\n",
    "print(\"결과 \\n\",result)"
   ]
  },
  {
   "cell_type": "code",
   "execution_count": 137,
   "metadata": {},
   "outputs": [
    {
     "name": "stdout",
     "output_type": "stream",
     "text": [
      "(1, 4, 1)\n",
      "결과 [[92.545265]]\n"
     ]
    }
   ],
   "source": [
    "test = np.array([[[96],[97],[98],[99]]])\n",
    "\n",
    "print(test.shape)\n",
    "\n",
    "result = model.predict(test)\n",
    "print(\"결과\",result)"
   ]
  },
  {
   "cell_type": "code",
   "execution_count": 138,
   "metadata": {},
   "outputs": [
    {
     "name": "stdout",
     "output_type": "stream",
     "text": [
      "1/1 [==============================] - 0s 291ms/step - loss: 1.9034\n",
      "1.9034490585327148\n"
     ]
    }
   ],
   "source": [
    "loss = model.evaluate(x_test,y_test)\n",
    "\n",
    "print(loss)\n",
    "\n"
   ]
  }
 ],
 "metadata": {
  "kernelspec": {
   "display_name": "tf274gpu",
   "language": "python",
   "name": "python3"
  },
  "language_info": {
   "codemirror_mode": {
    "name": "ipython",
    "version": 3
   },
   "file_extension": ".py",
   "mimetype": "text/x-python",
   "name": "python",
   "nbconvert_exporter": "python",
   "pygments_lexer": "ipython3",
   "version": "3.9.15"
  },
  "orig_nbformat": 4,
  "vscode": {
   "interpreter": {
    "hash": "10848e9bd3f5e7d93542d388001135334854454e7336dcf54c4ef52885ee0fb0"
   }
  }
 },
 "nbformat": 4,
 "nbformat_minor": 2
}
