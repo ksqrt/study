{
 "cells": [
  {
   "attachments": {},
   "cell_type": "markdown",
   "metadata": {},
   "source": [
    "import numpy as np\n",
    "from tensorflow.keras.models improt Sequential"
   ]
  },
  {
   "cell_type": "code",
   "execution_count": 1,
   "metadata": {},
   "outputs": [],
   "source": [
    "import numpy as np\n",
    "from tensorflow.keras.models import Sequential\n",
    "from tensorflow.keras.layers import Dense,SimpleRNN\n",
    "\n",
    "dataset = np.array([1,2,3,4,5,6,7])"
   ]
  },
  {
   "cell_type": "code",
   "execution_count": 2,
   "metadata": {},
   "outputs": [
    {
     "name": "stdout",
     "output_type": "stream",
     "text": [
      "[[1 2 3]\n",
      " [2 3 4]\n",
      " [3 4 5]\n",
      " [4 5 6]\n",
      " [5 6 7]\n",
      " [6 7 8]\n",
      " [7 8 9]]\n",
      "[ 4  5  6  7  8  9 10]\n"
     ]
    }
   ],
   "source": [
    "x = np.array([[i,i+1,i+2] for i in dataset])\n",
    "y = np.array([i+3 for i in dataset])\n",
    "\n",
    "# x = np.array([\n",
    "#  [1 ,2 ,3],\n",
    "#  [2 ,3 ,4],\n",
    "#  [3 ,4 ,5],\n",
    "#  [4 ,5 ,6],\n",
    "#  [5 ,6 ,7],\n",
    "#  [6 ,7 ,8],\n",
    "#  [7 ,8 ,9]])\n",
    "# y = np.array([4,5,6,7,8,9,10])\n",
    "\n",
    "\n",
    "\n",
    "print(x)\n",
    "print(y)"
   ]
  },
  {
   "cell_type": "code",
   "execution_count": 3,
   "metadata": {},
   "outputs": [
    {
     "name": "stdout",
     "output_type": "stream",
     "text": [
      "(7, 3) (7,)\n"
     ]
    }
   ],
   "source": [
    "print(x.shape,y.shape)"
   ]
  },
  {
   "cell_type": "code",
   "execution_count": 4,
   "metadata": {},
   "outputs": [
    {
     "data": {
      "text/plain": [
       "array([[[1],\n",
       "        [2],\n",
       "        [3]],\n",
       "\n",
       "       [[2],\n",
       "        [3],\n",
       "        [4]],\n",
       "\n",
       "       [[3],\n",
       "        [4],\n",
       "        [5]],\n",
       "\n",
       "       [[4],\n",
       "        [5],\n",
       "        [6]],\n",
       "\n",
       "       [[5],\n",
       "        [6],\n",
       "        [7]],\n",
       "\n",
       "       [[6],\n",
       "        [7],\n",
       "        [8]],\n",
       "\n",
       "       [[7],\n",
       "        [8],\n",
       "        [9]]])"
      ]
     },
     "execution_count": 4,
     "metadata": {},
     "output_type": "execute_result"
    }
   ],
   "source": [
    "# 모델을 리쉐이프해서 7개 데이터 를 (3,1) 로 만들자\n",
    "x = x.reshape(7,3,1)\n",
    "x"
   ]
  },
  {
   "cell_type": "code",
   "execution_count": 5,
   "metadata": {},
   "outputs": [
    {
     "name": "stdout",
     "output_type": "stream",
     "text": [
      "(7, 3, 1) (7,)\n"
     ]
    }
   ],
   "source": [
    "print(x.shape,y.shape)"
   ]
  },
  {
   "cell_type": "code",
   "execution_count": 11,
   "metadata": {},
   "outputs": [
    {
     "name": "stdout",
     "output_type": "stream",
     "text": [
      "Model: \"sequential_2\"\n",
      "_________________________________________________________________\n",
      " Layer (type)                Output Shape              Param #   \n",
      "=================================================================\n",
      " simple_rnn_2 (SimpleRNN)    (None, 64)                4224      \n",
      "                                                                 \n",
      " dense_4 (Dense)             (None, 16)                1040      \n",
      "                                                                 \n",
      " dense_5 (Dense)             (None, 1)                 17        \n",
      "                                                                 \n",
      "=================================================================\n",
      "Total params: 5,281\n",
      "Trainable params: 5,281\n",
      "Non-trainable params: 0\n",
      "_________________________________________________________________\n"
     ]
    }
   ],
   "source": [
    "# RNN 모델구성\n",
    "model = Sequential([\n",
    "    # input_shape 는 행 무시 \n",
    "    SimpleRNN(64,input_shape=(3,1)),\n",
    "    Dense(16,activation=\"relu\"),\n",
    "    Dense(1)\n",
    "])\n",
    "# 파라미터의 값 : \n",
    "# ( unit 개수 ) * (unit 개수 + feature 개수 + 1)\n",
    "# 이처럼 파라미터의 값이 매우 많아서 연산량이 매우 많다"
   ]
  },
  {
   "cell_type": "code",
   "execution_count": 7,
   "metadata": {},
   "outputs": [
    {
     "name": "stdout",
     "output_type": "stream",
     "text": [
      "Epoch 1/100\n",
      "7/7 [==============================] - 5s 4ms/step - loss: 5.5180\n",
      "Epoch 2/100\n",
      "7/7 [==============================] - 0s 3ms/step - loss: 4.1084\n",
      "Epoch 3/100\n",
      "7/7 [==============================] - 0s 4ms/step - loss: 2.9427\n",
      "Epoch 4/100\n",
      "7/7 [==============================] - 0s 4ms/step - loss: 1.8760\n",
      "Epoch 5/100\n",
      "7/7 [==============================] - 0s 5ms/step - loss: 1.8117\n",
      "Epoch 6/100\n",
      "7/7 [==============================] - 0s 5ms/step - loss: 1.4565\n",
      "Epoch 7/100\n",
      "7/7 [==============================] - 0s 5ms/step - loss: 1.4431\n",
      "Epoch 8/100\n",
      "7/7 [==============================] - 0s 5ms/step - loss: 1.4210\n",
      "Epoch 9/100\n",
      "7/7 [==============================] - 0s 4ms/step - loss: 1.3227\n",
      "Epoch 10/100\n",
      "7/7 [==============================] - 0s 5ms/step - loss: 1.2070\n",
      "Epoch 11/100\n",
      "7/7 [==============================] - 0s 4ms/step - loss: 1.1214\n",
      "Epoch 12/100\n",
      "7/7 [==============================] - 0s 5ms/step - loss: 1.0095\n",
      "Epoch 13/100\n",
      "7/7 [==============================] - 0s 4ms/step - loss: 0.9410\n",
      "Epoch 14/100\n",
      "7/7 [==============================] - 0s 4ms/step - loss: 0.8272\n",
      "Epoch 15/100\n",
      "7/7 [==============================] - 0s 4ms/step - loss: 0.6761\n",
      "Epoch 16/100\n",
      "7/7 [==============================] - 0s 5ms/step - loss: 0.5666\n",
      "Epoch 17/100\n",
      "7/7 [==============================] - 0s 4ms/step - loss: 0.4242\n",
      "Epoch 18/100\n",
      "7/7 [==============================] - 0s 4ms/step - loss: 0.5150\n",
      "Epoch 19/100\n",
      "7/7 [==============================] - 0s 4ms/step - loss: 0.3897\n",
      "Epoch 20/100\n",
      "7/7 [==============================] - 0s 4ms/step - loss: 0.3752\n",
      "Epoch 21/100\n",
      "7/7 [==============================] - 0s 4ms/step - loss: 0.3893\n",
      "Epoch 22/100\n",
      "7/7 [==============================] - 0s 4ms/step - loss: 0.4116\n",
      "Epoch 23/100\n",
      "7/7 [==============================] - 0s 5ms/step - loss: 0.3338\n",
      "Epoch 24/100\n",
      "7/7 [==============================] - 0s 5ms/step - loss: 0.3244\n",
      "Epoch 25/100\n",
      "7/7 [==============================] - 0s 4ms/step - loss: 0.3075\n",
      "Epoch 26/100\n",
      "7/7 [==============================] - 0s 4ms/step - loss: 0.2730\n",
      "Epoch 27/100\n",
      "7/7 [==============================] - 0s 4ms/step - loss: 0.2580\n",
      "Epoch 28/100\n",
      "7/7 [==============================] - 0s 4ms/step - loss: 0.2559\n",
      "Epoch 29/100\n",
      "7/7 [==============================] - 0s 4ms/step - loss: 0.3205\n",
      "Epoch 30/100\n",
      "7/7 [==============================] - 0s 4ms/step - loss: 0.3477\n",
      "Epoch 31/100\n",
      "7/7 [==============================] - 0s 4ms/step - loss: 0.3780\n",
      "Epoch 32/100\n",
      "7/7 [==============================] - 0s 4ms/step - loss: 0.2823\n",
      "Epoch 33/100\n",
      "7/7 [==============================] - 0s 4ms/step - loss: 0.3182\n",
      "Epoch 34/100\n",
      "7/7 [==============================] - 0s 4ms/step - loss: 0.4444\n",
      "Epoch 35/100\n",
      "7/7 [==============================] - 0s 4ms/step - loss: 0.1491\n",
      "Epoch 36/100\n",
      "7/7 [==============================] - 0s 4ms/step - loss: 0.1220\n",
      "Epoch 37/100\n",
      "7/7 [==============================] - 0s 5ms/step - loss: 0.1062\n",
      "Epoch 38/100\n",
      "7/7 [==============================] - 0s 4ms/step - loss: 0.1433\n",
      "Epoch 39/100\n",
      "7/7 [==============================] - 0s 4ms/step - loss: 0.1088\n",
      "Epoch 40/100\n",
      "7/7 [==============================] - 0s 4ms/step - loss: 0.2158\n",
      "Epoch 41/100\n",
      "7/7 [==============================] - 0s 4ms/step - loss: 0.1302\n",
      "Epoch 42/100\n",
      "7/7 [==============================] - 0s 4ms/step - loss: 0.0979\n",
      "Epoch 43/100\n",
      "7/7 [==============================] - 0s 4ms/step - loss: 0.1579\n",
      "Epoch 44/100\n",
      "7/7 [==============================] - 0s 4ms/step - loss: 0.1768\n",
      "Epoch 45/100\n",
      "7/7 [==============================] - 0s 4ms/step - loss: 0.1127\n",
      "Epoch 46/100\n",
      "7/7 [==============================] - 0s 4ms/step - loss: 0.0986\n",
      "Epoch 47/100\n",
      "7/7 [==============================] - 0s 4ms/step - loss: 0.2274\n",
      "Epoch 48/100\n",
      "7/7 [==============================] - 0s 5ms/step - loss: 0.0865\n",
      "Epoch 49/100\n",
      "7/7 [==============================] - 0s 4ms/step - loss: 0.1487\n",
      "Epoch 50/100\n",
      "7/7 [==============================] - 0s 4ms/step - loss: 0.2284\n",
      "Epoch 51/100\n",
      "7/7 [==============================] - 0s 3ms/step - loss: 0.1873\n",
      "Epoch 52/100\n",
      "7/7 [==============================] - 0s 3ms/step - loss: 0.1233\n",
      "Epoch 53/100\n",
      "7/7 [==============================] - 0s 3ms/step - loss: 0.1385\n",
      "Epoch 54/100\n",
      "7/7 [==============================] - 0s 3ms/step - loss: 0.0953\n",
      "Epoch 55/100\n",
      "7/7 [==============================] - 0s 4ms/step - loss: 0.2678\n",
      "Epoch 56/100\n",
      "7/7 [==============================] - 0s 4ms/step - loss: 0.2176\n",
      "Epoch 57/100\n",
      "7/7 [==============================] - 0s 4ms/step - loss: 0.1141\n",
      "Epoch 58/100\n",
      "7/7 [==============================] - 0s 5ms/step - loss: 0.0647\n",
      "Epoch 59/100\n",
      "7/7 [==============================] - 0s 4ms/step - loss: 0.0873\n",
      "Epoch 60/100\n",
      "7/7 [==============================] - 0s 4ms/step - loss: 0.1176\n",
      "Epoch 61/100\n",
      "7/7 [==============================] - 0s 4ms/step - loss: 0.2677\n",
      "Epoch 62/100\n",
      "7/7 [==============================] - 0s 4ms/step - loss: 0.1413\n",
      "Epoch 63/100\n",
      "7/7 [==============================] - 0s 4ms/step - loss: 0.1450\n",
      "Epoch 64/100\n",
      "7/7 [==============================] - 0s 4ms/step - loss: 0.1675\n",
      "Epoch 65/100\n",
      "7/7 [==============================] - 0s 4ms/step - loss: 0.0857\n",
      "Epoch 66/100\n",
      "7/7 [==============================] - 0s 4ms/step - loss: 0.1526\n",
      "Epoch 67/100\n",
      "7/7 [==============================] - 0s 4ms/step - loss: 0.1965\n",
      "Epoch 68/100\n",
      "7/7 [==============================] - 0s 3ms/step - loss: 0.1535\n",
      "Epoch 69/100\n",
      "7/7 [==============================] - 0s 4ms/step - loss: 0.0893\n",
      "Epoch 70/100\n",
      "7/7 [==============================] - 0s 3ms/step - loss: 0.0832\n",
      "Epoch 71/100\n",
      "7/7 [==============================] - 0s 3ms/step - loss: 0.0599\n",
      "Epoch 72/100\n",
      "7/7 [==============================] - 0s 4ms/step - loss: 0.1008\n",
      "Epoch 73/100\n",
      "7/7 [==============================] - 0s 3ms/step - loss: 0.2469\n",
      "Epoch 74/100\n",
      "7/7 [==============================] - 0s 4ms/step - loss: 0.1709\n",
      "Epoch 75/100\n",
      "7/7 [==============================] - 0s 3ms/step - loss: 0.0895\n",
      "Epoch 76/100\n",
      "7/7 [==============================] - 0s 3ms/step - loss: 0.2430\n",
      "Epoch 77/100\n",
      "7/7 [==============================] - 0s 3ms/step - loss: 0.1197\n",
      "Epoch 78/100\n",
      "7/7 [==============================] - 0s 4ms/step - loss: 0.0597\n",
      "Epoch 79/100\n",
      "7/7 [==============================] - 0s 3ms/step - loss: 0.1218\n",
      "Epoch 80/100\n",
      "7/7 [==============================] - 0s 3ms/step - loss: 0.0777\n",
      "Epoch 81/100\n",
      "7/7 [==============================] - 0s 3ms/step - loss: 0.0759\n",
      "Epoch 82/100\n",
      "7/7 [==============================] - 0s 3ms/step - loss: 0.0911\n",
      "Epoch 83/100\n",
      "7/7 [==============================] - 0s 4ms/step - loss: 0.0556\n",
      "Epoch 84/100\n",
      "7/7 [==============================] - 0s 3ms/step - loss: 0.0409\n",
      "Epoch 85/100\n",
      "7/7 [==============================] - 0s 5ms/step - loss: 0.0893\n",
      "Epoch 86/100\n",
      "7/7 [==============================] - 0s 4ms/step - loss: 0.0414\n",
      "Epoch 87/100\n",
      "7/7 [==============================] - 0s 4ms/step - loss: 0.1221\n",
      "Epoch 88/100\n",
      "7/7 [==============================] - 0s 4ms/step - loss: 0.1484\n",
      "Epoch 89/100\n",
      "7/7 [==============================] - 0s 4ms/step - loss: 0.0800\n",
      "Epoch 90/100\n",
      "7/7 [==============================] - 0s 4ms/step - loss: 0.0675\n",
      "Epoch 91/100\n",
      "7/7 [==============================] - 0s 4ms/step - loss: 0.0787\n",
      "Epoch 92/100\n",
      "7/7 [==============================] - 0s 5ms/step - loss: 0.1422\n",
      "Epoch 93/100\n",
      "7/7 [==============================] - 0s 4ms/step - loss: 0.0650\n",
      "Epoch 94/100\n",
      "7/7 [==============================] - 0s 4ms/step - loss: 0.0590\n",
      "Epoch 95/100\n",
      "7/7 [==============================] - 0s 5ms/step - loss: 0.0459\n",
      "Epoch 96/100\n",
      "7/7 [==============================] - 0s 4ms/step - loss: 0.0545\n",
      "Epoch 97/100\n",
      "7/7 [==============================] - 0s 3ms/step - loss: 0.0709\n",
      "Epoch 98/100\n",
      "7/7 [==============================] - 0s 4ms/step - loss: 0.1127\n",
      "Epoch 99/100\n",
      "7/7 [==============================] - 0s 4ms/step - loss: 0.2490\n",
      "Epoch 100/100\n",
      "7/7 [==============================] - 0s 3ms/step - loss: 0.2365\n"
     ]
    },
    {
     "data": {
      "text/plain": [
       "<keras.callbacks.History at 0x20abe9bab20>"
      ]
     },
     "execution_count": 7,
     "metadata": {},
     "output_type": "execute_result"
    }
   ],
   "source": [
    "# 컴파일 훈련\n",
    "model.compile(loss=\"mae\",optimizer=\"adam\")\n",
    "model.fit(x,y,epochs=100,batch_size=1)"
   ]
  },
  {
   "cell_type": "code",
   "execution_count": 8,
   "metadata": {},
   "outputs": [
    {
     "name": "stdout",
     "output_type": "stream",
     "text": [
      "1/1 [==============================] - 0s 153ms/step - loss: 0.2677\n",
      "0.26769939064979553\n"
     ]
    }
   ],
   "source": [
    "loss = model.evaluate(x,y)\n",
    "\n",
    "print(loss)\n",
    "\n"
   ]
  },
  {
   "cell_type": "code",
   "execution_count": 9,
   "metadata": {},
   "outputs": [
    {
     "name": "stdout",
     "output_type": "stream",
     "text": [
      "[[8],[9],[10]]의 결과 [[10.410141]]\n"
     ]
    }
   ],
   "source": [
    "test = np.array([[[8],[9],[10]]])\n",
    "result = model.predict(test)\n",
    "print(\"[[8],[9],[10]]의 결과\",result)"
   ]
  }
 ],
 "metadata": {
  "kernelspec": {
   "display_name": "tf274gpu",
   "language": "python",
   "name": "python3"
  },
  "language_info": {
   "codemirror_mode": {
    "name": "ipython",
    "version": 3
   },
   "file_extension": ".py",
   "mimetype": "text/x-python",
   "name": "python",
   "nbconvert_exporter": "python",
   "pygments_lexer": "ipython3",
   "version": "3.9.15 (main, Nov 24 2022, 14:39:17) [MSC v.1916 64 bit (AMD64)]"
  },
  "orig_nbformat": 4,
  "vscode": {
   "interpreter": {
    "hash": "10848e9bd3f5e7d93542d388001135334854454e7336dcf54c4ef52885ee0fb0"
   }
  }
 },
 "nbformat": 4,
 "nbformat_minor": 2
}
