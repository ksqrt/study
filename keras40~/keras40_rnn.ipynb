{
 "cells": [
  {
   "attachments": {},
   "cell_type": "markdown",
   "metadata": {},
   "source": [
    "import numpy as np\n",
    "from tensorflow.keras.models improt Sequential"
   ]
  },
  {
   "cell_type": "code",
   "execution_count": 303,
   "metadata": {},
   "outputs": [],
   "source": [
    "import numpy as np\n",
    "from tensorflow.keras.models import Sequential\n",
    "from tensorflow.keras.layers import Dense,SimpleRNN\n",
    "\n",
    "dataset = np.array([1,2,3,4,5,6,7])"
   ]
  },
  {
   "cell_type": "code",
   "execution_count": 304,
   "metadata": {},
   "outputs": [
    {
     "name": "stdout",
     "output_type": "stream",
     "text": [
      "[[1 2 3]\n",
      " [2 3 4]\n",
      " [3 4 5]\n",
      " [4 5 6]\n",
      " [5 6 7]\n",
      " [6 7 8]\n",
      " [7 8 9]]\n",
      "[ 4  5  6  7  8  9 10]\n"
     ]
    }
   ],
   "source": [
    "x = np.array([[i,i+1,i+2] for i in dataset])\n",
    "y = np.array([i+3 for i in dataset])\n",
    "\n",
    "x = np.array([\n",
    " [1 ,2 ,3],\n",
    " [2 ,3 ,4],\n",
    " [3 ,4 ,5],\n",
    " [4 ,5 ,6],\n",
    " [5 ,6 ,7],\n",
    " [6 ,7 ,8],\n",
    " [7 ,8 ,9]])\n",
    "y = np.array([4,5,6,7,8,9,10])\n",
    "\n",
    "\n",
    "\n",
    "print(x)\n",
    "print(y)"
   ]
  },
  {
   "cell_type": "code",
   "execution_count": 305,
   "metadata": {},
   "outputs": [
    {
     "name": "stdout",
     "output_type": "stream",
     "text": [
      "(7, 3) (7,)\n"
     ]
    }
   ],
   "source": [
    "print(x.shape,y.shape)"
   ]
  },
  {
   "cell_type": "code",
   "execution_count": 306,
   "metadata": {},
   "outputs": [
    {
     "data": {
      "text/plain": [
       "array([[[1],\n",
       "        [2],\n",
       "        [3]],\n",
       "\n",
       "       [[2],\n",
       "        [3],\n",
       "        [4]],\n",
       "\n",
       "       [[3],\n",
       "        [4],\n",
       "        [5]],\n",
       "\n",
       "       [[4],\n",
       "        [5],\n",
       "        [6]],\n",
       "\n",
       "       [[5],\n",
       "        [6],\n",
       "        [7]],\n",
       "\n",
       "       [[6],\n",
       "        [7],\n",
       "        [8]],\n",
       "\n",
       "       [[7],\n",
       "        [8],\n",
       "        [9]]])"
      ]
     },
     "execution_count": 306,
     "metadata": {},
     "output_type": "execute_result"
    }
   ],
   "source": [
    "# 모델을 리쉐이프해서 7개 데이터 를 (3,1) 로 만들자\n",
    "x = x.reshape(7,3,1)\n",
    "x"
   ]
  },
  {
   "cell_type": "code",
   "execution_count": 307,
   "metadata": {},
   "outputs": [
    {
     "name": "stdout",
     "output_type": "stream",
     "text": [
      "(7, 3, 1) (7,)\n"
     ]
    }
   ],
   "source": [
    "print(x.shape,y.shape)"
   ]
  },
  {
   "cell_type": "code",
   "execution_count": 312,
   "metadata": {},
   "outputs": [
    {
     "name": "stdout",
     "output_type": "stream",
     "text": [
      "Model: \"sequential_33\"\n",
      "_________________________________________________________________\n",
      " Layer (type)                Output Shape              Param #   \n",
      "=================================================================\n",
      " simple_rnn_33 (SimpleRNN)   (None, 64)                4224      \n",
      "                                                                 \n",
      " dense_54 (Dense)            (None, 16)                1040      \n",
      "                                                                 \n",
      " dense_55 (Dense)            (None, 1)                 17        \n",
      "                                                                 \n",
      "=================================================================\n",
      "Total params: 5,281\n",
      "Trainable params: 5,281\n",
      "Non-trainable params: 0\n",
      "_________________________________________________________________\n"
     ]
    }
   ],
   "source": [
    "# RNN모델구성\n",
    "model = Sequential([\n",
    "    # input_shape 는 행 무시 \n",
    "    SimpleRNN(64,input_shape=(3,1)),\n",
    "    Dense(16,activation=\"relu\"),\n",
    "    Dense(1)\n",
    "])\n",
    "\n",
    "model.summary()"
   ]
  },
  {
   "cell_type": "code",
   "execution_count": 309,
   "metadata": {},
   "outputs": [
    {
     "name": "stdout",
     "output_type": "stream",
     "text": [
      "Epoch 1/100\n",
      "7/7 [==============================] - 0s 4ms/step - loss: 7.2923\n",
      "Epoch 2/100\n",
      "7/7 [==============================] - 0s 4ms/step - loss: 6.1849\n",
      "Epoch 3/100\n",
      "7/7 [==============================] - 0s 4ms/step - loss: 5.6013\n",
      "Epoch 4/100\n",
      "7/7 [==============================] - 0s 4ms/step - loss: 5.1013\n",
      "Epoch 5/100\n",
      "7/7 [==============================] - 0s 4ms/step - loss: 4.5469\n",
      "Epoch 6/100\n",
      "7/7 [==============================] - 0s 4ms/step - loss: 3.9758\n",
      "Epoch 7/100\n",
      "7/7 [==============================] - 0s 4ms/step - loss: 3.3841\n",
      "Epoch 8/100\n",
      "7/7 [==============================] - 0s 4ms/step - loss: 2.7787\n",
      "Epoch 9/100\n",
      "7/7 [==============================] - 0s 4ms/step - loss: 2.3397\n",
      "Epoch 10/100\n",
      "7/7 [==============================] - 0s 4ms/step - loss: 1.9704\n",
      "Epoch 11/100\n",
      "7/7 [==============================] - 0s 4ms/step - loss: 1.8240\n",
      "Epoch 12/100\n",
      "7/7 [==============================] - 0s 4ms/step - loss: 1.6711\n",
      "Epoch 13/100\n",
      "7/7 [==============================] - 0s 4ms/step - loss: 1.6388\n",
      "Epoch 14/100\n",
      "7/7 [==============================] - 0s 4ms/step - loss: 1.6231\n",
      "Epoch 15/100\n",
      "7/7 [==============================] - 0s 4ms/step - loss: 1.5536\n",
      "Epoch 16/100\n",
      "7/7 [==============================] - 0s 4ms/step - loss: 1.4813\n",
      "Epoch 17/100\n",
      "7/7 [==============================] - 0s 4ms/step - loss: 1.3974\n",
      "Epoch 18/100\n",
      "7/7 [==============================] - 0s 4ms/step - loss: 1.3391\n",
      "Epoch 19/100\n",
      "7/7 [==============================] - 0s 4ms/step - loss: 1.2454\n",
      "Epoch 20/100\n",
      "7/7 [==============================] - 0s 4ms/step - loss: 1.1435\n",
      "Epoch 21/100\n",
      "7/7 [==============================] - 0s 4ms/step - loss: 1.0325\n",
      "Epoch 22/100\n",
      "7/7 [==============================] - 0s 4ms/step - loss: 0.9294\n",
      "Epoch 23/100\n",
      "7/7 [==============================] - 0s 4ms/step - loss: 0.8466\n",
      "Epoch 24/100\n",
      "7/7 [==============================] - 0s 4ms/step - loss: 0.7600\n",
      "Epoch 25/100\n",
      "7/7 [==============================] - 0s 4ms/step - loss: 0.6407\n",
      "Epoch 26/100\n",
      "7/7 [==============================] - 0s 4ms/step - loss: 0.6264\n",
      "Epoch 27/100\n",
      "7/7 [==============================] - 0s 4ms/step - loss: 0.6491\n",
      "Epoch 28/100\n",
      "7/7 [==============================] - 0s 4ms/step - loss: 0.4775\n",
      "Epoch 29/100\n",
      "7/7 [==============================] - 0s 5ms/step - loss: 0.3320\n",
      "Epoch 30/100\n",
      "7/7 [==============================] - 0s 4ms/step - loss: 0.3344\n",
      "Epoch 31/100\n",
      "7/7 [==============================] - 0s 4ms/step - loss: 0.3186\n",
      "Epoch 32/100\n",
      "7/7 [==============================] - 0s 4ms/step - loss: 0.4279\n",
      "Epoch 33/100\n",
      "7/7 [==============================] - 0s 4ms/step - loss: 0.3194\n",
      "Epoch 34/100\n",
      "7/7 [==============================] - 0s 4ms/step - loss: 0.2769\n",
      "Epoch 35/100\n",
      "7/7 [==============================] - 0s 4ms/step - loss: 0.2447\n",
      "Epoch 36/100\n",
      "7/7 [==============================] - 0s 4ms/step - loss: 0.2932\n",
      "Epoch 37/100\n",
      "7/7 [==============================] - 0s 4ms/step - loss: 0.2575\n",
      "Epoch 38/100\n",
      "7/7 [==============================] - 0s 4ms/step - loss: 0.1942\n",
      "Epoch 39/100\n",
      "7/7 [==============================] - 0s 4ms/step - loss: 0.2315\n",
      "Epoch 40/100\n",
      "7/7 [==============================] - 0s 4ms/step - loss: 0.1410\n",
      "Epoch 41/100\n",
      "7/7 [==============================] - 0s 5ms/step - loss: 0.2501\n",
      "Epoch 42/100\n",
      "7/7 [==============================] - 0s 4ms/step - loss: 0.4142\n",
      "Epoch 43/100\n",
      "7/7 [==============================] - 0s 4ms/step - loss: 0.2977\n",
      "Epoch 44/100\n",
      "7/7 [==============================] - 0s 4ms/step - loss: 0.1386\n",
      "Epoch 45/100\n",
      "7/7 [==============================] - 0s 4ms/step - loss: 0.1944\n",
      "Epoch 46/100\n",
      "7/7 [==============================] - 0s 4ms/step - loss: 0.1675\n",
      "Epoch 47/100\n",
      "7/7 [==============================] - 0s 4ms/step - loss: 0.0949\n",
      "Epoch 48/100\n",
      "7/7 [==============================] - 0s 9ms/step - loss: 0.0913\n",
      "Epoch 49/100\n",
      "7/7 [==============================] - 0s 4ms/step - loss: 0.1484\n",
      "Epoch 50/100\n",
      "7/7 [==============================] - 0s 4ms/step - loss: 0.1498\n",
      "Epoch 51/100\n",
      "7/7 [==============================] - 0s 4ms/step - loss: 0.0722\n",
      "Epoch 52/100\n",
      "7/7 [==============================] - 0s 4ms/step - loss: 0.1888\n",
      "Epoch 53/100\n",
      "7/7 [==============================] - 0s 4ms/step - loss: 0.1832\n",
      "Epoch 54/100\n",
      "7/7 [==============================] - 0s 4ms/step - loss: 0.1877\n",
      "Epoch 55/100\n",
      "7/7 [==============================] - 0s 4ms/step - loss: 0.1599\n",
      "Epoch 56/100\n",
      "7/7 [==============================] - 0s 4ms/step - loss: 0.1197\n",
      "Epoch 57/100\n",
      "7/7 [==============================] - 0s 4ms/step - loss: 0.1717\n",
      "Epoch 58/100\n",
      "7/7 [==============================] - 0s 4ms/step - loss: 0.1156\n",
      "Epoch 59/100\n",
      "7/7 [==============================] - 0s 4ms/step - loss: 0.0999\n",
      "Epoch 60/100\n",
      "7/7 [==============================] - 0s 4ms/step - loss: 0.1956\n",
      "Epoch 61/100\n",
      "7/7 [==============================] - 0s 4ms/step - loss: 0.1729\n",
      "Epoch 62/100\n",
      "7/7 [==============================] - 0s 4ms/step - loss: 0.1667\n",
      "Epoch 63/100\n",
      "7/7 [==============================] - 0s 4ms/step - loss: 0.0816\n",
      "Epoch 64/100\n",
      "7/7 [==============================] - 0s 4ms/step - loss: 0.0863\n",
      "Epoch 65/100\n",
      "7/7 [==============================] - 0s 4ms/step - loss: 0.1693\n",
      "Epoch 66/100\n",
      "7/7 [==============================] - 0s 3ms/step - loss: 0.2032\n",
      "Epoch 67/100\n",
      "7/7 [==============================] - 0s 4ms/step - loss: 0.1089\n",
      "Epoch 68/100\n",
      "7/7 [==============================] - 0s 4ms/step - loss: 0.0829\n",
      "Epoch 69/100\n",
      "7/7 [==============================] - 0s 4ms/step - loss: 0.0844\n",
      "Epoch 70/100\n",
      "7/7 [==============================] - 0s 4ms/step - loss: 0.1251\n",
      "Epoch 71/100\n",
      "7/7 [==============================] - 0s 3ms/step - loss: 0.1320\n",
      "Epoch 72/100\n",
      "7/7 [==============================] - 0s 4ms/step - loss: 0.1643\n",
      "Epoch 73/100\n",
      "7/7 [==============================] - 0s 3ms/step - loss: 0.1231\n",
      "Epoch 74/100\n",
      "7/7 [==============================] - 0s 4ms/step - loss: 0.0724\n",
      "Epoch 75/100\n",
      "7/7 [==============================] - 0s 4ms/step - loss: 0.0819\n",
      "Epoch 76/100\n",
      "7/7 [==============================] - 0s 4ms/step - loss: 0.0706\n",
      "Epoch 77/100\n",
      "7/7 [==============================] - 0s 4ms/step - loss: 0.1583\n",
      "Epoch 78/100\n",
      "7/7 [==============================] - 0s 4ms/step - loss: 0.1446\n",
      "Epoch 79/100\n",
      "7/7 [==============================] - 0s 4ms/step - loss: 0.1024\n",
      "Epoch 80/100\n",
      "7/7 [==============================] - 0s 4ms/step - loss: 0.1174\n",
      "Epoch 81/100\n",
      "7/7 [==============================] - 0s 3ms/step - loss: 0.1762\n",
      "Epoch 82/100\n",
      "7/7 [==============================] - 0s 4ms/step - loss: 0.0802\n",
      "Epoch 83/100\n",
      "7/7 [==============================] - 0s 3ms/step - loss: 0.0681\n",
      "Epoch 84/100\n",
      "7/7 [==============================] - 0s 3ms/step - loss: 0.0572\n",
      "Epoch 85/100\n",
      "7/7 [==============================] - 0s 3ms/step - loss: 0.0615\n",
      "Epoch 86/100\n",
      "7/7 [==============================] - 0s 3ms/step - loss: 0.0713\n",
      "Epoch 87/100\n",
      "7/7 [==============================] - 0s 3ms/step - loss: 0.1428\n",
      "Epoch 88/100\n",
      "7/7 [==============================] - 0s 3ms/step - loss: 0.0460\n",
      "Epoch 89/100\n",
      "7/7 [==============================] - 0s 3ms/step - loss: 0.1569\n",
      "Epoch 90/100\n",
      "7/7 [==============================] - 0s 3ms/step - loss: 0.1832\n",
      "Epoch 91/100\n",
      "7/7 [==============================] - 0s 3ms/step - loss: 0.1696\n",
      "Epoch 92/100\n",
      "7/7 [==============================] - 0s 3ms/step - loss: 0.2000\n",
      "Epoch 93/100\n",
      "7/7 [==============================] - 0s 4ms/step - loss: 0.0864\n",
      "Epoch 94/100\n",
      "7/7 [==============================] - 0s 3ms/step - loss: 0.1341\n",
      "Epoch 95/100\n",
      "7/7 [==============================] - 0s 4ms/step - loss: 0.1227\n",
      "Epoch 96/100\n",
      "7/7 [==============================] - 0s 3ms/step - loss: 0.0848\n",
      "Epoch 97/100\n",
      "7/7 [==============================] - 0s 4ms/step - loss: 0.0528\n",
      "Epoch 98/100\n",
      "7/7 [==============================] - 0s 3ms/step - loss: 0.0952\n",
      "Epoch 99/100\n",
      "7/7 [==============================] - 0s 3ms/step - loss: 0.1548\n",
      "Epoch 100/100\n",
      "7/7 [==============================] - 0s 3ms/step - loss: 0.0941\n"
     ]
    },
    {
     "data": {
      "text/plain": [
       "<keras.callbacks.History at 0x235913aa6a0>"
      ]
     },
     "execution_count": 309,
     "metadata": {},
     "output_type": "execute_result"
    }
   ],
   "source": [
    "# 컴파일 훈련\n",
    "model.compile(loss=\"mae\",optimizer=\"adam\")\n",
    "model.fit(x,y,epochs=100,batch_size=1)"
   ]
  },
  {
   "cell_type": "code",
   "execution_count": 310,
   "metadata": {},
   "outputs": [
    {
     "name": "stdout",
     "output_type": "stream",
     "text": [
      "1/1 [==============================] - 0s 126ms/step - loss: 0.0477\n",
      "0.04773541912436485\n"
     ]
    }
   ],
   "source": [
    "loss = model.evaluate(x,y)\n",
    "\n",
    "print(loss)\n",
    "\n"
   ]
  },
  {
   "cell_type": "code",
   "execution_count": 311,
   "metadata": {},
   "outputs": [
    {
     "name": "stdout",
     "output_type": "stream",
     "text": [
      "[[8],[9],[10]]의 결과 [[10.558087]]\n"
     ]
    }
   ],
   "source": [
    "test = np.array([[[8],[9],[10]]])\n",
    "result = model.predict(test)\n",
    "print(\"[[8],[9],[10]]의 결과\",result)"
   ]
  }
 ],
 "metadata": {
  "kernelspec": {
   "display_name": "tf274gpu",
   "language": "python",
   "name": "python3"
  },
  "language_info": {
   "codemirror_mode": {
    "name": "ipython",
    "version": 3
   },
   "file_extension": ".py",
   "mimetype": "text/x-python",
   "name": "python",
   "nbconvert_exporter": "python",
   "pygments_lexer": "ipython3",
   "version": "3.9.15 (main, Nov 24 2022, 14:39:17) [MSC v.1916 64 bit (AMD64)]"
  },
  "orig_nbformat": 4,
  "vscode": {
   "interpreter": {
    "hash": "10848e9bd3f5e7d93542d388001135334854454e7336dcf54c4ef52885ee0fb0"
   }
  }
 },
 "nbformat": 4,
 "nbformat_minor": 2
}
