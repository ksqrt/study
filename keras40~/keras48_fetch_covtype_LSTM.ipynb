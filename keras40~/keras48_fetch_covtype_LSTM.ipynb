{
 "cells": [
  {
   "cell_type": "code",
   "execution_count": 37,
   "metadata": {},
   "outputs": [],
   "source": [
    "import numpy as np\n",
    "import pandas as pd\n",
    "from sklearn.datasets import fetch_covtype\n",
    "from tensorflow.keras.models import Sequential\n",
    "from tensorflow.keras.layers import Dense,SimpleRNN,LSTM,GRU,Dropout\n",
    "# 1. 데이터 \n",
    "datasets = (fetch_covtype())\n",
    "\n",
    "x = pd.DataFrame(datasets[\"data\"])\n",
    "y = (datasets[\"target\"])"
   ]
  },
  {
   "cell_type": "code",
   "execution_count": 38,
   "metadata": {},
   "outputs": [
    {
     "name": "stdout",
     "output_type": "stream",
     "text": [
      "[[[2.596e+03 5.100e+01 3.000e+00 ... 0.000e+00 0.000e+00 0.000e+00]\n",
      "  [2.590e+03 5.600e+01 2.000e+00 ... 0.000e+00 0.000e+00 0.000e+00]\n",
      "  [2.804e+03 1.390e+02 9.000e+00 ... 0.000e+00 0.000e+00 0.000e+00]\n",
      "  [2.785e+03 1.550e+02 1.800e+01 ... 0.000e+00 0.000e+00 0.000e+00]\n",
      "  [2.595e+03 4.500e+01 2.000e+00 ... 0.000e+00 0.000e+00 0.000e+00]]\n",
      "\n",
      " [[2.590e+03 5.600e+01 2.000e+00 ... 0.000e+00 0.000e+00 0.000e+00]\n",
      "  [2.804e+03 1.390e+02 9.000e+00 ... 0.000e+00 0.000e+00 0.000e+00]\n",
      "  [2.785e+03 1.550e+02 1.800e+01 ... 0.000e+00 0.000e+00 0.000e+00]\n",
      "  [2.595e+03 4.500e+01 2.000e+00 ... 0.000e+00 0.000e+00 0.000e+00]\n",
      "  [2.579e+03 1.320e+02 6.000e+00 ... 0.000e+00 0.000e+00 0.000e+00]]\n",
      "\n",
      " [[2.804e+03 1.390e+02 9.000e+00 ... 0.000e+00 0.000e+00 0.000e+00]\n",
      "  [2.785e+03 1.550e+02 1.800e+01 ... 0.000e+00 0.000e+00 0.000e+00]\n",
      "  [2.595e+03 4.500e+01 2.000e+00 ... 0.000e+00 0.000e+00 0.000e+00]\n",
      "  [2.579e+03 1.320e+02 6.000e+00 ... 0.000e+00 0.000e+00 0.000e+00]\n",
      "  [2.606e+03 4.500e+01 7.000e+00 ... 0.000e+00 0.000e+00 0.000e+00]]\n",
      "\n",
      " ...\n",
      "\n",
      " [[2.405e+03 1.590e+02 2.200e+01 ... 0.000e+00 0.000e+00 0.000e+00]\n",
      "  [2.401e+03 1.570e+02 2.100e+01 ... 0.000e+00 0.000e+00 0.000e+00]\n",
      "  [2.396e+03 1.530e+02 2.000e+01 ... 0.000e+00 0.000e+00 0.000e+00]\n",
      "  [2.391e+03 1.520e+02 1.900e+01 ... 0.000e+00 0.000e+00 0.000e+00]\n",
      "  [2.386e+03 1.590e+02 1.700e+01 ... 0.000e+00 0.000e+00 0.000e+00]]\n",
      "\n",
      " [[2.401e+03 1.570e+02 2.100e+01 ... 0.000e+00 0.000e+00 0.000e+00]\n",
      "  [2.396e+03 1.530e+02 2.000e+01 ... 0.000e+00 0.000e+00 0.000e+00]\n",
      "  [2.391e+03 1.520e+02 1.900e+01 ... 0.000e+00 0.000e+00 0.000e+00]\n",
      "  [2.386e+03 1.590e+02 1.700e+01 ... 0.000e+00 0.000e+00 0.000e+00]\n",
      "  [2.384e+03 1.700e+02 1.500e+01 ... 0.000e+00 0.000e+00 0.000e+00]]\n",
      "\n",
      " [[2.396e+03 1.530e+02 2.000e+01 ... 0.000e+00 0.000e+00 0.000e+00]\n",
      "  [2.391e+03 1.520e+02 1.900e+01 ... 0.000e+00 0.000e+00 0.000e+00]\n",
      "  [2.386e+03 1.590e+02 1.700e+01 ... 0.000e+00 0.000e+00 0.000e+00]\n",
      "  [2.384e+03 1.700e+02 1.500e+01 ... 0.000e+00 0.000e+00 0.000e+00]\n",
      "  [2.383e+03 1.650e+02 1.300e+01 ... 0.000e+00 0.000e+00 0.000e+00]]] \n",
      " [[5 5 2 2 5]\n",
      " [5 2 2 5 2]\n",
      " [2 2 5 2 5]\n",
      " ...\n",
      " [3 3 3 3 3]\n",
      " [3 3 3 3 3]\n",
      " [3 3 3 3 3]]\n"
     ]
    }
   ],
   "source": [
    "def split_x(dataset,timesteps) : \n",
    "    tmp = []\n",
    "    for i in range(len(dataset)-timesteps + 1):\n",
    "        subset = dataset[i : (i+ timesteps)]\n",
    "        tmp.append(subset)\n",
    "    return np.array(tmp)\n",
    "\n",
    "x = split_x(x,5)\n",
    "y = split_x(y,5)\n",
    "\n",
    "print(x,\"\\n\",y)"
   ]
  },
  {
   "cell_type": "code",
   "execution_count": 39,
   "metadata": {},
   "outputs": [
    {
     "name": "stdout",
     "output_type": "stream",
     "text": [
      "(581008, 5, 54) (581008, 5)\n"
     ]
    }
   ],
   "source": [
    "print(x.shape,y.shape)"
   ]
  },
  {
   "cell_type": "code",
   "execution_count": 40,
   "metadata": {},
   "outputs": [],
   "source": [
    "# 모델을 리쉐이프해서 7개 데이터 를 (3,1) 로 만들자\n",
    "# x = x.reshape(len(x),4,4,1)\n",
    "# print(x.shape)\n",
    "# print(x)"
   ]
  },
  {
   "cell_type": "code",
   "execution_count": 41,
   "metadata": {},
   "outputs": [
    {
     "name": "stdout",
     "output_type": "stream",
     "text": [
      "(581008, 5, 54) (581008, 5)\n"
     ]
    }
   ],
   "source": [
    "from sklearn.model_selection import train_test_split\n",
    "x_train, x_test, y_train,y_test = train_test_split(\n",
    "    x,y, shuffle = True,\n",
    "    train_size=0.7,\n",
    "    \n",
    ")\n",
    "print(x.shape,y.shape)\n"
   ]
  },
  {
   "cell_type": "code",
   "execution_count": 42,
   "metadata": {},
   "outputs": [
    {
     "name": "stdout",
     "output_type": "stream",
     "text": [
      "Model: \"sequential_3\"\n",
      "_________________________________________________________________\n",
      " Layer (type)                Output Shape              Param #   \n",
      "=================================================================\n",
      " lstm_1 (LSTM)               (None, 64)                30464     \n",
      "                                                                 \n",
      " dropout_1 (Dropout)         (None, 64)                0         \n",
      "                                                                 \n",
      " dense_6 (Dense)             (None, 16)                1040      \n",
      "                                                                 \n",
      " dense_7 (Dense)             (None, 1)                 17        \n",
      "                                                                 \n",
      "=================================================================\n",
      "Total params: 31,521\n",
      "Trainable params: 31,521\n",
      "Non-trainable params: 0\n",
      "_________________________________________________________________\n"
     ]
    }
   ],
   "source": [
    "# RNN 모델구성\n",
    "model = Sequential([\n",
    "    # input_shape 는 행 무시 \n",
    "    # LSTM 은 3차원을 -> 2차원으로 변환함 flatten 필요없다\n",
    "    # 따라서 LSTM 을 두번쓰면 오류발생\n",
    "    LSTM(64,input_shape=(5,54)),\n",
    "    Dropout(0.2),\n",
    "    Dense(16,activation=\"relu\"),\n",
    "    Dense(1)\n",
    "])\n",
    "# 파라미터의 값 :\n",
    "# RNN x 4 (출력 , 입력 ,삭제게이트)\n",
    "# ( unit 개수 ) * (unit 개수 + feature 개수)*4\n",
    "# 기본 rnn ㅇㅇ이처럼 파라미터의 값이 매우 많아서 연산량이 매우 많다\n",
    "model.summary()"
   ]
  },
  {
   "cell_type": "code",
   "execution_count": 44,
   "metadata": {},
   "outputs": [
    {
     "name": "stdout",
     "output_type": "stream",
     "text": [
      "Epoch 1/10\n",
      "3178/3178 [==============================] - 15s 4ms/step - loss: 0.7501\n",
      "Epoch 2/10\n",
      "3178/3178 [==============================] - 14s 4ms/step - loss: 0.7335\n",
      "Epoch 3/10\n",
      "3178/3178 [==============================] - 14s 4ms/step - loss: 0.7309\n",
      "Epoch 4/10\n",
      "3178/3178 [==============================] - 14s 5ms/step - loss: 0.7274\n",
      "Epoch 5/10\n",
      "3178/3178 [==============================] - 14s 4ms/step - loss: 0.7314\n",
      "Epoch 6/10\n",
      "3178/3178 [==============================] - 14s 4ms/step - loss: 0.7284\n",
      "Epoch 7/10\n",
      "3178/3178 [==============================] - 14s 4ms/step - loss: 0.7258\n",
      "Epoch 8/10\n",
      "3178/3178 [==============================] - 14s 4ms/step - loss: 0.7270\n",
      "Epoch 9/10\n",
      "3178/3178 [==============================] - 14s 4ms/step - loss: 0.7254\n",
      "Epoch 10/10\n",
      "3178/3178 [==============================] - 15s 5ms/step - loss: 0.7243\n"
     ]
    },
    {
     "data": {
      "text/plain": [
       "<keras.callbacks.History at 0x2281d627a60>"
      ]
     },
     "execution_count": 44,
     "metadata": {},
     "output_type": "execute_result"
    }
   ],
   "source": [
    "# 컴파일 훈련\n",
    "model.compile(loss=\"mae\",optimizer=\"adam\")\n",
    "model.fit(x_train,y_train,epochs=10,batch_size=128)"
   ]
  },
  {
   "cell_type": "code",
   "execution_count": 45,
   "metadata": {},
   "outputs": [
    {
     "name": "stdout",
     "output_type": "stream",
     "text": [
      "5447/5447 [==============================] - 13s 2ms/step - loss: 0.7201\n",
      "0.7201328277587891\n"
     ]
    }
   ],
   "source": [
    "loss = model.evaluate(x_test,y_test)\n",
    "\n",
    "print(loss)"
   ]
  }
 ],
 "metadata": {
  "kernelspec": {
   "display_name": "tf274gpu",
   "language": "python",
   "name": "python3"
  },
  "language_info": {
   "codemirror_mode": {
    "name": "ipython",
    "version": 3
   },
   "file_extension": ".py",
   "mimetype": "text/x-python",
   "name": "python",
   "nbconvert_exporter": "python",
   "pygments_lexer": "ipython3",
   "version": "3.9.15 (main, Nov 24 2022, 14:39:17) [MSC v.1916 64 bit (AMD64)]"
  },
  "orig_nbformat": 4,
  "vscode": {
   "interpreter": {
    "hash": "10848e9bd3f5e7d93542d388001135334854454e7336dcf54c4ef52885ee0fb0"
   }
  }
 },
 "nbformat": 4,
 "nbformat_minor": 2
}
