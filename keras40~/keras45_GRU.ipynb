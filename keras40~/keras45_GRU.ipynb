{
 "cells": [
  {
   "cell_type": "code",
   "execution_count": 2,
   "metadata": {},
   "outputs": [],
   "source": [
    "import numpy as np\n",
    "from tensorflow.keras.models import Sequential\n",
    "from tensorflow.keras.layers import Dense,SimpleRNN,LSTM,GRU\n",
    "\n",
    "dataset = np.array([1,2,3,4,5,6,7])"
   ]
  },
  {
   "cell_type": "code",
   "execution_count": 3,
   "metadata": {},
   "outputs": [
    {
     "name": "stdout",
     "output_type": "stream",
     "text": [
      "[[ 1  2  3]\n",
      " [ 2  3  4]\n",
      " [ 3  4  5]\n",
      " [ 4  5  6]\n",
      " [ 5  6  7]\n",
      " [ 6  7  8]\n",
      " [ 7  8  9]\n",
      " [ 8  9 10]\n",
      " [20 30 40]\n",
      " [30 40 50]\n",
      " [40 50 60]]\n",
      "[ 4  5  6  7  8  9 10 11 50 60 70]\n"
     ]
    }
   ],
   "source": [
    "# x = np.array([[i,i+1,i+2] for i in dataset])\n",
    "# y = np.array([i+3 for i in dataset])\n",
    "\n",
    "x = np.array([\n",
    " [1 ,2 ,3],\n",
    " [2 ,3 ,4],\n",
    " [3 ,4 ,5],\n",
    " [4 ,5 ,6],\n",
    " [5 ,6 ,7],\n",
    " [6 ,7 ,8],\n",
    " [7 ,8 ,9],\n",
    " [8,9,10],\n",
    " [20,30,40],\n",
    " [30,40,50],\n",
    " [40,50,60]])\n",
    "\n",
    "y = np.array([4,5,6,7,8,9,10,11,50,60,70])\n",
    "\n",
    "\n",
    "\n",
    "print(x)\n",
    "print(y)"
   ]
  },
  {
   "cell_type": "code",
   "execution_count": 4,
   "metadata": {},
   "outputs": [
    {
     "name": "stdout",
     "output_type": "stream",
     "text": [
      "(11, 3) (11,)\n"
     ]
    }
   ],
   "source": [
    "print(x.shape,y.shape)"
   ]
  },
  {
   "cell_type": "code",
   "execution_count": 5,
   "metadata": {},
   "outputs": [
    {
     "data": {
      "text/plain": [
       "array([[[ 1],\n",
       "        [ 2],\n",
       "        [ 3]],\n",
       "\n",
       "       [[ 2],\n",
       "        [ 3],\n",
       "        [ 4]],\n",
       "\n",
       "       [[ 3],\n",
       "        [ 4],\n",
       "        [ 5]],\n",
       "\n",
       "       [[ 4],\n",
       "        [ 5],\n",
       "        [ 6]],\n",
       "\n",
       "       [[ 5],\n",
       "        [ 6],\n",
       "        [ 7]],\n",
       "\n",
       "       [[ 6],\n",
       "        [ 7],\n",
       "        [ 8]],\n",
       "\n",
       "       [[ 7],\n",
       "        [ 8],\n",
       "        [ 9]],\n",
       "\n",
       "       [[ 8],\n",
       "        [ 9],\n",
       "        [10]],\n",
       "\n",
       "       [[20],\n",
       "        [30],\n",
       "        [40]],\n",
       "\n",
       "       [[30],\n",
       "        [40],\n",
       "        [50]],\n",
       "\n",
       "       [[40],\n",
       "        [50],\n",
       "        [60]]])"
      ]
     },
     "execution_count": 5,
     "metadata": {},
     "output_type": "execute_result"
    }
   ],
   "source": [
    "# 모델을 리쉐이프해서 7개 데이터 를 (3,1) 로 만들자\n",
    "x = x.reshape(len(x),3,1)\n",
    "x"
   ]
  },
  {
   "cell_type": "code",
   "execution_count": 6,
   "metadata": {},
   "outputs": [
    {
     "name": "stdout",
     "output_type": "stream",
     "text": [
      "(11, 3, 1) (11,)\n"
     ]
    }
   ],
   "source": [
    "print(x.shape,y.shape)"
   ]
  },
  {
   "cell_type": "code",
   "execution_count": 11,
   "metadata": {},
   "outputs": [
    {
     "ename": "ValueError",
     "evalue": "Input 0 of layer \"lstm_2\" is incompatible with the layer: expected ndim=3, found ndim=2. Full shape received: (None, 128)",
     "output_type": "error",
     "traceback": [
      "\u001b[1;31m---------------------------------------------------------------------------\u001b[0m",
      "\u001b[1;31mValueError\u001b[0m                                Traceback (most recent call last)",
      "\u001b[1;32m~\\AppData\\Local\\Temp\\ipykernel_12032\\301410652.py\u001b[0m in \u001b[0;36m<module>\u001b[1;34m\u001b[0m\n\u001b[0;32m      1\u001b[0m \u001b[1;31m# RNN 모델구성\u001b[0m\u001b[1;33m\u001b[0m\u001b[1;33m\u001b[0m\u001b[0m\n\u001b[1;32m----> 2\u001b[1;33m model = Sequential([\n\u001b[0m\u001b[0;32m      3\u001b[0m     \u001b[1;31m# input_shape 는 행 무시\u001b[0m\u001b[1;33m\u001b[0m\u001b[1;33m\u001b[0m\u001b[0m\n\u001b[0;32m      4\u001b[0m     \u001b[0mLSTM\u001b[0m\u001b[1;33m(\u001b[0m\u001b[1;36m128\u001b[0m\u001b[1;33m,\u001b[0m\u001b[0minput_shape\u001b[0m\u001b[1;33m=\u001b[0m\u001b[1;33m(\u001b[0m\u001b[1;36m3\u001b[0m\u001b[1;33m,\u001b[0m\u001b[1;36m1\u001b[0m\u001b[1;33m)\u001b[0m\u001b[1;33m)\u001b[0m\u001b[1;33m,\u001b[0m\u001b[1;33m\u001b[0m\u001b[1;33m\u001b[0m\u001b[0m\n\u001b[0;32m      5\u001b[0m     \u001b[0mLSTM\u001b[0m\u001b[1;33m(\u001b[0m\u001b[1;36m65\u001b[0m\u001b[1;33m)\u001b[0m\u001b[1;33m,\u001b[0m\u001b[1;33m\u001b[0m\u001b[1;33m\u001b[0m\u001b[0m\n",
      "\u001b[1;32mc:\\Users\\bitcamp\\anaconda3\\envs\\tf274gpu\\lib\\site-packages\\tensorflow\\python\\training\\tracking\\base.py\u001b[0m in \u001b[0;36m_method_wrapper\u001b[1;34m(self, *args, **kwargs)\u001b[0m\n\u001b[0;32m    528\u001b[0m     \u001b[0mself\u001b[0m\u001b[1;33m.\u001b[0m\u001b[0m_self_setattr_tracking\u001b[0m \u001b[1;33m=\u001b[0m \u001b[1;32mFalse\u001b[0m  \u001b[1;31m# pylint: disable=protected-access\u001b[0m\u001b[1;33m\u001b[0m\u001b[1;33m\u001b[0m\u001b[0m\n\u001b[0;32m    529\u001b[0m     \u001b[1;32mtry\u001b[0m\u001b[1;33m:\u001b[0m\u001b[1;33m\u001b[0m\u001b[1;33m\u001b[0m\u001b[0m\n\u001b[1;32m--> 530\u001b[1;33m       \u001b[0mresult\u001b[0m \u001b[1;33m=\u001b[0m \u001b[0mmethod\u001b[0m\u001b[1;33m(\u001b[0m\u001b[0mself\u001b[0m\u001b[1;33m,\u001b[0m \u001b[1;33m*\u001b[0m\u001b[0margs\u001b[0m\u001b[1;33m,\u001b[0m \u001b[1;33m**\u001b[0m\u001b[0mkwargs\u001b[0m\u001b[1;33m)\u001b[0m\u001b[1;33m\u001b[0m\u001b[1;33m\u001b[0m\u001b[0m\n\u001b[0m\u001b[0;32m    531\u001b[0m     \u001b[1;32mfinally\u001b[0m\u001b[1;33m:\u001b[0m\u001b[1;33m\u001b[0m\u001b[1;33m\u001b[0m\u001b[0m\n\u001b[0;32m    532\u001b[0m       \u001b[0mself\u001b[0m\u001b[1;33m.\u001b[0m\u001b[0m_self_setattr_tracking\u001b[0m \u001b[1;33m=\u001b[0m \u001b[0mprevious_value\u001b[0m  \u001b[1;31m# pylint: disable=protected-access\u001b[0m\u001b[1;33m\u001b[0m\u001b[1;33m\u001b[0m\u001b[0m\n",
      "\u001b[1;32mc:\\Users\\bitcamp\\anaconda3\\envs\\tf274gpu\\lib\\site-packages\\keras\\utils\\traceback_utils.py\u001b[0m in \u001b[0;36merror_handler\u001b[1;34m(*args, **kwargs)\u001b[0m\n\u001b[0;32m     65\u001b[0m     \u001b[1;32mexcept\u001b[0m \u001b[0mException\u001b[0m \u001b[1;32mas\u001b[0m \u001b[0me\u001b[0m\u001b[1;33m:\u001b[0m  \u001b[1;31m# pylint: disable=broad-except\u001b[0m\u001b[1;33m\u001b[0m\u001b[1;33m\u001b[0m\u001b[0m\n\u001b[0;32m     66\u001b[0m       \u001b[0mfiltered_tb\u001b[0m \u001b[1;33m=\u001b[0m \u001b[0m_process_traceback_frames\u001b[0m\u001b[1;33m(\u001b[0m\u001b[0me\u001b[0m\u001b[1;33m.\u001b[0m\u001b[0m__traceback__\u001b[0m\u001b[1;33m)\u001b[0m\u001b[1;33m\u001b[0m\u001b[1;33m\u001b[0m\u001b[0m\n\u001b[1;32m---> 67\u001b[1;33m       \u001b[1;32mraise\u001b[0m \u001b[0me\u001b[0m\u001b[1;33m.\u001b[0m\u001b[0mwith_traceback\u001b[0m\u001b[1;33m(\u001b[0m\u001b[0mfiltered_tb\u001b[0m\u001b[1;33m)\u001b[0m \u001b[1;32mfrom\u001b[0m \u001b[1;32mNone\u001b[0m\u001b[1;33m\u001b[0m\u001b[1;33m\u001b[0m\u001b[0m\n\u001b[0m\u001b[0;32m     68\u001b[0m     \u001b[1;32mfinally\u001b[0m\u001b[1;33m:\u001b[0m\u001b[1;33m\u001b[0m\u001b[1;33m\u001b[0m\u001b[0m\n\u001b[0;32m     69\u001b[0m       \u001b[1;32mdel\u001b[0m \u001b[0mfiltered_tb\u001b[0m\u001b[1;33m\u001b[0m\u001b[1;33m\u001b[0m\u001b[0m\n",
      "\u001b[1;32mc:\\Users\\bitcamp\\anaconda3\\envs\\tf274gpu\\lib\\site-packages\\keras\\engine\\input_spec.py\u001b[0m in \u001b[0;36massert_input_compatibility\u001b[1;34m(input_spec, inputs, layer_name)\u001b[0m\n\u001b[0;32m    211\u001b[0m       \u001b[0mndim\u001b[0m \u001b[1;33m=\u001b[0m \u001b[0mshape\u001b[0m\u001b[1;33m.\u001b[0m\u001b[0mrank\u001b[0m\u001b[1;33m\u001b[0m\u001b[1;33m\u001b[0m\u001b[0m\n\u001b[0;32m    212\u001b[0m       \u001b[1;32mif\u001b[0m \u001b[0mndim\u001b[0m \u001b[1;33m!=\u001b[0m \u001b[0mspec\u001b[0m\u001b[1;33m.\u001b[0m\u001b[0mndim\u001b[0m\u001b[1;33m:\u001b[0m\u001b[1;33m\u001b[0m\u001b[1;33m\u001b[0m\u001b[0m\n\u001b[1;32m--> 213\u001b[1;33m         raise ValueError(f'Input {input_index} of layer \"{layer_name}\" '\n\u001b[0m\u001b[0;32m    214\u001b[0m                          \u001b[1;34m'is incompatible with the layer: '\u001b[0m\u001b[1;33m\u001b[0m\u001b[1;33m\u001b[0m\u001b[0m\n\u001b[0;32m    215\u001b[0m                          \u001b[1;34mf'expected ndim={spec.ndim}, found ndim={ndim}. '\u001b[0m\u001b[1;33m\u001b[0m\u001b[1;33m\u001b[0m\u001b[0m\n",
      "\u001b[1;31mValueError\u001b[0m: Input 0 of layer \"lstm_2\" is incompatible with the layer: expected ndim=3, found ndim=2. Full shape received: (None, 128)"
     ]
    }
   ],
   "source": [
    "# RNN 모델구성\n",
    "model = Sequential([\n",
    "    # input_shape 는 행 무시 \n",
    "    # LSTM 은 3차원을 -> 2차원으로 변환함 flatten 필요없다\n",
    "    # 따라서 LSTM 을 두번쓰면 오류발생\n",
    "    LSTM(128,input_shape=(3,1)),\n",
    "    LSTM(64),\n",
    "    Dense(16,activation=\"relu\"),\n",
    "    Dense(1)\n",
    "])\n",
    "# 파라미터의 값 :\n",
    "# RNN x 4 (출력 , 입력 ,삭제게이트)\n",
    "# ( unit 개수 ) * (unit 개수 + feature 개수)*4\n",
    "# 기본 rnn ㅇㅇ이처럼 파라미터의 값이 매우 많아서 연산량이 매우 많다\n",
    "model.summary()"
   ]
  },
  {
   "cell_type": "code",
   "execution_count": 8,
   "metadata": {},
   "outputs": [
    {
     "name": "stdout",
     "output_type": "stream",
     "text": [
      "Epoch 1/100\n",
      "11/11 [==============================] - 3s 4ms/step - loss: 21.1435\n",
      "Epoch 2/100\n",
      "11/11 [==============================] - 0s 4ms/step - loss: 19.9417\n",
      "Epoch 3/100\n",
      "11/11 [==============================] - 0s 4ms/step - loss: 18.1870\n",
      "Epoch 4/100\n",
      "11/11 [==============================] - 0s 4ms/step - loss: 15.5293\n",
      "Epoch 5/100\n",
      "11/11 [==============================] - 0s 4ms/step - loss: 14.7289\n",
      "Epoch 6/100\n",
      "11/11 [==============================] - 0s 4ms/step - loss: 14.0070\n",
      "Epoch 7/100\n",
      "11/11 [==============================] - 0s 4ms/step - loss: 13.5726\n",
      "Epoch 8/100\n",
      "11/11 [==============================] - 0s 4ms/step - loss: 13.3487\n",
      "Epoch 9/100\n",
      "11/11 [==============================] - 0s 4ms/step - loss: 13.1801\n",
      "Epoch 10/100\n",
      "11/11 [==============================] - 0s 4ms/step - loss: 12.7978\n",
      "Epoch 11/100\n",
      "11/11 [==============================] - 0s 4ms/step - loss: 12.6226\n",
      "Epoch 12/100\n",
      "11/11 [==============================] - 0s 4ms/step - loss: 12.2842\n",
      "Epoch 13/100\n",
      "11/11 [==============================] - 0s 6ms/step - loss: 12.0869\n",
      "Epoch 14/100\n",
      "11/11 [==============================] - 0s 4ms/step - loss: 11.8912\n",
      "Epoch 15/100\n",
      "11/11 [==============================] - 0s 4ms/step - loss: 11.6208\n",
      "Epoch 16/100\n",
      "11/11 [==============================] - 0s 4ms/step - loss: 11.3240\n",
      "Epoch 17/100\n",
      "11/11 [==============================] - 0s 4ms/step - loss: 10.9918\n",
      "Epoch 18/100\n",
      "11/11 [==============================] - 0s 4ms/step - loss: 10.6427\n",
      "Epoch 19/100\n",
      "11/11 [==============================] - 0s 5ms/step - loss: 10.4264\n",
      "Epoch 20/100\n",
      "11/11 [==============================] - 0s 4ms/step - loss: 9.9236\n",
      "Epoch 21/100\n",
      "11/11 [==============================] - 0s 4ms/step - loss: 9.6499\n",
      "Epoch 22/100\n",
      "11/11 [==============================] - 0s 4ms/step - loss: 9.3839\n",
      "Epoch 23/100\n",
      "11/11 [==============================] - 0s 4ms/step - loss: 8.7277\n",
      "Epoch 24/100\n",
      "11/11 [==============================] - 0s 4ms/step - loss: 8.4024\n",
      "Epoch 25/100\n",
      "11/11 [==============================] - 0s 4ms/step - loss: 7.9238\n",
      "Epoch 26/100\n",
      "11/11 [==============================] - 0s 5ms/step - loss: 7.6336\n",
      "Epoch 27/100\n",
      "11/11 [==============================] - 0s 4ms/step - loss: 6.9515\n",
      "Epoch 28/100\n",
      "11/11 [==============================] - 0s 4ms/step - loss: 6.7504\n",
      "Epoch 29/100\n",
      "11/11 [==============================] - 0s 4ms/step - loss: 6.0251\n",
      "Epoch 30/100\n",
      "11/11 [==============================] - 0s 4ms/step - loss: 5.5525\n",
      "Epoch 31/100\n",
      "11/11 [==============================] - 0s 4ms/step - loss: 4.9360\n",
      "Epoch 32/100\n",
      "11/11 [==============================] - 0s 5ms/step - loss: 4.2785\n",
      "Epoch 33/100\n",
      "11/11 [==============================] - 0s 5ms/step - loss: 3.7973\n",
      "Epoch 34/100\n",
      "11/11 [==============================] - 0s 4ms/step - loss: 3.3633\n",
      "Epoch 35/100\n",
      "11/11 [==============================] - 0s 4ms/step - loss: 2.9593\n",
      "Epoch 36/100\n",
      "11/11 [==============================] - 0s 4ms/step - loss: 2.9175\n",
      "Epoch 37/100\n",
      "11/11 [==============================] - 0s 4ms/step - loss: 2.4722\n",
      "Epoch 38/100\n",
      "11/11 [==============================] - 0s 4ms/step - loss: 2.0088\n",
      "Epoch 39/100\n",
      "11/11 [==============================] - 0s 4ms/step - loss: 2.0899\n",
      "Epoch 40/100\n",
      "11/11 [==============================] - 0s 4ms/step - loss: 1.8764\n",
      "Epoch 41/100\n",
      "11/11 [==============================] - 0s 4ms/step - loss: 2.1651\n",
      "Epoch 42/100\n",
      "11/11 [==============================] - 0s 4ms/step - loss: 2.2280\n",
      "Epoch 43/100\n",
      "11/11 [==============================] - 0s 5ms/step - loss: 2.0441\n",
      "Epoch 44/100\n",
      "11/11 [==============================] - 0s 5ms/step - loss: 1.7936\n",
      "Epoch 45/100\n",
      "11/11 [==============================] - 0s 4ms/step - loss: 1.5776\n",
      "Epoch 46/100\n",
      "11/11 [==============================] - 0s 4ms/step - loss: 2.0945\n",
      "Epoch 47/100\n",
      "11/11 [==============================] - 0s 4ms/step - loss: 2.1385\n",
      "Epoch 48/100\n",
      "11/11 [==============================] - 0s 4ms/step - loss: 1.4504\n",
      "Epoch 49/100\n",
      "11/11 [==============================] - 0s 4ms/step - loss: 1.7496\n",
      "Epoch 50/100\n",
      "11/11 [==============================] - 0s 4ms/step - loss: 0.9891\n",
      "Epoch 51/100\n",
      "11/11 [==============================] - 0s 4ms/step - loss: 0.8913\n",
      "Epoch 52/100\n",
      "11/11 [==============================] - 0s 4ms/step - loss: 0.8042\n",
      "Epoch 53/100\n",
      "11/11 [==============================] - 0s 5ms/step - loss: 1.7051\n",
      "Epoch 54/100\n",
      "11/11 [==============================] - 0s 4ms/step - loss: 2.0801\n",
      "Epoch 55/100\n",
      "11/11 [==============================] - 0s 4ms/step - loss: 1.1361\n",
      "Epoch 56/100\n",
      "11/11 [==============================] - 0s 4ms/step - loss: 0.6189\n",
      "Epoch 57/100\n",
      "11/11 [==============================] - 0s 4ms/step - loss: 0.8599\n",
      "Epoch 58/100\n",
      "11/11 [==============================] - 0s 4ms/step - loss: 0.5044\n",
      "Epoch 59/100\n",
      "11/11 [==============================] - 0s 4ms/step - loss: 0.7464\n",
      "Epoch 60/100\n",
      "11/11 [==============================] - 0s 4ms/step - loss: 1.2182\n",
      "Epoch 61/100\n",
      "11/11 [==============================] - 0s 4ms/step - loss: 1.1345\n",
      "Epoch 62/100\n",
      "11/11 [==============================] - 0s 4ms/step - loss: 0.8677\n",
      "Epoch 63/100\n",
      "11/11 [==============================] - 0s 4ms/step - loss: 0.7160\n",
      "Epoch 64/100\n",
      "11/11 [==============================] - 0s 4ms/step - loss: 1.0706\n",
      "Epoch 65/100\n",
      "11/11 [==============================] - 0s 4ms/step - loss: 0.9742\n",
      "Epoch 66/100\n",
      "11/11 [==============================] - 0s 4ms/step - loss: 0.4947\n",
      "Epoch 67/100\n",
      "11/11 [==============================] - 0s 4ms/step - loss: 1.0006\n",
      "Epoch 68/100\n",
      "11/11 [==============================] - 0s 4ms/step - loss: 1.0235\n",
      "Epoch 69/100\n",
      "11/11 [==============================] - 0s 4ms/step - loss: 1.2940\n",
      "Epoch 70/100\n",
      "11/11 [==============================] - 0s 4ms/step - loss: 2.0951\n",
      "Epoch 71/100\n",
      "11/11 [==============================] - 0s 4ms/step - loss: 1.1916\n",
      "Epoch 72/100\n",
      "11/11 [==============================] - 0s 4ms/step - loss: 0.9154\n",
      "Epoch 73/100\n",
      "11/11 [==============================] - 0s 4ms/step - loss: 0.5993\n",
      "Epoch 74/100\n",
      "11/11 [==============================] - 0s 4ms/step - loss: 0.6344\n",
      "Epoch 75/100\n",
      "11/11 [==============================] - 0s 4ms/step - loss: 0.8129\n",
      "Epoch 76/100\n",
      "11/11 [==============================] - 0s 4ms/step - loss: 1.2395\n",
      "Epoch 77/100\n",
      "11/11 [==============================] - 0s 4ms/step - loss: 0.8556\n",
      "Epoch 78/100\n",
      "11/11 [==============================] - 0s 4ms/step - loss: 0.6114\n",
      "Epoch 79/100\n",
      "11/11 [==============================] - 0s 4ms/step - loss: 0.4452\n",
      "Epoch 80/100\n",
      "11/11 [==============================] - 0s 4ms/step - loss: 1.0654\n",
      "Epoch 81/100\n",
      "11/11 [==============================] - 0s 4ms/step - loss: 0.8200\n",
      "Epoch 82/100\n",
      "11/11 [==============================] - 0s 4ms/step - loss: 0.5763\n",
      "Epoch 83/100\n",
      "11/11 [==============================] - 0s 4ms/step - loss: 0.4304\n",
      "Epoch 84/100\n",
      "11/11 [==============================] - 0s 4ms/step - loss: 1.5565\n",
      "Epoch 85/100\n",
      "11/11 [==============================] - 0s 4ms/step - loss: 1.0148\n",
      "Epoch 86/100\n",
      "11/11 [==============================] - 0s 4ms/step - loss: 0.4521\n",
      "Epoch 87/100\n",
      "11/11 [==============================] - 0s 4ms/step - loss: 0.5501\n",
      "Epoch 88/100\n",
      "11/11 [==============================] - 0s 4ms/step - loss: 0.3646\n",
      "Epoch 89/100\n",
      "11/11 [==============================] - 0s 4ms/step - loss: 0.5354\n",
      "Epoch 90/100\n",
      "11/11 [==============================] - 0s 4ms/step - loss: 0.8398\n",
      "Epoch 91/100\n",
      "11/11 [==============================] - 0s 4ms/step - loss: 1.6757\n",
      "Epoch 92/100\n",
      "11/11 [==============================] - 0s 4ms/step - loss: 2.0258\n",
      "Epoch 93/100\n",
      "11/11 [==============================] - 0s 4ms/step - loss: 0.5581\n",
      "Epoch 94/100\n",
      "11/11 [==============================] - 0s 4ms/step - loss: 0.6782\n",
      "Epoch 95/100\n",
      "11/11 [==============================] - 0s 4ms/step - loss: 0.6965\n",
      "Epoch 96/100\n",
      "11/11 [==============================] - 0s 4ms/step - loss: 0.7422\n",
      "Epoch 97/100\n",
      "11/11 [==============================] - 0s 4ms/step - loss: 0.5705\n",
      "Epoch 98/100\n",
      "11/11 [==============================] - 0s 4ms/step - loss: 1.7729\n",
      "Epoch 99/100\n",
      "11/11 [==============================] - 0s 4ms/step - loss: 1.5704\n",
      "Epoch 100/100\n",
      "11/11 [==============================] - 0s 4ms/step - loss: 1.8787\n"
     ]
    },
    {
     "data": {
      "text/plain": [
       "<keras.callbacks.History at 0x203d8859970>"
      ]
     },
     "execution_count": 8,
     "metadata": {},
     "output_type": "execute_result"
    }
   ],
   "source": [
    "# 컴파일 훈련\n",
    "model.compile(loss=\"mae\",optimizer=\"adam\")\n",
    "model.fit(x,y,epochs=100,batch_size=1)"
   ]
  },
  {
   "cell_type": "code",
   "execution_count": 9,
   "metadata": {},
   "outputs": [
    {
     "name": "stdout",
     "output_type": "stream",
     "text": [
      "1/1 [==============================] - 0s 377ms/step - loss: 0.6528\n",
      "0.6527840495109558\n"
     ]
    }
   ],
   "source": [
    "loss = model.evaluate(x,y)\n",
    "\n",
    "print(loss)\n",
    "\n"
   ]
  },
  {
   "cell_type": "code",
   "execution_count": 10,
   "metadata": {},
   "outputs": [
    {
     "name": "stdout",
     "output_type": "stream",
     "text": [
      "결과 [[72.53444]]\n"
     ]
    }
   ],
   "source": [
    "test = np.array([[[50],[60],[70]]])\n",
    "result = model.predict(test)\n",
    "print(\"결과\",result)"
   ]
  }
 ],
 "metadata": {
  "kernelspec": {
   "display_name": "tf274gpu",
   "language": "python",
   "name": "python3"
  },
  "language_info": {
   "codemirror_mode": {
    "name": "ipython",
    "version": 3
   },
   "file_extension": ".py",
   "mimetype": "text/x-python",
   "name": "python",
   "nbconvert_exporter": "python",
   "pygments_lexer": "ipython3",
   "version": "3.9.15"
  },
  "orig_nbformat": 4,
  "vscode": {
   "interpreter": {
    "hash": "10848e9bd3f5e7d93542d388001135334854454e7336dcf54c4ef52885ee0fb0"
   }
  }
 },
 "nbformat": 4,
 "nbformat_minor": 2
}
