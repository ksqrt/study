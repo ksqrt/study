{
 "cells": [
  {
   "cell_type": "code",
   "execution_count": 60,
   "metadata": {},
   "outputs": [
    {
     "data": {
      "text/plain": [
       "(100, 2)"
      ]
     },
     "execution_count": 60,
     "metadata": {},
     "output_type": "execute_result"
    }
   ],
   "source": [
    "import numpy as np\n",
    "#  아모레 시가 ,고가\n",
    "x1_datasets = np.array([range(100),range(301,401)]).transpose()\n",
    "x1_datasets.shape # (100,2)"
   ]
  },
  {
   "cell_type": "code",
   "execution_count": 61,
   "metadata": {},
   "outputs": [
    {
     "data": {
      "text/plain": [
       "(100, 3)"
      ]
     },
     "execution_count": 61,
     "metadata": {},
     "output_type": "execute_result"
    }
   ],
   "source": [
    "# 삼성전자의 시가, 고가 ,종가\n",
    "x2_datasets = np.array([range(101,201),range(411,511),range(150,250)]).T\n",
    "\n",
    "x2_datasets.shape # (100,2)"
   ]
  },
  {
   "cell_type": "code",
   "execution_count": 62,
   "metadata": {},
   "outputs": [
    {
     "data": {
      "text/plain": [
       "(100,)"
      ]
     },
     "execution_count": 62,
     "metadata": {},
     "output_type": "execute_result"
    }
   ],
   "source": [
    "# 삼성전자의 하루 뒤 종가\n",
    "y = np.array(range(2001,2101))\n",
    "y.shape"
   ]
  },
  {
   "cell_type": "code",
   "execution_count": 63,
   "metadata": {},
   "outputs": [],
   "source": [
    "from sklearn.model_selection import train_test_split\n",
    "x1_train,x1_test,x2_train,x2_test,y_train,y_test = train_test_split(\n",
    "    x1_datasets,x2_datasets,y,\n",
    "    train_size = 0.7\n",
    ")"
   ]
  },
  {
   "cell_type": "code",
   "execution_count": 64,
   "metadata": {},
   "outputs": [
    {
     "name": "stdout",
     "output_type": "stream",
     "text": [
      "(70, 2) (70, 3) (70,)\n",
      "(30, 2) (30, 3) (30,)\n"
     ]
    }
   ],
   "source": [
    "print(x1_train.shape,x2_train.shape,y_train.shape)\n",
    "\n",
    "print(x1_test.shape,x2_test.shape,y_test.shape)"
   ]
  },
  {
   "cell_type": "code",
   "execution_count": 65,
   "metadata": {},
   "outputs": [],
   "source": [
    "from tensorflow.keras.models import Sequential,Model\n",
    "from tensorflow.keras.layers import Dense,Input\n",
    "\n",
    "# 모델 1\n",
    "input1 = Input(shape=(2,))\n",
    "dense1 = Dense(64,activation=\"relu\",name=\"d1\")(input1)\n",
    "dense2 = Dense(32,activation=\"relu\",name=\"d2\")(dense1)\n",
    "dense3 = Dense(16,activation=\"relu\",name=\"d3\")(dense2)\n",
    "output1 = Dense(8,activation=\"relu\",name=\"d4\")(dense3)\n",
    "\n",
    "# 모델 2\n",
    "input2 = Input(shape=(3,))\n",
    "dense11 = Dense(64,activation=\"relu\",name=\"d11\")(input2)\n",
    "dense12 = Dense(32,activation=\"relu\",name=\"d12\")(dense11)\n",
    "dense13 = Dense(16,activation=\"relu\",name=\"d13\")(dense12)\n",
    "output11 = Dense(8,activation=\"relu\",name=\"d14\")(dense13)\n",
    "\n"
   ]
  },
  {
   "cell_type": "code",
   "execution_count": 66,
   "metadata": {},
   "outputs": [],
   "source": [
    "# 모델 병합\n",
    "from tensorflow.keras.layers import concatenate\n",
    "\n",
    "merge1 = concatenate([output1,output11],name =\"mg1\")\n",
    "merge2 = Dense(4,activation=\"relu\",name=\"mg2\")(merge1)\n",
    "merge3 = Dense(1,name =\"mg3\")(merge2)"
   ]
  },
  {
   "cell_type": "code",
   "execution_count": 67,
   "metadata": {},
   "outputs": [
    {
     "name": "stdout",
     "output_type": "stream",
     "text": [
      "Model: \"model_3\"\n",
      "__________________________________________________________________________________________________\n",
      " Layer (type)                   Output Shape         Param #     Connected to                     \n",
      "==================================================================================================\n",
      " input_9 (InputLayer)           [(None, 2)]          0           []                               \n",
      "                                                                                                  \n",
      " input_10 (InputLayer)          [(None, 3)]          0           []                               \n",
      "                                                                                                  \n",
      " d1 (Dense)                     (None, 64)           192         ['input_9[0][0]']                \n",
      "                                                                                                  \n",
      " d11 (Dense)                    (None, 64)           256         ['input_10[0][0]']               \n",
      "                                                                                                  \n",
      " d2 (Dense)                     (None, 32)           2080        ['d1[0][0]']                     \n",
      "                                                                                                  \n",
      " d12 (Dense)                    (None, 32)           2080        ['d11[0][0]']                    \n",
      "                                                                                                  \n",
      " d3 (Dense)                     (None, 16)           528         ['d2[0][0]']                     \n",
      "                                                                                                  \n",
      " d13 (Dense)                    (None, 16)           528         ['d12[0][0]']                    \n",
      "                                                                                                  \n",
      " d4 (Dense)                     (None, 8)            136         ['d3[0][0]']                     \n",
      "                                                                                                  \n",
      " d14 (Dense)                    (None, 8)            136         ['d13[0][0]']                    \n",
      "                                                                                                  \n",
      " mg1 (Concatenate)              (None, 16)           0           ['d4[0][0]',                     \n",
      "                                                                  'd14[0][0]']                    \n",
      "                                                                                                  \n",
      " mg2 (Dense)                    (None, 4)            68          ['mg1[0][0]']                    \n",
      "                                                                                                  \n",
      " mg3 (Dense)                    (None, 1)            5           ['mg2[0][0]']                    \n",
      "                                                                                                  \n",
      "==================================================================================================\n",
      "Total params: 6,009\n",
      "Trainable params: 6,009\n",
      "Non-trainable params: 0\n",
      "__________________________________________________________________________________________________\n"
     ]
    }
   ],
   "source": [
    "model = Model(inputs=[input1,input2],outputs=merge3)\n",
    "model.summary()"
   ]
  },
  {
   "cell_type": "code",
   "execution_count": 68,
   "metadata": {},
   "outputs": [
    {
     "name": "stdout",
     "output_type": "stream",
     "text": [
      "Epoch 1/100\n",
      "9/9 [==============================] - 0s 5ms/step - loss: 3909379.2500\n",
      "Epoch 2/100\n",
      "9/9 [==============================] - 0s 6ms/step - loss: 3658544.7500\n",
      "Epoch 3/100\n",
      "9/9 [==============================] - 0s 6ms/step - loss: 3311685.2500\n",
      "Epoch 4/100\n",
      "9/9 [==============================] - 0s 6ms/step - loss: 2804400.0000\n",
      "Epoch 5/100\n",
      "9/9 [==============================] - 0s 5ms/step - loss: 2153076.0000\n",
      "Epoch 6/100\n",
      "9/9 [==============================] - 0s 5ms/step - loss: 1398237.2500\n",
      "Epoch 7/100\n",
      "9/9 [==============================] - 0s 4ms/step - loss: 644616.9375\n",
      "Epoch 8/100\n",
      "9/9 [==============================] - 0s 5ms/step - loss: 143726.3750\n",
      "Epoch 9/100\n",
      "9/9 [==============================] - 0s 4ms/step - loss: 37578.8711\n",
      "Epoch 10/100\n",
      "9/9 [==============================] - 0s 5ms/step - loss: 57100.6523\n",
      "Epoch 11/100\n",
      "9/9 [==============================] - 0s 5ms/step - loss: 31325.9961\n",
      "Epoch 12/100\n",
      "9/9 [==============================] - 0s 4ms/step - loss: 27483.2285\n",
      "Epoch 13/100\n",
      "9/9 [==============================] - 0s 5ms/step - loss: 27623.0469\n",
      "Epoch 14/100\n",
      "9/9 [==============================] - 0s 5ms/step - loss: 24727.3145\n",
      "Epoch 15/100\n",
      "9/9 [==============================] - 0s 5ms/step - loss: 24943.7129\n",
      "Epoch 16/100\n",
      "9/9 [==============================] - 0s 4ms/step - loss: 24515.4141\n",
      "Epoch 17/100\n",
      "9/9 [==============================] - 0s 4ms/step - loss: 23996.2383\n",
      "Epoch 18/100\n",
      "9/9 [==============================] - 0s 4ms/step - loss: 23955.9551\n",
      "Epoch 19/100\n",
      "9/9 [==============================] - 0s 4ms/step - loss: 23438.4277\n",
      "Epoch 20/100\n",
      "9/9 [==============================] - 0s 4ms/step - loss: 23367.6367\n",
      "Epoch 21/100\n",
      "9/9 [==============================] - 0s 4ms/step - loss: 22717.5605\n",
      "Epoch 22/100\n",
      "9/9 [==============================] - 0s 5ms/step - loss: 22286.3047\n",
      "Epoch 23/100\n",
      "9/9 [==============================] - 0s 4ms/step - loss: 21903.5020\n",
      "Epoch 24/100\n",
      "9/9 [==============================] - 0s 8ms/step - loss: 21769.8555\n",
      "Epoch 25/100\n",
      "9/9 [==============================] - 0s 5ms/step - loss: 21271.8164\n",
      "Epoch 26/100\n",
      "9/9 [==============================] - 0s 5ms/step - loss: 21353.4453\n",
      "Epoch 27/100\n",
      "9/9 [==============================] - 0s 4ms/step - loss: 20770.3379\n",
      "Epoch 28/100\n",
      "9/9 [==============================] - 0s 4ms/step - loss: 19949.9219\n",
      "Epoch 29/100\n",
      "9/9 [==============================] - 0s 4ms/step - loss: 19629.9785\n",
      "Epoch 30/100\n",
      "9/9 [==============================] - 0s 5ms/step - loss: 18986.7344\n",
      "Epoch 31/100\n",
      "9/9 [==============================] - 0s 4ms/step - loss: 18562.5137\n",
      "Epoch 32/100\n",
      "9/9 [==============================] - 0s 4ms/step - loss: 18042.0488\n",
      "Epoch 33/100\n",
      "9/9 [==============================] - 0s 5ms/step - loss: 17584.5547\n",
      "Epoch 34/100\n",
      "9/9 [==============================] - 0s 4ms/step - loss: 17121.5938\n",
      "Epoch 35/100\n",
      "9/9 [==============================] - 0s 5ms/step - loss: 16741.2637\n",
      "Epoch 36/100\n",
      "9/9 [==============================] - 0s 5ms/step - loss: 15966.4199\n",
      "Epoch 37/100\n",
      "9/9 [==============================] - 0s 5ms/step - loss: 15478.4160\n",
      "Epoch 38/100\n",
      "9/9 [==============================] - 0s 5ms/step - loss: 14994.8213\n",
      "Epoch 39/100\n",
      "9/9 [==============================] - 0s 5ms/step - loss: 14347.2070\n",
      "Epoch 40/100\n",
      "9/9 [==============================] - 0s 5ms/step - loss: 13819.6553\n",
      "Epoch 41/100\n",
      "9/9 [==============================] - 0s 5ms/step - loss: 13466.2383\n",
      "Epoch 42/100\n",
      "9/9 [==============================] - 0s 5ms/step - loss: 12774.7695\n",
      "Epoch 43/100\n",
      "9/9 [==============================] - 0s 4ms/step - loss: 12612.6543\n",
      "Epoch 44/100\n",
      "9/9 [==============================] - 0s 4ms/step - loss: 11654.3672\n",
      "Epoch 45/100\n",
      "9/9 [==============================] - 0s 4ms/step - loss: 11184.1230\n",
      "Epoch 46/100\n",
      "9/9 [==============================] - 0s 4ms/step - loss: 10658.7822\n",
      "Epoch 47/100\n",
      "9/9 [==============================] - 0s 4ms/step - loss: 10114.4043\n",
      "Epoch 48/100\n",
      "9/9 [==============================] - 0s 4ms/step - loss: 9435.7998\n",
      "Epoch 49/100\n",
      "9/9 [==============================] - 0s 4ms/step - loss: 9092.6631\n",
      "Epoch 50/100\n",
      "9/9 [==============================] - 0s 4ms/step - loss: 8422.6602\n",
      "Epoch 51/100\n",
      "9/9 [==============================] - 0s 4ms/step - loss: 7948.4956\n",
      "Epoch 52/100\n",
      "9/9 [==============================] - 0s 4ms/step - loss: 7522.9678\n",
      "Epoch 53/100\n",
      "9/9 [==============================] - 0s 4ms/step - loss: 6923.1875\n",
      "Epoch 54/100\n",
      "9/9 [==============================] - 0s 4ms/step - loss: 6343.6699\n",
      "Epoch 55/100\n",
      "9/9 [==============================] - 0s 4ms/step - loss: 6044.8691\n",
      "Epoch 56/100\n",
      "9/9 [==============================] - 0s 4ms/step - loss: 5580.8970\n",
      "Epoch 57/100\n",
      "9/9 [==============================] - 0s 4ms/step - loss: 5018.3574\n",
      "Epoch 58/100\n",
      "9/9 [==============================] - 0s 4ms/step - loss: 4786.5220\n",
      "Epoch 59/100\n",
      "9/9 [==============================] - 0s 5ms/step - loss: 4078.9392\n",
      "Epoch 60/100\n",
      "9/9 [==============================] - 0s 4ms/step - loss: 3750.8787\n",
      "Epoch 61/100\n",
      "9/9 [==============================] - 0s 4ms/step - loss: 3442.8708\n",
      "Epoch 62/100\n",
      "9/9 [==============================] - 0s 5ms/step - loss: 2972.3523\n",
      "Epoch 63/100\n",
      "9/9 [==============================] - 0s 4ms/step - loss: 2638.2554\n",
      "Epoch 64/100\n",
      "9/9 [==============================] - 0s 4ms/step - loss: 2344.2092\n",
      "Epoch 65/100\n",
      "9/9 [==============================] - 0s 4ms/step - loss: 2022.9734\n",
      "Epoch 66/100\n",
      "9/9 [==============================] - 0s 5ms/step - loss: 1778.3645\n",
      "Epoch 67/100\n",
      "9/9 [==============================] - 0s 4ms/step - loss: 1525.3672\n",
      "Epoch 68/100\n",
      "9/9 [==============================] - 0s 4ms/step - loss: 1335.0098\n",
      "Epoch 69/100\n",
      "9/9 [==============================] - 0s 4ms/step - loss: 1123.8025\n",
      "Epoch 70/100\n",
      "9/9 [==============================] - 0s 4ms/step - loss: 985.6133\n",
      "Epoch 71/100\n",
      "9/9 [==============================] - 0s 4ms/step - loss: 797.3780\n",
      "Epoch 72/100\n",
      "9/9 [==============================] - 0s 4ms/step - loss: 666.7679\n",
      "Epoch 73/100\n",
      "9/9 [==============================] - 0s 4ms/step - loss: 552.4904\n",
      "Epoch 74/100\n",
      "9/9 [==============================] - 0s 6ms/step - loss: 483.4892\n",
      "Epoch 75/100\n",
      "9/9 [==============================] - 0s 4ms/step - loss: 401.1176\n",
      "Epoch 76/100\n",
      "9/9 [==============================] - 0s 5ms/step - loss: 296.8802\n",
      "Epoch 77/100\n",
      "9/9 [==============================] - 0s 4ms/step - loss: 257.4839\n",
      "Epoch 78/100\n",
      "9/9 [==============================] - 0s 4ms/step - loss: 196.8776\n",
      "Epoch 79/100\n",
      "9/9 [==============================] - 0s 5ms/step - loss: 158.9367\n",
      "Epoch 80/100\n",
      "9/9 [==============================] - 0s 3ms/step - loss: 126.7582\n",
      "Epoch 81/100\n",
      "9/9 [==============================] - 0s 4ms/step - loss: 109.1092\n",
      "Epoch 82/100\n",
      "9/9 [==============================] - 0s 5ms/step - loss: 82.2755\n",
      "Epoch 83/100\n",
      "9/9 [==============================] - 0s 5ms/step - loss: 64.5751\n",
      "Epoch 84/100\n",
      "9/9 [==============================] - 0s 4ms/step - loss: 53.5933\n",
      "Epoch 85/100\n",
      "9/9 [==============================] - 0s 5ms/step - loss: 42.2199\n",
      "Epoch 86/100\n",
      "9/9 [==============================] - 0s 5ms/step - loss: 31.3907\n",
      "Epoch 87/100\n",
      "9/9 [==============================] - 0s 4ms/step - loss: 24.1220\n",
      "Epoch 88/100\n",
      "9/9 [==============================] - 0s 4ms/step - loss: 22.5711\n",
      "Epoch 89/100\n",
      "9/9 [==============================] - 0s 5ms/step - loss: 17.0775\n",
      "Epoch 90/100\n",
      "9/9 [==============================] - 0s 4ms/step - loss: 12.7956\n",
      "Epoch 91/100\n",
      "9/9 [==============================] - 0s 4ms/step - loss: 10.7527\n",
      "Epoch 92/100\n",
      "9/9 [==============================] - 0s 4ms/step - loss: 9.0983\n",
      "Epoch 93/100\n",
      "9/9 [==============================] - 0s 4ms/step - loss: 7.2578\n",
      "Epoch 94/100\n",
      "9/9 [==============================] - 0s 5ms/step - loss: 6.4759\n",
      "Epoch 95/100\n",
      "9/9 [==============================] - 0s 4ms/step - loss: 5.2329\n",
      "Epoch 96/100\n",
      "9/9 [==============================] - 0s 4ms/step - loss: 4.7384\n",
      "Epoch 97/100\n",
      "9/9 [==============================] - 0s 4ms/step - loss: 4.1816\n",
      "Epoch 98/100\n",
      "9/9 [==============================] - 0s 5ms/step - loss: 3.6141\n",
      "Epoch 99/100\n",
      "9/9 [==============================] - 0s 5ms/step - loss: 3.3529\n",
      "Epoch 100/100\n",
      "9/9 [==============================] - 0s 4ms/step - loss: 2.8201\n"
     ]
    },
    {
     "data": {
      "text/plain": [
       "<keras.callbacks.History at 0x258e1d1afa0>"
      ]
     },
     "execution_count": 68,
     "metadata": {},
     "output_type": "execute_result"
    }
   ],
   "source": [
    "# 3. 컴파일 훈련\n",
    "model.compile(loss=\"mse\",optimizer=\"adam\")\n",
    "model.fit([x1_train,x2_train],y_train,epochs =200 ,batch_size=8)"
   ]
  },
  {
   "cell_type": "code",
   "execution_count": 69,
   "metadata": {},
   "outputs": [
    {
     "name": "stdout",
     "output_type": "stream",
     "text": [
      "1/1 [==============================] - 0s 96ms/step - loss: 1.2541\n",
      "1.2540926933288574\n"
     ]
    }
   ],
   "source": [
    "# 모델예측\n",
    "loss = model.evaluate([x1_test,x2_test],y_test)\n",
    "\n",
    "print(loss)"
   ]
  }
 ],
 "metadata": {
  "kernelspec": {
   "display_name": "tf274gpu",
   "language": "python",
   "name": "python3"
  },
  "language_info": {
   "codemirror_mode": {
    "name": "ipython",
    "version": 3
   },
   "file_extension": ".py",
   "mimetype": "text/x-python",
   "name": "python",
   "nbconvert_exporter": "python",
   "pygments_lexer": "ipython3",
   "version": "3.9.15"
  },
  "orig_nbformat": 4,
  "vscode": {
   "interpreter": {
    "hash": "10848e9bd3f5e7d93542d388001135334854454e7336dcf54c4ef52885ee0fb0"
   }
  }
 },
 "nbformat": 4,
 "nbformat_minor": 2
}
